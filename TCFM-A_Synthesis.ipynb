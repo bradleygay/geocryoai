{
 "cells": [
  {
   "cell_type": "markdown",
   "metadata": {
    "tags": []
   },
   "source": [
    "## Title: Dissertation Codebase | _GeoCryoAI Notebook_\n",
    "#### Submodule: Testing HDF5/NetCDF4 Files (TCFM-Arctic Synthesis)\n",
    "##### Author: Bradley A. Gay\n",
    "##### Date: 01/20/2023 (Updated: 03/17/2023)"
   ]
  },
  {
   "cell_type": "markdown",
   "metadata": {
    "jp-MarkdownHeadingCollapsed": true,
    "tags": []
   },
   "source": [
    "## Load Libraries"
   ]
  },
  {
   "cell_type": "code",
   "execution_count": 5,
   "metadata": {},
   "outputs": [],
   "source": [
    "import sys, warnings, intake\n",
    "\n",
    "import glob\n",
    "import numpy as np\n",
    "import datetime\n",
    "from dateutil.rrule import DAILY,rrule\n",
    "from time import gmtime, strftime \n",
    "\n",
    "#import matplotlib as mpl\n",
    "import matplotlib.pyplot as plt\n",
    "#import matplotlib.colors as col\n",
    "#import matplotlib.cm as cm\n",
    "\n",
    "import xarray as xr\n",
    "\n",
    "import warnings\n",
    "warnings.filterwarnings(\"ignore\", category=RuntimeWarning)\n",
    "\n",
    "import os\n",
    "from netCDF4 import Dataset\n",
    "import h5py\n",
    "os.environ['HDF5_USE_FILE_LOCKING']='FALSE'\n",
    "\n",
    "##########If error thrown, Just run cell again!"
   ]
  },
  {
   "cell_type": "markdown",
   "metadata": {
    "jp-MarkdownHeadingCollapsed": true,
    "tags": []
   },
   "source": [
    "## Load files"
   ]
  },
  {
   "cell_type": "code",
   "execution_count": null,
   "metadata": {},
   "outputs": [],
   "source": [
    "# CO2 (NEE)\n",
    "# files=glob.glob(\"/Volumes/africanswallow/data/model/reanalysis/ABoVE_CO2_CH4_Flux_Estimates/data/ch4/CH4_2003*.nc4\")\n",
    "# files=glob.glob(\"/Volumes/africanswallow/data/model/reanalysis/ABoVE_CO2_CH4_Flux_Estimates/data/ch4/CH4_2004*.nc4\")\n",
    "# files=glob.glob(\"/Volumes/africanswallow/data/model/reanalysis/ABoVE_CO2_CH4_Flux_Estimates/data/ch4/CH4_2005*.nc4\")\n",
    "# files=glob.glob(\"/Volumes/africanswallow/data/model/reanalysis/ABoVE_CO2_CH4_Flux_Estimates/data/ch4/CH4_2006*.nc4\")\n",
    "# files=glob.glob(\"/Volumes/africanswallow/data/model/reanalysis/ABoVE_CO2_CH4_Flux_Estimates/data/ch4/CH4_2007*.nc4\")\n",
    "# files=glob.glob(\"/Volumes/africanswallow/data/model/reanalysis/ABoVE_CO2_CH4_Flux_Estimates/data/ch4/CH4_2008*.nc4\")\n",
    "# files=glob.glob(\"/Volumes/africanswallow/data/model/reanalysis/ABoVE_CO2_CH4_Flux_Estimates/data/ch4/CH4_2009*.nc4\")\n",
    "# files=glob.glob(\"/Volumes/africanswallow/data/model/reanalysis/ABoVE_CO2_CH4_Flux_Estimates/data/ch4/CH4_2010*.nc4\")\n",
    "# files=glob.glob(\"/Volumes/africanswallow/data/model/reanalysis/ABoVE_CO2_CH4_Flux_Estimates/data/ch4/CH4_2011*.nc4\")\n",
    "# files=glob.glob(\"/Volumes/africanswallow/data/model/reanalysis/ABoVE_CO2_CH4_Flux_Estimates/data/ch4/CH4_2012*.nc4\")\n",
    "# files=glob.glob(\"/Volumes/africanswallow/data/model/reanalysis/ABoVE_CO2_CH4_Flux_Estimates/data/ch4/CH4_2013*.nc4\")\n",
    "# files=glob.glob(\"/Volumes/africanswallow/data/model/reanalysis/ABoVE_CO2_CH4_Flux_Estimates/data/ch4/CH4_2014*.nc4\")\n",
    "# files=glob.glob(\"/Volumes/africanswallow/data/model/reanalysis/ABoVE_CO2_CH4_Flux_Estimates/data/ch4/CH4_2015*.nc4\")\n",
    "\n",
    "# CH4\n",
    "# files=glob.glob(\"/Volumes/mambo5/modeling/ABoVE_CO2_CH4_Flux_Estimates/NEE_2003*.nc4\")\n",
    "# files=glob.glob(\"/Volumes/mambo5/modeling/ABoVE_CO2_CH4_Flux_Estimates/NEE_2004*.nc4\")\n",
    "# files=glob.glob(\"/Volumes/mambo5/modeling/ABoVE_CO2_CH4_Flux_Estimates/NEE_2005*.nc4\")\n",
    "# files=glob.glob(\"/Volumes/mambo5/modeling/ABoVE_CO2_CH4_Flux_Estimates/NEE_2006*.nc4\")\n",
    "# files=glob.glob(\"/Volumes/mambo5/modeling/ABoVE_CO2_CH4_Flux_Estimates/NEE_2007*.nc4\")\n",
    "# files=glob.glob(\"/Volumes/mambo5/modeling/ABoVE_CO2_CH4_Flux_Estimates/NEE_2008*.nc4\")\n",
    "# files=glob.glob(\"/Volumes/mambo5/modeling/ABoVE_CO2_CH4_Flux_Estimates/NEE_2009*.nc4\")\n",
    "# files=glob.glob(\"/Volumes/mambo5/modeling/ABoVE_CO2_CH4_Flux_Estimates/NEE_2010*.nc4\")\n",
    "# files=glob.glob(\"/Volumes/mambo5/modeling/ABoVE_CO2_CH4_Flux_Estimates/NEE_2011*.nc4\")\n",
    "# files=glob.glob(\"/Volumes/mambo5/modeling/ABoVE_CO2_CH4_Flux_Estimates/NEE_2012*.nc4\")\n",
    "# files=glob.glob(\"/Volumes/mambo5/modeling/ABoVE_CO2_CH4_Flux_Estimates/NEE_2013*.nc4\")\n",
    "# files=glob.glob(\"/Volumes/mambo5/modeling/ABoVE_CO2_CH4_Flux_Estimates/NEE_2014*.nc4\")\n",
    "# files=glob.glob(\"/Volumes/mambo5/modeling/ABoVE_CO2_CH4_Flux_Estimates/NEE_2015*.nc4\")"
   ]
  },
  {
   "cell_type": "code",
   "execution_count": null,
   "metadata": {},
   "outputs": [],
   "source": [
    "files.sort()"
   ]
  },
  {
   "cell_type": "code",
   "execution_count": null,
   "metadata": {
    "tags": []
   },
   "outputs": [],
   "source": [
    "files"
   ]
  },
  {
   "cell_type": "markdown",
   "metadata": {
    "jp-MarkdownHeadingCollapsed": true,
    "tags": []
   },
   "source": [
    "### Archive"
   ]
  },
  {
   "cell_type": "markdown",
   "metadata": {
    "jp-MarkdownHeadingCollapsed": true,
    "tags": []
   },
   "source": [
    "#### First method: concat_dim='interval'"
   ]
  },
  {
   "cell_type": "code",
   "execution_count": null,
   "metadata": {},
   "outputs": [],
   "source": [
    "file_path_name = \"/Volumes/africanswallow/data/model/reanalysis/ABoVE_CO2_CH4_Flux_Estimates/data/*.nc4\"\n",
    "source = xr.open_mfdataset(file_path_name,combine='nested',concat_dim='interval',decode_times=False)\n",
    "source\n",
    "#src = intake.open_netcdf(file_path_name,concat_dim='time',xarray_kwargs={'combine':'nested'})\n",
    "#src.yaml()"
   ]
  },
  {
   "cell_type": "code",
   "execution_count": null,
   "metadata": {},
   "outputs": [],
   "source": [
    "source.CH4[:,:]"
   ]
  },
  {
   "cell_type": "markdown",
   "metadata": {
    "jp-MarkdownHeadingCollapsed": true,
    "tags": []
   },
   "source": [
    "#### Second method: (compat='override')"
   ]
  },
  {
   "cell_type": "code",
   "execution_count": null,
   "metadata": {
    "tags": []
   },
   "outputs": [],
   "source": [
    "#ds = xr.open_mfdataset(files, combine='nested', compat='override',decode_times=True, parallel=True)"
   ]
  },
  {
   "cell_type": "code",
   "execution_count": null,
   "metadata": {
    "tags": []
   },
   "outputs": [],
   "source": [
    "#ds.NEE"
   ]
  },
  {
   "cell_type": "code",
   "execution_count": null,
   "metadata": {
    "tags": []
   },
   "outputs": [],
   "source": [
    "# dic={'2003': (0,365), '2004': [365:365+365], '2005': [365+365:365+365+365], '2006': [366+365+365:365+365+365+365], '2007': [366+365+365+365:365+365+365+365+365], \n",
    "#  '2008': [366+365+365+365+365:365+365+365+365+365+365], '2009': [366+365+365+365+365+365:365+365+365+365+365+365+365], '2010': [366+365+365+365+365+365+365:365+365+365+365+365+365+365+365], \n",
    "#  '2011': [366+365+365+365+365+365+365+365:365+365+365+365+365+365+365+365+365], '2012': [366+365+365+365+365+365+365+365+365:365+365+365+365+365+365+365+365+365+365], \n",
    "#  '2013': [366+365+365+365+365+365+365+365+365+365:365+365+365+365+365+365+365+365+365+365+365], '2014': [366+365+365+365+365+365+365+365+365+365+365:365+365+365+365+365+365+365+365+365+365+365+365], \n",
    "#  '2015': [366+365+365+365+365+365+365+365+365+365+365+365:365+365+365+365+365+365+365+365+365+365+365+365+365]}"
   ]
  },
  {
   "cell_type": "markdown",
   "metadata": {
    "jp-MarkdownHeadingCollapsed": true,
    "tags": []
   },
   "source": [
    "## Combine By Coordinates"
   ]
  },
  {
   "cell_type": "code",
   "execution_count": null,
   "metadata": {
    "tags": []
   },
   "outputs": [],
   "source": [
    "ds = xr.open_mfdataset(files,combine='by_coords',parallel=True, chunks={\"time\": 13}, engine='netcdf4')"
   ]
  },
  {
   "cell_type": "code",
   "execution_count": null,
   "metadata": {
    "tags": []
   },
   "outputs": [],
   "source": [
    "ds"
   ]
  },
  {
   "cell_type": "code",
   "execution_count": null,
   "metadata": {
    "jupyter": {
     "source_hidden": true
    },
    "tags": []
   },
   "outputs": [],
   "source": [
    "# ds = intake.open_netcdf(files,concat_dim='time',xarray_kwargs={'combine':'nested'})\n",
    "# ds.yaml()"
   ]
  },
  {
   "cell_type": "code",
   "execution_count": null,
   "metadata": {
    "jupyter": {
     "source_hidden": true
    },
    "tags": []
   },
   "outputs": [],
   "source": [
    "#ds=xr.open_mfdataset(files, concat_dim=\"time\", combine='nested')\n",
    "#xr.open_mfdataset(files, data_vars=[\"CH4\"], concat_dim=\"time\", combine='nested')"
   ]
  },
  {
   "cell_type": "code",
   "execution_count": null,
   "metadata": {
    "jupyter": {
     "source_hidden": true
    },
    "tags": []
   },
   "outputs": [],
   "source": [
    "#lon_bnds, lat_bnds = (float(source.CH4.x.min()),float(source.CH4.x.max())), (float(source.CH4.y.min()), float(source.CH4.y.max()))"
   ]
  },
  {
   "cell_type": "code",
   "execution_count": null,
   "metadata": {},
   "outputs": [],
   "source": [
    "ds.NEE.chunk()\n",
    "#ds.CH4.chunk()"
   ]
  },
  {
   "cell_type": "code",
   "execution_count": null,
   "metadata": {},
   "outputs": [],
   "source": [
    "from ease_lonlat import EASE2GRID, SUPPORTED_GRIDS\n",
    "\n",
    "# define new grid by yourself\n",
    "grid = EASE2GRID(name='EASE2_G1km', epsg=3410, x_min=-17333904.0, y_max=7361460.5, res=1000.90, n_cols=34668, n_rows=1782)\n",
    "\n",
    "# or using parameters taken from NSIDC and kept in SUPPORTED_GRIDS\n",
    "#grid = EASE2GRID(name='EASE2_G1km', **SUPPORTED_GRIDS['EASE2_G1km'])"
   ]
  },
  {
   "cell_type": "code",
   "execution_count": null,
   "metadata": {},
   "outputs": [],
   "source": [
    "grid.epsg, grid.x_min, grid.y_max, grid.res, grid.n_cols, grid.n_rows"
   ]
  },
  {
   "cell_type": "code",
   "execution_count": null,
   "metadata": {},
   "outputs": [],
   "source": [
    "#grid.rc2lonlat(col=3759,row=334)"
   ]
  },
  {
   "cell_type": "code",
   "execution_count": null,
   "metadata": {},
   "outputs": [],
   "source": [
    "# convert longitude and latitude to row and col indices\n",
    "point_lon_w = -169.0\n",
    "point_lat_s = 54.0\n",
    "point_lon_e = -141.0\n",
    "point_lat_n = 72.0\n",
    "\n",
    "# row should be 48, col should be 528\n",
    "col_w, row_s = grid.lonlat2rc(lon=point_lon_w, lat=point_lat_s)\n",
    "col_e, row_n = grid.lonlat2rc(lon=point_lon_e, lat=point_lat_n)\n",
    "\n",
    "# get lon, lat of the center of the pixel\n",
    "pixel_center_lon_w, pixel_center_lat_s = grid.rc2lonlat(col=col_w, row=row_s)\n",
    "pixel_center_lon_e, pixel_center_lat_n = grid.rc2lonlat(col=col_e, row=row_n)"
   ]
  },
  {
   "cell_type": "code",
   "execution_count": null,
   "metadata": {},
   "outputs": [],
   "source": [
    "#WS\n",
    "col_w, row_s, pixel_center_lon_w, pixel_center_lat_s"
   ]
  },
  {
   "cell_type": "code",
   "execution_count": null,
   "metadata": {},
   "outputs": [],
   "source": [
    "#EN\n",
    "col_e, row_n, pixel_center_lon_e, pixel_center_lat_n"
   ]
  },
  {
   "cell_type": "code",
   "execution_count": null,
   "metadata": {},
   "outputs": [],
   "source": [
    "lon_bnds, lat_bnds = (col_w, col_e), (row_s, row_n)\n",
    "print(lon_bnds, lat_bnds)"
   ]
  },
  {
   "cell_type": "code",
   "execution_count": null,
   "metadata": {
    "tags": []
   },
   "outputs": [],
   "source": [
    "grid.rc2lonlat(440,1782)\n",
    "#2801"
   ]
  },
  {
   "cell_type": "code",
   "execution_count": null,
   "metadata": {
    "jupyter": {
     "source_hidden": true
    },
    "tags": []
   },
   "outputs": [],
   "source": [
    "#source.CH4.x[433:3234]\n",
    "#source.CH4.y[:,:]"
   ]
  },
  {
   "cell_type": "code",
   "execution_count": null,
   "metadata": {
    "jupyter": {
     "source_hidden": true
    },
    "tags": []
   },
   "outputs": [],
   "source": [
    "#ds.CH4[0:365,:,440:3240]"
   ]
  },
  {
   "cell_type": "code",
   "execution_count": null,
   "metadata": {
    "jupyter": {
     "source_hidden": true
    },
    "tags": []
   },
   "outputs": [],
   "source": [
    "#grid.rc2lonlat(1782,440)\n",
    "#2801"
   ]
  },
  {
   "cell_type": "code",
   "execution_count": null,
   "metadata": {},
   "outputs": [],
   "source": [
    "ds.coords"
   ]
  },
  {
   "cell_type": "code",
   "execution_count": null,
   "metadata": {
    "jupyter": {
     "source_hidden": true
    },
    "tags": []
   },
   "outputs": [],
   "source": [
    "import pyproj\n",
    "source_crs = 'epsg:3410' # Coordinate system of the file\n",
    "target_crs = 'epsg:4326' # Global lat-lon coordinate system\n",
    "\n",
    "polar_to_latlon = pyproj.Transformer.from_crs(source_crs, target_crs)"
   ]
  },
  {
   "cell_type": "code",
   "execution_count": null,
   "metadata": {},
   "outputs": [],
   "source": [
    "#ex=ds.CH4[0,160:1759,430:3335]"
   ]
  },
  {
   "cell_type": "code",
   "execution_count": null,
   "metadata": {
    "jupyter": {
     "source_hidden": true
    },
    "tags": []
   },
   "outputs": [],
   "source": [
    "lat, lon = polar_to_latlon.transform(ex.x, ex.y)\n",
    "plt.plot(lon, lat)"
   ]
  },
  {
   "cell_type": "code",
   "execution_count": null,
   "metadata": {},
   "outputs": [],
   "source": [
    "#subset=ds.NEE[:,lat_bnds[1]:lat_bnds[0],lon_bnds[0]:lon_bnds[1]]"
   ]
  },
  {
   "cell_type": "code",
   "execution_count": null,
   "metadata": {
    "tags": []
   },
   "outputs": [],
   "source": [
    "subset=ds.NEE[:,60:1759,430:3335]\n",
    "#subset=ds.CH4[:,60:1759,430:3335]"
   ]
  },
  {
   "cell_type": "code",
   "execution_count": null,
   "metadata": {},
   "outputs": [],
   "source": [
    "subset"
   ]
  },
  {
   "cell_type": "code",
   "execution_count": null,
   "metadata": {
    "jupyter": {
     "source_hidden": true
    },
    "tags": []
   },
   "outputs": [],
   "source": [
    "#arr=subset.chunk()[6]"
   ]
  },
  {
   "cell_type": "code",
   "execution_count": null,
   "metadata": {
    "jupyter": {
     "source_hidden": true
    },
    "tags": []
   },
   "outputs": [],
   "source": [
    "#365*8\n",
    "#365+365+365+365+365+365+365"
   ]
  },
  {
   "cell_type": "code",
   "execution_count": null,
   "metadata": {
    "jupyter": {
     "source_hidden": true
    },
    "tags": []
   },
   "outputs": [],
   "source": [
    "# 2190:2460 BAD\n",
    "# 2190:2455 BAD\n",
    "# 2190:2450 GOOD\n",
    "# 2190:2451 GOOD\n",
    "# 2190:2452 GOOD\n",
    "# 2190:2453 GOOD\n",
    "# 2190:2454 GOOD"
   ]
  },
  {
   "cell_type": "code",
   "execution_count": null,
   "metadata": {
    "jupyter": {
     "source_hidden": true
    },
    "tags": []
   },
   "outputs": [],
   "source": [
    "x=subset[2191:2554].compute()"
   ]
  },
  {
   "cell_type": "code",
   "execution_count": null,
   "metadata": {
    "jupyter": {
     "source_hidden": true
    },
    "tags": []
   },
   "outputs": [],
   "source": [
    "x.to_netcdf('CO2_AK_2003.nc', engine='netcdf4')"
   ]
  },
  {
   "cell_type": "code",
   "execution_count": null,
   "metadata": {
    "jupyter": {
     "source_hidden": true
    },
    "tags": []
   },
   "outputs": [],
   "source": [
    "subset[-1]"
   ]
  },
  {
   "cell_type": "code",
   "execution_count": null,
   "metadata": {
    "jupyter": {
     "source_hidden": true
    },
    "tags": []
   },
   "outputs": [],
   "source": [
    "subset[2191:2555].compute()#:2555].compute()"
   ]
  },
  {
   "cell_type": "code",
   "execution_count": null,
   "metadata": {
    "jupyter": {
     "source_hidden": true
    },
    "tags": []
   },
   "outputs": [],
   "source": [
    "#subset[2460] 9/28/2009\n",
    "#subset[2455] 9/23/2009\n",
    "#subset"
   ]
  },
  {
   "cell_type": "markdown",
   "metadata": {
    "jp-MarkdownHeadingCollapsed": true,
    "tags": []
   },
   "source": [
    "#### Archive"
   ]
  },
  {
   "cell_type": "code",
   "execution_count": null,
   "metadata": {
    "jupyter": {
     "source_hidden": true
    },
    "tags": []
   },
   "outputs": [],
   "source": [
    "subset[2455:2460].compute() #2009 is messed up"
   ]
  },
  {
   "cell_type": "code",
   "execution_count": null,
   "metadata": {
    "jupyter": {
     "source_hidden": true
    },
    "tags": []
   },
   "outputs": [],
   "source": [
    "subset.chunk()[364].compute().to_netcdf('CO2_AK_2003.nc', engine='netcdf4')"
   ]
  },
  {
   "cell_type": "code",
   "execution_count": null,
   "metadata": {
    "jupyter": {
     "source_hidden": true
    },
    "tags": []
   },
   "outputs": [],
   "source": [
    "for i in range(0,13):\n",
    "    subset.chunk()[i].compute().to_netcdf(f'CH4_AK_{i}.nc', engine='netcdf4')"
   ]
  },
  {
   "cell_type": "code",
   "execution_count": null,
   "metadata": {
    "jupyter": {
     "source_hidden": true
    },
    "tags": []
   },
   "outputs": [],
   "source": [
    "subset.chunk().compute().to_netcdf('dask-distributed-netcdf4.nc', engine='netcdf4')"
   ]
  },
  {
   "cell_type": "code",
   "execution_count": null,
   "metadata": {
    "jupyter": {
     "source_hidden": true
    },
    "tags": []
   },
   "outputs": [],
   "source": [
    "subset.chunk()[365+365+365+365:365+365+365+365+365].compute().to_netcdf('CH4_AK_2007.nc', engine='netcdf4')"
   ]
  },
  {
   "cell_type": "code",
   "execution_count": null,
   "metadata": {
    "jupyter": {
     "source_hidden": true
    },
    "tags": []
   },
   "outputs": [],
   "source": [
    "subset.chunk()[365+365+365+365+365:365+365+365+365+365+365].compute().to_netcdf('CH4_AK_2008.nc', engine='netcdf4')"
   ]
  },
  {
   "cell_type": "code",
   "execution_count": null,
   "metadata": {
    "jupyter": {
     "source_hidden": true
    },
    "tags": []
   },
   "outputs": [],
   "source": [
    "subset.chunk()[365+365+365+365+365+366:365+365+365+365+365+366+363].compute().to_netcdf('CH4_AK_2009.nc', engine='netcdf4')"
   ]
  },
  {
   "cell_type": "code",
   "execution_count": null,
   "metadata": {
    "jupyter": {
     "source_hidden": true
    },
    "tags": []
   },
   "outputs": [],
   "source": [
    "subset.chunk()[365+365+365+365+365+365+365:365+365+365+365+365+365+365+365].compute().to_netcdf('CH4_AK_2010.nc', engine='netcdf4')"
   ]
  },
  {
   "cell_type": "code",
   "execution_count": null,
   "metadata": {
    "jupyter": {
     "source_hidden": true
    },
    "tags": []
   },
   "outputs": [],
   "source": [
    "subset.chunk()[365+365+365+365+365+365+365+365:365+365+365+365+365+365+365+365+365].compute().to_netcdf('CH4_AK_2011.nc', engine='netcdf4')"
   ]
  },
  {
   "cell_type": "code",
   "execution_count": null,
   "metadata": {
    "jupyter": {
     "source_hidden": true
    },
    "tags": []
   },
   "outputs": [],
   "source": [
    "subset.chunk()[365+365+365+365+365+365+365+365+365:365+365+365+365+365+365+365+365+365+365].compute().to_netcdf('CH4_AK_2012.nc', engine='netcdf4')"
   ]
  },
  {
   "cell_type": "code",
   "execution_count": null,
   "metadata": {
    "jupyter": {
     "source_hidden": true
    },
    "tags": []
   },
   "outputs": [],
   "source": [
    "subset.chunk()[365+365+365+365+365+365+365+365+365+365:365+365+365+365+365+365+365+365+365+365+365].compute().to_netcdf('CH4_AK_2013.nc', engine='netcdf4')"
   ]
  },
  {
   "cell_type": "code",
   "execution_count": null,
   "metadata": {
    "jupyter": {
     "source_hidden": true
    },
    "tags": []
   },
   "outputs": [],
   "source": [
    "subset.chunk()[365+365+365+365+365+365+365+365+365+365+365:365+365+365+365+365+365+365+365+365+365+365+365].compute().to_netcdf('CH4_AK_2014.nc', engine='netcdf4')"
   ]
  },
  {
   "cell_type": "code",
   "execution_count": null,
   "metadata": {
    "jupyter": {
     "source_hidden": true
    },
    "tags": []
   },
   "outputs": [],
   "source": [
    "subset.chunk()[365+365+365+365+365+365+365+365+365+365+365+365:365+365+365+365+365+365+365+365+365+365+365+365+365].compute().to_netcdf('CH4_AK_2015.nc', engine='netcdf4')"
   ]
  },
  {
   "cell_type": "code",
   "execution_count": null,
   "metadata": {
    "jupyter": {
     "source_hidden": true
    },
    "tags": []
   },
   "outputs": [],
   "source": [
    "# years=subset.groupby('time.year').max()#.max()#.min()#.median()#.std()"
   ]
  },
  {
   "cell_type": "code",
   "execution_count": null,
   "metadata": {
    "jupyter": {
     "source_hidden": true
    },
    "tags": []
   },
   "outputs": [],
   "source": [
    "# years"
   ]
  },
  {
   "cell_type": "code",
   "execution_count": null,
   "metadata": {
    "jupyter": {
     "source_hidden": true
    },
    "tags": []
   },
   "outputs": [],
   "source": [
    "subset"
   ]
  },
  {
   "cell_type": "code",
   "execution_count": null,
   "metadata": {
    "jupyter": {
     "source_hidden": true
    },
    "tags": []
   },
   "outputs": [],
   "source": [
    "subset.load()"
   ]
  },
  {
   "cell_type": "code",
   "execution_count": null,
   "metadata": {
    "jupyter": {
     "source_hidden": true
    },
    "tags": []
   },
   "outputs": [],
   "source": [
    "subset.to_netcdf(f\"/Users/bradleygay/Downloads/CH4_AK.nc\")"
   ]
  },
  {
   "cell_type": "code",
   "execution_count": null,
   "metadata": {
    "jupyter": {
     "source_hidden": true
    },
    "tags": []
   },
   "outputs": [],
   "source": [
    "del subset"
   ]
  },
  {
   "cell_type": "code",
   "execution_count": null,
   "metadata": {
    "jupyter": {
     "source_hidden": true
    },
    "tags": []
   },
   "outputs": [],
   "source": [
    "# # for i in range(0,len(years)):\n",
    "# for i in range(6,len(years)):\n",
    "#     yearch4=years[i].load()\n",
    "#     yearch4.to_netcdf(f\"/Users/bradleygay/Downloads/{2009+i}_CH4_AK_max.nc\")\n",
    "#     del yearch4"
   ]
  },
  {
   "cell_type": "code",
   "execution_count": null,
   "metadata": {
    "jupyter": {
     "source_hidden": true
    },
    "tags": []
   },
   "outputs": [],
   "source": [
    "years=subset.groupby('time.year').min()#.median()#.std()\n",
    "years=years.where(-9999,np.nan)\n",
    "#years.to_netcdf(f\"/Users/bradleygay/Downloads/CH4_AK_mean.nc\")"
   ]
  },
  {
   "cell_type": "code",
   "execution_count": null,
   "metadata": {
    "jupyter": {
     "source_hidden": true
    },
    "tags": []
   },
   "outputs": [],
   "source": [
    "years.load()\n",
    "years=subset.groupby('time.year').min()#.median()#.std()\n",
    "years.to_netcdf(f\"/Users/bradleygay/Downloads/CH4_AK_min.nc\")\n",
    "#del years"
   ]
  },
  {
   "cell_type": "code",
   "execution_count": null,
   "metadata": {
    "jupyter": {
     "source_hidden": true
    },
    "tags": []
   },
   "outputs": [],
   "source": [
    "yearch4=years[6].load()\n",
    "yearch4.to_netcdf(f\"/Users/bradleygay/Downloads/2009_CH4_AK_min.nc\")\n",
    "#del yearch4"
   ]
  },
  {
   "cell_type": "code",
   "execution_count": null,
   "metadata": {
    "jupyter": {
     "source_hidden": true
    },
    "tags": []
   },
   "outputs": [],
   "source": [
    "yearch4=years[7].load()\n",
    "yearch4.to_netcdf(f\"/Users/bradleygay/Downloads/2010_CH4_AK_min.nc\")\n",
    "del yearch4"
   ]
  },
  {
   "cell_type": "code",
   "execution_count": null,
   "metadata": {
    "jupyter": {
     "source_hidden": true
    },
    "tags": []
   },
   "outputs": [],
   "source": [
    "yearch4=years[8].load()\n",
    "yearch4.to_netcdf(f\"/Users/bradleygay/Downloads/2011_CH4_AK_min.nc\")\n",
    "del yearch4"
   ]
  },
  {
   "cell_type": "code",
   "execution_count": null,
   "metadata": {
    "jupyter": {
     "source_hidden": true
    },
    "tags": []
   },
   "outputs": [],
   "source": [
    "yearch4=years[9].load()\n",
    "yearch4.to_netcdf(f\"/Users/bradleygay/Downloads/2012_CH4_AK_min.nc\")\n",
    "del yearch4"
   ]
  },
  {
   "cell_type": "code",
   "execution_count": null,
   "metadata": {
    "jupyter": {
     "source_hidden": true
    },
    "tags": []
   },
   "outputs": [],
   "source": [
    "yearch4=years[10].load()\n",
    "yearch4.to_netcdf(f\"/Users/bradleygay/Downloads/2013_CH4_AK_min.nc\")\n",
    "del yearch4"
   ]
  },
  {
   "cell_type": "code",
   "execution_count": null,
   "metadata": {
    "jupyter": {
     "source_hidden": true
    },
    "tags": []
   },
   "outputs": [],
   "source": [
    "yearch4=years[11].load()\n",
    "yearch4.to_netcdf(f\"/Users/bradleygay/Downloads/2014_CH4_AK_min.nc\")\n",
    "del yearch4"
   ]
  },
  {
   "cell_type": "code",
   "execution_count": null,
   "metadata": {
    "jupyter": {
     "source_hidden": true
    },
    "tags": []
   },
   "outputs": [],
   "source": [
    "yearch4=years[12].load()\n",
    "yearch4.to_netcdf(f\"/Users/bradleygay/Downloads/2015_CH4_AK_min.nc\")\n",
    "del yearch4"
   ]
  },
  {
   "cell_type": "code",
   "execution_count": null,
   "metadata": {
    "jupyter": {
     "source_hidden": true
    },
    "tags": []
   },
   "outputs": [],
   "source": [
    "#for i in range(0,len(years)):\n",
    "for i in range(6,len(years)):\n",
    "    yearch4=years[i].load()\n",
    "    yearch4.to_netcdf(f\"/Users/bradleygay/Downloads/{2003+i}_CH4_AK_min.nc\")\n",
    "    del yearch4"
   ]
  },
  {
   "cell_type": "code",
   "execution_count": null,
   "metadata": {
    "jupyter": {
     "source_hidden": true
    },
    "tags": []
   },
   "outputs": [],
   "source": [
    "years=subset.groupby('time.year').median()#.std()"
   ]
  },
  {
   "cell_type": "code",
   "execution_count": null,
   "metadata": {
    "jupyter": {
     "source_hidden": true
    },
    "tags": []
   },
   "outputs": [],
   "source": [
    "for i in range(0,len(years)):\n",
    "    yearch4=years[i].load()\n",
    "    yearch4.to_netcdf(f\"/Users/bradleygay/Downloads/{2003+i}_CH4_AK_med.nc\")\n",
    "    del yearch4"
   ]
  },
  {
   "cell_type": "code",
   "execution_count": null,
   "metadata": {
    "jupyter": {
     "source_hidden": true
    },
    "tags": []
   },
   "outputs": [],
   "source": [
    "years=subset.groupby('time.year').std()"
   ]
  },
  {
   "cell_type": "code",
   "execution_count": null,
   "metadata": {
    "jupyter": {
     "source_hidden": true
    },
    "tags": []
   },
   "outputs": [],
   "source": [
    "for i in range(0,len(years)):\n",
    "    yearch4=years[i].load()\n",
    "    yearch4.to_netcdf(f\"/Users/bradleygay/Downloads/{2003+i}_CH4_AK_std.nc\")\n",
    "    del yearch4"
   ]
  },
  {
   "cell_type": "code",
   "execution_count": null,
   "metadata": {
    "jupyter": {
     "source_hidden": true
    },
    "tags": []
   },
   "outputs": [],
   "source": [
    "subset03=xr.open_mfdataset('/Users/bradleygay/Downloads/2003_scratch.nc', combine='by_coords',decode_times=True, parallel=True)"
   ]
  },
  {
   "cell_type": "code",
   "execution_count": null,
   "metadata": {
    "jupyter": {
     "source_hidden": true
    },
    "tags": []
   },
   "outputs": [],
   "source": [
    "ss03df=subset03.to_dataframe().replace(np.nan, -9999)"
   ]
  },
  {
   "cell_type": "code",
   "execution_count": null,
   "metadata": {
    "jupyter": {
     "source_hidden": true
    },
    "tags": []
   },
   "outputs": [],
   "source": [
    "df=ss03df[ss03df['CH4']>-9999]"
   ]
  },
  {
   "cell_type": "code",
   "execution_count": null,
   "metadata": {
    "jupyter": {
     "source_hidden": true
    },
    "tags": []
   },
   "outputs": [],
   "source": [
    "plt.plot(df.CH4.to_numpy().flatten())"
   ]
  },
  {
   "cell_type": "code",
   "execution_count": null,
   "metadata": {
    "jupyter": {
     "source_hidden": true
    },
    "tags": []
   },
   "outputs": [],
   "source": [
    "ss03df2=subset03.groupby('time.year').mean().squeeze().to_dataframe().replace(np.nan,-9999)"
   ]
  },
  {
   "cell_type": "code",
   "execution_count": null,
   "metadata": {
    "jupyter": {
     "source_hidden": true
    },
    "tags": []
   },
   "outputs": [],
   "source": [
    "df2=df=ss03df2[ss03df2['CH4']>-9999]"
   ]
  },
  {
   "cell_type": "code",
   "execution_count": null,
   "metadata": {
    "jupyter": {
     "source_hidden": true
    },
    "tags": []
   },
   "outputs": [],
   "source": [
    "#ds=df2.CH4.to_numpy().flatten()"
   ]
  },
  {
   "cell_type": "code",
   "execution_count": null,
   "metadata": {
    "jupyter": {
     "source_hidden": true
    },
    "tags": []
   },
   "outputs": [],
   "source": [
    "ds=df2.CH4.values"
   ]
  },
  {
   "cell_type": "code",
   "execution_count": null,
   "metadata": {
    "jupyter": {
     "source_hidden": true
    },
    "tags": []
   },
   "outputs": [],
   "source": [
    "plt.plot(ds)"
   ]
  },
  {
   "cell_type": "code",
   "execution_count": null,
   "metadata": {
    "jupyter": {
     "source_hidden": true
    },
    "tags": []
   },
   "outputs": [],
   "source": [
    "fig = plt.figure(figsize=(8, 8))\n",
    "cax = ax.imshow( np.ma.masked_where(df2[i, :, :] == 0, insar_ts[i, :, :]), \n",
    "                    extent=geo_corners, vmin = -0.2, vmax = 0.2, cmap = 'jet', interpolation='nearest')\n",
    "    ax.set_title(dt_list[i])\n",
    "    cbar = fig.colorbar(cax, orientation='horizontal')\n",
    "    cbar.set_label('meters', rotation=0)\n",
    "    \n",
    "plt.show()\n",
    "plt.close(\"all\")"
   ]
  },
  {
   "cell_type": "code",
   "execution_count": null,
   "metadata": {
    "jupyter": {
     "source_hidden": true
    },
    "tags": []
   },
   "outputs": [],
   "source": [
    "#subset[subset.time.dt.year == 2003].to_netcdf(f\"/Users/bradleygay/Downloads/2003_scratch.nc\")"
   ]
  },
  {
   "cell_type": "markdown",
   "metadata": {
    "jp-MarkdownHeadingCollapsed": true,
    "tags": []
   },
   "source": [
    "## Output"
   ]
  },
  {
   "cell_type": "code",
   "execution_count": null,
   "metadata": {},
   "outputs": [],
   "source": [
    "# ss2003=subset.load()\n",
    "# ss2003=subset.isel(time=(subset.time.dt.year == 2003))\n",
    "# ss2003.to_netcdf(f\"/Users/bradleygay/Downloads/2003_CH4_AK.nc\")\n",
    "# ss2003=subset.load()\n",
    "# ss2003=subset.isel(time=(subset.time.dt.year == 2003))\n",
    "# ss2003.to_netcdf(f\"/Users/bradleygay/Downloads/2003_CO2_AK.nc\")"
   ]
  },
  {
   "cell_type": "code",
   "execution_count": null,
   "metadata": {},
   "outputs": [],
   "source": [
    "# ss2004=subset.load()\n",
    "# ss2004=subset.isel(time=(subset.time.dt.year == 2004))\n",
    "# ss2004.to_netcdf(f\"/Users/bradleygay/Downloads/2004_CH4_AK.nc\")\n",
    "# ss2004=subset.load()\n",
    "# ss2004=subset.isel(time=(subset.time.dt.year == 2004))\n",
    "# ss2004.to_netcdf(f\"/Users/bradleygay/Downloads/2004_CO2_AK.nc\")"
   ]
  },
  {
   "cell_type": "code",
   "execution_count": null,
   "metadata": {},
   "outputs": [],
   "source": [
    "# ss2005=subset.load()\n",
    "# ss2005=subset.isel(time=(subset.time.dt.year == 2005))\n",
    "# ss2005.to_netcdf(\"/Users/bradleygay/Downloads/2005_CH4_AK.nc\")\n",
    "# ss2005=subset.isel(time=(subset.time.dt.year == 2005))\n",
    "# ss2005.to_netcdf(\"/Users/bradleygay/Downloads/2005_CO2_AK.nc\")"
   ]
  },
  {
   "cell_type": "code",
   "execution_count": null,
   "metadata": {},
   "outputs": [],
   "source": [
    "# ss2006=subset.load()\n",
    "# ss2006=subset.isel(time=(subset.time.dt.year == 2006))\n",
    "# ss2006.to_netcdf(\"/Users/bradleygay/Downloads/2006_CH4_AK.nc\")\n",
    "# ss2006=subset.isel(time=(subset.time.dt.year == 2006))\n",
    "# ss2006.to_netcdf(\"/Users/bradleygay/Downloads/2006_CO2_AK.nc\")"
   ]
  },
  {
   "cell_type": "code",
   "execution_count": null,
   "metadata": {},
   "outputs": [],
   "source": [
    "# ##############################JUNE 2007 NC4 FILE CORRUPTED - DAAC.ORNL.GOV/ABOVE\n",
    "# ss2007=subset.load()\n",
    "# ss2007=subset.isel(time=(subset.time.dt.year == 2007))\n",
    "# ss2007.to_netcdf(\"/Users/bradleygay/Downloads/2007_CH4_AK.nc\")\n",
    "# ss2007=subset.isel(time=(subset.time.dt.year == 2007))\n",
    "# ss2007.to_netcdf(\"/Users/bradleygay/Downloads/2007_CO2_AK.nc\")"
   ]
  },
  {
   "cell_type": "code",
   "execution_count": null,
   "metadata": {},
   "outputs": [],
   "source": [
    "# ss2008=subset.load()\n",
    "# ss2008=subset.isel(time=(subset.time.dt.year == 2008))\n",
    "# ss2008.to_netcdf(\"/Users/bradleygay/Downloads/2008_CH4_AK.nc\")\n",
    "# ss2008=subset.isel(time=(subset.time.dt.year == 2008))\n",
    "# ss2008.to_netcdf(\"/Users/bradleygay/Downloads/2008_CO2_AK.nc\")"
   ]
  },
  {
   "cell_type": "code",
   "execution_count": null,
   "metadata": {},
   "outputs": [],
   "source": [
    "# ss2009=subset.load()\n",
    "# ss2009=subset.isel(time=(subset.time.dt.year == 2009))\n",
    "# ss2009.to_netcdf(\"/Users/bradleygay/Downloads/2009_CH4_AK.nc\")\n",
    "# ss2009=subset.load()\n",
    "# ss2009=subset.isel(time=(subset.time.dt.year == 2009))\n",
    "# ss2009.to_netcdf(\"/Users/bradleygay/Downloads/2009_CO2_AK.nc\")"
   ]
  },
  {
   "cell_type": "code",
   "execution_count": null,
   "metadata": {},
   "outputs": [],
   "source": [
    "# ss2010=subset.load()\n",
    "# ss2010=subset.isel(time=(subset.time.dt.year == 2010))\n",
    "# ss2010.to_netcdf(\"/Users/bradleygay/Downloads/2010_CH4_AK.nc\")\n",
    "# ss2010=subset.load()\n",
    "# ss2010=subset.isel(time=(subset.time.dt.year == 2010))\n",
    "# ss2010.to_netcdf(\"/Users/bradleygay/Downloads/2010_CO2_AK.nc\")"
   ]
  },
  {
   "cell_type": "code",
   "execution_count": null,
   "metadata": {},
   "outputs": [],
   "source": [
    "# ss2011=subset.load()\n",
    "# ss2011=subset.isel(time=(subset.time.dt.year == 2011))\n",
    "# ss2011.to_netcdf(\"/Users/bradleygay/Downloads/2011_CH4_AK.nc\")\n",
    "# ss2011=subset.load()\n",
    "# ss2011=subset.isel(time=(subset.time.dt.year == 2011))\n",
    "# ss2011.to_netcdf(\"/Users/bradleygay/Downloads/2011_CO2_AK.nc\")"
   ]
  },
  {
   "cell_type": "code",
   "execution_count": null,
   "metadata": {},
   "outputs": [],
   "source": [
    "# ss2012=subset.isel(time=(subset.time.dt.year == 2012))\n",
    "# ss2012.to_netcdf(\"/Users/bradleygay/Downloads/2012_CH4_AK.nc\")\n",
    "# ss2012=subset.load()\n",
    "# ss2012=subset.isel(time=(subset.time.dt.year == 2012))\n",
    "# ss2012.to_netcdf(\"/Users/bradleygay/Downloads/2012_CO2_AK.nc\")"
   ]
  },
  {
   "cell_type": "code",
   "execution_count": null,
   "metadata": {},
   "outputs": [],
   "source": [
    "# ss2013=subset.isel(time=(subset.time.dt.year == 2013))\n",
    "# ss2013.to_netcdf(\"/Users/bradleygay/Downloads/2013_CH4_AK.nc\")\n",
    "# ss2013=subset.load()\n",
    "# ss2013=subset.isel(time=(subset.time.dt.year == 2013))\n",
    "# ss2013.to_netcdf(\"/Users/bradleygay/Downloads/2013_CO2_AK.nc\")"
   ]
  },
  {
   "cell_type": "code",
   "execution_count": null,
   "metadata": {},
   "outputs": [],
   "source": [
    "# ss2014=subset.isel(time=(subset.time.dt.year == 2014))\n",
    "# ss2014.to_netcdf(\"/Users/bradleygay/Downloads/2014_CH4_AK.nc\")\n",
    "# ss2014=subset.load()\n",
    "# ss2014=subset.isel(time=(subset.time.dt.year == 2014))\n",
    "# ss2014.to_netcdf(\"/Users/bradleygay/Downloads/2014_CO2_AK.nc\")"
   ]
  },
  {
   "cell_type": "code",
   "execution_count": null,
   "metadata": {},
   "outputs": [],
   "source": [
    "# ss2015=subset.load()\n",
    "# ss2015=subset.isel(time=(subset.time.dt.year == 2015))\n",
    "# ss2015.to_netcdf(\"/Users/bradleygay/Downloads/2015_CH4_AK.nc\")\n",
    "# ss2015=subset.load()\n",
    "# ss2015=subset.isel(time=(subset.time.dt.year == 2015))\n",
    "# ss2015.to_netcdf(\"/Users/bradleygay/Downloads/2015_CO2_AK.nc\")"
   ]
  },
  {
   "cell_type": "markdown",
   "metadata": {
    "jp-MarkdownHeadingCollapsed": true,
    "tags": []
   },
   "source": [
    "#### Archive"
   ]
  },
  {
   "cell_type": "code",
   "execution_count": null,
   "metadata": {
    "jupyter": {
     "source_hidden": true
    },
    "tags": []
   },
   "outputs": [],
   "source": [
    "#subset.to_netcdf(\"/Users/bradleygay/Downloads/methane.nc\")"
   ]
  },
  {
   "cell_type": "code",
   "execution_count": null,
   "metadata": {
    "jupyter": {
     "source_hidden": true
    },
    "tags": []
   },
   "outputs": [],
   "source": [
    "#years=subset.groupby('time.year').mean()"
   ]
  },
  {
   "cell_type": "code",
   "execution_count": null,
   "metadata": {
    "jupyter": {
     "source_hidden": true
    },
    "tags": []
   },
   "outputs": [],
   "source": [
    "#years[0].plot(vmin=-2, vmax=30)"
   ]
  },
  {
   "cell_type": "code",
   "execution_count": null,
   "metadata": {
    "jupyter": {
     "source_hidden": true
    },
    "tags": []
   },
   "outputs": [],
   "source": [
    "#subset.to_netcdf(\"/Users/bradleygay/Downloads/meth_subset_AK_ABoVEresp.nc4\", mode='w', format=\"NETCDF4\", group=None, engine=None, encoding=None, unlimited_dims=None, compute=True, invalid_netcdf=False)"
   ]
  },
  {
   "cell_type": "code",
   "execution_count": null,
   "metadata": {
    "jupyter": {
     "source_hidden": true
    },
    "tags": []
   },
   "outputs": [],
   "source": [
    "#Y (LATITUDE):  0-1782 \n",
    "#X (LONGITUDE): 440-3240"
   ]
  },
  {
   "cell_type": "code",
   "execution_count": null,
   "metadata": {
    "jupyter": {
     "source_hidden": true
    },
    "tags": []
   },
   "outputs": [],
   "source": [
    "#source.CH4[0,334,3759].values\n",
    "#ESPG: 6933"
   ]
  },
  {
   "cell_type": "markdown",
   "metadata": {
    "jp-MarkdownHeadingCollapsed": true,
    "tags": []
   },
   "source": [
    "## Third method: concat_dim='interval'"
   ]
  },
  {
   "cell_type": "code",
   "execution_count": null,
   "metadata": {},
   "outputs": [],
   "source": [
    "file_path_name = \"/Volumes/africanswallow/data/model/reanalysis/ABoVE_CO2_CH4_Flux_Estimates/data/*.nc4\"\n",
    "source = xr.open_mfdataset(file_path_name,combine='nested',concat_dim='interval',decode_times=False)\n",
    "source\n",
    "#src = intake.open_netcdf(file_path_name,concat_dim='time',xarray_kwargs={'combine':'nested'})\n",
    "#src.yaml()"
   ]
  },
  {
   "cell_type": "code",
   "execution_count": null,
   "metadata": {},
   "outputs": [],
   "source": [
    "source.CH4[:,:]"
   ]
  },
  {
   "cell_type": "code",
   "execution_count": null,
   "metadata": {},
   "outputs": [],
   "source": []
  }
 ],
 "metadata": {
  "kernelspec": {
   "display_name": "Python 3 (ipykernel)",
   "language": "python",
   "name": "python3"
  },
  "language_info": {
   "codemirror_mode": {
    "name": "ipython",
    "version": 3
   },
   "file_extension": ".py",
   "mimetype": "text/x-python",
   "name": "python",
   "nbconvert_exporter": "python",
   "pygments_lexer": "ipython3",
   "version": "3.10.8"
  }
 },
 "nbformat": 4,
 "nbformat_minor": 4
}
