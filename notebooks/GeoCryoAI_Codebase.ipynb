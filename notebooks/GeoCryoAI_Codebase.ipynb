{
 "cells": [
  {
   "cell_type": "markdown",
   "id": "67fb4879-c302-4b34-b384-6db5fb1832a2",
   "metadata": {},
   "source": [
    "## _GeoCryoAI Codebase_\n",
    "#### Journal: Environmental Research Letters Manuscript (ERL-116349)\n",
    "#### Title: Investigating Permafrost Carbon Dynamics in Alaska with Artificial Intelligence\n",
    "#### Author: Bradley A. Gay\n",
    "#### Date: 08/20/2022 (Updated: 10/01/2023)"
   ]
  },
  {
   "cell_type": "markdown",
   "id": "cab23d26-f999-42f5-8840-40b3729bcb2e",
   "metadata": {
    "jp-MarkdownHeadingCollapsed": true
   },
   "source": [
    "# Step 1: Load Libraries and Functions"
   ]
  },
  {
   "cell_type": "code",
   "execution_count": 1,
   "id": "a80b7a3b-7439-4b9b-a474-859a4cfed288",
   "metadata": {
    "tags": []
   },
   "outputs": [
    {
     "name": "stdout",
     "output_type": "stream",
     "text": [
      "Using TensorFlow backend\n",
      "TensorFlow version:  2.13.0\n"
     ]
    }
   ],
   "source": [
    "import os, sys, datetime, re, glob, requests, warnings, intake\n",
    "#\n",
    "import bs4, eofs, pyts, pyarrow, polars, pickle, math, time, cftime, tqdm\n",
    "import numpy as np\n",
    "import pandas as pd\n",
    "import xarray as xr\n",
    "#\n",
    "import progressbar, codecs, netrc, zipfile, getpass\n",
    "#\n",
    "from datetime import datetime\n",
    "from datetime import datetime as dt\n",
    "from datetime import timedelta\n",
    "#\n",
    "from numpy import isnan, array, count_nonzero\n",
    "from pandas import read_csv, DataFrame, concat\n",
    "from itertools import groupby, islice\n",
    "from operator import itemgetter\n",
    "from pathlib import Path\n",
    "#\n",
    "#\n",
    "import IPython\n",
    "import ipywidgets as widgets\n",
    "from IPython.display import display\n",
    "#\n",
    "import dask\n",
    "import dask.dataframe as dd\n",
    "import dask.array as da\n",
    "from dask.distributed import Client\n",
    "import dask_ml\n",
    "from dask_ml.model_selection import train_test_split\n",
    "from dask.diagnostics import ProgressBar\n",
    "import vaex\n",
    "import vaex.ml\n",
    "import vaex.ml.tensorflow\n",
    "import flox\n",
    "#\n",
    "import torch\n",
    "import tensorflow as tf\n",
    "import tensorflow.compat.v1 as tf\n",
    "# import tensorflow_addons as tfa\n",
    "# from tensorflow_addons.metrics.r_square import RSquare\n",
    "from tensorflow.keras import utils\n",
    "import tensorflow.keras\n",
    "from tensorflow.keras import layers\n",
    "from tensorflow.keras.callbacks import *\n",
    "from tensorflow.keras.models import Sequential,load_model\n",
    "from tensorflow.keras.layers import Dense, Dropout, Flatten, Conv2D, MaxPool2D, BatchNormalization\n",
    "from tensorflow.keras.optimizers import Adam\n",
    "from tensorflow.python.keras.utils import conv_utils, tf_utils\n",
    "import tensorboard\n",
    "tensorboard.__version__\n",
    "# Clear any logs from previous runs\n",
    "#rm -rf ./logs/\n",
    "# Load the TensorBoard notebook extension.\n",
    "%load_ext tensorboard\n",
    "#\n",
    "from tensorflow import keras\n",
    "import tensorflow.keras.backend as K\n",
    "import keras.backend as K\n",
    "import keras.optimizers\n",
    "from keras import *\n",
    "from keras import layers, optimizers, models\n",
    "from keras import backend as K\n",
    "from keras.layers import *\n",
    "from keras.layers import Masking, Dense, InputLayer, Dropout, Flatten, BatchNormalization, Conv1D, Conv2D, Conv3D, \\\n",
    "Conv1DTranspose, Conv2DTranspose, Conv3DTranspose, Bidirectional, MaxPool1D, MaxPool2D, MaxPool3D, Reshape\n",
    "from keras.preprocessing import *\n",
    "from keras.models import Model, Sequential\n",
    "from keras.activations import swish, elu, gelu, selu, sigmoid, relu, tanh, linear, softmax, swish\n",
    "from keras.utils import plot_model\n",
    "import keras_tuner\n",
    "from keras_tuner import *\n",
    "from keras_tuner import HyperModel, HyperParameters, RandomSearch, BayesianOptimization, Hyperband\n",
    "from keras.callbacks import ReduceLROnPlateau\n",
    "learning_rate_reduction = ReduceLROnPlateau(monitor='val_loss', patience = 2, verbose=1,factor=0.75, min_lr=0.00001)\n",
    "#\n",
    "import sklearn, statsmodels, pyrsgis\n",
    "import arch\n",
    "import arch.unitroot\n",
    "import scipy.signal as signal\n",
    "from scipy.stats import pearsonr\n",
    "#\n",
    "import matplotlib as mpl\n",
    "import matplotlib.pyplot as plt\n",
    "import matplotlib.colors as col\n",
    "import matplotlib.cm as cm\n",
    "%matplotlib inline\n",
    "mpl.rcParams['agg.path.chunksize'] = 10000\n",
    "import seaborn as sns\n",
    "import graphviz\n",
    "#\n",
    "import csv, io, h5py\n",
    "import cv2 as cv\n",
    "import netCDF4 as nc\n",
    "import geopandas as gpd\n",
    "import rioxarray as rxr\n",
    "import spectral, pydot, pydotplus\n",
    "import earthpy as et\n",
    "import rasterio as rio\n",
    "#\n",
    "import xbatcher, tiledb\n",
    "import buteo as beo\n",
    "#\n",
    "from arch.unitroot import ADF\n",
    "from arch.unitroot import KPSS\n",
    "#\n",
    "from pyrsgis import raster\n",
    "from shapely.geometry import box, mapping\n",
    "from pywaffle import Waffle\n",
    "from eofs.standard import Eof\n",
    "#\n",
    "import statsmodels.tsa.stattools as tsa\n",
    "from statsmodels.tsa.seasonal import seasonal_decompose\n",
    "from statsmodels.tsa.stattools import adfuller, kpss\n",
    "from statsmodels.tsa.arima.model import ARIMA\n",
    "from statsmodels.tools.tools import add_constant\n",
    "from statsmodels.stats.outliers_influence import variance_inflation_factor\n",
    "from statsmodels.graphics.tsaplots import plot_acf, plot_pacf\n",
    "#\n",
    "from sklearn import linear_model\n",
    "from sklearn.preprocessing import MinMaxScaler, StandardScaler, RobustScaler, PowerTransformer, Normalizer\n",
    "from sklearn.model_selection import train_test_split\n",
    "from sklearn.metrics import mean_absolute_error, mean_absolute_percentage_error, accuracy_score, confusion_matrix, \\\n",
    "ConfusionMatrixDisplay, consensus_score, explained_variance_score,r2_score, roc_auc_score, roc_curve, jaccard_score, \\\n",
    "mean_squared_error, nan_euclidean_distances, precision_score\n",
    "#\n",
    "from spectral import *\n",
    "from libpysal.weights import lat2W\n",
    "from esda.moran import Moran\n",
    "from rasterio.enums import Resampling\n",
    "from pyrsgis.ml import array_to_chips\n",
    "from shapely import geometry\n",
    "from rasterio.mask import mask\n",
    "from pyrsgis import ml\n",
    "from pyrsgis import ml, raster, convert\n",
    "from dateutil.rrule import DAILY,rrule\n",
    "from time import gmtime, strftime\n",
    "from netCDF4 import Dataset\n",
    "from rasterio.plot import show\n",
    "from rasterio.plot import show_hist\n",
    "from osgeo import gdal \n",
    "from tqdm import tqdm\n",
    "from packaging import version\n",
    "from skimage import data, io \n",
    "from skimage.color import rgb2gray\n",
    "from dataclasses import dataclass\n",
    "from typing import Iterable\n",
    "from xbatcher import BatchGenerator\n",
    "from xbatcher.loaders.torch import IterableDataset, MapDataset\n",
    "\n",
    "print(\"TensorFlow version: \", tf.__version__)\n",
    "assert version.parse(tf.__version__).release[0] >= 2, \\\n",
    "    \"This notebook requires TensorFlow 2.0 or above.\"\n",
    "\n",
    "# Prettier plotting with seaborn\n",
    "sns.set(font_scale=1.5, style=\"white\")\n",
    "# 1. Initialize the notebook using the necessary libraries\n",
    "\n",
    "#tf.disable_v2_behavior()\n",
    "#os.environ['TF_CPP_MIN_LOG_LEVEL'] = '3'\n",
    "# Suppress warnings\n",
    "warnings.filterwarnings('ignore')\n",
    "warnings.filterwarnings(\"ignore\", category=RuntimeWarning)\n",
    "#os.environ['HDF5_USE_FILE_LOCKING']='FALSE'\n",
    "\n",
    "ProgressBar().register()"
   ]
  },
  {
   "cell_type": "code",
   "execution_count": null,
   "id": "e7a9be5a-b764-4d1b-a75a-02c0044dae6f",
   "metadata": {},
   "outputs": [],
   "source": [
    "### FUNCTIONS ###\n",
    "\n",
    "def divisorGenerator(n):\n",
    "    large_divisors = []\n",
    "    for i in range(1, int(math.sqrt(n) + 1)):\n",
    "        if n % i == 0:\n",
    "            yield i\n",
    "            if i*i != n:\n",
    "                large_divisors.append(n / i)\n",
    "    for divisor in reversed(large_divisors):\n",
    "        yield divisor\n",
    "\n",
    "def compute_vif(features):\n",
    "    X = features.iloc[:,:]\n",
    "    X['intercept'] = 1\n",
    "    vif = pd.DataFrame()\n",
    "    vif[\"Variable\"] = X.columns\n",
    "    vif[\"VIF\"] = [variance_inflation_factor(X.values, i) for i in range(X.shape[1])]\n",
    "    vif = vif[vif['Variable']!='intercept']\n",
    "    return vif\n",
    "\n",
    "def series_to_supervised(data, lags = 1, forecasting_steps = 1, dropna=True):\n",
    "    n_vars = 1 if type(data) is list else data.shape[1]\n",
    "    df = pd.DataFrame(data)\n",
    "    cols, names = list(), list()\n",
    "    for i in range(lags, 0, -1):\n",
    "        cols.append(df.shift(i))\n",
    "        names += [(df.columns[j], str('t-%d') %  i) for j in range(n_vars)]\n",
    "    for a in range(0, forecasting_steps):\n",
    "        cols.append(df.shift(-a))\n",
    "        if a == 0:\n",
    "            names += [(df.columns[b], str('t')) for b in range(n_vars)]\n",
    "        else:\n",
    "            names += [(df.columns[b], str('t+%d') %  a) for b in range(n_vars)]\n",
    "    agg = pd.concat(cols, axis=1)\n",
    "    agg.columns = names\n",
    "    agg = agg.loc[:,~agg.columns.duplicated()]\n",
    "    if dropna:\n",
    "        agg.dropna(inplace=True)\n",
    "    return agg\n",
    "\n",
    "def create_dataset(dataset, look_back=3):\n",
    "    dataX, dataY = [], []\n",
    "    for i in range(len(dataset)-look_back-1):\n",
    "        a = dataset[i:(i+look_back)]\n",
    "        dataX.append(a)\n",
    "        dataY.append(dataset[i + look_back])\n",
    "    return np.array(dataX), np.array(dataY)\n",
    "\n",
    "# split a univariate sequence into samples\n",
    "def split_sequence(sequence, n_steps):\n",
    "    X, y = list(), list()\n",
    "    for i in range(len(sequence)):\n",
    "        # find the end of this pattern\n",
    "        end_ix = i + n_steps\n",
    "        # check if we are beyond the sequence\n",
    "        if end_ix > len(sequence)-1:\n",
    "            break\n",
    "        # gather input and output parts of the pattern\n",
    "        seq_x, seq_y = sequence[i:end_ix], sequence[end_ix]\n",
    "        X.append(seq_x)\n",
    "        y.append(seq_y)\n",
    "    return array(X), array(y)\n",
    "\n",
    "def calculate_pvalues(df):\n",
    "    dfcols = pd.DataFrame(columns=df.columns)\n",
    "    pvalues = dfcols.transpose().join(dfcols, how='outer')\n",
    "    for r in df.columns:\n",
    "        for c in df.columns:\n",
    "            tmp = df[df[r].notnull() & df[c].notnull()]\n",
    "            pvalues[r][c] = round(pearsonr(tmp[r], tmp[c])[1], 4)\n",
    "    return pvalues\n",
    "\n",
    "def adf_test(timeseries):\n",
    "    print(\"Results of Dickey-Fuller Test:\")\n",
    "    dftest = adfuller(timeseries, autolag=\"AIC\")\n",
    "    dfoutput = pd.Series(dftest[0:4], index=[\"Test Statistic\", \"p-value\", \"#Lags Used\", \"Number of Observations Used\"])\n",
    "    for key, value in dftest[4].items():\n",
    "        dfoutput[\"Critical Value (%s)\" % key] = value\n",
    "    print(dfoutput)\n",
    "\n",
    "def kpss_test(timeseries):\n",
    "    print(\"Results of KPSS Test:\")\n",
    "    kpsstest = kpss(timeseries, regression=\"c\", nlags=\"auto\")\n",
    "    kpss_output = pd.Series(kpsstest[0:3], index=[\"Test Statistic\", \"p-value\", \"Lags Used\"])\n",
    "    for key, value in kpsstest[3].items():\n",
    "        kpss_output[\"Critical Value (%s)\" % key] = value\n",
    "    print(kpss_output)"
   ]
  },
  {
   "cell_type": "markdown",
   "id": "85873575",
   "metadata": {
    "jp-MarkdownHeadingCollapsed": true
   },
   "source": [
    "#### Archived"
   ]
  },
  {
   "cell_type": "code",
   "execution_count": null,
   "id": "436965cc-764f-441e-a20f-01eb2c04b885",
   "metadata": {
    "jupyter": {
     "source_hidden": true
    }
   },
   "outputs": [],
   "source": [
    "# import tensorflow as tf\n",
    "# gpus = tf.config.experimental.list_physical_devices('GPU')\n",
    "# for gpu in gpus:\n",
    "#   tf.config.experimental.set_memory_growth(gpu, True)"
   ]
  },
  {
   "cell_type": "code",
   "execution_count": null,
   "id": "7dbb5bf6-465e-49ef-b5e9-1d394d140067",
   "metadata": {
    "jupyter": {
     "source_hidden": true
    }
   },
   "outputs": [],
   "source": [
    "# # #batch size\n",
    "# # #available GPU memory bytes / 4 / (size of tensors + trainable parameters)\n",
    "# # #16000 / 4 / (12 + 1)\n",
    "# # #~256\n",
    "\n",
    "# # # tf.compat.v1.disable_eager_execution()\n",
    "# # # tf.config.run_functions_eagerly(False)\n",
    "# # #tf.compat.v1.disable_eager_execution()\n",
    "\n",
    "# import tensorflow as tf\n",
    "# print(\"Num GPUs Available: \", len(tf.config.list_physical_devices('GPU')))#toggle to -1 to disengage GPU; or GPU to engage\n",
    "# gpus = tf.config.list_physical_devices('GPU')\n",
    "# if gpus:\n",
    "#     try:\n",
    "# # Currently, memory growth needs to be the same across GPUs\n",
    "#         for gpu in gpus:\n",
    "#             tf.config.experimental.set_memory_growth(gpu, True)#toggle to False to disengage GPU; or True to engage\n",
    "#             logical_gpus = tf.config.experimental.list_logical_devices('GPU')#toggle to -1 to disengage GPU; or GPU to engage\n",
    "#             print(len(gpus), \"Physical GPUs,\", len(logical_gpus), \"Logical GPUs\")\n",
    "#     except RuntimeError as e:\n",
    "# # Memory growth must be set before GPUs have been initialized\n",
    "#         print(e)"
   ]
  },
  {
   "cell_type": "code",
   "execution_count": null,
   "id": "72951e75-e26b-4a37-90a7-b70f0f7f5234",
   "metadata": {
    "jupyter": {
     "source_hidden": true
    }
   },
   "outputs": [],
   "source": [
    "# with tf.device('/device:GPU:0'):"
   ]
  },
  {
   "cell_type": "markdown",
   "id": "c578d65b-fa00-4b2a-bdc1-7640c780f1cd",
   "metadata": {
    "jp-MarkdownHeadingCollapsed": true,
    "tags": []
   },
   "source": [
    "# Step 2: Load In Situ Dataframe (1m)"
   ]
  },
  {
   "cell_type": "code",
   "execution_count": null,
   "id": "696f16fe",
   "metadata": {},
   "outputs": [],
   "source": [
    "#file = os.path.join('/Users/bgay/Downloads/data/df_ak.pkl')\n",
    "file = os.path.join('/Users/bgay/Desktop/Research/Manuscripts/M1/ERL/manuscript/data.pkl')\n",
    "with open(file, 'rb') as f:\n",
    "    df = pickle.load(f)\n",
    "\n",
    "# file=os.path.join('/Users/bgay/Desktop/data/alt_ak.csv')\n",
    "# df=pd.read_csv(file)"
   ]
  },
  {
   "cell_type": "code",
   "execution_count": null,
   "id": "70af14a1",
   "metadata": {},
   "outputs": [],
   "source": [
    "df.index=df['DATE']\n",
    "df.index.name = None\n",
    "df=df.sort_index()\n",
    "df=df.replace(-9999,np.nan)\n",
    "df.rename(columns = {'CH4_MIXING_RATION_MEAN':'CH4_MR_MEAN'}, inplace = True)\n",
    "df.rename(columns = {'CH4_MIXING_RATION_STD':'CH4_MR_STD'}, inplace = True)\n",
    "df=df.drop(df.columns[0:5],axis=1)\n",
    "df=df.drop(df.columns[44],axis=1)\n",
    "df=df.dropna(axis=0,how='all')\n",
    "df.index=pd.to_datetime(df.index,format='%Y')\n",
    "nointdf=df"
   ]
  },
  {
   "cell_type": "code",
   "execution_count": null,
   "id": "e110d15e",
   "metadata": {},
   "outputs": [],
   "source": [
    "#Imputer\n",
    "df2=df.copy()\n",
    "numeric_cols=df2.columns.values\n",
    "for col in numeric_cols:\n",
    "    missing = df2[col].isnull()\n",
    "    num_missing = np.sum(missing)\n",
    "    if num_missing > 0:  # only do the imputation for the columns that have missing values.\n",
    "        #print('imputing missing values for: {}'.format(col))\n",
    "        df2['{}_ismissing'.format(col)] = missing\n",
    "        #med = df[col].median()\n",
    "        df2[col] = df2[col].fillna(method='ffill').fillna(method='bfill')\n",
    "\n",
    "df2=df2.drop(df2.iloc[:,-91:],axis=1)"
   ]
  },
  {
   "cell_type": "markdown",
   "id": "011061bb-7e8a-440d-a207-3e938057a214",
   "metadata": {
    "jp-MarkdownHeadingCollapsed": true
   },
   "source": [
    "#### Archived"
   ]
  },
  {
   "cell_type": "code",
   "execution_count": null,
   "id": "d51e5d78",
   "metadata": {},
   "outputs": [],
   "source": [
    "#plt.plot(df['ALT'].groupby(df.index).nunique().resample('Y').mean().reset_index(level=0, drop=True)#.interpolate(method='cubic_spline'))\n",
    "plt.plot(df['ALT'].groupby(df.index).resample('A').mean().reset_index(level=0, drop=True))\n",
    "plt.plot(df['ALT'].groupby(df.index).resample('A').median().reset_index(level=0, drop=True))\n",
    "#plt.plot(df['ALT'].groupby(df.index).resample('M').mean().reset_index(level=0, drop=True))\n",
    "#plt.plot(df['ALT'].groupby(df.index).resample('M').median().reset_index(level=0, drop=True))\n",
    "#plt.plot(df['ALT'].groupby(df.index).resample('D').mean().reset_index(level=0, drop=True))\n",
    "#plt.plot(df['ALT'].groupby(df.index).resample('D').median().reset_index(level=0, drop=True))\n",
    "plt.show()"
   ]
  },
  {
   "cell_type": "code",
   "execution_count": null,
   "id": "5b18226d",
   "metadata": {},
   "outputs": [],
   "source": [
    "# plt.plot(df['ALT'].groupby(df.index).nunique().resample('Y').mean().reset_index(level=0, \\\n",
    "# drop=True).dropna().interpolate(method='cubicspline'))"
   ]
  },
  {
   "cell_type": "code",
   "execution_count": null,
   "id": "5e7508d0",
   "metadata": {},
   "outputs": [],
   "source": [
    "# print(df['ALT'].groupby(df.index).resample('A').mean().reset_index(level=0, drop=True).var())\n",
    "# print(df['ALT'].groupby(df.index).resample('A').mean().reset_index(level=0, drop=True).std())\n",
    "# print(df['ALT'].groupby(df.index).resample('A').median().reset_index(level=0, drop=True).var())\n",
    "# print(df['ALT'].groupby(df.index).resample('A').median().reset_index(level=0, drop=True).std())"
   ]
  },
  {
   "cell_type": "code",
   "execution_count": null,
   "id": "65db3c4f",
   "metadata": {},
   "outputs": [],
   "source": [
    "# prng = pd.period_range(\"1969\", \"2022\", freq=\"A-DEC\")\n",
    "#df['ALT'].to_period(freq='Y')#.to_timestamp()"
   ]
  },
  {
   "cell_type": "code",
   "execution_count": null,
   "id": "62d2f8ef",
   "metadata": {},
   "outputs": [],
   "source": [
    "import scipy.signal as signal\n",
    "dfdet=signal.detrend(df['ALT'].dropna(), type='constant')\n",
    "\n",
    "plt.plot(signal.detrend(df['ALT'].dropna(), type='constant'))\n",
    "plt.plot(df['ALT'].dropna().values)\n",
    "plt.plot(df['ALT'].dropna().rolling(window=100, win_type=\"gaussian\").mean(std=0.1).values)\n",
    "#plt.plot(df['ALT'].rolling(window=100, win_type=\"gaussian\").mean(std=0.1).dropna().values)"
   ]
  },
  {
   "cell_type": "code",
   "execution_count": null,
   "id": "2dbed984",
   "metadata": {},
   "outputs": [],
   "source": [
    "plt.plot(df.groupby(df.index.year).resample('A').mean().reset_index(level=0, drop=True).loc['2003':'2021','CO2_1_1_1'])\n",
    "plt.plot(df.groupby(df.index.year).resample('A').median().reset_index(level=0, drop=True).loc['2003':'2021','CO2_1_1_1'])"
   ]
  },
  {
   "cell_type": "code",
   "execution_count": null,
   "id": "ad79ea29",
   "metadata": {},
   "outputs": [],
   "source": [
    "plt.plot(df.groupby(df.index.year).resample('A').mean().reset_index(level=0, drop=True).loc['2011':,'FCH4_1'])\n",
    "plt.plot(df.groupby(df.index.year).resample('A').median().reset_index(level=0, drop=True).loc['2011':,'FCH4_1'])"
   ]
  },
  {
   "cell_type": "code",
   "execution_count": null,
   "id": "b5a5bec5",
   "metadata": {},
   "outputs": [],
   "source": [
    "plt.plot(df['ALT'].interpolate())\n",
    "plt.plot((df['ALT'].replace(-9999,np.nan).ffill()).bfill(),alpha=0.5)#fillna(method='bfill'))"
   ]
  },
  {
   "cell_type": "code",
   "execution_count": null,
   "id": "4324608a",
   "metadata": {},
   "outputs": [],
   "source": [
    "# df=df.replace(np.nan, -9999)\n",
    "# df=df.loc[df.iloc[:,15] > -20103115.48]\n",
    "# df=df.loc[df.iloc[:,15] > -19632788.15]\n",
    "# df=df.loc[df.iloc[:,15] < 6.69e+19]\n",
    "# df=df.loc[df.iloc[:,15] < 7.29e+16]\n",
    "# df=df.loc[df.iloc[:,15] < 8817006896.0]\n",
    "# df=df.loc[df.iloc[:,15] > -19632788.15]\n",
    "# df=df.loc[df.iloc[:,19] < 733410.482]\n",
    "# df=df.replace(-9999,np.nan)"
   ]
  },
  {
   "cell_type": "code",
   "execution_count": null,
   "id": "756ddfe9",
   "metadata": {},
   "outputs": [],
   "source": [
    "dfdet=signal.detrend(df2[].dropna().values, type='constant')"
   ]
  },
  {
   "cell_type": "code",
   "execution_count": null,
   "id": "60c6717e",
   "metadata": {},
   "outputs": [],
   "source": [
    "plt.plot(df2['ALT'].dropna().values)\n",
    "plt.plot(dfdet)\n",
    "plt.plot(df2['ALT'].dropna().rolling(window=100, win_type=\"gaussian\").mean(std=0.1).values, alpha=0.4)\n",
    "#plt.plot(df['ALT'].rolling(window=100, win_type=\"gaussian\").mean(std=0.1).dropna().values)"
   ]
  },
  {
   "cell_type": "code",
   "execution_count": null,
   "id": "dabbb90f",
   "metadata": {},
   "outputs": [],
   "source": [
    "plt.plot(df['ALT'].values)"
   ]
  },
  {
   "cell_type": "code",
   "execution_count": null,
   "id": "eec39700",
   "metadata": {},
   "outputs": [],
   "source": [
    "#print(df.columns.values.tolist())"
   ]
  },
  {
   "cell_type": "code",
   "execution_count": null,
   "id": "885020b6",
   "metadata": {},
   "outputs": [],
   "source": [
    "alt=pd.DataFrame(df.iloc[:,-1]).replace(-9999,np.nan).dropna().sort_index() #98753"
   ]
  },
  {
   "cell_type": "code",
   "execution_count": null,
   "id": "a53b1d79",
   "metadata": {},
   "outputs": [],
   "source": [
    "plt.plot(alt.values)"
   ]
  },
  {
   "cell_type": "code",
   "execution_count": null,
   "id": "1b41b243",
   "metadata": {},
   "outputs": [],
   "source": [
    "ch4=pd.DataFrame(df.iloc[:,19]).replace(-9999,np.nan).dropna().sort_index() #212642"
   ]
  },
  {
   "cell_type": "code",
   "execution_count": null,
   "id": "f1781255",
   "metadata": {},
   "outputs": [],
   "source": [
    "plt.plot(ch4.values)"
   ]
  },
  {
   "cell_type": "code",
   "execution_count": null,
   "id": "49b515ed",
   "metadata": {},
   "outputs": [],
   "source": [
    "co2=pd.DataFrame(df.iloc[:,7]).replace(-9999,np.nan).dropna().sort_index() #547096"
   ]
  },
  {
   "cell_type": "code",
   "execution_count": null,
   "id": "232186b3",
   "metadata": {},
   "outputs": [],
   "source": [
    "plt.plot(co2.values)"
   ]
  },
  {
   "cell_type": "code",
   "execution_count": null,
   "id": "e8a8bde5",
   "metadata": {},
   "outputs": [],
   "source": [
    "sns.distplot(df.iloc[:,-1].replace(-9999,np.nan).dropna())"
   ]
  },
  {
   "cell_type": "code",
   "execution_count": null,
   "id": "48800ea2",
   "metadata": {},
   "outputs": [],
   "source": [
    "sns.distplot(df.iloc[:,-1])"
   ]
  },
  {
   "cell_type": "code",
   "execution_count": null,
   "id": "0c7b9837",
   "metadata": {},
   "outputs": [],
   "source": [
    "plt.plot(df.iloc[:,-1].values)"
   ]
  },
  {
   "cell_type": "code",
   "execution_count": null,
   "id": "83e046f8",
   "metadata": {},
   "outputs": [],
   "source": [
    "#df.describe().transpose()"
   ]
  },
  {
   "cell_type": "code",
   "execution_count": null,
   "id": "a5e967dd",
   "metadata": {},
   "outputs": [],
   "source": [
    "# file = os.path.join('/Users/bradleygay/Downloads/df_pre-clean.pkl')\n",
    "# with open(file, 'wb') as f:\n",
    "#     pickle.dump(df,f)\n",
    "file = os.path.join('/Users/bgay/Downloads/df_clean.pkl')\n",
    "with open(file, 'wb') as f:\n",
    "    pickle.dump(df,f)"
   ]
  },
  {
   "cell_type": "code",
   "execution_count": null,
   "id": "2fe57cb5",
   "metadata": {},
   "outputs": [],
   "source": [
    "file = os.path.join('/Users/bgay/df_clean.pkl')\n",
    "with open(file, 'rb') as f:\n",
    "    df=pickle.load(f)"
   ]
  },
  {
   "cell_type": "code",
   "execution_count": null,
   "id": "7f879860",
   "metadata": {},
   "outputs": [],
   "source": [
    "altdf=pd.DataFrame(df['ALT'].replace(-9999,np.nan).dropna().sort_index())\n",
    "altdf2=pd.DataFrame(df2['ALT'].replace(-9999,np.nan).dropna().sort_index())"
   ]
  },
  {
   "cell_type": "code",
   "execution_count": null,
   "id": "3fbbbce9",
   "metadata": {},
   "outputs": [],
   "source": [
    "plt.plot(altdf.values)"
   ]
  },
  {
   "cell_type": "code",
   "execution_count": null,
   "id": "37a5f517",
   "metadata": {},
   "outputs": [],
   "source": [
    "plt.plot(altdf2.values)"
   ]
  },
  {
   "cell_type": "code",
   "execution_count": null,
   "id": "cedda129",
   "metadata": {},
   "outputs": [],
   "source": [
    "co2df=pd.DataFrame(df['CO2_1_1_1'].replace(-9999,np.nan).dropna().sort_index())\n",
    "co2df2=pd.DataFrame(df2['CO2_1_1_1'].replace(-9999,np.nan).dropna().sort_index())"
   ]
  },
  {
   "cell_type": "code",
   "execution_count": null,
   "id": "cca151af",
   "metadata": {},
   "outputs": [],
   "source": [
    "plt.plot(co2df.values)"
   ]
  },
  {
   "cell_type": "code",
   "execution_count": null,
   "id": "7b97de9b",
   "metadata": {},
   "outputs": [],
   "source": [
    "plt.plot(co2df2.values)"
   ]
  },
  {
   "cell_type": "code",
   "execution_count": null,
   "id": "605044a0",
   "metadata": {},
   "outputs": [],
   "source": [
    "ch4df=pd.DataFrame(df['FCH4_1'].replace(-9999,np.nan).dropna().sort_index())\n",
    "ch4df2=pd.DataFrame(df2['FCH4_1'].replace(-9999,np.nan).dropna().sort_index())"
   ]
  },
  {
   "cell_type": "code",
   "execution_count": null,
   "id": "790da26c",
   "metadata": {},
   "outputs": [],
   "source": [
    "plt.plot(ch4df.values)"
   ]
  },
  {
   "cell_type": "code",
   "execution_count": null,
   "id": "03ad6a49",
   "metadata": {},
   "outputs": [],
   "source": [
    "plt.plot(ch4df2.values)"
   ]
  },
  {
   "cell_type": "code",
   "execution_count": null,
   "id": "9aacb1d2",
   "metadata": {},
   "outputs": [],
   "source": [
    "# ds=df.to_xarray()\n",
    "# ds.groupby('index').min()"
   ]
  },
  {
   "cell_type": "markdown",
   "id": "3bc78304",
   "metadata": {
    "jp-MarkdownHeadingCollapsed": true
   },
   "source": [
    "# Step 3: VIF"
   ]
  },
  {
   "cell_type": "markdown",
   "id": "80366f4a",
   "metadata": {
    "jp-MarkdownHeadingCollapsed": true
   },
   "source": [
    "## After removing a feature, compute VIF values iteratively."
   ]
  },
  {
   "cell_type": "code",
   "execution_count": null,
   "id": "f3a4ff35",
   "metadata": {},
   "outputs": [],
   "source": [
    "features = df\n",
    "compute_vif(features).sort_values('VIF', ascending=False)"
   ]
  },
  {
   "cell_type": "code",
   "execution_count": null,
   "id": "83454038",
   "metadata": {},
   "outputs": [],
   "source": [
    "features=features.drop('GPP',axis=1)\n",
    "compute_vif(features).sort_values('VIF', ascending=False)"
   ]
  },
  {
   "cell_type": "code",
   "execution_count": null,
   "id": "dd6391c8",
   "metadata": {},
   "outputs": [],
   "source": [
    "features=features.drop('TS_2_3_4',axis=1)\n",
    "compute_vif(features).sort_values('VIF', ascending=False)"
   ]
  },
  {
   "cell_type": "code",
   "execution_count": null,
   "id": "a20774af",
   "metadata": {},
   "outputs": [],
   "source": [
    "features=features.drop('TS_2_3_6',axis=1)\n",
    "compute_vif(features).sort_values('VIF', ascending=False)"
   ]
  },
  {
   "cell_type": "code",
   "execution_count": null,
   "id": "cccc9a58",
   "metadata": {},
   "outputs": [],
   "source": [
    "features=features.drop('TS_1_1_3',axis=1)\n",
    "compute_vif(features).sort_values('VIF', ascending=False)"
   ]
  },
  {
   "cell_type": "code",
   "execution_count": null,
   "id": "0fd45441",
   "metadata": {},
   "outputs": [],
   "source": [
    "features=features.drop('TS_2_3_5',axis=1)\n",
    "compute_vif(features).sort_values('VIF', ascending=False)"
   ]
  },
  {
   "cell_type": "code",
   "execution_count": null,
   "id": "7e24c84a",
   "metadata": {},
   "outputs": [],
   "source": [
    "features=features.drop('TS_2_2_6',axis=1)\n",
    "compute_vif(features).sort_values('VIF', ascending=False)"
   ]
  },
  {
   "cell_type": "code",
   "execution_count": null,
   "id": "b27208d5",
   "metadata": {},
   "outputs": [],
   "source": [
    "features=features.drop('TS_2_3_3',axis=1)\n",
    "compute_vif(features).sort_values('VIF', ascending=False)"
   ]
  },
  {
   "cell_type": "code",
   "execution_count": null,
   "id": "aa362b9a",
   "metadata": {},
   "outputs": [],
   "source": [
    "features=features.drop('TS_2_2_3',axis=1)\n",
    "compute_vif(features).sort_values('VIF', ascending=False)"
   ]
  },
  {
   "cell_type": "code",
   "execution_count": null,
   "id": "8d160ba8",
   "metadata": {},
   "outputs": [],
   "source": [
    "features=features.drop('NEE',axis=1)\n",
    "compute_vif(features).sort_values('VIF', ascending=False)"
   ]
  },
  {
   "cell_type": "code",
   "execution_count": null,
   "id": "cb73d56e",
   "metadata": {},
   "outputs": [],
   "source": [
    "features=features.drop('TS_2_3_1',axis=1)\n",
    "compute_vif(features).sort_values('VIF', ascending=False)"
   ]
  },
  {
   "cell_type": "code",
   "execution_count": null,
   "id": "b0584aeb",
   "metadata": {},
   "outputs": [],
   "source": [
    "features=features.drop('CH4_1_2_1',axis=1)\n",
    "compute_vif(features).sort_values('VIF', ascending=False)"
   ]
  },
  {
   "cell_type": "code",
   "execution_count": null,
   "id": "ed1d0c05",
   "metadata": {},
   "outputs": [],
   "source": [
    "features=features.drop('TS_2_2_4',axis=1)\n",
    "compute_vif(features).sort_values('VIF', ascending=False)"
   ]
  },
  {
   "cell_type": "code",
   "execution_count": null,
   "id": "683c1ecd",
   "metadata": {},
   "outputs": [],
   "source": [
    "features=features.drop('RECO',axis=1)\n",
    "compute_vif(features).sort_values('VIF', ascending=False)"
   ]
  },
  {
   "cell_type": "code",
   "execution_count": null,
   "id": "4f33491f",
   "metadata": {},
   "outputs": [],
   "source": [
    "features=features.drop('CO2_STD',axis=1)\n",
    "compute_vif(features).sort_values('VIF', ascending=False)"
   ]
  },
  {
   "cell_type": "code",
   "execution_count": null,
   "id": "1f1947e3",
   "metadata": {},
   "outputs": [],
   "source": [
    "features=features.drop('H2O_MEAN',axis=1)\n",
    "compute_vif(features).sort_values('VIF', ascending=False)"
   ]
  },
  {
   "cell_type": "code",
   "execution_count": null,
   "id": "600197ef",
   "metadata": {},
   "outputs": [],
   "source": [
    "features=features.drop('SWC_1_2_4',axis=1)\n",
    "compute_vif(features).sort_values('VIF', ascending=False)"
   ]
  },
  {
   "cell_type": "code",
   "execution_count": null,
   "id": "fa35fbec",
   "metadata": {},
   "outputs": [],
   "source": [
    "features=features.drop('TS_2_2_5',axis=1)\n",
    "compute_vif(features).sort_values('VIF', ascending=False)"
   ]
  },
  {
   "cell_type": "code",
   "execution_count": null,
   "id": "edf8d207",
   "metadata": {},
   "outputs": [],
   "source": [
    "features=features.drop('SWC_1_1_4',axis=1)\n",
    "compute_vif(features).sort_values('VIF', ascending=False)"
   ]
  },
  {
   "cell_type": "code",
   "execution_count": null,
   "id": "e7f4ebdd",
   "metadata": {},
   "outputs": [],
   "source": [
    "features=features.drop('TS_STD',axis=1)\n",
    "compute_vif(features).sort_values('VIF', ascending=False)"
   ]
  },
  {
   "cell_type": "code",
   "execution_count": null,
   "id": "848d2f03",
   "metadata": {},
   "outputs": [],
   "source": [
    "features=features.drop('CH4_STD',axis=1)\n",
    "compute_vif(features).sort_values('VIF', ascending=False)"
   ]
  },
  {
   "cell_type": "code",
   "execution_count": null,
   "id": "e95a8e66",
   "metadata": {},
   "outputs": [],
   "source": [
    "features=features.drop('TA_1_4_1',axis=1)\n",
    "compute_vif(features).sort_values('VIF', ascending=False)"
   ]
  },
  {
   "cell_type": "code",
   "execution_count": null,
   "id": "a2e6983b",
   "metadata": {},
   "outputs": [],
   "source": [
    "features=features.drop('CO2_1_2_1',axis=1)\n",
    "compute_vif(features).sort_values('VIF', ascending=False)"
   ]
  },
  {
   "cell_type": "code",
   "execution_count": null,
   "id": "466552ec",
   "metadata": {},
   "outputs": [],
   "source": [
    "features=features.drop('TS_2_2_1',axis=1)\n",
    "compute_vif(features).sort_values('VIF', ascending=False)"
   ]
  },
  {
   "cell_type": "code",
   "execution_count": null,
   "id": "716df61a",
   "metadata": {},
   "outputs": [],
   "source": [
    "features=features.drop('soil_[CO2]_25cm',axis=1)\n",
    "compute_vif(features).sort_values('VIF', ascending=False)"
   ]
  },
  {
   "cell_type": "code",
   "execution_count": null,
   "id": "3d7a8782",
   "metadata": {},
   "outputs": [],
   "source": [
    "features=features.drop('SWC_1_2_6',axis=1)\n",
    "compute_vif(features).sort_values('VIF', ascending=False)"
   ]
  },
  {
   "cell_type": "code",
   "execution_count": null,
   "id": "8c937e13",
   "metadata": {},
   "outputs": [],
   "source": [
    "features=features.drop('CH4_1_1_2',axis=1)\n",
    "compute_vif(features).sort_values('VIF', ascending=False)"
   ]
  },
  {
   "cell_type": "code",
   "execution_count": null,
   "id": "06afcff7",
   "metadata": {},
   "outputs": [],
   "source": [
    "features=features.drop('WD_STD',axis=1)\n",
    "compute_vif(features).sort_values('VIF', ascending=False)"
   ]
  },
  {
   "cell_type": "code",
   "execution_count": null,
   "id": "5df4b5fc",
   "metadata": {},
   "outputs": [],
   "source": [
    "features=features.drop('LW_OUT',axis=1)\n",
    "compute_vif(features).sort_values('VIF', ascending=False)"
   ]
  },
  {
   "cell_type": "code",
   "execution_count": null,
   "id": "0cb8290c",
   "metadata": {},
   "outputs": [],
   "source": [
    "features=features.drop('SWC_1_2_2',axis=1)\n",
    "compute_vif(features).sort_values('VIF', ascending=False)"
   ]
  },
  {
   "cell_type": "code",
   "execution_count": null,
   "id": "478b1397",
   "metadata": {},
   "outputs": [],
   "source": [
    "features=features.drop('WS_STD',axis=1)\n",
    "compute_vif(features).sort_values('VIF', ascending=False)"
   ]
  },
  {
   "cell_type": "code",
   "execution_count": null,
   "id": "e757eaa8",
   "metadata": {},
   "outputs": [],
   "source": [
    "features=features.drop('CH4_1_4_1',axis=1)\n",
    "compute_vif(features).sort_values('VIF', ascending=False)"
   ]
  },
  {
   "cell_type": "code",
   "execution_count": null,
   "id": "b7331906",
   "metadata": {},
   "outputs": [],
   "source": [
    "features=features.drop('LAI',axis=1)\n",
    "compute_vif(features).sort_values('VIF', ascending=False)"
   ]
  },
  {
   "cell_type": "code",
   "execution_count": null,
   "id": "a8e3cfa6",
   "metadata": {},
   "outputs": [],
   "source": [
    "features=features.drop('TA_1_2_1',axis=1)\n",
    "compute_vif(features).sort_values('VIF', ascending=False)"
   ]
  },
  {
   "cell_type": "code",
   "execution_count": null,
   "id": "8cb13910",
   "metadata": {},
   "outputs": [],
   "source": [
    "features=features.drop('SWC_1_1_3',axis=1)\n",
    "compute_vif(features).sort_values('VIF', ascending=False)"
   ]
  },
  {
   "cell_type": "code",
   "execution_count": null,
   "id": "d0051a76",
   "metadata": {},
   "outputs": [],
   "source": [
    "features=features.drop('CO2_MEAN',axis=1)\n",
    "compute_vif(features).sort_values('VIF', ascending=False)"
   ]
  },
  {
   "cell_type": "code",
   "execution_count": null,
   "id": "cfe31d0a",
   "metadata": {},
   "outputs": [],
   "source": [
    "features"
   ]
  },
  {
   "cell_type": "code",
   "execution_count": null,
   "id": "ecb738fe",
   "metadata": {},
   "outputs": [],
   "source": [
    "#'CO2_MEAN,'TA_1_2_1','SWC_1_1_3' from original dataset to acknowledge potential multicollinearity issues VIF<4."
   ]
  },
  {
   "cell_type": "code",
   "execution_count": null,
   "id": "23bc0cfb",
   "metadata": {},
   "outputs": [],
   "source": [
    "filepath = Path('/Users/bgay/Downloads/data_ak_vif.csv')\n",
    "filepath.parent.mkdir(parents=True, exist_ok=True)\n",
    "features.to_csv(filepath)"
   ]
  },
  {
   "cell_type": "code",
   "execution_count": null,
   "id": "457d0915",
   "metadata": {},
   "outputs": [],
   "source": [
    "file = os.path.join('/Users/bgay/Downloads/data_ak_vif.csv')\n",
    "vifdf = pd.read_csv(file)"
   ]
  },
  {
   "cell_type": "code",
   "execution_count": null,
   "id": "14822277",
   "metadata": {},
   "outputs": [],
   "source": [
    "vifdf=features"
   ]
  },
  {
   "cell_type": "code",
   "execution_count": null,
   "id": "7734b38a",
   "metadata": {},
   "outputs": [],
   "source": [
    "vifdf.index=df.index\n",
    "vifdf.index.name = None\n",
    "vifdf=vifdf.sort_index()"
   ]
  },
  {
   "cell_type": "code",
   "execution_count": null,
   "id": "bd3d3054",
   "metadata": {},
   "outputs": [],
   "source": [
    "#vifdf=vifdf.drop(vifdf.columns[-1], axis=1) #Get rid of rightmost 'intercept' column (1's) from previous VIF method"
   ]
  },
  {
   "cell_type": "code",
   "execution_count": null,
   "id": "dfe7f667",
   "metadata": {},
   "outputs": [],
   "source": [
    "print(vifdf.columns.values.tolist())"
   ]
  },
  {
   "cell_type": "code",
   "execution_count": null,
   "id": "767771a3",
   "metadata": {},
   "outputs": [],
   "source": [
    "vifdf.replace(-9999,np.nan).describe()"
   ]
  },
  {
   "cell_type": "code",
   "execution_count": null,
   "id": "5061ae54",
   "metadata": {},
   "outputs": [],
   "source": [
    "# df=df.drop(columns='SWC_DEPTH', axis=1)\n",
    "# df=df.drop(columns='CH4_MEAN', axis=1)\n",
    "# df=df.drop(columns='CH4_MIXING_RATIO_MEAN', axis=1)\n",
    "# df=df.drop(columns='CH4_MIXING_RATIO_STD', axis=1)\n",
    "# df=df.drop(columns='SOIL_PCAR', axis=1)\n",
    "# df=df.drop(columns='TS_MEAN', axis=1)"
   ]
  },
  {
   "cell_type": "markdown",
   "id": "6a4d361e",
   "metadata": {},
   "source": [
    "## Filter dataframe with VIF array"
   ]
  },
  {
   "cell_type": "code",
   "execution_count": null,
   "id": "43e0cd2f",
   "metadata": {},
   "outputs": [],
   "source": [
    "vif_list=['WS_MEAN', 'WD_MEAN', 'CO2_1_1_1', 'CO2_1_3_1', 'CO2_1_4_1', 'soil_[CO2]_5cm', 'soil_[CO2]_15cm', \n",
    "'CH4_MEAN', 'CH4_1_1_1', 'CH4_1_3_1', 'FCH4_1', 'FCH4_2', 'FCH4_3', 'CH4_MR_MEAN', \n",
    "'CH4_MR_STD', 'TA_1_1_1', 'TA_1_3_1', 'TA_1_5_1', 'H', 'LE', 'SW_IN_MEAN', 'SW_IN_STD', 'SW_IN', \n",
    "'SW_OUT', 'LW_IN', 'NETRAD', 'G_1_1_1', 'G_1_1_2', 'G_1_1_3', 'G_1_1_4', 'G_1_1_5', 'TS_MEAN', 'TS_1_1_1', \n",
    "'TS_1_1_2', 'TS_2_2_2', 'TS_2_3_2', 'P', 'H2O_STD', 'H2O', 'FC', 'SWC_DEPTH', 'SWC_1_1_1', 'SWC_1_1_2', \n",
    "'SWC_1_1_5', 'SWC_1_1_6', 'SWC_1_2_1', 'SWC_1_2_3', 'SWC_1_2_5', 'WTD_1_1_1', 'WTD_2_1_1', 'WTD_3_1_1', \n",
    "'TW_1_1_1', 'TW_2_1_1', 'D_SNOW', 'SOIL_PCAR', 'ALT']"
   ]
  },
  {
   "cell_type": "code",
   "execution_count": null,
   "id": "0294cb39",
   "metadata": {},
   "outputs": [],
   "source": [
    "nointdf=nointdf[vif_list].dropna(axis=0,how='all')#.drop_duplicates()"
   ]
  },
  {
   "cell_type": "code",
   "execution_count": null,
   "id": "4aed4b14",
   "metadata": {},
   "outputs": [],
   "source": [
    "df2=df2.loc[:,vif_list]\n",
    "#df4=df2.loc[:,vif_list].drop_duplicates().dropna(axis=0,how='all')"
   ]
  },
  {
   "cell_type": "code",
   "execution_count": null,
   "id": "bc2318a0-cabf-480e-8534-f0c5021697a5",
   "metadata": {},
   "outputs": [],
   "source": [
    "nointdf=nointdf.replace(-9999,np.nan).dropna(axis=0,how='all')\n",
    "df2=df2.replace(-9999,np.nan).dropna(axis=0,how='all')"
   ]
  },
  {
   "cell_type": "markdown",
   "id": "8bfd2970-db7b-4771-8593-2a3197dd36b9",
   "metadata": {
    "jp-MarkdownHeadingCollapsed": true
   },
   "source": [
    "#### Archived"
   ]
  },
  {
   "cell_type": "code",
   "execution_count": null,
   "id": "a9d7c354",
   "metadata": {},
   "outputs": [],
   "source": [
    "plt.plot(nointdf_2.loc['2011':'2021','ALT'].dropna().values)"
   ]
  },
  {
   "cell_type": "code",
   "execution_count": null,
   "id": "5bd61cfa",
   "metadata": {},
   "outputs": [],
   "source": [
    "plt.plot(df4.loc['2011':'2021','ALT'].dropna().values)"
   ]
  },
  {
   "cell_type": "code",
   "execution_count": null,
   "id": "b84e0d44",
   "metadata": {},
   "outputs": [],
   "source": [
    "plt.plot(nointdf_2.loc['2011':'2021','FCH4_1'].dropna().values)"
   ]
  },
  {
   "cell_type": "code",
   "execution_count": null,
   "id": "97a3c5f9",
   "metadata": {},
   "outputs": [],
   "source": [
    "plt.plot(df4.loc['2011':'2021','FCH4_1'].dropna().values)"
   ]
  },
  {
   "cell_type": "code",
   "execution_count": null,
   "id": "4af7e110",
   "metadata": {},
   "outputs": [],
   "source": [
    "plt.plot(nointdf_2.loc['2011':'2021','CO2_1_1_1'].dropna().values)"
   ]
  },
  {
   "cell_type": "code",
   "execution_count": null,
   "id": "08f15ad0",
   "metadata": {},
   "outputs": [],
   "source": [
    "plt.plot(df4.loc['2011':'2021','CO2_1_1_1'].dropna().values)"
   ]
  },
  {
   "cell_type": "code",
   "execution_count": null,
   "id": "69e94ce0",
   "metadata": {},
   "outputs": [],
   "source": [
    "#df3.describe().T"
   ]
  },
  {
   "cell_type": "code",
   "execution_count": null,
   "id": "51a0d551",
   "metadata": {},
   "outputs": [],
   "source": [
    "#df4.describe().T"
   ]
  },
  {
   "cell_type": "code",
   "execution_count": null,
   "id": "bdf80844",
   "metadata": {},
   "outputs": [],
   "source": [
    "#df[~((df>qdf.loc[high]) & (df<qdf.loc[high]))].dropna()"
   ]
  },
  {
   "cell_type": "code",
   "execution_count": null,
   "id": "d09112fe",
   "metadata": {},
   "outputs": [],
   "source": [
    "#df.memory_usage(deep=True).sum()\n",
    "#features.memory_usage(deep=True).sum()\n",
    "#1113205440/1796752640\n",
    "#1-0.6195652173913043\n",
    "#38.043% data compression (683.547MB)"
   ]
  },
  {
   "cell_type": "code",
   "execution_count": null,
   "id": "1d44481c",
   "metadata": {},
   "outputs": [],
   "source": [
    "# from statsmodels.stats.outliers_influence import variance_inflation_factor\n",
    "  \n",
    "# # the independent variables set\n",
    "# X = df2.values\n",
    "  \n",
    "# # VIF dataframe\n",
    "# vif_data = pd.DataFrame()\n",
    "# vif_data[\"feature\"] = X.columns\n",
    "  \n",
    "# # calculating VIF for each feature\n",
    "# vif_data[\"VIF\"] = [variance_inflation_factor(X.values, i)\n",
    "#                           for i in range(len(X.columns))]\n",
    "  \n",
    "# print(vif_data)"
   ]
  },
  {
   "cell_type": "markdown",
   "id": "318f934c",
   "metadata": {
    "jp-MarkdownHeadingCollapsed": true
   },
   "source": [
    "# Step 4: Correlations"
   ]
  },
  {
   "cell_type": "code",
   "execution_count": null,
   "id": "eacfa364",
   "metadata": {},
   "outputs": [],
   "source": [
    "highCorrList =[]\n",
    "corrDFCorr = nointdf.corr()\n",
    "columns = nointdf.columns\n",
    "\n",
    "for i in range(0, 10):\n",
    "    for j in range(i+1, 10):\n",
    "        tempCorr = corrDFCorr.iloc[i, j]\n",
    "        if (tempCorr >= 0.5 and tempCorr < 1) or (tempCorr < 0 and tempCorr <= -0.5):\n",
    "            highCorrList.append([tempCorr, i, j])\n",
    "\n",
    "highCorrList = sorted(highCorrList, key=lambda x: -abs(x[0]))\n",
    "\n",
    "for x, y, z in highCorrList:\n",
    "    print(\"{0} , {1} : {2}\".format(columns[y], columns[z], x))"
   ]
  },
  {
   "cell_type": "code",
   "execution_count": null,
   "id": "f64e2a16",
   "metadata": {},
   "outputs": [],
   "source": [
    "highCorrList =[]\n",
    "corrDFCorr = df2.corr()\n",
    "columns = df2.columns\n",
    "\n",
    "for i in range(0, 10):\n",
    "    for j in range(i+1, 10):\n",
    "        tempCorr = corrDFCorr.iloc[i, j]\n",
    "        if (tempCorr >= 0.5 and tempCorr < 1) or (tempCorr < 0 and tempCorr <= -0.5):\n",
    "            highCorrList.append([tempCorr, i, j])\n",
    "\n",
    "highCorrList = sorted(highCorrList, key=lambda x: -abs(x[0]))\n",
    "\n",
    "for x, y, z in highCorrList:\n",
    "    print(\"{0} , {1} : {2}\".format(columns[y], columns[z], x))"
   ]
  },
  {
   "cell_type": "code",
   "execution_count": null,
   "id": "f38a286e",
   "metadata": {
    "jupyter": {
     "source_hidden": true
    }
   },
   "outputs": [],
   "source": [
    "#vifdf.max()\n",
    "#WS_MEAN,WD_MEAN,WTD_1_1_1, TS_MEAN, TS_1_1_2, SW_IN_MEAN, CH4_MIXING_RATIO_MEAN, FCH4_1,CH4_1_3_1,CO2_1_3_1"
   ]
  },
  {
   "cell_type": "code",
   "execution_count": null,
   "id": "d5182c28",
   "metadata": {
    "jupyter": {
     "source_hidden": true
    }
   },
   "outputs": [],
   "source": [
    "#pd.DataFrame(nointdf_2['ALT'].dropna()) #1969-2022\n",
    "#pd.DataFrame(nointdf_2['CO2_1_1_1'].dropna()) #2003-2021\n",
    "#pd.DataFrame(nointdf_2['FCH4_1'].dropna()) #2011-2022"
   ]
  },
  {
   "cell_type": "code",
   "execution_count": null,
   "id": "858b5f09",
   "metadata": {
    "jupyter": {
     "source_hidden": true
    }
   },
   "outputs": [],
   "source": [
    "#sns.color_palette(\"hls\", 56)"
   ]
  },
  {
   "cell_type": "code",
   "execution_count": null,
   "id": "e71294f3",
   "metadata": {},
   "outputs": [],
   "source": [
    "corrdf=nointdf.iloc[:,:].corr()\n",
    "plt.figure(figsize = (30, 25))\n",
    "#legend=sns.color_palette(\"hls\", 94)\n",
    "sns.heatmap(corrdf, cmap='icefire', vmax=0.8, robust=True, square=True, linewidths=0.45, linecolor='black', annot=False)\n",
    "#plt.savefig('dfnodups_24Sep23.svg', dpi=1000, bbox_inches='tight')"
   ]
  },
  {
   "cell_type": "code",
   "execution_count": null,
   "id": "efcd5281",
   "metadata": {},
   "outputs": [],
   "source": [
    "corrdf=df4.iloc[:,:].corr()\n",
    "plt.figure(figsize = (30, 25))\n",
    "#legend=sns.color_palette(\"hls\", 94)\n",
    "sns.heatmap(corrdf, cmap='icefire', vmax=0.8, robust=True, square=True, linewidths=0.45, linecolor='black', annot=False)\n",
    "#plt.savefig('dfnodups_24Sep23.svg', dpi=1000, bbox_inches='tight')"
   ]
  },
  {
   "cell_type": "code",
   "execution_count": null,
   "id": "e49642c1",
   "metadata": {
    "jupyter": {
     "source_hidden": true
    }
   },
   "outputs": [],
   "source": [
    "# sns.pairplot(dups)\n",
    "# plt.show()"
   ]
  },
  {
   "cell_type": "markdown",
   "id": "8a600734",
   "metadata": {
    "jp-MarkdownHeadingCollapsed": true
   },
   "source": [
    "## Statistics"
   ]
  },
  {
   "cell_type": "code",
   "execution_count": null,
   "id": "abc96fbd",
   "metadata": {},
   "outputs": [],
   "source": [
    "#df #91 features (-9999)\n",
    "#df3 #56 features (-9999)\n",
    "#df2 #91 features\n",
    "#df4 #56 features"
   ]
  },
  {
   "cell_type": "code",
   "execution_count": null,
   "id": "f231a7d4",
   "metadata": {},
   "outputs": [],
   "source": [
    "newdf=df2.copy()"
   ]
  },
  {
   "cell_type": "code",
   "execution_count": null,
   "id": "774e27b9",
   "metadata": {},
   "outputs": [],
   "source": [
    "q1 = newdf.quantile(0.25,interpolation='nearest')\n",
    "q3 = newdf.quantile(0.75,interpolation='nearest')\n",
    "iqr = q3 - q1\n",
    "out_low = q1 - 1.5 * iqr\n",
    "out_high = q3 + 1.5 * iqr\n",
    "cols=newdf.columns.tolist()\n",
    "newdf2=newdf[~((newdf < (out_low)) | (newdf > (out_high))).any(axis=1)]"
   ]
  },
  {
   "cell_type": "code",
   "execution_count": null,
   "id": "722b1ff6",
   "metadata": {},
   "outputs": [],
   "source": [
    "# #dic(dic['WS_MEAN']==True)]\n",
    "# #filter(dic.get, dic)\n",
    "# dic2={}\n",
    "# for key, value in dic.items():\n",
    "#     if value == True:\n",
    "#         dic2[key] = value\n",
    "\n",
    "# df[(df>qdf.loc[low,df.columns]) & (df < qdf.loc[high,df.columns])]\n",
    "# filtdf=df.apply(lambda x: df[(df>qdf.loc[low,df.columns]) & (df < qdf.loc[high,df.columns])], axis=0)\n",
    "# filtdf.dropna(inplace=True)\n",
    "# print(filtdf.head())\n",
    "\n",
    "#print(df[~((df < (q1 - 1.5 * iqr)) | (df > (q3 + 1.5 * iqr))).any(axis=1)==False].dropna())\n",
    "#df[~((df < (q1 - 1.5 * iqr)) |(df > (q3 + 1.5 * iqr))).any(axis=1)]\n",
    "\n",
    "#df[((df < out_low) | (df > out_high))==False].dropna().describe().T\n",
    "\n",
    "# cols=df.columns.tolist()\n",
    "# q=df[cols[0]].quantile([0.05, 0.95]).values\n",
    "# newdf=df[((df[cols[0]] > q[0]) & (df[cols[0]] < q[1]))]\n",
    "# for col in cols[1:]:\n",
    "#     q=df[col].quantile([0.05, 0.95]).values\n",
    "#     newdf.join(df[((df[col] > q[0]) & (df[col] < q[1]))], how='inner')\n",
    "\n",
    "#df[((df < out_low) | (df > out_high))]#==False].dropna()\n",
    "#df[((df < out_low) | (df > out_high))]\n",
    "#np.sum((df < out_low) | (df > out_high))\n",
    "#df[~((df < out_low) | (df > out_high)).any(axis=1)#==False].dropna().describe().T\n",
    "#df[((df < out_lowb) & (df > out_highb))==False].dropna()#.describe().T\n",
    "#df[~(((df >= (out_low)) & (df <= (out_high))).all(axis=1))]\n",
    "\n",
    "#out_low\n",
    "#df < out_low\n",
    "#np.sum(df < out_low)\n",
    "\n",
    "#(df < out_low) | (df > out_high)\n",
    "#np.sum((df < out_low) | (df > out_high))\n",
    "\n",
    "# dic={}\n",
    "# for col in df.columns.values:\n",
    "#     dic[col]=(df[col] < out_low[col]) | (df[col] > out_high[col])\n",
    "\n",
    "#(ex[cols[0]] < out_low[cols[0]]) | (ex[cols[0]] > out_high[cols[0]])\n",
    "#ex[((ex[cols[0]] == False) & (ex[cols[0]] == False))]\n",
    "\n",
    "#ex[((ex[cols[0]] == False))]\n",
    "\n",
    "#ex=ex[(ex['outliers_tukey'] == False)]\n",
    "#ex=ex.drop(columns=['outliers_tukey'])\n",
    "#ex.describe().T.head(10)\n",
    "\n",
    "#plt.plot(ex.groupby(ex.index).transform(np.mean)['ALT'])\n",
    "#plt.plot(ex.groupby(ex.index).transform(np.mean)['CO2_1_1_1'])\n",
    "#plt.plot(ex.groupby(ex.index).transform(np.mean)['FCH4_1'])\n",
    "#sns.boxplot(data=ex.groupby(ex.index).transform(np.mean)['ALT'], orient=\"v\", palette='viridis')\n",
    "#sns.boxplot(data=ex['ALT'], orient=\"v\", palette='viridis')\n",
    "#sns.displot(kind='kde',data=ex.groupby(ex.index).transform(np.mean)['ALT'])\n",
    "#sns.displot(kind='kde',data=ex.groupby(ex.index).transform(np.mean)['CO2_1_1_1'])\n",
    "#sns.displot(kind='kde',data=ex.groupby(ex.index).transform(np.mean)['FCH4_1'])\n",
    "#plt.show()\n",
    "\n",
    "# extr=ex.groupby(ex.index).transform(np.mean)\n",
    "# extr.describe().T.head(10)\n",
    "\n",
    "#ex.loc[~ex.loc[:,out[1]]]\n",
    "#ex.loc[~((ex.loc[:,out[-2]] & ex.loc[:,out[-1]]))]\n",
    "#ex.loc[:,(ex.iloc[:,-1]).values]\n",
    "#ex[~(ex.loc[:,out[col]] == False) | (ex.loc[:,out[col]] == False)].value_counts(out[-1])\n",
    "\n",
    "# def qdf(s,k=1.5,return_thresholds=False):\n",
    "#     q25, q75 = np.percentile(s, 5), np.percentile(s, 95)\n",
    "#     #q25, q75 = df.quantile(0.05,interpolation='nearest'), df.quantile(0.95,interpolation='nearest')\n",
    "#     iqr = q75 - q25\n",
    "#     cut_off = iqr * k\n",
    "#     lower, upper = q25 - cut_off, q75 + cut_off\n",
    "#     if return_thresholds:\n",
    "#         return lower, upper\n",
    "#     else:\n",
    "#         return [True if x < lower or x > upper else False for x in s]\n",
    "\n",
    "#iqr1 = df.apply(qdf)"
   ]
  },
  {
   "cell_type": "code",
   "execution_count": null,
   "id": "ae8025d6",
   "metadata": {},
   "outputs": [],
   "source": [
    "ex=newdf2.copy()\n",
    "cols=ex.columns.tolist()\n",
    "for col in cols:\n",
    "    ex[col+'_outliers_tukey'] = (ex[col] < out_low[col]) | (ex[col] > out_high[col])"
   ]
  },
  {
   "cell_type": "code",
   "execution_count": null,
   "id": "00b1c8b7",
   "metadata": {},
   "outputs": [],
   "source": [
    "out=ex.columns[-56:].tolist()"
   ]
  },
  {
   "cell_type": "code",
   "execution_count": null,
   "id": "f05c174e",
   "metadata": {},
   "outputs": [],
   "source": [
    "ex.drop(columns=out, axis=1)['ALT'].dropna()"
   ]
  },
  {
   "cell_type": "code",
   "execution_count": null,
   "id": "8987c741",
   "metadata": {},
   "outputs": [],
   "source": [
    "pd.DataFrame(ex[((ex[cols[1]] == False)).dropna()].all(axis=1))#.dropna()"
   ]
  },
  {
   "cell_type": "code",
   "execution_count": null,
   "id": "26438b3d",
   "metadata": {},
   "outputs": [],
   "source": [
    "for col in cols:\n",
    "    ex[((ex[cols] == False)).dropna()].all(axis=1)#.dropna()"
   ]
  },
  {
   "cell_type": "code",
   "execution_count": null,
   "id": "b4dd80ef",
   "metadata": {},
   "outputs": [],
   "source": [
    "out=ex.columns[-53:].tolist()\n",
    "for col in out:\n",
    "    ex2=ex[(ex[col]==False).dropna()]\n",
    "\n",
    "ex2.drop(columns=out, axis=1, inplace=True)\n",
    "ex2.describe().T.head(10)"
   ]
  },
  {
   "cell_type": "code",
   "execution_count": null,
   "id": "fc46bd06",
   "metadata": {},
   "outputs": [],
   "source": [
    "cols=ex.columns.tolist()\n",
    "for col in cols:\n",
    "    lower_quantile, upper_quantile = df[col].quantile([.25, .75])\n",
    "    df.loc[(df[col] > lower_quantile) & (df[col] < upper_quantile)].head()"
   ]
  },
  {
   "cell_type": "code",
   "execution_count": null,
   "id": "9aa0624f",
   "metadata": {},
   "outputs": [],
   "source": [
    "from statsmodels.tsa.seasonal import MSTL\n",
    "stl_kwargs = {\"seasonal_deg\": 0} \n",
    "model = MSTL(ex2.ALT, periods=(54), stl_kwargs=stl_kwargs)\n",
    "res = model.fit()\n",
    "seasonal = res.seasonal # contains both seasonal components\n",
    "trend = res.trend\n",
    "residual = res.resid"
   ]
  },
  {
   "cell_type": "code",
   "execution_count": null,
   "id": "d9480a21",
   "metadata": {},
   "outputs": [],
   "source": [
    "plt.figure(figsize=(10,6))\n",
    "plt.plot(ex2.ALT.values,label='ALT')\n",
    "plt.plot(seasonal.values,label='seasonal')\n",
    "plt.plot(trend.values,label='trend')\n",
    "plt.plot(residual.values,label='residual')\n",
    "plt.legend()\n",
    "plt.show()"
   ]
  },
  {
   "cell_type": "code",
   "execution_count": null,
   "id": "9a0f99f9",
   "metadata": {},
   "outputs": [],
   "source": [
    "len(ex.ALT.replace(0,np.nan).dropna())/11\n",
    "#len(ex.CO2_1_1_1.replace(0,np.nan).dropna())/54\n",
    "#len(ex.FCH4_1.replace(0,np.nan).dropna())/54"
   ]
  },
  {
   "cell_type": "code",
   "execution_count": null,
   "id": "e63f6aba",
   "metadata": {},
   "outputs": [],
   "source": [
    "seasonal_decompose(ex2.ALT.replace(0,np.nan).dropna(), model='yearly', extrapolate_trend='freq', period=10).plot()#period=45091).plot()\n",
    "plt.show()"
   ]
  },
  {
   "cell_type": "code",
   "execution_count": null,
   "id": "69f6c638",
   "metadata": {},
   "outputs": [],
   "source": [
    "seasonal_decompose(ex2.CO2_1_1_1.replace(0,np.nan).dropna(), model='yearly', extrapolate_trend='freq', period=10).plot()#period=45156).plot()\n",
    "plt.show()"
   ]
  },
  {
   "cell_type": "code",
   "execution_count": null,
   "id": "efefe414",
   "metadata": {},
   "outputs": [],
   "source": [
    "seasonal_decompose(ex2.FCH4_1.replace(0,np.nan).dropna(), model='yearly', extrapolate_trend='freq', period=10).plot()#period=45091).plot()\n",
    "plt.show()"
   ]
  },
  {
   "cell_type": "code",
   "execution_count": null,
   "id": "d7f6bc9a",
   "metadata": {},
   "outputs": [],
   "source": [
    "plot_acf(ex2.ALT,lags= 30)\n",
    "plt.show()"
   ]
  },
  {
   "cell_type": "code",
   "execution_count": null,
   "id": "6ff262f7",
   "metadata": {},
   "outputs": [],
   "source": [
    "plot_pacf(ex2.ALT, lags=30)\n",
    "plt.show()"
   ]
  },
  {
   "cell_type": "code",
   "execution_count": null,
   "id": "e86cb238",
   "metadata": {},
   "outputs": [],
   "source": [
    "#The dataset is highly non-stationary as can be seen from the ACF and PACF plots."
   ]
  },
  {
   "cell_type": "code",
   "execution_count": null,
   "id": "e76c9fdd",
   "metadata": {},
   "outputs": [],
   "source": [
    "ex2"
   ]
  },
  {
   "cell_type": "code",
   "execution_count": null,
   "id": "a748919f",
   "metadata": {},
   "outputs": [],
   "source": [
    "ex2.shape"
   ]
  },
  {
   "cell_type": "code",
   "execution_count": null,
   "id": "b45171c4",
   "metadata": {},
   "outputs": [],
   "source": [
    "#pd.DataFrame(ex.describe().T).head(50)\n",
    "#pd.DataFrame(df.describe().T).tail(50)\n",
    "#ex.describe().T.head(10)"
   ]
  },
  {
   "cell_type": "code",
   "execution_count": null,
   "id": "86881f61",
   "metadata": {},
   "outputs": [],
   "source": [
    "#\t        \tcount\t\tmean\t\tstd\t\t\tmin\t\t\t\t25%\t\t\t50%\t\t\t75%\t\t\tmax\n",
    "#WS_MEAN\t    2441240.0\t-331.962269\t1250.621935\t-7999.180000\t1.043000\t2.730000\t5.181400\t359.999000\n",
    "#WS_STD\t    \t2441240.0\t887.473228\t1927.005984\t0.000000\t\t1.001022\t1.198322\t1.198322\t5784.826406\n",
    "#WD_MEAN    \t2441240.0\t-414.366847\t1695.705661\t-7999.194729\t59.598000\t121.972700\t227.479000\t360.000000\n",
    "#WD_STD\t    \t2441240.0\t1141.633877\t2187.161895\t0.000000\t\t9.522521\t15.148940\t15.148940\t5974.249502\n",
    "#CO2_MEAN\t\t2441240.0\t-944.158394\t2724.131753\t-9055.249031\t400.366661\t413.442133\t413.442133\t666.757231\n",
    "#CO2_STD\t   \t2441240.0\t948.961290\t1917.391558\t0.000000\t\t2.200290\t4.849716\t4.849716\t5527.841799\n",
    "#CO2_1_1_1\t\t2441240.0\t377.720295\t106.708493\t-7.945502\t\t380.989908\t399.500000\t417.500000\t986.000000\n",
    "#CO2_1_2_1\t\t2441240.0\t407.034613\t27.799666\t320.116000\t\t391.019095\t413.971332\t414.360631\t775.028400\n",
    "#CO2_1_3_1\t\t2441240.0\t409.444220\t25.439992\t316.768000\t\t393.998469\t413.773026\t418.861556\t755.544795\n",
    "#CO2_1_4_1\t\t2441240.0\t420.343604\t48.551287\t-4.663500\t\t398.251900\t412.041100\t430.183700\t899.182400\n",
    "#soil_[CO2]_5cm\t2441240.0\t888.149674\t186.787902\t100.100000\t\t840.000000\t942.000000\t942.000000\t5963.000000\n",
    "#soil_[CO2]_15cm2441240.0\t947.248324\t322.106599\t100.200000\t\t607.400000\t1167.000000\t1167.000000\t5938.000000\n",
    "#soil_[CO2]_25cm2441240.0\t1162.015365\t550.594556\t-9.300000\t\t562.400000\t1605.000000\t1605.000000\t6016.000000\n",
    "#CH4_MEAN\t    2441240.0\t8.658754\t1.247081\t-0.484000\t\t8.986000\t8.986000\t8.986000\t62.935000\n",
    "#CH4_STD\t   \t2441240.0\t0.060128\t0.010965\t0.001000\t\t0.065000\t0.065000\t0.065000\t0.150000\n",
    "#CH4_1_1_1\t\t2441240.0\t1896.517305\t481.218456\t-25.765400\t\t1899.480259\t1974.101588\t2081.330000\t6783.800000\n",
    "#CH4_1_2_1\t\t2441240.0\t1900.530605\t55.243138\t1010.941348\t\t1885.611720\t1906.542170\t1920.939435\t3119.338807\n",
    "#CH4_1_3_1\t\t2441240.0\t1902.909639\t59.669274\t1000.507117\t\t1883.295314\t1902.294335\t1921.933575\t3124.718378\n",
    "#CH4_1_4_1\t\t2441240.0\t1904.101243\t55.481003\t1023.379951\t\t1892.642250\t1912.788370\t1921.545445\t3122.626322\n",
    "#CH4_1_1_2\t\t2441240.0\t2002.534057\t69.560109\t1519.870000\t\t1944.000000\t1992.000000\t2065.000000\t2969.000000\n",
    "#FCH4_1\t    \t2441240.0\t47.586074\t228.989749\t-2255.044730\t-0.485019\t1.201585\t10.149789\t1805.150000\n",
    "#FCH4_2\t    \t2441240.0\t0.396615\t0.502794\t-2.798230\t\t0.000127\t0.006140\t0.952362\t4.517780\n",
    "#FCH4_3\t    \t2441240.0\t0.521419\t0.335826\t-2.705823\t\t0.508771\t0.508771\t0.673438\t7.846163\n",
    "#CH4_RATIO_MEAN\t2441240.0\t2051.293488\t512.171326\t-7606.679992\t2098.635200\t2098.635200\t2098.635200\t3083.678345\n",
    "#CH4_RATIO_STD\t2441240.0\t42.017689\t508.251702\t0.000000\t\t0.000000\t0.000000\t0.000000\t7243.801479\n",
    "#TA_1_1_1\t\t2441240.0\t-2.465523\t14.871898\t-46.610000\t\t-12.510752\t-1.766000\t8.796862\t49.050000\n",
    "#TA_1_2_1\t\t2441240.0\t-8.196320\t14.990450\t-47.310905\t\t-20.874000\t-11.145001\t2.817000\t33.095001\n",
    "#TA_1_3_1\t\t2441240.0\t-6.669106\t14.556445\t-48.199076\t\t-17.393300\t-9.752896\t3.623632\t33.622998\n",
    "#TA_1_4_1\t\t2441240.0\t-8.417416\t15.854576\t-50.411146\t\t-20.321560\t-10.182999\t2.998077\t34.726747\n",
    "#TA_1_5_1\t\t2441240.0\t-5.550884\t5.371307\t-30.904200\t\t-8.888400\t-8.888400\t-0.947300\t21.493200\n",
    "#H\t        \t2441240.0\t12.508008\t51.296174\t-490.227957\t\t-9.814500\t-0.941325\t16.095887\t788.152896\n",
    "#LE\t        \t2441240.0\t18.472419\t36.316575\t-378.790000\t\t-0.233658\t2.075250\t20.405000\t577.900000\n",
    "#SW_IN_MEAN\t\t2441240.0\t36.829852\t219.248627\t-6667.313333\t-0.300000\t-0.300000\t1.695000\t931.296667\n",
    "#SW_IN_STD\t\t2441240.0\t10.036924\t222.459307\t0.000000\t\t1.011484\t1.011484\t2.184960\t7585.205152\n",
    "#SW_IN\t    \t2441240.0\t109.703758\t172.364710\t-14.190000\t\t0.000000\t14.100000\t154.621442\t947.125621\n",
    "#SW_OUT\t    \t2441240.0\t33.252744\t71.092313\t-13.120000\t\t0.226913\t5.080000\t31.240000\t860.703593\n",
    "#LW_IN\t    \t2441240.0\t269.742140\t56.167293\t106.000000\t\t228.000000\t284.100000\t314.705652\t487.349048\n",
    "#LW_OUT\t    \t2441240.0\t298.601912\t60.539794\t135.600000\t\t249.805618\t303.213841\t338.000000\t539.200000\n",
    "#NETRAD\t    \t2441240.0\t33.688920\t100.038253\t-611.138000\t\t-15.004500\t-0.883984\t37.402250\t795.030000\n",
    "#G_1_1_1 \t\t2441240.0\t1.990315\t12.330120\t-172.078500\t\t-3.947000\t-0.577845\t4.574700\t296.700000\n",
    "#G_1_1_2 \t\t2441240.0\t0.638221\t11.197455\t-72.040000\t\t-5.126286\t-1.489326\t4.730000\t360.300000\n",
    "#G_1_1_3 \t\t2441240.0\t1.763595\t11.231484\t-63.300600\t\t-3.435000\t-0.206000\t4.553000\t318.800000\n",
    "#G_1_1_4 \t\t2441240.0\t1.829016\t13.570547\t-71.250000\t\t-5.172555\t-0.928000\t4.182965\t223.600000\n",
    "#G_1_1_5\t\t2441240.0\t0.551955\t0.712206\t0.233000\t\t0.389000\t0.389000\t0.389000\t3.737000\n",
    "#TS_MEAN\t    2441240.0\t-325.164645\t844.372255\t-9776.826378\t-1.328250\t-0.315711\t-0.315711\t18.745000\n",
    "#TS_STD\t    \t2441240.0\t601.043140\t1418.530796\t0.000000\t\t0.549789\t0.549789\t1.935710\t5063.031841\n",
    "#TS_1_1_1\t\t2441240.0\t-1.092178\t7.629765\t-42.996000\t\t-4.301000\t-1.017000\t3.493000\t51.823000\n",
    "#TS_1_1_2\t\t2441240.0\t-4.207983\t157.221466\t-7999.000000\t-3.208000\t-1.043000\t2.531000\t45.254000\n",
    "#TS_1_1_3\t\t2441240.0\t-8.491679\t157.268365\t-7999.000000\t-14.902600\t-2.707700\t3.506200\t44.461000\n",
    "#TS_2_2_1\t\t2441240.0\t-4.732272\t7.098692\t-26.425000\t\t-10.180300\t-6.178000\t0.522000\t36.236000\n",
    "#TS_2_2_2\t\t2441240.0\t-6.621048\t8.309621\t-29.256700\t\t-12.664900\t-6.723000\t-0.121000\t26.702000\n",
    "#TS_2_2_3\t\t2441240.0\t-5.711360\t7.335875\t-24.108700\t\t-11.348400\t-7.343000\t-0.109000\t26.738000\n",
    "#TS_2_2_4\t\t2441240.0\t-5.587507\t6.868196\t-22.223000\t\t-11.065000\t-5.427000\t-0.093000\t23.229000\n",
    "#TS_2_2_5\t\t2441240.0\t-5.249312\t6.574343\t-21.901400\t\t-10.292900\t-6.990000\t-0.106000\t25.419000\n",
    "#TS_2_2_6\t\t2441240.0\t-11.296611\t6.772314\t-24.048200\t\t-16.005600\t-11.512500\t-9.704000\t9.701300\n",
    "#TS_2_3_1\t\t2441240.0\t-9.805826\t4.966600\t-19.198400\t\t-13.407100\t-9.548600\t-8.872500\t1.755900\n",
    "#TS_2_3_2\t\t2441240.0\t-11.778162\t6.528402\t-25.925200\t\t-16.373600\t-11.689100\t-10.853700\t5.141900\n",
    "#TS_2_3_3\t\t2441240.0\t-10.729196\t5.854499\t-22.447100\t\t-15.331100\t-10.322600\t-9.809800\t3.081400\n",
    "#TS_2_3_4\t\t2441240.0\t-10.343749\t5.496603\t-20.367800\t\t-14.402500\t-10.166200\t-9.270900\t3.202000\n",
    "#TS_2_3_5\t\t2441240.0\t-10.244916\t5.554786\t-20.685300\t\t-14.551900\t-9.615000\t-8.742800\t2.911900\n",
    "#TS_2_3_6\t\t2441240.0\t-10.587016\t5.580946\t-21.927200\t\t-14.640200\t-10.239500\t-8.995200\t2.947300\n",
    "#P\t        \t2441240.0\t0.022381\t0.086476\t0.000000\t\t0.000000\t0.000000\t0.000000\t5.503000\n",
    "#H2O_MEAN\t\t2441240.0\t-1342.83356\t2657.907842\t-9089.996319\t0.326297\t3.684906\t3.684906\t21.047164\n",
    "#H2O_STD    \t2441240.0\t908.820992\t1848.977086\t0.000000\t\t0.402464\t0.496981\t0.496981\t5277.931325\n",
    "#H2O        \t2441240.0\t1.128872\t2.800040\t-0.114200\t\t0.000000\t0.000000\t0.000000\t34.665985\n",
    "#FC\t        \t2441240.0\t-0.347858\t2.498192\t-87.339926\t\t-0.818113\t0.033374\t0.403652\t35.034619\n",
    "#SWC_1_1_1\t\t2441240.0\t24.138536\t26.748149\t-0.420365\t\t0.507871\t7.296000\t51.976000\t95.376089\n",
    "#SWC_1_1_2\t\t2441240.0\t24.865874\t29.855438\t-0.523000\t\t2.534696\t10.232692\t46.566750\t100.000000\n",
    "#SWC_1_1_3\t\t2441240.0\t30.714429\t28.391120\t0.000000\t\t4.700000\t13.401000\t60.400000\t100.347200\n",
    "#SWC_1_1_4\t\t2441240.0\t39.748796\t36.400212\t3.530000\t\t5.841000\t17.200000\t78.700000\t91.427530\n",
    "#SWC_1_1_5\t\t2441240.0\t39.622339\t34.767995\t3.420000\t\t7.600000\t20.655000\t82.900000\t87.500000\n",
    "#SWC_1_1_6\t\t2441240.0\t5.944257\t4.913053\t3.590000\t\t4.300000\t4.780000\t4.910000\t52.140000\n",
    "#SWC_1_2_1\t\t2441240.0\t6.249867\t5.648614\t3.770000\t\t4.900000\t5.310000\t5.450000\t43.720000\n",
    "#SWC_1_2_2\t\t2441240.0\t6.148201\t8.728736\t0.970000\t\t3.710000\t4.610000\t5.090000\t52.170000\n",
    "#SWC_1_2_3\t\t2441240.0\t2.016762\t3.753615\t0.000000\t\t0.000000\t0.000000\t3.620000\t52.140000\n",
    "#SWC_1_2_4\t\t2441240.0\t7.456244\t5.042052\t3.410000\t\t5.560000\t6.700000\t7.240000\t39.650000\n",
    "#SWC_1_2_5\t\t2441240.0\t4.783614\t5.751039\t2.180000\t\t2.540000\t3.470000\t4.850000\t52.170000\n",
    "#SWC_1_2_6\t\t2441240.0\t4.823020\t6.472847\t0.770000\t\t2.810000\t4.180000\t5.320000\t52.180000\n",
    "#WTD_1_1_1\t\t2441240.0\t-0.256127\t0.498422\t-41.663177\t\t-0.294235\t-0.251388\t-0.197579\t38.730000\n",
    "#WTD_2_1_1\t\t2441240.0\t-0.166526\t0.084358\t-0.419513\t\t-0.182408\t-0.177365\t-0.143416\t0.101803\n",
    "#WTD_3_1_1\t\t2441240.0\t-0.201460\t0.053191\t-0.514551\t\t-0.232697\t-0.195987\t-0.195987\t0.015637\n",
    "#TW_1_1_1\t\t2441240.0\t0.546933\t0.612445\t-1.445000\t\t0.090620\t0.396000\t1.062000\t10.000000\n",
    "#TW_2_1_1\t\t2441240.0\t0.324193\t1.137814\t-0.990989\t\t-0.757230\t0.194141\t0.873618\t9.992849\n",
    "#D_SNOW\t    \t2441240.0\t29.666221\t22.233278\t-5.600000\t\t10.700000\t30.461748\t44.200000\t161.000000\n",
    "#LAI        \t2441240.0\t0.571146\t0.287920\t0.000000\t\t0.192500\t0.762990\t0.762990\t4.103644\n",
    "#SOIL_PCAR\t\t2441240.0\t3.400164\t0.081159\t3.400000\t\t3.400000\t3.400000\t3.400000\t43.500000\n",
    "#NEE        \t2441240.0\t-24.274624\t23.817989\t-123.134742\t\t-41.103618\t-41.103618\t8.095337\t95.498533\n",
    "#GPP\t       \t2441240.0\t-68.797773\t49.251730\t-308.095015\t\t-103.168878\t-103.168878\t-2.287701\t30.097280\n",
    "#RECO    \t\t2441240.0\t44.520055\t25.529208\t0.000000\t\t10.383038\t62.065259\t62.065259\t288.973895\n",
    "#ALT\t        2441240.0\t47.373584\t15.105199\t0.000000\t\t33.000000\t43.000000\t57.000000\t271.00000#0"
   ]
  },
  {
   "cell_type": "code",
   "execution_count": null,
   "id": "051df121",
   "metadata": {},
   "outputs": [],
   "source": [
    "sns.kdeplot(ex2.ALT)"
   ]
  },
  {
   "cell_type": "code",
   "execution_count": null,
   "id": "7d3e2126",
   "metadata": {},
   "outputs": [],
   "source": [
    "sns.kdeplot(ex2.ALT[~(ex2.ALT < 20) & ~(ex2.ALT > 80)], shade=True)"
   ]
  },
  {
   "cell_type": "code",
   "execution_count": null,
   "id": "1e87a673",
   "metadata": {},
   "outputs": [],
   "source": [
    "newdf=ex.WS_MEAN[~(ex.WS_MEAN < -1993) & ~(ex.WS_MEAN > 12.5)]\n",
    "newdf=newdf.WD_MEAN[~(newdf.WD_MEAN < -500)]\n",
    "newdf=newdf.FCH4_1[~(newdf.FCH4_1 < 0) & ~(newdf.FCH4_1 > 100)]\n",
    "newdf=newdf.CO2_1_1_1[~(newdf.CO2_1_1_1 < 300) & ~(newdf.CO2_1_1_1 > 550)]\n",
    "newdf=newdf.CO2_1_4_1[~(newdf.CO2_1_4_1 < 300) & ~(newdf.CO2_1_4_1 > 650)]\n",
    "newdf=newdf.CH4_1_1_1[~(newdf.CH4_1_1_1 < 1550) & ~(newdf.CH4_1_1_1 > 2750)]\n",
    "newdf=newdf.ALT[~(newdf.ALT < 20) & ~(newdf.ALT > 100)]\n",
    "\n",
    "#newdf=df[~(df['TS_MEAN'] < 0)]\n",
    "#newdf=df[~(df['WS_MEAN'] < -1993)]\n",
    "#newdf=newdf[~(newdf['WS_MEAN'] > 7.283)]\n",
    "#newdf=newdf[~(newdf['WD_MEAN'] < -414)]\n",
    "#newdf=newdf[~(newdf['FCH4_1'] < 0)]\n",
    "#newdf=newdf[~(newdf['FCH4_1'] > 3.778)]\n",
    "#newdf=newdf[~(newdf['CO2_1_1_1'] < 345)]\n",
    "#newdf=newdf[~(newdf['CO2_1_1_1'] > 422)]\n",
    "#newdf=newdf[~(newdf['CO2_1_4_1'] < 351)]\n",
    "#newdf=newdf[~(newdf['CO2_1_4_1'] > 470)]\n",
    "#newdf=newdf[~(newdf['CH4_1_1_1'] < 1904)]\n",
    "#newdf=newdf[~(newdf['CH4_1_1_1'] > 2029)]\n",
    "newdf=newdf[~(newdf['ALT'] > 94)]\n",
    "newdf=newdf[~(newdf['H'] < -17)]\n",
    "newdf=newdf[~(newdf['H'] > 25)]\n",
    "newdf=newdf[~(newdf['LE'] < -30)]\n",
    "newdf=newdf[~(newdf['LE'] > 49)]\n",
    "newdf=newdf[~(newdf['SW_IN_MEAN'] > 0.45)]\n",
    "newdf=newdf[~(newdf['SW_IN_MEAN'] < -1.57)]\n",
    "newdf=newdf[~(newdf['TS_1_1_2'] < -10.46)]\n",
    "newdf=newdf[~(newdf['TS_1_1_2'] > 12.71)]\n",
    "newdf=newdf[~(newdf['FC'] > 1.09)]\n",
    "newdf=newdf[~(newdf['FC'] < -1.23)]\n",
    "newdf=newdf[~(newdf['WTD_1_1_1'] > -0.06)]\n",
    "newdf=newdf[~(newdf['NETRAD'] < -124)]\n",
    "newdf=newdf[~(newdf['NETRAD'] > 183)]\n",
    "\n",
    "# newdf=newdf[~(newdf['CH4_1_1_1'] < 1688)]\n",
    "# newdf=newdf[~(newdf['CH4_1_1_1'] > 2058)]\n",
    "# newdf=newdf[~(newdf['CH4_1_1_1'] < 1809)]\n",
    "# newdf=newdf[~(newdf['CH4_1_1_1'] > 2052)]"
   ]
  },
  {
   "cell_type": "code",
   "execution_count": null,
   "id": "78205f16",
   "metadata": {},
   "outputs": [],
   "source": [
    "#                   count\t    mean\t        std\t            min\t            25%\t            50%\t        75%\t        max\n",
    "#WS_STD\t            112494.0\t1703.475873\t    2.170889e+03\t0.040415\t    1.198322\t    1.198322\t4471.876575\t5478.237236\n",
    "#WD_STD\t            112494.0\t2155.259125\t    2.728994e+03\t0.311127\t    15.148940\t    15.148940\t5634.911590\t5634.911590\n",
    "#CO2_MEAN\t        112494.0\t-1467.466375    2.331839e+03\t-9052.221105    -4316.922520\t413.442133\t413.442133\t436.002861\n",
    "#CO2_STD\t        112494.0\t2074.511490\t    2.638423e+03\t0.000000\t    4.849716\t    4.849716\t5440.175373\t5478.957689\n",
    "#soil_[CO2]_5cm\t    112494.0\t902.135125\t    3.033223e+02\t101.100000\t    840.000000\t    942.000000\t942.000000\t4642.000000\n",
    "#soil_[CO2]_15cm    112494.0\t1156.166513\t    5.714284e+02\t102.700000\t    1017.000000\t    1167.000000\t1167.000000\t5898.000000\n",
    "#soil_[CO2]_25cm    112494.0\t1413.499433\t    6.228226e+02\t-4.835000\t    1172.000000\t    1605.000000\t1605.000000\t5928.000000\n",
    "#CH4_STD\t        112494.0\t0.064617\t    3.090046e-03\t0.006000\t    0.065000\t    0.065000\t0.065000\t0.065000"
   ]
  },
  {
   "cell_type": "code",
   "execution_count": null,
   "id": "5f624aec",
   "metadata": {},
   "outputs": [],
   "source": [
    "newdf.describe().T.head(10)"
   ]
  },
  {
   "cell_type": "code",
   "execution_count": null,
   "id": "1fcdcd0e",
   "metadata": {},
   "outputs": [],
   "source": [
    "#df['H'].max()\n",
    "newdf['CH4_MEAN'].max()\n",
    "#newdf[~(newdf['CO2_1_1_1'] > 460)].CO2_1_1_1.max()\n",
    "#newdf[~(newdf['ALT'] < 0)].ALT.min()"
   ]
  },
  {
   "cell_type": "code",
   "execution_count": null,
   "id": "07044efc",
   "metadata": {},
   "outputs": [],
   "source": [
    "newdf.shape"
   ]
  },
  {
   "cell_type": "code",
   "execution_count": null,
   "id": "f699123d",
   "metadata": {},
   "outputs": [],
   "source": [
    "plt.plot(newdf['CH4_MEAN'].values)"
   ]
  },
  {
   "cell_type": "code",
   "execution_count": null,
   "id": "c98ffa38",
   "metadata": {},
   "outputs": [],
   "source": [
    "#sns.boxplot(df[~(df['CH4_1_1_1'] < 1688)].CH4_1_1_1)\n",
    "#sns.boxplot(newdf[~(newdf['CH4_1_1_1'] > 2058)].CH4_1_1_1)\n",
    "sns.boxplot(newdf['TS_MEAN'])"
   ]
  },
  {
   "cell_type": "code",
   "execution_count": null,
   "id": "70900a87",
   "metadata": {},
   "outputs": [],
   "source": [
    "#sns.boxplot(newdf[~(newdf['CH4_STD'] < -124)].CH4_STD)\n",
    "sns.boxplot(newdf[~(newdf['CH4_STD'] > 0.1)].CH4_STD)\n",
    "#sns.boxplot(newdf[~(newdf['WS_MEAN'] > 7.283)].WS_MEAN)\n",
    "#sns.boxplot(newdf[~(newdf['CH4_1_1_1'] > 2055)].CH4_1_1_1)"
   ]
  },
  {
   "cell_type": "code",
   "execution_count": null,
   "id": "22281ff0",
   "metadata": {},
   "outputs": [],
   "source": [
    "plt.plot(df['CO2_1_2_1'].values)"
   ]
  },
  {
   "cell_type": "code",
   "execution_count": null,
   "id": "52c7c250",
   "metadata": {},
   "outputs": [],
   "source": [
    "plt.plot(newdf.SW_IN_MEAN.values)"
   ]
  },
  {
   "cell_type": "code",
   "execution_count": null,
   "id": "837c78b1",
   "metadata": {},
   "outputs": [],
   "source": [
    "newdf[~(newdf['SW_IN_MEAN'] > 3000)].dropna().SW_IN_MEAN.max()"
   ]
  },
  {
   "cell_type": "code",
   "execution_count": null,
   "id": "e1d0db0d",
   "metadata": {},
   "outputs": [],
   "source": [
    "df[~(df['WD_MEAN'] < -2000)].dropna().WD_MEAN.min()"
   ]
  },
  {
   "cell_type": "code",
   "execution_count": null,
   "id": "5e78b261",
   "metadata": {},
   "outputs": [],
   "source": [
    "sns.histplot(newdf[~(newdf['SW_IN_MEAN'] > 2150)].dropna().SW_IN_MEAN)#, kde=True)"
   ]
  },
  {
   "cell_type": "code",
   "execution_count": null,
   "id": "e53acc7d",
   "metadata": {},
   "outputs": [],
   "source": [
    "#sns.boxplot(df[~(df['WD_MEAN'] < -1725)].dropna().WD_MEAN.values)\n",
    "#sns.boxplot(newdf[~(newdf['WS_MEAN'] > 8)].dropna().WS_MEAN.values)\n",
    "#sns.boxplot(newdf[~(newdf['FCH4_1'] < 0)].dropna().FCH4_1.values)\n",
    "#sns.boxplot(newdf[~(newdf['FCH4_1'] > 6)].dropna().FCH4_1.values)\n",
    "#sns.boxplot(newdf[~(newdf['CO2_MEAN'] < 398)].dropna().CO2_MEAN.values)\n",
    "#sns.boxplot(newdf[~(newdf['CO2_MEAN'] > 439)].dropna().CO2_MEAN.values)#, kde=True)\n",
    "sns.boxplot(newdf[~(newdf['SW_IN_MEAN'] < 2050)].dropna().SW_IN_MEAN.values)\n",
    "#sns.boxplot(newdf[~(newdf['CH4_MIXING_RATIO_MEAN'] > 2100)].dropna().CH4_MIXING_RATIO_MEAN.values)\n",
    "\n",
    "SW_IN_MEAN, G_1_1_1, G_1_1_3"
   ]
  },
  {
   "cell_type": "code",
   "execution_count": null,
   "id": "ab59530b",
   "metadata": {},
   "outputs": [],
   "source": [
    "sns.boxplot(df[~(df['WS_MEAN'] > 1725)].dropna().WS_MEAN.values)"
   ]
  },
  {
   "cell_type": "markdown",
   "id": "85f4cee8",
   "metadata": {
    "jp-MarkdownHeadingCollapsed": true
   },
   "source": [
    "#### Archived"
   ]
  },
  {
   "cell_type": "code",
   "execution_count": null,
   "id": "22919b53",
   "metadata": {},
   "outputs": [],
   "source": [
    "#df[df[cols].isin(df < (out_low))]\n",
    "#df.query(cols[0])\n",
    "#df[np.where(df.C | df.D, True, False)]"
   ]
  },
  {
   "cell_type": "code",
   "execution_count": null,
   "id": "2952687a",
   "metadata": {},
   "outputs": [],
   "source": [
    "df[(df < (out_low))].any(axis=0)"
   ]
  },
  {
   "cell_type": "code",
   "execution_count": null,
   "id": "cd956c49",
   "metadata": {},
   "outputs": [],
   "source": [
    "df[df < out_low]."
   ]
  },
  {
   "cell_type": "code",
   "execution_count": null,
   "id": "9bef1256",
   "metadata": {},
   "outputs": [],
   "source": [
    "#df[~(df < (out_low))].any(axis=0)\n",
    "for col in cols:\n",
    "    df2=df[df[col] < df[col].quantile(0.95)]\n",
    "\n",
    "#for col in cols:\n",
    "#    df.query('df[col] < df[col].quantile(.95)')"
   ]
  },
  {
   "cell_type": "code",
   "execution_count": null,
   "id": "d175b9cd",
   "metadata": {},
   "outputs": [],
   "source": [
    "df2"
   ]
  },
  {
   "cell_type": "code",
   "execution_count": null,
   "id": "e0d0d04e",
   "metadata": {},
   "outputs": [],
   "source": [
    "df[~((df < (out_low))).any(axis=1)]"
   ]
  },
  {
   "cell_type": "code",
   "execution_count": null,
   "id": "c9de8988",
   "metadata": {},
   "outputs": [],
   "source": [
    "newdf=df[~((df < (out_low)) | (df > (out_high))).any(axis=1)]"
   ]
  },
  {
   "cell_type": "code",
   "execution_count": null,
   "id": "0d0b0cf6",
   "metadata": {},
   "outputs": [],
   "source": [
    "#[True if x < out_low | x > out_high else False for x in df]\n",
    "df2=df[~((df < out_low) | (df > out_high)).any(axis=1)]\n",
    "#df[((df < out_low) | (df > out_high)).any(axis=1)]\n"
   ]
  },
  {
   "cell_type": "code",
   "execution_count": null,
   "id": "443ca961",
   "metadata": {},
   "outputs": [],
   "source": [
    "for column in df2:\n",
    "    df2[column] = np.where(iqr[column] == True,np.nan,df2[column])"
   ]
  },
  {
   "cell_type": "code",
   "execution_count": null,
   "id": "2d5f67a1",
   "metadata": {},
   "outputs": [],
   "source": [
    "cols = df2.columns\n",
    "df2[cols] = df2[cols].apply(pd.to_numeric, errors='coerce')"
   ]
  },
  {
   "cell_type": "code",
   "execution_count": null,
   "id": "c0e925e3",
   "metadata": {},
   "outputs": [],
   "source": [
    "# df3=df.interpolate(method='nearest', axis=0).bfill().ffill()\n",
    "df2=df2.dropna()"
   ]
  },
  {
   "cell_type": "code",
   "execution_count": null,
   "id": "b063503c",
   "metadata": {},
   "outputs": [],
   "source": [
    "df2.sort_index(inplace=True)"
   ]
  },
  {
   "cell_type": "code",
   "execution_count": null,
   "id": "f46b50ce",
   "metadata": {},
   "outputs": [],
   "source": [
    "plt.figure(figsize=(20, 20),dpi=100)\n",
    "sns.heatmap(df2.corr(), cmap='coolwarm')"
   ]
  },
  {
   "cell_type": "markdown",
   "id": "c9e908bc",
   "metadata": {
    "jp-MarkdownHeadingCollapsed": true
   },
   "source": [
    "## Significance Testing"
   ]
  },
  {
   "cell_type": "code",
   "execution_count": null,
   "id": "2225ebcb",
   "metadata": {},
   "outputs": [],
   "source": [
    "#newdata.corr()"
   ]
  },
  {
   "cell_type": "code",
   "execution_count": null,
   "id": "ca058e29",
   "metadata": {},
   "outputs": [],
   "source": [
    "rho=newdata.corr()\n",
    "s = rho.unstack()\n",
    "so = s.sort_values(kind=\"quicksort\")\n",
    "so2=pd.DataFrame(so[['ALT']])\n",
    "so2.head(20)"
   ]
  },
  {
   "cell_type": "code",
   "execution_count": null,
   "id": "cf41c503",
   "metadata": {},
   "outputs": [],
   "source": [
    "#Top 5 (Negative)\n",
    "#soil_[CO2]_15cm\t-0.311942\n",
    "#G_1_1_4\t        -0.267481\n",
    "#TW_1_1_1\t        -0.219022\n",
    "#TA_1_2_1\t        -0.205626\n",
    "#TA_1_3_1\t        -0.180273\n",
    "\n",
    "#Top 5 (Positive)\n",
    "#FCH4_1\t            0.334563\n",
    "#FCH4_2\t            0.309447\n",
    "#TA_1_5_1\t        0.263813\n",
    "#CO2_1_1_1\t        0.243649\n",
    "#WTD_2_1_1\t        0.237545"
   ]
  },
  {
   "cell_type": "code",
   "execution_count": null,
   "id": "e003e494",
   "metadata": {},
   "outputs": [],
   "source": [
    "rm=df.rolling(30).mean()\n",
    "rs=df.rolling(30).std()\n",
    "rm.shape"
   ]
  },
  {
   "cell_type": "code",
   "execution_count": null,
   "id": "46135902",
   "metadata": {},
   "outputs": [],
   "source": [
    "df.sample(frac=0.7, replace=True, random_state=1)"
   ]
  },
  {
   "cell_type": "markdown",
   "id": "81ca8040",
   "metadata": {
    "jp-MarkdownHeadingCollapsed": true
   },
   "source": [
    "## ADF/KPSS Stationarity Testing"
   ]
  },
  {
   "cell_type": "code",
   "execution_count": null,
   "id": "6951869f",
   "metadata": {},
   "outputs": [],
   "source": [
    "adf_results = {}\n",
    "kpss_results = {}\n",
    "for col in newdata.columns.values:\n",
    "    sum = ADF(newdata[col],method='aic',low_memory=True)\n",
    "    adf_results[col] = list([sum.stat,sum.pvalue,sum.lags,sum.trend,sum.critical_values,sum.null_hypothesis,sum.alternative_hypothesis])\n",
    "    sum2 = KPSS(newdata[col], trend='ct')\n",
    "    kpss_results[col] = list([sum2.stat,sum2.pvalue,sum2.lags,sum2.trend,sum2.critical_values,sum2.null_hypothesis,sum2.alternative_hypothesis])"
   ]
  },
  {
   "cell_type": "code",
   "execution_count": null,
   "id": "41286fb9",
   "metadata": {},
   "outputs": [],
   "source": [
    "dfadf=pd.DataFrame.from_dict(adf_results, orient='index')"
   ]
  },
  {
   "cell_type": "code",
   "execution_count": null,
   "id": "d9854c0a",
   "metadata": {},
   "outputs": [],
   "source": [
    "dfkpss=pd.DataFrame.from_dict(kpss_results, orient='index')"
   ]
  },
  {
   "cell_type": "code",
   "execution_count": null,
   "id": "6fd9bafc",
   "metadata": {},
   "outputs": [],
   "source": [
    "colnames=list(['ADF_TestStatistic','ADF_PValue','ADF_Lags','ADF_Trend','ADF_CriticalValues','ADF_NullHypothesis','ADF_AlternativeHypothesis'])"
   ]
  },
  {
   "cell_type": "code",
   "execution_count": null,
   "id": "8efbc4a1",
   "metadata": {},
   "outputs": [],
   "source": [
    "colnames2=list(['KPSS_TestStatistic','KPSS_PValue','KPSS_Lags','KPSS_Trend','KPSS_CriticalValues','KPSS_NullHypothesis','KPSS_AlternativeHypothesis'])"
   ]
  },
  {
   "cell_type": "code",
   "execution_count": null,
   "id": "1f8e16c9",
   "metadata": {},
   "outputs": [],
   "source": [
    "dfadf.columns=colnames"
   ]
  },
  {
   "cell_type": "code",
   "execution_count": null,
   "id": "92474d29",
   "metadata": {},
   "outputs": [],
   "source": [
    "dfkpss.columns=colnames2"
   ]
  },
  {
   "cell_type": "code",
   "execution_count": null,
   "id": "d3a9d22d",
   "metadata": {},
   "outputs": [],
   "source": [
    "dfstats=pd.concat([dfadf,dfkpss], axis=1)"
   ]
  },
  {
   "cell_type": "code",
   "execution_count": null,
   "id": "c759cde1",
   "metadata": {},
   "outputs": [],
   "source": [
    "dfstats.to_csv('/Users/bgay/Downloads/stats.csv')"
   ]
  },
  {
   "cell_type": "code",
   "execution_count": null,
   "id": "50fc7c4f",
   "metadata": {},
   "outputs": [],
   "source": [
    "#dfstats.loc[:,'ADF_CriticalValues'].apply(pd.Series)\n",
    "#dfstats.loc[:,'KPSS_CriticalValues'].apply(pd.Series)\n",
    "#list(dfstats.loc[:,'ADF_CriticalValues'][0].values())\n",
    "#list(dfstats.loc[:,'KPSS_CriticalValues'][0].values())\n",
    "\n",
    "#dfstats.loc['ALT']\n",
    "#dfstats.loc['CO2_1_1_1']\n",
    "#dfstats.loc['FCH4_1']"
   ]
  },
  {
   "cell_type": "code",
   "execution_count": null,
   "id": "c0aa5e86",
   "metadata": {},
   "outputs": [],
   "source": [
    "dfstats['KPSS_CriticalValues']"
   ]
  },
  {
   "cell_type": "code",
   "execution_count": null,
   "id": "5829d1cf",
   "metadata": {},
   "outputs": [],
   "source": [
    "#dfstats2=dfstats[:-3]\n",
    "#list(dfstats2.where(dfstats2['KPSS_TestStatistic']<0.1193).dropna().index)\n",
    "#['TS_1_1_2']"
   ]
  },
  {
   "cell_type": "code",
   "execution_count": null,
   "id": "96f91501",
   "metadata": {},
   "outputs": [],
   "source": [
    "ls=[]\n",
    "ls2=[]\n",
    "for i in range(len(newdata.columns)):\n",
    "    ls=np.append(ls,newdata.iloc[:,i].min())\n",
    "    ls2=np.append(ls2,newdata.iloc[:,i].max())"
   ]
  },
  {
   "cell_type": "code",
   "execution_count": null,
   "id": "a9b0876a",
   "metadata": {},
   "outputs": [],
   "source": [
    "n=[0,1,2,11,14,22,28,30]\n",
    "ls[n]"
   ]
  },
  {
   "cell_type": "code",
   "execution_count": null,
   "id": "7ab75c8f",
   "metadata": {},
   "outputs": [],
   "source": [
    "# newdata.iloc[:,0] #WS_MEAN\n",
    "# newdata.iloc[:,1] #WD_MEAN\n",
    "# newdata.iloc[:,2] #CO2_MEAN\n",
    "# newdata.iloc[:,11] #FCH4_1\n",
    "# newdata.iloc[:,14] #CH4_MIXING_RATIO_MEAN\n",
    "# newdata.iloc[:,22] #SW_IN_MEAN\n",
    "# newdata.iloc[:,28] #G_1_1_1\n",
    "# newdata.iloc[:,30] #G_1_1_3"
   ]
  },
  {
   "cell_type": "code",
   "execution_count": null,
   "id": "ca5beaf9",
   "metadata": {},
   "outputs": [],
   "source": [
    "#CHANGE LABELS AND SWITCH WS_MEAN AND WS_MEAN!!!"
   ]
  },
  {
   "cell_type": "code",
   "execution_count": null,
   "id": "17939b30",
   "metadata": {},
   "outputs": [],
   "source": [
    "newdata2=newdata[~(newdata['FCH4_1'] < -500)].dropna()\n",
    "newdata3=newdata2[~(newdata2['FCH4_1'] > 500)].dropna()\n",
    "newdata4=newdata3[~(newdata3['WD_MEAN'] < -1725)].dropna()\n",
    "#newdata4=newdata3[~(newdata3['WD_MEAN'] < -360)].dropna()\n",
    "#newdata5=newdata4[~(newdata4['WD_MEAN'] > 360)].dropna()\n",
    "newdata6=newdata5[~(newdata5['WS_MEAN'] < 0)].dropna()"
   ]
  },
  {
   "cell_type": "code",
   "execution_count": null,
   "id": "054bf44c",
   "metadata": {},
   "outputs": [],
   "source": [
    "newdata.WS_MEAN.mean(), newdata.WD_MEAN.mean()a"
   ]
  },
  {
   "cell_type": "code",
   "execution_count": null,
   "id": "7ffc2dd9",
   "metadata": {},
   "outputs": [],
   "source": [
    "#plt.hist(newdata3['WD_MEAN'].values)\n",
    "#plt.hist(newdata3[~(newdata3['WD_MEAN'] < -1725)].dropna().WD_MEAN.values)\n",
    "#plt.hist(newdata3[~(newdata3['WD_MEAN'] > 1500)].dropna().WD_MEAN.values)\n",
    "plt.hist(newdata3['WS_MEAN'].values)\n",
    "#plt.hist(newdata3[~(newdata3['WD_MEAN'] < -1725)].dropna().WD_MEAN.values)"
   ]
  },
  {
   "cell_type": "code",
   "execution_count": null,
   "id": "a7f43b37",
   "metadata": {},
   "outputs": [],
   "source": [
    "newdata5=newdata4[~(newdata4['WD_MEAN'] <= -361)].dropna()\n",
    "newdata6=newdata5[(newdata5['WD_MEAN'] > 360)].dropna()"
   ]
  },
  {
   "cell_type": "code",
   "execution_count": null,
   "id": "29dcc351",
   "metadata": {},
   "outputs": [],
   "source": [
    "newdata[~(newdata['WD_MEAN'] > 360)].WD_MEAN"
   ]
  },
  {
   "cell_type": "code",
   "execution_count": null,
   "id": "75a150b9",
   "metadata": {},
   "outputs": [],
   "source": [
    "len(newdata['WD_MEAN'])"
   ]
  },
  {
   "cell_type": "code",
   "execution_count": null,
   "id": "383869e1",
   "metadata": {},
   "outputs": [],
   "source": [
    "newdata[~(newdata['WD_MEAN'] <= -361)].WD_MEAN"
   ]
  },
  {
   "cell_type": "code",
   "execution_count": null,
   "id": "468c2e39",
   "metadata": {},
   "outputs": [],
   "source": [
    "newdata4[(newdata4['WD_MEAN'] < 360)].dropna().WD_MEAN.plot()"
   ]
  },
  {
   "cell_type": "code",
   "execution_count": null,
   "id": "3d43e9f7",
   "metadata": {},
   "outputs": [],
   "source": [
    "#newdata=newdata.drop(columns=['ALT_diff','CO2_diff','CH4_diff'],axis=1)\n",
    "newdata2=newdata[~(newdata['WD_MEAN'] <= -361)].dropna()\n",
    "newdata3=newdata2[~(newdata2['WS_MEAN'] <= -1993)].dropna()\n",
    "newdata4=newdata3[~(newdata3['CO2_MEAN'] <= 0)].dropna()\n",
    "newdata6=newdata5[~(newdata5['CH4_MIXING_RATIO_MEAN'] <= -1018)].dropna()\n",
    "newdata7=newdata6[~(newdata6['SW_IN_MEAN'] <= -6)].dropna()\n",
    "newdata8=newdata7[~(newdata7['G_1_1_1'] <= 0)].dropna()\n",
    "newdata9=newdata8[~(newdata8['G_1_1_3'] <= 0)].dropna()\n",
    "newdata10=newdata9[~(newdata9['CO2_MEAN'] > 586)]\n",
    "del newdata2, newdata3, newdata4, newdata5, newdata6, newdata7, newdata8, newdata9"
   ]
  },
  {
   "cell_type": "code",
   "execution_count": null,
   "id": "a919d529",
   "metadata": {},
   "outputs": [],
   "source": [
    "newdata[~(newdata['WD_MEAN'] <= -361)]"
   ]
  },
  {
   "cell_type": "code",
   "execution_count": null,
   "id": "e9bf384e",
   "metadata": {},
   "outputs": [],
   "source": [
    "newdata[~(newdata['WD_MEAN'] <= -1725)].dropna().WD_MEAN.min()"
   ]
  },
  {
   "cell_type": "code",
   "execution_count": null,
   "id": "e56ea870",
   "metadata": {},
   "outputs": [],
   "source": [
    "newdata3.max()"
   ]
  },
  {
   "cell_type": "code",
   "execution_count": null,
   "id": "bd8466df",
   "metadata": {},
   "outputs": [],
   "source": [
    "#newdata10[~(newdata10['CO2_MEAN'] < 0)].dropna().CO2_MEAN.min()\n",
    "newdata[~(newdata['FCH4_1'] <= -500)].dropna().FCH4_1.min()\n",
    "newdata[~(newdata['FCH4_1'] > 500)].dropna().FCH4_1.max()"
   ]
  },
  {
   "cell_type": "code",
   "execution_count": null,
   "id": "e2f469d1",
   "metadata": {},
   "outputs": [],
   "source": [
    "sns.kdeplot(newdata.WD_MEAN)"
   ]
  },
  {
   "cell_type": "code",
   "execution_count": null,
   "id": "573a7a9f",
   "metadata": {},
   "outputs": [],
   "source": [
    "plt.plot(newdata3.FCH4_1.values)"
   ]
  },
  {
   "cell_type": "code",
   "execution_count": null,
   "id": "bead0be9",
   "metadata": {},
   "outputs": [],
   "source": [
    "plt.hist(newdata3['FCH4_1'].values)"
   ]
  },
  {
   "cell_type": "code",
   "execution_count": null,
   "id": "b0fda0e7",
   "metadata": {},
   "outputs": [],
   "source": [
    "newdata3['FCH4_1'].std()"
   ]
  },
  {
   "cell_type": "code",
   "execution_count": null,
   "id": "b1e54172",
   "metadata": {},
   "outputs": [],
   "source": [
    "newdata.drop(columns=['CO2_MEAN'],axis=1)"
   ]
  },
  {
   "cell_type": "markdown",
   "id": "ed3d6d10",
   "metadata": {
    "jp-MarkdownHeadingCollapsed": true
   },
   "source": [
    "# Step 5: ADF/KPSS Stationarity Testing"
   ]
  },
  {
   "cell_type": "markdown",
   "id": "36f25b93-4718-429f-9cf0-c41f3f55f0d0",
   "metadata": {
    "jp-MarkdownHeadingCollapsed": true
   },
   "source": [
    "#### Archived"
   ]
  },
  {
   "cell_type": "code",
   "execution_count": null,
   "id": "8d950502-7531-4e59-9afb-d77ac617352c",
   "metadata": {},
   "outputs": [],
   "source": [
    "#ex=newdata.copy()\n",
    "#s = ex['ALT']\n",
    "#for i in range(150): s = s.diff()\n",
    "#ex['Lag 150'] = s\n",
    "\n",
    "#sns.kdeplot(newdata9['CO2_MEAN'])\n",
    "\n",
    "#newdata['FCH4_1'].min(),newdata['FCH4_2'].min(),newdata['FCH4_3'].min() (-2255.04473, -2.79822976, -2.705822784)\n",
    "#newdata['FCH4_1'].max(),newdata['FCH4_2'].max(),newdata['FCH4_3'].max() (1805.15, 4.517780285, 7.846163338)\n",
    "\n",
    "#sns.kdeplot(newdata[~(newdata['G_1_1_1'] < 0)].dropna().G_1_1_1.values)\n",
    "\n",
    "#newdata[~(newdata['CO2_MEAN'] > 586)].dropna().CO2_MEAN.max()\n",
    "#newdata['WS_MEAN'].where(newdata['WS_MEAN']<-799,np.nan).dropna().min()\n",
    "#dfstats2['KPSS_TestStatistic']<0.1193).dropna().index)"
   ]
  },
  {
   "cell_type": "code",
   "execution_count": null,
   "id": "9e9d76a6-68ad-4121-b1b6-cc80e3dc583d",
   "metadata": {},
   "outputs": [],
   "source": [
    "#newdata['ALT_diff'] = newdata['ALT'].diff().fillna(method='bfill').fillna(method='ffill')"
   ]
  },
  {
   "cell_type": "code",
   "execution_count": null,
   "id": "61e9aa37-ada8-49f5-88b1-4fe94ef0fe1a",
   "metadata": {},
   "outputs": [],
   "source": [
    "#features.corr()"
   ]
  },
  {
   "cell_type": "code",
   "execution_count": null,
   "id": "3a8fba25-71d8-4634-a7d6-7c80af30ff11",
   "metadata": {},
   "outputs": [],
   "source": [
    "#ALT\n",
    "#plt.plot(dataframe['ALT'].replace(-9999,np.nan).dropna())"
   ]
  },
  {
   "cell_type": "code",
   "execution_count": null,
   "id": "91a4890c-73c8-4440-bb74-a6cac5c0495f",
   "metadata": {},
   "outputs": [],
   "source": [
    "#dataframe.index=dataframe['DATE'].sort_values().values"
   ]
  },
  {
   "cell_type": "code",
   "execution_count": null,
   "id": "03f3fca0",
   "metadata": {},
   "outputs": [],
   "source": [
    "plt.figure(figsize=(8,5))\n",
    "sns.lineplot(features['ALT'])\n",
    "plt.grid()\n",
    "plt.show()"
   ]
  },
  {
   "cell_type": "code",
   "execution_count": null,
   "id": "c5e92d3b",
   "metadata": {},
   "outputs": [],
   "source": [
    "plt.figure(figsize=(8,5))\n",
    "sns.lineplot(features['FCH4_1']['2011':])\n",
    "plt.grid()\n",
    "plt.show()"
   ]
  },
  {
   "cell_type": "code",
   "execution_count": null,
   "id": "a6468a39",
   "metadata": {},
   "outputs": [],
   "source": [
    "plt.figure(figsize=(8,5))\n",
    "sns.lineplot(features['CO2_1_1_1']['2003':'2021'])\n",
    "plt.grid()\n",
    "plt.show()"
   ]
  },
  {
   "cell_type": "code",
   "execution_count": null,
   "id": "ffc5ac28",
   "metadata": {},
   "outputs": [],
   "source": [
    "cols=newdf.columns.tolist()\n",
    "for col in cols:\n",
    "    ls=newdf[newdf[col].isna()].index.to_list()"
   ]
  },
  {
   "cell_type": "code",
   "execution_count": null,
   "id": "bdd71dd5",
   "metadata": {},
   "outputs": [],
   "source": [
    "plt.plot(pd.DataFrame(nointdf_2['ALT'].dropna().groupby(nointdf_2['ALT'].dropna().index).max()))\n",
    "plt.plot(pd.DataFrame(nointdf_2['ALT'].dropna().groupby(nointdf_2['ALT'].dropna().index).mean()))\n",
    "plt.plot(pd.DataFrame(nointdf_2['ALT'].dropna().groupby(nointdf_2['ALT'].dropna().index).min()))"
   ]
  },
  {
   "cell_type": "code",
   "execution_count": null,
   "id": "f87c499e",
   "metadata": {},
   "outputs": [],
   "source": [
    "plt.plot(pd.DataFrame(nointdf_2['CO2_1_1_1'].dropna().groupby(nointdf_2['CO2_1_1_1'].dropna().index).max()))\n",
    "plt.plot(pd.DataFrame(nointdf_2['CO2_1_1_1'].dropna().groupby(nointdf_2['CO2_1_1_1'].dropna().index).mean()))\n",
    "plt.plot(pd.DataFrame(nointdf_2['CO2_1_1_1'].dropna().groupby(nointdf_2['CO2_1_1_1'].dropna().index).min()))"
   ]
  },
  {
   "cell_type": "code",
   "execution_count": null,
   "id": "93a4d7de",
   "metadata": {},
   "outputs": [],
   "source": [
    "plt.plot(pd.DataFrame(nointdf_2['FCH4_1'].dropna().groupby(nointdf_2['FCH4_1'].dropna().index).max()))\n",
    "plt.plot(pd.DataFrame(nointdf_2['FCH4_1'].dropna().groupby(nointdf_2['FCH4_1'].dropna().index).mean()))\n",
    "plt.plot(pd.DataFrame(nointdf_2['FCH4_1'].dropna().groupby(nointdf_2['FCH4_1'].dropna().index).min()))"
   ]
  },
  {
   "cell_type": "code",
   "execution_count": null,
   "id": "780c0b24",
   "metadata": {},
   "outputs": [],
   "source": [
    "#nointdf_2['ALT'].dropna()\n",
    "plt.plot(nointdf_2['ALT'].dropna().values)\n",
    "plt.plot(nointdf_2['ALT'].dropna().rolling(window=30).mean().values)"
   ]
  },
  {
   "cell_type": "code",
   "execution_count": null,
   "id": "b25b6d6e",
   "metadata": {},
   "outputs": [],
   "source": [
    "plt.plot(newdf['ALT'].dropna().values)\n",
    "plt.plot(newdf['ALT'].dropna().rolling(window=30).mean().values)"
   ]
  },
  {
   "cell_type": "code",
   "execution_count": null,
   "id": "2a66d030",
   "metadata": {},
   "outputs": [],
   "source": [
    "plt.plot(nointdf_2['CO2_1_1_1'].dropna().values)\n",
    "plt.plot(nointdf_2['CO2_1_1_1'].dropna().rolling(window=30).mean().values)"
   ]
  },
  {
   "cell_type": "code",
   "execution_count": null,
   "id": "034ff344",
   "metadata": {},
   "outputs": [],
   "source": [
    "plt.plot(newdf['CO2_1_1_1'].dropna().values)\n",
    "plt.plot(newdf['CO2_1_1_1'].dropna().rolling(window=30).mean().values)"
   ]
  },
  {
   "cell_type": "code",
   "execution_count": null,
   "id": "02b3fdb4",
   "metadata": {},
   "outputs": [],
   "source": [
    "plt.plot(nointdf_2['FCH4_1'].dropna().values)\n",
    "plt.plot(nointdf_2['FCH4_1'].dropna().rolling(window=30).mean().values)"
   ]
  },
  {
   "cell_type": "code",
   "execution_count": null,
   "id": "6c1af522",
   "metadata": {},
   "outputs": [],
   "source": [
    "plt.plot(newdf['FCH4_1'].dropna().values)\n",
    "plt.plot(newdf['FCH4_1'].dropna().rolling(window=30).mean().values)"
   ]
  },
  {
   "cell_type": "code",
   "execution_count": null,
   "id": "b5d4dc7f",
   "metadata": {},
   "outputs": [],
   "source": [
    "#nointdf_2.index=pd.to_datetime(nointdf_2.index.values())\n",
    "plt.plot(nointdf_2['ALT'].dropna())\n",
    "plt.plot(nointdf_2['ALT'].dropna().rolling(window=3).mean())#.dropna().values"
   ]
  },
  {
   "cell_type": "markdown",
   "id": "8d8be01b-8953-4cda-bcb2-6261a62e60b4",
   "metadata": {},
   "source": [
    "#### Create new dataframes for appending"
   ]
  },
  {
   "cell_type": "code",
   "execution_count": null,
   "id": "a925414e-6eb0-4671-a50d-69c91a712484",
   "metadata": {},
   "outputs": [],
   "source": [
    "newnoint=nointdf.copy()\n",
    "newdf=df2.copy()"
   ]
  },
  {
   "cell_type": "markdown",
   "id": "ce7c3066-7840-4a78-a7ad-b1e29ba654f2",
   "metadata": {},
   "source": [
    "#### Initial ADF Testing"
   ]
  },
  {
   "cell_type": "code",
   "execution_count": null,
   "id": "caa0dc44",
   "metadata": {},
   "outputs": [],
   "source": [
    "# newnoint['ALT'].hist() #left skew/kurtosis, non-Gaussian distribution (shifted lognormal)\n",
    "# newnoint['CO2_1_1_1'].hist() #broken Gaussian-like distribution with gaps\n",
    "# newnoint['FCH4_1'].hist() #broken Gaussian-like (constant) distribution with gaps and much of the data localized"
   ]
  },
  {
   "cell_type": "code",
   "execution_count": null,
   "id": "70f91d18",
   "metadata": {
    "jupyter": {
     "source_hidden": true
    }
   },
   "outputs": [],
   "source": [
    "# adfuller(nointdf_2['ALT'].values, autolag='AIC')\n",
    "#ADF((newnoint['ALT'].dropna().values),method='aic',low_memory=True)\n",
    "#REJECT NULL (STATIONARY)\n",
    "# adfuller(newdf['ALT'].replace(-9999,np.nan).dropna().values, autolag='AIC')"
   ]
  },
  {
   "cell_type": "markdown",
   "id": "af2575e8-07bb-4dbc-8240-7bce0c027ee6",
   "metadata": {},
   "source": [
    "##### Raw Dataset"
   ]
  },
  {
   "cell_type": "code",
   "execution_count": null,
   "id": "04a9bc37-0b11-4722-93b1-69e1a2e68745",
   "metadata": {},
   "outputs": [],
   "source": [
    "ADF((newnoint['ALT'].dropna().values),method='aic',low_memory=True)\n",
    "#REJECT NULL (STATIONARY)"
   ]
  },
  {
   "cell_type": "code",
   "execution_count": null,
   "id": "0861d938-d0a3-493d-be2c-893f1bc01d6d",
   "metadata": {},
   "outputs": [],
   "source": [
    "ADF((newnoint['CO2_1_1_1'].dropna().values),method='aic',low_memory=True)\n",
    "#REJECT NULL (STATIONARY)"
   ]
  },
  {
   "cell_type": "code",
   "execution_count": null,
   "id": "a05c7f3a-c682-42f3-a048-f57158c63d02",
   "metadata": {},
   "outputs": [],
   "source": [
    "ADF((newnoint['FCH4_1'].dropna().values),method='aic',low_memory=True)\n",
    "#REJECT NULL (STATIONARY)"
   ]
  },
  {
   "cell_type": "markdown",
   "id": "f632e8e5-0cb5-4a5a-9d96-a61b80eb6760",
   "metadata": {},
   "source": [
    "##### Gap-Filled Dataset"
   ]
  },
  {
   "cell_type": "code",
   "execution_count": null,
   "id": "5b991639-0362-453b-8721-2b11f6fc0646",
   "metadata": {},
   "outputs": [],
   "source": [
    "ADF((newdf['ALT'].values),method='aic',low_memory=True)\n",
    "#REJECT NULL (STATIONARY)"
   ]
  },
  {
   "cell_type": "code",
   "execution_count": null,
   "id": "a07a89aa-4792-428f-bcf9-5338217d506d",
   "metadata": {},
   "outputs": [],
   "source": [
    "ADF((newdf['CO2_1_1_1'].values),method='aic',low_memory=True)\n",
    "#REJECT NULL (STATIONARY)"
   ]
  },
  {
   "cell_type": "code",
   "execution_count": null,
   "id": "f2a22113-9697-4849-a816-96f833be6631",
   "metadata": {},
   "outputs": [],
   "source": [
    "ADF((newdf['FCH4_1'].values),method='aic',low_memory=True)\n",
    "#REJECT NULL (STATIONARY)"
   ]
  },
  {
   "cell_type": "markdown",
   "id": "a45ed34b-755c-4f0b-8291-f441a159b9ad",
   "metadata": {},
   "source": [
    "#### Initial KPSS Testing"
   ]
  },
  {
   "cell_type": "code",
   "execution_count": null,
   "id": "99f90c92-7d01-43eb-a565-c772cba72358",
   "metadata": {
    "jupyter": {
     "source_hidden": true
    }
   },
   "outputs": [],
   "source": [
    "#kpss((newnoint['ALT'].dropna()),regression='ct',nlags=\"auto\")\n",
    "#kpss((newnoint['ALT'].dropna()),regression='ct',nlags=\"auto\")\n",
    "#kpss((newnoint['ALT'].dropna()),regression='ct',nlags=\"auto\")"
   ]
  },
  {
   "cell_type": "markdown",
   "id": "32a9c074-dc82-4047-83a3-e893664f71ae",
   "metadata": {},
   "source": [
    "##### Raw Dataset"
   ]
  },
  {
   "cell_type": "code",
   "execution_count": null,
   "id": "ed55be88-2e5d-40ef-82fb-814415e9c796",
   "metadata": {},
   "outputs": [],
   "source": [
    "kpss((newnoint['ALT'].dropna().values),regression='ct',nlags=\"auto\")\n",
    "# FAIL TO REJECT NULL (NON-STATIONARY)"
   ]
  },
  {
   "cell_type": "code",
   "execution_count": null,
   "id": "4e673afc-5cd0-4a72-8b6e-6bcf62da7a29",
   "metadata": {},
   "outputs": [],
   "source": [
    "kpss((newnoint['CO2_1_1_1'].dropna().values),regression='ct',nlags=\"auto\")\n",
    "# FAIL TO REJECT NULL (NON-STATIONARY)"
   ]
  },
  {
   "cell_type": "code",
   "execution_count": null,
   "id": "77f344fc-79e6-46e5-9540-9327739948b8",
   "metadata": {},
   "outputs": [],
   "source": [
    "kpss((newnoint['FCH4_1'].dropna().values),regression='ct',nlags=\"auto\")\n",
    "# FAIL TO REJECT NULL (NON-STATIONARY)"
   ]
  },
  {
   "cell_type": "markdown",
   "id": "f25ccb80-07ba-42a2-9319-089281f86ef3",
   "metadata": {},
   "source": [
    "##### Gap-Filled Dataset"
   ]
  },
  {
   "cell_type": "code",
   "execution_count": null,
   "id": "8c4096c3-b52a-4ecf-809f-bad53423536a",
   "metadata": {},
   "outputs": [],
   "source": [
    "kpss((newdf['ALT'].values),regression='ct',nlags=\"auto\")\n",
    "# FAIL TO REJECT NULL (NON-STATIONARY)"
   ]
  },
  {
   "cell_type": "code",
   "execution_count": null,
   "id": "d301efa1-8dcb-4e21-b4fa-23758080b445",
   "metadata": {},
   "outputs": [],
   "source": [
    "kpss((newdf['CO2_1_1_1'].values),regression='ct',nlags=\"auto\")\n",
    "# FAIL TO REJECT NULL (NON-STATIONARY)"
   ]
  },
  {
   "cell_type": "code",
   "execution_count": null,
   "id": "9cdb4277-5c5d-46bb-8a3d-0f239a9bd491",
   "metadata": {},
   "outputs": [],
   "source": [
    "kpss((newdf['FCH4_1'].values),regression='ct',nlags=\"auto\")\n",
    "# FAIL TO REJECT NULL (NON-STATIONARY)"
   ]
  },
  {
   "cell_type": "code",
   "execution_count": null,
   "id": "7b842b24",
   "metadata": {
    "jupyter": {
     "source_hidden": true
    }
   },
   "outputs": [],
   "source": [
    "# plt.plot(np.log(newnoint['ALT'].resample('D').mean().dropna()))\n",
    "# plt.plot(np.log(newnoint['ALT'].dropna()),alpha=0.4)\n",
    "# plt.plot(np.log(newnoint['ALT'].dropna()).diff(),alpha=0.4)"
   ]
  },
  {
   "cell_type": "markdown",
   "id": "196ed0cb-1f79-4c20-8e23-f53b8ae165d5",
   "metadata": {},
   "source": [
    "#### Create new dataframes for difference stationarity appending"
   ]
  },
  {
   "cell_type": "code",
   "execution_count": null,
   "id": "50610f15-adfd-4329-b0b9-62e2a4bd39cf",
   "metadata": {},
   "outputs": [],
   "source": [
    "newnoint2=nointdf.copy()\n",
    "newdf2=newdf.copy()\n",
    "# newnoint2.drop_duplicates(inplace=True)\n",
    "# newdf2.drop_duplicates(inplace=True)"
   ]
  },
  {
   "cell_type": "markdown",
   "id": "e720115f-91bf-4ef7-90a4-30c2dc572a42",
   "metadata": {},
   "source": [
    "#### Differencing, 64 time steps"
   ]
  },
  {
   "cell_type": "markdown",
   "id": "33add225-6fb0-494e-b1f1-c7a5af959bb6",
   "metadata": {},
   "source": [
    "##### Raw Dataset"
   ]
  },
  {
   "cell_type": "code",
   "execution_count": null,
   "id": "4aaf47cb-5f76-42a8-b840-38a24df47bb7",
   "metadata": {},
   "outputs": [],
   "source": [
    "#RAW DATASET (NEWNOINT): TIME SERIES IS DIFFERENCE STATIONARY\n",
    "cols=newnoint2.columns.tolist()\n",
    "for col in cols:\n",
    "    newnoint2[col+'_diff'] = newnoint[col].diff()"
   ]
  },
  {
   "cell_type": "markdown",
   "id": "dd17305d-cc8a-4c82-97e5-bdfd2606f1f6",
   "metadata": {},
   "source": [
    "##### Gap-Filled Dataset"
   ]
  },
  {
   "cell_type": "code",
   "execution_count": null,
   "id": "d79d6b47-2fa5-448a-8850-d7370f2caa34",
   "metadata": {},
   "outputs": [],
   "source": [
    "#GAP-FILLED DATASET (NEWDF): TIME SERIES IS DIFFERENCE STATIONARY\n",
    "cols=newdf2.columns.tolist()\n",
    "for col in cols:\n",
    "    newdf2[col+'_diff'] = newdf[col].diff().fillna(method='bfill').fillna(method='ffill')"
   ]
  },
  {
   "cell_type": "markdown",
   "id": "0af5ea8c-e0b6-4136-952e-4d1fe4db8dc6",
   "metadata": {},
   "source": [
    "#### ADF Testing"
   ]
  },
  {
   "cell_type": "markdown",
   "id": "3bbc2b14-8981-4104-aeeb-228563ad80ad",
   "metadata": {},
   "source": [
    "##### Raw Dataset"
   ]
  },
  {
   "cell_type": "code",
   "execution_count": null,
   "id": "4497a463",
   "metadata": {},
   "outputs": [],
   "source": [
    "ADF((newnoint2['ALT_diff'].dropna().values),method='aic',low_memory=True)\n",
    "#REJECT NULL (STATIONARY)"
   ]
  },
  {
   "cell_type": "code",
   "execution_count": null,
   "id": "9a70d463",
   "metadata": {},
   "outputs": [],
   "source": [
    "ADF((newnoint2['CO2_1_1_1_diff'].dropna().values),method='aic',low_memory=True)\n",
    "#REJECT NULL (STATIONARY)"
   ]
  },
  {
   "cell_type": "code",
   "execution_count": null,
   "id": "ccc20695",
   "metadata": {},
   "outputs": [],
   "source": [
    "ADF((newnoint2['FCH4_1_diff'].dropna().values),method='aic',low_memory=True)\n",
    "#REJECT NULL (STATIONARY)"
   ]
  },
  {
   "cell_type": "markdown",
   "id": "da2af653-c0ad-44b5-b163-35ce63154053",
   "metadata": {},
   "source": [
    "##### Gap-Filled Dataset"
   ]
  },
  {
   "cell_type": "code",
   "execution_count": null,
   "id": "46f4ea6b",
   "metadata": {},
   "outputs": [],
   "source": [
    "ADF((newdf2['ALT_diff'].values),method='aic',low_memory=True)\n",
    "#REJECT NULL (STATIONARY)"
   ]
  },
  {
   "cell_type": "code",
   "execution_count": null,
   "id": "0c1a0731",
   "metadata": {},
   "outputs": [],
   "source": [
    "ADF((newdf2['CO2_1_1_1_diff'].values),method='aic',low_memory=True)\n",
    "#REJECT NULL (STATIONARY)"
   ]
  },
  {
   "cell_type": "code",
   "execution_count": null,
   "id": "4f556eed",
   "metadata": {},
   "outputs": [],
   "source": [
    "ADF((newdf2['FCH4_1_diff'].values),method='aic',low_memory=True)\n",
    "#REJECT NULL (STATIONARY)"
   ]
  },
  {
   "cell_type": "markdown",
   "id": "ad66e4f7-058e-4bd8-b222-1c44c8bba9fd",
   "metadata": {},
   "source": [
    "#### KPSS Testing"
   ]
  },
  {
   "cell_type": "markdown",
   "id": "3edc3ed9-a613-419a-99f3-bfc7804e432a",
   "metadata": {},
   "source": [
    "##### Raw Dataset"
   ]
  },
  {
   "cell_type": "code",
   "execution_count": null,
   "id": "258ad682",
   "metadata": {},
   "outputs": [],
   "source": [
    "kpss((newnoint2['ALT_diff'].dropna().values),regression='ct',nlags=\"auto\")\n",
    "#REJECT NULL (STATIONARY)"
   ]
  },
  {
   "cell_type": "code",
   "execution_count": null,
   "id": "69a88057",
   "metadata": {},
   "outputs": [],
   "source": [
    "kpss((newnoint2['CO2_1_1_1_diff'].dropna().values),regression='ct',nlags=\"auto\")\n",
    "#REJECT NULL (STATIONARY)"
   ]
  },
  {
   "cell_type": "code",
   "execution_count": null,
   "id": "aa33865d",
   "metadata": {},
   "outputs": [],
   "source": [
    "kpss((newnoint2['FCH4_1_diff'].dropna().values),regression='ct',nlags=\"auto\")\n",
    "#REJECT NULL (STATIONARY)"
   ]
  },
  {
   "cell_type": "markdown",
   "id": "9e3510e0-cc6c-4c97-aff1-483a9f8132e1",
   "metadata": {},
   "source": [
    "##### Gap-Filled Dataset"
   ]
  },
  {
   "cell_type": "code",
   "execution_count": null,
   "id": "40c95b8d",
   "metadata": {},
   "outputs": [],
   "source": [
    "kpss((newdf2['ALT_diff'].dropna().values),regression='ct',nlags=\"auto\")\n",
    "#REJECT NULL (STATIONARY)"
   ]
  },
  {
   "cell_type": "code",
   "execution_count": null,
   "id": "de194b0f",
   "metadata": {},
   "outputs": [],
   "source": [
    "kpss((newdf2['CO2_1_1_1_diff'].dropna().values),regression='ct',nlags=\"auto\")\n",
    "#REJECT NULL (STATIONARY)"
   ]
  },
  {
   "cell_type": "code",
   "execution_count": null,
   "id": "3b237e9c",
   "metadata": {},
   "outputs": [],
   "source": [
    "kpss((newdf2['FCH4_1_diff'].dropna().values),regression='ct',nlags=\"auto\")\n",
    "#REJECT NULL (STATIONARY)"
   ]
  },
  {
   "cell_type": "code",
   "execution_count": null,
   "id": "f57aea0f",
   "metadata": {
    "jupyter": {
     "source_hidden": true
    }
   },
   "outputs": [],
   "source": [
    "#dfdet=signal.detrend(newdf2['ALT_diff'].dropna().values, type='constant')"
   ]
  },
  {
   "cell_type": "code",
   "execution_count": null,
   "id": "c323f628",
   "metadata": {
    "jupyter": {
     "source_hidden": true
    }
   },
   "outputs": [],
   "source": [
    "# #TIME SERIES IS DIFFERENCE STATIONARY\n",
    "# nointdf_2=nointdf.copy()\n",
    "# nointdf_2['ALT_diff']=nointdf_2['ALT'].diff()\n",
    "# nointdf_2['ALT_shif']=nointdf_2['ALT'].shift()\n",
    "\n",
    "# plt.plot(nointdf_2['ALT'].dropna())\n",
    "# plt.plot(nointdf_2['ALT_diff'].dropna())\n",
    "# plt.plot(nointdf_2['ALT_shif'].dropna())\n",
    "# #plt.plot(np.log(nointdf['ALT'].dropna()))\n",
    "\n",
    "# dfnewdf=nointdf_2.copy()\n",
    "# newdf_3=newdf.copy()\n",
    "# #nointdf_2['ALT'].dropna()\n",
    "# #nointdf_2['ALT'].dropna().rolling(window=30).mean().dropna()#.fillna(method='bfill').fillna(method='ffill')\n",
    "# dfnewdf['ALT_diff'] = nointdf_2['ALT'].diff(30).fillna(method='bfill').fillna(method='ffill')\n",
    "# newdf_3['ALT_diff'] = newdf['ALT'].diff(30).fillna(method='bfill').fillna(method='ffill')"
   ]
  },
  {
   "cell_type": "markdown",
   "id": "f353d3d4",
   "metadata": {
    "jp-MarkdownHeadingCollapsed": true
   },
   "source": [
    "### Archived"
   ]
  },
  {
   "cell_type": "code",
   "execution_count": null,
   "id": "8b1cc1f4-10ca-42a7-ba9c-18e16c0d86c6",
   "metadata": {},
   "outputs": [],
   "source": [
    "plt.plot(newdf4['ALT'].replace(0,np.nan).dropna().values)"
   ]
  },
  {
   "cell_type": "code",
   "execution_count": null,
   "id": "660d36f1-fafd-465c-a0a5-4d64b48b1033",
   "metadata": {},
   "outputs": [],
   "source": [
    "plt.plot(newdf.diff(64)['ALT'].dropna().values)"
   ]
  },
  {
   "cell_type": "code",
   "execution_count": null,
   "id": "71efef24-ccd9-4a31-9a93-8e1c1c8d767a",
   "metadata": {},
   "outputs": [],
   "source": [
    "plt.plot(newdf.diff(64)['CO2_1_1_1']['2003':'2021'].dropna().values)"
   ]
  },
  {
   "cell_type": "code",
   "execution_count": null,
   "id": "b136b3f2-8b9a-4e88-8705-cd48765c523d",
   "metadata": {},
   "outputs": [],
   "source": [
    "plt.plot(newdf.diff(64)['FCH4_1']['2011':].dropna().values)"
   ]
  },
  {
   "cell_type": "code",
   "execution_count": null,
   "id": "68830d75-bc83-4857-83e8-94617377da80",
   "metadata": {},
   "outputs": [],
   "source": []
  },
  {
   "cell_type": "code",
   "execution_count": null,
   "id": "7cc7d47b",
   "metadata": {},
   "outputs": [],
   "source": [
    "#ADF((newdf3.loc[:,[('ALT', 't+1')]]),method='aic',low_memory=True)"
   ]
  },
  {
   "cell_type": "code",
   "execution_count": null,
   "id": "b8cae087",
   "metadata": {},
   "outputs": [],
   "source": [
    "#ADF((nointdf3.loc[:,[('ALT', 't+1')]].replace(-9999,np.nan).dropna()),method='aic',low_memory=True)"
   ]
  },
  {
   "cell_type": "code",
   "execution_count": null,
   "id": "c95f297d",
   "metadata": {},
   "outputs": [],
   "source": [
    "ADF((dfnewdf[('ALT', 't+1')].replace(-9999,np.nan).dropna()),method='aic',low_memory=True)"
   ]
  },
  {
   "cell_type": "code",
   "execution_count": null,
   "id": "4ae8e3d3",
   "metadata": {},
   "outputs": [],
   "source": [
    "ADF((newdf_3['ALT_diff'].replace(-9999,np.nan).dropna()),method='aic',low_memory=True)"
   ]
  },
  {
   "cell_type": "code",
   "execution_count": null,
   "id": "e4ad7419",
   "metadata": {},
   "outputs": [],
   "source": [
    "kpss((dfnewdf['ALT_diff'].replace(-9999,np.nan).dropna()),regression='ct',nlags=\"auto\")"
   ]
  },
  {
   "cell_type": "code",
   "execution_count": null,
   "id": "467f6102",
   "metadata": {},
   "outputs": [],
   "source": [
    "kpss((newdf_3['ALT_diff'].replace(-9999,np.nan).dropna()),regression='ct',nlags=\"auto\")"
   ]
  },
  {
   "cell_type": "code",
   "execution_count": null,
   "id": "7d8ad308",
   "metadata": {},
   "outputs": [],
   "source": [
    "plt.plot(newdf_3['ALT_diff'].values)"
   ]
  },
  {
   "cell_type": "code",
   "execution_count": null,
   "id": "53cdfb8d",
   "metadata": {},
   "outputs": [],
   "source": [
    "ADF((dfnewdf['CO2_1_1_1'].replace(-9999,np.nan).dropna()),method='aic',low_memory=True)"
   ]
  },
  {
   "cell_type": "code",
   "execution_count": null,
   "id": "63e071ee",
   "metadata": {},
   "outputs": [],
   "source": [
    "ADF((newdf_3['CO2_1_1_1'].replace(-9999,np.nan).dropna()),method='aic',low_memory=True)"
   ]
  },
  {
   "cell_type": "code",
   "execution_count": null,
   "id": "0ea135e4",
   "metadata": {},
   "outputs": [],
   "source": [
    "kpss((dfnewdf['CO2_1_1_1'].replace(-9999,np.nan).dropna()),regression='ct',nlags=\"auto\")"
   ]
  },
  {
   "cell_type": "code",
   "execution_count": null,
   "id": "78983895",
   "metadata": {},
   "outputs": [],
   "source": [
    "kpss((newdf_3['CO2_1_1_1'].replace(-9999,np.nan).dropna()),regression='ct',nlags=\"auto\")"
   ]
  },
  {
   "cell_type": "code",
   "execution_count": null,
   "id": "558f01c0",
   "metadata": {},
   "outputs": [],
   "source": [
    "dfnewdf['CO2_diff'] = nointdf_2['CO2_1_1_1'].diff(30).fillna(method='bfill').fillna(method='ffill')\n",
    "newdf_3['CO2_diff'] = newdf['CO2_1_1_1'].diff(30).fillna(method='bfill').fillna(method='ffill')"
   ]
  },
  {
   "cell_type": "code",
   "execution_count": null,
   "id": "ecf820c1",
   "metadata": {},
   "outputs": [],
   "source": [
    "ADF((dfnewdf['CO2_diff'].replace(-9999,np.nan).dropna()),method='aic',low_memory=True)"
   ]
  },
  {
   "cell_type": "code",
   "execution_count": null,
   "id": "df1e629f",
   "metadata": {},
   "outputs": [],
   "source": [
    "ADF((newdf_3['CO2_diff'].replace(-9999,np.nan).dropna()),method='aic',low_memory=True)"
   ]
  },
  {
   "cell_type": "code",
   "execution_count": null,
   "id": "75faa642",
   "metadata": {},
   "outputs": [],
   "source": [
    "kpss((dfnewdf['CO2_diff'].replace(-9999,np.nan).dropna()),regression='ct',nlags=\"auto\")"
   ]
  },
  {
   "cell_type": "code",
   "execution_count": null,
   "id": "4bdaca8e",
   "metadata": {},
   "outputs": [],
   "source": [
    "kpss((newdf_3['CO2_diff'].replace(-9999,np.nan).dropna()),regression='ct',nlags=\"auto\")"
   ]
  },
  {
   "cell_type": "code",
   "execution_count": null,
   "id": "be5abbac",
   "metadata": {},
   "outputs": [],
   "source": [
    "plt.plot(dups4_2['CO2_diff'].values)"
   ]
  },
  {
   "cell_type": "code",
   "execution_count": null,
   "id": "23bd7d56",
   "metadata": {},
   "outputs": [],
   "source": [
    "ADF((dfnewdf['FCH4_1'].replace(-9999,np.nan).dropna()),method='aic',low_memory=True)"
   ]
  },
  {
   "cell_type": "code",
   "execution_count": null,
   "id": "368907b8",
   "metadata": {},
   "outputs": [],
   "source": [
    "ADF((newdf_3['FCH4_1'].replace(-9999,np.nan).dropna()),method='aic',low_memory=True)"
   ]
  },
  {
   "cell_type": "code",
   "execution_count": null,
   "id": "cd1f87d1",
   "metadata": {},
   "outputs": [],
   "source": [
    "kpss((dfnewdf['FCH4_1'].replace(-9999,np.nan).dropna()),regression='ct',nlags=\"auto\")"
   ]
  },
  {
   "cell_type": "code",
   "execution_count": null,
   "id": "6cf46670",
   "metadata": {},
   "outputs": [],
   "source": [
    "kpss((newdf_3['FCH4_1'].replace(-9999,np.nan).dropna()),regression='ct',nlags=\"auto\")"
   ]
  },
  {
   "cell_type": "code",
   "execution_count": null,
   "id": "7a0a1984",
   "metadata": {},
   "outputs": [],
   "source": [
    "dfnewdf['CH4_diff'] = nointdf_2['FCH4_1'].diff(30).fillna(method='bfill').fillna(method='ffill')\n",
    "newdf_3['CH4_diff'] = newdf['FCH4_1'].diff(30).fillna(method='bfill').fillna(method='ffill')"
   ]
  },
  {
   "cell_type": "code",
   "execution_count": null,
   "id": "8617659e",
   "metadata": {},
   "outputs": [],
   "source": [
    "ADF((dfnewdf['CH4_diff'].replace(-9999,np.nan).dropna()),method='aic',low_memory=True)"
   ]
  },
  {
   "cell_type": "code",
   "execution_count": null,
   "id": "5e245397",
   "metadata": {},
   "outputs": [],
   "source": [
    "ADF((newdf_3['CH4_diff'].replace(-9999,np.nan).dropna()),method='aic',low_memory=True)"
   ]
  },
  {
   "cell_type": "code",
   "execution_count": null,
   "id": "78f496f5",
   "metadata": {},
   "outputs": [],
   "source": [
    "kpss((dfnewdf['CH4_diff'].replace(-9999,np.nan).dropna()),regression='ct',nlags=\"auto\")"
   ]
  },
  {
   "cell_type": "code",
   "execution_count": null,
   "id": "eac86e11",
   "metadata": {},
   "outputs": [],
   "source": [
    "kpss((newdf_3['CH4_diff'].replace(-9999,np.nan).dropna()),regression='ct',nlags=\"auto\")"
   ]
  },
  {
   "cell_type": "code",
   "execution_count": null,
   "id": "88e0c1e2",
   "metadata": {},
   "outputs": [],
   "source": [
    "plt.plot(newdf_3['CH4_diff'].values)"
   ]
  },
  {
   "cell_type": "code",
   "execution_count": null,
   "id": "0d6b92b4",
   "metadata": {},
   "outputs": [],
   "source": [
    "dfnew=newdf_3"
   ]
  },
  {
   "cell_type": "markdown",
   "id": "82880a7d",
   "metadata": {
    "jp-MarkdownHeadingCollapsed": true
   },
   "source": [
    "##### ALT"
   ]
  },
  {
   "cell_type": "code",
   "execution_count": null,
   "id": "8d4d8ced",
   "metadata": {},
   "outputs": [],
   "source": [
    "# Creating a data structure with 72 timestamps and 1 output\n",
    "X_train = []\n",
    "y_train = []\n",
    "n_future = 5 # Number of days we want to predict into the future.\n",
    "n_past = 49 # Number of past days we want to use to predict future.\n",
    "for i in range(n_past, len(training_set_scaled) - n_future +1):\n",
    "    X_train.append(training_set_scaled[i - n_past:i,\n",
    "                   0:dataset_train.shape[1]])\n",
    "    y_train.append(training_set_scaled[i+n_future-1:i+n_future, 0])\n",
    "X_train, y_train = np.array(X_train), np.array(y_train)\n",
    "print('X_train shape == {}.'.format(X_train.shape))\n",
    "print('y_train shape == {}.'.format(y_train.shape))"
   ]
  },
  {
   "cell_type": "code",
   "execution_count": null,
   "id": "9ed74089",
   "metadata": {},
   "outputs": [],
   "source": [
    "dups4_2"
   ]
  },
  {
   "cell_type": "code",
   "execution_count": null,
   "id": "91b4d8c4",
   "metadata": {},
   "outputs": [],
   "source": [
    "plt.plot(dups4_2['ALT'].values)"
   ]
  },
  {
   "cell_type": "code",
   "execution_count": null,
   "id": "bc6ca6c5",
   "metadata": {},
   "outputs": [],
   "source": [
    "plt.plot(dups4_2['ALT_diff'].values)"
   ]
  },
  {
   "cell_type": "code",
   "execution_count": null,
   "id": "37a0f6c8",
   "metadata": {},
   "outputs": [],
   "source": [
    "inputs = keras.Input(shape=(trainXscaltref.shape[1],trainXscaltref.shape[2]))#, X_train_reframed_sup.shape[2]))#, X_train_reframed_sup.shape[3]))\n",
    "inputs.shape"
   ]
  },
  {
   "cell_type": "code",
   "execution_count": null,
   "id": "aba5628e",
   "metadata": {},
   "outputs": [],
   "source": [
    "trainXscaltref.shape"
   ]
  },
  {
   "cell_type": "code",
   "execution_count": null,
   "id": "bc5d6762",
   "metadata": {},
   "outputs": [],
   "source": [
    "inputs"
   ]
  },
  {
   "cell_type": "markdown",
   "id": "f8317108",
   "metadata": {
    "jp-MarkdownHeadingCollapsed": true
   },
   "source": [
    "##### CH4"
   ]
  },
  {
   "cell_type": "code",
   "execution_count": null,
   "id": "1d2a91ec",
   "metadata": {},
   "outputs": [],
   "source": [
    "# trainXch4arr=pd.DataFrame(trainXch4[-365:,:,:,:,0].flatten()).dropna().to_numpy().flatten() #Last year of training\n",
    "# validXch4arr=pd.DataFrame(validXch4[-365:,:,:,:,0].flatten()).dropna().to_numpy().flatten() #Last year of validation\n",
    "# testXch4arr=pd.DataFrame(testXch4[:,:,:,:,0].flatten()).dropna().to_numpy().flatten() #Last year of testing"
   ]
  },
  {
   "cell_type": "code",
   "execution_count": null,
   "id": "c0986667",
   "metadata": {},
   "outputs": [],
   "source": [
    "Xch4train=trainXch4; Xch4valid=validXch4; Xch4test=testXch4"
   ]
  },
  {
   "cell_type": "code",
   "execution_count": null,
   "id": "2caf81f8",
   "metadata": {},
   "outputs": [],
   "source": [
    "trainych4.shape"
   ]
  },
  {
   "cell_type": "code",
   "execution_count": null,
   "id": "09e8bada",
   "metadata": {},
   "outputs": [],
   "source": [
    "ych4train=trainych4[0:3285,0,0,0,0].reshape(3285,); ych4valid=validych4[0:1095,0,0,0,0].reshape(1095,); ych4test=testych4[0:365,0,0,0,0].reshape(365,)"
   ]
  },
  {
   "cell_type": "code",
   "execution_count": null,
   "id": "fa350688",
   "metadata": {},
   "outputs": [],
   "source": [
    "Xch4train.shape,ych4train.shape"
   ]
  },
  {
   "cell_type": "code",
   "execution_count": null,
   "id": "d20a7b9b",
   "metadata": {},
   "outputs": [],
   "source": [
    "inputs = keras.Input(shape=(Xch4train.shape[0], Xch4train.shape[1],Xch4train.shape[2]))#, Xch4train.shape[3], Xch4train.shape[4]))"
   ]
  },
  {
   "cell_type": "code",
   "execution_count": null,
   "id": "26bda059",
   "metadata": {},
   "outputs": [],
   "source": [
    "inputs.shape"
   ]
  },
  {
   "cell_type": "code",
   "execution_count": null,
   "id": "36954eda",
   "metadata": {},
   "outputs": [],
   "source": [
    "#inp = layers.Input(shape=(None, *trainXch4.shape[2:]))"
   ]
  },
  {
   "cell_type": "code",
   "execution_count": null,
   "id": "6261bcdc",
   "metadata": {},
   "outputs": [],
   "source": [
    "# # We will construct 3 `ConvLSTM2D` layers with batch normalization,\n",
    "# # followed by a `Conv3D` layer for the spatiotemporal outputs.\n",
    "# x = layers.ConvLSTM2D(\n",
    "#     filters=64,\n",
    "#     kernel_size=(5, 5),\n",
    "#     padding=\"same\",\n",
    "#     return_sequences=True,\n",
    "#     activation=\"relu\",\n",
    "# )(inp)\n",
    "# x = layers.BatchNormalization()(x)\n",
    "# x = layers.ConvLSTM2D(\n",
    "#     filters=64,\n",
    "#     kernel_size=(3, 3),\n",
    "#     padding=\"same\",\n",
    "#     return_sequences=True,\n",
    "#     activation=\"relu\",\n",
    "# )(x)\n",
    "# x = layers.BatchNormalization()(x)\n",
    "# x = layers.ConvLSTM2D(\n",
    "#     filters=64,\n",
    "#     kernel_size=(1, 1),\n",
    "#     padding=\"same\",\n",
    "#     return_sequences=True,\n",
    "#     activation=\"relu\",\n",
    "# )(x)\n",
    "# x = layers.Conv3D(\n",
    "#     filters=1, kernel_size=(3, 3, 3), activation=\"sigmoid\", padding=\"same\"\n",
    "# )(x)\n",
    "\n",
    "# # Next, we will build the complete model and compile it.\n",
    "# model = keras.models.Model(inp, x)\n",
    "# model.compile(\n",
    "#     loss=keras.losses.binary_crossentropy, optimizer=tf.keras.optimizers.legacy.Adam(),\n",
    "# )"
   ]
  },
  {
   "cell_type": "code",
   "execution_count": null,
   "id": "5fa2fcea",
   "metadata": {},
   "outputs": [],
   "source": [
    "# # Define some callbacks to improve training.\n",
    "# early_stopping = keras.callbacks.EarlyStopping(monitor=\"val_loss\", patience=10)\n",
    "# reduce_lr = keras.callbacks.ReduceLROnPlateau(monitor=\"val_loss\", patience=5)\n",
    "\n",
    "# # Define modifiable training hyperparameters.\n",
    "# epochs = 20\n",
    "# batch_size = 5\n",
    "\n",
    "# # Fit the model to the training data.\n",
    "# model.fit(\n",
    "#     x_train,\n",
    "#     y_train,\n",
    "#     batch_size=batch_size,\n",
    "#     epochs=epochs,\n",
    "#     validation_data=(x_val, y_val),\n",
    "#     callbacks=[early_stopping, reduce_lr],\n",
    "# )"
   ]
  },
  {
   "cell_type": "markdown",
   "id": "e8b93614",
   "metadata": {
    "jp-MarkdownHeadingCollapsed": true
   },
   "source": [
    "##### CO2"
   ]
  },
  {
   "cell_type": "code",
   "execution_count": null,
   "id": "6e3f8099",
   "metadata": {},
   "outputs": [],
   "source": [
    "inputs = keras.Input(shape=(trainXscco2ref.shape[1],trainXscco2ref.shape[2]))#, X_train_reframed_sup.shape[2]))#, X_train_reframed_sup.shape[3]))\n",
    "inputs.shape"
   ]
  },
  {
   "cell_type": "code",
   "execution_count": null,
   "id": "2cd7cb87",
   "metadata": {},
   "outputs": [],
   "source": [
    "trainXscco2ref.shape"
   ]
  },
  {
   "cell_type": "code",
   "execution_count": null,
   "id": "08a86b45",
   "metadata": {},
   "outputs": [],
   "source": [
    "inputs"
   ]
  },
  {
   "cell_type": "markdown",
   "id": "b4426233",
   "metadata": {
    "jp-MarkdownHeadingCollapsed": true
   },
   "source": [
    "##### Archived"
   ]
  },
  {
   "cell_type": "code",
   "execution_count": null,
   "id": "53a5a868",
   "metadata": {},
   "outputs": [],
   "source": [
    "#adfuller(newdata['FCH4_1']['2011':'2022'],autolag='AIC')\n",
    "\n",
    "adf=ADF(newdata['FCH4_1']['2011':'2022'],method='aic',low_memory=True)\n",
    "print(adf.summary().as_text())\n",
    "print(adf)"
   ]
  },
  {
   "cell_type": "code",
   "execution_count": null,
   "id": "311e22c7",
   "metadata": {},
   "outputs": [],
   "source": [
    "# (-4.620970051848073,\n",
    "#  0.0001181491350146937,\n",
    "#  146,\n",
    "#  2136124,\n",
    "#  {'1%': -3.4303530612960005,\n",
    "#   '5%': -2.861541353059084,\n",
    "#   '10%': -2.566770720183526},\n",
    "#  16204075.623475585)\n",
    "\n",
    "# Reject Null (p<0.05), Stationary with significance level less than 1%"
   ]
  },
  {
   "cell_type": "code",
   "execution_count": null,
   "id": "b6662812",
   "metadata": {},
   "outputs": [],
   "source": [
    "kpss(newdata['FCH4_1']['2011':'2022'],regression='ct',nlags=\"auto\")"
   ]
  },
  {
   "cell_type": "code",
   "execution_count": null,
   "id": "71f495a1",
   "metadata": {},
   "outputs": [],
   "source": [
    "# (3.005297413155853,\n",
    "#  0.01,\n",
    "#  804,\n",
    "#  {'10%': 0.119, '5%': 0.146, '2.5%': 0.176, '1%': 0.216})\n",
    "\n",
    "# Reject Null (p<0.05), Non-Stationary"
   ]
  },
  {
   "cell_type": "code",
   "execution_count": null,
   "id": "4c656ce8",
   "metadata": {},
   "outputs": [],
   "source": [
    "#CH4\n",
    "#ADF Stationary, KPSS Non-Stationary --> Difference Stationary\n",
    "newdata['CH4_diff'] = newdata['FCH4_1'].diff().fillna(method='bfill').fillna(method='ffill')\n",
    "#newdata['ALT_diff'].dropna().plot(figsize=(12, 8))\n",
    "newdata"
   ]
  },
  {
   "cell_type": "code",
   "execution_count": null,
   "id": "71670922",
   "metadata": {},
   "outputs": [],
   "source": [
    "adfuller(newdata['CH4_diff']['2011':],autolag='AIC')"
   ]
  },
  {
   "cell_type": "code",
   "execution_count": null,
   "id": "8f1d33d9",
   "metadata": {},
   "outputs": [],
   "source": [
    "# (-136.37684055825162,\n",
    "#  0.0,\n",
    "#  146,\n",
    "#  2136124,\n",
    "#  {'1%': -3.4303530612960005,\n",
    "#   '5%': -2.861541353059084,\n",
    "#   '10%': -2.566770720183526},\n",
    "#  16204081.553529952)\n",
    "\n",
    "# Reject Null (p<0.05), Stationary with significance level less than 1%"
   ]
  },
  {
   "cell_type": "code",
   "execution_count": null,
   "id": "912409c7",
   "metadata": {},
   "outputs": [],
   "source": [
    "kpss(newdata['CH4_diff']['2011':],regression='ct',nlags=\"auto\")"
   ]
  },
  {
   "cell_type": "code",
   "execution_count": null,
   "id": "08facbe2",
   "metadata": {},
   "outputs": [],
   "source": [
    "# (0.013679439557372875,\n",
    "#  0.1,\n",
    "#  3857,\n",
    "#  {'10%': 0.119, '5%': 0.146, '2.5%': 0.176, '1%': 0.216})\n",
    "\n",
    "# Fail to Reject Null (p>0.05), Stationary"
   ]
  },
  {
   "cell_type": "code",
   "execution_count": null,
   "id": "32c10c33",
   "metadata": {},
   "outputs": [],
   "source": [
    "ch4diff=pd.DataFrame(newdata['CH4_diff'])#['2011':])"
   ]
  },
  {
   "cell_type": "code",
   "execution_count": null,
   "id": "266f7d99",
   "metadata": {},
   "outputs": [],
   "source": [
    "plt.plot(newdata['FCH4_1']['2011':].values)\n",
    "plt.plot(newdata['CH4_diff']['2011':].values)"
   ]
  },
  {
   "cell_type": "code",
   "execution_count": null,
   "id": "2751b4bb",
   "metadata": {},
   "outputs": [],
   "source": [
    "plt.figure(figsize=(8,5))\n",
    "plt.plot(newdf.iloc[:,0].values, label='ALT_diff')\n",
    "plt.plot(newdf.iloc[:,1].values, label='CO2_diff')\n",
    "plt.plot(newdf.iloc[:,2].values, label='CH4_diff')\n",
    "plt.legend(loc='lower left')\n",
    "plt.axis('tight')\n",
    "plt.show()"
   ]
  },
  {
   "cell_type": "code",
   "execution_count": null,
   "id": "c60a0b6f",
   "metadata": {},
   "outputs": [],
   "source": [
    "plt.figure(figsize=(8,5))\n",
    "plt.plot(newdata['ALT'].values, label='ALT')\n",
    "plt.plot(newdata['CO2_1_1_1'].values, label='CO2')\n",
    "plt.plot(newdata['FCH4_1'].values, label='CH4')\n",
    "plt.legend(loc='lower left')\n",
    "plt.axis('tight')\n",
    "plt.show()"
   ]
  },
  {
   "cell_type": "code",
   "execution_count": null,
   "id": "8554e2ed",
   "metadata": {},
   "outputs": [],
   "source": [
    "# altdiff=altdiff\n",
    "# co2diff=co2diff['2003':'2021']\n",
    "# ch4diff=ch4diff['2011':]"
   ]
  },
  {
   "cell_type": "code",
   "execution_count": null,
   "id": "80b93341",
   "metadata": {},
   "outputs": [],
   "source": [
    "altdiff.shape, ch4diff.shape, co2diff.shape"
   ]
  },
  {
   "cell_type": "code",
   "execution_count": null,
   "id": "533f86b4",
   "metadata": {},
   "outputs": [],
   "source": [
    "newdata.shape"
   ]
  },
  {
   "cell_type": "code",
   "execution_count": null,
   "id": "e044e8e1",
   "metadata": {},
   "outputs": [],
   "source": [
    "#38, 11, 5\n",
    "train=newdf2[:'2006']\n",
    "valid=newdf2['2007':'2017']\n",
    "test=newdf2['2018':]"
   ]
  },
  {
   "cell_type": "code",
   "execution_count": null,
   "id": "f467dae2",
   "metadata": {},
   "outputs": [],
   "source": [
    "newalt=pd.DataFrame(newdf.iloc[:,0].dropna())\n",
    "newco2=pd.DataFrame(newdf.iloc[:,1].dropna())\n",
    "newch4=pd.DataFrame(newdf.iloc[:,2].dropna())"
   ]
  },
  {
   "cell_type": "code",
   "execution_count": null,
   "id": "3a410141",
   "metadata": {},
   "outputs": [],
   "source": [
    "newalt.shape == newco2.shape == newch4.shape"
   ]
  },
  {
   "cell_type": "code",
   "execution_count": null,
   "id": "4385455b",
   "metadata": {},
   "outputs": [],
   "source": [
    "# Select columns (features) to be involved intro training and predictions\n",
    "dataset_train = newdf2.reset_index()\n",
    "cols = list(dataset_train)\n",
    "# Extract dates (will be used in visualization)\n",
    "datelist_train = list(dataset_train.index)\n",
    "datelist_train = [date for date in datelist_train]\n",
    "training_set = dataset_train.values"
   ]
  },
  {
   "cell_type": "code",
   "execution_count": null,
   "id": "92aab98c",
   "metadata": {},
   "outputs": [],
   "source": [
    "# Feature Scaling\n",
    "from sklearn.preprocessing import StandardScaler\n",
    "sc = StandardScaler()\n",
    "training_set_scaled = sc.fit_transform(training_set)\n",
    "sc_predict = StandardScaler()\n",
    "sc_predict.fit_transform(training_set[:, 0:1])"
   ]
  },
  {
   "cell_type": "code",
   "execution_count": null,
   "id": "9e2b1d55",
   "metadata": {},
   "outputs": [],
   "source": [
    "#IN SITU\n",
    "print(trainXscaltref.shape, type(trainXscaltref), trainXscch4ref.shape, type(trainXscch4ref), trainXscco2ref.shape, type(trainXscco2ref))\n",
    "print(trainyscaltref.shape, type(trainyscaltref), trainyscch4ref.shape, type(trainyscch4ref), trainyscco2ref.shape, type(trainyscco2ref))"
   ]
  },
  {
   "cell_type": "markdown",
   "id": "31eac306",
   "metadata": {
    "jp-MarkdownHeadingCollapsed": true
   },
   "source": [
    "###### CH4"
   ]
  },
  {
   "cell_type": "code",
   "execution_count": null,
   "id": "0226c859",
   "metadata": {},
   "outputs": [],
   "source": [
    "#adfuller(newdata['FCH4_1']['2011':'2022'],autolag='AIC')\n",
    "\n",
    "adf=ADF(newdata['FCH4_1']['2011':],method='aic',low_memory=True)\n",
    "print(adf.summary().as_text())\n",
    "print(adf)"
   ]
  },
  {
   "cell_type": "code",
   "execution_count": null,
   "id": "6dafab10",
   "metadata": {},
   "outputs": [],
   "source": [
    "# (-4.620970051848073,\n",
    "#  0.0001181491350146937,\n",
    "#  146,\n",
    "#  2136124,\n",
    "#  {'1%': -3.4303530612960005,\n",
    "#   '5%': -2.861541353059084,\n",
    "#   '10%': -2.566770720183526},\n",
    "#  16204075.623475585)\n",
    "\n",
    "# Reject Null (p<0.05), Stationary with significance level less than 1%"
   ]
  },
  {
   "cell_type": "code",
   "execution_count": null,
   "id": "6ef9b00f",
   "metadata": {},
   "outputs": [],
   "source": [
    "kpss(newdata['FCH4_1']['2011':],regression='ct',nlags=\"auto\")"
   ]
  },
  {
   "cell_type": "code",
   "execution_count": null,
   "id": "ebacbb4f",
   "metadata": {},
   "outputs": [],
   "source": [
    "# (3.005297413155853,\n",
    "#  0.01,\n",
    "#  804,\n",
    "#  {'10%': 0.119, '5%': 0.146, '2.5%': 0.176, '1%': 0.216})\n",
    "\n",
    "# Reject Null (p<0.05), Non-Stationary"
   ]
  },
  {
   "cell_type": "code",
   "execution_count": null,
   "id": "60f2d413",
   "metadata": {},
   "outputs": [],
   "source": [
    "#CH4\n",
    "#ADF Stationary, KPSS Non-Stationary --> Difference Stationary\n",
    "newdata['CH4_diff'] = newdata['FCH4_1'].diff().fillna(method='bfill').fillna(method='ffill')\n",
    "#newdata['ALT_diff'].dropna().plot(figsize=(12, 8))\n",
    "newdata"
   ]
  },
  {
   "cell_type": "code",
   "execution_count": null,
   "id": "f86d5ed9",
   "metadata": {},
   "outputs": [],
   "source": [
    "adfuller(newdata['CH4_diff']['2011':],autolag='AIC')"
   ]
  },
  {
   "cell_type": "code",
   "execution_count": null,
   "id": "f76c2594",
   "metadata": {},
   "outputs": [],
   "source": [
    "# (-136.37684055825162,\n",
    "#  0.0,\n",
    "#  146,\n",
    "#  2136124,\n",
    "#  {'1%': -3.4303530612960005,\n",
    "#   '5%': -2.861541353059084,\n",
    "#   '10%': -2.566770720183526},\n",
    "#  16204081.553529952)\n",
    "\n",
    "# Reject Null (p<0.05), Stationary with significance level less than 1%"
   ]
  },
  {
   "cell_type": "code",
   "execution_count": null,
   "id": "d4789aae",
   "metadata": {},
   "outputs": [],
   "source": [
    "kpss(newdata['CH4_diff']['2011':],regression='ct',nlags=\"auto\")"
   ]
  },
  {
   "cell_type": "code",
   "execution_count": null,
   "id": "ee12ed0a",
   "metadata": {},
   "outputs": [],
   "source": [
    "# (0.013679439557372875,\n",
    "#  0.1,\n",
    "#  3857,\n",
    "#  {'10%': 0.119, '5%': 0.146, '2.5%': 0.176, '1%': 0.216})\n",
    "\n",
    "# Fail to Reject Null (p>0.05), Stationary"
   ]
  },
  {
   "cell_type": "code",
   "execution_count": null,
   "id": "0b482d59",
   "metadata": {},
   "outputs": [],
   "source": [
    "plt.plot(newdata['FCH4_1']['2011':].values)\n",
    "plt.plot(newdata['CH4_diff']['2011':].values)"
   ]
  },
  {
   "cell_type": "markdown",
   "id": "128ada63",
   "metadata": {
    "jp-MarkdownHeadingCollapsed": true
   },
   "source": [
    "###### ALT"
   ]
  },
  {
   "cell_type": "code",
   "execution_count": null,
   "id": "56e845ce",
   "metadata": {},
   "outputs": [],
   "source": [
    "# #adfuller(newdata['ALT'],autolag='AIC')\n",
    "# adf=ADF(newdata['ALT'],method='aic',low_memory=True)\n",
    "# print(adf.summary().as_text())"
   ]
  },
  {
   "cell_type": "code",
   "execution_count": null,
   "id": "9e56ce78",
   "metadata": {},
   "outputs": [],
   "source": [
    "# (-11.716346804997753,\n",
    "#  1.448176932250584e-21,\n",
    "#  150,\n",
    "#  2441089,\n",
    "#  {'1%': -3.430352678848201,\n",
    "#   '5%': -2.861541184021449,\n",
    "#   '10%': -2.5667706302110043},\n",
    "#  11885640.7931901)\n",
    "\n",
    "# REJECT NULL HYPOTHESIS (P<0.05); LARGE NEGATIVE TEST STATISTIC FURTHER SUPPORTS CONCLUSION OF REJECTING NULL HYPOTHESIS WITH SIGNIFICANCE LEVEL LESS THAN 1% (LOW PROBABILITY\n",
    "# THAT RESULT IS A STATISTICAL FLUKE)\n",
    "##==>  SERIES IS STATIONARY WITHOUT UNIT ROOT; NO TIME-DEPENDENT STRUCTURE (DOES NOT NEED TO BE DIFFERENCED)"
   ]
  },
  {
   "cell_type": "code",
   "execution_count": null,
   "id": "ea53cc32",
   "metadata": {},
   "outputs": [],
   "source": [
    "# #kpss(newdata['ALT'],nlags=\"auto\")\n",
    "# KPSS(newdata['ALT'], trend=\"ct\")"
   ]
  },
  {
   "cell_type": "code",
   "execution_count": null,
   "id": "0c9a170f",
   "metadata": {},
   "outputs": [],
   "source": [
    "# (22.16700015677629,\n",
    "#  0.01,\n",
    "#  860,\n",
    "#  {'10%': 0.119, '5%': 0.146, '2.5%': 0.176, '1%': 0.216})\n",
    "\n",
    "# Reject Null (p<0.05), Non-Stationary"
   ]
  },
  {
   "cell_type": "code",
   "execution_count": null,
   "id": "a1e65c91",
   "metadata": {},
   "outputs": [],
   "source": [
    "#ALT\n",
    "#ADF Stationary, KPSS Non-Stationary --> Difference Stationary\n",
    "#newdata['ALT_diff'] = newdata['ALT'].diff().fillna(method='bfill').fillna(method='ffill')\n",
    "#newdata['ALT_diff'].dropna().plot(figsize=(12, 8))"
   ]
  },
  {
   "cell_type": "code",
   "execution_count": null,
   "id": "d02fd46e",
   "metadata": {},
   "outputs": [],
   "source": [
    "adfuller(newdata['ALT_diff'],autolag='AIC')"
   ]
  },
  {
   "cell_type": "code",
   "execution_count": null,
   "id": "4ce06b69",
   "metadata": {},
   "outputs": [],
   "source": [
    "# (-167.13383560303836,\n",
    "#  0.0,\n",
    "#  150,\n",
    "#  2441089,\n",
    "#  {'1%': -3.430352678848201,\n",
    "#   '5%': -2.861541184021449,\n",
    "#   '10%': -2.5667706302110043},\n",
    "#  11885772.46788086)"
   ]
  },
  {
   "cell_type": "code",
   "execution_count": null,
   "id": "24501824",
   "metadata": {},
   "outputs": [],
   "source": [
    "adf=ADF(newdata['ALT_diff'],method='aic',low_memory=True)\n",
    "print(adf.summary().as_text())"
   ]
  },
  {
   "cell_type": "code",
   "execution_count": null,
   "id": "8ec68695",
   "metadata": {},
   "outputs": [],
   "source": [
    "#kpss(newdata['ALT'],nlags=\"auto\")\n",
    "#kpss(newdata['ALT_diff'],nlags=\"auto\")\n",
    "#kpss(newdata['ALT_diff'],regression='ct',nlags=\"auto\")\n",
    "\n",
    "#KPSS(newdata['ALT'])\n",
    "#KPSS(newdata['ALT'],trend='ct')\n",
    "#KPSS(newdata['ALT_diff'])\n",
    "KPSS(newdata['ALT_diff'], trend=\"ct\")\n",
    "#print(kpss.summary().as_text())"
   ]
  },
  {
   "cell_type": "code",
   "execution_count": null,
   "id": "3a828975",
   "metadata": {},
   "outputs": [],
   "source": [
    "# (0.007076816839760557,\n",
    "#  0.1,\n",
    "#  2285,\n",
    "#  {'10%': 0.119, '5%': 0.146, '2.5%': 0.176, '1%': 0.216})\n",
    "\n",
    "# Fail to Reject Null (p>0.05), Stationary"
   ]
  },
  {
   "cell_type": "code",
   "execution_count": null,
   "id": "3c99747b",
   "metadata": {},
   "outputs": [],
   "source": [
    "plt.plot(newdata['ALT'])\n",
    "plt.plot(newdata['ALT_diff'])"
   ]
  },
  {
   "cell_type": "markdown",
   "id": "fc7e8d43",
   "metadata": {
    "jp-MarkdownHeadingCollapsed": true
   },
   "source": [
    "###### CO2"
   ]
  },
  {
   "cell_type": "code",
   "execution_count": null,
   "id": "279c8dd1",
   "metadata": {},
   "outputs": [],
   "source": [
    "#adfuller(newdata['CO2_1_1_1']['2003':'2021'].values,autolag='AIC')\n",
    "#adfuller(newdata['CO2_1_1_1']['2003':'2021'],autolag='AIC',regression='ct')\n",
    "#adfuller(newdata['CO2_1_1_1'].round(1),autolag='AIC')\n",
    "\n",
    "adf=ADF(newdata['CO2_1_1_1']['2003':'2021'],method='aic',low_memory=True)\n",
    "print(adf.summary().as_text())"
   ]
  },
  {
   "cell_type": "code",
   "execution_count": null,
   "id": "f7361b4f",
   "metadata": {},
   "outputs": [],
   "source": [
    "#    Augmented Dickey-Fuller Results   \n",
    "# =====================================\n",
    "# Test Statistic                -12.567\n",
    "# P-value                         0.000\n",
    "# Lags                              149\n",
    "# -------------------------------------\n",
    "\n",
    "# Trend: Constant\n",
    "# Critical Values: -3.43 (1%), -2.86 (5%), -2.57 (10%)\n",
    "# Null Hypothesis: The process contains a unit root.\n",
    "# Alternative Hypothesis: The process is weakly stationary.\n",
    "\n",
    "# # Reject Null (p<0.05), Stationary with significance level less than 1%"
   ]
  },
  {
   "cell_type": "code",
   "execution_count": null,
   "id": "4cafd90b",
   "metadata": {},
   "outputs": [],
   "source": [
    "#kpss(newdata['CO2_1_1_1']['2003':'2021'],regression='ct',nlags=\"auto\")\n",
    "KPSS(newdata['CO2_1_1_1']['2003':'2021'],trend='ct')"
   ]
  },
  {
   "cell_type": "code",
   "execution_count": null,
   "id": "2e1ee91b",
   "metadata": {},
   "outputs": [],
   "source": [
    "# (10.064566631105404,\n",
    "#  0.01,\n",
    "#  852,\n",
    "#  {'10%': 0.119, '5%': 0.146, '2.5%': 0.176, '1%': 0.216})\n",
    "\n",
    "# Reject Null (p<0.05), Non-Stationary"
   ]
  },
  {
   "cell_type": "code",
   "execution_count": null,
   "id": "6b3cc4b2",
   "metadata": {},
   "outputs": [],
   "source": [
    "#CO2\n",
    "#ADF Stationary, KPSS Non-Stationary --> Difference Stationary\n",
    "newdata['CO2_diff'] = newdata['CO2_1_1_1'].diff().fillna(method='bfill').fillna(method='ffill')\n",
    "#newdata['ALT_diff'].dropna().plot(figsize=(12, 8))"
   ]
  },
  {
   "cell_type": "code",
   "execution_count": null,
   "id": "145068e7",
   "metadata": {},
   "outputs": [],
   "source": [
    "#adfuller(newdata['CO2_diff']['2003':'2021'],autolag='AIC')\n",
    "\n",
    "adf=ADF(newdata['CO2_diff']['2003':'2021'],method='aic',low_memory=True)\n",
    "print(adf.summary().as_text())"
   ]
  },
  {
   "cell_type": "code",
   "execution_count": null,
   "id": "6b2714aa",
   "metadata": {},
   "outputs": [],
   "source": [
    "#    Augmented Dickey-Fuller Results   \n",
    "# =====================================\n",
    "# Test Statistic               -153.211\n",
    "# P-value                         0.000\n",
    "# Lags                              149\n",
    "# -------------------------------------\n",
    "\n",
    "# Trend: Constant\n",
    "# Critical Values: -3.43 (1%), -2.86 (5%), -2.57 (10%)\n",
    "# Null Hypothesis: The process contains a unit root.\n",
    "# Alternative Hypothesis: The process is weakly stationary.\n",
    "\n",
    "# Reject Null (p<0.05), Stationary with significance level less than 1%"
   ]
  },
  {
   "cell_type": "code",
   "execution_count": null,
   "id": "bc2bec75",
   "metadata": {},
   "outputs": [],
   "source": [
    "#kpss(newdata['CO2_diff']['2003':'2021'],regression='ct',nlags=\"auto\")\n",
    "KPSS(newdata['CO2_diff']['2003':'2021'],trend='ct')"
   ]
  },
  {
   "cell_type": "code",
   "execution_count": null,
   "id": "e19bca6c",
   "metadata": {},
   "outputs": [],
   "source": [
    "# (0.003048804712509359,\n",
    "#  0.1,\n",
    "#  4378,\n",
    "#  {'10%': 0.119, '5%': 0.146, '2.5%': 0.176, '1%': 0.216})\n",
    "\n",
    "# Fail to Reject Null (p>0.05), Stationary"
   ]
  },
  {
   "cell_type": "code",
   "execution_count": null,
   "id": "29944c5e",
   "metadata": {},
   "outputs": [],
   "source": [
    "plt.plot(newdata['CO2_1_1_1']['2003':'2021'].values)\n",
    "plt.plot(newdata['CO2_diff']['2003':'2021'].values)"
   ]
  },
  {
   "cell_type": "markdown",
   "id": "4e3a09c6",
   "metadata": {
    "jp-MarkdownHeadingCollapsed": true
   },
   "source": [
    "# Step 6: Framing Problem(s), Part I | Supervision"
   ]
  },
  {
   "cell_type": "code",
   "execution_count": null,
   "id": "2da8fe98",
   "metadata": {
    "jupyter": {
     "source_hidden": true
    }
   },
   "outputs": [],
   "source": [
    "#newdf2, newnoint2\n",
    "#plt.plot(newnoint2.ALT_diff.dropna().values)\n",
    "#plt.plot(newnoint2.ALT.dropna().values)\n",
    "#plt.plot(newdf2.ALT.dropna().values)\n",
    "#plt.plot(newdf2.ALT_diff.dropna().values)"
   ]
  },
  {
   "cell_type": "markdown",
   "id": "996eed8e-d0b4-483d-a7ec-f393688288a6",
   "metadata": {},
   "source": [
    "### Isolating differenced raw and gap-filled datasets to the differenced data"
   ]
  },
  {
   "cell_type": "code",
   "execution_count": null,
   "id": "cdf70e11-869e-4c68-b53b-2fa54aeddfbf",
   "metadata": {},
   "outputs": [],
   "source": [
    "nidiff=newnoint2.iloc[:,-56:]\n",
    "gfdiff=newdf2.iloc[:,-56:]"
   ]
  },
  {
   "cell_type": "markdown",
   "id": "c6f2948f-5bea-4ef9-add5-d0031e0e7f6a",
   "metadata": {},
   "source": [
    "### Frame problem into supervision"
   ]
  },
  {
   "cell_type": "code",
   "execution_count": null,
   "id": "5818cbce-8ec1-40aa-93af-70511a9e7980",
   "metadata": {},
   "outputs": [],
   "source": [
    "dfsup=series_to_supervised(gfdiff,3,2)\n",
    "dfsup=dfsup.sort_index()"
   ]
  },
  {
   "cell_type": "code",
   "execution_count": null,
   "id": "6713c26b-f6f5-47ee-a381-13d95f6679b4",
   "metadata": {},
   "outputs": [],
   "source": [
    "#dfsup"
   ]
  },
  {
   "cell_type": "markdown",
   "id": "2b42a69e-b6b7-4254-ab34-0f363678f5e6",
   "metadata": {},
   "source": [
    "### ALT (Framing ALT with lookback and forecast)"
   ]
  },
  {
   "cell_type": "code",
   "execution_count": null,
   "id": "f15c5a41",
   "metadata": {
    "jupyter": {
     "source_hidden": true
    }
   },
   "outputs": [],
   "source": [
    "# reframed_alt2=reframed_alt.drop(reframed_alt.loc[:,[('ALT_diff', 't+1')]],axis=1)\n",
    "# reframed_alt2=pd.concat([reframed_alt2,reframed_alt.loc[:,[('ALT_diff', 't+1')]]],axis=1)\n",
    "# reframed_alt.drop(reframed_alt.iloc[:,-91:-1],axis=1, inplace=True)"
   ]
  },
  {
   "cell_type": "code",
   "execution_count": null,
   "id": "2e352156-2b04-4938-9cdd-687519b434e8",
   "metadata": {},
   "outputs": [],
   "source": [
    "#dfsup.iloc[:,:-1]\n",
    "#dfsup.iloc[:,-1:]\n",
    "alt=dfsup.drop(dfsup.loc[:,[('ALT_diff', 't+1')]],axis=1)\n",
    "alt=pd.concat([alt,dfsup.loc[:,[('ALT_diff', 't+1')]]],axis=1)"
   ]
  },
  {
   "cell_type": "code",
   "execution_count": null,
   "id": "d02599cf-1179-473f-bfc2-0c4b728d8aeb",
   "metadata": {},
   "outputs": [],
   "source": [
    "Xalt=alt.iloc[:,:-1] #features\n",
    "yalt=pd.DataFrame(alt.iloc[:,-1:]) #target"
   ]
  },
  {
   "cell_type": "code",
   "execution_count": null,
   "id": "83debfb4",
   "metadata": {},
   "outputs": [],
   "source": [
    "dfsup.shape, Xalt.shape, yalt.shape"
   ]
  },
  {
   "cell_type": "markdown",
   "id": "18d682bb-4418-4eeb-b1b4-cd9d52730e89",
   "metadata": {},
   "source": [
    "### CH4 (Framing CH4 with lookback and forecast)"
   ]
  },
  {
   "cell_type": "code",
   "execution_count": null,
   "id": "b2932456-0a78-4708-b2cd-5631cdb033b7",
   "metadata": {
    "jupyter": {
     "source_hidden": true
    },
    "tags": []
   },
   "outputs": [],
   "source": [
    "# reframed_ch42=reframed_alt.drop(reframed_alt.loc[:,[('CH4_diff', 't+1')]],axis=1)\n",
    "# reframed_ch42=pd.concat([reframed_ch42,reframed_alt.loc[:,[('CH4_diff', 't+1')]]],axis=1)\n",
    "\n",
    "# reframed_ch4.drop(reframed_ch4.iloc[:,-91:-78],axis=1, inplace=True)\n",
    "# reframed_ch4.drop(reframed_ch4.iloc[:,-66:],axis=1, inplace=True)\n",
    "# reframed_ch4.drop(reframed_ch4.iloc[:,-12:-6],axis=1, inplace=True)\n",
    "# reframed_ch4.drop(reframed_ch4.iloc[:,-5:],axis=1, inplace=True)"
   ]
  },
  {
   "cell_type": "code",
   "execution_count": null,
   "id": "31f517bc-a3bb-4a29-9840-4b024999c92d",
   "metadata": {},
   "outputs": [],
   "source": [
    "#dfsup.iloc[:,:-46]\n",
    "#dfsup.iloc[:,-45:]\n",
    "ch4=dfsup.drop(dfsup.loc[:,[('FCH4_1_diff', 't+1')]],axis=1)\n",
    "ch4=pd.concat([ch4,dfsup.loc[:,[('FCH4_1_diff', 't+1')]]],axis=1)"
   ]
  },
  {
   "cell_type": "code",
   "execution_count": null,
   "id": "179bd3b7-267c-4e96-a218-61c95a0ff893",
   "metadata": {},
   "outputs": [],
   "source": [
    "Xch4=ch4.iloc[:,:-1] #features\n",
    "ych4=pd.DataFrame(ch4.iloc[:,-1:]) #target"
   ]
  },
  {
   "cell_type": "code",
   "execution_count": null,
   "id": "4084badf",
   "metadata": {},
   "outputs": [],
   "source": [
    "ch4.shape, Xch4.shape, ych4.shape"
   ]
  },
  {
   "cell_type": "markdown",
   "id": "358e2aa6-fbf8-4252-843b-9bf651ac21ff",
   "metadata": {},
   "source": [
    "### CO2 (Framing CO2 with lookback and forecast)"
   ]
  },
  {
   "cell_type": "code",
   "execution_count": null,
   "id": "452c5e8e",
   "metadata": {
    "jupyter": {
     "source_hidden": true
    }
   },
   "outputs": [],
   "source": [
    "# reframed_co22=reframed_alt.drop(reframed_alt.loc[:,[('CO2_diff', 't+1')]],axis=1)\n",
    "# reframed_co22=pd.concat([reframed_co22,reframed_alt.loc[:,[('CO2_diff', 't+1')]]],axis=1)\n",
    "\n",
    "# reframed_co2.drop(reframed_co2.iloc[:,-91:-87],axis=1,inplace=True)\n",
    "# reframed_co2.drop(reframed_co2.iloc[:,-78:],axis=1,inplace=True)\n",
    "# reframed_co2.drop(reframed_co2.iloc[:,-9:-6],axis=1,inplace=True)\n",
    "# reframed_co2.drop(reframed_co2.iloc[:,-5:],axis=1,inplace=True)"
   ]
  },
  {
   "cell_type": "code",
   "execution_count": null,
   "id": "8c3eeb7b-2a83-4b9b-b9b9-a2bc89d33769",
   "metadata": {},
   "outputs": [],
   "source": [
    "#dfsup.iloc[:,:-54]\n",
    "#dfsup.iloc[:,-53:]\n",
    "co2=dfsup.drop(dfsup.loc[:,[('CO2_1_1_1_diff', 't+1')]],axis=1)\n",
    "co2=pd.concat([co2,dfsup.loc[:,[('CO2_1_1_1_diff', 't+1')]]],axis=1)"
   ]
  },
  {
   "cell_type": "code",
   "execution_count": null,
   "id": "0059c7aa-ab09-4784-92c4-83bb2939aa4e",
   "metadata": {
    "tags": []
   },
   "outputs": [],
   "source": [
    "Xco2=co2.iloc[:,:-1] #features\n",
    "yco2=pd.DataFrame(co2.iloc[:,-1:]) #target"
   ]
  },
  {
   "cell_type": "code",
   "execution_count": null,
   "id": "c62545c1",
   "metadata": {},
   "outputs": [],
   "source": [
    "co2.shape, Xco2.shape, yco2.shape"
   ]
  },
  {
   "cell_type": "markdown",
   "id": "eb079b15-364d-4157-b224-31165b751cce",
   "metadata": {
    "jp-MarkdownHeadingCollapsed": true
   },
   "source": [
    "#### Archive (Saving sets and playground area)"
   ]
  },
  {
   "cell_type": "code",
   "execution_count": null,
   "id": "3a85ad24-e0f9-4f99-bfe9-419a471f1ee3",
   "metadata": {
    "jupyter": {
     "source_hidden": true
    }
   },
   "outputs": [],
   "source": [
    "# # df1=dfnew.iloc[:,:17];\n",
    "# # df2=dfnew.iloc[:,29:];\n",
    "# # df1=df.iloc[:,:15];\n",
    "# # df2=df.iloc[:,16:];\n",
    "# df1=reframed.iloc[:,:19];\n",
    "# df2=reframed.iloc[:,20:];\n",
    "# df3=pd.concat([df1,df2],axis=1);\n",
    "\n",
    "# Xch4=df3 #features\n",
    "# ych4=pd.DataFrame(reframed.loc[:,'CH4_1_1_1'])  #target\n",
    "\n",
    "#//\n",
    "\n",
    "# df1=df.iloc[:,:10];\n",
    "# df2=df.iloc[:,11:];\n",
    "# df3=pd.concat([df1,df2],axis=1);\n",
    "\n",
    "# Xco2=df3 #features\n",
    "# yco2=pd.DataFrame(df.loc[:,'CO2_1_1_1'])  #target"
   ]
  },
  {
   "cell_type": "markdown",
   "id": "e284dda3-37db-4197-bffb-effc613ce1b8",
   "metadata": {
    "jp-MarkdownHeadingCollapsed": true,
    "tags": []
   },
   "source": [
    "##### Save"
   ]
  },
  {
   "cell_type": "code",
   "execution_count": null,
   "id": "eecbe20b-40cb-4567-b86d-0ab5a7169777",
   "metadata": {
    "tags": []
   },
   "outputs": [],
   "source": [
    "file = os.path.join('/Users/bradleygay/Downloads/Xalt.pkl')\n",
    "with open(file, 'wb') as f:\n",
    "    pickle.dump(Xalt,f)"
   ]
  },
  {
   "cell_type": "code",
   "execution_count": null,
   "id": "d9211b2e-f230-4c5a-924f-937f525c351e",
   "metadata": {
    "tags": []
   },
   "outputs": [],
   "source": [
    "file = os.path.join('/Users/bradleygay/Downloads/yalt.pkl')\n",
    "with open(file, 'wb') as f:\n",
    "    pickle.dump(yalt,f)"
   ]
  },
  {
   "cell_type": "code",
   "execution_count": null,
   "id": "dc68704f-ad20-49e3-bd99-272f5ccb02c0",
   "metadata": {
    "tags": []
   },
   "outputs": [],
   "source": [
    "file = os.path.join('/Users/bradleygay/Downloads/Xch4.pkl')\n",
    "with open(file, 'wb') as f:\n",
    "    pickle.dump(Xch4,f)"
   ]
  },
  {
   "cell_type": "code",
   "execution_count": null,
   "id": "1db9a2a8-54ad-436a-9f3c-e250907e3101",
   "metadata": {
    "tags": []
   },
   "outputs": [],
   "source": [
    "file = os.path.join('/Users/bradleygay/Downloads/ych4.pkl')\n",
    "with open(file, 'wb') as f:\n",
    "    pickle.dump(ych4,f)"
   ]
  },
  {
   "cell_type": "code",
   "execution_count": null,
   "id": "f4a45693-f34e-4c2b-b03a-a46f37945471",
   "metadata": {
    "tags": []
   },
   "outputs": [],
   "source": [
    "file = os.path.join('/Users/bradleygay/Downloads/Xco2.pkl')\n",
    "with open(file, 'wb') as f:\n",
    "    pickle.dump(Xco2,f)"
   ]
  },
  {
   "cell_type": "code",
   "execution_count": null,
   "id": "5b1ddfa6-c2d4-4d79-82f6-b8a7a44d9018",
   "metadata": {
    "tags": []
   },
   "outputs": [],
   "source": [
    "file = os.path.join('/Users/bradleygay/Downloads/yco2.pkl')\n",
    "with open(file, 'wb') as f:\n",
    "    pickle.dump(yco2,f)"
   ]
  },
  {
   "cell_type": "markdown",
   "id": "96cf86c8-80c6-490e-a326-2b599fd6df5c",
   "metadata": {
    "jp-MarkdownHeadingCollapsed": true,
    "tags": []
   },
   "source": [
    "##### Continue"
   ]
  },
  {
   "cell_type": "code",
   "execution_count": null,
   "id": "ad9f5434-291a-48c6-a4f4-31c5ea43bf8b",
   "metadata": {},
   "outputs": [],
   "source": [
    "#Xalt.shape, Xch4.shape, Xco2.shape\n",
    "#yalt.shape, ych4.shape, yco2.shape\n",
    "#ych4.min()\n",
    "#X, y = Xalt, yalt"
   ]
  },
  {
   "cell_type": "code",
   "execution_count": null,
   "id": "61d99e3b-ff16-4f8a-b695-5086321111e8",
   "metadata": {
    "tags": []
   },
   "outputs": [],
   "source": [
    "# X=X.replace(-9999,np.nan).fillna(method='bfill').fillna(method='ffill')\n",
    "# y=y.replace(-9999,np.nan).fillna(method='bfill').fillna(method='ffill')"
   ]
  },
  {
   "cell_type": "code",
   "execution_count": null,
   "id": "84d8b6fc-68a3-48a2-8098-51c924c5c322",
   "metadata": {},
   "outputs": [],
   "source": [
    "#1969-2018:1772964/2441246#0.7262537245324724\n",
    "#1969-2019:2043752/2441246#0.8371757700780667\n",
    "#1969-2020:2226109/2441246#0.9118741003569488\n",
    "\n",
    "# from sklearn.model_selection import train_test_split\n",
    "# X_train, X_test, y_train, y_test = train_test_split(X, y, shuffle=False,\n",
    "#                                    test_size=0.20, random_state=40)\n",
    "# X_train=X.loc[:'2019',:]; y_train=y.loc[:'2019'];\n",
    "# X_test=X.loc['2020':,:]; y_test=y.loc['2020':];"
   ]
  },
  {
   "cell_type": "code",
   "execution_count": null,
   "id": "b671dcd9-9aa5-4cb8-8a4d-69209a626ec3",
   "metadata": {},
   "outputs": [],
   "source": [
    "# X_train=X.loc[:'2018',:]; y_train=y.loc[:'2018'];\n",
    "# X_valid=X.loc['2019':'2020',:]; y_valid=y.loc['2019':'2020'];\n",
    "# X_test=X.loc['2021':,:]; y_test=y.loc['2021':];"
   ]
  },
  {
   "cell_type": "code",
   "execution_count": null,
   "id": "889300ef-8f9d-4f5c-a762-006d10ce4dbf",
   "metadata": {
    "tags": []
   },
   "outputs": [],
   "source": [
    "Xalt.shape, Xch4.shape, Xco2.shape"
   ]
  },
  {
   "cell_type": "code",
   "execution_count": null,
   "id": "7bf709bb-ca88-498e-9300-b1cf2aeadb91",
   "metadata": {
    "tags": []
   },
   "outputs": [],
   "source": [
    "yalt.shape, ych4.shape, yco2.shape"
   ]
  },
  {
   "cell_type": "code",
   "execution_count": null,
   "id": "6068af49-c81e-45c9-a891-c22107183d22",
   "metadata": {
    "tags": []
   },
   "outputs": [],
   "source": [
    "ych4.min()"
   ]
  },
  {
   "cell_type": "code",
   "execution_count": null,
   "id": "7193175c-1e22-4ab0-9e6d-0b3586f327be",
   "metadata": {
    "tags": []
   },
   "outputs": [],
   "source": [
    "X, y = Xalt, yalt"
   ]
  },
  {
   "cell_type": "markdown",
   "id": "4fc4b953-00d0-4f91-8329-b1ddf076c266",
   "metadata": {
    "jp-MarkdownHeadingCollapsed": true,
    "tags": []
   },
   "source": [
    "##### Train/Test"
   ]
  },
  {
   "cell_type": "code",
   "execution_count": null,
   "id": "849cc7a2-8629-455a-99c7-585285829787",
   "metadata": {
    "tags": []
   },
   "outputs": [],
   "source": [
    "#train, valid, test = reframed_alt.loc['1969':'2018',:],reframed_alt.loc['2019':'2020', :], reframed_alt.loc['2021':, :]"
   ]
  },
  {
   "cell_type": "code",
   "execution_count": null,
   "id": "29d35d0e-2bc0-422a-b7ee-3322c4ef2dac",
   "metadata": {
    "tags": []
   },
   "outputs": [],
   "source": [
    "#ALT\n",
    "X_train, y_train, X_valid, y_valid, X_test, y_test = reframed_alt.loc['1969':'2018',:], reframed_alt.loc['1969':'2018',:], \\\n",
    "reframed_alt.loc['2019':'2020', :], reframed_alt.loc['2019':'2020',:], reframed_alt.loc['2021':'2022', :], reframed_alt.loc['2021':'2022',:]\n",
    "#never outputs last mentioned key \n",
    "# X_train, X_test, y_train, y_test = train_test_split(X, y, test_size=0.1)#, random_state=1)\n",
    "# X_train, X_valid, y_train, y_valid = train_test_split(X_train, y_train, test_size=0.22)#, random_state=1) # 0.25 x 0.8 = 0.2"
   ]
  },
  {
   "cell_type": "code",
   "execution_count": null,
   "id": "d605bc42-b440-4083-8f66-b6c9951b3a07",
   "metadata": {
    "tags": []
   },
   "outputs": [],
   "source": [
    "#CH4\n",
    "X_trainch4, y_trainch4, X_validch4, y_validch4, X_testch4, y_testch4 = Xch4.loc['2003':'2018',:], ych4.loc['2003':'2018',:], Xch4.loc['2019':'2020',:], \\\n",
    "ych4.loc['2019':'2020',:], Xch4.loc['2021':,:], ych4.loc['2021':,:]\n",
    "# X_trainch4, X_testch4, y_trainch4, y_testch4 = train_test_split(Xch4, ych4, test_size=0.1)#, random_state=1)\n",
    "# X_trainch4, X_validch4, y_trainch4, y_validch4 = train_test_split(X_trainch4, y_trainch4, test_size=0.22)#, random_state=1) # 0.25 x 0.8 = 0.2"
   ]
  },
  {
   "cell_type": "code",
   "execution_count": null,
   "id": "0503c61e-3b6c-4e2a-bae2-2901afd295bf",
   "metadata": {
    "tags": []
   },
   "outputs": [],
   "source": [
    "#CO2\n",
    "X_trainco2, y_trainco2, X_validco2, y_validco2, X_testco2, y_testco2 = Xco2.loc['2003':'2018',:], yco2.loc['2003':'2018',:], \\\n",
    "Xco2.loc['2019':'2020',:], yco2.loc['2019':'2020',:], Xco2.loc['2021':,:], yco2.loc['2021':,:]\n",
    "# X_trainco2, X_testco2, y_trainco2, y_testco2 = train_test_split(Xco2, yco2, test_size=0.1)#, random_state=1)\n",
    "# X_trainco2, X_validco2, y_trainco2, y_validco2 = train_test_split(X_trainco2, y_trainco2, test_size=0.22)#, random_state=1) # 0.25 x 0.8 = 0.2"
   ]
  },
  {
   "cell_type": "code",
   "execution_count": null,
   "id": "c1eccb75-639c-4665-b388-d89920fbe934",
   "metadata": {
    "tags": []
   },
   "outputs": [],
   "source": [
    "# # split the data\n",
    "# from fast_ml.model_development import train_valid_test_split\n",
    "# X_train, y_train, X_valid, y_valid, X_test, y_test = train_valid_test_split(df, target = 'ALT', train_size=0.7, valid_size=0.2, test_size=0.1)\n",
    "# #X_train, y_train, X_valid, y_valid, X_test, y_test = train_valid_test_split(df, target = 'CH4_1_1_1', train_size=0.7, valid_size=0.2, test_size=0.1)\n",
    "# #X_train, y_train, X_valid, y_valid, X_test, y_test = train_valid_test_split(df, target = 'CO2_1_1_1', train_size=0.7, valid_size=0.2, test_size=0.1)"
   ]
  },
  {
   "cell_type": "code",
   "execution_count": null,
   "id": "2cc197bc-59f3-4740-b226-c2ed5dee04b8",
   "metadata": {
    "tags": []
   },
   "outputs": [],
   "source": [
    "X_train.shape, X_valid.shape, X_test.shape"
   ]
  },
  {
   "cell_type": "code",
   "execution_count": null,
   "id": "fe14606b-58c2-44bd-a776-97d7b24335e2",
   "metadata": {
    "tags": []
   },
   "outputs": [],
   "source": [
    "X_trainch4.shape, X_validch4.shape, X_testch4.shape"
   ]
  },
  {
   "cell_type": "code",
   "execution_count": null,
   "id": "585922a8-397d-4d02-94c6-2d2b49563d97",
   "metadata": {
    "tags": []
   },
   "outputs": [],
   "source": [
    "X_trainco2.shape, X_validco2.shape, X_testco2.shape"
   ]
  },
  {
   "cell_type": "markdown",
   "id": "0e7b1d51-24ef-4fd1-bc78-99cde99bfc65",
   "metadata": {
    "jp-MarkdownHeadingCollapsed": true,
    "tags": []
   },
   "source": [
    "##### Save"
   ]
  },
  {
   "cell_type": "code",
   "execution_count": null,
   "id": "9c76761f-58bc-4ed2-be11-4116249232c1",
   "metadata": {
    "tags": []
   },
   "outputs": [],
   "source": [
    "file = os.path.join('/Users/bradleygay/Downloads/X_testalt.pkl')\n",
    "with open(file, 'wb') as f:\n",
    "    pickle.dump(X_test,f)"
   ]
  },
  {
   "cell_type": "code",
   "execution_count": null,
   "id": "2d9651af-8213-41c1-a13e-6976387f68af",
   "metadata": {
    "tags": []
   },
   "outputs": [],
   "source": [
    "file = os.path.join('/Users/bradleygay/Downloads/y_testalt.pkl')\n",
    "with open(file, 'wb') as f:\n",
    "    pickle.dump(y_test,f)"
   ]
  },
  {
   "cell_type": "code",
   "execution_count": null,
   "id": "cf5786c4-26a1-406c-944d-aa846e33941e",
   "metadata": {
    "tags": []
   },
   "outputs": [],
   "source": [
    "file = os.path.join('/Users/bradleygay/Downloads/X_testch4.pkl')\n",
    "with open(file, 'wb') as f:\n",
    "    pickle.dump(X_testch4,f)"
   ]
  },
  {
   "cell_type": "code",
   "execution_count": null,
   "id": "d35f18ee-8df5-4ad2-9e2d-e9d429a2fe8d",
   "metadata": {
    "tags": []
   },
   "outputs": [],
   "source": [
    "file = os.path.join('/Users/bradleygay/Downloads/y_testch4.pkl')\n",
    "with open(file, 'wb') as f:\n",
    "    pickle.dump(y_testch4,f)"
   ]
  },
  {
   "cell_type": "code",
   "execution_count": null,
   "id": "83910818-9c26-487e-ba55-83831875e077",
   "metadata": {
    "tags": []
   },
   "outputs": [],
   "source": [
    "file = os.path.join('/Users/bradleygay/Downloads/X_testco2.pkl')\n",
    "with open(file, 'wb') as f:\n",
    "    pickle.dump(X_testco2,f)"
   ]
  },
  {
   "cell_type": "code",
   "execution_count": null,
   "id": "dfd13eca-ded0-4656-bbed-33dfdea4dafb",
   "metadata": {
    "tags": []
   },
   "outputs": [],
   "source": [
    "file = os.path.join('/Users/bradleygay/Downloads/y_testco2.pkl')\n",
    "with open(file, 'wb') as f:\n",
    "    pickle.dump(y_testco2,f)"
   ]
  },
  {
   "cell_type": "markdown",
   "id": "e961c857-9e6b-44f2-bbd8-48bc34943391",
   "metadata": {
    "jp-MarkdownHeadingCollapsed": true,
    "tags": []
   },
   "source": [
    "##### Playground"
   ]
  },
  {
   "cell_type": "code",
   "execution_count": null,
   "id": "55c7a066-5e0b-47c3-bb84-d2a0e451994b",
   "metadata": {
    "tags": []
   },
   "outputs": [],
   "source": [
    "# # split the data\n",
    "# from fast_ml.model_development import train_valid_test_split\n",
    "# X_train, y_train, X_valid, y_valid, X_test, y_test = train_valid_test_split(df, target = 'ALT', train_size=0.7, valid_size=0.2, test_size=0.1)\n",
    "# #X_train, y_train, X_valid, y_valid, X_test, y_test = train_valid_test_split(df, target = 'CH4_1_1_1', train_size=0.7, valid_size=0.2, test_size=0.1)\n",
    "# #X_train, y_train, X_valid, y_valid, X_test, y_test = train_valid_test_split(df, target = 'CO2_1_1_1', train_size=0.7, valid_size=0.2, test_size=0.1)"
   ]
  },
  {
   "cell_type": "code",
   "execution_count": null,
   "id": "2e6bb801-c803-4afe-b68a-5fba3d7a5e9e",
   "metadata": {
    "tags": []
   },
   "outputs": [],
   "source": [
    "#X=X_train.sort_index(); y=y_train.sort_index()"
   ]
  },
  {
   "cell_type": "code",
   "execution_count": null,
   "id": "2a6122ec-ff9a-48e0-afab-ae62c62a3f71",
   "metadata": {
    "tags": []
   },
   "outputs": [],
   "source": [
    "plt.plot(y_train.replace(-9999,np.nan).dropna().values)\n",
    "plt.plot(y_valid.replace(-9999,np.nan).dropna().values)\n",
    "plt.plot(y_test.replace(-9999,np.nan).dropna().values)\n",
    "plt.grid()\n",
    "plt.show()"
   ]
  },
  {
   "cell_type": "code",
   "execution_count": null,
   "id": "1428090d-39fc-419c-acf6-57b6d8d889fb",
   "metadata": {
    "tags": []
   },
   "outputs": [],
   "source": [
    "plt.plot(y_train.sort_index().replace(-9999,np.nan).dropna().values)#1713754\n",
    "plt.plot(y_valid.sort_index().replace(-9999,np.nan).dropna().values)#483367\n",
    "plt.plot(y_test.sort_index().replace(-9999,np.nan).dropna().values)#244125\n",
    "plt.grid()\n",
    "plt.show()"
   ]
  },
  {
   "cell_type": "code",
   "execution_count": null,
   "id": "6a0f4660-2386-44df-ba8c-ca218acbd73a",
   "metadata": {
    "tags": []
   },
   "outputs": [],
   "source": [
    "#df.loc['2021':'2022']\n",
    "#1772964/2441246#0.7262537245324724\n",
    "#614894/2441246#0.25187711521083905\n",
    "#453145/2441246#0.18562037582447652\n",
    "#215137/2441246#0.08812589964305113"
   ]
  },
  {
   "cell_type": "code",
   "execution_count": null,
   "id": "59a4085e-5d4a-48ee-a11c-9373ec54ede4",
   "metadata": {
    "tags": []
   },
   "outputs": [],
   "source": [
    "#df.loc['2021':'2021','CH4_1_1_1']\n",
    "#1413747/2369279#0.5966992490120412\n",
    "#1754385/2369279#0.7404721014283249\n",
    "#453145/2369279#0.1912586065212244\n",
    "#270788/2369279\n",
    "#161749/2369279"
   ]
  },
  {
   "cell_type": "code",
   "execution_count": null,
   "id": "51c5192d-4c8d-471f-90b1-649d2f0de82c",
   "metadata": {
    "tags": []
   },
   "outputs": [],
   "source": [
    "#df.loc['2021':'2021','CO2_1_1_1']\n",
    "#1413747/2369279#0.5966992490120412\n",
    "#1754385/2369279#0.7404721014283249\n",
    "#453145/2369279#0.1912586065212244\n",
    "#270788/2369279\n",
    "#161749/2369279"
   ]
  },
  {
   "cell_type": "code",
   "execution_count": null,
   "id": "e3626e0a-d7ee-4ead-bb55-b427106ce3ec",
   "metadata": {
    "tags": []
   },
   "outputs": [],
   "source": [
    "X_train=df.iloc[:,-1].replace(-9999,np.nan);\n",
    "X_trainch4=X_trainch4.replace(-9999,np.nan);\n",
    "X_trainco2=X_trainco2.replace(-9999,np.nan);"
   ]
  },
  {
   "cell_type": "code",
   "execution_count": null,
   "id": "f5eff6ce-8390-4ba5-9ffd-c3f9d688a508",
   "metadata": {
    "tags": []
   },
   "outputs": [],
   "source": [
    "from pandas import read_csv\n",
    "from matplotlib import pyplot\n",
    "from statsmodels.graphics.tsaplots import plot_acf, plot_pacf"
   ]
  },
  {
   "cell_type": "code",
   "execution_count": null,
   "id": "f52c2b57-bea7-4612-ac81-172fe0019f26",
   "metadata": {
    "tags": []
   },
   "outputs": [],
   "source": [
    "plt.figure(figsize=(9,6),dpi=1000)\n",
    "plot_acf(df.loc[:,'CO2_1_1_1'].replace(-9999,np.nan).dropna())\n",
    "plt.grid()\n",
    "plt.show()"
   ]
  },
  {
   "cell_type": "code",
   "execution_count": null,
   "id": "d771d9c6-0307-454a-b6d9-3c60203ebbac",
   "metadata": {
    "tags": []
   },
   "outputs": [],
   "source": [
    "# plt.plot(X_trainch4.replace(-9999,np.nan).dropna().values)\n",
    "# plt.show()"
   ]
  },
  {
   "cell_type": "code",
   "execution_count": null,
   "id": "871f41a5-c547-413c-b1be-fc151d93bf6b",
   "metadata": {
    "tags": []
   },
   "outputs": [],
   "source": [
    "plt.figure(figsize=(9,6),dpi=1000)\n",
    "plot_pacf(df.loc[:,'CO2_1_1_1'].replace(-9999,np.nan).dropna(), lags=50)\n",
    "plt.grid()\n",
    "plt.show()"
   ]
  },
  {
   "cell_type": "code",
   "execution_count": null,
   "id": "06dbf214-43f2-451b-a3d3-780d39f2a728",
   "metadata": {},
   "outputs": [],
   "source": [
    "# #Walk forward validation\n",
    "# series = read_csv('sunspots.csv', header=0, index_col=0)\n",
    "# X = series.values\n",
    "# n_train = 500\n",
    "# n_records = len(X)\n",
    "# for i in range(n_train, n_records):\n",
    "#  train, test = X[0:i], X[i:i+1]\n",
    "#  print('train=%d, test=%d' % (len(train), len(test)))"
   ]
  },
  {
   "cell_type": "code",
   "execution_count": null,
   "id": "e0ee9b4f-2d48-490e-99c8-66ff9a896bdd",
   "metadata": {
    "tags": []
   },
   "outputs": [],
   "source": [
    "plt.figure(figsize=(9,6),dpi=1000)\n",
    "rolling_mean = df.loc[:,'ALT'].replace(-9999,np.nan).dropna().rolling(window = 12).mean().values\n",
    "rolling_std = df.loc[:,'ALT'].replace(-9999,np.nan).dropna().rolling(window = 12).std().values\n",
    "plt.plot(df.loc[:,'ALT'].replace(-9999,np.nan).dropna().values, color = 'blue', label = 'Original')\n",
    "plt.plot(rolling_mean, color = 'red', label = 'Rolling Mean')#.replace(-9999,np.nan).dropna()\n",
    "plt.plot(rolling_std, color = 'black', label = 'Rolling Std')\n",
    "plt.legend(loc = 'best')\n",
    "plt.title('Rolling Mean & Rolling Standard Deviation')\n",
    "plt.grid()\n",
    "plt.show()"
   ]
  },
  {
   "cell_type": "code",
   "execution_count": null,
   "id": "b86b4d62-9409-410d-984f-83fa66d2b164",
   "metadata": {
    "tags": []
   },
   "outputs": [],
   "source": [
    "plt.plot(dfnew.loc[:,'ALT'].replace(-9999,np.nan).dropna())"
   ]
  },
  {
   "cell_type": "code",
   "execution_count": null,
   "id": "b8ee27e4-e94b-4554-a355-2ac4a4ec6c9f",
   "metadata": {
    "tags": []
   },
   "outputs": [],
   "source": [
    "from statsmodels.tsa.stattools import adfuller\n",
    "# Dickey–Fuller test:\n",
    "result = adfuller(df.loc[:,'CO2_1_1_1'].replace(-9999,np.nan).dropna())\n",
    "print('ADF Statistic: {}'.format(result[0]))\n",
    "print('p-value: {}'.format(result[1]))\n",
    "print('Critical Values:')\n",
    "for key, value in result[4].items():\n",
    "    print('\\t{}: {}'.format(key, value))"
   ]
  },
  {
   "cell_type": "code",
   "execution_count": null,
   "id": "cab885e8-c54d-4965-9530-28e1b2a62b74",
   "metadata": {
    "tags": []
   },
   "outputs": [],
   "source": [
    "get_stationarity()"
   ]
  },
  {
   "cell_type": "code",
   "execution_count": null,
   "id": "92c60f8c-a30b-431e-a882-739c15c39cbd",
   "metadata": {
    "tags": []
   },
   "outputs": [],
   "source": [
    "dfnew[iloc-:,1]"
   ]
  },
  {
   "cell_type": "code",
   "execution_count": null,
   "id": "bf934b21-f709-4c88-b423-1b6e47f3c7f7",
   "metadata": {
    "tags": []
   },
   "outputs": [],
   "source": [
    "#X_train"
   ]
  },
  {
   "cell_type": "code",
   "execution_count": null,
   "id": "62a11bfd-bb7a-4d20-8c1c-71b6f342a703",
   "metadata": {
    "tags": []
   },
   "outputs": [],
   "source": [
    "X_train=X_train.drop(X_train.columns[-92:],axis=1)"
   ]
  },
  {
   "cell_type": "code",
   "execution_count": null,
   "id": "86a338a3-4d68-43f1-9c49-2f0fa7766cec",
   "metadata": {
    "tags": []
   },
   "outputs": [],
   "source": [
    "#X=X_train;\n",
    "X_train.shape, y_train.shape"
   ]
  },
  {
   "cell_type": "code",
   "execution_count": null,
   "id": "bc9ec55b-54d1-4841-8d01-a2b00d5be44b",
   "metadata": {
    "tags": []
   },
   "outputs": [],
   "source": [
    "nans(X_trainch4)"
   ]
  },
  {
   "cell_type": "code",
   "execution_count": null,
   "id": "166a02de-6860-40b8-8edd-61dc4c1580f8",
   "metadata": {
    "tags": []
   },
   "outputs": [],
   "source": [
    "X_trainch4=X_trainch4.drop(X_trainch4.columns[-92:],axis=1)"
   ]
  },
  {
   "cell_type": "code",
   "execution_count": null,
   "id": "8063081a-65e7-4dc1-8837-5a68e7a0138a",
   "metadata": {
    "tags": []
   },
   "outputs": [],
   "source": [
    "#X_trainch4\n",
    "X_trainch4.shape, y_trainch4.shape"
   ]
  },
  {
   "cell_type": "code",
   "execution_count": null,
   "id": "452290f9-ce2e-452e-828b-8d6090d66b1f",
   "metadata": {
    "tags": []
   },
   "outputs": [],
   "source": [
    "nans(X_trainco2)"
   ]
  },
  {
   "cell_type": "code",
   "execution_count": null,
   "id": "35861939-ecde-4041-b197-63082b67552b",
   "metadata": {
    "tags": []
   },
   "outputs": [],
   "source": [
    "X_trainco2=X_trainco2.drop(X_trainco2.columns[-92:],axis=1)"
   ]
  },
  {
   "cell_type": "code",
   "execution_count": null,
   "id": "b8d7dd6f-ea68-4858-a7d7-70e5f85aa508",
   "metadata": {
    "tags": []
   },
   "outputs": [],
   "source": [
    "#X_trainco2\n",
    "X_trainco2.shape, y_trainco2.shape"
   ]
  },
  {
   "cell_type": "markdown",
   "id": "a90a73c8-fd5e-4e31-b139-cd06580823f8",
   "metadata": {
    "jp-MarkdownHeadingCollapsed": true,
    "tags": []
   },
   "source": [
    "# Step 7: Framing Problem(s), Part II | Scale and Supervision"
   ]
  },
  {
   "cell_type": "code",
   "execution_count": null,
   "id": "dc00ca90-9003-4103-a65c-d62cc56b4152",
   "metadata": {
    "jupyter": {
     "source_hidden": true
    }
   },
   "outputs": [],
   "source": [
    "#alt.groupby(alt.index).mean()"
   ]
  },
  {
   "cell_type": "code",
   "execution_count": null,
   "id": "47b959b0",
   "metadata": {},
   "outputs": [],
   "source": [
    "print(alt.shape, Xalt.shape, yalt.shape)\n",
    "print(ch4.shape, Xch4.shape, ych4.shape)\n",
    "print(co2.shape, Xco2.shape, yco2.shape)"
   ]
  },
  {
   "cell_type": "markdown",
   "id": "888d17b1-3ef5-464c-8a68-46a8c08a3cda",
   "metadata": {},
   "source": [
    "### ALT"
   ]
  },
  {
   "cell_type": "code",
   "execution_count": null,
   "id": "4447cfa1-4275-4469-a1c0-e4bd57f72861",
   "metadata": {
    "jupyter": {
     "source_hidden": true
    }
   },
   "outputs": [],
   "source": [
    "# trainXalt, trainyalt=reframed_alt.loc[:'2017', reframed_alt.columns != ('ALT', 't')], \\\n",
    "# reframed_alt.loc[:'2017', reframed_alt.columns == ('ALT', 't'):]\n",
    "# validXalt, validyalt=reframed_alt.loc['2018':'2020', reframed_alt.columns != ('ALT', 't')], \\\n",
    "# reframed_alt.loc['2018':'2020', reframed_alt.columns == ('ALT', 't'):]\n",
    "# testXalt, testyalt=reframed_alt.loc['2021':, reframed_alt.columns != ('ALT', 't')], \\\n",
    "# reframed_alt.loc['2021':, reframed_alt.columns == ('ALT', 't'):]\n",
    "\n",
    "\n",
    "# from fast_ml.model_development import train_valid_test_split\n",
    "# trainX, trainy, validX, validy, testX, testy = train_valid_test_split(reframed_alt, target = ('ALT', 't+1'), \n",
    "#                                                                             train_size=0.7, valid_size=0.2, test_size=0.1)        \n",
    "\n",
    "# X_train, X_test, y_train, y_test = train_test_split(X, y, test_size=0.1)#, random_state=1)\n",
    "# X_train, X_valid, y_train, y_valid = train_test_split(X_train, y_train, test_size=0.22)#, random_state=1) # 0.25 x 0.8 = 0.2\n",
    "\n",
    "# # split the data\n",
    "# from fast_ml.model_development import train_valid_test_split\n",
    "# X_train, y_train, X_valid, y_valid, X_test, y_test = train_valid_test_split(df, target = 'ALT', train_size=0.7, valid_size=0.2, test_size=0.1)\n",
    "# #X_train, y_train, X_valid, y_valid, X_test, y_test = train_valid_test_split(df, target = 'CH4_1_1_1', train_size=0.7, valid_size=0.2, test_size=0.1)\n",
    "# #X_train, y_train, X_valid, y_valid, X_test, y_test = train_valid_test_split(df, target = 'CO2_1_1_1', train_size=0.7, valid_size=0.2, test_size=0.1)\n",
    "\n",
    "# #SUPERVISION\n",
    "# trainXsup=series_to_supervised(trainX, lags=3, forecasting_steps=1, dropna=True)\n",
    "# # X_valid_scaled_sup=series_to_supervised(X_valid_scaled, lags=3, forecasting_steps=1, dropna=True)\n",
    "# # X_test_scaled_sup=series_to_supervised(X_test_scaled, lags=3, forecasting_steps=1, dropna=True)\n",
    "# # X_train_scaled_sup.shape, X_valid_scaled_sup.shape, X_test_scaled_sup.shape\n",
    "# validXsup=series_to_supervised(validX, lags=3, forecasting_steps=1, dropna=True)\n",
    "# testXsup=series_to_supervised(testX, lags=3, forecasting_steps=1, dropna=True)\n",
    "# trainXsup.shape, validXsup.shape, testXsup.shape\n",
    "\n",
    "# #SUPERVISION\n",
    "# trainysup=series_to_supervised(trainy, lags=3, forecasting_steps=1, dropna=True)\n",
    "# validysup=series_to_supervised(validy, lags=3, forecasting_steps=1, dropna=True)\n",
    "# testysup=series_to_supervised(testy, lags=3, forecasting_steps=1, dropna=True)\n",
    "# trainysup.shape, validysup.shape, testysup.shape"
   ]
  },
  {
   "cell_type": "code",
   "execution_count": null,
   "id": "e4063fb4",
   "metadata": {},
   "outputs": [],
   "source": [
    "#1969-2022 (54 years)\n",
    "#yalt.loc[:'2018']\n",
    "#1432318/2441236 #0.5867183672533094\n",
    "#1772956/2441236 #0.7262534224466622 #Use 1969-2018 for threshold based on distribution of points, but keeping time series order consistent (training)\n",
    "\n",
    "#yalt.loc['2019':'2020']\n",
    "#614893/2441236 #0.251877737342887\n",
    "#453144/2441236 #0.18562072654999354 #Use 2019-2020 for threshold based on distribution of points, but keeping time series order consistent (validation)\n",
    "\n",
    "#yalt.loc['2021':]\n",
    "#215136/2441236 #0.0881258510033442 #Use 2021-2022 for threshold based on distribution of points, but keeping time series order consistent (validation)"
   ]
  },
  {
   "cell_type": "code",
   "execution_count": null,
   "id": "b48b5216-6d2e-4426-b248-9f209a29c4ba",
   "metadata": {},
   "outputs": [],
   "source": [
    "trainXalt, trainyalt=Xalt.loc[:'2018'],yalt.loc[:'2018']\n",
    "validXalt, validyalt=Xalt.loc['2019':'2020'],yalt.loc['2019':'2020']\n",
    "testXalt, testyalt=Xalt.loc['2021':],yalt.loc['2021':]"
   ]
  },
  {
   "cell_type": "code",
   "execution_count": null,
   "id": "d052167e-6eeb-46cb-ba6f-d93cb1bc2e2e",
   "metadata": {},
   "outputs": [],
   "source": [
    "print(trainXalt.shape, trainyalt.shape);\n",
    "print(validXalt.shape, validyalt.shape);\n",
    "print(testXalt.shape, testyalt.shape);"
   ]
  },
  {
   "cell_type": "code",
   "execution_count": null,
   "id": "e2a071bc-cb97-49e2-bc4d-6ec406d64a53",
   "metadata": {
    "tags": []
   },
   "outputs": [],
   "source": [
    "# Need to scale the features for neural networks, otherwise the training doesn't converge.\n",
    "Xscaleralt = StandardScaler()\n",
    "trainXscalt = Xscaleralt.fit_transform(trainXalt)\n",
    "validXscalt = Xscaleralt.transform(validXalt)\n",
    "testXscalt = Xscaleralt.transform(testXalt)"
   ]
  },
  {
   "cell_type": "code",
   "execution_count": null,
   "id": "d80ec66b",
   "metadata": {},
   "outputs": [],
   "source": [
    "trainXscalt.shape, validXscalt.shape, testXscalt.shape"
   ]
  },
  {
   "cell_type": "code",
   "execution_count": null,
   "id": "22f1f2e4-4826-41d9-978d-727bc2b4036f",
   "metadata": {},
   "outputs": [],
   "source": [
    "yscaleralt = StandardScaler()\n",
    "trainyscalt = yscaleralt.fit_transform(pd.DataFrame(trainyalt).to_numpy().reshape(1426178,1))\n",
    "validyscalt = yscaleralt.transform(pd.DataFrame(validyalt).to_numpy().reshape(422779,1))\n",
    "testyscalt = yscaleralt.transform(pd.DataFrame(testyalt).to_numpy().reshape(213347,1))"
   ]
  },
  {
   "cell_type": "code",
   "execution_count": null,
   "id": "087b6b44",
   "metadata": {},
   "outputs": [],
   "source": [
    "trainyscalt.shape, validyscalt.shape, testyscalt.shape"
   ]
  },
  {
   "cell_type": "code",
   "execution_count": null,
   "id": "14714086-efad-4ce6-9946-994a82ccfbab",
   "metadata": {},
   "outputs": [],
   "source": [
    "# Reshaped for LSTM later on...renamed to reframed to allow rescaled venture through regression\n",
    "trainXscaltref=trainXscalt.reshape(1426178, 1, 279);\n",
    "validXscaltref=validXscalt.reshape(422779, 1, 279);\n",
    "testXscaltref=testXscalt.reshape(213347, 1, 279);"
   ]
  },
  {
   "cell_type": "code",
   "execution_count": null,
   "id": "d337ca96-93a3-41a5-827e-8aeb2eb67a36",
   "metadata": {},
   "outputs": [],
   "source": [
    "trainXscaltref.shape, validXscaltref.shape, testXscaltref.shape"
   ]
  },
  {
   "cell_type": "code",
   "execution_count": null,
   "id": "064d0d5e-f3ee-441e-b8e5-10024cd43525",
   "metadata": {},
   "outputs": [],
   "source": [
    "# Reshaped for LSTM later on...renamed to reframed to allow rescaled venture through regression\n",
    "trainyscaltref=trainyscalt.reshape(1426178, 1, 1);\n",
    "validyscaltref=validyscalt.reshape(422779, 1, 1);\n",
    "testyscaltref=testyscalt.reshape(213347, 1, 1);"
   ]
  },
  {
   "cell_type": "code",
   "execution_count": null,
   "id": "0acbc3cb",
   "metadata": {},
   "outputs": [],
   "source": [
    "trainyscaltref.shape, validyscaltref.shape, testyscaltref.shape"
   ]
  },
  {
   "cell_type": "markdown",
   "id": "973973c9",
   "metadata": {},
   "source": [
    "### CH4"
   ]
  },
  {
   "cell_type": "code",
   "execution_count": null,
   "id": "cb488e1e",
   "metadata": {
    "jupyter": {
     "source_hidden": true
    }
   },
   "outputs": [],
   "source": [
    "# #df\n",
    "# #df.loc[:, df.columns != 'CH4_1_1_2']\n",
    "# trainXch4, trainych4=reframed_ch4.loc[:'2017',reframed_ch4.columns != 'CH4_1_1_2'],reframed_ch4.loc[:'2017',reframed_ch4.columns == 'CH4_1_1_2']\n",
    "# validXch4, validych4=reframed_ch4.loc['2018':'2020',reframed_ch4.columns != 'CH4_1_1_2'],reframed_ch4.loc['2018':'2020',reframed_ch4.columns == 'CH4_1_1_2']\n",
    "# testXch4, testych4=reframed_ch4.loc['2021':,reframed_ch4.columns != 'CH4_1_1_2'],reframed_ch4.loc['2021':,reframed_ch4.columns == 'CH4_1_1_2']\n",
    "\n",
    "# trainXch4, trainych4=reframed_ch4.iloc[:,:-1][:'2017'],reframed_ch4.iloc[:,-1:][:'2017']\n",
    "# validXch4, validych4=reframed_ch4.iloc[:,:-1]['2018':'2020'],reframed_ch4.iloc[:,-1:]['2018':'2020']\n",
    "# testXch4, testych4=reframed_ch4.iloc[:,:-1]['2021':],reframed_ch4.iloc[:,-1:]['2021':]\n",
    "\n",
    "#reframed_ch4.iloc[:,-1].name\n",
    "#reframed_ch4.loc[:'2017',:('CH4_1_1_2', 't+1')]\n",
    "\n",
    "# #plt.plot(reframed_ch4.iloc[:,-1]['2011':].values)\n",
    "# reframed_ch4.iloc[:,-1]['2011':].shape\n",
    "# #2136270/11\n",
    "# 11*.1\n",
    "\n",
    "# trainXch4=X_trainch4; trainych4=y_trainch4; validXch4=X_validch4; validych4=y_validch4; testXch4=X_testch4; \n",
    "# testych4=y_testch4\n",
    "\n",
    "# trainXch4, trainych4=reframed_ch4.loc[:'2017',:('CH4_1_1_2', 't+1')],reframed_ch4.loc[:'2017',('CH4_1_1_2', 't+1'):]\n",
    "# validXch4, validych4=reframed_ch4.loc['2018':'2020',:('CH4_1_1_2', 't+1')],reframed_ch4.loc['2018':'2020',('CH4_1_1_2', 't+1'):]\n",
    "# testXch4, testych4=reframed_ch4.loc['2021',:('CH4_1_1_2', 't+1')],reframed_ch4.loc['2021',('CH4_1_1_2', 't+1'):]\n",
    "\n",
    "# trainXch4, trainych4=reframed_ch4.iloc[:,:-1]['2011':'2018'],reframed_ch4.iloc[:,-1:]['2011':'2018']\n",
    "# validXch4, validych4=reframed_ch4.iloc[:,:-1]['2019':'2020'],reframed_ch4.iloc[:,-1:]['2019':'2020']\n",
    "# testXch4, testych4=reframed_ch4.iloc[:,:-1].loc['2021'],reframed_ch4.iloc[:,-1:].loc['2021']\n",
    "\n",
    "# trainXch4, trainych4=reframed_ch4.iloc[:,:-1][:'2017'],reframed_ch4.iloc[:,-1:][:'2017']\n",
    "# validXch4, validych4=reframed_ch4.iloc[:,:-1]['2018':'2020'],reframed_ch4.iloc[:,-1:]['2018':'2020']\n",
    "# testXch4, testych4=reframed_ch4.iloc[:,:-1]['2021':],reframed_ch4.iloc[:,-1:]['2021':]\n",
    "\n",
    "# from fast_ml.model_development import train_valid_test_split\n",
    "# trainX, trainy, validX, validy, testX, testy = train_valid_test_split(reframed_alt, target = ('ALT', 't+1'), \n",
    "#                                                                             train_size=0.7, valid_size=0.2, test_size=0.1)        \n",
    "\n",
    "# X_train, X_test, y_train, y_test = train_test_split(X, y, test_size=0.1)#, random_state=1)\n",
    "# X_train, X_valid, y_train, y_valid = train_test_split(X_train, y_train, test_size=0.22)#, random_state=1) # 0.25 x 0.8 = 0.2\n",
    "\n",
    "# # split the data\n",
    "# from fast_ml.model_development import train_valid_test_split\n",
    "# X_train, y_train, X_valid, y_valid, X_test, y_test = train_valid_test_split(df, target = 'ALT', train_size=0.7, valid_size=0.2, test_size=0.1)\n",
    "# #X_train, y_train, X_valid, y_valid, X_test, y_test = train_valid_test_split(df, target = 'CH4_1_1_1', train_size=0.7, valid_size=0.2, test_size=0.1)\n",
    "# #X_train, y_train, X_valid, y_valid, X_test, y_test = train_valid_test_split(df, target = 'CO2_1_1_1', train_size=0.7, valid_size=0.2, test_size=0.1)"
   ]
  },
  {
   "cell_type": "code",
   "execution_count": null,
   "id": "5bf5da32",
   "metadata": {
    "jupyter": {
     "source_hidden": true
    }
   },
   "outputs": [],
   "source": [
    "#2011-2021 (11 years)\n",
    "#ych4.loc['2011':'2018']\n",
    "#1467990/2136270 #0.6871743740257552 #Use 2011-2018 for threshold based on distribution of points, but keeping time series order consistent (training)\n",
    "#ych4.loc['2019':'2020']\n",
    "#453144/2136270 #0.21211925458860537 #Use 2019-2020 for threshold based on distribution of points, but keeping time series order consistent (training)\n",
    "#ych4.loc['2021':]\n",
    "#215136/2136270 #0.10070637138563945 #Use 2021 for threshold based on distribution of points, but keeping time series order consistent (training)"
   ]
  },
  {
   "cell_type": "code",
   "execution_count": null,
   "id": "e2ca85f7-4b92-47ae-9d2c-7bd127384927",
   "metadata": {},
   "outputs": [],
   "source": [
    "#ych4['2011':]\n",
    "#1803847\n",
    "#ych4['2011':'2018']\n",
    "#1167721/1803847 #0.6473503573196618\n",
    "#1409922/1803847 #0.7816195054236862 #Use 2011-2018 for training\n",
    "#ych4['2019':'2020']\n",
    "#422779/1803847 #0.23437630796846962 #Use 2019-2020 for validation\n",
    "#ych4.loc['2021':,:]\n",
    "#213347/1990868 #0.1071628053693163 #Use 2021-2022 for testing"
   ]
  },
  {
   "cell_type": "code",
   "execution_count": null,
   "id": "dcb44313",
   "metadata": {},
   "outputs": [],
   "source": [
    "trainXch4, trainych4=Xch4.loc['2011':'2018'],ych4.loc['2011':'2018']\n",
    "validXch4, validych4=Xch4.loc['2019':'2020'],ych4.loc['2019':'2020']\n",
    "testXch4, testych4=Xch4.loc['2021':],ych4.loc['2021':]"
   ]
  },
  {
   "cell_type": "code",
   "execution_count": null,
   "id": "5afed976-1791-473e-a89a-282461a61cbd",
   "metadata": {},
   "outputs": [],
   "source": [
    "print(trainXch4.shape, trainych4.shape);\n",
    "print(validXch4.shape, validych4.shape);\n",
    "print(testXch4.shape, testych4.shape);"
   ]
  },
  {
   "cell_type": "code",
   "execution_count": null,
   "id": "4a017ff0-0893-44f2-a3ce-c5060806d4fc",
   "metadata": {
    "jupyter": {
     "source_hidden": true
    }
   },
   "outputs": [],
   "source": [
    "# # Need to scale the features for neural networks, otherwise the training doesn't converge.\n",
    "# Xscalerch4 = StandardScaler()\n",
    "# Xscalerch4.fit(X_trainch4)\n",
    "# X_train_scaledch4 = Xscalerch4.transform(X_trainch4)\n",
    "# X_valid_scaledch4 = Xscalerch4.transform(X_validch4)\n",
    "# X_test_scaledch4 = Xscalerch4.transform(X_testch4)\n",
    "\n",
    "# yscalerch4 = StandardScaler()\n",
    "# yscalerch4.fit(y_trainch4)\n",
    "# y_train_scaledch4 = yscalerch4.transform(y_trainch4)\n",
    "# y_valid_scaledch4 = yscalerch4.transform(y_validch4)\n",
    "# y_test_scaledch4 = yscalerch4.transform(y_testch4)"
   ]
  },
  {
   "cell_type": "code",
   "execution_count": null,
   "id": "a1f81256-cc5e-4df4-80cb-62b3d6101d68",
   "metadata": {
    "jupyter": {
     "source_hidden": true
    }
   },
   "outputs": [],
   "source": [
    "# #SUPERVISION\n",
    "# X_trainch4_scaled_sup=series_to_supervised(X_trainch4_scaled, lags=3, forecasting_steps=1, dropna=True)\n",
    "# # X_validch4_scaled_sup=series_to_supervised(X_validch4_scaled, lags=3, forecasting_steps=1, dropna=True)\n",
    "# # X_testch4_scaled_sup=series_to_supervised(X_testch4_scaled, lags=3, forecasting_steps=1, dropna=True)\n",
    "# # X_trainch4_scaled_sup.shape, X_validch4_scaled_sup.shape, X_testch4_scaled_sup.shape\n",
    "# X_validch4_sup=series_to_supervised(X_validch4, lags=3, forecasting_steps=1, dropna=True)\n",
    "# X_testch4_sup=series_to_supervised(X_testch4, lags=3, forecasting_steps=1, dropna=True)\n",
    "# X_trainch4_scaled_sup.shape, X_validch4_sup.shape, X_testch4_sup.shape\n",
    "\n",
    "# #SUPERVISION\n",
    "# y_trainch4_scaled_sup=series_to_supervised(y_trainch4_scaled, lags=3, forecasting_steps=1, dropna=True)\n",
    "# y_validch4_scaled_sup=series_to_supervised(y_validch4_scaled, lags=3, forecasting_steps=1, dropna=True)\n",
    "# y_testch4_scaled_sup=series_to_supervised(y_testch4_scaled, lags=3, forecasting_steps=1, dropna=True)\n",
    "# y_trainch4_scaled_sup.shape, y_validch4_scaled_sup.shape, y_testch4_scaled_sup.shape"
   ]
  },
  {
   "cell_type": "code",
   "execution_count": null,
   "id": "c5a0133f-0c55-4349-98ab-5796a14cae59",
   "metadata": {},
   "outputs": [],
   "source": [
    "# Need to scale the features for neural networks, otherwise the training doesn't converge.\n",
    "Xscalerch4 = StandardScaler()\n",
    "trainXscch4 = Xscalerch4.fit_transform(trainXch4)\n",
    "validXscch4 = Xscalerch4.transform(validXch4)\n",
    "testXscch4 = Xscalerch4.transform(testXch4)"
   ]
  },
  {
   "cell_type": "code",
   "execution_count": null,
   "id": "d5573da7",
   "metadata": {},
   "outputs": [],
   "source": [
    "trainXscch4.shape, validXscch4.shape, testXscch4.shape"
   ]
  },
  {
   "cell_type": "code",
   "execution_count": null,
   "id": "cc4ae47b-b20d-474d-aca3-fe39f2607da6",
   "metadata": {},
   "outputs": [],
   "source": [
    "yscalerch4 = StandardScaler()\n",
    "trainyscch4 = yscalerch4.fit_transform(pd.DataFrame(trainych4).to_numpy().reshape(1167721,1))\n",
    "validyscch4 = yscalerch4.transform(pd.DataFrame(validych4).to_numpy().reshape(422779,1))\n",
    "testyscch4 = yscalerch4.transform(pd.DataFrame(testych4).to_numpy().reshape(213347,1))"
   ]
  },
  {
   "cell_type": "code",
   "execution_count": null,
   "id": "6066e7c7-6113-4129-a69a-0f77316d4f28",
   "metadata": {},
   "outputs": [],
   "source": [
    "trainyscch4.shape, validyscch4.shape, testyscch4.shape"
   ]
  },
  {
   "cell_type": "code",
   "execution_count": null,
   "id": "dda6a7a4-bd85-485d-b9ae-9589a9de855b",
   "metadata": {},
   "outputs": [],
   "source": [
    "# Reshaped for LSTM later on...renamed to reframed to allow rescaled venture through regression\n",
    "trainXscch4ref=trainXscch4.reshape(1167721, 1, 279);\n",
    "validXscch4ref=validXscch4.reshape(422779, 1, 279);\n",
    "testXscch4ref=testXscch4.reshape(213347, 1, 279);"
   ]
  },
  {
   "cell_type": "code",
   "execution_count": null,
   "id": "e66a310f",
   "metadata": {},
   "outputs": [],
   "source": [
    "trainXscch4ref.shape, validXscch4ref.shape, testXscch4ref.shape"
   ]
  },
  {
   "cell_type": "code",
   "execution_count": null,
   "id": "8e771697-8891-4797-9baa-1dd51c7aa70a",
   "metadata": {},
   "outputs": [],
   "source": [
    "# Reshaped for LSTM later on...renamed to reframed to allow rescaled venture through regression\n",
    "trainyscch4ref=trainyscch4.reshape(1167721, 1, 1);\n",
    "validyscch4ref=validyscch4.reshape(422779, 1, 1);\n",
    "testyscch4ref=testyscch4.reshape(213347, 1, 1);"
   ]
  },
  {
   "cell_type": "code",
   "execution_count": null,
   "id": "e0b87e66-c418-419e-9e75-e55eb59471bd",
   "metadata": {},
   "outputs": [],
   "source": [
    "trainyscch4ref.shape, validyscch4ref.shape, testyscch4ref.shape"
   ]
  },
  {
   "cell_type": "markdown",
   "id": "f597e02c-326e-4638-b639-2cf996f5a327",
   "metadata": {},
   "source": [
    "### CO2"
   ]
  },
  {
   "cell_type": "code",
   "execution_count": null,
   "id": "d12da53d",
   "metadata": {
    "jupyter": {
     "source_hidden": true
    }
   },
   "outputs": [],
   "source": [
    "# #df\n",
    "# #df.loc[:, df.columns != 'CO2_1_2_1']\n",
    "# trainXco2, trainyco2=df.loc[:'2017',df.columns != 'CO2_1_2_1'],df.loc[:'2017',df.columns == 'CO2_1_2_1']\n",
    "# validXco2, validyco2=df.loc['2018':'2020',df.columns != 'CO2_1_2_1'],df.loc['2018':'2020',df.columns == 'CO2_1_2_1']\n",
    "# testXco2, testyco2=df.loc['2021':,df.columns != 'CO2_1_2_1'],df.loc['2021':,df.columns == 'CO2_1_2_1']\n",
    "\n",
    "# trainXco2=X_trainco2; trainyco2=y_trainco2; validXco2=X_validco2; validyco2=y_validco2; testXco2=X_testco2; \n",
    "# testyco2=y_testco2\n",
    "\n",
    "# trainXco2, trainyco2=reframed_co2.loc[:'2017',:('CO2_1_2_1', 't+1')],reframed_co2.loc[:'2017',('CO2_1_2_1', 't+1'):]\n",
    "# validXco2, validyco2=reframed_co2.loc['2018':'2020',:('CO2_1_2_1', 't+1')],reframed_co2.loc['2018':'2020',('CO2_1_2_1', 't+1'):]\n",
    "# testXco2, testyco2=reframed_co2.loc['2021',:('CO2_1_2_1', 't+1')],reframed_co2.loc['2021',('CO2_1_2_1', 't+1'):]\n",
    "\n",
    "# trainXco2, trainyco2=reframed_co2.iloc[:,:-1]['2006':'2016'],reframed_co2.iloc[:,-1:]['2006':'2016']\n",
    "# validXco2, validyco2=reframed_co2.iloc[:,:-1]['2017':'2018'],reframed_co2.iloc[:,-1:]['2017':'2018']\n",
    "# testXco2, testyco2=reframed_co2.iloc[:,:-1].loc['2019'],reframed_co2.iloc[:,-1:].loc['2019']\n",
    "\n",
    "# trainXco2, trainyco2=reframed_co2.iloc[:,:-1][:'2017'],reframed_co2.iloc[:,-1:][:'2017']\n",
    "# validXco2, validyco2=reframed_co2.iloc[:,:-1]['2018':'2020'],reframed_co2.iloc[:,-1:]['2018':'2020']\n",
    "# testXco2, testyco2=reframed_co2.iloc[:,:-1]['2021':],reframed_co2.iloc[:,-1:]['2021':]\n",
    "\n",
    "#len(reframed_co2.iloc[:,:-1]['2006':'2017'])#1019750#1354203\n",
    "#len(reframed_co2.iloc[:,:-1]['2018'])#675091\n",
    "#len(reframed_co2.iloc[:,:-1]['2019':])#668281\n",
    "#len(reframed_co2)#2441237\n",
    "#1354203/2441237"
   ]
  },
  {
   "cell_type": "code",
   "execution_count": null,
   "id": "d0540c24",
   "metadata": {
    "jupyter": {
     "source_hidden": true
    }
   },
   "outputs": [],
   "source": [
    "#2006-2019 (14 years)\n",
    "#yco2.loc['2006':'2019']\n",
    "#829750/1965628 #0.4221297213918402\n",
    "#1019750/1965628 #0.5187909411139849\n",
    "#yco2.loc['2006':'2017']\n",
    "#1354203/1965628 #0.6889416512178296 #Use 2006-2017 for threshold based on distribution of points, but keeping time series order consistent (training)\n",
    "#yco2.loc['2018']\n",
    "#340638/1965628 #0.17329728717743134 #Use 2018 for threshold based on distribution of points, but keeping time series order consistent (training)\n",
    "#yco2.loc['2019']\n",
    "#270787/1965628 #0.13776106160473905 #Use 2019 for threshold based on distribution of points, but keeping time series order consistent (training)"
   ]
  },
  {
   "cell_type": "code",
   "execution_count": null,
   "id": "62dff936-793b-42d0-9da6-4938c8001420",
   "metadata": {},
   "outputs": [],
   "source": [
    "#yco2['2003':'2021']\n",
    "#1990868\n",
    "#yco2['2003':'2018']\n",
    "#711575/1990868\n",
    "#1407684/1990868 #0.7070704838291639 #Use 2003-2018 for training\n",
    "#yco2['2019':'2020']\n",
    "#422779/1990868 #0.21235913179577953 #Use 2019-2020 for validation\n",
    "#yco2.loc['2021',:]\n",
    "#160405/1990868 #0.08057038437505651 #Use 2021 for testing"
   ]
  },
  {
   "cell_type": "code",
   "execution_count": null,
   "id": "7e5edb7b",
   "metadata": {},
   "outputs": [],
   "source": [
    "trainXco2, trainyco2=Xco2.loc['2003':'2018'],yco2.loc['2003':'2018']\n",
    "validXco2, validyco2=Xco2.loc['2019':'2020'],yco2.loc['2019':'2020']\n",
    "testXco2, testyco2=Xco2.loc['2021':],yco2.loc['2021':]"
   ]
  },
  {
   "cell_type": "code",
   "execution_count": null,
   "id": "4f415dff-28cd-4470-aa11-5c878af8b282",
   "metadata": {},
   "outputs": [],
   "source": [
    "print(trainXco2.shape, trainyco2.shape);\n",
    "print(validXco2.shape, validyco2.shape);\n",
    "print(testXco2.shape, testyco2.shape);"
   ]
  },
  {
   "cell_type": "code",
   "execution_count": null,
   "id": "99d79254-84f5-4491-ae93-19fc3f87f9bc",
   "metadata": {},
   "outputs": [],
   "source": [
    "# Need to scale the features for neural networks, otherwise the training doesn't converge.\n",
    "Xscalerco2 = StandardScaler()\n",
    "trainXscco2 = Xscalerco2.fit_transform(trainXco2)\n",
    "validXscco2 = Xscalerco2.transform(validXco2)\n",
    "testXscco2 = Xscalerco2.transform(testXco2)"
   ]
  },
  {
   "cell_type": "code",
   "execution_count": null,
   "id": "dce5e66d",
   "metadata": {},
   "outputs": [],
   "source": [
    "trainXscco2.shape, validXscco2.shape, testXscco2.shape"
   ]
  },
  {
   "cell_type": "code",
   "execution_count": null,
   "id": "d4ac0281-fd3e-47f1-aff4-6c8e3ec538b4",
   "metadata": {},
   "outputs": [],
   "source": [
    "yscalerco2 = StandardScaler()\n",
    "trainyscco2 = yscalerco2.fit_transform(pd.DataFrame(trainyco2).to_numpy().reshape(1407684,1))\n",
    "validyscco2 = yscalerco2.transform(pd.DataFrame(validyco2).to_numpy().reshape(422779,1))\n",
    "testyscco2 = yscalerco2.transform(pd.DataFrame(testyco2).to_numpy().reshape(213347,1))"
   ]
  },
  {
   "cell_type": "code",
   "execution_count": null,
   "id": "5a5d464b",
   "metadata": {},
   "outputs": [],
   "source": [
    "trainyscco2.shape, validyscco2.shape, testyscco2.shape"
   ]
  },
  {
   "cell_type": "code",
   "execution_count": null,
   "id": "3bec8b91-afa2-4733-8550-b2b274886d17",
   "metadata": {
    "jupyter": {
     "source_hidden": true
    },
    "tags": []
   },
   "outputs": [],
   "source": [
    "# # Need to scale the features for neural networks, otherwise the training doesn't converge.\n",
    "# Xscalerco2 = StandardScaler()\n",
    "# Xscalerco2.fit(X_trainco2)\n",
    "# X_train_scaledco2 = Xscalerco2.transform(X_trainco2)\n",
    "# X_valid_scaledco2 = Xscalerco2.transform(X_validco2)\n",
    "# X_test_scaledco2 = Xscalerco2.transform(X_testco2)\n",
    "\n",
    "# yscalerco2 = StandardScaler()\n",
    "# yscalerco2.fit(y_trainco2)\n",
    "# y_train_scaledco2 = yscalerco2.transform(y_trainco2)\n",
    "# y_valid_scaledco2 = yscalerco2.transform(y_validco2)\n",
    "# y_test_scaledco2 = yscalerco2.transform(y_testco2)"
   ]
  },
  {
   "cell_type": "code",
   "execution_count": null,
   "id": "2c7602a8-556a-4fa2-a7bb-2045a482990c",
   "metadata": {
    "jupyter": {
     "source_hidden": true
    },
    "tags": []
   },
   "outputs": [],
   "source": [
    "# #SUPERVISION\n",
    "# X_trainco2_scaled_sup=series_to_supervised(X_trainco2_scaled, lags=3, forecasting_steps=1, dropna=True)\n",
    "# # X_validco2_scaled_sup=series_to_supervised(X_validco2_scaled, lags=3, forecasting_steps=1, dropna=True)\n",
    "# # X_testco2_scaled_sup=series_to_supervised(X_testco2_scaled, lags=3, forecasting_steps=1, dropna=True)\n",
    "# # X_trainco2_scaled_sup.shape, X_validco2_scaled_sup.shape, X_testco2_scaled_sup.shape\n",
    "# X_validco2_sup=series_to_supervised(X_validco2, lags=3, forecasting_steps=1, dropna=True)\n",
    "# X_testco2_sup=series_to_supervised(X_testco2, lags=3, forecasting_steps=1, dropna=True)\n",
    "# X_trainco2_scaled_sup.shape, X_validco2_sup.shape, X_testco2_sup.shape\n",
    "\n",
    "# #SUPERVISION\n",
    "# y_trainco2_scaled_sup=series_to_supervised(y_trainco2_scaled, lags=3, forecasting_steps=1, dropna=True)\n",
    "# y_validco2_scaled_sup=series_to_supervised(y_validco2_scaled, lags=3, forecasting_steps=1, dropna=True)\n",
    "# y_testco2_scaled_sup=series_to_supervised(y_testco2_scaled, lags=3, forecasting_steps=1, dropna=True)\n",
    "# y_trainco2_scaled_sup.shape, y_validco2_scaled_sup.shape, y_testco2_scaled_sup.shape"
   ]
  },
  {
   "cell_type": "code",
   "execution_count": null,
   "id": "a5f1e87b-6030-4091-a283-d93f3002bf7a",
   "metadata": {
    "tags": []
   },
   "outputs": [],
   "source": [
    "# Reshaped for LSTM later on...renamed to reframed to allow rescaled venture through regression\n",
    "trainXscco2ref=trainXscco2.reshape(1407684, 1, 279);\n",
    "validXscco2ref=validXscco2.reshape(422779, 1, 279);\n",
    "testXscco2ref=testXscco2.reshape(213347, 1, 279);"
   ]
  },
  {
   "cell_type": "code",
   "execution_count": null,
   "id": "e7d34768",
   "metadata": {},
   "outputs": [],
   "source": [
    "trainXscco2ref.shape, validXscco2ref.shape, testXscco2ref.shape"
   ]
  },
  {
   "cell_type": "code",
   "execution_count": null,
   "id": "eb3bd2f3-22ae-4af5-a82b-34bc77f717a0",
   "metadata": {
    "tags": []
   },
   "outputs": [],
   "source": [
    "# Reshaped for LSTM later on...renamed to reframed to allow rescaled venture through regression\n",
    "trainyscco2ref=trainyscco2.reshape(1407684, 1, 1);\n",
    "validyscco2ref=validyscco2.reshape(422779, 1, 1);\n",
    "testyscco2ref=testyscco2.reshape(213347, 1, 1);"
   ]
  },
  {
   "cell_type": "code",
   "execution_count": null,
   "id": "e09b3229",
   "metadata": {},
   "outputs": [],
   "source": [
    "trainyscco2ref.shape, validyscco2ref.shape, testyscco2ref.shape"
   ]
  },
  {
   "cell_type": "markdown",
   "id": "97c55e1c-ee94-498c-9286-9b9039450ae4",
   "metadata": {
    "jp-MarkdownHeadingCollapsed": true
   },
   "source": [
    "### Archive"
   ]
  },
  {
   "cell_type": "code",
   "execution_count": null,
   "id": "4dfea8ab-3ecd-414c-a764-058ce7682acd",
   "metadata": {
    "jupyter": {
     "source_hidden": true
    },
    "tags": []
   },
   "outputs": [],
   "source": [
    "# scaler=StandardScaler()\n",
    "# scaled_train=scaler.fit_transform(train)\n",
    "# scaled_valid=scaler.transform(valid)\n",
    "# scaled_test=scaler.transform(test)"
   ]
  },
  {
   "cell_type": "code",
   "execution_count": null,
   "id": "2446dd36-6f19-49a0-b779-d049e93720e8",
   "metadata": {
    "jupyter": {
     "source_hidden": true
    },
    "tags": []
   },
   "outputs": [],
   "source": [
    "# scaled_train=pd.DataFrame(scaled_train)\n",
    "# scaled_valid=pd.DataFrame(scaled_valid)\n",
    "# scaled_test=pd.DataFrame(scaled_test)"
   ]
  },
  {
   "cell_type": "code",
   "execution_count": null,
   "id": "b9038602-c079-4727-aebc-742ba5bc5084",
   "metadata": {
    "jupyter": {
     "source_hidden": true
    },
    "tags": []
   },
   "outputs": [],
   "source": [
    "# scaled_train.index=train.index\n",
    "# scaled_valid.index=valid.index\n",
    "# scaled_test.index=test.index"
   ]
  },
  {
   "cell_type": "code",
   "execution_count": null,
   "id": "572d0421-d4fc-4d5f-9c36-60d2d4bb16b4",
   "metadata": {
    "jupyter": {
     "source_hidden": true
    }
   },
   "outputs": [],
   "source": [
    "#df\n",
    "df=df.sort_index()"
   ]
  },
  {
   "cell_type": "code",
   "execution_count": null,
   "id": "c70a9190-9b45-4c3a-b572-8cdd6feff141",
   "metadata": {
    "jupyter": {
     "source_hidden": true
    },
    "tags": []
   },
   "outputs": [],
   "source": [
    "X_trainalt, y_trainalt, X_validalt, y_validalt, X_testalt, y_testalt = Xalt.loc['1969':'2017',:], yalt.loc['1969':'2017',:], Xalt.loc['2018':'2020', :], \\\n",
    "yalt.loc['2018':'2020',:], Xalt.loc['2021':, :], yalt.loc['2021':,:]\n",
    "#never outputs last mentioned key \n",
    "# X_train, X_test, y_train, y_test = train_test_split(X, y, test_size=0.1)#, random_state=1)\n",
    "# X_train, X_valid, y_train, y_valid = train_test_split(X_train, y_train, test_size=0.22)#, random_state=1) # 0.25 x 0.8 = 0.2"
   ]
  },
  {
   "cell_type": "code",
   "execution_count": null,
   "id": "01a574d1-46be-4e78-b9cf-5b440ec430e9",
   "metadata": {
    "jupyter": {
     "source_hidden": true
    },
    "tags": []
   },
   "outputs": [],
   "source": [
    "X_trainch4, y_trainch4, X_validch4, y_validch4, X_testch4, y_testch4 = Xch4.loc['2011':'2018',:], ych4.loc['2011':'2018',:], Xch4.loc['2019':'2020',:], \\\n",
    "ych4.loc['2019':'2020',:], Xch4.loc['2021':,:], ych4.loc['2021':,:]\n",
    "# X_trainch4, X_testch4, y_trainch4, y_testch4 = train_test_split(Xch4, ych4, test_size=0.1)#, random_state=1)\n",
    "# X_trainch4, X_validch4, y_trainch4, y_validch4 = train_test_split(X_trainch4, y_trainch4, test_size=0.22)#, random_state=1) # 0.25 x 0.8 = 0.2"
   ]
  },
  {
   "cell_type": "code",
   "execution_count": null,
   "id": "868c6a3c-8127-49e3-98ad-05b6c1d6890f",
   "metadata": {
    "jupyter": {
     "source_hidden": true
    },
    "tags": []
   },
   "outputs": [],
   "source": [
    "X_trainco2, y_trainco2, X_validco2, y_validco2, X_testco2, y_testco2 = Xco2.loc['2006':'2016',:], yco2.loc['2006':'2016',:], \\\n",
    "Xco2.loc['2017':'2018',:], yco2.loc['2017':'2018',:], Xco2.loc['2019':,:], yco2.loc['2019':,:]\n",
    "# X_trainco2, X_testco2, y_trainco2, y_testco2 = train_test_split(Xco2, yco2, test_size=0.1)#, random_state=1)\n",
    "# X_trainco2, X_validco2, y_trainco2, y_validco2 = train_test_split(X_trainco2, y_trainco2, test_size=0.22)#, random_state=1) # 0.25 x 0.8 = 0.2"
   ]
  },
  {
   "cell_type": "code",
   "execution_count": null,
   "id": "2e62d311-deef-4efe-99f3-8c75c08c2000",
   "metadata": {
    "jupyter": {
     "source_hidden": true
    }
   },
   "outputs": [],
   "source": [
    "#plt.plot(yalt['1969':'2022'])#54 years\n",
    "#plt.plot(ych4['2011':'2021'])#11 years\n",
    "#plt.plot(yco2['2006':'2019'])#14 years\n",
    "#yco2['2006':'2017']#540085\n",
    "#1354203/2441237"
   ]
  },
  {
   "cell_type": "code",
   "execution_count": null,
   "id": "fda4b18a-6ea6-47c0-a2ed-dc82cf44a6f2",
   "metadata": {
    "jupyter": {
     "source_hidden": true
    }
   },
   "outputs": [],
   "source": [
    "trainXalt, trainyalt=df.loc[:'2017',df.columns != 'ALT'],df.loc[:'2017',df.columns == 'ALT']\n",
    "validXalt, validyalt=df.loc['2018':'2020',df.columns != 'ALT'],df.loc['2018':'2020',df.columns == 'ALT']\n",
    "testXalt, testyalt=df.loc['2021':,df.columns != 'ALT'],df.loc['2021':,df.columns == 'ALT']"
   ]
  },
  {
   "cell_type": "markdown",
   "id": "f94b16e2",
   "metadata": {
    "jp-MarkdownHeadingCollapsed": true
   },
   "source": [
    "# Step 8: Data Structure | Model Tuning and Development"
   ]
  },
  {
   "cell_type": "code",
   "execution_count": null,
   "id": "bf646848-da26-4b90-a5c0-7a9fe8777b8e",
   "metadata": {
    "jupyter": {
     "source_hidden": true
    }
   },
   "outputs": [],
   "source": [
    "# #IN SITU\n",
    "# reframed_alt.shape, type(reframed_alt), reframed_ch4.shape, type(reframed_ch4), reframed_co2.shape, type(reframed_co2)\n",
    "\n",
    "# #SIBBORK\n",
    "# sibbork.shape, type(sibbork)\n",
    "\n",
    "# #TCFM\n",
    "# ch4df.to_numpy().shape, type(ch4df.to_numpy())\n",
    "# co2df.to_numpy().shape, type(co2df.to_numpy())\n",
    "\n",
    "# #AVIRISNG\n",
    "# aviris_arr_list\n",
    "# aviris_arr_list[0].shape, type(aviris_arr_list[0])\n",
    "# #aviris_arr_list[0].shape, type(aviris_arr_list[0])\n",
    "# #aviris_arr_list[1].shape, type(aviris_arr_list[0])\n",
    "# #aviris_arr_list[2].shape, type(aviris_arr_list[0])\n",
    "# #aviris_arr_list[3].shape, type(aviris_arr_list[0])\n",
    "# #aviris_raster_list[0].shape, aviris_arr_list[0].shape #filtered by goodbandlist\n",
    "\n",
    "# #UAVSAR\n",
    "# #plt.imshow(uavsar_arr_list[0][0])\n",
    "# uavsar_arr_list\n",
    "# uavsar_arr_list[0].shape, type(uavsar_arr_list[0])"
   ]
  },
  {
   "cell_type": "markdown",
   "id": "9dc600d0-bed0-4c1c-88a1-b77a6725e5e6",
   "metadata": {
    "jp-MarkdownHeadingCollapsed": true
   },
   "source": [
    "### Workflow"
   ]
  },
  {
   "cell_type": "code",
   "execution_count": null,
   "id": "e3f2dccd-fc17-46eb-a3eb-07677308f0da",
   "metadata": {},
   "outputs": [],
   "source": [
    "#ConvLSTM1D Input shape\n",
    "# If data_format='channels_first' 4D tensor with shape: (samples, time, channels, rows)\n",
    "# If data_format='channels_last' 4D tensor with shape: (samples, time, rows, channels)\n",
    "#'channels_last' (FEATURES)"
   ]
  },
  {
   "cell_type": "markdown",
   "id": "00ca83b2-3a30-4943-a96b-0814fddb6973",
   "metadata": {},
   "source": [
    "### Restructure Data"
   ]
  },
  {
   "cell_type": "code",
   "execution_count": null,
   "id": "d020a5ab-1665-4a1d-9bb9-c698ae7b333d",
   "metadata": {},
   "outputs": [],
   "source": [
    "trainXscaltref = np.reshape(trainXscalt, (trainXscalt.shape[0], 1, trainXscalt.shape[1]))\n",
    "validXscaltref = np.reshape(validXscalt, (validXscalt.shape[0], 1, validXscalt.shape[1]))\n",
    "testXscaltref = np.reshape(testXscalt, (testXscalt.shape[0], 1, testXscalt.shape[1]))\n",
    "trainXscch4ref = np.reshape(trainXscch4, (trainXscch4.shape[0], 1, trainXscch4.shape[1]))\n",
    "validXscch4ref = np.reshape(validXscch4, (validXscch4.shape[0], 1, validXscch4.shape[1]))\n",
    "testXscch4ref = np.reshape(testXscch4, (testXscch4.shape[0], 1, testXscch4.shape[1]))\n",
    "trainXscco2ref = np.reshape(trainXscco2, (trainXscco2.shape[0], 1, trainXscco2.shape[1]))\n",
    "validXscco2ref = np.reshape(validXscco2, (validXscco2.shape[0], 1, validXscco2.shape[1]))\n",
    "testXscco2ref = np.reshape(testXscco2, (testXscco2.shape[0], 1, testXscco2.shape[1]))"
   ]
  },
  {
   "cell_type": "code",
   "execution_count": null,
   "id": "215866bd-7ce8-4046-bea6-aa4353f74f16",
   "metadata": {},
   "outputs": [],
   "source": [
    "trainyscaltref = np.reshape(trainyscalt, (trainyscalt.shape[0], 1, trainyscalt.shape[1]))\n",
    "validyscaltref = np.reshape(validyscalt, (validyscalt.shape[0], 1, validyscalt.shape[1]))\n",
    "testyscaltref = np.reshape(testyscalt, (testyscalt.shape[0], 1, testyscalt.shape[1]))\n",
    "trainyscch4ref = np.reshape(trainyscch4, (trainyscch4.shape[0], 1, trainyscch4.shape[1]))\n",
    "validyscch4ref = np.reshape(validyscch4, (validyscch4.shape[0], 1, validyscch4.shape[1]))\n",
    "testyscch4ref = np.reshape(testyscch4, (testyscch4.shape[0], 1, testyscch4.shape[1]))\n",
    "trainyscco2ref = np.reshape(trainyscco2, (trainyscco2.shape[0], 1, trainyscco2.shape[1]))\n",
    "validyscco2ref = np.reshape(validyscco2, (validyscco2.shape[0], 1, validyscco2.shape[1]))\n",
    "testyscco2ref = np.reshape(testyscco2, (testyscco2.shape[0], 1, testyscco2.shape[1]))"
   ]
  },
  {
   "cell_type": "code",
   "execution_count": null,
   "id": "42f6ef4f-4bb7-4be9-85c3-b5af4779ab3c",
   "metadata": {},
   "outputs": [],
   "source": [
    "print(trainXscaltref.shape, validXscaltref.shape, testXscaltref.shape)\n",
    "print(trainyscaltref.shape, validyscaltref.shape, testyscaltref.shape)\n",
    "print(trainXscch4ref.shape, validXscch4ref.shape, testXscch4ref.shape)\n",
    "print(trainyscch4ref.shape, validyscch4ref.shape, testyscch4ref.shape)\n",
    "print(trainXscco2ref.shape, validXscco2ref.shape, testXscco2ref.shape)\n",
    "print(trainyscco2ref.shape, validyscco2ref.shape, testyscco2ref.shape)"
   ]
  },
  {
   "cell_type": "code",
   "execution_count": null,
   "id": "3b2476a2-be6b-46e5-b24b-b9f06e92d236",
   "metadata": {},
   "outputs": [],
   "source": [
    "#print(list(divisorGenerator(1426178)))"
   ]
  },
  {
   "cell_type": "code",
   "execution_count": null,
   "id": "d8933c82-0130-4c2d-9719-07feda116ada",
   "metadata": {},
   "outputs": [],
   "source": [
    "# inputsalt = keras.Input(shape=(trainXscaltref.shape[1],trainXscaltref.shape[2]))#, X_train_reframed_sup.shape[2]))#, X_train_reframed_sup.shape[3]))\n",
    "# inputsch4 = keras.Input(shape=(trainXscch4ref.shape[0], trainXscch4ref.shape[1],trainXscch4ref.shape[2]))#, Xch4train.shape[3], Xch4train.shape[4]))\n",
    "# inputsco2 = keras.Input(shape=(trainXscco2ref.shape[1],trainXscco2ref.shape[2]))#, X_train_reframed_sup.shape[2]))#, X_train_reframed_sup.shape[3]))\n",
    "# inputsalt.shape, inputsch4.shape, inputsco2.shape"
   ]
  },
  {
   "cell_type": "markdown",
   "id": "8380d7cf-29bc-4f4d-9dfe-a2fdde9a787c",
   "metadata": {},
   "source": [
    "### Quick check on data structure and simple model"
   ]
  },
  {
   "cell_type": "code",
   "execution_count": null,
   "id": "1aa3b165-4da1-428c-b8e2-d71b99f1a7e6",
   "metadata": {},
   "outputs": [],
   "source": [
    "from keras.callbacks import ReduceLROnPlateau\n",
    "from tensorflow.keras.optimizers import Adam\n",
    "learning_rate_reduction = ReduceLROnPlateau(monitor='val_loss', patience = 2, verbose=1,factor=0.75, min_lr=0.00001)"
   ]
  },
  {
   "cell_type": "code",
   "execution_count": null,
   "id": "de20f6c0-df62-41cb-a35d-62fe7f59cfb1",
   "metadata": {},
   "outputs": [],
   "source": [
    "model = Sequential()\n",
    "model.add(ConvLSTM1D(filters=64, kernel_size=(1), input_shape=(1, 1, 279)))\n",
    "model.add(Flatten())\n",
    "model.add(Dense(1))\n",
    "model.compile(optimizer='adam', \n",
    "              loss='mse',\n",
    "              metrics=['mae', 'mse'])"
   ]
  },
  {
   "cell_type": "code",
   "execution_count": null,
   "id": "bf75ef48-f487-47cc-b440-33b3c57aa8e5",
   "metadata": {},
   "outputs": [],
   "source": [
    "model.summary()"
   ]
  },
  {
   "cell_type": "code",
   "execution_count": null,
   "id": "81c54ba2-c86c-44a8-9a32-07785e0a6d70",
   "metadata": {},
   "outputs": [],
   "source": [
    "#model1=model; history1=history"
   ]
  },
  {
   "cell_type": "code",
   "execution_count": null,
   "id": "2b862f59-c1b6-4583-8213-96302f9ed21a",
   "metadata": {},
   "outputs": [],
   "source": [
    "model.save(\"convlstm1d.h5\")"
   ]
  },
  {
   "cell_type": "code",
   "execution_count": null,
   "id": "ebbaa1eb-a584-4d86-920b-d6a0df19e981",
   "metadata": {},
   "outputs": [],
   "source": [
    "history = model.fit(\n",
    "    trainXscaltref, trainyscaltref,\n",
    "    epochs=10,\n",
    "    batch_size=256,\n",
    "    validation_data=(validXscaltref, validyscaltref),\n",
    "    callbacks=[learning_rate_reduction]\n",
    ")"
   ]
  },
  {
   "cell_type": "code",
   "execution_count": null,
   "id": "2d3b77f0-05b4-441a-8ba1-865e2c6e9c4d",
   "metadata": {},
   "outputs": [],
   "source": [
    "plt.plot(history.history[\"loss\"])\n",
    "#plt.plot(history.history[\"val_loss\"])\n",
    "plt.title(\"Loss Function\")\n",
    "plt.legend([\"Training Data (ALT)\" , \"Validation Data (ALT)\"])\n",
    "plt.show()"
   ]
  },
  {
   "cell_type": "code",
   "execution_count": null,
   "id": "481060a7-8fc3-44af-ac07-acd5eff9ce54",
   "metadata": {},
   "outputs": [],
   "source": [
    "plt.plot(history.history[\"mae\"])\n",
    "#plt.plot(history.history[\"val_mae\"])\n",
    "plt.title(\"Error Metrics (MAE)\")\n",
    "plt.legend([\"Training Data (ALT)\" , \"Validation Data (ALT)\"])\n",
    "plt.show()"
   ]
  },
  {
   "cell_type": "code",
   "execution_count": null,
   "id": "44d2ecca-e4ad-4dec-98bf-d92cf4ffdcef",
   "metadata": {},
   "outputs": [],
   "source": [
    "plt.plot(history.history[\"mse\"])\n",
    "#plt.plot(history.history[\"val_mse\"])\n",
    "plt.title(\"Error Metrics (MSE)\")\n",
    "plt.legend([\"Training Data (ALT)\" , \"Validation Data (ALT)\"])\n",
    "plt.show()"
   ]
  },
  {
   "cell_type": "code",
   "execution_count": null,
   "id": "5ab87beb-56e5-4771-bb54-8b25e066e126",
   "metadata": {},
   "outputs": [],
   "source": [
    "history2 = model.fit(\n",
    "    trainXscch4ref, trainyscch4ref,\n",
    "    epochs=10,\n",
    "    batch_size=256,\n",
    "    validation_data=(validXscch4ref, validyscch4ref),\n",
    "    callbacks=[learning_rate_reduction]\n",
    ")"
   ]
  },
  {
   "cell_type": "code",
   "execution_count": null,
   "id": "0edab3f4-78f2-48cd-8fef-64a782a75cfb",
   "metadata": {},
   "outputs": [],
   "source": [
    "plt.plot(history2.history[\"loss\"])\n",
    "#plt.plot(history.history[\"val_loss\"])\n",
    "plt.title(\"Loss Function\")\n",
    "plt.legend([\"Training Data (CH4)\" , \"Validation Data (CH4)\"])\n",
    "plt.show()"
   ]
  },
  {
   "cell_type": "code",
   "execution_count": null,
   "id": "a41cff6f-9004-46a5-8db3-0ab27a5a456d",
   "metadata": {},
   "outputs": [],
   "source": [
    "plt.plot(history2.history[\"mae\"])\n",
    "#plt.plot(history.history[\"val_mae\"])\n",
    "plt.title(\"Error Metrics (MAE)\")\n",
    "plt.legend([\"Training Data (CH4)\" , \"Validation Data (CH4)\"])\n",
    "plt.show()"
   ]
  },
  {
   "cell_type": "code",
   "execution_count": null,
   "id": "20aa764b-ca37-42d9-9cf4-f640378340c8",
   "metadata": {},
   "outputs": [],
   "source": [
    "plt.plot(history2.history[\"mse\"])\n",
    "#plt.plot(history.history[\"val_mse\"])\n",
    "plt.title(\"Error Metrics (MSE)\")\n",
    "plt.legend([\"Training Data (CH4)\" , \"Validation Data (CH4)\"])\n",
    "plt.show()"
   ]
  },
  {
   "cell_type": "code",
   "execution_count": null,
   "id": "928c60d5-97a2-45a1-84a0-a8d45893ba29",
   "metadata": {},
   "outputs": [],
   "source": [
    "history3 = model.fit(\n",
    "    trainXscco2ref, trainyscco2ref,\n",
    "    epochs=10,\n",
    "    batch_size=256,\n",
    "    validation_data=(validXscco2ref, validyscco2ref),\n",
    "    callbacks=[learning_rate_reduction]\n",
    ")"
   ]
  },
  {
   "cell_type": "code",
   "execution_count": null,
   "id": "c3820590-cded-45fe-9790-c4e851e738e3",
   "metadata": {},
   "outputs": [],
   "source": [
    "plt.plot(history3.history[\"loss\"])\n",
    "#plt.plot(history.history[\"val_loss\"])\n",
    "plt.title(\"Loss Function\")\n",
    "plt.legend([\"Training Data (CO2)\" , \"Validation Data (CO2)\"])\n",
    "plt.show()"
   ]
  },
  {
   "cell_type": "code",
   "execution_count": null,
   "id": "ed92dc4b-e2e8-4d24-bce3-88e907b111b6",
   "metadata": {},
   "outputs": [],
   "source": [
    "plt.plot(history2.history[\"mae\"])\n",
    "#plt.plot(history.history[\"val_mae\"])\n",
    "plt.title(\"Error Metrics (MAE)\")\n",
    "plt.legend([\"Training Data (CH4)\" , \"Validation Data (CH4)\"])\n",
    "plt.show()"
   ]
  },
  {
   "cell_type": "code",
   "execution_count": null,
   "id": "cefbcf34-f83d-484d-aee5-ceea41e6119f",
   "metadata": {},
   "outputs": [],
   "source": [
    "plt.plot(history2.history[\"mse\"])\n",
    "#plt.plot(history.history[\"val_mse\"])\n",
    "plt.title(\"Error Metrics (MSE)\")\n",
    "plt.legend([\"Training Data (CH4)\" , \"Validation Data (CH4)\"])\n",
    "plt.show()"
   ]
  },
  {
   "cell_type": "code",
   "execution_count": null,
   "id": "65978109-576f-47aa-aeec-172c2acfdbe8",
   "metadata": {},
   "outputs": [],
   "source": [
    "######## HAVE TO INVERSE_SCALER BEFORE THIS ########"
   ]
  },
  {
   "cell_type": "code",
   "execution_count": null,
   "id": "b482317b-8525-4ef4-a080-cb3571f772a0",
   "metadata": {},
   "outputs": [],
   "source": [
    "from sklearn.metrics import mean_squared_error, mean_absolute_error, r2_score\n",
    "from math import log\n",
    "\n",
    "yhat = model.predict(testXscaltref)"
   ]
  },
  {
   "cell_type": "code",
   "execution_count": null,
   "id": "a575cee4-e743-44a9-b175-eeddfe2f0347",
   "metadata": {},
   "outputs": [],
   "source": [
    "r2 = r2_score(testyscaltref.reshape(213347,1),yhat)\n",
    "mse = mean_squared_error(testyscaltref.reshape(213347,1), yhat)\n",
    "mae = mean_absolute_error(testyscaltref.reshape(213347,1),yhat)\n",
    "rmse = np.sqrt(mse)\n",
    "\n",
    "print(\"MSE :\", mse)\n",
    "print(\"MAE :\" ,mae)\n",
    "print(\"RMSE :\" ,rmse)\n",
    "print(\"R2_score :\",r2)"
   ]
  },
  {
   "cell_type": "code",
   "execution_count": null,
   "id": "c4f49e68-7f12-4c1e-8070-eebec08ef8d2",
   "metadata": {},
   "outputs": [],
   "source": [
    "x= trainXscaltref[-10000:]\n",
    "print(x.shape)\n",
    "x = x.reshape((10000,1,1,279))\n",
    "y_pred = model.predict(x)[-10000:]\n",
    "y = trainyscaltref[-10000:]\n",
    "print(y.shape)"
   ]
  },
  {
   "cell_type": "code",
   "execution_count": null,
   "id": "28449b25-504e-4302-8cd1-f3fd384bae9f",
   "metadata": {},
   "outputs": [],
   "source": [
    "plt.plot(y_pred , \"-\")\n",
    "plt.plot(y.reshape(10000,))\n",
    "plt.legend([\"pred\",\"actual\"])\n",
    "plt.show()"
   ]
  },
  {
   "cell_type": "markdown",
   "id": "30d83869",
   "metadata": {
    "jp-MarkdownHeadingCollapsed": true
   },
   "source": [
    "#### Exploratory Plotting"
   ]
  },
  {
   "cell_type": "code",
   "execution_count": null,
   "id": "659b357d",
   "metadata": {},
   "outputs": [],
   "source": [
    "dups3"
   ]
  },
  {
   "cell_type": "code",
   "execution_count": null,
   "id": "ab026ce6",
   "metadata": {},
   "outputs": [],
   "source": [
    "dups3_2"
   ]
  },
  {
   "cell_type": "code",
   "execution_count": null,
   "id": "acaee2be",
   "metadata": {},
   "outputs": [],
   "source": [
    "dups4"
   ]
  },
  {
   "cell_type": "code",
   "execution_count": null,
   "id": "6a0e417c",
   "metadata": {},
   "outputs": [],
   "source": [
    "dups4_2"
   ]
  },
  {
   "cell_type": "code",
   "execution_count": null,
   "id": "af5c22b6",
   "metadata": {},
   "outputs": [],
   "source": [
    "plt.plot(dups3_2['ALT_diff'].replace(-9999,np.nan).dropna().values)"
   ]
  },
  {
   "cell_type": "code",
   "execution_count": null,
   "id": "27cb7e23",
   "metadata": {},
   "outputs": [],
   "source": [
    "plt.plot(dups4_2['ALT_diff'].replace(-9999,np.nan).dropna().values)"
   ]
  },
  {
   "cell_type": "code",
   "execution_count": null,
   "id": "e90e9c23",
   "metadata": {},
   "outputs": [],
   "source": [
    "dups3_mean=dups3_2.groupby(dups3_2.index).mean()\n",
    "dups3_std=dups3_2.groupby(dups3_2.index).std()"
   ]
  },
  {
   "cell_type": "code",
   "execution_count": null,
   "id": "fda3af47",
   "metadata": {},
   "outputs": [],
   "source": [
    "plt.plot(dups3_mean['ALT'])"
   ]
  },
  {
   "cell_type": "code",
   "execution_count": null,
   "id": "b591a346",
   "metadata": {},
   "outputs": [],
   "source": [
    "plt.plot(dups3_mean['ALT_diff'])"
   ]
  },
  {
   "cell_type": "code",
   "execution_count": null,
   "id": "2542af0d",
   "metadata": {},
   "outputs": [],
   "source": [
    "dups4_mean=dups4_2.groupby(dups4_2.index).mean()\n",
    "dups4_std=dups4_2.groupby(dups4_2.index).std()"
   ]
  },
  {
   "cell_type": "code",
   "execution_count": null,
   "id": "96da601a",
   "metadata": {},
   "outputs": [],
   "source": [
    "plt.plot(dups4_mean['ALT'])"
   ]
  },
  {
   "cell_type": "code",
   "execution_count": null,
   "id": "a0bce9bb",
   "metadata": {},
   "outputs": [],
   "source": [
    "plt.plot(dups4_mean['ALT_diff'])"
   ]
  },
  {
   "cell_type": "markdown",
   "id": "c0aa4323",
   "metadata": {
    "jp-MarkdownHeadingCollapsed": true
   },
   "source": [
    "##### Continue"
   ]
  },
  {
   "cell_type": "code",
   "execution_count": null,
   "id": "79b736ac",
   "metadata": {},
   "outputs": [],
   "source": [
    "# Need to scale the features for neural networks, otherwise the training doesn't converge.\n",
    "scale = StandardScaler()\n",
    "exsc = scale.fit_transform(ex_mean)\n",
    "exscdf=pd.DataFrame(exsc)\n",
    "exscdf.columns=ex_mean.columns\n",
    "exscdf.index=ex_mean.index"
   ]
  },
  {
   "cell_type": "code",
   "execution_count": null,
   "id": "1ce13884",
   "metadata": {},
   "outputs": [],
   "source": [
    "altdf=pd.DataFrame(ex['ALT'])"
   ]
  },
  {
   "cell_type": "code",
   "execution_count": null,
   "id": "dc429a92",
   "metadata": {},
   "outputs": [],
   "source": [
    "plt.plot(ex_mean['ALT']['2002':], label='ALT')\n",
    "plt.legend()\n",
    "plt.show()\n",
    "\n",
    "#ex_mean['ALT'] #1969-2022"
   ]
  },
  {
   "cell_type": "code",
   "execution_count": null,
   "id": "aed63f2e",
   "metadata": {},
   "outputs": [],
   "source": [
    "plt.plot(ex['ALT']['2002':], label='ALT')\n",
    "plt.legend()\n",
    "plt.show()"
   ]
  },
  {
   "cell_type": "code",
   "execution_count": null,
   "id": "dd12d2b8",
   "metadata": {},
   "outputs": [],
   "source": [
    "d1=pd.DataFrame(ex['CH4_1_1_2'])\n",
    "d2=pd.DataFrame(ex['CH4_1_2_1'])\n",
    "d3=pd.DataFrame(ex['CH4_1_3_1'])\n",
    "d4=pd.DataFrame(ex['CH4_1_4_1'])\n",
    "d5=pd.concat([d1,d2,d3,d4], axis=1)\n",
    "ind=d1.index.append(d1.index).append(d1.index).append(d1.index)\n",
    "d6=pd.DataFrame(d5.stack(level=0).reset_index(level=0, drop=True))\n",
    "d6.index=ind\n",
    "d6=d6.sort_index()\n",
    "d6.columns=['CH4']\n",
    "ch4df=d6"
   ]
  },
  {
   "cell_type": "code",
   "execution_count": null,
   "id": "1df84305",
   "metadata": {},
   "outputs": [],
   "source": [
    "d1=pd.DataFrame(exscdf['CH4_1_1_2'])\n",
    "d2=pd.DataFrame(exscdf['CH4_1_2_1'])\n",
    "d3=pd.DataFrame(exscdf['CH4_1_3_1'])\n",
    "d4=pd.DataFrame(exscdf['CH4_1_4_1'])\n",
    "d5=pd.concat([d1,d2,d3,d4], axis=1)\n",
    "ind=d1.index.append(d1.index).append(d1.index).append(d1.index)\n",
    "d6=pd.DataFrame(d5.stack(level=0).reset_index(level=0, drop=True))\n",
    "d6.index=ind\n",
    "d6=d6.sort_index()\n",
    "d6.columns=['CH4']\n",
    "ch4dfmean=d6"
   ]
  },
  {
   "cell_type": "code",
   "execution_count": null,
   "id": "581f1a9f",
   "metadata": {},
   "outputs": [],
   "source": [
    "plt.plot(ex_mean['CH4_1_1_1']['2002':], label='CH4_1_1_1')\n",
    "plt.plot(ex_mean['CH4_1_1_2']['2002':], label='CH4_1_1_2')\n",
    "plt.plot(ex_mean['CH4_1_2_1']['2002':], label='CH4_1_2_1')\n",
    "plt.plot(ex_mean['CH4_1_3_1']['2002':], label='CH4_1_3_1')\n",
    "plt.plot(ex_mean['CH4_1_4_1']['2002':], label='CH4_1_4_1')\n",
    "plt.legend()\n",
    "plt.show()\n",
    "\n",
    "####ex_mean['CH4_1_1_1'] #2002-2022 \n",
    "#ex_mean['CH4_1_1_2'] #2010-2022 \n",
    "#ex_mean['CH4_1_2_1'] #2005-2020 \n",
    "#ex_mean['CH4_1_3_1'] #2002-2020 \n",
    "#ex_mean['CH4_1_4_1'] #2005-2019 "
   ]
  },
  {
   "cell_type": "code",
   "execution_count": null,
   "id": "9f2cf95e",
   "metadata": {},
   "outputs": [],
   "source": [
    "plt.plot(ex['CH4_1_1_1']['2002':], label='CH4_1_1_1')\n",
    "plt.plot(ex['CH4_1_1_2']['2002':], label='CH4_1_1_2')\n",
    "plt.plot(ex['CH4_1_2_1']['2002':], label='CH4_1_2_1')\n",
    "plt.plot(ex['CH4_1_3_1']['2002':], label='CH4_1_3_1')\n",
    "plt.plot(ex['CH4_1_4_1']['2002':], label='CH4_1_4_1')\n",
    "plt.legend()\n",
    "plt.show()"
   ]
  },
  {
   "cell_type": "code",
   "execution_count": null,
   "id": "ac238433",
   "metadata": {},
   "outputs": [],
   "source": [
    "d1=pd.DataFrame(ex['CO2_1_2_1'])\n",
    "d2=pd.DataFrame(ex['CO2_1_3_1'])\n",
    "d3=pd.DataFrame(ex['CO2_1_4_1'])\n",
    "d4=pd.concat([d1,d2,d3], axis=1)\n",
    "ind=d1.index.append(d1.index).append(d1.index)\n",
    "d5=pd.DataFrame(d4.stack(level=0).reset_index(level=0, drop=True))\n",
    "d5.index=ind\n",
    "d5=d5.sort_index()\n",
    "d5.columns=['CO2']\n",
    "co2df=d5"
   ]
  },
  {
   "cell_type": "code",
   "execution_count": null,
   "id": "e6177604",
   "metadata": {},
   "outputs": [],
   "source": [
    "d1=pd.DataFrame(exscdf['CO2_1_2_1'])\n",
    "d2=pd.DataFrame(exscdf['CO2_1_3_1'])\n",
    "d3=pd.DataFrame(exscdf['CO2_1_4_1'])\n",
    "d4=pd.concat([d1,d2,d3], axis=1)\n",
    "ind=d1.index.append(d1.index).append(d1.index)\n",
    "d5=pd.DataFrame(d4.stack(level=0).reset_index(level=0, drop=True))\n",
    "d5.index=ind\n",
    "d5=d5.sort_index()\n",
    "d5.columns=['CO2']\n",
    "co2dfmean=d5"
   ]
  },
  {
   "cell_type": "code",
   "execution_count": null,
   "id": "b5a5faae",
   "metadata": {},
   "outputs": [],
   "source": [
    "plt.plot(ex_mean['CO2_1_1_1']['2002':], label='CO2_1_1_1')\n",
    "plt.plot(ex_mean['CO2_1_2_1']['2002':], label='CO2_1_2_1')\n",
    "plt.plot(ex_mean['CO2_1_3_1']['2002':], label='CO2_1_3_1')\n",
    "plt.plot(ex_mean['CO2_1_4_1']['2002':], label='CO2_1_4_1')\n",
    "plt.legend()\n",
    "plt.show()\n",
    "\n",
    "####ex_mean['CO2_1_1_1'] #2002-2022 \n",
    "#ex_mean['CO2_1_2_1'] #2005-2020 \n",
    "#ex_mean['CO2_1_3_1'] #2002-2020 \n",
    "#ex_mean['CO2_1_4_1'] #2005-2022"
   ]
  },
  {
   "cell_type": "code",
   "execution_count": null,
   "id": "630cce25",
   "metadata": {},
   "outputs": [],
   "source": [
    "plt.plot(ex['CO2_1_1_1']['2002':], label='CO2_1_1_1')\n",
    "plt.plot(ex['CO2_1_2_1']['2002':], label='CO2_1_2_1')\n",
    "plt.plot(ex['CO2_1_3_1']['2002':], label='CO2_1_3_1')\n",
    "plt.plot(ex['CO2_1_4_1']['2002':], label='CO2_1_4_1')\n",
    "plt.legend()\n",
    "plt.show()"
   ]
  },
  {
   "cell_type": "code",
   "execution_count": null,
   "id": "a7b57b1d",
   "metadata": {},
   "outputs": [],
   "source": [
    "plt.plot(altdfmean['ALT'], label='ALT')\n",
    "plt.plot(ch4dfmean['CH4'], label='CH4')\n",
    "plt.plot(co2dfmean['CO2'], label='CO2')\n",
    "plt.legend()\n",
    "plt.show()"
   ]
  },
  {
   "cell_type": "code",
   "execution_count": null,
   "id": "924ca6e5",
   "metadata": {},
   "outputs": [],
   "source": [
    "altdfmean=pd.DataFrame(exscdf['ALT'])\n",
    "ch4dfmean2=ch4dfmean.groupby(ch4dfmean.index).mean()\n",
    "co2dfmean2=co2dfmean.groupby(co2dfmean.index).mean()\n",
    "newdf=pd.concat([altdfmean,ch4dfmean2,co2dfmean2], axis=1)"
   ]
  },
  {
   "cell_type": "code",
   "execution_count": null,
   "id": "c0def118",
   "metadata": {},
   "outputs": [],
   "source": [
    "plt.plot(ch4df['2002':].values) #2002-2022\n",
    "plt.show()"
   ]
  },
  {
   "cell_type": "code",
   "execution_count": null,
   "id": "3fe6193e",
   "metadata": {},
   "outputs": [],
   "source": [
    "plt.plot(co2df['2002':].values) #2002-2022\n",
    "plt.show()"
   ]
  },
  {
   "cell_type": "code",
   "execution_count": null,
   "id": "361edcaf",
   "metadata": {},
   "outputs": [],
   "source": [
    "plt.plot(altdf['2002':].values) #2002-2022\n",
    "plt.show()"
   ]
  },
  {
   "cell_type": "code",
   "execution_count": null,
   "id": "09b51edd",
   "metadata": {},
   "outputs": [],
   "source": [
    "#dataf=pd.concat([altdf,ch4df,co2df],axis=1)\n",
    "dataf=pd.concat([altdf,ch4df,co2df]).reset_index()\n",
    "dataf.index=dataf['index']\n",
    "dataf=dataf.drop(['index'], axis=1)\n",
    "dataf.index.name=None"
   ]
  },
  {
   "cell_type": "code",
   "execution_count": null,
   "id": "b05fdb4e",
   "metadata": {},
   "outputs": [],
   "source": [
    "newind=dataf.index.strftime('%Y')\n",
    "newind=pd.DataFrame(newind)[0].astype(int).values\n",
    "dataf.index=newind"
   ]
  },
  {
   "cell_type": "code",
   "execution_count": null,
   "id": "2e0ed814",
   "metadata": {},
   "outputs": [],
   "source": [
    "dataf"
   ]
  },
  {
   "cell_type": "code",
   "execution_count": null,
   "id": "5e185edd",
   "metadata": {},
   "outputs": [],
   "source": [
    "pd.DataFrame(ex['ALT'])"
   ]
  },
  {
   "cell_type": "code",
   "execution_count": null,
   "id": "ceb1beb3",
   "metadata": {},
   "outputs": [],
   "source": [
    "newex=ex.drop(ex.iloc[:,-87:-66],axis=1)\n",
    "newex=ex.drop(ex.iloc[:,-1:],axis=1)"
   ]
  },
  {
   "cell_type": "code",
   "execution_count": null,
   "id": "49c8780a",
   "metadata": {},
   "outputs": [],
   "source": [
    "#plt.plot(ex['FCH4_1'])\n",
    "#plt.plot(ex['FCH4_2'])\n",
    "#THOSE BELOW WERE ELIMINATED VIA VIF\n",
    "#plt.plot(exscdf['FCH4_3'])\n",
    "#plt.plot(exscdf['CH4_1_1_1'])\n",
    "#plt.plot(exscdf['CH4_1_3_1'])"
   ]
  },
  {
   "cell_type": "code",
   "execution_count": null,
   "id": "7ee8a3a3",
   "metadata": {},
   "outputs": [],
   "source": [
    "# ex['ALT'] #1969-2022 (54 years)\n",
    "# ex['FCH4_1']['2011':] #2011-2022 (12 years)\n",
    "# ex['CO2_1_1_1']['2003':'2021'] #2003-2021 (19 years)"
   ]
  },
  {
   "cell_type": "code",
   "execution_count": null,
   "id": "87c85905",
   "metadata": {},
   "outputs": [],
   "source": [
    "# X=newdata['CO2_1_1_1']['2003':'2021'].values\n",
    "# X1=pd.DataFrame(X[0:round(len(X)/2)]).dropna().values\n",
    "# X2=pd.DataFrame(X[round(len(X)/2):]).dropna().values\n",
    "# #X1=X[0:round(len(X)/2)]\n",
    "\n",
    "# Xl=np.log(newdata['CO2_1_1_1']['2003':'2021']).replace([np.inf,-np.inf], np.nan).dropna().values\n",
    "# X1l=pd.DataFrame(Xl[:round(len(Xl)/2)])\n",
    "# X2l=pd.DataFrame(Xl[round(len(Xl)/2):])\n",
    "\n",
    "#X.shape, Xl.shape\n",
    "#((2369273,), (2337947,))\n",
    "#X1.shape, X2.shape\n",
    "#((1184636, 1), (1184637, 1))\n",
    "#X1.max(), X1.min(), X2.max(), X2.min()\n",
    "#(796.6, -7.945502, 986.0, -3.083879976)\n",
    "#X1l.shape, X2l.shape\n",
    "#((1168974, 1), (1168973, 1))\n",
    "#X1l.max(), X1l.min(), X2l.max(), X2l.min()\n",
    "#(6.680352670747544, -6.437751649736401, 6.893656354602635, -4.000854219134761)\n",
    "\n",
    "#plt.plot(X)\n",
    "\n",
    "#plt.plot(Xl)\n",
    "\n",
    "#adfuller(Xl, autolag='AIC')\n",
    "\n",
    "#adf=ADF(X,method='aic',low_memory=True)\n",
    "#adf=ADF(Xl,method='aic',low_memory=True)\n",
    "# adf=ADF(X,method='aic',low_memory=True)\n",
    "# print(adf.summary().as_text())\n",
    "# adf"
   ]
  },
  {
   "cell_type": "code",
   "execution_count": null,
   "id": "b03c75d0",
   "metadata": {},
   "outputs": [],
   "source": [
    "newdata.iloc[:,-57:-51]"
   ]
  },
  {
   "cell_type": "code",
   "execution_count": null,
   "id": "72250cfc",
   "metadata": {},
   "outputs": [],
   "source": [
    "newdata.iloc[:,-57:-51]['CO2_1_1_1'].plot()\n",
    "#newdata.iloc[:,-57:-51]['CO2_1_3_1'].plot()\n",
    "#newdata.iloc[:,-57:-51]['CO2_1_4_1'].plot()"
   ]
  },
  {
   "cell_type": "code",
   "execution_count": null,
   "id": "6aea7429",
   "metadata": {},
   "outputs": [],
   "source": [
    "newdata.iloc[:,-51:-43]"
   ]
  },
  {
   "cell_type": "code",
   "execution_count": null,
   "id": "244a9a82",
   "metadata": {},
   "outputs": [],
   "source": [
    "#newdata.iloc[:,-51:-43]['CH4_1_1_1'].plot()\n",
    "#newdata.iloc[:,-51:-43]['CH4_1_3_1'].plot()\n",
    "\n",
    "newdata.iloc[:,-51:-43]['FCH4_1'].plot()\n",
    "#newdata.iloc[:,-51:-43]['FCH4_2'].plot()\n",
    "#newdata.iloc[:,-51:-43]['FCH4_3'].plot()"
   ]
  },
  {
   "cell_type": "code",
   "execution_count": null,
   "id": "6f374cc2",
   "metadata": {},
   "outputs": [],
   "source": [
    "#newdata.iloc[:,-51:-43]['FCH4_1'].plot()\n",
    "#newdata.iloc[:,-51:-43]['FCH4_2'].plot()\n",
    "#newdata.iloc[:,-51:-43]['FCH4_3'].plot()"
   ]
  },
  {
   "cell_type": "code",
   "execution_count": null,
   "id": "19c88afb",
   "metadata": {},
   "outputs": [],
   "source": [
    "newdata.iloc[:,-1:]"
   ]
  },
  {
   "cell_type": "code",
   "execution_count": null,
   "id": "7a5e08d6",
   "metadata": {},
   "outputs": [],
   "source": [
    "newdata.iloc[:,-1:]['ALT'].plot()"
   ]
  },
  {
   "cell_type": "code",
   "execution_count": null,
   "id": "3766aa42",
   "metadata": {},
   "outputs": [],
   "source": [
    "#newdata[['CH4_1_1_1','CH4_1_3_1','FCH4_1','FCH4_2','FCH4_3','CH4_MEAN','CH4_MIXING_RATIO_MEAN','CH4_MIXING_RATIO_STD','CO2_MEAN','CO2_1_1_1','CO2_1_3_1','CO2_1_4_1','soil_[CO2]_5cm','soil_[CO2]_15cm','ALT']].corr()\n",
    "#rho=newdata[['CH4_1_1_1','CH4_1_3_1','FCH4_1','FCH4_2','FCH4_3','CO2_MEAN','CO2_1_1_1','CO2_1_3_1','CO2_1_4_1','ALT']].corr()\n",
    "#newdata[['CH4_1_1_1','CH4_1_3_1','FCH4_1','FCH4_2','FCH4_3','CO2_MEAN','CO2_1_1_1','CO2_1_3_1','CO2_1_4_1','ALT']].corr(method=lambda x, y: pearsonr(x, y)[1]) - np.eye(*rho.shape)\n",
    "#pearsonr(newdata['FCH4_1'],newdata['ALT'])"
   ]
  },
  {
   "cell_type": "code",
   "execution_count": null,
   "id": "07cc2635",
   "metadata": {},
   "outputs": [],
   "source": [
    "ls=[]\n",
    "ls2=[]\n",
    "for i in range(len(newdata.columns)):\n",
    "    ls=np.append(ls,newdata.iloc[:,i].min())\n",
    "    ls2=np.append(ls2,newdata.iloc[:,i].max())"
   ]
  },
  {
   "cell_type": "code",
   "execution_count": null,
   "id": "235115da",
   "metadata": {},
   "outputs": [],
   "source": [
    "n=[0,1,2,11,14,22,28,30]\n",
    "ls[n]"
   ]
  },
  {
   "cell_type": "code",
   "execution_count": null,
   "id": "f60bd1fb",
   "metadata": {},
   "outputs": [],
   "source": [
    "# newdata.iloc[:,0] #WS_MEAN\n",
    "# newdata.iloc[:,1] #WD_MEAN\n",
    "# newdata.iloc[:,2] #CO2_MEAN\n",
    "# newdata.iloc[:,11] #FCH4_1\n",
    "# newdata.iloc[:,14] #CH4_MIXING_RATIO_MEAN\n",
    "# newdata.iloc[:,22] #SW_IN_MEAN\n",
    "# newdata.iloc[:,28] #G_1_1_1\n",
    "# newdata.iloc[:,30] #G_1_1_3"
   ]
  },
  {
   "cell_type": "code",
   "execution_count": null,
   "id": "18d3fc72",
   "metadata": {},
   "outputs": [],
   "source": [
    "#CHANGE LABELS AND SWITCH WS_MEAN AND WS_MEAN!!!"
   ]
  },
  {
   "cell_type": "code",
   "execution_count": null,
   "id": "566eb664",
   "metadata": {},
   "outputs": [],
   "source": [
    "newdata2=newdata[~(newdata['FCH4_1'] < -500)].dropna()\n",
    "newdata3=newdata2[~(newdata2['FCH4_1'] > 500)].dropna()\n",
    "newdata4=newdata3[~(newdata3['WD_MEAN'] < -1725)].dropna()\n",
    "#newdata4=newdata3[~(newdata3['WD_MEAN'] < -360)].dropna()\n",
    "#newdata5=newdata4[~(newdata4['WD_MEAN'] > 360)].dropna()\n",
    "newdata6=newdata5[~(newdata5['WS_MEAN'] < 0)].dropna()"
   ]
  },
  {
   "cell_type": "code",
   "execution_count": null,
   "id": "467a6158",
   "metadata": {},
   "outputs": [],
   "source": [
    "newdata.WS_MEAN.mean(), newdata.WD_MEAN.mean()a"
   ]
  },
  {
   "cell_type": "code",
   "execution_count": null,
   "id": "b57e3d2a",
   "metadata": {},
   "outputs": [],
   "source": [
    "#plt.hist(newdata3['WD_MEAN'].values)\n",
    "#plt.hist(newdata3[~(newdata3['WD_MEAN'] < -1725)].dropna().WD_MEAN.values)\n",
    "#plt.hist(newdata3[~(newdata3['WD_MEAN'] > 1500)].dropna().WD_MEAN.values)\n",
    "plt.hist(newdata3['WS_MEAN'].values)\n",
    "#plt.hist(newdata3[~(newdata3['WD_MEAN'] < -1725)].dropna().WD_MEAN.values)"
   ]
  },
  {
   "cell_type": "code",
   "execution_count": null,
   "id": "ad62eb3d",
   "metadata": {},
   "outputs": [],
   "source": [
    "newdata5=newdata4[~(newdata4['WD_MEAN'] <= -361)].dropna()\n",
    "newdata6=newdata5[(newdata5['WD_MEAN'] > 360)].dropna()"
   ]
  },
  {
   "cell_type": "code",
   "execution_count": null,
   "id": "b39c0e1a",
   "metadata": {},
   "outputs": [],
   "source": [
    "newdata[~(newdata['WD_MEAN'] > 360)].WD_MEAN"
   ]
  },
  {
   "cell_type": "code",
   "execution_count": null,
   "id": "1cead315",
   "metadata": {},
   "outputs": [],
   "source": [
    "len(newdata['WD_MEAN'])"
   ]
  },
  {
   "cell_type": "code",
   "execution_count": null,
   "id": "1845927a",
   "metadata": {},
   "outputs": [],
   "source": [
    "newdata[~(newdata['WD_MEAN'] <= -361)].WD_MEAN"
   ]
  },
  {
   "cell_type": "code",
   "execution_count": null,
   "id": "c0515e9d",
   "metadata": {},
   "outputs": [],
   "source": [
    "newdata4[(newdata4['WD_MEAN'] < 360)].dropna().WD_MEAN.plot()"
   ]
  },
  {
   "cell_type": "code",
   "execution_count": null,
   "id": "6ff635d9",
   "metadata": {},
   "outputs": [],
   "source": [
    "#newdata=newdata.drop(columns=['ALT_diff','CO2_diff','CH4_diff'],axis=1)\n",
    "newdata2=newdata[~(newdata['WD_MEAN'] <= -361)].dropna()\n",
    "newdata3=newdata2[~(newdata2['WS_MEAN'] <= -1993)].dropna()\n",
    "newdata4=newdata3[~(newdata3['CO2_MEAN'] <= 0)].dropna()\n",
    "newdata6=newdata5[~(newdata5['CH4_MIXING_RATIO_MEAN'] <= -1018)].dropna()\n",
    "newdata7=newdata6[~(newdata6['SW_IN_MEAN'] <= -6)].dropna()\n",
    "newdata8=newdata7[~(newdata7['G_1_1_1'] <= 0)].dropna()\n",
    "newdata9=newdata8[~(newdata8['G_1_1_3'] <= 0)].dropna()\n",
    "newdata10=newdata9[~(newdata9['CO2_MEAN'] > 586)]\n",
    "del newdata2, newdata3, newdata4, newdata5, newdata6, newdata7, newdata8, newdata9"
   ]
  },
  {
   "cell_type": "code",
   "execution_count": null,
   "id": "d8436d91",
   "metadata": {},
   "outputs": [],
   "source": [
    "newdata[~(newdata['WD_MEAN'] <= -361)]"
   ]
  },
  {
   "cell_type": "code",
   "execution_count": null,
   "id": "337d0fa4",
   "metadata": {},
   "outputs": [],
   "source": [
    "newdata[~(newdata['WD_MEAN'] <= -1725)].dropna().WD_MEAN.min()"
   ]
  },
  {
   "cell_type": "code",
   "execution_count": null,
   "id": "3527e351",
   "metadata": {},
   "outputs": [],
   "source": [
    "newdata3.max()"
   ]
  },
  {
   "cell_type": "code",
   "execution_count": null,
   "id": "04ee64a4",
   "metadata": {},
   "outputs": [],
   "source": [
    "#newdata10[~(newdata10['CO2_MEAN'] < 0)].dropna().CO2_MEAN.min()\n",
    "newdata[~(newdata['FCH4_1'] <= -500)].dropna().FCH4_1.min()\n",
    "newdata[~(newdata['FCH4_1'] > 500)].dropna().FCH4_1.max()"
   ]
  },
  {
   "cell_type": "code",
   "execution_count": null,
   "id": "9adef772",
   "metadata": {},
   "outputs": [],
   "source": [
    "sns.kdeplot(newdata.WD_MEAN)"
   ]
  },
  {
   "cell_type": "code",
   "execution_count": null,
   "id": "38ce9ffb",
   "metadata": {},
   "outputs": [],
   "source": [
    "plt.plot(newdata3.FCH4_1.values)"
   ]
  },
  {
   "cell_type": "code",
   "execution_count": null,
   "id": "2c5a6c10",
   "metadata": {},
   "outputs": [],
   "source": [
    "plt.hist(newdata3['FCH4_1'].values)"
   ]
  },
  {
   "cell_type": "code",
   "execution_count": null,
   "id": "59b4ab6c",
   "metadata": {},
   "outputs": [],
   "source": [
    "newdata3['FCH4_1'].std()"
   ]
  },
  {
   "cell_type": "code",
   "execution_count": null,
   "id": "55a5717c",
   "metadata": {},
   "outputs": [],
   "source": [
    "newdata.drop(columns=['CO2_MEAN'],axis=1)"
   ]
  },
  {
   "cell_type": "markdown",
   "id": "67a2bf4e-8d47-4b93-b903-61739f904c11",
   "metadata": {},
   "source": [
    "## Model Tuning"
   ]
  },
  {
   "cell_type": "markdown",
   "id": "01f57adf-b5ce-4770-8eac-1e241400faf8",
   "metadata": {
    "jp-MarkdownHeadingCollapsed": true
   },
   "source": [
    "### Archived"
   ]
  },
  {
   "cell_type": "markdown",
   "id": "11311dc4-08e9-460d-8385-17c5d2c77127",
   "metadata": {
    "jp-MarkdownHeadingCollapsed": true
   },
   "source": [
    "#### Archived"
   ]
  },
  {
   "cell_type": "code",
   "execution_count": null,
   "id": "99b0670b-3bf9-4548-81ef-32827d11179c",
   "metadata": {},
   "outputs": [],
   "source": [
    "Xalt.shape"
   ]
  },
  {
   "cell_type": "code",
   "execution_count": null,
   "id": "41a25b0c-b4e2-4392-b0b0-d8b568ba008c",
   "metadata": {},
   "outputs": [],
   "source": [
    "inputs = keras.Input(shape=(trainXscaltref.shape[1],trainXscaltref.shape[2]))#, X_train_reframed_sup.shape[2]))#, X_train_reframed_sup.shape[3]))\n",
    "inputs.shape\n",
    "\n",
    "inputs = keras.Input(shape=(trainXscch4ref.shape[0], trainXscch4ref.shape[1],trainXscch4ref.shape[2]))#, Xch4train.shape[3], Xch4train.shape[4]))\n",
    "inputs.shape\n",
    "\n",
    "inputs = keras.Input(shape=(trainXscco2ref.shape[1],trainXscco2ref.shape[2]))#, X_train_reframed_sup.shape[2]))#, X_train_reframed_sup.shape[3]))\n",
    "inputs.shape"
   ]
  },
  {
   "cell_type": "code",
   "execution_count": null,
   "id": "66f3a6ea-32ef-4d23-8ae3-756687555600",
   "metadata": {},
   "outputs": [],
   "source": []
  },
  {
   "cell_type": "code",
   "execution_count": null,
   "id": "e8f200f7-2ad4-4e06-bf53-7179a7ec4913",
   "metadata": {},
   "outputs": [],
   "source": [
    "validx.shape, validy.shape"
   ]
  },
  {
   "cell_type": "code",
   "execution_count": null,
   "id": "690a0454-14c3-42ca-a85d-b1bf52d14596",
   "metadata": {},
   "outputs": [],
   "source": [
    "inputs = keras.Input(shape=(trainx.shape[0], trainx.shape[1],trainx.shape[4], trainx.shape[2], trainx.shape[3]))\n",
    "inputs.shape"
   ]
  },
  {
   "cell_type": "code",
   "execution_count": null,
   "id": "ba9da216-0473-4d46-bfad-0ae846d213b8",
   "metadata": {},
   "outputs": [],
   "source": [
    "targets = keras.Input(shape=(trainy.shape[0],trainy.shape[1],trainy.shape[4], trainy.shape[2],trainy.shape[3]))\n",
    "targets.shape"
   ]
  },
  {
   "cell_type": "code",
   "execution_count": null,
   "id": "51d1efc7-4999-4fd0-8f4c-2c9515eb8800",
   "metadata": {},
   "outputs": [],
   "source": [
    "inputs2 = keras.Input(shape=(validx.shape[0],validx.shape[1],validx.shape[4], validx.shape[2],validx.shape[3]))\n",
    "inputs2.shape"
   ]
  },
  {
   "cell_type": "code",
   "execution_count": null,
   "id": "da447396-ae33-4091-972e-93595d760b74",
   "metadata": {},
   "outputs": [],
   "source": [
    "targets2 = keras.Input(shape=(validy.shape[0],validy.shape[1],validy.shape[4], validy.shape[2],validy.shape[3]))\n",
    "targets2.shape"
   ]
  },
  {
   "cell_type": "code",
   "execution_count": null,
   "id": "bcbd3c49-6711-49c1-bcf5-3ee537c623a7",
   "metadata": {},
   "outputs": [],
   "source": [
    "inputs3 = keras.Input(shape=(testx.shape[0],testx.shape[1],testx.shape[4], testx.shape[2],testx.shape[3]))\n",
    "inputs3.shape"
   ]
  },
  {
   "cell_type": "code",
   "execution_count": null,
   "id": "e78b47aa-4973-4e80-9be4-4a999e33c48b",
   "metadata": {},
   "outputs": [],
   "source": [
    "targets3 = keras.Input(shape=(testy.shape[0],testy.shape[1],testy.shape[4], testy.shape[2],testy.shape[3]))\n",
    "targets3.shape"
   ]
  },
  {
   "cell_type": "code",
   "execution_count": null,
   "id": "79b356df-06d3-4dcb-8103-b04a367101db",
   "metadata": {},
   "outputs": [],
   "source": [
    "inputs.shape, trainx.shape, targets.shape, trainy.shape"
   ]
  },
  {
   "cell_type": "code",
   "execution_count": null,
   "id": "ff8a34cf-3ab9-491e-b10e-ba9c055c8c92",
   "metadata": {},
   "outputs": [],
   "source": [
    "validx.shape, validy.shape"
   ]
  },
  {
   "cell_type": "code",
   "execution_count": null,
   "id": "d8b41765-002c-4607-9c87-4f540205012e",
   "metadata": {},
   "outputs": [],
   "source": [
    "trainx=tf.reshape(trainx,[1,trainx.shape[0], trainx.shape[1],trainx.shape[4],trainx.shape[2], trainx.shape[3]])"
   ]
  },
  {
   "cell_type": "code",
   "execution_count": null,
   "id": "277ce134-eace-4a7f-9dad-542a0c95be36",
   "metadata": {},
   "outputs": [],
   "source": [
    "validx=tf.reshape(validx,[1,validx.shape[0], validx.shape[1],validx.shape[4], validx.shape[2], validx.shape[3]])"
   ]
  },
  {
   "cell_type": "code",
   "execution_count": null,
   "id": "11c4e7c4-e7ca-4f0d-a0f3-3695f83fd276",
   "metadata": {},
   "outputs": [],
   "source": [
    "testx=tf.reshape(testx,[1,testx.shape[0], testx.shape[1],testx.shape[4], testx.shape[2], testx.shape[3]])"
   ]
  },
  {
   "cell_type": "code",
   "execution_count": null,
   "id": "0ad6fbb7-3da1-470f-9069-6022a57be8ef",
   "metadata": {},
   "outputs": [],
   "source": [
    "trainy=tf.reshape(trainy,[1,trainy.shape[0], trainy.shape[1],trainy.shape[4], trainy.shape[2], trainy.shape[3]])"
   ]
  },
  {
   "cell_type": "code",
   "execution_count": null,
   "id": "aa388723-fd1c-4bca-9c23-382eff38ae7a",
   "metadata": {},
   "outputs": [],
   "source": [
    "validy=tf.reshape(validy,[1,trainy.shape[0], validy.shape[1],validy.shape[4], validy.shape[2], validy.shape[3]])"
   ]
  },
  {
   "cell_type": "code",
   "execution_count": null,
   "id": "536a666c-58e9-490b-93cc-5c8233dfc2da",
   "metadata": {},
   "outputs": [],
   "source": [
    "testy=tf.reshape(testy,[1,testy.shape[0], testy.shape[1],testy.shape[4], testy.shape[2], testy.shape[3]])"
   ]
  },
  {
   "cell_type": "code",
   "execution_count": null,
   "id": "c8845245-5900-43a2-ade2-cd4b66141e72",
   "metadata": {},
   "outputs": [],
   "source": [
    "trainXscrefr.shape"
   ]
  },
  {
   "cell_type": "code",
   "execution_count": null,
   "id": "935e97a1-cf8f-41c2-8d5d-92fc9fa05a90",
   "metadata": {},
   "outputs": [],
   "source": []
  },
  {
   "cell_type": "markdown",
   "id": "1dc07ea8",
   "metadata": {
    "jp-MarkdownHeadingCollapsed": true
   },
   "source": [
    "#### Start"
   ]
  },
  {
   "cell_type": "code",
   "execution_count": null,
   "id": "b27104c4-f656-461c-b3a4-30b28dad8024",
   "metadata": {
    "jupyter": {
     "source_hidden": true
    }
   },
   "outputs": [],
   "source": [
    "print(list(divisorGenerator(132*8*8291)))"
   ]
  },
  {
   "cell_type": "code",
   "execution_count": null,
   "id": "22e74af3-af03-41b7-b61b-cb5ea8857517",
   "metadata": {
    "jupyter": {
     "source_hidden": true
    },
    "tags": []
   },
   "outputs": [],
   "source": [
    "initinputs=Xtrainsc_sup.values.reshape(8291, 53, 94, 20, 1)#15,30,7129,154,1)"
   ]
  },
  {
   "cell_type": "code",
   "execution_count": null,
   "id": "18167640-b411-4db1-8ba9-02992511f4fe",
   "metadata": {
    "jupyter": {
     "source_hidden": true
    },
    "tags": []
   },
   "outputs": [],
   "source": [
    "initinputs.shape"
   ]
  },
  {
   "cell_type": "code",
   "execution_count": null,
   "id": "e29fb9e0-b115-4515-a4d2-caf63930bb02",
   "metadata": {
    "jupyter": {
     "source_hidden": true
    },
    "tags": []
   },
   "outputs": [],
   "source": [
    "#keras.Input(shape=(inputs.shape[0],inputs.shape[1], inputs.shape[2],inputs.shape[3], inputs.shape[4]))#, df2.shape[5]))\n",
    "#inputs"
   ]
  },
  {
   "cell_type": "code",
   "execution_count": null,
   "id": "643d0652-a033-48d4-b970-8f734346fd8a",
   "metadata": {
    "jupyter": {
     "source_hidden": true
    },
    "tags": []
   },
   "outputs": [],
   "source": [
    "# model.layers[0].input_shape"
   ]
  },
  {
   "cell_type": "code",
   "execution_count": null,
   "id": "2409fbb7-96e1-43ba-b496-580c4f21881d",
   "metadata": {
    "jupyter": {
     "source_hidden": true
    },
    "tags": []
   },
   "outputs": [],
   "source": [
    "#########If data_format='channels_first' 6D tensor with shape: (samples, time, channels, rows, cols, depth)\n",
    "#Input shape:\n",
    "#If data_format='channels_last' 5D tensor with shape: (samples <inputs takes care of batch_size for us with None>, \n",
    "#time, rows, cols, depth, channels)"
   ]
  },
  {
   "cell_type": "markdown",
   "id": "3dd26506-f6d4-4633-ae14-e8d9368c4621",
   "metadata": {},
   "source": [
    "None, 382, None, 552, 4, 6, 128 </br>\n",
    "timestep, width, height, number ofthe spectral band, kernel size and depth"
   ]
  },
  {
   "cell_type": "markdown",
   "id": "472667bb",
   "metadata": {
    "jp-MarkdownHeadingCollapsed": true
   },
   "source": [
    "#### Start here"
   ]
  },
  {
   "cell_type": "code",
   "execution_count": null,
   "id": "5610ad64",
   "metadata": {},
   "outputs": [],
   "source": [
    "file = os.path.join('/Users/bgay/Downloads/tcfmch4.pkl')\n",
    "with open(file, 'rb') as f:\n",
    "    df=pickle.load(f)"
   ]
  },
  {
   "cell_type": "code",
   "execution_count": null,
   "id": "8bb900e9",
   "metadata": {},
   "outputs": [],
   "source": [
    "df"
   ]
  },
  {
   "cell_type": "code",
   "execution_count": null,
   "id": "eb8a6b6a",
   "metadata": {},
   "outputs": [],
   "source": [
    "file = os.path.join('/Users/bgay/Downloads/tcfmch4.pkl')\n",
    "with open(file, 'rb') as f:\n",
    "    df2=pickle.load(f)"
   ]
  },
  {
   "cell_type": "code",
   "execution_count": null,
   "id": "bc844cb7",
   "metadata": {},
   "outputs": [],
   "source": [
    "df2"
   ]
  },
  {
   "cell_type": "code",
   "execution_count": null,
   "id": "f871fbbe",
   "metadata": {},
   "outputs": [],
   "source": [
    "df2=df.resample('D').mean()"
   ]
  },
  {
   "cell_type": "code",
   "execution_count": null,
   "id": "4565154e",
   "metadata": {},
   "outputs": [],
   "source": [
    "plt.plot(df2.ch4)"
   ]
  },
  {
   "cell_type": "code",
   "execution_count": null,
   "id": "7af840a1",
   "metadata": {},
   "outputs": [],
   "source": [
    "df"
   ]
  },
  {
   "cell_type": "code",
   "execution_count": null,
   "id": "28496c75",
   "metadata": {},
   "outputs": [],
   "source": [
    "df2"
   ]
  },
  {
   "cell_type": "code",
   "execution_count": null,
   "id": "b748997e",
   "metadata": {},
   "outputs": [],
   "source": [
    "ch4=series_to_supervised(df2,30,30)"
   ]
  },
  {
   "cell_type": "code",
   "execution_count": null,
   "id": "3db11ee6",
   "metadata": {},
   "outputs": [],
   "source": [
    "ch4=ch4.sort_index()"
   ]
  },
  {
   "cell_type": "code",
   "execution_count": null,
   "id": "25e7ca4c",
   "metadata": {},
   "outputs": [],
   "source": [
    "df2"
   ]
  },
  {
   "cell_type": "code",
   "execution_count": null,
   "id": "94800088",
   "metadata": {},
   "outputs": [],
   "source": [
    "ch4"
   ]
  },
  {
   "cell_type": "code",
   "execution_count": null,
   "id": "481d6307",
   "metadata": {},
   "outputs": [],
   "source": []
  },
  {
   "cell_type": "code",
   "execution_count": null,
   "id": "9e636e2b",
   "metadata": {},
   "outputs": [],
   "source": [
    "df3=df2.values"
   ]
  },
  {
   "cell_type": "code",
   "execution_count": null,
   "id": "22b2ff2b",
   "metadata": {},
   "outputs": [],
   "source": [
    "X, y = split_sequence(df3, 365)"
   ]
  },
  {
   "cell_type": "code",
   "execution_count": null,
   "id": "5fa8127a",
   "metadata": {},
   "outputs": [],
   "source": [
    "X.shape, y.shape"
   ]
  },
  {
   "cell_type": "code",
   "execution_count": null,
   "id": "402955ae",
   "metadata": {},
   "outputs": [],
   "source": [
    "# reshape from [samples, timesteps] into [samples, timesteps, features]\n",
    "n_features = 1\n",
    "X = X.reshape((X.shape[0], X.shape[1], n_features))"
   ]
  },
  {
   "cell_type": "code",
   "execution_count": null,
   "id": "c6befef2",
   "metadata": {},
   "outputs": [],
   "source": [
    "X.shape, y.shape"
   ]
  },
  {
   "cell_type": "code",
   "execution_count": null,
   "id": "fa4b8bcf",
   "metadata": {},
   "outputs": [],
   "source": []
  },
  {
   "cell_type": "code",
   "execution_count": null,
   "id": "c9cb1ff1",
   "metadata": {},
   "outputs": [],
   "source": [
    "ch4"
   ]
  },
  {
   "cell_type": "code",
   "execution_count": null,
   "id": "7a955bbd",
   "metadata": {},
   "outputs": [],
   "source": [
    "ch4.iloc[:,-30:]"
   ]
  },
  {
   "cell_type": "code",
   "execution_count": null,
   "id": "62a8e41f",
   "metadata": {},
   "outputs": [],
   "source": []
  },
  {
   "cell_type": "markdown",
   "id": "01d3d1a3",
   "metadata": {
    "jp-MarkdownHeadingCollapsed": true
   },
   "source": [
    "#### Prepare"
   ]
  },
  {
   "cell_type": "code",
   "execution_count": null,
   "id": "3029943e",
   "metadata": {},
   "outputs": [],
   "source": [
    "df2"
   ]
  },
  {
   "cell_type": "code",
   "execution_count": null,
   "id": "b95c010b",
   "metadata": {},
   "outputs": [],
   "source": [
    "trainX,testX,trainy,testy = train_test_split(df, list(range(df.shape[0])), test_size=0.1, shuffle=False)\n",
    "trainX, validX, trainy, validy = train_test_split(trainX, trainy, test_size=0.2, shuffle=False)"
   ]
  },
  {
   "cell_type": "code",
   "execution_count": null,
   "id": "a9fc7b20",
   "metadata": {},
   "outputs": [],
   "source": [
    "trainy=np.array(trainy).reshape(3416,1)\n",
    "validy=np.array(validy).reshape(854,1)\n",
    "testy=np.array(testy).reshape(475,1)"
   ]
  },
  {
   "cell_type": "code",
   "execution_count": null,
   "id": "febedb39",
   "metadata": {},
   "outputs": [],
   "source": [
    "# Xtrain, Xtest, ytrain, ytest = train_test_split(X, y, test_size=0.1, random_state=1)\n",
    "# Xtrain, Xvalid, ytrain, yvalid = train_test_split(Xtrain, ytrain, test_size=0.05, random_state=1) # 0.25 x 0.8 = 0.2"
   ]
  },
  {
   "cell_type": "code",
   "execution_count": null,
   "id": "5ef5478c",
   "metadata": {},
   "outputs": [],
   "source": [
    "# trainX, testX, trainy, testy = train_test_split(df2.iloc[:,:-365], df2.iloc[:,-365:], test_size=0.1)\n",
    "# trainX, validX, trainy, validy = train_test_split(trainX, trainy, test_size=0.2)"
   ]
  },
  {
   "cell_type": "code",
   "execution_count": null,
   "id": "6abe9331",
   "metadata": {},
   "outputs": [],
   "source": [
    "# trainX, trainy=df.T.iloc[:,:3285],df.T.iloc[:,3285:]\n",
    "# validX, validy=df.T.iloc[:,3285:4380],df.T.iloc[:,3285:4380]\n",
    "# testX, testy=df.T.iloc[:,:-365],df.T.iloc[:,-365:]"
   ]
  },
  {
   "cell_type": "code",
   "execution_count": null,
   "id": "c071b5f3",
   "metadata": {},
   "outputs": [],
   "source": [
    "print(trainX.shape), print(trainy.shape); print(validX.shape), print(validy.shape); print(testX.shape), print(testy.shape);"
   ]
  },
  {
   "cell_type": "code",
   "execution_count": null,
   "id": "b5394802",
   "metadata": {},
   "outputs": [],
   "source": [
    "# Need to scale the features for neural networks, otherwise the training doesn't converge.\n",
    "scaler = StandardScaler()\n",
    "trainXsc = scaler.fit_transform(trainX)"
   ]
  },
  {
   "cell_type": "code",
   "execution_count": null,
   "id": "58137224",
   "metadata": {},
   "outputs": [],
   "source": [
    "validXsc = scaler.transform(validX)"
   ]
  },
  {
   "cell_type": "code",
   "execution_count": null,
   "id": "9f64a64c",
   "metadata": {},
   "outputs": [],
   "source": [
    "testXsc = scaler.transform(testX)"
   ]
  },
  {
   "cell_type": "code",
   "execution_count": null,
   "id": "9113789a",
   "metadata": {},
   "outputs": [],
   "source": [
    "print(trainXsc.shape), print(trainy.shape); print(validXsc.shape), print(validy.shape); print(testXsc.shape), print(testy.shape);"
   ]
  },
  {
   "cell_type": "code",
   "execution_count": null,
   "id": "bab2df88",
   "metadata": {},
   "outputs": [],
   "source": [
    "file = os.path.join('/Users/bgay/tcfm_ch4_2.pkl')\n",
    "with open(file, 'rb') as f:\n",
    "    ch4=pickle.load(f)"
   ]
  },
  {
   "cell_type": "code",
   "execution_count": null,
   "id": "049414bd",
   "metadata": {},
   "outputs": [],
   "source": [
    "ch4_2=ch4.unstack()"
   ]
  },
  {
   "cell_type": "code",
   "execution_count": null,
   "id": "35597748",
   "metadata": {},
   "outputs": [],
   "source": [
    "del ch4"
   ]
  },
  {
   "cell_type": "code",
   "execution_count": null,
   "id": "62b26264",
   "metadata": {},
   "outputs": [],
   "source": [
    "ch4_2"
   ]
  },
  {
   "cell_type": "code",
   "execution_count": null,
   "id": "206ab4c9",
   "metadata": {},
   "outputs": [],
   "source": [
    "del ch4_2"
   ]
  },
  {
   "cell_type": "code",
   "execution_count": null,
   "id": "f99ce683",
   "metadata": {},
   "outputs": [],
   "source": [
    "ch4_2.y.shape, ch4_2.x.shape"
   ]
  },
  {
   "cell_type": "code",
   "execution_count": null,
   "id": "9a60f4e2",
   "metadata": {},
   "outputs": [],
   "source": [
    "2188*871"
   ]
  },
  {
   "cell_type": "code",
   "execution_count": null,
   "id": "6522ee5d",
   "metadata": {},
   "outputs": [],
   "source": [
    "# Reshaped for LSTM later on...renamed to reframed to allow rescaled venture through regression\n",
    "trainXscref=trainXsc.reshape(3416, 628766, 1, 1);\n",
    "trainyref=trainy.reshape(3416, 1, 1, 1);\n",
    "validXscref=validXsc.reshape(854, 628766, 1, 1);\n",
    "validyref=validy.reshape(854, 1, 1, 1);\n",
    "testXscref=testXsc.reshape(475, 628766, 1, 1);\n",
    "testyref=testy.reshape(475, 1, 1, 1);"
   ]
  },
  {
   "cell_type": "code",
   "execution_count": null,
   "id": "eb21edbe",
   "metadata": {},
   "outputs": [],
   "source": [
    "trainXscref.shape, trainyref.shape, validXscref.shape, validyref.shape, testXscref.shape, testyref.shape"
   ]
  },
  {
   "cell_type": "code",
   "execution_count": null,
   "id": "ffc94ea6",
   "metadata": {},
   "outputs": [],
   "source": [
    "trainXscref=np.expand_dims(trainXscref,axis=-1)\n",
    "trainyref=np.expand_dims(trainyref,axis=-1)\n",
    "validXscref=np.expand_dims(validXscref,axis=-1)\n",
    "validyref=np.expand_dims(validyref,axis=-1)\n",
    "testXscref=np.expand_dims(testXscref,axis=-1)\n",
    "testyref=np.expand_dims(testyref,axis=-1)"
   ]
  },
  {
   "cell_type": "code",
   "execution_count": null,
   "id": "64e2d3c1",
   "metadata": {},
   "outputs": [],
   "source": [
    "# trainXscrefr=np.expand_dims(trainXscref,2)\n",
    "# trainyrefr=np.expand_dims(trainyref,2)\n",
    "# validXscrefr=np.expand_dims(validXscref,2)\n",
    "# validyrefr=np.expand_dims(validyref,2)\n",
    "# testXscrefr=np.expand_dims(testXscref,2)\n",
    "# testyrefr=np.expand_dims(testyref,2)"
   ]
  },
  {
   "cell_type": "code",
   "execution_count": null,
   "id": "ae2ad68e",
   "metadata": {},
   "outputs": [],
   "source": [
    "trainXscref.shape"
   ]
  },
  {
   "cell_type": "code",
   "execution_count": null,
   "id": "6d3a2105",
   "metadata": {},
   "outputs": [],
   "source": [
    "trainyref.shape"
   ]
  },
  {
   "cell_type": "code",
   "execution_count": null,
   "id": "b4b807e0",
   "metadata": {},
   "outputs": [],
   "source": []
  },
  {
   "cell_type": "markdown",
   "id": "47f2f340-fc9a-468d-8274-c094cb880a99",
   "metadata": {
    "jp-MarkdownHeadingCollapsed": true
   },
   "source": [
    "#### Windowing"
   ]
  },
  {
   "cell_type": "code",
   "execution_count": null,
   "id": "c208a563-6ad0-4afe-a263-2d5e69c6475c",
   "metadata": {},
   "outputs": [],
   "source": [
    "train_df=pd.DataFrame(trainXch4.reshape(3285,1856*35*35))\n",
    "train_num_features = train_df.shape[1]\n",
    "valid_df=pd.DataFrame(validXch4.reshape(730,1856*35*35))\n",
    "valid_num_features = valid_df.shape[1]\n",
    "test_df=pd.DataFrame(testXch4.reshape(730,1856*35*35))\n",
    "test_num_features = test_df.shape[1]"
   ]
  },
  {
   "cell_type": "code",
   "execution_count": null,
   "id": "a5f67c91-c31d-4880-ae3e-ca6fef292179",
   "metadata": {},
   "outputs": [],
   "source": [
    "class WindowGenerator():\n",
    "  def __init__(self, input_width, label_width, shift,\n",
    "               train_df=train_df, val_df=valid_df, test_df=test_df,\n",
    "               label_columns=None):\n",
    "    # Store the raw data.\n",
    "    self.train_df = train_df\n",
    "    self.val_df = val_df\n",
    "    self.test_df = test_df\n",
    "\n",
    "    # Work out the label column indices.\n",
    "    self.label_columns = label_columns\n",
    "    if label_columns is not None:\n",
    "        self.label_columns_indices = {name: i for i, name in\n",
    "                                    enumerate(label_columns)}\n",
    "    self.column_indices = {name: i for i, name in\n",
    "                           enumerate(train_df.columns)}\n",
    "    #self.column_indices = {name: i for i, name in\n",
    "    #                       enumerate(train_df.columns)}\n",
    "    #self.column_indices = {name: i for i, name in\n",
    "    #                       enumerate(train_df.columns)}\n",
    "\n",
    "    # Work out the window parameters.\n",
    "    self.input_width = input_width\n",
    "    self.label_width = label_width\n",
    "    self.shift = shift\n",
    "\n",
    "    self.total_window_size = input_width + shift\n",
    "\n",
    "    self.input_slice = slice(0, input_width)\n",
    "    self.input_indices = np.arange(self.total_window_size)[self.input_slice]\n",
    "\n",
    "    self.label_start = self.total_window_size - self.label_width\n",
    "    self.labels_slice = slice(self.label_start, None)\n",
    "    self.label_indices = np.arange(self.total_window_size)[self.labels_slice]\n",
    "\n",
    "  def __repr__(self):\n",
    "    return '\\n'.join([\n",
    "        f'Total window size: {self.total_window_size}',\n",
    "        f'Input indices: {self.input_indices}',\n",
    "        f'Label indices: {self.label_indices}',\n",
    "        f'Label column name(s): {self.label_columns}'])"
   ]
  },
  {
   "cell_type": "code",
   "execution_count": null,
   "id": "c7f63135-b287-4eb8-9036-61b8c0ac131c",
   "metadata": {},
   "outputs": [],
   "source": [
    "#predict next day\n",
    "w1 = WindowGenerator(input_width=3284, label_width=1, shift=1)\n",
    "w1"
   ]
  },
  {
   "cell_type": "code",
   "execution_count": null,
   "id": "b33b134f-4c8f-4c93-ad5a-9c7240340a4e",
   "metadata": {},
   "outputs": [],
   "source": [
    "w1.input_width"
   ]
  },
  {
   "cell_type": "code",
   "execution_count": null,
   "id": "15039816-dfdc-46dc-a237-21550c808c49",
   "metadata": {},
   "outputs": [],
   "source": [
    "train_df.shape, trainXch4.shape"
   ]
  },
  {
   "cell_type": "code",
   "execution_count": null,
   "id": "cf74bb20-e779-4ba1-b658-cfae8ca23957",
   "metadata": {},
   "outputs": [],
   "source": [
    "def split_window(self, features):\n",
    "  inputs = features[:, self.input_slice, :]\n",
    "  labels = features[:, self.labels_slice, :]\n",
    "  if self.label_columns is not None:\n",
    "    labels = tf.stack(\n",
    "        [labels[:, :, self.column_indices[name]] for name in self.label_columns],\n",
    "        axis=-1)\n",
    "\n",
    "  # Slicing doesn't preserve static shape information, so set the shapes\n",
    "  # manually. This way the `tf.data.Datasets` are easier to inspect.\n",
    "  inputs.set_shape([None, self.input_width, None])\n",
    "  labels.set_shape([None, self.label_width, None])\n",
    "\n",
    "  return inputs, labels\n",
    "\n",
    "WindowGenerator.split_window = split_window"
   ]
  },
  {
   "cell_type": "code",
   "execution_count": null,
   "id": "c71b7c65-2604-4ec8-a5d5-a47a4b6a5421",
   "metadata": {},
   "outputs": [],
   "source": [
    "# Stack three slices, the length of the total window.\n",
    "#example_window = tf.stack([np.array(trainXch4df[:w1.total_window_size])])\n",
    "\n",
    "example_inputs, example_labels = w1.split_window(tf.reshape(train_df,[1856,3321,1225]))\n",
    "\n",
    "print('All shapes are: (batch, time, features)')\n",
    "print(f'Window shape: {example_window.shape}')\n",
    "print(f'Inputs shape: {example_inputs.shape}')\n",
    "print(f'Labels shape: {example_labels.shape}')\n",
    "\n",
    "\n",
    "# # Stack three slices, the length of the total window.\n",
    "# example_window = tf.stack([np.array(trainXch4df[-w1.total_window_size:]),\n",
    "#                            np.array(trainXch4df[2-w1.total_window_size:]),\n",
    "#                            np.array(trainXch4df[3-w1.total_window_size:])])\n",
    "\n",
    "# example_inputs, example_labels = w1.split_window(example_window)\n",
    "\n",
    "# print('All shapes are: (batch, time, features)')\n",
    "# print(f'Window shape: {example_window.shape}')\n",
    "# print(f'Inputs shape: {example_inputs.shape}')\n",
    "# print(f'Labels shape: {example_labels.shape}')"
   ]
  },
  {
   "cell_type": "code",
   "execution_count": null,
   "id": "05f1c0f3-5aaa-4387-8b72-8adc470d08fa",
   "metadata": {},
   "outputs": [],
   "source": [
    "w1.example = example_inputs, example_labels"
   ]
  },
  {
   "cell_type": "code",
   "execution_count": null,
   "id": "fb7f2aaf-f937-4cd3-9bf6-39fd398d7794",
   "metadata": {},
   "outputs": [],
   "source": [
    "def make_dataset(self, data):\n",
    "  data = np.array(data, dtype=np.float32)\n",
    "  ds = tf.keras.utils.timeseries_dataset_from_array(\n",
    "      data=data,\n",
    "      targets=None,\n",
    "      sequence_length=self.total_window_size,\n",
    "      sequence_stride=1,\n",
    "      shuffle=False,\n",
    "      batch_size=1,)\n",
    "\n",
    "  ds = ds.map(self.split_window)\n",
    "\n",
    "  return ds\n",
    "\n",
    "WindowGenerator.make_dataset = make_dataset"
   ]
  },
  {
   "cell_type": "code",
   "execution_count": null,
   "id": "fef9ed92-d0b5-46b4-9e71-03803b7c6725",
   "metadata": {},
   "outputs": [],
   "source": [
    "@property\n",
    "def train(self):\n",
    "  return self.make_dataset(self.train_df)\n",
    "\n",
    "@property\n",
    "def val(self):\n",
    "  return self.make_dataset(self.val_df)\n",
    "\n",
    "@property\n",
    "def test(self):\n",
    "  return self.make_dataset(self.test_df)\n",
    "\n",
    "@property\n",
    "def example(self):\n",
    "  \"\"\"Get and cache an example batch of `inputs, labels` for plotting.\"\"\"\n",
    "  result = getattr(self, '_example', None)\n",
    "  if result is None:\n",
    "    # No example batch was found, so get one from the `.train` dataset\n",
    "    result = next(iter(self.train))\n",
    "    # And cache it for next time\n",
    "    self._example = result\n",
    "  return result\n",
    "\n",
    "WindowGenerator.train = train\n",
    "WindowGenerator.val = val\n",
    "WindowGenerator.test = test\n",
    "WindowGenerator.example = example"
   ]
  },
  {
   "cell_type": "code",
   "execution_count": null,
   "id": "884d7baa-e2ad-4537-9761-011da178e612",
   "metadata": {},
   "outputs": [],
   "source": [
    "for example_inputs, example_labels in w1.train.take(1):\n",
    "    #print(f'Inputs shape (batch, time, features): {example_inputs.shape}')\n",
    "    #print(f'Labels shape (batch, time, features): {example_labels.shape}')\n",
    "    print(f'Inputs shape (batch, time, features): {[3285,1856,35,35,1]}')\n",
    "    print(f'Labels shape (batch, time, features): {[3285,1856,35,35,1]}')"
   ]
  },
  {
   "cell_type": "code",
   "execution_count": null,
   "id": "8b078c5a-7dbc-4861-939e-59201c21063b",
   "metadata": {},
   "outputs": [],
   "source": [
    "single_step_window = WindowGenerator(\n",
    "    input_width=3284, label_width=1, shift=1)\n",
    "single_step_window"
   ]
  },
  {
   "cell_type": "code",
   "execution_count": null,
   "id": "a1f30e0c-017a-42c7-b39a-f92335674126",
   "metadata": {},
   "outputs": [],
   "source": [
    "for example_inputs, example_labels in single_step_window.train.take(1):\n",
    "  print(f'Inputs shape (batch, time, features): {example_inputs.shape}')\n",
    "  print(f'Labels shape (batch, time, features): {example_labels.shape}')"
   ]
  },
  {
   "cell_type": "code",
   "execution_count": null,
   "id": "3c93d0b7-5777-4f7c-a7f9-bcc2df83e052",
   "metadata": {},
   "outputs": [],
   "source": [
    "class Baseline(tf.keras.Model):\n",
    "  def __init__(self, label_index=None):\n",
    "    super().__init__()\n",
    "    self.label_index = label_index\n",
    "\n",
    "  def call(self, inputs):\n",
    "    if self.label_index is None:\n",
    "      return inputs\n",
    "    result = inputs[:, :, self.label_index]\n",
    "    return result[:, :, tf.newaxis]"
   ]
  },
  {
   "cell_type": "code",
   "execution_count": null,
   "id": "4a69aa92-6ba9-442a-809b-beae587d3b1b",
   "metadata": {},
   "outputs": [],
   "source": [
    "baseline = Baseline(label_index=column_indices)\n",
    "\n",
    "baseline.compile(loss=tf.keras.losses.MeanSquaredError(),\n",
    "                 metrics=[tf.keras.metrics.MeanAbsoluteError()])\n",
    "\n",
    "val_performance = {}\n",
    "performance = {}\n",
    "val_performance['Baseline'] = baseline.evaluate(single_step_window.val)\n",
    "performance['Baseline'] = baseline.evaluate(single_step_window.test, verbose=0)"
   ]
  },
  {
   "cell_type": "code",
   "execution_count": null,
   "id": "76c0e307-0a87-45e5-a09d-bd6f178679b6",
   "metadata": {},
   "outputs": [],
   "source": [
    "wide_window = WindowGenerator(\n",
    "    input_width=2920, label_width=24, shift=1)\n",
    "\n",
    "wide_window"
   ]
  },
  {
   "cell_type": "code",
   "execution_count": null,
   "id": "771fb231-04f6-4d66-9ce6-98dce0602230",
   "metadata": {},
   "outputs": [],
   "source": [
    "print('Input shape:', wide_window.example[0].shape)\n",
    "print('Output shape:', baseline(wide_window.example[0]).shape)"
   ]
  },
  {
   "cell_type": "code",
   "execution_count": null,
   "id": "7e0c482e-7ceb-4d04-89cd-0f63369c99e5",
   "metadata": {},
   "outputs": [],
   "source": []
  },
  {
   "cell_type": "code",
   "execution_count": null,
   "id": "88fd1d7b-5f2f-46eb-8615-d634303b7dd6",
   "metadata": {},
   "outputs": [],
   "source": []
  },
  {
   "cell_type": "markdown",
   "id": "b7447048",
   "metadata": {},
   "source": [
    "### Hyperparameters"
   ]
  },
  {
   "cell_type": "markdown",
   "id": "b194f121",
   "metadata": {},
   "source": [
    "#### In Situ Modeling"
   ]
  },
  {
   "cell_type": "code",
   "execution_count": null,
   "id": "602af07d-8622-45b5-a93c-201abbe31bc0",
   "metadata": {},
   "outputs": [],
   "source": [
    "hp = HyperParameters()\n",
    "units=hp.Int(\"units\", min_value=32, max_value = trainXscaltref.shape[2], step=32)\n",
    "#units=hp.Int(\"units\", min_value=32, max_value = trainXscch4ref.shape[2], step=32)\n",
    "#units=hp.Int(\"units\", min_value=32, max_value = trainXscco2ref.shape[2], step=32)\n",
    "batch_size=hp.Int(\"batch_size\", min_value = 32, max_value = 512, step = 32)\n",
    "learning_rate=hp.Choice(\"learning_rate\", [1e-1, 1e-2, 1e-3, 1e-4])\n",
    "\n",
    "#conv1d_kernel_size=hp.Int(\"conv1d_kernel_size\", min_value = 32, max_value = 1024, step=32)\n",
    "conv1d_filters=hp.Int(\"conv1d_filters\",min_value=hp['units'],max_value=2*hp['units'])\n",
    "conv1d_kernel_size=hp.Int(\"conv1d_kernel_size\", min_value = 1, max_value = 5, step=1)\n",
    "conv1d_activation=hp.Choice(\"conv1d_activation\", ['relu','sigmoid', 'hard_sigmoid', 'tanh', 'exponential', 'gelu', 'elu', 'linear', 'selu', \n",
    "                                                  'softmax', 'swish'])\n",
    "\n",
    "bilstm_units = hp.Int(\"bilstm_units\", min_value = hp['units'], max_value = 2*hp['units'])\n",
    "bilstm_activation=hp.Choice(\"bilstm_activation\", ['relu','sigmoid', 'hard_sigmoid', 'tanh', 'exponential', 'gelu', 'elu', 'linear', 'selu', \n",
    "                                                  'softmax', 'swish'])\n",
    "bilstm_rec_activation=hp.Choice(\"bilstm_rec_activation\", ['relu','sigmoid', 'hard_sigmoid', 'tanh', 'exponential', 'gelu', 'elu', 'linear', 'selu', \n",
    "                                                          'softmax', 'swish'])\n",
    "bilstm_dropout=hp.Choice(\"bilstm_dropout\", [0.1, 0.2, 0.3, 0.4])\n",
    "bilstm_rec_dropout=hp.Choice(\"bilstm_rec_dropout\", [0.1, 0.2, 0.3, 0.4])\n",
    "bilstm_bias=hp.Boolean(\"bilstm_use_bias\")\n",
    "bilstm_f_bias=hp.Boolean(\"bilstm_forgot_bias\")\n",
    "\n",
    "bilstm2_units = hp.Int(\"bilstm2_units\", min_value = hp['units'], max_value = 2*hp['units'])\n",
    "bilstm2_activation=hp.Choice(\"bilstm2_activation\", ['relu','sigmoid', 'hard_sigmoid', 'tanh', 'exponential', 'gelu', 'elu', 'linear', 'selu', \n",
    "                                                    'softmax', 'swish'])\n",
    "bilstm2_rec_activation=hp.Choice(\"bilstm2_rec_activation\", ['relu','sigmoid', 'hard_sigmoid', 'tanh', 'exponential', 'gelu', 'elu', 'linear', 'selu', \n",
    "                                                            'softmax', 'swish'])\n",
    "bilstm2_dropout=hp.Choice(\"bilstm2_dropout\", [0.1, 0.2, 0.3, 0.4])\n",
    "bilstm2_rec_dropout=hp.Choice(\"bilstm2_rec_dropout\", [0.1, 0.2, 0.3, 0.4])\n",
    "bilstm2_bias=hp.Boolean(\"bilstm2_use_bias\")\n",
    "bilstm2_f_bias=hp.Boolean(\"bilstm2_forgot_bias\")\n",
    "\n",
    "lstm_units = hp.Int(\"lstm_units\", min_value = hp['units'], max_value = 2*hp['units'])\n",
    "lstm_activation=hp.Choice(\"lstm_activation\", ['relu','sigmoid', 'hard_sigmoid', 'tanh', 'exponential', 'gelu', 'elu', 'linear', 'selu', \n",
    "                                                          'softmax', 'swish'])\n",
    "lstm_rec_activation=hp.Choice(\"lstm_rec_activation\", ['relu','sigmoid', 'hard_sigmoid', 'tanh', 'exponential', 'gelu', 'elu', 'linear', 'selu', \n",
    "                                                      'softmax', 'swish'])\n",
    "lstm_dropout=hp.Choice(\"lstm_dropout\", [0.1, 0.2, 0.3, 0.4])\n",
    "lstm_rec_dropout=hp.Choice(\"lstm_rec_dropout\", [0.1, 0.2, 0.3, 0.4])\n",
    "\n",
    "lstm2_units = hp.Int(\"lstm2_units\", min_value = hp['units'], max_value = 2*hp['units'])\n",
    "lstm2_activation=hp.Choice(\"lstm2_activation\", ['relu','sigmoid', 'hard_sigmoid', 'tanh', 'exponential', 'gelu', 'elu', 'linear', 'selu', \n",
    "                                                'softmax', 'swish'])\n",
    "lstm2_rec_activation=hp.Choice(\"lstm2_rec_activation\", ['relu','sigmoid', 'hard_sigmoid', 'tanh', 'exponential', 'gelu', 'elu', 'linear', 'selu', \n",
    "                                                        'softmax', 'swish'])\n",
    "lstm2_dropout=hp.Choice(\"lstm2_dropout\", [0.1, 0.2, 0.3, 0.4])\n",
    "lstm2_rec_dropout=hp.Choice(\"lstm2_rec_dropout\", [0.1, 0.2, 0.3, 0.4])\n",
    "\n",
    "bilstm3_units = hp.Int(\"bilstm3_units\", min_value = hp['units'], max_value = 2*hp['units'])\n",
    "bilstm3_activation=hp.Choice(\"bilstm3_activation\", ['relu','sigmoid', 'hard_sigmoid', 'tanh', 'exponential', 'gelu', 'elu', 'linear', 'selu', \n",
    "                                                    'softmax', 'swish'])\n",
    "bilstm3_rec_activation=hp.Choice(\"bilstm3_rec_activation\", ['relu','sigmoid', 'hard_sigmoid', 'tanh', 'exponential', 'gelu', 'elu', 'linear', 'selu', \n",
    "                                                            'softmax', 'swish'])\n",
    "bilstm3_dropout=hp.Choice(\"bilstm3_dropout\", [0.1, 0.2, 0.3, 0.4])\n",
    "bilstm3_rec_dropout=hp.Choice(\"bilstm3_rec_dropout\", [0.1, 0.2, 0.3, 0.4])\n",
    "bilstm3_bias=hp.Boolean(\"bilstm3_use_bias\")\n",
    "bilstm3_f_bias=hp.Boolean(\"bilstm3_forgot_bias\")\n",
    "\n",
    "bilstm4_units = hp.Int(\"bilstm4_units\", min_value = hp['units'], max_value = 2*hp['units'])\n",
    "bilstm4_activation=hp.Choice(\"bilstm4_activation\", ['relu','sigmoid', 'hard_sigmoid', 'tanh', 'exponential', 'gelu', 'elu', 'linear', 'selu', \n",
    "                                                    'softmax', 'swish'])\n",
    "bilstm4_rec_activation=hp.Choice(\"bilstm4_rec_activation\", ['relu','sigmoid', 'hard_sigmoid', 'tanh', 'exponential', 'gelu', 'elu', 'linear', 'selu', \n",
    "                                                            'softmax', 'swish'])\n",
    "bilstm4_dropout=hp.Choice(\"bilstm4_dropout\", [0.1, 0.2, 0.3, 0.4])\n",
    "bilstm4_rec_dropout=hp.Choice(\"bilstm4_rec_dropout\", [0.1, 0.2, 0.3, 0.4])\n",
    "bilstm4_bias=hp.Boolean(\"bilstm4_use_bias\")\n",
    "bilstm4_f_bias=hp.Boolean(\"bilstm4_forgot_bias\")\n",
    "\n",
    "#conv1d2_kernel_size=hp.Int(\"conv1d2_kernel_size\", min_value = 32, max_value = 1024, step=32)\n",
    "conv1d2_filters=hp.Int(\"conv1d2_filters\", min_value = hp['units'], max_value=2*hp['units'])\n",
    "conv1d2_kernel_size=hp.Int(\"conv1d2_kernel_size\", min_value = 1, max_value = 5, step=1)\n",
    "conv1d2_activation=hp.Choice(\"conv1d2_activation\", ['relu','sigmoid', 'hard_sigmoid', 'tanh', 'exponential', 'gelu', 'elu', 'linear', 'selu', \n",
    "                                                    'softmax', 'swish'])"
   ]
  },
  {
   "cell_type": "markdown",
   "id": "baa70dcd-3596-4cbb-88cc-ebc8b59cc1c2",
   "metadata": {
    "jp-MarkdownHeadingCollapsed": true
   },
   "source": [
    "#### Archive"
   ]
  },
  {
   "cell_type": "code",
   "execution_count": null,
   "id": "71b8646e-7473-4722-a4c4-2311ed16db05",
   "metadata": {
    "jupyter": {
     "source_hidden": true
    }
   },
   "outputs": [],
   "source": [
    "x = Conv1D(16, 3, activation='relu', padding='same')(input_vec)\n",
    "x = MaxPooling1D(2, padding='same')(x)\n",
    "encoded = Conv1D(8, 3, activation='relu', padding='same')(x)\n",
    "\n",
    "x = Conv1D(8, 3, activation='relu', padding='same')(encoded)\n",
    "x = UpSampling1D(2)(x)\n",
    "decoded = Conv1D(1, 3, activation='sigmoid', padding='same')(x)\n",
    "\n",
    "autoencoder = Model(input_vec, decoded)\n",
    "autoencoder.compile(optimizer='adam', loss='binary_crossentropy')"
   ]
  },
  {
   "cell_type": "code",
   "execution_count": null,
   "id": "e6d5a10d-a90b-4a40-9560-97cc273a991e",
   "metadata": {
    "jupyter": {
     "source_hidden": true
    }
   },
   "outputs": [],
   "source": [
    "# conv1d_filters=hp.Int(\"conv1d_filters\",min_value=hp['units'],max_value=2*hp['units'])\n",
    "# conv1d_kernel_size=hp.Int(\"conv1d_kernel_size\", min_value = 3, max_value = 6, step=1)\n",
    "# conv1d_activation=hp.Choice(\"conv1d_activation\", ['relu','sigmoid', 'tanh', 'exponential', 'gelu', 'elu', 'linear', 'selu', 'softmax', 'swish'])\n",
    "\n",
    "# conv1d2_filters=hp.Int(\"conv1d2_filters\", min_value = hp['units'], max_value=2*hp['units'])\n",
    "# conv1d2_kernel_size=hp.Int(\"conv1d2_kernel_size\", min_value = 3, max_value = 6, step=1)\n",
    "# conv1d2_activation=hp.Choice(\"conv1d2_activation\", ['relu','sigmoid', 'tanh', 'exponential', 'gelu', 'elu', 'linear', 'selu', 'softmax', 'swish'])\n",
    "\n",
    "# conv2d3_filters=hp.Int(\"conv2d3_filters\",min_value=hp['units'],max_value=2*hp['units'])\n",
    "# conv2d3_kernel_size=hp.Int(\"conv2d3_kernel_size\", min_value = 3, max_value = 6, step=1)\n",
    "# conv2d3_activation=hp.Choice(\"conv2d3_activation\", ['relu','sigmoid', 'tanh', 'exponential', 'gelu', 'elu', 'linear', 'selu', 'softmax', 'swish'])\n",
    "\n",
    "# conv2d4_filters=hp.Int(\"conv2d4_filters\", min_value = 64, max_value=2*hp['units'])\n",
    "# conv2d4_kernel_size=hp.Int(\"conv2d4_kernel_size\", min_value = 3, max_value = 6, step=1)\n",
    "# conv2d4_activation=hp.Choice(\"conv2d4_activation\", ['relu','sigmoid', 'tanh', 'exponential', 'gelu', 'elu', 'linear', 'selu', 'softmax', 'swish'])\n",
    "\n",
    "# conv2d5_filters=hp.Int(\"conv2d5_filters\", min_value = 64, max_value=2*hp['units'])\n",
    "# conv2d5_kernel_size=hp.Int(\"conv2d5_kernel_size\", min_value = 3, max_value = 6, step=1)\n",
    "# conv2d5_activation=hp.Choice(\"conv2d5_activation\", ['relu','sigmoid', 'tanh', 'exponential', 'gelu', 'elu', 'linear', 'selu', 'softmax', 'swish'])\n",
    "\n",
    "# bilstm_units = hp.Int(\"bilstm_units\", min_value = hp['units'], max_value = 2*hp['units'])\n",
    "# bilstm_activation=hp.Choice(\"bilstm_activation\", ['relu','sigmoid', 'tanh', 'exponential', 'gelu', 'elu', 'linear', 'selu', 'softmax', 'swish'])\n",
    "# bilstm_rec_activation=hp.Choice(\"bilstm_rec_activation\", ['relu','sigmoid', 'tanh', 'exponential', 'gelu', 'elu', 'linear', 'selu', 'softmax', 'swish'])\n",
    "# bilstm_dropout=hp.Choice(\"bilstm_dropout\", [0.1, 0.2, 0.3, 0.4])\n",
    "# bilstm_rec_dropout=hp.Choice(\"bilstm_rec_dropout\", [0.1, 0.2, 0.3, 0.4])\n",
    "# bilstm_bias=hp.Boolean(\"bilstm_use_bias\")\n",
    "# bilstm_f_bias=hp.Boolean(\"bilstm_forgot_bias\")\n",
    "\n",
    "# bilstm2_units = hp.Int(\"bilstm2_units\", min_value = hp['units'], max_value = 2*hp['units'])\n",
    "# bilstm2_activation=hp.Choice(\"bilstm2_activation\", ['relu','sigmoid', 'tanh', 'exponential', 'gelu', 'elu', 'linear', 'selu', 'softmax', 'swish'])\n",
    "# bilstm2_rec_activation=hp.Choice(\"bilstm2_rec_activation\", ['relu','sigmoid', 'tanh', 'exponential', 'gelu', 'elu', 'linear', 'selu', 'softmax', 'swish'])\n",
    "# bilstm2_dropout=hp.Choice(\"bilstm2_dropout\", [0.1, 0.2, 0.3, 0.4])\n",
    "# bilstm2_rec_dropout=hp.Choice(\"bilstm2_rec_dropout\", [0.1, 0.2, 0.3, 0.4])\n",
    "# bilstm2_bias=hp.Boolean(\"bilstm2_use_bias\")\n",
    "# bilstm2_f_bias=hp.Boolean(\"bilstm2_forgot_bias\")\n",
    "\n",
    "# bilstm3_units = hp.Int(\"bilstm3_units\", min_value = hp['units'], max_value = 2*hp['units'])\n",
    "# bilstm3_activation=hp.Choice(\"bilstm3_activation\", ['relu','sigmoid', 'tanh', 'exponential', 'gelu', 'elu', 'linear', 'selu', 'softmax', 'swish'])\n",
    "# bilstm3_rec_activation=hp.Choice(\"bilstm3_rec_activation\", ['relu','sigmoid', 'tanh', 'exponential', 'gelu', 'elu', 'linear', 'selu', 'softmax', 'swish'])\n",
    "# bilstm3_dropout=hp.Choice(\"bilstm3_dropout\", [0.1, 0.2, 0.3, 0.4])\n",
    "# bilstm3_rec_dropout=hp.Choice(\"bilstm3_rec_dropout\", [0.1, 0.2, 0.3, 0.4])\n",
    "# bilstm3_bias=hp.Boolean(\"bilstm3_use_bias\")\n",
    "# bilstm3_f_bias=hp.Boolean(\"bilstm3_forgot_bias\")\n",
    "\n",
    "# bilstm4_units = hp.Int(\"bilstm4_units\", min_value = hp['units'], max_value = 2*hp['units'])\n",
    "# bilstm4_activation=hp.Choice(\"bilstm4_activation\", ['relu','sigmoid', 'tanh', 'exponential', 'gelu', 'elu', 'linear', 'selu', 'softmax', 'swish'])\n",
    "# bilstm4_rec_activation=hp.Choice(\"bilstm4_rec_activation\", ['relu','sigmoid', 'tanh', 'exponential', 'gelu', 'elu', 'linear', 'selu', 'softmax', 'swish'])\n",
    "# bilstm4_dropout=hp.Choice(\"bilstm4_dropout\", [0.1, 0.2, 0.3, 0.4])\n",
    "# bilstm4_rec_dropout=hp.Choice(\"bilstm4_rec_dropout\", [0.1, 0.2, 0.3, 0.4])\n",
    "# bilstm4_bias=hp.Boolean(\"bilstm4_use_bias\")\n",
    "# bilstm4_f_bias=hp.Boolean(\"bilstm4_forgot_bias\")\n",
    "\n",
    "# lstm_units = hp.Int(\"lstm_units\", min_value = hp['units'], max_value = 2*hp['units'])\n",
    "# lstm_activation=hp.Choice(\"lstm_activation\", ['relu','sigmoid', 'tanh', 'exponential', 'gelu', 'elu', 'linear', 'selu', 'softmax', 'swish'])\n",
    "# lstm_rec_activation=hp.Choice(\"lstm_rec_activation\", ['relu','sigmoid', 'tanh', 'exponential', 'gelu', 'elu', 'linear', 'selu', 'softmax', 'swish'])\n",
    "# lstm_dropout=hp.Choice(\"lstm_dropout\", [0.1, 0.2, 0.3, 0.4])\n",
    "# lstm_rec_dropout=hp.Choice(\"lstm_rec_dropout\", [0.1, 0.2, 0.3, 0.4])\n",
    "\n",
    "# lstm2_units = hp.Int(\"lstm2_units\", min_value = hp['units'], max_value = 2*hp['units'])\n",
    "# lstm2_activation=hp.Choice(\"lstm2_activation\", ['relu','sigmoid', 'tanh', 'exponential', 'gelu', 'elu', 'linear', 'selu', 'softmax', 'swish'])\n",
    "# lstm2_rec_activation=hp.Choice(\"lstm2_rec_activation\", ['relu','sigmoid', 'tanh', 'exponential', 'gelu', 'elu', 'linear', 'selu', 'softmax', 'swish'])\n",
    "# lstm2_dropout=hp.Choice(\"lstm2_dropout\", [0.1, 0.2, 0.3, 0.4])\n",
    "# lstm2_rec_dropout=hp.Choice(\"lstm2_rec_dropout\", [0.1, 0.2, 0.3, 0.4])"
   ]
  },
  {
   "cell_type": "code",
   "execution_count": null,
   "id": "5b0db4ec-233d-43f2-aae7-900229696f81",
   "metadata": {
    "jupyter": {
     "source_hidden": true
    }
   },
   "outputs": [],
   "source": [
    "# inputs = keras.Input(shape=(trainXscch4ref.shape[1], trainXscch4ref.shape[2]))\n",
    "hp = HyperParameters()\n",
    "units=hp.Int(\"units\", min_value=32, max_value = 256, step=32)#inputs.shape[2], step=32)\n",
    "batch_size=hp.Int(\"batch_size\", min_value = 1, max_value = 256, step = 32)\n",
    "learning_rate=hp.Choice(\"learning_rate\", [1e-1, 1e-2, 1e-3, 1e-4, 1e-5])\n",
    "#inputs2 = keras.Input(shape=(alt_Xtrainsc.shape[1], alt_Xtrainsc.shape[2]))\n",
    "#units2=hp.Int(\"units2\", min_value=64, max_value = inputs2.shape[2], step=64)\n",
    "#padding=hp.Choice(\"padding\", ['valid','same','causal'])\n",
    "#n_layers=hp.Int(\"n_layers\", min_value = 1, max_value = 9, step=3)\n",
    "#n_layers=hp.Int(\"n_layers\", min_value = 5, max_value = 15) \n",
    "#batch_size=hp.Int(\"batch_size\", min_value = 32, max_value = 256, step = 32)\n",
    "\n",
    "conv3d_filters=hp.Int(\"conv3d_filters\",min_value=hp['units'],max_value=2*hp['units'])\n",
    "conv3d_kernel_size=hp.Int(\"conv3d_kernel_size\", min_value = 5, max_value = 6, step=1)\n",
    "conv3d_activation=hp.Choice(\"conv3d_activation\", ['relu','sigmoid', 'tanh', 'exponential', 'gelu', 'elu', 'linear', 'selu', 'softmax', 'swish'])\n",
    "\n",
    "conv3d2_filters=hp.Int(\"conv3d2_filters\", min_value = hp['units'], max_value=2*hp['units'])\n",
    "conv3d2_kernel_size=hp.Int(\"conv3d2_kernel_size\", min_value = 3, max_value = 6, step=1)\n",
    "conv3d2_activation=hp.Choice(\"conv3d2_activation\", ['relu','sigmoid', 'tanh', 'exponential', 'gelu', 'elu', 'linear', 'selu', 'softmax', 'swish'])\n",
    "\n",
    "conv3d3_filters=hp.Int(\"conv3d3_filters\", min_value = hp['units'], max_value=2*hp['units'])\n",
    "conv3d3_kernel_size=hp.Int(\"conv3d3_kernel_size\", min_value = 1, max_value = 6, step=1)\n",
    "conv3d3_activation=hp.Choice(\"conv3d3_activation\", ['relu','sigmoid', 'tanh', 'exponential', 'gelu', 'elu', 'linear', 'selu', 'softmax', 'swish'])\n",
    "\n",
    "conv3d4_filters=hp.Int(\"conv3d4_filters\",min_value=hp['units'],max_value=2*hp['units'])\n",
    "conv3d4_kernel_size=hp.Int(\"conv3d4_kernel_size\", min_value = 3, max_value = 6, step=1)\n",
    "conv3d4_activation=hp.Choice(\"conv3d4_activation\", ['relu','sigmoid', 'tanh', 'exponential', 'gelu', 'elu', 'linear', 'selu', 'softmax', 'swish'])"
   ]
  },
  {
   "cell_type": "code",
   "execution_count": null,
   "id": "aae5e17d",
   "metadata": {
    "jupyter": {
     "source_hidden": true
    }
   },
   "outputs": [],
   "source": [
    "# inputs = keras.Input(shape=(trainXscch4ref.shape[1], trainXscch4ref.shape[2]))\n",
    "hp = HyperParameters()\n",
    "units=hp.Int(\"units\", min_value=32, max_value = inputs.shape[2], step=16)\n",
    "batch_size=hp.Int(\"batch_size\", min_value = 32, max_value = 256, step = 32)\n",
    "learning_rate=hp.Choice(\"learning_rate\", [1e-1, 1e-2, 1e-3, 1e-4, 1e-5])\n",
    "#inputs2 = keras.Input(shape=(alt_Xtrainsc.shape[1], alt_Xtrainsc.shape[2]))\n",
    "#units2=hp.Int(\"units2\", min_value=64, max_value = inputs2.shape[2], step=64)\n",
    "#padding=hp.Choice(\"padding\", ['valid','same','causal'])\n",
    "#n_layers=hp.Int(\"n_layers\", min_value = 1, max_value = 9, step=3)\n",
    "#n_layers=hp.Int(\"n_layers\", min_value = 5, max_value = 15) \n",
    "#batch_size=hp.Int(\"batch_size\", min_value = 32, max_value = 256, step = 32)\n",
    "\n",
    "conv1d_filters=hp.Int(\"conv1d_filters\",min_value=hp['units'],max_value=2*hp['units'])\n",
    "conv1d_kernel_size=hp.Int(\"conv1d_kernel_size\", min_value = 3, max_value = 6, step=1)\n",
    "conv1d_activation=hp.Choice(\"conv1d_activation\", ['relu','sigmoid', 'tanh', 'exponential', 'gelu', 'elu', 'linear', 'selu', 'softmax', 'swish'])\n",
    "\n",
    "conv1d2_filters=hp.Int(\"conv1d2_filters\", min_value = hp['units'], max_value=2*hp['units'])\n",
    "conv1d2_kernel_size=hp.Int(\"conv1d2_kernel_size\", min_value = 3, max_value = 6, step=1)\n",
    "conv1d2_activation=hp.Choice(\"conv1d2_activation\", ['relu','sigmoid', 'tanh', 'exponential', 'gelu', 'elu', 'linear', 'selu', 'softmax', 'swish'])\n",
    "\n",
    "# conv2d3_filters=hp.Int(\"conv2d3_filters\",min_value=hp['units'],max_value=2*hp['units'])\n",
    "# conv2d3_kernel_size=hp.Int(\"conv2d3_kernel_size\", min_value = 3, max_value = 6, step=1)\n",
    "# conv2d3_activation=hp.Choice(\"conv2d3_activation\", ['relu','sigmoid', 'tanh', 'exponential', 'gelu', 'elu', 'linear', 'selu', 'softmax', 'swish'])\n",
    "\n",
    "# conv2d4_filters=hp.Int(\"conv2d4_filters\", min_value = 64, max_value=2*hp['units'])\n",
    "# conv2d4_kernel_size=hp.Int(\"conv2d4_kernel_size\", min_value = 3, max_value = 6, step=1)\n",
    "# conv2d4_activation=hp.Choice(\"conv2d4_activation\", ['relu','sigmoid', 'tanh', 'exponential', 'gelu', 'elu', 'linear', 'selu', 'softmax', 'swish'])\n",
    "\n",
    "# conv2d5_filters=hp.Int(\"conv2d5_filters\", min_value = 64, max_value=2*hp['units'])\n",
    "# conv2d5_kernel_size=hp.Int(\"conv2d5_kernel_size\", min_value = 3, max_value = 6, step=1)\n",
    "# conv2d5_activation=hp.Choice(\"conv2d5_activation\", ['relu','sigmoid', 'tanh', 'exponential', 'gelu', 'elu', 'linear', 'selu', 'softmax', 'swish'])\n",
    "\n",
    "hp = HyperParameters()\n",
    "units=hp.Int(\"units\", min_value=32, max_value = inputs.shape[2], step=16)\n",
    "batch_size=hp.Int(\"batch_size\", min_value = 32, max_value = 256, step = 32)\n",
    "learning_rate=hp.Choice(\"learning_rate\", [1e-1, 1e-2, 1e-3, 1e-4, 1e-5])\n",
    "\n",
    "bilstm_units = hp.Int(\"bilstm_units\", min_value = hp['units'], max_value = 2*hp['units'])\n",
    "bilstm_activation=hp.Choice(\"bilstm_activation\", ['relu','sigmoid', 'tanh', 'exponential', 'gelu', 'elu', 'linear', 'selu', 'softmax', 'swish'])\n",
    "bilstm_rec_activation=hp.Choice(\"bilstm_rec_activation\", ['relu','sigmoid', 'tanh', 'exponential', 'gelu', 'elu', 'linear', 'selu', 'softmax', 'swish'])\n",
    "bilstm_dropout=hp.Choice(\"bilstm_dropout\", [0.1, 0.2, 0.3, 0.4])\n",
    "bilstm_rec_dropout=hp.Choice(\"bilstm_rec_dropout\", [0.1, 0.2, 0.3, 0.4])\n",
    "bilstm_bias=hp.Boolean(\"bilstm_use_bias\")\n",
    "bilstm_f_bias=hp.Boolean(\"bilstm_forgot_bias\")\n",
    "\n",
    "bilstm2_units = hp.Int(\"bilstm2_units\", min_value = hp['units'], max_value = 2*hp['units'])\n",
    "bilstm2_activation=hp.Choice(\"bilstm2_activation\", ['relu','sigmoid', 'tanh', 'exponential', 'gelu', 'elu', 'linear', 'selu', 'softmax', 'swish'])\n",
    "bilstm2_rec_activation=hp.Choice(\"bilstm2_rec_activation\", ['relu','sigmoid', 'tanh', 'exponential', 'gelu', 'elu', 'linear', 'selu', 'softmax', 'swish'])\n",
    "bilstm2_dropout=hp.Choice(\"bilstm2_dropout\", [0.1, 0.2, 0.3, 0.4])\n",
    "bilstm2_rec_dropout=hp.Choice(\"bilstm2_rec_dropout\", [0.1, 0.2, 0.3, 0.4])\n",
    "bilstm2_bias=hp.Boolean(\"bilstm2_use_bias\")\n",
    "bilstm2_f_bias=hp.Boolean(\"bilstm2_forgot_bias\")\n",
    "\n",
    "bilstm3_units = hp.Int(\"bilstm3_units\", min_value = hp['units'], max_value = 2*hp['units'])\n",
    "bilstm3_activation=hp.Choice(\"bilstm3_activation\", ['relu','sigmoid', 'tanh', 'exponential', 'gelu', 'elu', 'linear', 'selu', 'softmax', 'swish'])\n",
    "bilstm3_rec_activation=hp.Choice(\"bilstm3_rec_activation\", ['relu','sigmoid', 'tanh', 'exponential', 'gelu', 'elu', 'linear', 'selu', 'softmax', 'swish'])\n",
    "bilstm3_dropout=hp.Choice(\"bilstm3_dropout\", [0.1, 0.2, 0.3, 0.4])\n",
    "bilstm3_rec_dropout=hp.Choice(\"bilstm3_rec_dropout\", [0.1, 0.2, 0.3, 0.4])\n",
    "bilstm3_bias=hp.Boolean(\"bilstm3_use_bias\")\n",
    "bilstm3_f_bias=hp.Boolean(\"bilstm3_forgot_bias\")\n",
    "\n",
    "bilstm4_units = hp.Int(\"bilstm4_units\", min_value = hp['units'], max_value = 2*hp['units'])\n",
    "bilstm4_activation=hp.Choice(\"bilstm4_activation\", ['relu','sigmoid', 'tanh', 'exponential', 'gelu', 'elu', 'linear', 'selu', 'softmax', 'swish'])\n",
    "bilstm4_rec_activation=hp.Choice(\"bilstm4_rec_activation\", ['relu','sigmoid', 'tanh', 'exponential', 'gelu', 'elu', 'linear', 'selu', 'softmax', 'swish'])\n",
    "bilstm4_dropout=hp.Choice(\"bilstm4_dropout\", [0.1, 0.2, 0.3, 0.4])\n",
    "bilstm4_rec_dropout=hp.Choice(\"bilstm4_rec_dropout\", [0.1, 0.2, 0.3, 0.4])\n",
    "bilstm4_bias=hp.Boolean(\"bilstm4_use_bias\")\n",
    "bilstm4_f_bias=hp.Boolean(\"bilstm4_forgot_bias\")\n",
    "\n",
    "lstm_units = hp.Int(\"lstm_units\", min_value = hp['units'], max_value = 2*hp['units'])\n",
    "lstm_activation=hp.Choice(\"lstm_activation\", ['relu','sigmoid', 'tanh', 'exponential', 'gelu', 'elu', 'linear', 'selu', 'softmax', 'swish'])\n",
    "lstm_rec_activation=hp.Choice(\"lstm_rec_activation\", ['relu','sigmoid', 'tanh', 'exponential', 'gelu', 'elu', 'linear', 'selu', 'softmax', 'swish'])\n",
    "lstm_dropout=hp.Choice(\"lstm_dropout\", [0.1, 0.2, 0.3, 0.4])\n",
    "lstm_rec_dropout=hp.Choice(\"lstm_rec_dropout\", [0.1, 0.2, 0.3, 0.4])\n",
    "\n",
    "lstm2_units = hp.Int(\"lstm2_units\", min_value = hp['units'], max_value = 2*hp['units'])\n",
    "lstm2_activation=hp.Choice(\"lstm2_activation\", ['relu','sigmoid', 'tanh', 'exponential', 'gelu', 'elu', 'linear', 'selu', 'softmax', 'swish'])\n",
    "lstm2_rec_activation=hp.Choice(\"lstm2_rec_activation\", ['relu','sigmoid', 'tanh', 'exponential', 'gelu', 'elu', 'linear', 'selu', 'softmax', 'swish'])\n",
    "lstm2_dropout=hp.Choice(\"lstm2_dropout\", [0.1, 0.2, 0.3, 0.4])\n",
    "lstm2_rec_dropout=hp.Choice(\"lstm2_rec_dropout\", [0.1, 0.2, 0.3, 0.4])"
   ]
  },
  {
   "cell_type": "code",
   "execution_count": null,
   "id": "2b4cb14b-a77f-4ed6-ad4f-72c5226f021b",
   "metadata": {
    "jupyter": {
     "source_hidden": true
    }
   },
   "outputs": [],
   "source": [
    "# # We will construct 3 `ConvLSTM2D` layers with batch normalization,\n",
    "# # followed by a `Conv3D` layer for the spatiotemporal outputs.\n",
    "# x = layers.ConvLSTM2D(\n",
    "#     filters=conv2d_filters,\n",
    "#     kernel_size=(conv2d_kernel_size,conv2d_kernel_size),\n",
    "#     padding=\"same\",\n",
    "#     return_sequences=True,\n",
    "#     activation=conv2d_activation,\n",
    "# )(inp)\n",
    "# x = layers.BatchNormalization()(x)\n",
    "# x = layers.ConvLSTM2D(\n",
    "#     filters=conv2d2_filters,\n",
    "#     kernel_size=(conv2d2_kernel_size, conv2d2_kernel_size),\n",
    "#     padding=\"same\",\n",
    "#     return_sequences=True,\n",
    "#     activation=conv2d2_activation,\n",
    "# )(x)\n",
    "# x = layers.BatchNormalization()(x)\n",
    "# x = layers.ConvLSTM2D(\n",
    "#     filters=conv2d3_filters,\n",
    "#     kernel_size=(conv2d3_kernel_size, conv2d3_kernel_size),\n",
    "#     padding=\"same\",\n",
    "#     return_sequences=True,\n",
    "#     activation=conv2d3_activation,\n",
    "# )(x)\n",
    "# x = layers.Conv3D(\n",
    "#     filters=conv3d_filters, kernel_size=(conv3d_kernel_size, conv3d_kernel_size, conv3d_kernel_size), activation=conv3d_activation, padding=\"same\"\n",
    "# )(x)\n",
    "\n",
    "# # model.compile(loss='categorical_crossentropy',\n",
    "# #               optimizer=keras.optimizers.Adam(learning_rate=0.0001),\n",
    "# #               metrics=['accuracy'])\n",
    "# # model.summary()"
   ]
  },
  {
   "cell_type": "code",
   "execution_count": null,
   "id": "9ea8af4c-3fbc-46ba-9792-4ff6cfcc39a7",
   "metadata": {
    "jupyter": {
     "source_hidden": true
    }
   },
   "outputs": [],
   "source": [
    "# # Next, we will build the complete model and compile it.\n",
    "# model = keras.models.Model(inp, x)\n",
    "# model.compile(\n",
    "#     loss=keras.losses.binary_crossentropy, optimizer=tf.keras.optimizers.legacy.Adam(),\n",
    "# )\n",
    "\n",
    "# # Define some callbacks to improve training.\n",
    "# early_stopping = keras.callbacks.EarlyStopping(monitor=\"val_loss\", patience=10)\n",
    "# reduce_lr = keras.callbacks.ReduceLROnPlateau(monitor=\"val_loss\", patience=5)\n",
    "\n",
    "# # Define modifiable training hyperparameters.\n",
    "# epochs = 20\n",
    "# batch_size = 5\n",
    "\n",
    "# # Fit the model to the training data.\n",
    "# model.fit(\n",
    "#     trainXch4,\n",
    "#     trainych4,\n",
    "#     batch_size=batch_size,\n",
    "#     epochs=epochs,\n",
    "#     validation_data=(x_val, y_val),\n",
    "#     callbacks=[early_stopping, reduce_lr],\n",
    "# )\n"
   ]
  },
  {
   "cell_type": "code",
   "execution_count": null,
   "id": "ca0998a2-8907-4cc6-b082-d49628dc2bbb",
   "metadata": {
    "jupyter": {
     "source_hidden": true
    }
   },
   "outputs": [],
   "source": [
    "# # Normalize the inputs\n",
    "# inputs=tf.keras.Input(shape=((1, 279)))\n",
    "# normalization_layer = tf.keras.layers.experimental.preprocessing.Normalization()\n",
    "# normalization_layer.adapt(trainXscaltref)\n",
    "\n",
    "# b=tf.keras.layers.Input([5])\n",
    "\n",
    "# z=tf.keras.layers.BatchNormalization(trainXscaltref.flatten().tolist())\n",
    "\n",
    "# tf.keras.Model(inputs=input, outputs=z)"
   ]
  },
  {
   "cell_type": "markdown",
   "id": "fabb888d-ccbf-44ba-80a1-aae87bc17139",
   "metadata": {},
   "source": [
    "#### Model"
   ]
  },
  {
   "cell_type": "code",
   "execution_count": null,
   "id": "9bcb32b6-42f0-47ad-8520-e1cbf208ed9d",
   "metadata": {},
   "outputs": [],
   "source": [
    "trainXscaltref.shape\n",
    "#trainXscch4ref.shape\n",
    "#trainXscco4ref.shape"
   ]
  },
  {
   "cell_type": "code",
   "execution_count": null,
   "id": "0747f8ab-8a48-4435-9b53-fb701bc87716",
   "metadata": {},
   "outputs": [],
   "source": [
    "class geocryoai(HyperModel):\n",
    "    def build(self, hp):\n",
    "        inputs=tf.keras.Input(shape=((1, 279)))\n",
    "        model = Sequential([\n",
    "            #tf.keras.layers.Conv1D(filters=256,kernel_size=(1),activation = hp['conv1d_activation'],padding='same',input_shape=(inputs.shape[1], inputs.shape[2])),\n",
    "            tf.keras.layers.Conv1D(filters=hp['conv1d_filters'], kernel_size=(hp['conv1d_kernel_size']),activation = hp['conv1d_activation'], \n",
    "                                   padding='same',input_shape=(inputs.shape[1], inputs.shape[2])),\n",
    "            #tf.keras.layers.Bidirectional(LSTM(input_shape=(inputs.shape[1], inputs.shape[2]), return_sequences = True, units = 128, activation = hp['bilstm_activation'], \n",
    "            tf.keras.layers.Bidirectional(LSTM(input_shape=(inputs.shape[1], inputs.shape[2]), return_sequences = True, units = hp['bilstm_units'], \n",
    "                                               activation = hp['bilstm_activation'], recurrent_activation = hp['bilstm_rec_activation'], \n",
    "                                               dropout=hp['bilstm_dropout'], use_bias = hp['bilstm_use_bias'], \n",
    "                                               unit_forget_bias = hp['bilstm_forgot_bias'], recurrent_dropout = hp['bilstm_rec_dropout'])),\n",
    "            #tf.keras.layers.Bidirectional(LSTM(input_shape=(inputs.shape[1], inputs.shape[2]),return_sequences = True, units = 32,activation = hp['bilstm2_activation'], \n",
    "            tf.keras.layers.Bidirectional(LSTM(input_shape=(inputs.shape[1], inputs.shape[2]),return_sequences = True,  units = hp['bilstm2_units'], \n",
    "                                               activation = hp['bilstm2_activation'],recurrent_activation = hp['bilstm2_rec_activation'], \n",
    "                                               dropout=hp['bilstm2_dropout'], use_bias = hp['bilstm2_use_bias'], \n",
    "                                               unit_forget_bias = hp['bilstm2_forgot_bias'], recurrent_dropout = hp['bilstm2_rec_dropout'])),\n",
    "            #tf.keras.layers.LSTM(input_shape=(inputs.shape[1], inputs.shape[2]),return_sequences = False, units = 8,activation = hp['lstm_activation'], \n",
    "            tf.keras.layers.LSTM(input_shape=(inputs.shape[1], inputs.shape[2]),return_sequences = False, units=hp['lstm_units'], \n",
    "                                 activation = hp['lstm_activation'],recurrent_activation=hp['lstm_rec_activation'],dropout=hp['lstm_dropout'], \n",
    "                                 recurrent_dropout = hp['lstm_rec_dropout']),\n",
    "            tf.keras.layers.RepeatVector(trainXscaltref.shape[1]),\n",
    "            #model.add(RepeatVector(trainXscaltref.shape[1]))   #TUNE THIS (LAYERS) WHEN ADDING SATELLITE AND MODELING DATA\n",
    "            #tf.keras.layers.LSTM(input_shape=(inputs.shape[1], inputs.shape[2]),return_sequences = True, units = 8,activation = hp['lstm2_activation'], \n",
    "            tf.keras.layers.LSTM(input_shape=(inputs.shape[1], inputs.shape[2]),return_sequences = True, units=hp['lstm2_units'], \n",
    "                                 activation = hp['lstm2_activation'],recurrent_activation= hp['lstm2_rec_activation'], dropout=hp['lstm2_dropout'], \n",
    "                                 recurrent_dropout = hp['lstm2_rec_dropout']),\n",
    "            #tf.keras.layers.Bidirectional(LSTM(input_shape=(inputs.shape[1], inputs.shape[2]),return_sequences = True, units = 32,activation = hp['bilstm3_activation'], \n",
    "            tf.keras.layers.Bidirectional(LSTM(input_shape=(inputs.shape[1], inputs.shape[2]),return_sequences = True, units = hp['bilstm3_units'], \n",
    "                                               activation = hp['bilstm3_activation'], recurrent_activation = hp['bilstm3_rec_activation'], \n",
    "                                               dropout=hp['bilstm3_dropout'], use_bias = hp['bilstm3_use_bias'], \n",
    "                                               unit_forget_bias = hp['bilstm3_forgot_bias'], recurrent_dropout = hp['bilstm3_rec_dropout'])),\n",
    "            #tf.keras.layers.Bidirectional(LSTM(input_shape=(inputs.shape[1], inputs.shape[2]),return_sequences = True, units = 128,activation = hp['bilstm4_activation'], \n",
    "            tf.keras.layers.Bidirectional(LSTM(input_shape=(inputs.shape[1], inputs.shape[2]),return_sequences = True, units = hp['bilstm4_units'], \n",
    "                                               activation = hp['bilstm4_activation'], recurrent_activation = hp['bilstm4_rec_activation'], \n",
    "                                               dropout=hp['bilstm4_dropout'], use_bias = hp['bilstm4_use_bias'], \n",
    "                                               unit_forget_bias = hp['bilstm4_forgot_bias'], recurrent_dropout = hp['bilstm4_rec_dropout'])),\n",
    "            #tf.keras.layers.Conv1DTranspose(filters=256, kernel_size=(1), activation = hp['conv1d2_activation'], padding='same', input_shape=(inputs.shape[1], inputs.shape[2])),\n",
    "            tf.keras.layers.Conv1DTranspose(filters=hp['conv1d2_filters'], kernel_size=hp['conv1d2_kernel_size'], activation = hp['conv1d2_activation'], \n",
    "                                            padding='same', input_shape=(inputs.shape[1], inputs.shape[2])),\n",
    "            tf.keras.layers.TimeDistributed(Dense(trainyscaltref.shape[1])),\n",
    "            #tf.keras.layers.TimeDistributed(Dense(trainyscch4ref.shape[1])),\n",
    "            #tf.keras.layers.TimeDistributed(Dense(trainyscco2ref.shape[1])),\n",
    "            tf.keras.layers.BatchNormalization(),\n",
    "            tf.keras.layers.Dense(trainXscaltref.shape[1])\n",
    "            #tf.keras.layers.Dense(trainXscch4ref.shape[1])\n",
    "            #tf.keras.layers.Dense(trainXscco2ref.shape[1])\n",
    "        ])\n",
    "        #metrics=['mean_squared_error', 'mean_absolute_error', RSquare().build(input_shape = (trainyscaltref.shape[1],))]\n",
    "        #loss_function = 'mean_squared_error'\n",
    "        #model.compile(optimizer = tf.keras.optimizers.legacy.RMSprop(learning_rate = hp.get('learning_rate'), **{\"clipvalue\" : 1000}),loss = loss_function, metrics = metrics)\n",
    "        #model.compile(optimizer = tf.keras.optimizers.Adam(learning_rate=0.0001), loss = 'mse', metrics = ['mae','mse'], )\n",
    "        model.compile(optimizer = tf.keras.optimizers.Adam(learning_rate=hp.get('learning_rate')), loss = 'mse', metrics = ['mae','mse'], )\n",
    "        return model\n",
    "\n",
    "    def fit(self, hp, model, *args, **kwargs):\n",
    "        #return model.fit(*args, batch_size = 512, **kwargs) #hp['batch_size'], **kwargs)\n",
    "        return model.fit(*args, batch_size = hp.get('batch_size'), **kwargs) #hp['batch_size'], **kwargs)"
   ]
  },
  {
   "cell_type": "code",
   "execution_count": null,
   "id": "7f77b70c-2b3d-4974-8667-53921f1ac35d",
   "metadata": {},
   "outputs": [],
   "source": [
    "#model=geocryoai.build(trainXscaltref,hp)\n",
    "geocryoai.build(trainXscaltref,hp).summary()\n",
    "#geocryoai.build(trainXscch4ref,hp).summary()\n",
    "#geocryoai.build(trainXscco2ref,hp).summary()"
   ]
  },
  {
   "cell_type": "code",
   "execution_count": null,
   "id": "4caaceb9-6f38-4b65-a31d-4ad0c97cd93c",
   "metadata": {},
   "outputs": [],
   "source": [
    "bayesian_tuner = BayesianOptimization(\n",
    "                    hypermodel = geocryoai(),\n",
    "                    objective = \"val_loss\",\n",
    "                    max_trials = 100,\n",
    "                    num_initial_points = 64, #defaults to 3xdimensionality of hyperparameterization space used\n",
    "                    alpha = 0.01, #0.01, #0.0001 #default; represents the expected amount of noise in the observed performances in Bayesian optimization.\n",
    "                    beta = 10, #10, #2.6, #default;  the balancing factor of exploration and exploitation. The larger it is, the more explorative it is\n",
    "                    hyperparameters = hp,\n",
    "                    **{\"tuner_id\" : \"BayesianOptimization_093023_ALT\",\n",
    "                    \"project_name\" : \"Bayesian_optimization_093023_ALT\"}\n",
    "                    )"
   ]
  },
  {
   "cell_type": "code",
   "execution_count": null,
   "id": "17bf52f5-624a-4a6b-b21e-28e88a0882ac",
   "metadata": {},
   "outputs": [],
   "source": [
    "learning_rate_reduction = ReduceLROnPlateau(monitor='val_loss', patience = 2, verbose=1,factor=0.75, min_lr=0.0001)"
   ]
  },
  {
   "cell_type": "code",
   "execution_count": null,
   "id": "cad27fb8-d108-402c-aaad-2a6f8a005299",
   "metadata": {},
   "outputs": [],
   "source": [
    "early_stopping = EarlyStopping(monitor='val_loss', verbose = 1, patience = 2, min_delta = 1e-4, restore_best_weights = True)"
   ]
  },
  {
   "cell_type": "code",
   "execution_count": null,
   "id": "cd219b36-268b-44a7-a2a5-190eb1cefe27",
   "metadata": {},
   "outputs": [],
   "source": [
    "trainXscaltref.shape, trainyscaltref.shape\n",
    "#trainXscch4ref.shape, trainyscch4ref.shape\n",
    "#trainXscco2ref.shape, trainyscco2ref.shape"
   ]
  },
  {
   "cell_type": "code",
   "execution_count": null,
   "id": "32609cb9-11b6-4791-99c4-0e70f06d75d5",
   "metadata": {},
   "outputs": [],
   "source": [
    "#ALT\n",
    "bayesian_tuner.search(trainXscaltref, trainyscaltref, #trainXscch4ref, trainyscch4ref, #trainXscco2ref, trainyscco2ref, \n",
    "                     #steps_per_epoch = None, \n",
    "                     shuffle = False, \n",
    "                     validation_data = (validXscaltref, validyscaltref), #(validXscch4ref, validyscco2ref), (validXscch4ref, validyscco2ref),\n",
    "                     #validation_split = 0.15,#0.2,\n",
    "                     verbose = 1, #2, #epoch, #1, #progress bar #0, #nothing\n",
    "                     callbacks=[learning_rate_reduction],\n",
    "                     #callbacks = [early_stopping, History(), TerminateOnNaN(),keras.callbacks.TensorBoard(\"/tmp/tb_logs\")], \n",
    "                     use_multiprocessing = True)"
   ]
  },
  {
   "cell_type": "code",
   "execution_count": null,
   "id": "51549092-da9c-4ae0-b160-28382454fed2",
   "metadata": {},
   "outputs": [],
   "source": [
    "bayesian_tuner.results_summary()"
   ]
  },
  {
   "cell_type": "code",
   "execution_count": null,
   "id": "5553f334-5830-44d7-94b6-c876365740af",
   "metadata": {
    "jupyter": {
     "source_hidden": true
    }
   },
   "outputs": [],
   "source": [
    "#HP ALT\n",
    "# BEST MODEL: TRIAL24\n",
    "# Trial 27 Complete [01h 42m 02s]\n",
    "# val_loss: 0.10911799222230911\n",
    "\n",
    "# Best val_loss So Far: 0.10056757181882858\n",
    "# Total elapsed time: 16h 43m 38s\n",
    "\n",
    "# Search: Running Trial #28\n",
    "\n",
    "# Value             |Best Value So Far |Hyperparameter\n",
    "# 0.0001            |0.0001            |learning_rate\n",
    "# 64                |64                |batch_size\n",
    "# 64                |64                |units\n",
    "# 91                |96                |conv1d_filters\n",
    "# 3                 |9                 |conv1d_kernel_size\n",
    "# relu              |swish             |conv1d_activation\n",
    "# 107               |97                |bilstm_units\n",
    "# swish             |relu              |bilstm_activation\n",
    "# relu              |relu              |bilstm_rec_activation\n",
    "# 0.1               |0.4               |bilstm_dropout\n",
    "# 0.1               |0.1               |bilstm_rec_dropout\n",
    "# False             |False             |bilstm_use_bias\n",
    "# True              |True              |bilstm_forgot_bias\n",
    "# 88                |64                |lstm_units\n",
    "# gelu              |relu              |lstm_activation\n",
    "# softmax           |relu              |lstm_rec_activation\n",
    "# 0.1               |0.1               |lstm_dropout\n",
    "# 0.1               |0.1               |lstm_rec_dropout\n",
    "# 128               |128               |lstm2_units\n",
    "# relu              |relu              |lstm2_activation\n",
    "# relu              |relu              |lstm2_rec_activation\n",
    "# 0.1               |0.1               |lstm2_dropout\n",
    "# 0.4               |0.4               |lstm2_rec_dropout\n",
    "# 128               |128               |bilstm2_units\n",
    "# relu              |relu              |bilstm2_activation\n",
    "# swish             |sigmoid           |bilstm2_rec_activation\n",
    "# 0.4               |0.4               |bilstm2_dropout\n",
    "# 0.4               |0.4               |bilstm2_rec_dropout\n",
    "# True              |True              |bilstm2_use_bias\n",
    "# False             |False             |bilstm2_forgot_bias\n",
    "# 91                |88                |conv1d2_filters\n",
    "# 9                 |9                 |conv1d2_kernel_size\n",
    "# swish             |swish             |conv1d2_activation"
   ]
  },
  {
   "cell_type": "code",
   "execution_count": null,
   "id": "acedeeab-1ba3-46ae-b2bb-e874517ff99d",
   "metadata": {},
   "outputs": [],
   "source": [
    "# Trial 80 Complete [00h 01m 45s]\n",
    "# val_loss: 1.0023637507876304\n",
    "\n",
    "# Best val_loss So Far: 0.19112859968453239\n",
    "# Total elapsed time: 02h 04m 01s\n",
    "\n",
    "# Search: Running Trial #81\n",
    "\n",
    "# Value             |Best Value So Far |Hyperparameter\n",
    "# 128               |32                |units\n",
    "# 1                 |33                |batch_size\n",
    "# 1e-05             |0.01              |learning_rate\n",
    "# same              |causal            |padding\n",
    "# 38                |48                |conv3d_filters\n",
    "# 5                 |6                 |conv3d_kernel_size\n",
    "# gelu              |gelu              |conv3d_activation\n",
    "# 50                |44                |conv3d2_filters\n",
    "# 3                 |4                 |conv3d2_kernel_size\n",
    "# swish             |gelu              |conv3d2_activation\n",
    "# 57                |36                |conv3d3_filters\n",
    "# 4                 |4                 |conv3d3_kernel_size\n",
    "# relu              |linear            |conv3d3_activation\n",
    "# 42                |40                |conv3d4_filters\n",
    "# 4                 |4                 |conv3d4_kernel_size\n",
    "# tanh              |elu               |conv3d4_activation"
   ]
  },
  {
   "cell_type": "code",
   "execution_count": null,
   "id": "b1e9a05d-9c3d-462f-8770-e7901e05bfe5",
   "metadata": {},
   "outputs": [],
   "source": [
    "# Hyperparameters:\n",
    "# units: 32\n",
    "# batch_size: 97\n",
    "# learning_rate: 0.001\n",
    "# conv3d_filters: 62\n",
    "# conv3d_kernel_size: 5\n",
    "# conv3d_activation: exponential\n",
    "# conv3d2_filters: 33\n",
    "# conv3d2_kernel_size: 5\n",
    "# conv3d2_activation: relu\n",
    "# conv3d3_filters: 33\n",
    "# conv3d3_kernel_size: 6\n",
    "# conv3d3_activation: linear\n",
    "# conv3d4_filters: 61\n",
    "# conv3d4_kernel_size: 3\n",
    "# conv3d4_activation: sigmoid\n",
    "# Score: 0.9776239395141602"
   ]
  },
  {
   "cell_type": "code",
   "execution_count": null,
   "id": "87515114-29eb-4e27-af41-78489408b784",
   "metadata": {},
   "outputs": [],
   "source": []
  },
  {
   "cell_type": "code",
   "execution_count": null,
   "id": "77148413-577e-45e4-a8ba-e754630e3ed3",
   "metadata": {},
   "outputs": [],
   "source": []
  },
  {
   "cell_type": "code",
   "execution_count": null,
   "id": "e6f2fee1-d467-4479-9a99-c7c7676a9c1c",
   "metadata": {},
   "outputs": [],
   "source": []
  },
  {
   "cell_type": "code",
   "execution_count": null,
   "id": "07bdba5a-b1f8-44d8-9f56-86b4cfe259d6",
   "metadata": {},
   "outputs": [],
   "source": []
  },
  {
   "cell_type": "code",
   "execution_count": null,
   "id": "2c4cca47-4a85-4d7a-b82a-cd393036d305",
   "metadata": {},
   "outputs": [],
   "source": [
    "####ALT\n",
    "inputs=tf.keras.Input(shape=((1, 279)))\n",
    "model = Sequential([\n",
    "    tf.keras.layers.Conv1D(filters=256,kernel_size=(1),activation = 'elu',padding='same', input_shape=(inputs.shape[1], inputs.shape[2])),\n",
    "    tf.keras.layers.Bidirectional(LSTM(input_shape=(inputs.shape[1], inputs.shape[2]), return_sequences = True, units = 128, activation = 'swish', \n",
    "                                       dropout=0.3)),\n",
    "    tf.keras.layers.Bidirectional(LSTM(input_shape=(inputs.shape[1], inputs.shape[2]),return_sequences = True, units = 32, activation = 'tanh', \n",
    "                                       dropout=0.3)),                                               \n",
    "    tf.keras.layers.LSTM(input_shape=(inputs.shape[1], inputs.shape[2]),return_sequences = False, units = 8, activation = 'softmax', dropout=0.3),\n",
    "    tf.keras.layers.RepeatVector(trainXscaltref.shape[1]),\n",
    "    tf.keras.layers.LSTM(input_shape=(inputs.shape[1], inputs.shape[2]), return_sequences = True, units = 8, activation = 'selu', dropout=0.2),\n",
    "    tf.keras.layers.Bidirectional(LSTM(input_shape=(inputs.shape[1], inputs.shape[2]),return_sequences = True, units = 32, activation = 'selu', \n",
    "                                       dropout=0.2)),\n",
    "    tf.keras.layers.Bidirectional(LSTM(input_shape=(inputs.shape[1], inputs.shape[2]),return_sequences = True, units = 128, activation = 'linear', \n",
    "                                       dropout=0.1)),\n",
    "    tf.keras.layers.Conv1DTranspose(filters=256, kernel_size=(1), activation = 'swish', padding='same', input_shape=(inputs.shape[1], inputs.shape[2])),\n",
    "    tf.keras.layers.Dense(inputs.shape[1]),#trainXscaltref.shape[1]),\n",
    "    tf.keras.layers.BatchNormalization(),\n",
    "    tf.keras.layers.Dense(inputs.shape[1])#trainyscaltref.shape[1])\n",
    "])\n",
    "model.compile(optimizer = tf.keras.optimizers.Adam(learning_rate=0.1), loss = 'mse', metrics = ['mae','mse'])\n",
    "model.summary()"
   ]
  },
  {
   "cell_type": "code",
   "execution_count": null,
   "id": "f57b1d6b-9083-41df-b91f-b6fd01b644a0",
   "metadata": {},
   "outputs": [],
   "source": [
    "img_file = 'GeoCryoAI_Arch_093023_insituALT.png'\n",
    "#img_file = 'GeoCryoAI_Arch_093023_insituCH4.png'\n",
    "#img_file = 'GeoCryoAI_Arch_093023_insituCO2.png'\n",
    "tf.keras.utils.plot_model(model, to_file=img_file, show_shapes=True, show_layer_names=True, dpi=1000);"
   ]
  },
  {
   "cell_type": "code",
   "execution_count": null,
   "id": "49c609d8-fe29-44e5-b440-9cf63feb7743",
   "metadata": {},
   "outputs": [],
   "source": [
    "# model serialization\n",
    "model_json = model.to_json()\n",
    "with open(\"model_093023_insituALT.json\", \"w\") as json_file:\n",
    "#with open(\"model_093023_insituCH4.json\", \"w\") as json_file:\n",
    "#with open(\"model_093023_insituCO2.json\", \"w\") as json_file:\n",
    "    json_file.write(model_json)\n",
    "# weight serialization\n",
    "model.save_weights(\"model_093023_insituALT.h5\")\n",
    "#model.save_weights(\"model_093023_insituCH4.h5\")\n",
    "#model.save_weights(\"model_093023_insituCO2.h5\")\n",
    "print(\"Saved model to disk\")"
   ]
  },
  {
   "cell_type": "code",
   "execution_count": null,
   "id": "0c830423-f557-46dd-94e6-fd22add0ac56",
   "metadata": {},
   "outputs": [],
   "source": [
    "import tensorboard\n",
    "tensorboard.__version__\n",
    "# Clear any logs from previous runs\n",
    "#rm -rf ./logs/\n",
    "# Load the TensorBoard notebook extension.\n",
    "#%load_ext tensorboard\n",
    "%reload_ext tensorboard\n",
    "\n",
    "import os\n",
    "root_logdir = os.path.join(os.curdir, 'logs')\n",
    "\n",
    "def get_run_logdir():\n",
    "    import time\n",
    "    run_id = time.strftime('run_%Y_%m_%d-%H_%M_%S')\n",
    "    return os.path.join(root_logdir, run_id)\n",
    "\n",
    "run_logdir = get_run_logdir()\n",
    "\n",
    "log_dir = \"logs/fit/\" + datetime.now().strftime(\"%Y%m%d-%H%M%S\")\n",
    "tensorboard_callback = tf.keras.callbacks.TensorBoard(log_dir=log_dir, histogram_freq=1)"
   ]
  },
  {
   "cell_type": "code",
   "execution_count": null,
   "id": "74c73d6a-e036-40fa-95b9-2a69b647ca0d",
   "metadata": {},
   "outputs": [],
   "source": [
    "filepath=\"weights_geocryoai.best_091123_ch4.hdf5\"\n",
    "tensorboard_cb = keras.callbacks.TensorBoard('/tmp/tb_logs')\n",
    "\n",
    "checkpoint = keras.callbacks.ModelCheckpoint(filepath, monitor='val_loss', verbose=1, save_best_only=True, mode='min')\n",
    "early_stopping = keras.callbacks.EarlyStopping(monitor='val_loss', verbose = 1, patience = 10, min_delta = 1e-4, restore_best_weights = True)\n",
    "reduce_loss = keras.callbacks.ReduceLROnPlateau(monitor=\"val_loss\", patience=5)"
   ]
  },
  {
   "cell_type": "code",
   "execution_count": null,
   "id": "77042a13-4043-4873-a6a1-c7ddea1256c4",
   "metadata": {},
   "outputs": [],
   "source": [
    "start_time = time.time()\n",
    "historyalt = model.fit(\n",
    "    trainXscaltref, trainyscaltref,\n",
    "    epochs=100,\n",
    "    batch_size=256,\n",
    "    validation_data=(validXscaltref, validyscaltref),\n",
    "    shuffle=False, \n",
    "    callbacks=[learning_rate_reduction]\n",
    ")\n",
    "elapsed_time = time.time() - start_time\n",
    "print(\"\\nThe first network took {} s to complete training.\".format(round(elapsed_time)))"
   ]
  },
  {
   "cell_type": "code",
   "execution_count": null,
   "id": "65d460db-227d-45f8-b0c2-34809d4e71a2",
   "metadata": {},
   "outputs": [],
   "source": [
    "plt.plot(historyalt.history['loss'])"
   ]
  },
  {
   "cell_type": "code",
   "execution_count": null,
   "id": "1a97d658-dfa7-46bb-866a-727fe8e2adaa",
   "metadata": {},
   "outputs": [],
   "source": [
    "start_time = time.time()\n",
    "historych4 = model.fit(\n",
    "    trainXscch4ref, trainyscch4ref,\n",
    "    epochs=100,\n",
    "    batch_size=256,\n",
    "    validation_data=(validXscch4ref, validyscch4ref),\n",
    "    shuffle=False, \n",
    "    callbacks=[learning_rate_reduction]\n",
    ")\n",
    "elapsed_time = time.time() - start_time\n",
    "print(\"\\nThe first network took {} s to complete training.\".format(round(elapsed_time)))"
   ]
  },
  {
   "cell_type": "code",
   "execution_count": null,
   "id": "edfab214-c559-46b6-85dd-f7bafb46e939",
   "metadata": {},
   "outputs": [],
   "source": [
    "plt.plot(historych4.history['loss'])"
   ]
  },
  {
   "cell_type": "code",
   "execution_count": null,
   "id": "372ab6f5-04a2-4512-b77e-2190a4042f8a",
   "metadata": {},
   "outputs": [],
   "source": [
    "start_time = time.time()\n",
    "historyco2 = model.fit(\n",
    "    trainXscco2ref, trainyscco2ref,\n",
    "    epochs=100,\n",
    "    batch_size=256,\n",
    "    validation_data=(validXscco2ref, validyscco2ref),\n",
    "    shuffle=False, \n",
    "    callbacks=[learning_rate_reduction]\n",
    ")\n",
    "elapsed_time = time.time() - start_time\n",
    "print(\"\\nThe first network took {} s to complete training.\".format(round(elapsed_time)))"
   ]
  },
  {
   "cell_type": "code",
   "execution_count": null,
   "id": "913e9097-9ac8-4631-9fe2-00efcbdc8a7c",
   "metadata": {},
   "outputs": [],
   "source": [
    "plt.plot(historyco2.history['loss'])"
   ]
  },
  {
   "cell_type": "code",
   "execution_count": null,
   "id": "7ab0be46-9f3d-44fd-98a8-62db40547e7b",
   "metadata": {},
   "outputs": [],
   "source": [
    "with open('/Users/bgay/Downloads/trainHistoryALT-091723', 'wb') as file_pi:\n",
    "#with open('trainHistoryCH4-071523', 'wb') as file_pi:\n",
    "#with open('trainHistoryCO2-071523', 'wb') as file_pi:\n",
    "#with open('trainHistoryCH4-071523_model3b', 'wb') as file_pi:\n",
    "    pickle.dump(history.history, file_pi)\n",
    "    #pickle.dump(history3.history, file_pi)\n",
    "    #pickle.dump(history4.history, file_pi)\n",
    "    #pickle.dump(history5.history, file_pi)"
   ]
  },
  {
   "cell_type": "code",
   "execution_count": null,
   "id": "2fddd3c3-b32b-4e57-87da-73650847386b",
   "metadata": {},
   "outputs": [],
   "source": [
    "# convert the history.history dict to a pandas DataFrame:     \n",
    "hist_df = pd.DataFrame(history.history)\n",
    "\n",
    "# save to json:  \n",
    "hist_json_file = '/Users/bgay/Downloads/historyalt_091723.json' \n",
    "with open(hist_json_file, mode='w') as f:\n",
    "    hist_df.to_json(f)\n",
    "\n",
    "# or save to csv: \n",
    "hist_csv_file = '/Users/bgay/Downloads/historyalt_091723.csv'\n",
    "with open(hist_csv_file, mode='w') as f:\n",
    "    hist_df.to_csv(f)"
   ]
  },
  {
   "cell_type": "code",
   "execution_count": null,
   "id": "91e349ec-221d-4487-a77f-9cad88553207",
   "metadata": {},
   "outputs": [],
   "source": [
    "fig,ax = plt.subplots(figsize=(6,4), dpi=100)\n",
    "l1=ax.plot(history2.history['mean_squared_error'], color='dodgerblue', linestyle='solid', label='CH4 Flux Training Loss (mgCH4m-2d-1)')\n",
    "l2=ax.plot(history2.history['val_loss'], color='magenta', linestyle='solid', label='CH4 Flux Validation Loss (mgCH4m-2d-1)')\n",
    "#ax2=ax.twinx();\n",
    "#ln4=ax2.plot(validPredict, color='coral', linestyle='dotted')\n",
    "\n",
    "lines = l1 + l2#+ ln2 + ln3 #+ ln4 #+ ln5# ln4 + ln5 + ln6# + ln7 + ln8\n",
    "labs = [line.get_label() for line in lines];\n",
    "ax.legend(lines, labs, loc='best', fontsize=8)#'lower left', fontsize=8)\n",
    "\n",
    "ax.grid(linewidth=0.3);\n",
    "ax.set_xlabel('Epochs', labelpad=8, fontsize=8);\n",
    "ax.set_ylabel('Training Loss', labelpad=8, fontsize=8)\n",
    "#ax.set(xticklabels=[])  # remove the tick labels\n",
    "#ax.tick_params(left=False)  # remove the ticks\n",
    "plt.title('GeoCryoAI TCFM-Arctic Module | ConvLSTM2D Autoencoder Loss Function \\n CH4 Flux Simulations (2003-2015)', pad=10, fontsize=10)\n",
    "\n",
    "#plt.xlabel('Year')\n",
    "#plt.axis([0, 6, 0, 60])\n",
    "#plt.legend(loc='best')\n",
    "plt.show()\n",
    "#plt.savefig('/Users/bradleygay/Downloads/bilstmae_insitu_CO2_loss.png',dpi=1000)"
   ]
  },
  {
   "cell_type": "code",
   "execution_count": null,
   "id": "a412a407",
   "metadata": {
    "jupyter": {
     "source_hidden": true
    }
   },
   "outputs": [],
   "source": [
    "# class geocryoai(HyperModel):\n",
    "#     def build(self, hp):\n",
    "#         #backend.clear_session()\n",
    "#         #inputs = keras.Input(shape=(X_train_reframed.shape[1], X_train_reframed.shape[2]))\n",
    "#         model = tf.keras.Sequential()\n",
    "#         #for i in range(n_layers):\n",
    "#         model.add(Conv1D(\n",
    "#             filters=hp['conv1d_filters'], \n",
    "#             kernel_size=hp['conv1d_kernel_size'], \n",
    "#             activation = hp['conv1d_activation'],\n",
    "#             padding='same', \n",
    "#             input_shape=(inputs.shape[1], inputs.shape[2])))\n",
    "#         # model.add(MaxPool1D(pool_size=1))\n",
    "#         #for i in range(hp['n_layers']): #TUNE THIS (LAYERS) WHEN ADDING SATELLITE AND MODELING DATA\n",
    "#         model.add(Bidirectional(LSTM(\n",
    "#             input_shape=(inputs.shape[1], inputs.shape[2]),\n",
    "#             return_sequences = True, \n",
    "#             #kernel_initializer = tf.keras.initializers.RandomNormal(mean=0.0, stddev=0.00001),\n",
    "#             #name = f\"1BiLSTM_layer_{i+1}\",\n",
    "#             units = hp['bilstm_units'],\n",
    "#             activation = hp['bilstm_activation'],\n",
    "#             #recurrent_activation = hp['bilstm_rec_activation'],\n",
    "#             use_bias = hp['bilstm_use_bias'],\n",
    "#             unit_forget_bias = hp['bilstm_forgot_bias'],\n",
    "#             dropout=hp['bilstm_dropout'],\n",
    "#             recurrent_dropout = hp['bilstm_rec_dropout'])))\n",
    "#         model.add(Bidirectional(LSTM(\n",
    "#             input_shape=(inputs.shape[1], inputs.shape[2]),\n",
    "#             return_sequences = True, \n",
    "#             #kernel_initializer = tf.keras.initializers.RandomNormal(mean=0.0, stddev=0.00001),\n",
    "#             #name = f\"1BiLSTM_layer_{i+1}\",\n",
    "#             units = hp['bilstm2_units'],\n",
    "#             activation = hp['bilstm2_activation'],\n",
    "#             #recurrent_activation = hp['bilstm2_rec_activation'],\n",
    "#             use_bias = hp['bilstm2_use_bias'],\n",
    "#             unit_forget_bias = hp['bilstm2_forgot_bias'],\n",
    "#             dropout=hp['bilstm2_dropout'],\n",
    "#             recurrent_dropout = hp['bilstm2_rec_dropout'])))\n",
    "#         #for i in range(hp['n_layers']):\n",
    "#         model.add(LSTM(\n",
    "#             units=hp['lstm_units'],\n",
    "#             activation = hp['lstm_activation'],\n",
    "#             #recurrent_activation=hp['lstm_rec_activation'],\n",
    "#             return_sequences=False, \n",
    "#             dropout=hp['lstm_dropout'],\n",
    "#             recurrent_dropout=hp['lstm_rec_dropout'],\n",
    "#             input_shape=(inputs.shape[1], inputs.shape[2])))\n",
    "#         #model.add(Bidirectional(LSTM(inputs.shape[-1], activation='relu', return_sequences = False, dropout=0, input_shape=(inputs.shape[1], inputs.shape[2]))))\n",
    "#         model.add(RepeatVector(inputs.shape[1]))   #TUNE THIS (LAYERS) WHEN ADDING SATELLITE AND MODELING DATA\n",
    "#         model.add(LSTM(\n",
    "#             units=hp['lstm2_units'], \n",
    "#             activation = hp['lstm2_activation'],\n",
    "#             #recurrent_activation= hp['lstm2_rec_activation'],\n",
    "#             return_sequences=True,\n",
    "#             dropout=hp['lstm2_dropout'],\n",
    "#             recurrent_dropout=hp['lstm2_rec_dropout'],\n",
    "#             input_shape=(inputs.shape[1], inputs.shape[2])))\n",
    "#         #model.add(Bidirectional(LSTM(inputs.shape[-1], activation='relu', return_sequences = True, dropout=0, input_shape=(inputs.shape[1], inputs.shape[2])))) \n",
    "#         model.add(Bidirectional(LSTM(\n",
    "#             input_shape=(inputs.shape[1], inputs.shape[2]),\n",
    "#             return_sequences = True, \n",
    "#             #kernel_initializer = tf.keras.initializers.RandomNormal(mean=0.0, stddev=0.00001),\n",
    "#             #name = f\"2BiLSTM_layer_{i+1}\",\n",
    "#             units = hp['bilstm3_units'],\n",
    "#             activation = hp['bilstm3_activation'],\n",
    "#             #recurrent_activation = hp['bilstm3_rec_activation'],\n",
    "#             use_bias = hp['bilstm3_use_bias'],\n",
    "#             unit_forget_bias = hp['bilstm3_forgot_bias'],\n",
    "#             dropout=hp['bilstm3_dropout'],\n",
    "#             recurrent_dropout = hp['bilstm3_rec_dropout'])))\n",
    "#         model.add(Bidirectional(LSTM(\n",
    "#             input_shape=(inputs.shape[1], inputs.shape[2]),\n",
    "#             return_sequences = hp['bilstm4_units'], \n",
    "#             #kernel_initializer = tf.keras.initializers.RandomNormal(mean=0.0, stddev=0.00001),\n",
    "#             #name = f\"2BiLSTM_layer_{i+1}\",\n",
    "#             units = 32,\n",
    "#             activation = hp['bilstm4_activation'],\n",
    "#             #recurrent_activation = hp['bilstm4_rec_activation'],\n",
    "#             use_bias = hp['bilstm4_use_bias'],\n",
    "#             unit_forget_bias = hp['bilstm4_forgot_bias'],\n",
    "#             dropout=hp['bilstm4_dropout'],\n",
    "#             recurrent_dropout = hp['bilstm4_rec_dropout'])))\n",
    "#         model.add(Conv1DTranspose(\n",
    "#            filters=hp['conv1d2_filters'], \n",
    "#            kernel_size=hp['conv1d2_kernel_size'], \n",
    "#            activation = hp['conv1d2_activation'],\n",
    "#            padding='same', \n",
    "#            input_shape=(inputs.shape[1], inputs.shape[2])))\n",
    "#         model.add(TimeDistributed(Dense(trainyscalt.shape[1])))\n",
    "#         #model.add(TimeDistributed(Dense(trainyscch4ref.shape[1])))\n",
    "#         #model.add(TimeDistributed(Dense(trainyscco2ref.shape[1])))\n",
    "#         model.add(Dense(trainXscaltref.shape[1]))\n",
    "#         #model.add(Dense(trainXscch4ref.shape[1]))\n",
    "#         #model.add(Dense(trainXscco2ref.shape[1]))\n",
    "#         metrics=['mean_squared_error', 'mean_absolute_error', RSquare().build(input_shape = (trainyscalt.shape[1],))]\n",
    "#         #metrics=['mean_squared_error', 'mean_absolute_error', RSquare().build(input_shape = (trainyscch4ref.shape[1],))]\n",
    "#         #metrics=['mean_squared_error', 'mean_absolute_error', RSquare().build(input_shape = (trainyscco2ref.shape[1],))]\n",
    "#         loss_function = 'mean_squared_error'\n",
    "#         model.compile(optimizer = tf.keras.optimizers.legacy.RMSprop(learning_rate = hp.get('learning_rate'), **{\"clipvalue\" : 1000}),loss = loss_function, metrics = metrics)\n",
    "#         return model\n",
    "    \n",
    "#     def fit(self, hp, model, *args, **kwargs):\n",
    "#         return model.fit(*args, batch_size = hp.get('batch_size'), **kwargs) #hp['batch_size'], **kwargs)"
   ]
  },
  {
   "cell_type": "code",
   "execution_count": null,
   "id": "98369560-4f60-426b-9e5a-b7d8c4aec356",
   "metadata": {},
   "outputs": [],
   "source": [
    "inputs=tf.keras.Input(shape=((1, 279)))"
   ]
  },
  {
   "cell_type": "code",
   "execution_count": null,
   "id": "1d09bc76-6caf-45cf-9385-d877a5b90f08",
   "metadata": {
    "jupyter": {
     "source_hidden": true
    }
   },
   "outputs": [],
   "source": [
    "outputs=tf.keras.layers.Dense(1, activation='softmax')(inputs)"
   ]
  },
  {
   "cell_type": "code",
   "execution_count": null,
   "id": "1f3432d6",
   "metadata": {
    "jupyter": {
     "source_hidden": true
    }
   },
   "outputs": [],
   "source": [
    "#ALT\n",
    "class geocryoai(HyperModel):\n",
    "    def build(self, hp):\n",
    "        #backend.clear_session()\n",
    "        inputs = keras.Input(shape=(trainXscaltref.shape[1], trainXscaltref.shape[2]))\n",
    "        #inputs = keras.Input(shape=(trainXscch4ref.shape[1], trainXscch4ref.shape[2]))        \n",
    "        model = tf.keras.Sequential()\n",
    "        #for i in range(n_layers):\n",
    "        model.add(Conv1D(\n",
    "            filters=96, \n",
    "            kernel_size=9, \n",
    "            activation = 'swish',\n",
    "            padding='same', \n",
    "            input_shape=(inputs.shape[1], inputs.shape[2])))\n",
    "        # model.add(MaxPool1D(pool_size=1))\n",
    "        #for i in range(hp['n_layers']): #TUNE THIS (LAYERS) WHEN ADDING SATELLITE AND MODELING DATA\n",
    "        model.add(Bidirectional(LSTM(\n",
    "            input_shape=(inputs.shape[1], inputs.shape[2]),\n",
    "            return_sequences = True, \n",
    "            #kernel_initializer = tf.keras.initializers.RandomNormal(mean=0.0, stddev=0.00001),\n",
    "            #name = f\"1BiLSTM_layer_{i+1}\",\n",
    "            units = 97,\n",
    "            activation = 'relu',\n",
    "            #recurrent_activation = 'relu',\n",
    "            use_bias = False,\n",
    "            unit_forget_bias = True,\n",
    "            dropout=0.1,\n",
    "            recurrent_dropout = 0.1)))\n",
    "        model.add(LSTM(\n",
    "            units=64,\n",
    "            activation = 'relu',\n",
    "            #recurrent_activation = 'relu',\n",
    "            return_sequences=False, \n",
    "            dropout=0.1,\n",
    "            recurrent_dropout=0.1,\n",
    "            input_shape=(inputs.shape[1], inputs.shape[2])))\n",
    "        #model.add(Bidirectional(LSTM(inputs.shape[-1], activation='relu', return_sequences = False, dropout=0, input_shape=(inputs.shape[1], inputs.shape[2]))))\n",
    "        model.add(RepeatVector(inputs.shape[1]))   #TUNE THIS (LAYERS) WHEN ADDING SATELLITE AND MODELING DATA\n",
    "        model.add(LSTM(\n",
    "            units=128, \n",
    "            activation = 'relu',\n",
    "            #recurrent_activation='relu',\n",
    "            return_sequences=True,\n",
    "            dropout=0.1,\n",
    "            recurrent_dropout=0.1,\n",
    "            input_shape=(inputs.shape[1], inputs.shape[2])))\n",
    "        #model.add(Bidirectional(LSTM(inputs.shape[-1], activation='relu', return_sequences = True, dropout=0, input_shape=(inputs.shape[1], inputs.shape[2])))) \n",
    "        model.add(Bidirectional(LSTM(\n",
    "            input_shape=(inputs.shape[1], inputs.shape[2]),\n",
    "            return_sequences = True, \n",
    "            #kernel_initializer = tf.keras.initializers.RandomNormal(mean=0.0, stddev=0.00001),\n",
    "            #name = f\"2BiLSTM_layer_{i+1}\",\n",
    "            units = 128,\n",
    "            activation = 'relu',\n",
    "            #recurrent_activation = 'sigmoid',\n",
    "            use_bias = True,\n",
    "            unit_forget_bias = False,\n",
    "            dropout=0.1,\n",
    "            recurrent_dropout = 0.1)))\n",
    "        model.add(Conv1DTranspose(\n",
    "           filters=88, \n",
    "           kernel_size=9, \n",
    "           activation = 'swish',\n",
    "           padding='same', \n",
    "           input_shape=(inputs.shape[1], inputs.shape[2])))\n",
    "        model.add(TimeDistributed(Dense(trainyscalt.shape[1])))\n",
    "        #model.add(TimeDistributed(Dense(trainyscch4ref.shape[1])))\n",
    "        #model.add(Dense(trainXscaltref.shape[1]))\n",
    "        #model.add(Dense(trainXscch4ref.shape[1]))\n",
    "        metrics=['mean_squared_error', 'mean_absolute_error', RSquare().build(input_shape = (trainyscalt.shape[1],))]\n",
    "        #metrics=['mean_squared_error', 'mean_absolute_error', RSquare().build(input_shape = (trainyscch4ref.shape[1],))]\n",
    "        loss_function = 'mean_squared_error'\n",
    "        model.compile(optimizer = tf.keras.optimizers.legacy.RMSprop(learning_rate = 0.0001, **{\"clipvalue\" : 1000}),loss = loss_function, metrics = metrics)\n",
    "        return model\n",
    "    \n",
    "    def fit(self, hp, model, *args, **kwargs):\n",
    "        return model.fit(*args, batch_size = 64, **kwargs)"
   ]
  },
  {
   "cell_type": "code",
   "execution_count": null,
   "id": "bd8d5e82",
   "metadata": {
    "jupyter": {
     "source_hidden": true
    }
   },
   "outputs": [],
   "source": [
    "# add early stopping criteria t/Volumes/op training if validation score does not improve - cuts down on computational load/speed.\n",
    "filepath=\"weights_geocryoai.best_alt_091723.hdf5\"\n",
    "tensorboard_cb = keras.callbacks.TensorBoard('/tmp/tb_logs')\n",
    "checkpoint = keras.callbacks.ModelCheckpoint(filepath, monitor='val_loss', verbose=1, save_best_only=True, mode='min')\n",
    "early_stopping = EarlyStopping(monitor='val_loss', verbose = 1, patience = 10, min_delta = 1e-4, restore_best_weights = True)\n",
    "# fit network\n",
    "start_time = time.time()\n",
    "history = model.fit(trainXscaltref,\n",
    "                    trainyscalt,  \n",
    "                    epochs=10, \n",
    "                    batch_size=64,#128,#512, \n",
    "                    validation_data=(validXscaltref,validyscalt),\n",
    "                    steps_per_epoch = None,\n",
    "                    shuffle=False, \n",
    "                    callbacks=[early_stopping, TerminateOnNaN(),  keras.callbacks.TensorBoard(\"/tmp/tb_logs\")],\n",
    "                    use_multiprocessing = True)\n",
    "\n",
    "elapsed_time = time.time() - start_time\n",
    "print(\"\\nThe first network took {} s to complete training.\".format(round(elapsed_time)))"
   ]
  },
  {
   "cell_type": "code",
   "execution_count": null,
   "id": "5f26d508",
   "metadata": {},
   "outputs": [],
   "source": [
    "score=model.evaluate(testXscaltref, testyscalt, verbose = 1)"
   ]
  },
  {
   "cell_type": "code",
   "execution_count": null,
   "id": "d772a915",
   "metadata": {},
   "outputs": [],
   "source": [
    "#score_2b = model2.evaluate(testXscaltref, testyscaltref, verbose = 1) \n",
    "testXscref.shape"
   ]
  },
  {
   "cell_type": "code",
   "execution_count": null,
   "id": "e1e23a90-0979-4966-8619-d55a17bdb7ea",
   "metadata": {},
   "outputs": [],
   "source": [
    "testXscrefr=np.expand_dims(testXscref,2)\n",
    "testyscrefr=np.expand_dims(testyscref,2)"
   ]
  },
  {
   "cell_type": "code",
   "execution_count": null,
   "id": "a8b56faa-c125-4ee6-a31b-4434a68f4a91",
   "metadata": {},
   "outputs": [],
   "source": [
    "score = model.evaluate(testXscrefr, testyscrefr, verbose = 1) \n",
    "#score_3 = model3.evaluate(testXscch4ref, testyscch4ref, verbose = 1)\n",
    "#score_4 = model4.evaluate(testXscco2ref, testyscco2ref, verbose = 1)\n",
    "#score_3b = model3b.evaluate(testXscch4ref, testyscch4ref, verbose = 1)"
   ]
  },
  {
   "cell_type": "code",
   "execution_count": null,
   "id": "f5a5fbfc-2306-4fb9-af43-4fe917df75b4",
   "metadata": {},
   "outputs": [],
   "source": [
    "print('Test MAE:', score[1])\n",
    "print('Test MSE:', score[2])\n",
    "print('Test RMSE:', np.sqrt(score[2]))"
   ]
  },
  {
   "cell_type": "code",
   "execution_count": null,
   "id": "0c037e40-13c6-46c3-acbf-dd28088a9e43",
   "metadata": {},
   "outputs": [],
   "source": [
    "print(testXscref.shape, testyscref.shape)\n",
    "print(testXscrefr.shape, testyscrefr.shape)"
   ]
  },
  {
   "cell_type": "code",
   "execution_count": null,
   "id": "4bd9f9c2-88b3-4055-85d8-04424ee6e8d1",
   "metadata": {},
   "outputs": [],
   "source": [
    "yhat=model2.predict(trainXscrefr[-32:].reshape(32,32,1,1,1))"
   ]
  },
  {
   "cell_type": "code",
   "execution_count": null,
   "id": "5820fb65-43be-4f01-9965-21727834b98b",
   "metadata": {},
   "outputs": [],
   "source": [
    "yhatinv = yscaler.inverse_transform(yhat.reshape(32,32))"
   ]
  },
  {
   "cell_type": "code",
   "execution_count": null,
   "id": "24ea1d58-baec-464c-961b-8b8f5c880352",
   "metadata": {},
   "outputs": [],
   "source": [
    "yhatinv=yhatinv.reshape(32*32,1)"
   ]
  },
  {
   "cell_type": "code",
   "execution_count": null,
   "id": "4fe0ea11-2560-47dc-b86f-24bf32f37010",
   "metadata": {},
   "outputs": [],
   "source": [
    "plt.plot(yhatinv)"
   ]
  },
  {
   "cell_type": "code",
   "execution_count": null,
   "id": "a6ec1197-f9c0-4d9c-a6b5-27dca054a5b0",
   "metadata": {},
   "outputs": [],
   "source": [
    "X_new_scaled = X_train[0]\n",
    "print (X_new_scaled)\n",
    "y_new = clf_sgd.predict(X_new_scaled)\n",
    "print (y_new)"
   ]
  },
  {
   "cell_type": "code",
   "execution_count": null,
   "id": "6d020694-6405-425d-a6f9-c49044d8fe13",
   "metadata": {},
   "outputs": [],
   "source": [
    "# make a forecast\n",
    "def forecast(model, history, n_input):\n",
    " # flatten data\n",
    " data = array(history)\n",
    " data = data.reshape((data.shape[0]*data.shape[1], data.shape[2]))\n",
    " # retrieve last observations for input data\n",
    " input_x = data[-n_input:, 0]\n",
    " # reshape into [1, n_input, 1]\n",
    " input_x = input_x.reshape((1, len(input_x), 1))\n",
    " # forecast the next week\n",
    " yhat = model.predict(input_x, verbose=0)\n",
    " # we only want the vector forecast\n",
    " yhat = yhat[0]\n",
    " return yhat"
   ]
  },
  {
   "cell_type": "code",
   "execution_count": null,
   "id": "55b4658d-98ee-4c05-b569-2a15bdd92bf0",
   "metadata": {},
   "outputs": [],
   "source": [
    "plt.plot(history.history['loss'])\n",
    "#plt.plot(history3.history['loss'])\n",
    "#plt.plot(history4.history['loss'])\n",
    "#plt.plot(history5.history['loss'])"
   ]
  },
  {
   "cell_type": "code",
   "execution_count": null,
   "id": "e7e498ff-6512-436c-b85f-8673a9d5faa7",
   "metadata": {},
   "outputs": [],
   "source": [
    "testyscrefrpred = model.predict(testXscrefr)"
   ]
  },
  {
   "cell_type": "code",
   "execution_count": null,
   "id": "9343e6d7-7c18-4a91-b329-87a2e9f11819",
   "metadata": {},
   "outputs": [],
   "source": [
    "testyscrefrpred.shape"
   ]
  },
  {
   "cell_type": "code",
   "execution_count": null,
   "id": "66ea759b-f542-4d19-bd09-abe87c19ed4d",
   "metadata": {},
   "outputs": [],
   "source": [
    "testypred=yscaler.inverse_transform(testyscrefrpred.reshape(365,1))"
   ]
  },
  {
   "cell_type": "code",
   "execution_count": null,
   "id": "a2175c30-dec1-4eee-b240-33489ce26aad",
   "metadata": {},
   "outputs": [],
   "source": [
    "testyscref2=testyscrefr.reshape(len(testyscrefr),1)\n",
    "testyref2=yscaler.inverse_transform(testyscref2)"
   ]
  },
  {
   "cell_type": "code",
   "execution_count": null,
   "id": "7e5e2473-2595-4b59-905e-0cecfafeddab",
   "metadata": {},
   "outputs": [],
   "source": [
    "plt.plot()\n",
    "plt.plot(testyref2[:,0])\n",
    "plt.plot(testypred[:,0])"
   ]
  },
  {
   "cell_type": "code",
   "execution_count": null,
   "id": "5be6528c-9473-4dd8-bec6-8c4071457ebb",
   "metadata": {},
   "outputs": [],
   "source": [
    "rmse = np.sqrt(mean_squared_error(testyref2, testypred))\n",
    "print('Test RMSE: %.3f' % rmse)"
   ]
  },
  {
   "cell_type": "code",
   "execution_count": null,
   "id": "4f388918-aa1f-4446-9e8b-f26c77f24825",
   "metadata": {},
   "outputs": [],
   "source": []
  },
  {
   "cell_type": "markdown",
   "id": "581a3c5e",
   "metadata": {
    "jp-MarkdownHeadingCollapsed": true
   },
   "source": [
    "#### In Situ, RS, and Model Output Modeling"
   ]
  },
  {
   "cell_type": "code",
   "execution_count": null,
   "id": "96430df2",
   "metadata": {
    "jupyter": {
     "source_hidden": true
    }
   },
   "outputs": [],
   "source": [
    "# inputs = keras.Input(shape=(trainXscch4ref.shape[1], trainXscch4ref.shape[2]))\n",
    "hp = HyperParameters()\n",
    "units=hp.Int(\"units\", min_value=32, max_value = 256, step=16)#inputs.shape[2], step=32)\n",
    "batch_size=hp.Int(\"batch_size\", min_value = 32, max_value = 256, step = 32)\n",
    "learning_rate=hp.Choice(\"learning_rate\", [1e-1, 1e-2, 1e-3, 1e-4, 1e-5])\n",
    "#inputs2 = keras.Input(shape=(alt_Xtrainsc.shape[1], alt_Xtrainsc.shape[2]))\n",
    "#units2=hp.Int(\"units2\", min_value=64, max_value = inputs2.shape[2], step=64)\n",
    "#padding=hp.Choice(\"padding\", ['valid','same','causal'])\n",
    "#n_layers=hp.Int(\"n_layers\", min_value = 1, max_value = 9, step=3)\n",
    "#n_layers=hp.Int(\"n_layers\", min_value = 5, max_value = 15) \n",
    "#batch_size=hp.Int(\"batch_size\", min_value = 32, max_value = 256, step = 32)\n",
    "\n",
    "conv3d_filters=hp.Int(\"conv3d_filters\",min_value=hp['units'],max_value=2*hp['units'])\n",
    "conv3d_kernel_size=hp.Int(\"conv3d_kernel_size\", min_value = 3, max_value = 6, step=1)\n",
    "conv3d_activation=hp.Choice(\"conv3d_activation\", ['relu','sigmoid', 'tanh', 'exponential', 'gelu', 'elu', 'linear', 'selu', 'softmax', 'swish'])\n",
    "\n",
    "conv3d2_filters=hp.Int(\"conv3d2_filters\", min_value = hp['units'], max_value=2*hp['units'])\n",
    "conv3d2_kernel_size=hp.Int(\"conv3d2_kernel_size\", min_value = 3, max_value = 6, step=1)\n",
    "conv3d2_activation=hp.Choice(\"conv3d2_activation\", ['relu','sigmoid', 'tanh', 'exponential', 'gelu', 'elu', 'linear', 'selu', 'softmax', 'swish'])\n",
    "\n",
    "conv3d3_filters=hp.Int(\"conv3d3_filters\", min_value = hp['units'], max_value=2*hp['units'])\n",
    "conv3d3_kernel_size=hp.Int(\"conv3d3_kernel_size\", min_value = 1, max_value = 6, step=1)\n",
    "conv3d3_activation=hp.Choice(\"conv3d3_activation\", ['relu','sigmoid', 'tanh', 'exponential', 'gelu', 'elu', 'linear', 'selu', 'softmax', 'swish'])\n",
    "\n",
    "conv3d4_filters=hp.Int(\"conv3d4_filters\",min_value=hp['units'],max_value=2*hp['units'])\n",
    "conv3d4_kernel_size=hp.Int(\"conv3d4_kernel_size\", min_value = 3, max_value = 6, step=1)\n",
    "conv3d4_activation=hp.Choice(\"conv3d4_activation\", ['relu','sigmoid', 'tanh', 'exponential', 'gelu', 'elu', 'linear', 'selu', 'softmax', 'swish'])"
   ]
  },
  {
   "cell_type": "code",
   "execution_count": null,
   "id": "82d833a6",
   "metadata": {
    "jupyter": {
     "source_hidden": true
    }
   },
   "outputs": [],
   "source": [
    "# inputs = keras.Input(shape=(trainXscch4ref.shape[1], trainXscch4ref.shape[2]))\n",
    "#hp = HyperParameters()\n",
    "#units=hp.Int(\"units\", min_value=32, max_value = 256, step=16)#inputs.shape[2], step=32)\n",
    "#batch_size=hp.Int(\"batch_size\", min_value = 1, max_value = 256, step = 32)\n",
    "#learning_rate=hp.Choice(\"learning_rate\", [1e-1, 1e-2, 1e-3, 1e-4, 1e-5])\n",
    "#inputs2 = keras.Input(shape=(alt_Xtrainsc.shape[1], alt_Xtrainsc.shape[2]))\n",
    "#units2=hp.Int(\"units2\", min_value=64, max_value = inputs2.shape[2], step=64)\n",
    "#padding=hp.Choice(\"padding\", ['valid','same','causal'])\n",
    "#n_layers=hp.Int(\"n_layers\", min_value = 1, max_value = 9, step=3)\n",
    "#n_layers=hp.Int(\"n_layers\", min_value = 5, max_value = 15) \n",
    "#batch_size=hp.Int(\"batch_size\", min_value = 32, max_value = 256, step = 32)\n",
    "\n",
    "hp = HyperParameters()\n",
    "units=hp.Int(\"units\", min_value=32, max_value = 256, step=16)#inputs.shape[2], step=32)\n",
    "batch_size=hp.Int(\"batch_size\", min_value = 1, max_value = 256, step = 32)\n",
    "learning_rate=hp.Choice(\"learning_rate\", [1e-1, 1e-2, 1e-3, 1e-4])\n",
    "\n",
    "conv3d_filters=hp.Int(\"conv3d_filters\",min_value=32,max_value=256, step=16)\n",
    "#conv3d_kernel_size=hp.Int(\"conv3d_kernel_size\", min_value = 1, max_value = 6, step=1)\n",
    "conv3d_activation=hp.Choice(\"conv3d_activation\", ['relu','sigmoid', 'tanh', 'exponential', 'gelu', 'elu', 'linear', 'selu', 'softmax', 'swish'])\n",
    "\n",
    "conv3d2_filters=hp.Int(\"conv3d2_filters\",min_value=32,max_value=256, step=16)\n",
    "#conv3d2_kernel_size=hp.Int(\"conv3d2_kernel_size\", min_value = 1, max_value = 6, step=1)\n",
    "conv3d2_activation=hp.Choice(\"conv3d2_activation\", ['relu','sigmoid', 'tanh', 'exponential', 'gelu', 'elu', 'linear', 'selu', 'softmax', 'swish'])\n",
    "\n",
    "conv3d3_filters=hp.Int(\"conv3d3_filters\",min_value=32,max_value=256, step=16)\n",
    "#conv3d3_kernel_size=hp.Int(\"conv3d3_kernel_size\", min_value = 1, max_value = 6, step=1)\n",
    "conv3d3_activation=hp.Choice(\"conv3d3_activation\", ['relu','sigmoid', 'tanh', 'exponential', 'gelu', 'elu', 'linear', 'selu', 'softmax', 'swish'])\n",
    "\n",
    "conv3d4_filters=hp.Int(\"conv3d4_filters\",min_value=32,max_value=256, step=16)\n",
    "#conv3d4_kernel_size=hp.Int(\"conv3d4_kernel_size\", min_value = 1, max_value = 6, step=1)\n",
    "conv3d4_activation=hp.Choice(\"conv3d4_activation\", ['relu','sigmoid', 'tanh', 'exponential', 'gelu', 'elu', 'linear', 'selu', 'softmax', 'swish'])"
   ]
  },
  {
   "cell_type": "code",
   "execution_count": null,
   "id": "80f50c88",
   "metadata": {},
   "outputs": [],
   "source": [
    "trainXscref.shape\n",
    "\n",
    "#OLD, CHANGED DIMENSIONS TO ?, 3638, 1, 1, 1, 3 (BELOW) BECAUSE FOR VALIDATION, SHAPES MUST MATCH (ON THE LAST AXIS, THAT IS)\n",
    "#inputs = keras.Input(shape=(trainXscrefr.shape[0], trainXscrefr.shape[1],trainXscrefr.shape[2], trainXscrefr.shape[3], trainXscrefr.shape[4]))\n",
    "#inputs\n",
    "#USE THE INPUTS BELOW\n",
    "\n",
    "inputs = keras.Input(shape=(trainXscref.shape[0], trainXscref.shape[1],trainXscref.shape[2], trainXscref.shape[3], trainXscref.shape[4]))\n",
    "#inputs = keras.Input(shape=(X.shape[0], X.shape[1],X.shape[2], X.shape[3], X.shape[4]))\n",
    "inputs"
   ]
  },
  {
   "cell_type": "code",
   "execution_count": null,
   "id": "7e18bbd7",
   "metadata": {},
   "outputs": [],
   "source": [
    "trainyref.shape"
   ]
  },
  {
   "cell_type": "code",
   "execution_count": null,
   "id": "76541778",
   "metadata": {},
   "outputs": [],
   "source": [
    "inputs.shape"
   ]
  },
  {
   "cell_type": "code",
   "execution_count": null,
   "id": "205063be",
   "metadata": {},
   "outputs": [],
   "source": [
    "from keras.layers import Masking\n",
    "class geocryoai(HyperModel):\n",
    "    def build(self, hp):\n",
    "        model = tf.keras.Sequential()\n",
    "        #model.add(Masking(mask_value=-1, input_shape=(2, 1)))\n",
    "        model.add(ConvLSTM2D(filters=hp['conv3d_filters'], \n",
    "                             kernel_size=(hp['conv3d_kernel_size'], hp['conv3d_kernel_size']),#, hp['conv3d_kernel_size']), \n",
    "                             strides=(1,1),\n",
    "                             activation=hp['conv3d_activation'],#'relu', \n",
    "                             return_sequences=True,\n",
    "                             padding='same',\n",
    "                             data_format='channels_last',\n",
    "                             input_shape=(inputs.shape[2], inputs.shape[3], inputs.shape[4], inputs.shape[5])))\n",
    "        #model.add(Reshape((3243,31,1,hp['conv3d_filters'])))\n",
    "        #model.add(LeakyReLU())\n",
    "        #model.add(tf.keras.layers.TimeDistributed(Dense(1)))\n",
    "        #model.add(layers.TimeDistributed(layers.Dense(1)))\n",
    "        #model.add(LeakyReLU())\n",
    "        #model.add(BatchNormalization())\n",
    "        model.add(Dropout(0.2))\n",
    "        model.add(tf.keras.layers.TimeDistributed(Dense(1)))\n",
    "        #model.add(Reshape((self.shape[0],self.shape[1],1,hp['conv3d_filters'])))\n",
    "        model.add(ConvLSTM2D(filters=hp['conv3d2_filters'], \n",
    "                             kernel_size=(hp['conv3d2_kernel_size'], hp['conv3d2_kernel_size']),#, hp['conv3d2_kernel_size']), \n",
    "                             strides=(1,1),\n",
    "                             activation=hp['conv3d2_activation'],#'relu', \n",
    "                             return_sequences=True,\n",
    "                             padding='same'))\n",
    "        #model.add(Reshape((inputs.shape[1],inputs.shape[2],hp['conv3d2_filters'])))\n",
    "        #model.add(tf.keras.layers.TimeDistributed(Dense(1)))\n",
    "        #model.add(Reshape((hp['batch_size'],60,hp['conv3d_filters'])))\n",
    "        #model.add(layers.TimeDistributed(layers.MaxPooling3D(pool_size=(2,2,2))))\n",
    "        #model.add(LeakyReLU())\n",
    "        #model.add(BatchNormalization())\n",
    "        model.add(Dropout(0.2))\n",
    "        model.add(tf.keras.layers.TimeDistributed(Dense(1)))\n",
    "        #model.add(Reshape((inputs.shape[1],inputs.shape[2],1,hp['conv3d2_filters'])))\n",
    "        model.add(ConvLSTM2D(filters=hp['conv3d3_filters'], \n",
    "                             kernel_size=(hp['conv3d3_kernel_size'], hp['conv3d3_kernel_size']),#, hp['conv3d3_kernel_size']), \n",
    "                             strides=(1,1),\n",
    "                             activation=hp['conv3d3_activation'],#'relu', \n",
    "                             return_sequences=True,\n",
    "                             padding='same'))\n",
    "        #model.add(Reshape((inputs.shape[1],inputs.shape[2],hp['conv3d3_filters'])))\n",
    "        #model.add(tf.keras.layers.TimeDistributed(Dense(1)))\n",
    "        #model.add(Reshape((hp['batch_size'],60,hp['conv3d_filters'])))\n",
    "        #model.add(layers.TimeDistributed(layers.MaxPooling3D(pool_size=(2,2,2))))\n",
    "        #model.add(LeakyReLU())\n",
    "        #model.add(BatchNormalization())\n",
    "        model.add(Dropout(0.2))\n",
    "        model.add(tf.keras.layers.TimeDistributed(Dense(1)))\n",
    "        #model.add(Reshape((hp['batch_size'],60,1,hp['conv3d_filters'])))\n",
    "        #model.add(Reshape((inputs.shape[1],inputs.shape[2],1,hp['conv3d3_filters'])))\n",
    "        model.add(ConvLSTM2D(filters=hp['conv3d4_filters'], \n",
    "                             kernel_size=(hp['conv3d4_kernel_size'], hp['conv3d4_kernel_size']),#, hp['conv3d4_kernel_size']), \n",
    "                             strides=(1,1),\n",
    "                             activation=hp['conv3d4_activation'],#'relu', \n",
    "                             return_sequences=True,\n",
    "                             padding='same'))\n",
    "        #model.add(Reshape((inputs.shape[1],inputs.shape[2],hp['conv3d4_filters'])))\n",
    "        #model.add(tf.keras.layers.TimeDistributed(Dense(1)))\n",
    "        #model.add(Reshape((hp['batch_size'],60,hp['conv3d_filters'])))\n",
    "        #model.add(layers.TimeDistributed(layers.MaxPooling3D(pool_size=(1,1,1))))\n",
    "        #model.add(LeakyReLU())\n",
    "        #model.add(BatchNormalization())\n",
    "        model.add(Dropout(0.2))\n",
    "        model.add(tf.keras.layers.TimeDistributed(Dense(1)))\n",
    "        #model.add(Reshape((inputs.shape[1],inputs.shape[2],1,hp['conv3d4_filters'])))\n",
    "        model.add(Conv3DTranspose(hp['conv3d4_filters'], (hp['conv3d4_kernel_size'],hp['conv3d4_kernel_size'],hp['conv3d4_kernel_size']), strides=(1,1,1), padding='same'))\n",
    "        model.add(Conv3DTranspose(hp['conv3d3_filters'], (hp['conv3d3_kernel_size'],hp['conv3d3_kernel_size'],hp['conv3d3_kernel_size']), strides=(1,1,1), padding='same'))\n",
    "        model.add(Conv3DTranspose(hp['conv3d2_filters'], (hp['conv3d2_kernel_size'],hp['conv3d2_kernel_size'],hp['conv3d2_kernel_size']), strides=(1,1,1), padding='same'))\n",
    "        model.add(Conv3DTranspose(hp['conv3d_filters'], (hp['conv3d_kernel_size'],hp['conv3d_kernel_size'],hp['conv3d_kernel_size']), strides=(1,1,1), padding='same'))\n",
    "        model.add(TimeDistributed(Dense(1)))\n",
    "        #model.add(Reshape((3285, 928, 16, 4, 2), input_shape=(3285, 928, 128, 1)))\n",
    "        #model.add(Conv3DTranspose(32, (4, 4, 4), strides=(2,2,2), padding='same'))\n",
    "        #model.add(Flatten())\n",
    "        #model.add(TimeDistributed(Dense(y_train[0])))\n",
    "        #model.add(TimeDistributed(layers.MaxPooling3D(pool_size=(2,2,2))))\n",
    "        #model.add(Dense(trainXch4.shape[1]))\n",
    "        #model.compile(loss='mean_squared_error', optimizer=keras.optimizers.legacy.Adam(hp['learning_rate']), metrics=['mse'])\n",
    "        model.compile(loss='mean_squared_error',\n",
    "                      optimizer=tf.keras.optimizers.legacy.Adam(hp['learning_rate']),\n",
    "                      metrics=['mean_squared_error', 'mean_absolute_error'])#, 'mean_squared_logarithmic_error', 'cosine_similarity'])\n",
    "        return model\n",
    "    \n",
    "    def fit(self, hp, model, *args, **kwargs):\n",
    "        return model.fit(*args, batch_size = hp['batch_size'], **kwargs)            "
   ]
  },
  {
   "cell_type": "code",
   "execution_count": null,
   "id": "ce2d1e79",
   "metadata": {
    "jupyter": {
     "source_hidden": true
    }
   },
   "outputs": [],
   "source": [
    "# from keras.layers import Masking\n",
    "# class geocryoai(HyperModel):\n",
    "#     def build(self, hp):\n",
    "#         model = tf.keras.Sequential()\n",
    "#         #model.add(Masking(mask_value=-1, input_shape=(2, 1)))\n",
    "#         model.add(ConvLSTM3D(filters=hp['conv3d_filters'], \n",
    "#                              kernel_size=(hp['conv3d_kernel_size'], hp['conv3d_kernel_size'], hp['conv3d_kernel_size']), \n",
    "#                              strides=(1,1,1),\n",
    "#                              activation=hp['conv3d_activation'],#'relu', \n",
    "#                              return_sequences=True,\n",
    "#                              padding='same',\n",
    "#                              data_format='channels_last',\n",
    "#                              input_shape=(inputs.shape[1], inputs.shape[2], inputs.shape[3], inputs.shape[4], inputs.shape[5])))\n",
    "#         #model.add(MaxPooling3D(pool_size=(2, 2, 2)))\n",
    "#         #model.add(layers.TimeDistributed(layers.MaxPooling3D(pool_size=(2,2,2))))\n",
    "#         model.add(BatchNormalization())\n",
    "#         model.add(Dropout(0.2))\n",
    "#         model.add(ConvLSTM3D(filters=hp['conv3d2_filters'], \n",
    "#                              kernel_size=(hp['conv3d2_kernel_size'], hp['conv3d2_kernel_size'], hp['conv3d2_kernel_size']), \n",
    "#                              strides=(1,1,1),\n",
    "#                              activation=hp['conv3d2_activation'],#'relu', \n",
    "#                              return_sequences=True,\n",
    "#                              padding='same'))\n",
    "#                              #data_format='channels_last'))\n",
    "#                              #input_shape=(inputs.shape[0], inputs.shape[2], inputs.shape[3], inputs.shape[4], inputs.shape[5])))\n",
    "#         #model.add(layers.TimeDistributed(layers.MaxPooling3D(pool_size=(2,2,2))))\n",
    "#         model.add(BatchNormalization())\n",
    "#         model.add(Dropout(0.2))\n",
    "#         model.add(ConvLSTM3D(filters=hp['conv3d3_filters'], \n",
    "#                              kernel_size=(hp['conv3d3_kernel_size'], hp['conv3d3_kernel_size'], hp['conv3d3_kernel_size']), \n",
    "#                              strides=(1,1,1),\n",
    "#                              activation=hp['conv3d3_activation'],#'relu', \n",
    "#                              return_sequences=True,\n",
    "#                              padding='same'))\n",
    "#                              #data_format='channels_last'))\n",
    "#         #model.add(layers.TimeDistributed(layers.MaxPooling3D(pool_size=(2,2,2))))\n",
    "#         model.add(BatchNormalization())\n",
    "#         model.add(Dropout(0.2))\n",
    "#         model.add(ConvLSTM3D(filters=hp['conv3d4_filters'], \n",
    "#                              kernel_size=(hp['conv3d4_kernel_size'], hp['conv3d4_kernel_size'], hp['conv3d4_kernel_size']), \n",
    "#                              strides=(1,1,1),\n",
    "#                              activation=hp['conv3d4_activation'],#'relu', \n",
    "#                              return_sequences=True,\n",
    "#                              padding='same'))\n",
    "#                              #data_format='channels_last'))\n",
    "#         #model.add(MaxPooling3D(pool_size=(2, 2, 2)))\n",
    "#         model.add(layers.TimeDistributed(layers.MaxPooling3D(pool_size=(1,1,1))))\n",
    "#         model.add(BatchNormalization())\n",
    "#         model.add(Dropout(0.2))\n",
    "#         model.add(Reshape((3638, 1, 96, 1), input_shape=(3638, 1, 1, 3, 32)))\n",
    "#         #model.add(Conv3DTranspose(16, (1,1,1), strides=(1,1,1), padding='same'))\n",
    "#         #model.add(Conv3DTranspose(16, (1,1,1), strides=(1,1,2), padding='same'))\n",
    "#         model.add(Conv3DTranspose(16, (1,1,1), strides=(1,2,2), padding='same'))\n",
    "#         model.add(Conv3DTranspose(32, (1,1,1), strides=(1,2,2), padding='same'))\n",
    "#         model.add(Conv3DTranspose(64, (1,1,1), strides=(1,2,2), padding='same'))\n",
    "#         #model.add(Conv3DTranspose(64, (1,1,1), strides=(1,1,2), padding='same'))\n",
    "#         #model.add(Conv3DTranspose(64, (1,1,1), strides=(1,2,1), padding='same'))\n",
    "#         #model.add(Reshape((3285, 928, 16, 4, 2), input_shape=(3285, 928, 128, 1)))\n",
    "#         #model.add(Conv3DTranspose(32, (4, 4, 4), strides=(2,2,2), padding='same'))\n",
    "#         #model.add(Flatten())\n",
    "#         #model.add(TimeDistributed(Dense(y_train[0])))\n",
    "#         #model.add(TimeDistributed(layers.MaxPooling3D(pool_size=(2,2,2))))\n",
    "#         #model.add(Dense(trainXch4.shape[1]))\n",
    "#         model.add(TimeDistributed(Dense(1)))\n",
    "#         model.compile(loss='mean_squared_error',\n",
    "#                       optimizer=tf.keras.optimizers.legacy.Adam(learning_rate=0.0001),\n",
    "#                       metrics=['mean_squared_error', 'mean_absolute_error', 'mean_squared_logarithmic_error', 'cosine_similarity'])\n",
    "#         return model\n",
    "    \n",
    "#     #def fit(self, hp, model, *args, **kwargs):\n",
    "#     #    return model.fit(*args, **kwargs)\n",
    "            "
   ]
  },
  {
   "cell_type": "code",
   "execution_count": null,
   "id": "969b2e53",
   "metadata": {},
   "outputs": [],
   "source": [
    "model=geocryoai.build(inputs,hp)"
   ]
  },
  {
   "cell_type": "code",
   "execution_count": null,
   "id": "248f69b9",
   "metadata": {},
   "outputs": [],
   "source": [
    "model.summary()"
   ]
  },
  {
   "cell_type": "code",
   "execution_count": null,
   "id": "64a03545",
   "metadata": {},
   "outputs": [],
   "source": [
    "model"
   ]
  },
  {
   "cell_type": "code",
   "execution_count": null,
   "id": "f9885979",
   "metadata": {},
   "outputs": [],
   "source": [
    "import keras_tuner as kt\n",
    "tuner = kt.BayesianOptimization(hypermodel=geocryoai(),\n",
    "                                objective='val_loss',\n",
    "                                max_trials=30,\n",
    "                                #num_initial_points = 8, #defaults to 3xdimensionality of hyperparameterization space used\n",
    "                                alpha = 0.0001, #0.01, #0.0001 #default; represents the expected amount of noise in the observed performances in Bayesian optimization.\n",
    "                                beta = 2.6, #10, #2.6, #default;  the balancing factor of exploration and exploitation. The larger it is, the more explorative it is\n",
    "                                hyperparameters = hp,\n",
    "                                #**{\"tuner_id\" : \"BayesianOptimization_071423_ALT\",\n",
    "                                #**{\"tuner_id\" : \"BayesianOptimization_071223_CH4\",\n",
    "                                **{\"tuner_id\" : \"BayesianOptimization_090223_tcfmCH4\",\n",
    "                                #**{\"tuner_id\" : \"BayesianOptimization_071223_CO2\",\n",
    "                                #\"overwrite\" : False,\n",
    "                                #\"project_name\" : \"Bayesian_optimization_071423_ALT\"}\n",
    "                                #\"project_name\" : \"bayesian_optimization_071223_CH4\"}\n",
    "                                \"project_name\" : \"bayesian_optimization_090223_tcfmCH4\"}\n",
    "                                #\"project_name\" : \"bayesian_optimization_071223_CO2\"}\n",
    "                                )"
   ]
  },
  {
   "cell_type": "code",
   "execution_count": null,
   "id": "28699a06-bfa4-43a3-917e-22ef7b99c1f9",
   "metadata": {
    "jupyter": {
     "source_hidden": true
    }
   },
   "outputs": [],
   "source": [
    "from keras.layers import Masking\n",
    "model = tf.keras.Sequential()\n",
    "model.add(Masking(mask_value=-1, input_shape=(2, 1)))\n",
    "model.add(ConvLSTM3D(filters=30, \n",
    "                     kernel_size=(3, 3, 3), \n",
    "                     strides=(1,1,1),\n",
    "                     activation='relu', \n",
    "                     return_sequences=True,\n",
    "                     padding='same',\n",
    "                     data_format='channels_last',\n",
    "                     input_shape=(inputs.shape[1], inputs.shape[2], inputs.shape[3], inputs.shape[4], inputs.shape[5])))\n",
    "#model.add(MaxPooling3D(pool_size=(2, 2, 2)))\n",
    "model.add(layers.TimeDistributed(layers.MaxPooling3D(pool_size=(2,2,2))))\n",
    "model.add(BatchNormalization())\n",
    "model.add(Dropout(0.2))\n",
    "model.add(ConvLSTM3D(filters=16, \n",
    "                     kernel_size=(3, 3, 3), \n",
    "                     strides=(1,1,1),\n",
    "                     activation='relu', \n",
    "                     return_sequences=True,\n",
    "                     padding='same'))\n",
    "                     #data_format='channels_last'))\n",
    "                     #input_shape=(inputs.shape[0], inputs.shape[2], inputs.shape[3], inputs.shape[4], inputs.shape[5])))\n",
    "model.add(layers.TimeDistributed(layers.MaxPooling3D(pool_size=(2,2,2))))\n",
    "model.add(BatchNormalization())\n",
    "model.add(Dropout(0.2))\n",
    "model.add(ConvLSTM3D(filters=16, \n",
    "                     kernel_size=(3, 3, 3), \n",
    "                     strides=(1,1,1),\n",
    "                     activation='relu', \n",
    "                     return_sequences=True,\n",
    "                     padding='same'))\n",
    "                     #data_format='channels_last'))\n",
    "model.add(layers.TimeDistributed(layers.MaxPooling3D(pool_size=(2,2,2))))\n",
    "model.add(BatchNormalization())\n",
    "model.add(Dropout(0.2))\n",
    "model.add(ConvLSTM3D(filters=8, \n",
    "                     kernel_size=(1, 1, 128), \n",
    "                     strides=(1,1,1),\n",
    "                     activation='relu', \n",
    "                     return_sequences=True,\n",
    "                     padding='same'))\n",
    "                     #data_format='channels_last'))\n",
    "#model.add(MaxPooling3D(pool_size=(2, 2, 2)))\n",
    "model.add(layers.TimeDistributed(layers.MaxPooling3D(pool_size=(1,1,1))))\n",
    "model.add(BatchNormalization())\n",
    "model.add(Dropout(0.2))\n",
    "model.add(Reshape((45, 8291, 19, 8), input_shape=(8291, 6, 11, 2, 8)))\n",
    "model.add(Conv3DTranspose(8, (4, 4, 4), strides=(2,2,2), padding='same'))\n",
    "model.add(Conv3DTranspose(16, (4, 4, 4), strides=(2,2,2), padding='same'))\n",
    "model.add(Conv3DTranspose(16, (4, 4, 4), strides=(2,2,2), padding='same'))\n",
    "model.add(Conv3DTranspose(32, (4, 4, 4), strides=(2,2,2), padding='same'))\n",
    "model.add(TimeDistributed(Dense(1)))\n",
    "model.add(Flatten())\n",
    "# model.add(TimeDistributed(Dense(y_train[0])))\n",
    "# model.add(Dense(x_train.shape[1]))\n",
    "model.compile(loss='categorical_crossentropy',\n",
    "              optimizer=keras.optimizers.Adam(learning_rate=0.0001),\n",
    "              metrics=['accuracy'])\n",
    "model.summary()\n"
   ]
  },
  {
   "cell_type": "code",
   "execution_count": null,
   "id": "eb21f3f6-76c4-4019-aa9a-e3b40ba88800",
   "metadata": {},
   "outputs": [],
   "source": [
    "trainXscref.shape, trainXscrefr.shape, inputs.shape#, trainy.shape"
   ]
  },
  {
   "cell_type": "code",
   "execution_count": null,
   "id": "bff580ad-3629-4443-a45b-ae8d738236dd",
   "metadata": {
    "tags": []
   },
   "outputs": [],
   "source": [
    "from keras.layers import Masking\n",
    "class geocryoai(HyperModel):\n",
    "    def build(self,hp):\n",
    "        #inputs = keras.Input(shape=(trainx.shape[1], trainx.shape[2],trainx.shape[3], trainx.shape[4], trainx.shape[0]))\n",
    "        model = tf.keras.Sequential()\n",
    "        model.add(layers.Input(shape=(inputs.shape[1], inputs.shape[2],inputs.shape[3], inputs.shape[4], inputs.shape[5])))\n",
    "        #model.add(Masking(mask_value=-1, input_shape=(2, 1)))\n",
    "        model.add(ConvLSTM3D(filters=64, \n",
    "                             kernel_size=(3, 3, 3), \n",
    "                             strides=(1,1,1),\n",
    "                             activation=hp['conv3d_activation'],#'relu', \n",
    "                             return_sequences=True,\n",
    "                             padding='same',\n",
    "                             data_format='channels_last',\n",
    "                             input_shape=(inputs.shape[1], inputs.shape[2], inputs.shape[3], inputs.shape[4], inputs.shape[5])))\n",
    "        #model.add(MaxPooling3D(pool_size=(2, 2, 2)))\n",
    "        model.add(layers.TimeDistributed(layers.MaxPooling3D(pool_size=(2,1,2))))\n",
    "        model.add(BatchNormalization())\n",
    "        model.add(Dropout(0.2))\n",
    "        model.add(ConvLSTM3D(filters=32, \n",
    "                             kernel_size=(3, 3, 3), \n",
    "                             strides=(1,1,1),\n",
    "                             activation=hp['conv3d2_activation'],#'relu', \n",
    "                             return_sequences=True,\n",
    "                             padding='same'))\n",
    "                             #data_format='channels_last'))\n",
    "                             #input_shape=(inputs.shape[0], inputs.shape[2], inputs.shape[3], inputs.shape[4], inputs.shape[5])))\n",
    "        model.add(layers.TimeDistributed(layers.MaxPooling3D(pool_size=(2,1,2))))\n",
    "        model.add(BatchNormalization())\n",
    "        model.add(Dropout(0.2))\n",
    "        model.add(ConvLSTM3D(filters=16, \n",
    "                             kernel_size=(3, 3, 3), \n",
    "                             strides=(1,1,1),\n",
    "                             activation=hp['conv3d3_activation'],#'relu', \n",
    "                             return_sequences=True,\n",
    "                             padding='same'))\n",
    "                             #data_format='channels_last'))\n",
    "        model.add(layers.TimeDistributed(layers.MaxPooling3D(pool_size=(2,1,2))))\n",
    "        model.add(BatchNormalization())\n",
    "        model.add(Dropout(0.2))\n",
    "        model.add(ConvLSTM3D(filters=8, \n",
    "                             kernel_size=(1, 1, 1), \n",
    "                             strides=(1,1,1),\n",
    "                             activation=hp['conv3d3_activation'],#'relu', \n",
    "                             return_sequences=True,\n",
    "                             padding='same'))\n",
    "                             #data_format='channels_last'))\n",
    "        model.add(layers.TimeDistributed(layers.MaxPooling3D(pool_size=(1,1,1))))\n",
    "        model.add(BatchNormalization())\n",
    "        model.add(Dropout(0.2))\n",
    "        #model.add(layers.TimeDistributed(layers.MaxPooling3D(pool_size=(1,2,2))))\n",
    "        model.add(Reshape((-1, 276,3285, 32), input_shape=(-1, 276, 3285, 4, 8)))\n",
    "        #model.add(Conv3DTranspose(16, (1,1,1), strides=(1,1,1), padding='same'))\n",
    "        #model.add(Conv3DTranspose(16, (1,1,1), strides=(1,1,2), padding='same'))\n",
    "        model.add(Conv3DTranspose(4, (1,1,1), strides=(1,1,2), padding='same'))\n",
    "        model.add(Conv3DTranspose(8, (1,1,1), strides=(1,1,1), padding='same'))\n",
    "        model.add(Conv3DTranspose(8, (1,1,1), strides=(1,2,2), padding='same'))\n",
    "        model.add(Conv3DTranspose(16, (1,1,1), strides=(1,1,1), padding='same'))\n",
    "        model.add(Conv3DTranspose(16, (1,1,1), strides=(1,2,2), padding='same'))\n",
    "        model.add(Conv3DTranspose(32, (1,1,1), strides=(1,1,1), padding='same'))\n",
    "        model.add(Conv3DTranspose(32, (1,1,1), strides=(1,2,2), padding='same'))\n",
    "        model.add(Conv3DTranspose(32, (1,1,1), strides=(1,1,2), padding='same'))\n",
    "        model.add(layers.TimeDistributed(layers.MaxPooling2D(pool_size=(1,1))))\n",
    "        model.add(Reshape((1, 2208, 3285, 32, 32), input_shape=(-1, 2208, 105120, 32)))\n",
    "        #model.add(Conv3D(8, (1,1,1), strides=(1,1,1), padding='same'))\n",
    "        #model.add(Conv3DTranspose(64, (1,1,1), strides=(1,1,1), padding='same'))\n",
    "        model.add(TimeDistributed(Dense(1)))\n",
    "        #model.add(Flatten())\n",
    "        #model.add(TimeDistributed(Dense(trainyscco2ref.shape[1])))\n",
    "        #model.add(Dense(trainXscaltref.shape[1]))\n",
    "        #model.add(Dense(trainXch4.shape[0]))\n",
    "        #model.add(Dense(trainXscco2ref.shape[1]))\n",
    "        #metrics=['mean_squared_error', 'mean_absolute_error', RSquare().build(input_shape = (trainy.shape[1],))]\n",
    "        #metrics=['mean_squared_error', 'mean_absolute_error', RSquare().build(input_shape = (trainyscco2ref.shape[1],))]\n",
    "        #loss_function = 'mean_squared_error'\n",
    "        #model.compile(optimizer = tf.keras.optimizers.legacy.RMSprop(learning_rate = 0.0001, **{\"clipvalue\" : 1000}),loss = loss_function, metrics = metrics)\n",
    "        \n",
    "        model.compile(loss='mean_squared_error', optimizer=tf.keras.optimizers.legacy.Adam(learning_rate=0.0001), \n",
    "                      metrics=['mean_squared_error', 'mean_absolute_error'])\n",
    "        model.summary()\n",
    "        \n",
    "        return model\n",
    "    \n",
    "    def fit(self, hp, model, *args, **kwargs):\n",
    "        return model.fit(*args, batch_size = hp['batch_size'], **kwargs)"
   ]
  },
  {
   "cell_type": "code",
   "execution_count": null,
   "id": "894b204f-2868-493a-85a9-2708b2664a52",
   "metadata": {},
   "outputs": [],
   "source": [
    "105120/3285"
   ]
  },
  {
   "cell_type": "code",
   "execution_count": null,
   "id": "6e9306a9-3062-40fd-9e0b-058d38fa1643",
   "metadata": {},
   "outputs": [],
   "source": [
    "13120/3280"
   ]
  },
  {
   "cell_type": "code",
   "execution_count": null,
   "id": "c88d1d46-713b-4e93-ad10-5db6bf1a931c",
   "metadata": {
    "jupyter": {
     "source_hidden": true
    }
   },
   "outputs": [],
   "source": [
    "\n",
    "        # model.compile(loss='mean_squared_error', optimizer=tf.keras.optimizers.legacy.Adam(learning_rate=0.0001),\n",
    "        #               metrics=['mean_squared_error', 'mean_absolute_error', 'mean_squared_logarithmic_error', 'cosine_similarity'])\n",
    "    #     return model\n",
    "    \n",
    "    # def fit(self, hp, model, *args, **kwargs):\n",
    "    #     return model.fit(*args, batch_size = 256, **kwargs)\n",
    "        \n",
    "#     #model.add(Conv3DTranspose(64, (1,1,1), strides=(1,1,2), padding='same'))\n",
    "#     #model.add(Conv3DTranspose(64, (1,1,1), strides=(1,2,1), padding='same'))\n",
    "#     #model.add(Reshape((3285, 928, 16, 4, 2), input_shape=(3285, 928, 128, 1)))\n",
    "#     #model.add(Conv3DTranspose(32, (4, 4, 4), strides=(2,2,2), padding='same'))\n",
    "#     #model.add(Flatten())\n",
    "#     #model.add(TimeDistributed(Dense(y_train[0])))\n",
    "#     #model.add(TimeDistributed(layers.MaxPooling3D(pool_size=(2,2,2))))\n",
    "#     #model.add(Dense(trainXch4.shape[1]))\n",
    "#     model.add(TimeDistributed(Dense(1)))\n",
    "#     model.compile(loss='mean_squared_error',\n",
    "#                   optimizer=tf.keras.optimizers.legacy.Adam(learning_rate=0.0001),\n",
    "#                   metrics=['mean_squared_error', 'mean_absolute_error', 'mean_squared_logarithmic_error', 'cosine_similarity'])\n",
    "#     return model\n",
    "\n",
    "# #def fit(self, hp, model, *args, **kwargs):\n",
    "# #    return model.fit(*args, **kwargs)"
   ]
  },
  {
   "cell_type": "code",
   "execution_count": null,
   "id": "9657242a-a16b-4648-8e2d-998b6ab093e5",
   "metadata": {},
   "outputs": [],
   "source": [
    "inputs.shape, inputs2.shape, targets.shape, targets2.shape"
   ]
  },
  {
   "cell_type": "code",
   "execution_count": null,
   "id": "43f46068-89ad-46a0-ab0e-88b713511ab9",
   "metadata": {},
   "outputs": [],
   "source": [
    "trainds.element_spec"
   ]
  },
  {
   "cell_type": "code",
   "execution_count": null,
   "id": "da3fe5f5-ed97-4ab7-8155-08eac81f821c",
   "metadata": {},
   "outputs": [],
   "source": [
    "trainx.shape, trainy.shape"
   ]
  },
  {
   "cell_type": "code",
   "execution_count": null,
   "id": "45fde41a-6f36-4208-84fa-641a08f70e81",
   "metadata": {},
   "outputs": [],
   "source": [
    "ds = trainds.take(int(2208)).batch(3285)#.map(lambda x: x)"
   ]
  },
  {
   "cell_type": "code",
   "execution_count": null,
   "id": "9029e4aa-bcdb-47b6-82b1-88a4edf91dff",
   "metadata": {},
   "outputs": [],
   "source": [
    "inputs.shape, trainx.shape"
   ]
  },
  {
   "cell_type": "code",
   "execution_count": null,
   "id": "50487a2c-64f9-421f-9f4c-a5ebe38be314",
   "metadata": {},
   "outputs": [],
   "source": [
    "for batch_size in [32,64,128,256,512]:  \n",
    "    print('\\nbs ', batch_size)\n",
    "    history = model.fit(trainx, trainy, epochs=3,\n",
    "                        batch_size=batch_size,\n",
    "                        verbose=1)"
   ]
  },
  {
   "cell_type": "code",
   "execution_count": null,
   "id": "6ee24491-1157-45dc-bfd1-0233abaa547a",
   "metadata": {},
   "outputs": [],
   "source": [
    "trainx.shape, inputs.shape"
   ]
  },
  {
   "cell_type": "code",
   "execution_count": null,
   "id": "a61e774c-1244-4e29-b502-fa40402419ef",
   "metadata": {},
   "outputs": [],
   "source": [
    "trainxnew=tf.reshape(trainx,[trainx.shape[0],trainx.shape[1],trainx.shape[2],trainx.shape[3],trainx.shape[4],1])"
   ]
  },
  {
   "cell_type": "code",
   "execution_count": null,
   "id": "2d8dd185-1a3d-4e76-b415-92f9620e88c9",
   "metadata": {},
   "outputs": [],
   "source": [
    "validxnew=tf.reshape(validx,[validx.shape[0],validx.shape[1],validx.shape[2],validx.shape[3],validx.shape[4],1])"
   ]
  },
  {
   "cell_type": "code",
   "execution_count": null,
   "id": "bdda1991-ba50-4978-b882-b17591f86ebc",
   "metadata": {},
   "outputs": [],
   "source": [
    "testxnew=tf.reshape(testx,[1,testx.shape[0],testx.shape[1],testx.shape[2],testx.shape[3],testx.shape[4]])"
   ]
  },
  {
   "cell_type": "code",
   "execution_count": null,
   "id": "247a4322-e8b3-4b15-8dbd-eed6c16fb440",
   "metadata": {},
   "outputs": [],
   "source": [
    "trainynew=tf.reshape(trainy,[trainy.shape[0],trainy.shape[1],trainy.shape[2],trainy.shape[3],trainy.shape[4],1])"
   ]
  },
  {
   "cell_type": "code",
   "execution_count": null,
   "id": "16a9a09c-91cb-47bb-8bc7-13fd0690606e",
   "metadata": {},
   "outputs": [],
   "source": [
    "validynew=tf.reshape(validy,[validy.shape[0],validy.shape[1],validy.shape[2],validy.shape[3],validy.shape[4],1])"
   ]
  },
  {
   "cell_type": "code",
   "execution_count": null,
   "id": "a15027a6-0259-4bc0-97e5-d0dbca0517da",
   "metadata": {},
   "outputs": [],
   "source": [
    "testynew=tf.reshape(testy,[1,testy.shape[4],testy.shape[1],testy.shape[2],testy.shape[3],testy.shape[0]])"
   ]
  },
  {
   "cell_type": "code",
   "execution_count": null,
   "id": "7b0371d3-6086-4853-9eea-ee38f2746523",
   "metadata": {},
   "outputs": [],
   "source": [
    "inputs.shape,trainxnew.shape,targets.shape,trainynew.shape"
   ]
  },
  {
   "cell_type": "code",
   "execution_count": null,
   "id": "427b9585-7a77-40fb-b1a3-d32799b9aed4",
   "metadata": {},
   "outputs": [],
   "source": [
    "trainds."
   ]
  },
  {
   "cell_type": "code",
   "execution_count": null,
   "id": "9bd5df09-0a6c-4c8b-882a-75009e98c4bf",
   "metadata": {},
   "outputs": [],
   "source": [
    "trainx.shape, trainy.shape, validx.shape, validy.shape"
   ]
  },
  {
   "cell_type": "code",
   "execution_count": null,
   "id": "5deb10ad-4056-4ea5-bf66-6f6397dd0325",
   "metadata": {},
   "outputs": [],
   "source": [
    "import tensorflow as tf\n",
    "tf.keras.backend.clear_session()"
   ]
  },
  {
   "cell_type": "code",
   "execution_count": null,
   "id": "2f64a054-951a-45d1-9fa7-5baa02bb3d4f",
   "metadata": {},
   "outputs": [],
   "source": [
    "#CH4\n",
    "# add early stopping criteria t/Volumes/op training if validation score does not improve - cuts down on computational load/speed.\n",
    "#filepath=\"weights_geocryoai2.best_071123.hdf5\"\n",
    "filepath=\"weights_geocryoai2.best_081423_ch4.hdf5\"\n",
    "#filepath=\"weights_geocryoai2.best_071223_co2.hdf5\"\n",
    "tensorboard_cb = keras.callbacks.TensorBoard('/tmp/tb_logs')\n",
    "checkpoint = keras.callbacks.ModelCheckpoint(filepath, monitor='val_loss', verbose=1, save_best_only=True, mode='min')\n",
    "early_stopping = EarlyStopping(monitor='val_loss', verbose = 1, patience = 10, min_delta = 1e-4, restore_best_weights = True)\n",
    "# fit network\n",
    "start_time = time.time()\n",
    "#history2 = model2.fit(trainXscaltref, #trainXscaltref #trainXscch4ref\n",
    "history = model.fit(trainx, #trainXscaltref #trainXscco2ref\n",
    "                    trainy, #trainyscaltref #trainXscco2ref\n",
    "                    epochs=10, \n",
    "                    batch_size=1,#512, \n",
    "                    validation_data=(validx,validy), #(validXscaltref,validyscaltref) #(validXscco2ref,validyscco2ref)\n",
    "                    steps_per_epoch = None,\n",
    "                    shuffle=False, \n",
    "                    callbacks=[early_stopping, TerminateOnNaN(),  keras.callbacks.TensorBoard(\"/tmp/tb_logs\")],\n",
    "                    use_multiprocessing = True)\n",
    "\n",
    "elapsed_time = time.time() - start_time\n",
    "print(\"\\nThe first network took {} s to complete training.\".format(round(elapsed_time)))"
   ]
  },
  {
   "cell_type": "code",
   "execution_count": null,
   "id": "6c6d7ff8-6eaf-4698-aa13-90a2f362beb2",
   "metadata": {
    "jupyter": {
     "source_hidden": true
    }
   },
   "outputs": [],
   "source": [
    "# train_data = tf.data.Dataset.from_tensor_slices((trainXch4, trainych4))\n",
    "# valid_data = tf.data.Dataset.from_tensor_slices((validXch4, validych4))"
   ]
  },
  {
   "cell_type": "code",
   "execution_count": null,
   "id": "5aa97308-b194-455a-af43-64eacab58474",
   "metadata": {
    "jupyter": {
     "source_hidden": true
    }
   },
   "outputs": [],
   "source": [
    "#model.fit(train_data, epochs=10, validation_data=valid_data)"
   ]
  },
  {
   "cell_type": "markdown",
   "id": "3f70971a",
   "metadata": {
    "jp-MarkdownHeadingCollapsed": true
   },
   "source": [
    "### Reference Old"
   ]
  },
  {
   "cell_type": "code",
   "execution_count": null,
   "id": "b6628b9c",
   "metadata": {},
   "outputs": [],
   "source": [
    "trainyscaltpred = alt_model.predict(trainXscaltref)\n",
    "validyscaltpred = alt_model.predict(validXscaltref)\n",
    "testyscaltpred = alt_model.predict(testXscaltref)\n",
    "# make a prediction\n",
    "yhat = model2.predict(testXscalt)\n",
    "test_X = testXscalt.reshape((test_X.shape[0], test_X.shape[2]))\n",
    "# invert scaling for forecast\n",
    "inv_yhat = concatenate((yhat, test_X[:, 1:]), axis=1)\n",
    "inv_yhat = scaler.inverse_transform(inv_yhat)\n",
    "inv_yhat = inv_yhat[:,0]\n",
    "# invert scaling for actual\n",
    "test_y = test_y.reshape((len(test_y), 1))\n",
    "inv_y = concatenate((test_y, test_X[:, 1:]), axis=1)\n",
    "inv_y = scaler.inverse_transform(inv_y)\n",
    "inv_y = inv_y[:,0]\n",
    "# calculate RMSE\n",
    "rmse = sqrt(mean_squared_error(inv_y, inv_yhat))\n",
    "print('Test RMSE: %.3f' % rmse)\n",
    "\n",
    "\n",
    "fig,ax=plt.subplots(figsize=(10,6), dpi=1000);\n",
    "lns1=ax.plot(arr2.reshape(2441237,1), color='dodgerblue', linestyle='solid', label='Thaw Depth Observations, ALT (cm)');\n",
    "#ax2=ax.twinx();\n",
    "lns2=ax.plot(yscaleralt.inverse_transform(arr.reshape(2441237,1)), color='tomato', alpha=0.5, linestyle='solid', label='Thaw Depth Predictions, ALT (cm)');\n",
    "\n",
    "lns = lns1+lns2#+lns3+lns4;\n",
    "labs = [l.get_label() for l in lns];\n",
    "ax.legend(lns, labs, loc='best', fontsize=12);\n",
    "\n",
    "ax.grid(linewidth=0.3);\n",
    "#ax2.grid(linewidth=0.3);\n",
    "ax.set_xlabel('Full Iterations (epochs)', labelpad=12, fontsize=10);\n",
    "ax.set_ylabel('Active Layer Thickness (cm)', labelpad=12, fontsize=10);\n",
    "#ax.tick_params(axis='y', labelcolor='springgreen')\n",
    "#ax2.set_ylabel('Validation MSE, Scaled CO2 Flux (µolCO2m-2s-1)', labelpad=12, fontsize=10)\n",
    "#ax2.tick_params(axis='y', labelcolor='yellowgreen')\n",
    "ax.tick_params(left=False)  # remove the ticks\n",
    "#ax2.tick_params(right=False, labelright=False)  # remove the ticks\n",
    "plt.title('GeoCryoAI Modeling, ALT Observations v. Predictions | Alaska [1969-2022] \\n Number of ALT Samples/Replicates: 2.441M', pad=15, fontsize=14);\n",
    "ax.grid(linewidth=0.3);\n",
    "plt.axis([0, 2441237, 0, 300])\n",
    "#plt.axis([2226100, 2441237, 0, 200])\n",
    "plt.tight_layout()\n",
    "plt.savefig('ALT_ObsVPred_1969-2022_071323.svg', dpi=1000)\n",
    "plt.savefig('ALT_ObsVPred_1969-2022_071323.png', dpi=1000)"
   ]
  },
  {
   "cell_type": "code",
   "execution_count": null,
   "id": "c8b45c18",
   "metadata": {},
   "outputs": [],
   "source": []
  },
  {
   "cell_type": "code",
   "execution_count": null,
   "id": "3eaaf23b-a48e-40ca-a1db-efb1858f57a6",
   "metadata": {
    "jupyter": {
     "source_hidden": true
    }
   },
   "outputs": [],
   "source": [
    "# Next, we will build the complete model and compile it.\n",
    "model = keras.models.Model(inp, x)\n",
    "model.compile(\n",
    "    loss=keras.losses.binary_crossentropy, optimizer=tf.keras.optimizers.legacy.Adam(),\n",
    ")\n",
    "\n",
    "# Define some callbacks to improve training.\n",
    "early_stopping = keras.callbacks.EarlyStopping(monitor=\"val_loss\", patience=10)\n",
    "reduce_lr = keras.callbacks.ReduceLROnPlateau(monitor=\"val_loss\", patience=5)\n",
    "\n",
    "# Define modifiable training hyperparameters.\n",
    "epochs = 20\n",
    "batch_size = 5\n",
    "\n",
    "# Fit the model to the training data.\n",
    "model.fit(\n",
    "    trainXch4,\n",
    "    trainych4,\n",
    "    batch_size=batch_size,\n",
    "    epochs=epochs,\n",
    "    validation_data=(x_val, y_val),\n",
    "    callbacks=[early_stopping, reduce_lr],\n",
    ")\n"
   ]
  },
  {
   "cell_type": "code",
   "execution_count": null,
   "id": "9b1f4c1f-afe9-4ae5-84e2-299d650ec6af",
   "metadata": {
    "jupyter": {
     "source_hidden": true
    }
   },
   "outputs": [],
   "source": [
    "class geocryoai(HyperModel):\n",
    "    def build(self, hp):\n",
    "        #backend.clear_session()\n",
    "        #inputs = keras.Input(shape=(X_train_reframed.shape[1], X_train_reframed.shape[2]))\n",
    "        model = tf.keras.Sequential()\n",
    "        #for i in range(n_layers):\n",
    "        model.add(Conv1D(\n",
    "            filters=hp['conv1d_filters'], \n",
    "            kernel_size=hp['conv1d_kernel_size'], \n",
    "            activation = hp['conv1d_activation'],\n",
    "            padding='same', \n",
    "            input_shape=(inputs.shape[1], inputs.shape[2])))\n",
    "        # model.add(MaxPool1D(pool_size=1))\n",
    "        #for i in range(hp['n_layers']): #TUNE THIS (LAYERS) WHEN ADDING SATELLITE AND MODELING DATA\n",
    "        model.add(Bidirectional(LSTM(\n",
    "            input_shape=(inputs.shape[1], inputs.shape[2]),\n",
    "            return_sequences = True, \n",
    "            #kernel_initializer = tf.keras.initializers.RandomNormal(mean=0.0, stddev=0.00001),\n",
    "            #name = f\"1BiLSTM_layer_{i+1}\",\n",
    "            units = hp['bilstm_units'],\n",
    "            activation = hp['bilstm_activation'],\n",
    "            #recurrent_activation = hp['bilstm_rec_activation'],\n",
    "            use_bias = hp['bilstm_use_bias'],\n",
    "            unit_forget_bias = hp['bilstm_forgot_bias'],\n",
    "            dropout=hp['bilstm_dropout'],\n",
    "            recurrent_dropout = hp['bilstm_rec_dropout'])))\n",
    "        model.add(Bidirectional(LSTM(\n",
    "            input_shape=(inputs.shape[1], inputs.shape[2]),\n",
    "            return_sequences = True, \n",
    "            #kernel_initializer = tf.keras.initializers.RandomNormal(mean=0.0, stddev=0.00001),\n",
    "            #name = f\"1BiLSTM_layer_{i+1}\",\n",
    "            units = hp['bilstm2_units'],\n",
    "            activation = hp['bilstm2_activation'],\n",
    "            #recurrent_activation = hp['bilstm2_rec_activation'],\n",
    "            use_bias = hp['bilstm2_use_bias'],\n",
    "            unit_forget_bias = hp['bilstm2_forgot_bias'],\n",
    "            dropout=hp['bilstm2_dropout'],\n",
    "            recurrent_dropout = hp['bilstm2_rec_dropout'])))\n",
    "        #for i in range(hp['n_layers']):\n",
    "        model.add(LSTM(\n",
    "            units=hp['lstm_units'],\n",
    "            activation = hp['lstm_activation'],\n",
    "            #recurrent_activation=hp['lstm_rec_activation'],\n",
    "            return_sequences=False, \n",
    "            dropout=hp['lstm_dropout'],\n",
    "            recurrent_dropout=hp['lstm_rec_dropout'],\n",
    "            input_shape=(inputs.shape[1], inputs.shape[2])))\n",
    "        #model.add(Bidirectional(LSTM(inputs.shape[-1], activation='relu', return_sequences = False, dropout=0, input_shape=(inputs.shape[1], inputs.shape[2]))))\n",
    "        model.add(RepeatVector(inputs.shape[1]))   #TUNE THIS (LAYERS) WHEN ADDING SATELLITE AND MODELING DATA\n",
    "        model.add(LSTM(\n",
    "            units=hp['lstm2_units'], \n",
    "            activation = hp['lstm2_activation'],\n",
    "            #recurrent_activation= hp['lstm2_rec_activation'],\n",
    "            return_sequences=True,\n",
    "            dropout=hp['lstm2_dropout'],\n",
    "            recurrent_dropout=hp['lstm2_rec_dropout'],\n",
    "            input_shape=(inputs.shape[1], inputs.shape[2])))\n",
    "        #model.add(Bidirectional(LSTM(inputs.shape[-1], activation='relu', return_sequences = True, dropout=0, input_shape=(inputs.shape[1], inputs.shape[2])))) \n",
    "        model.add(Bidirectional(LSTM(\n",
    "            input_shape=(inputs.shape[1], inputs.shape[2]),\n",
    "            return_sequences = True, \n",
    "            #kernel_initializer = tf.keras.initializers.RandomNormal(mean=0.0, stddev=0.00001),\n",
    "            #name = f\"2BiLSTM_layer_{i+1}\",\n",
    "            units = hp['bilstm3_units'],\n",
    "            activation = hp['bilstm3_activation'],\n",
    "            #recurrent_activation = hp['bilstm3_rec_activation'],\n",
    "            use_bias = hp['bilstm3_use_bias'],\n",
    "            unit_forget_bias = hp['bilstm3_forgot_bias'],\n",
    "            dropout=hp['bilstm3_dropout'],\n",
    "            recurrent_dropout = hp['bilstm3_rec_dropout'])))\n",
    "        model.add(Bidirectional(LSTM(\n",
    "            input_shape=(inputs.shape[1], inputs.shape[2]),\n",
    "            return_sequences = hp['bilstm4_units'], \n",
    "            #kernel_initializer = tf.keras.initializers.RandomNormal(mean=0.0, stddev=0.00001),\n",
    "            #name = f\"2BiLSTM_layer_{i+1}\",\n",
    "            units = 32,\n",
    "            activation = hp['bilstm4_activation'],\n",
    "            #recurrent_activation = hp['bilstm4_rec_activation'],\n",
    "            use_bias = hp['bilstm4_use_bias'],\n",
    "            unit_forget_bias = hp['bilstm4_forgot_bias'],\n",
    "            dropout=hp['bilstm4_dropout'],\n",
    "            recurrent_dropout = hp['bilstm4_rec_dropout'])))\n",
    "        model.add(Conv1DTranspose(\n",
    "           filters=hp['conv1d2_filters'], \n",
    "           kernel_size=hp['conv1d2_kernel_size'], \n",
    "           activation = hp['conv1d2_activation'],\n",
    "           padding='same', \n",
    "           input_shape=(inputs.shape[1], inputs.shape[2])))\n",
    "        model.add(TimeDistributed(Dense(trainyscaltref.shape[1])))\n",
    "        #model.add(TimeDistributed(Dense(trainyscch4ref.shape[1])))\n",
    "        #model.add(TimeDistributed(Dense(trainyscco2ref.shape[1])))\n",
    "        model.add(Dense(trainXscaltref.shape[1]))\n",
    "        #model.add(Dense(trainXscch4ref.shape[1]))\n",
    "        #model.add(Dense(trainXscco2ref.shape[1]))\n",
    "        metrics=['mean_squared_error', 'mean_absolute_error', RSquare().build(input_shape = (trainyscaltref.shape[1],))]\n",
    "        #metrics=['mean_squared_error', 'mean_absolute_error', RSquare().build(input_shape = (trainyscch4ref.shape[1],))]\n",
    "        #metrics=['mean_squared_error', 'mean_absolute_error', RSquare().build(input_shape = (trainyscco2ref.shape[1],))]\n",
    "        loss_function = 'mean_squared_error'\n",
    "        model.compile(optimizer = tf.keras.optimizers.legacy.RMSprop(learning_rate = hp.get('learning_rate'), **{\"clipvalue\" : 1000}),loss = loss_function, metrics = metrics)\n",
    "        return model\n",
    "    \n",
    "    def fit(self, hp, model, *args, **kwargs):\n",
    "        return model.fit(*args, batch_size = 128, **kwargs) #hp['batch_size'], **kwargs)"
   ]
  },
  {
   "cell_type": "code",
   "execution_count": null,
   "id": "423528d8-9e49-45f6-be27-aab10bbb29a1",
   "metadata": {},
   "outputs": [],
   "source": [
    "early_stopping = keras.callbacks.EarlyStopping(monitor='val_loss', verbose = 1, patience = 10, min_delta = 1e-4, restore_best_weights = True)\n",
    "reduce_loss = keras.callbacks.ReduceLROnPlateau(monitor=\"val_loss\", patience=5)"
   ]
  },
  {
   "cell_type": "code",
   "execution_count": null,
   "id": "dc246408-dd32-46a9-8a36-2fe753f903e1",
   "metadata": {},
   "outputs": [],
   "source": [
    "#trainXscaltref.shape, trainyscaltref.shape\n",
    "#trainXscch4ref.shape, trainyscch4ref.shape\n",
    "#trainXscco2ref.shape, trainyscco2ref.shape\n",
    "\n",
    "#trainych4=trainych4.reshape(3285,1)\n",
    "inputs.shape, targets.shape, trainXch4.shape, trainych4.shape"
   ]
  },
  {
   "cell_type": "code",
   "execution_count": null,
   "id": "c2eff43d-d992-4384-b7dc-77dfc76e8353",
   "metadata": {},
   "outputs": [],
   "source": [
    "# #ALT\n",
    "# bayesian_tuner.search(trainXscaltref, \n",
    "#                      trainyscaltref, \n",
    "#                      steps_per_epoch = None, \n",
    "#                      shuffle = False, \n",
    "#                      validation_data = (validXscaltref, validyscaltref),\n",
    "#                      #validation_split = 0.15,#0.2,\n",
    "#                      verbose = 1, #2, #epoch, #1, #progress bar #0, #nothing\n",
    "#                      callbacks = [early_stopping, History(), TerminateOnNaN(),keras.callbacks.TensorBoard(\"/tmp/tb_logs\")], \n",
    "#                      use_multiprocessing = True)"
   ]
  },
  {
   "cell_type": "code",
   "execution_count": null,
   "id": "00a734f6-cde7-410a-8325-1793c95510ea",
   "metadata": {
    "jupyter": {
     "source_hidden": true
    }
   },
   "outputs": [],
   "source": [
    "import itertools\n",
    "import pandas as pd\n",
    "\n",
    "dfs = []\n",
    "new_matrix = trainXch4.reshape([3285,419,75*75*1])\n",
    "for i in range(0,6):\n",
    "   iterator = itertools.product(range(75), range(75), range(1))\n",
    "   columns = ['var%i_' % i + '_'.join(map(str, x)) for x in iterator]\n",
    "   dfs.append(pd.DataFrame(new_matrix[i]))\n",
    "\n",
    "result = pd.concat(dfs)"
   ]
  },
  {
   "cell_type": "code",
   "execution_count": null,
   "id": "33a9a133-c7a5-49fc-aa6f-d2ebe3447bc7",
   "metadata": {
    "jupyter": {
     "source_hidden": true
    }
   },
   "outputs": [],
   "source": [
    "result.shape#.iloc[3285,5625]#.dropna()"
   ]
  },
  {
   "cell_type": "code",
   "execution_count": null,
   "id": "5b99d83a-2ed7-4de0-bffd-62db045cb628",
   "metadata": {},
   "outputs": [],
   "source": [
    "trainXch4=trainXch4.reshape(3285,1856,35,35)"
   ]
  },
  {
   "cell_type": "code",
   "execution_count": null,
   "id": "33557b28-a0c4-4221-abc8-eef0ca2034e8",
   "metadata": {},
   "outputs": [],
   "source": [
    "tf.expand_dims(trainx, axis=0)"
   ]
  },
  {
   "cell_type": "code",
   "execution_count": null,
   "id": "469dca59-8314-4ee4-9e27-25bef5a4a4bf",
   "metadata": {},
   "outputs": [],
   "source": [
    "trainXch4tf=tf.data.Dataset.from_tensor_slices(trainXch4df.values)"
   ]
  },
  {
   "cell_type": "code",
   "execution_count": null,
   "id": "f13c9e16-f41f-47ea-8915-aee36e235590",
   "metadata": {},
   "outputs": [],
   "source": [
    "trainXch4tf2=trainXch4tf.window(1, shift=1, drop_remainder=True).flat_map(lambda window: window.batch(1))\n",
    "trainXch4tf2=trainXch4tf2.map(lambda window: (window[:-1], window[-1:]))"
   ]
  },
  {
   "cell_type": "code",
   "execution_count": null,
   "id": "54b54158-3204-46d4-a0cb-e7f9116547ed",
   "metadata": {},
   "outputs": [],
   "source": [
    "trainXch4tf2=trainXch4tf2.batch(1).prefetch(1)"
   ]
  },
  {
   "cell_type": "code",
   "execution_count": null,
   "id": "1d926e79-71cb-404d-ab82-97cc34e35477",
   "metadata": {},
   "outputs": [],
   "source": [
    "for idx,(x,y) in enumerate(trainXch4tf2):\n",
    "    print(\"x = \", x.numpy().shape)\n",
    "    print(\"y = \", y.numpy().shape)\n",
    "    break"
   ]
  },
  {
   "cell_type": "code",
   "execution_count": null,
   "id": "0dbb14b3-4787-4482-b939-885efd2d63af",
   "metadata": {},
   "outputs": [],
   "source": [
    "dataset=tf.data.Dataset.from_tensor_slices(tf.range(10)).window(5, shift=1, drop_remainder=True).flat_map(lambda window: window.batch(5))\n",
    "dataset=dataset.map(lambda window: (window[:-1], window[-1:]))\n",
    "for X, y in dataset:\n",
    "    print(\"Input:\", X.numpy(), \"Target:\", y.numpy())"
   ]
  },
  {
   "cell_type": "code",
   "execution_count": null,
   "id": "6145ac76-321c-4d98-b7d0-6cb01f2bb467",
   "metadata": {},
   "outputs": [],
   "source": [
    "dataset_train = keras.preprocessing.timeseries_dataset_from_array(\n",
    "    trainXch4,\n",
    "    trainych4,\n",
    "    sequence_length=1856,\n",
    "    shuffle=False,\n",
    ")"
   ]
  },
  {
   "cell_type": "code",
   "execution_count": null,
   "id": "0f25789b-7e7e-4bf7-aa8a-8421da07c8a6",
   "metadata": {},
   "outputs": [],
   "source": [
    "dataset_valid = keras.preprocessing.timeseries_dataset_from_array(\n",
    "    validXch4,\n",
    "    validych4,\n",
    "    sequence_length=3285,\n",
    "    shuffle=False,\n",
    ")"
   ]
  },
  {
   "cell_type": "code",
   "execution_count": null,
   "id": "f80e959e-e75c-446f-805a-e6a3038faa6a",
   "metadata": {},
   "outputs": [],
   "source": [
    "dataset_test = keras.preprocessing.timeseries_dataset_from_array(\n",
    "    testXch4,\n",
    "    testych4,\n",
    "    sequence_length=3285,\n",
    "    shuffle=False,\n",
    ")"
   ]
  },
  {
   "cell_type": "code",
   "execution_count": null,
   "id": "37a56394-7799-4988-9e21-204d20b87b98",
   "metadata": {},
   "outputs": [],
   "source": [
    "dataset_train, dataset_valid, dataset_test"
   ]
  },
  {
   "cell_type": "code",
   "execution_count": null,
   "id": "4caabbb2-bd03-4348-aa0a-34b0c95d432b",
   "metadata": {},
   "outputs": [],
   "source": [
    "for inputs, targets in dataset_train:\n",
    "    inputs.numpy(), targets.numpy()"
   ]
  },
  {
   "cell_type": "code",
   "execution_count": null,
   "id": "f9ab4464-e4d8-4036-9184-88f2fc55d8d6",
   "metadata": {},
   "outputs": [],
   "source": [
    "for inputs2, targets2 in dataset_valid:\n",
    "    inputs2.numpy(),targets2.numpy()"
   ]
  },
  {
   "cell_type": "code",
   "execution_count": null,
   "id": "bed4e987-6236-4dcf-b56f-2dc24c7a2780",
   "metadata": {},
   "outputs": [],
   "source": [
    "for inputs3, targets3 in dataset_test:\n",
    "    inputs3.numpy(),targets3.numpy()"
   ]
  },
  {
   "cell_type": "code",
   "execution_count": null,
   "id": "ff1abaa0-4e14-4d6a-b93a-4836548c4396",
   "metadata": {},
   "outputs": [],
   "source": [
    "inputs=tf.reshape(inputs,[3285,1856,35,35,1])"
   ]
  },
  {
   "cell_type": "code",
   "execution_count": null,
   "id": "04e806de-0321-44b7-ae5c-f9cc3ee1a636",
   "metadata": {},
   "outputs": [],
   "source": [
    "targets"
   ]
  },
  {
   "cell_type": "code",
   "execution_count": null,
   "id": "94b9e9f6-f7d9-4d92-9a1a-606a80741cce",
   "metadata": {
    "jupyter": {
     "source_hidden": true
    }
   },
   "outputs": [],
   "source": [
    "from tensorflow.keras.layers import InputLayer\n",
    "from keras.layers import Input\n",
    "\n",
    "for batch in dataset_test:\n",
    "  inputs, targets = batch\n",
    "  assert np.array_equal(inputs[0], data[:10])  # First sequence: steps [0-9]\n",
    "  assert np.array_equal(targets[0], data[10])  # Corresponding target: step 10\n",
    "  break"
   ]
  },
  {
   "cell_type": "code",
   "execution_count": null,
   "id": "43000776-0f62-41fd-bea9-326014fd9c7a",
   "metadata": {
    "jupyter": {
     "source_hidden": true
    }
   },
   "outputs": [],
   "source": [
    "for present_values, next_value in dataset_test.take(5):\n",
    "    print(tf.squeeze(present_values).numpy(), '-->', next_value.numpy())"
   ]
  },
  {
   "cell_type": "code",
   "execution_count": null,
   "id": "53010d2a-b0f1-48b5-8e4b-41c20a0a440e",
   "metadata": {
    "jupyter": {
     "source_hidden": true
    }
   },
   "outputs": [],
   "source": [
    "for batch in dataset_train:\n",
    "    inputs, targets = batch"
   ]
  },
  {
   "cell_type": "code",
   "execution_count": null,
   "id": "86b434af-8d90-4596-a249-9589a42d9b40",
   "metadata": {
    "jupyter": {
     "source_hidden": true
    }
   },
   "outputs": [],
   "source": [
    "#ds = tf.keras.preprocessing.timeseries_dataset_from_array(features[:-365], labels[365:], 1, batch_size=1)\n",
    "\n",
    "for inputs, targets in ds:\n",
    "  print(\"Input:\", inputs.numpy(), \"Target:\", targets.numpy())"
   ]
  },
  {
   "cell_type": "code",
   "execution_count": null,
   "id": "b6bb8cc8-a1e7-46f9-9395-e3371ba59b2a",
   "metadata": {
    "jupyter": {
     "source_hidden": true
    }
   },
   "outputs": [],
   "source": [
    "batch_dataset(dataset_valid)"
   ]
  },
  {
   "cell_type": "code",
   "execution_count": null,
   "id": "18d805b2-fd4a-4e62-9efa-f52ff0f2c7ef",
   "metadata": {
    "jupyter": {
     "source_hidden": true
    }
   },
   "outputs": [],
   "source": [
    "print(\"Input shape:\", inputs.to_numpy(), \"Target shape:\", targets.to_numpy())"
   ]
  },
  {
   "cell_type": "code",
   "execution_count": null,
   "id": "6249375c-91b3-4392-a6db-3413cc975fbf",
   "metadata": {
    "jupyter": {
     "source_hidden": true
    }
   },
   "outputs": [],
   "source": [
    "for batch in dataset_test.take(1):\n",
    "    inputs, targets = batch\n",
    "\n",
    "print(\"Input shape:\", inputs.numpy().shape)\n",
    "print(\"Target shape:\", targets.numpy().shape)"
   ]
  },
  {
   "cell_type": "code",
   "execution_count": null,
   "id": "8c42076b-8d02-4161-90a8-a2f515019405",
   "metadata": {
    "jupyter": {
     "source_hidden": true
    }
   },
   "outputs": [],
   "source": [
    "dataset_train.cache"
   ]
  },
  {
   "cell_type": "code",
   "execution_count": null,
   "id": "db29327d-8eb8-49fd-a74e-98eabaa86c54",
   "metadata": {
    "jupyter": {
     "source_hidden": true
    }
   },
   "outputs": [],
   "source": [
    "trainXdf=pd.DataFrame(trainXch4.reshape(3285,2356875))"
   ]
  },
  {
   "cell_type": "code",
   "execution_count": null,
   "id": "575a3b2b-f340-4c72-bd3a-d1720506b143",
   "metadata": {
    "jupyter": {
     "source_hidden": true
    }
   },
   "outputs": [],
   "source": [
    "trainXdf=trainXdf.columns.values"
   ]
  },
  {
   "cell_type": "code",
   "execution_count": null,
   "id": "33718cde-410c-4df6-8c47-cbaeeb994de7",
   "metadata": {
    "jupyter": {
     "source_hidden": true
    }
   },
   "outputs": [],
   "source": [
    "trainX=trainXdf"
   ]
  },
  {
   "cell_type": "code",
   "execution_count": null,
   "id": "78cef1f0-6aed-4b0f-a325-be6f19a3123f",
   "metadata": {
    "jupyter": {
     "source_hidden": true
    }
   },
   "outputs": [],
   "source": [
    "trainydf=pd.DataFrame(trainych4.reshape(3285,2356875))"
   ]
  },
  {
   "cell_type": "code",
   "execution_count": null,
   "id": "228ae47f-7cdd-442f-93f0-868f6db384a1",
   "metadata": {
    "jupyter": {
     "source_hidden": true
    }
   },
   "outputs": [],
   "source": [
    "trainydf=trainydf.columns.values"
   ]
  },
  {
   "cell_type": "code",
   "execution_count": null,
   "id": "3dee001e-c05d-4855-b26c-87dc5c0047da",
   "metadata": {},
   "outputs": [],
   "source": []
  },
  {
   "cell_type": "code",
   "execution_count": null,
   "id": "469909d9-1122-4b31-bd7a-dc9e9ce93bc1",
   "metadata": {},
   "outputs": [],
   "source": [
    "inputs.shape, targets.shape"
   ]
  },
  {
   "cell_type": "code",
   "execution_count": null,
   "id": "24a02758-863e-4653-bc20-1342fa6f175f",
   "metadata": {},
   "outputs": [],
   "source": [
    "inputs2.shape, targets2.shape"
   ]
  },
  {
   "cell_type": "code",
   "execution_count": null,
   "id": "e1c50a01-3ce6-43b8-b25c-e186b4462ff0",
   "metadata": {},
   "outputs": [],
   "source": [
    "inputs3.shape, targets3.shape"
   ]
  },
  {
   "cell_type": "code",
   "execution_count": null,
   "id": "bc8e36fd-c2aa-4ab8-9323-40dcee8b9d52",
   "metadata": {},
   "outputs": [],
   "source": []
  },
  {
   "cell_type": "code",
   "execution_count": null,
   "id": "93712ffe-4b93-412f-ba21-30ada34106a9",
   "metadata": {},
   "outputs": [],
   "source": [
    "plt.contourf(trainych4[100][80].reshape(75,75))"
   ]
  },
  {
   "cell_type": "code",
   "execution_count": null,
   "id": "be6a5bb8-7561-40a3-bb24-a47c30392978",
   "metadata": {},
   "outputs": [],
   "source": [
    "print(trainXch4.shape, trainych4.shape)\n",
    "print(validXch4.shape, validych4.shape)"
   ]
  },
  {
   "cell_type": "code",
   "execution_count": null,
   "id": "dcd902ef-8e42-4a8e-bfb4-27a7ca6ca688",
   "metadata": {},
   "outputs": [],
   "source": [
    "train_data = [[1.0,2.0,3.0],[4.0,5.0,6.0]]\n",
    "train_data_np = np.asarray(train_data)\n",
    "train_label = [[1,2,3],[4,5,6]]\n",
    "train_label_np = np.asarray(train_label)"
   ]
  },
  {
   "cell_type": "code",
   "execution_count": null,
   "id": "a5c5016c-5338-4795-9353-6ddb05f05439",
   "metadata": {},
   "outputs": [],
   "source": [
    "train_data_np.shape, train_label_np.shape"
   ]
  },
  {
   "cell_type": "code",
   "execution_count": null,
   "id": "58ff576b-89be-412c-b25a-b6efcd10e850",
   "metadata": {},
   "outputs": [],
   "source": []
  },
  {
   "cell_type": "code",
   "execution_count": null,
   "id": "4222cfd7-7688-489e-9bfa-ffbd13df385a",
   "metadata": {},
   "outputs": [],
   "source": [
    "inputs.shape"
   ]
  },
  {
   "cell_type": "code",
   "execution_count": null,
   "id": "eb254e78-c323-47b3-834a-39a97e1ec599",
   "metadata": {},
   "outputs": [],
   "source": [
    "inputs.shape, targets.shape"
   ]
  },
  {
   "cell_type": "code",
   "execution_count": null,
   "id": "cc8b6b97-09c3-4bfd-bf02-0f95834b9433",
   "metadata": {},
   "outputs": [],
   "source": [
    "traininputs = keras.Input(shape=(trainXch4.shape[0], trainXch4.shape[1],trainXch4.shape[2], trainXch4.shape[3], trainXch4.shape[4]))\n",
    "traintargets = keras.Input(shape=(trainych4.shape[0]))"
   ]
  },
  {
   "cell_type": "code",
   "execution_count": null,
   "id": "a2560bad-8fc8-4b8c-a6ec-1f9863bd43ab",
   "metadata": {},
   "outputs": [],
   "source": [
    "validinputs = keras.Input(shape=(validXch4.shape[0], validXch4.shape[1],validXch4.shape[2], validXch4.shape[3], validXch4.shape[4]))\n",
    "validtargets = keras.Input(shape=(validych4.shape[0]))"
   ]
  },
  {
   "cell_type": "code",
   "execution_count": null,
   "id": "fcd100f1-892a-4df3-a1f3-5b72ce724d94",
   "metadata": {},
   "outputs": [],
   "source": [
    "testinputs = keras.Input(shape=(testXch4.shape[0], testXch4.shape[1],testXch4.shape[2], testXch4.shape[3], testXch4.shape[4]))\n",
    "testtargets = keras.Input(shape=(testych4.shape[0]))"
   ]
  },
  {
   "cell_type": "code",
   "execution_count": null,
   "id": "993833e4-5310-45da-ad5d-a2bb77a6731d",
   "metadata": {},
   "outputs": [],
   "source": [
    "inputs.shape, targets.shape, trainXch4.shape, trainych4.shape, validXch4.shape, validych4.shape"
   ]
  },
  {
   "cell_type": "code",
   "execution_count": null,
   "id": "a7c8d60f-0af7-45ac-8842-ba47025d73b9",
   "metadata": {},
   "outputs": [],
   "source": [
    "trainy=trainXch4.reshape(3285,1856,35,35,)"
   ]
  },
  {
   "cell_type": "code",
   "execution_count": null,
   "id": "58cca41d-8dd0-4450-b166-240da1470a7a",
   "metadata": {},
   "outputs": [],
   "source": [
    "trainy.shape"
   ]
  },
  {
   "cell_type": "code",
   "execution_count": null,
   "id": "46dcf8a2-8f3c-4044-ab55-3031e44d947d",
   "metadata": {},
   "outputs": [],
   "source": [
    "trainx=trainXch4.reshape(3285,1856,35,35)"
   ]
  },
  {
   "cell_type": "code",
   "execution_count": null,
   "id": "a0f0e648-45e6-414a-9713-19acbf61aea6",
   "metadata": {},
   "outputs": [],
   "source": []
  },
  {
   "cell_type": "code",
   "execution_count": null,
   "id": "c6eaf8ff-2e05-4c90-bb45-9dd277d1b465",
   "metadata": {},
   "outputs": [],
   "source": [
    "trainx.shape, trainy.shape"
   ]
  },
  {
   "cell_type": "code",
   "execution_count": null,
   "id": "521efbbf-b9b4-4c8f-9188-005733e4ac02",
   "metadata": {},
   "outputs": [],
   "source": [
    "validXch4_x,validXch4_y=validXch4[:2920],trainXch4[2920:]"
   ]
  },
  {
   "cell_type": "code",
   "execution_count": null,
   "id": "1dfd06ea-ebf7-400d-9010-b60a56ef9470",
   "metadata": {},
   "outputs": [],
   "source": [
    "if K.image_data_format() == 'channels_first':\n",
    "    x_train = tf.reshape(trainx[-1, 1, 32, 32)\n",
    "    x_test = x_test.reshape(-1, 1, img_rows, img_cols)\n",
    "    input_shape = (1, img_rows, img_cols)\n",
    "else:\n",
    "    x_train = x_train.reshape(-1, img_rows, img_cols, 1)\n",
    "    x_test = x_test.reshape(-1, img_rows, img_cols, 1)\n",
    "    input_shape = (img_rows, img_cols, 1)"
   ]
  },
  {
   "cell_type": "code",
   "execution_count": null,
   "id": "a3051fbd-0c3e-433f-b9e9-3cc693c0f26a",
   "metadata": {},
   "outputs": [],
   "source": [
    "trainxnew.shape, inputs.shape"
   ]
  },
  {
   "cell_type": "code",
   "execution_count": null,
   "id": "82fd7017-7c1c-4eb3-9825-2f9f62490a29",
   "metadata": {},
   "outputs": [],
   "source": [
    "#CH4\n",
    "tuner.search(trainxnew,\n",
    "                     trainynew,\n",
    "                     #epochs=10,\n",
    "                     steps_per_epoch = None,\n",
    "                     shuffle = False,\n",
    "                     validation_data = (validxnew, validynew),\n",
    "                     #validation_split = 0.15,#0.2,\n",
    "                     verbose = 1,\n",
    "                     callbacks = [early_stopping, History(), TerminateOnNaN(),keras.callbacks.TensorBoard(\"/tmp/tb_logs\")],\n",
    "                     use_multiprocessing = True)"
   ]
  },
  {
   "cell_type": "code",
   "execution_count": null,
   "id": "81089553-f572-4713-b73e-654176ec2671",
   "metadata": {},
   "outputs": [],
   "source": [
    "# #CO2\n",
    "# bayesian_tuner.search(trainXscco2ref, \n",
    "#                      trainyscco2ref, \n",
    "#                      steps_per_epoch = None, \n",
    "#                      shuffle = False, \n",
    "#                      validation_data = (validXscco2ref, validyscco2ref),\n",
    "#                      #validation_split = 0.15,#0.2,\n",
    "#                      verbose = 1,\n",
    "#                      callbacks = [early_stopping, History(), TerminateOnNaN(),keras.callbacks.TensorBoard(\"/tmp/tb_logs\")], \n",
    "#                      use_multiprocessing = True)"
   ]
  },
  {
   "cell_type": "code",
   "execution_count": null,
   "id": "aec558e7-874f-424d-af7d-00fdd0673648",
   "metadata": {},
   "outputs": [],
   "source": [
    "bayesian_tuner.results_summary()"
   ]
  },
  {
   "cell_type": "code",
   "execution_count": null,
   "id": "981d5e00-8880-4341-b262-7743a6be6897",
   "metadata": {
    "jupyter": {
     "source_hidden": true
    }
   },
   "outputs": [],
   "source": [
    "#HP ALT\n",
    "# BEST MODEL: TRIAL24\n",
    "# Trial 27 Complete [01h 42m 02s]\n",
    "# val_loss: 0.10911799222230911\n",
    "\n",
    "# Best val_loss So Far: 0.10056757181882858\n",
    "# Total elapsed time: 16h 43m 38s\n",
    "\n",
    "# Search: Running Trial #28\n",
    "\n",
    "# Value             |Best Value So Far |Hyperparameter\n",
    "# 0.0001            |0.0001            |learning_rate\n",
    "# 64                |64                |batch_size\n",
    "# 64                |64                |units\n",
    "# 91                |96                |conv1d_filters\n",
    "# 3                 |9                 |conv1d_kernel_size\n",
    "# relu              |swish             |conv1d_activation\n",
    "# 107               |97                |bilstm_units\n",
    "# swish             |relu              |bilstm_activation\n",
    "# relu              |relu              |bilstm_rec_activation\n",
    "# 0.1               |0.4               |bilstm_dropout\n",
    "# 0.1               |0.1               |bilstm_rec_dropout\n",
    "# False             |False             |bilstm_use_bias\n",
    "# True              |True              |bilstm_forgot_bias\n",
    "# 88                |64                |lstm_units\n",
    "# gelu              |relu              |lstm_activation\n",
    "# softmax           |relu              |lstm_rec_activation\n",
    "# 0.1               |0.1               |lstm_dropout\n",
    "# 0.1               |0.1               |lstm_rec_dropout\n",
    "# 128               |128               |lstm2_units\n",
    "# relu              |relu              |lstm2_activation\n",
    "# relu              |relu              |lstm2_rec_activation\n",
    "# 0.1               |0.1               |lstm2_dropout\n",
    "# 0.4               |0.4               |lstm2_rec_dropout\n",
    "# 128               |128               |bilstm2_units\n",
    "# relu              |relu              |bilstm2_activation\n",
    "# swish             |sigmoid           |bilstm2_rec_activation\n",
    "# 0.4               |0.4               |bilstm2_dropout\n",
    "# 0.4               |0.4               |bilstm2_rec_dropout\n",
    "# True              |True              |bilstm2_use_bias\n",
    "# False             |False             |bilstm2_forgot_bias\n",
    "# 91                |88                |conv1d2_filters\n",
    "# 9                 |9                 |conv1d2_kernel_size\n",
    "# swish             |swish             |conv1d2_activation"
   ]
  },
  {
   "cell_type": "code",
   "execution_count": null,
   "id": "e9007bbf-fff2-4d31-8a57-1220274f4604",
   "metadata": {
    "jupyter": {
     "source_hidden": true
    }
   },
   "outputs": [],
   "source": [
    "# #ALT Results\n",
    "# Results summary\n",
    "# Results in ./Bayesian_optimization_071423_ALT\n",
    "# Showing 10 best trials\n",
    "# Objective(name=\"val_loss\", direction=\"min\")\n",
    "\n",
    "# Trial 09 summary\n",
    "# Hyperparameters:\n",
    "# units: 224\n",
    "# learning_rate: 0.01\n",
    "# conv1d_filters: 38\n",
    "# conv1d_kernel_size: 6\n",
    "# conv1d_activation: linear\n",
    "# conv1d2_filters: 48\n",
    "# conv1d2_kernel_size: 5\n",
    "# conv1d2_activation: exponential\n",
    "# bilstm_units: 63\n",
    "# bilstm_activation: sigmoid\n",
    "# bilstm_rec_activation: tanh\n",
    "# bilstm_dropout: 0.3\n",
    "# bilstm_rec_dropout: 0.1\n",
    "# bilstm_use_bias: False\n",
    "# bilstm_forgot_bias: True\n",
    "# bilstm2_units: 45\n",
    "# bilstm2_activation: sigmoid\n",
    "# bilstm2_rec_activation: exponential\n",
    "# bilstm2_dropout: 0.1\n",
    "# bilstm2_rec_dropout: 0.1\n",
    "# bilstm2_use_bias: True\n",
    "# bilstm2_forgot_bias: False\n",
    "# bilstm3_units: 46\n",
    "# bilstm3_activation: selu\n",
    "# bilstm3_rec_activation: relu\n",
    "# bilstm3_dropout: 0.4\n",
    "# bilstm3_rec_dropout: 0.1\n",
    "# bilstm3_use_bias: True\n",
    "# bilstm3_forgot_bias: False\n",
    "# bilstm4_units: 47\n",
    "# bilstm4_activation: sigmoid\n",
    "# bilstm4_rec_activation: gelu\n",
    "# bilstm4_dropout: 0.3\n",
    "# bilstm4_rec_dropout: 0.1\n",
    "# bilstm4_use_bias: False\n",
    "# bilstm4_forgot_bias: False\n",
    "# lstm_units: 63\n",
    "# lstm_activation: sigmoid\n",
    "# lstm_rec_activation: gelu\n",
    "# lstm_dropout: 0.3\n",
    "# lstm_rec_dropout: 0.1\n",
    "# lstm2_units: 64\n",
    "# lstm2_activation: exponential\n",
    "# lstm2_rec_activation: selu\n",
    "# lstm2_dropout: 0.3\n",
    "# lstm2_rec_dropout: 0.3\n",
    "# Score: 2.8679637908935547"
   ]
  },
  {
   "cell_type": "code",
   "execution_count": null,
   "id": "c5b056af-d80e-426e-814b-22895f88302b",
   "metadata": {
    "jupyter": {
     "source_hidden": true
    }
   },
   "outputs": [],
   "source": [
    "#ALT\n",
    "class geocryoai2(HyperModel):\n",
    "    def build(self, hp):\n",
    "        #backend.clear_session()\n",
    "        #inputs = keras.Input(shape=(X_train_reframed.shape[1], X_train_reframed.shape[2]))\n",
    "        inputs = keras.Input(shape=(trainXscch4ref.shape[1], trainXscch4ref.shape[2]))        \n",
    "        model = tf.keras.Sequential()\n",
    "        #for i in range(n_layers):\n",
    "        model.add(Conv1D(\n",
    "            filters=38, \n",
    "            kernel_size=6, \n",
    "            activation = 'swish',\n",
    "            padding='same', \n",
    "            input_shape=(inputs.shape[1], inputs.shape[2])))\n",
    "        # model.add(MaxPool1D(pool_size=1))\n",
    "        #for i in range(hp['n_layers']): #TUNE THIS (LAYERS) WHEN ADDING SATELLITE AND MODELING DATA\n",
    "        model.add(Bidirectional(LSTM(\n",
    "            input_shape=(inputs.shape[1], inputs.shape[2]),\n",
    "            return_sequences = True, \n",
    "            #kernel_initializer = tf.keras.initializers.RandomNormal(mean=0.0, stddev=0.00001),\n",
    "            #name = f\"1BiLSTM_layer_{i+1}\",\n",
    "            units = 97,\n",
    "            activation = 'relu',\n",
    "            #recurrent_activation = 'relu',\n",
    "            use_bias = False,\n",
    "            unit_forget_bias = True,\n",
    "            dropout=0.1,\n",
    "            recurrent_dropout = 0.1)))\n",
    "        model.add(LSTM(\n",
    "            units=64,\n",
    "            activation = 'relu',\n",
    "            #recurrent_activation = 'relu',\n",
    "            return_sequences=False, \n",
    "            dropout=0.1,\n",
    "            recurrent_dropout=0.1,\n",
    "            input_shape=(inputs.shape[1], inputs.shape[2])))\n",
    "        #model.add(Bidirectional(LSTM(inputs.shape[-1], activation='relu', return_sequences = False, dropout=0, input_shape=(inputs.shape[1], inputs.shape[2]))))\n",
    "        model.add(RepeatVector(inputs.shape[1]))   #TUNE THIS (LAYERS) WHEN ADDING SATELLITE AND MODELING DATA\n",
    "        model.add(LSTM(\n",
    "            units=128, \n",
    "            activation = 'relu',\n",
    "            #recurrent_activation='relu',\n",
    "            return_sequences=True,\n",
    "            dropout=0.1,\n",
    "            recurrent_dropout=0.1,\n",
    "            input_shape=(inputs.shape[1], inputs.shape[2])))\n",
    "        #model.add(Bidirectional(LSTM(inputs.shape[-1], activation='relu', return_sequences = True, dropout=0, input_shape=(inputs.shape[1], inputs.shape[2])))) \n",
    "        model.add(Bidirectional(LSTM(\n",
    "            input_shape=(inputs.shape[1], inputs.shape[2]),\n",
    "            return_sequences = True, \n",
    "            #kernel_initializer = tf.keras.initializers.RandomNormal(mean=0.0, stddev=0.00001),\n",
    "            #name = f\"2BiLSTM_layer_{i+1}\",\n",
    "            units = 128,\n",
    "            activation = 'relu',\n",
    "            #recurrent_activation = 'sigmoid',\n",
    "            use_bias = True,\n",
    "            unit_forget_bias = False,\n",
    "            dropout=0.1,\n",
    "            recurrent_dropout = 0.1)))\n",
    "        model.add(Conv1DTranspose(\n",
    "           filters=88, \n",
    "           kernel_size=9, \n",
    "           activation = 'swish',\n",
    "           padding='same', \n",
    "           input_shape=(inputs.shape[1], inputs.shape[2])))\n",
    "        model.add(TimeDistributed(Dense(trainyscaltref.shape[1])))\n",
    "        #model.add(TimeDistributed(Dense(trainyscch4ref.shape[1])))\n",
    "        #model.add(Dense(trainXscaltref.shape[1]))\n",
    "        #model.add(Dense(trainXscch4ref.shape[1]))\n",
    "        metrics=['mean_squared_error', 'mean_absolute_error', RSquare().build(input_shape = (trainyscaltref.shape[1],))]\n",
    "        #metrics=['mean_squared_error', 'mean_absolute_error', RSquare().build(input_shape = (trainyscch4ref.shape[1],))]\n",
    "        loss_function = 'mean_squared_error'\n",
    "        model.compile(optimizer = tf.keras.optimizers.legacy.RMSprop(learning_rate = 0.0001, **{\"clipvalue\" : 1000}),loss = loss_function, metrics = metrics)\n",
    "        return model\n",
    "    \n",
    "    def fit(self, hp, model, *args, **kwargs):\n",
    "        return model.fit(*args, batch_size = 256, **kwargs)"
   ]
  },
  {
   "cell_type": "code",
   "execution_count": null,
   "id": "a3454df2-3918-4228-89b1-2483fbf1e1da",
   "metadata": {
    "jupyter": {
     "source_hidden": true
    }
   },
   "outputs": [],
   "source": [
    "#ALT\n",
    "class geocryoai2(HyperModel):\n",
    "    def build(self, hp):\n",
    "        #backend.clear_session()\n",
    "        inputs = keras.Input(shape=(trainXscaltref.shape[1], trainXscaltref.shape[2]))\n",
    "        #inputs = keras.Input(shape=(trainXscch4ref.shape[1], trainXscch4ref.shape[2]))        \n",
    "        model = tf.keras.Sequential()\n",
    "        #for i in range(n_layers):\n",
    "        model.add(Conv1D(\n",
    "            filters=96, \n",
    "            kernel_size=9, \n",
    "            activation = 'swish',\n",
    "            padding='same', \n",
    "            input_shape=(inputs.shape[1], inputs.shape[2])))\n",
    "        # model.add(MaxPool1D(pool_size=1))\n",
    "        #for i in range(hp['n_layers']): #TUNE THIS (LAYERS) WHEN ADDING SATELLITE AND MODELING DATA\n",
    "        model.add(Bidirectional(LSTM(\n",
    "            input_shape=(inputs.shape[1], inputs.shape[2]),\n",
    "            return_sequences = True, \n",
    "            #kernel_initializer = tf.keras.initializers.RandomNormal(mean=0.0, stddev=0.00001),\n",
    "            #name = f\"1BiLSTM_layer_{i+1}\",\n",
    "            units = 97,\n",
    "            activation = 'relu',\n",
    "            #recurrent_activation = 'relu',\n",
    "            use_bias = False,\n",
    "            unit_forget_bias = True,\n",
    "            dropout=0.1,\n",
    "            recurrent_dropout = 0.1)))\n",
    "        model.add(LSTM(\n",
    "            units=64,\n",
    "            activation = 'relu',\n",
    "            #recurrent_activation = 'relu',\n",
    "            return_sequences=False, \n",
    "            dropout=0.1,\n",
    "            recurrent_dropout=0.1,\n",
    "            input_shape=(inputs.shape[1], inputs.shape[2])))\n",
    "        #model.add(Bidirectional(LSTM(inputs.shape[-1], activation='relu', return_sequences = False, dropout=0, input_shape=(inputs.shape[1], inputs.shape[2]))))\n",
    "        model.add(RepeatVector(inputs.shape[1]))   #TUNE THIS (LAYERS) WHEN ADDING SATELLITE AND MODELING DATA\n",
    "        model.add(LSTM(\n",
    "            units=128, \n",
    "            activation = 'relu',\n",
    "            #recurrent_activation='relu',\n",
    "            return_sequences=True,\n",
    "            dropout=0.1,\n",
    "            recurrent_dropout=0.1,\n",
    "            input_shape=(inputs.shape[1], inputs.shape[2])))\n",
    "        #model.add(Bidirectional(LSTM(inputs.shape[-1], activation='relu', return_sequences = True, dropout=0, input_shape=(inputs.shape[1], inputs.shape[2])))) \n",
    "        model.add(Bidirectional(LSTM(\n",
    "            input_shape=(inputs.shape[1], inputs.shape[2]),\n",
    "            return_sequences = True, \n",
    "            #kernel_initializer = tf.keras.initializers.RandomNormal(mean=0.0, stddev=0.00001),\n",
    "            #name = f\"2BiLSTM_layer_{i+1}\",\n",
    "            units = 128,\n",
    "            activation = 'relu',\n",
    "            #recurrent_activation = 'sigmoid',\n",
    "            use_bias = True,\n",
    "            unit_forget_bias = False,\n",
    "            dropout=0.1,\n",
    "            recurrent_dropout = 0.1)))\n",
    "        model.add(Conv1DTranspose(\n",
    "           filters=88, \n",
    "           kernel_size=9, \n",
    "           activation = 'swish',\n",
    "           padding='same', \n",
    "           input_shape=(inputs.shape[1], inputs.shape[2])))\n",
    "        model.add(TimeDistributed(Dense(trainyscaltref.shape[1])))\n",
    "        #model.add(TimeDistributed(Dense(trainyscch4ref.shape[1])))\n",
    "        #model.add(Dense(trainXscaltref.shape[1]))\n",
    "        #model.add(Dense(trainXscch4ref.shape[1]))\n",
    "        metrics=['mean_squared_error', 'mean_absolute_error', RSquare().build(input_shape = (trainyscaltref.shape[1],))]\n",
    "        #metrics=['mean_squared_error', 'mean_absolute_error', RSquare().build(input_shape = (trainyscch4ref.shape[1],))]\n",
    "        loss_function = 'mean_squared_error'\n",
    "        model.compile(optimizer = tf.keras.optimizers.legacy.RMSprop(learning_rate = 0.0001, **{\"clipvalue\" : 1000}),loss = loss_function, metrics = metrics)\n",
    "        return model\n",
    "    \n",
    "    def fit(self, hp, model, *args, **kwargs):\n",
    "        return model.fit(*args, batch_size = 256, **kwargs)"
   ]
  },
  {
   "cell_type": "code",
   "execution_count": null,
   "id": "8927b6aa-dd03-409d-95e4-6844f1348f78",
   "metadata": {
    "jupyter": {
     "source_hidden": true
    }
   },
   "outputs": [],
   "source": [
    "#HP CH4\n",
    "#BEST MODEL: TRIAL22\n",
    "# Trial 26 Complete [01h 35m 54s]\n",
    "# val_loss: 0.4272751808166504\n",
    "\n",
    "# Best val_loss So Far: 0.004293057601898909\n",
    "# Total elapsed time: 14h 38m 44s\n",
    "\n",
    "# Search: Running Trial #27\n",
    "\n",
    "# Value             |Best Value So Far |Hyperparameter\n",
    "# 0.001             |0.0001            |learning_rate\n",
    "# 64                |64                |batch_size\n",
    "# 320               |128               |units\n",
    "# 64                |71                |conv1d_filters\n",
    "# 9                 |9                 |conv1d_kernel_size\n",
    "# relu              |relu              |conv1d_activation\n",
    "# 116               |92                |bilstm_units\n",
    "# relu              |relu              |bilstm_activation\n",
    "# relu              |relu              |bilstm_rec_activation\n",
    "# 0.4               |0.3               |bilstm_dropout\n",
    "# 0.4               |0.4               |bilstm_rec_dropout\n",
    "# False             |False             |bilstm_use_bias\n",
    "# True              |True              |bilstm_forgot_bias\n",
    "# 100               |128               |lstm_units\n",
    "# linear            |tanh              |lstm_activation\n",
    "# swish             |elu               |lstm_rec_activation\n",
    "# 0.4               |0.4               |lstm_dropout\n",
    "# 0.4               |0.4               |lstm_rec_dropout\n",
    "# 128               |128               |lstm2_units\n",
    "# relu              |softmax           |lstm2_activation\n",
    "# swish             |swish             |lstm2_rec_activation\n",
    "# 0.4               |0.4               |lstm2_dropout\n",
    "# 0.4               |0.1               |lstm2_rec_dropout\n",
    "# 123               |78                |bilstm2_units\n",
    "# relu              |relu              |bilstm2_activation\n",
    "# swish             |relu              |bilstm2_rec_activation\n",
    "# 0.1               |0.1               |bilstm2_dropout\n",
    "# 0.1               |0.1               |bilstm2_rec_dropout\n",
    "# False             |False             |bilstm2_use_bias\n",
    "# True              |False             |bilstm2_forgot_bias\n",
    "# 128               |117               |conv1d2_filters\n",
    "# 3                 |3                 |conv1d2_kernel_size\n",
    "# sigmoid           |swish             |conv1d2_activation"
   ]
  },
  {
   "cell_type": "code",
   "execution_count": null,
   "id": "84e42dd5-e505-4658-99d3-4c1afb506079",
   "metadata": {},
   "outputs": [],
   "source": [
    "#CH4\n",
    "class geocryoai2(HyperModel):\n",
    "    def build(self, hp):\n",
    "        #backend.clear_session()\n",
    "        #inputs = keras.Input(shape=(X_train_reframed.shape[1], X_train_reframed.shape[2]))\n",
    "        #inputs = keras.Input(shape=(trainXscch4ref.shape[1], trainXscch4ref.shape[2]))        \n",
    "        model = tf.keras.Sequential()\n",
    "        #for i in range(n_layers):\n",
    "        model.add(Conv1D(\n",
    "            filters=71, \n",
    "            kernel_size=9, \n",
    "            activation = 'swish',\n",
    "            padding='same', \n",
    "            input_shape=(inputs.shape[1], inputs.shape[2])))\n",
    "        # model.add(MaxPool1D(pool_size=1))\n",
    "        #for i in range(hp['n_layers']): #TUNE THIS (LAYERS) WHEN ADDING SATELLITE AND MODELING DATA\n",
    "        model.add(Bidirectional(LSTM(\n",
    "            input_shape=(inputs.shape[1], inputs.shape[2]),\n",
    "            return_sequences = True, \n",
    "            #kernel_initializer = tf.keras.initializers.RandomNormal(mean=0.0, stddev=0.00001),\n",
    "            #name = f\"1BiLSTM_layer_{i+1}\",\n",
    "            units = 92,\n",
    "            activation = 'relu',\n",
    "            #recurrent_activation = 'linear',\n",
    "            use_bias = False,\n",
    "            unit_forget_bias = True,\n",
    "            dropout=0.1,\n",
    "            recurrent_dropout = 0.1)))\n",
    "        #for i in range(hp['n_layers']):\n",
    "        model.add(LSTM(\n",
    "            units=128,\n",
    "            activation = 'tanh',\n",
    "            #recurrent_activation = 'softmax',\n",
    "            return_sequences=False, \n",
    "            dropout=0.1,\n",
    "            recurrent_dropout=0.1,\n",
    "            input_shape=(inputs.shape[1], inputs.shape[2])))\n",
    "        #model.add(Bidirectional(LSTM(inputs.shape[-1], activation='relu', return_sequences = False, dropout=0, input_shape=(inputs.shape[1], inputs.shape[2]))))\n",
    "        model.add(RepeatVector(inputs.shape[1]))   #TUNE THIS (LAYERS) WHEN ADDING SATELLITE AND MODELING DATA\n",
    "        model.add(LSTM(\n",
    "            units=128, \n",
    "            activation = 'softmax',\n",
    "            #recurrent_activation='elu',\n",
    "            return_sequences=True,\n",
    "            dropout=0.1,\n",
    "            recurrent_dropout=0.1,\n",
    "            input_shape=(inputs.shape[1], inputs.shape[2])))\n",
    "        #model.add(Bidirectional(LSTM(inputs.shape[-1], activation='relu', return_sequences = True, dropout=0, input_shape=(inputs.shape[1], inputs.shape[2])))) \n",
    "        model.add(Bidirectional(LSTM(\n",
    "            input_shape=(inputs.shape[1], inputs.shape[2]),\n",
    "            return_sequences = True, \n",
    "            #kernel_initializer = tf.keras.initializers.RandomNormal(mean=0.0, stddev=0.00001),\n",
    "            #name = f\"2BiLSTM_layer_{i+1}\",\n",
    "            units = 78,\n",
    "            activation = 'relu',\n",
    "            #recurrent_activation = 'relu',\n",
    "            use_bias = False,\n",
    "            unit_forget_bias = False,\n",
    "            dropout=0.1,\n",
    "            recurrent_dropout = 0.1)))\n",
    "        model.add(Conv1DTranspose(\n",
    "           filters=117, \n",
    "           kernel_size=3, \n",
    "           activation = 'swish',\n",
    "           padding='same', \n",
    "           input_shape=(inputs.shape[1], inputs.shape[2])))\n",
    "        #model.add(TimeDistributed(Dense(trainyscaltref.shape[1])))\n",
    "        model.add(TimeDistributed(Dense(trainyscch4ref.shape[1])))\n",
    "        #model.add(TimeDistributed(Dense(trainyscco2ref.shape[1])))\n",
    "        #model.add(Dense(trainXscaltref.shape[1]))\n",
    "        model.add(Dense(trainXscch4ref.shape[1]))\n",
    "        #model.add(Dense(trainXscco2ref.shape[1]))\n",
    "        #metrics=['mean_squared_error', 'mean_absolute_error', RSquare().build(input_shape = (trainyscaltref.shape[1],))]\n",
    "        metrics=['mean_squared_error', 'mean_absolute_error', RSquare().build(input_shape = (trainyscch4ref.shape[1],))]\n",
    "        #metrics=['mean_squared_error', 'mean_absolute_error', RSquare().build(input_shape = (trainyscco2ref.shape[1],))]\n",
    "        loss_function = 'mean_squared_error'\n",
    "        model.compile(optimizer = tf.keras.optimizers.legacy.RMSprop(learning_rate = 0.001, **{\"clipvalue\" : 1000}),loss = loss_function, metrics = metrics)\n",
    "        return model\n",
    "    \n",
    "    def fit(self, hp, model, *args, **kwargs):\n",
    "        return model.fit(*args, batch_size = 256, **kwargs)"
   ]
  },
  {
   "cell_type": "code",
   "execution_count": null,
   "id": "48b868de-2f0d-4e0a-8a80-b646c047548a",
   "metadata": {
    "jupyter": {
     "source_hidden": true
    }
   },
   "outputs": [],
   "source": [
    "#HP CO2\n",
    "#BEST MODEL: TRIAL22\n",
    "# Trial 31 Complete [01h 26m 33s]\n",
    "# val_loss: 0.09103024005889893\n",
    "\n",
    "# Best val_loss So Far: 0.014815938659012318\n",
    "# Total elapsed time: 13h 56m 11s\n",
    "\n",
    "# Search: Running Trial #32\n",
    "\n",
    "# Value             |Best Value So Far |Hyperparameter\n",
    "# 0.0001            |0.0001            |learning_rate\n",
    "# 64                |64                |batch_size\n",
    "# 128               |192               |units\n",
    "# 128               |128               |conv1d_filters\n",
    "# 9                 |6                 |conv1d_kernel_size\n",
    "# relu              |elu               |conv1d_activation\n",
    "# 111               |100               |bilstm_units\n",
    "# relu              |relu              |bilstm_activation\n",
    "# relu              |relu              |bilstm_rec_activation\n",
    "# 0.1               |0.1               |bilstm_dropout\n",
    "# 0.3               |0.3               |bilstm_rec_dropout\n",
    "# False             |True              |bilstm_use_bias\n",
    "# True              |True              |bilstm_forgot_bias\n",
    "# 64                |64                |lstm_units\n",
    "# sigmoid           |tanh              |lstm_activation\n",
    "# sigmoid           |tanh              |lstm_rec_activation\n",
    "# 0.1               |0.1               |lstm_dropout\n",
    "# 0.4               |0.4               |lstm_rec_dropout\n",
    "# 80                |83                |lstm2_units\n",
    "# relu              |relu              |lstm2_activation\n",
    "# relu              |relu              |lstm2_rec_activation\n",
    "# 0.1               |0.1               |lstm2_dropout\n",
    "# 0.3               |0.3               |lstm2_rec_dropout\n",
    "# 64                |64                |bilstm2_units\n",
    "# relu              |relu              |bilstm2_activation\n",
    "# relu              |sigmoid           |bilstm2_rec_activation\n",
    "# 0.4               |0.3               |bilstm2_dropout\n",
    "# 0.4               |0.3               |bilstm2_rec_dropout\n",
    "# False             |False             |bilstm2_use_bias\n",
    "# False             |True              |bilstm2_forgot_bias\n",
    "# 128               |95                |conv1d2_filters\n",
    "# 6                 |6                 |conv1d2_kernel_size\n",
    "# swish             |swish             |conv1d2_activation"
   ]
  },
  {
   "cell_type": "code",
   "execution_count": null,
   "id": "d5a56621-56d0-476d-87e1-459ed9fd61b6",
   "metadata": {
    "jupyter": {
     "source_hidden": true
    }
   },
   "outputs": [],
   "source": [
    "#CO2\n",
    "class geocryoai2(HyperModel):\n",
    "    def build(self, hp):\n",
    "        #backend.clear_session()\n",
    "        #inputs = keras.Input(shape=(X_train_reframed.shape[1], X_train_reframed.shape[2]))\n",
    "        #inputs = keras.Input(shape=(trainXscch4ref.shape[1], trainXscch4ref.shape[2]))        \n",
    "        model = tf.keras.Sequential()\n",
    "        #for i in range(n_layers):\n",
    "        model.add(Conv1D(\n",
    "            filters=128, \n",
    "            kernel_size=6, \n",
    "            activation = 'elu',\n",
    "            padding='same', \n",
    "            input_shape=(inputs.shape[1], inputs.shape[2])))\n",
    "        # model.add(MaxPool1D(pool_size=1))\n",
    "        #for i in range(hp['n_layers']): #TUNE THIS (LAYERS) WHEN ADDING SATELLITE AND MODELING DATA\n",
    "        model.add(Bidirectional(LSTM(\n",
    "            input_shape=(inputs.shape[1], inputs.shape[2]),\n",
    "            return_sequences = True, \n",
    "            #kernel_initializer = tf.keras.initializers.RandomNormal(mean=0.0, stddev=0.00001),\n",
    "            #name = f\"1BiLSTM_layer_{i+1}\",\n",
    "            units = 120,\n",
    "            activation = 'relu',\n",
    "            #recurrent_activation = 'relu',\n",
    "            use_bias = True,\n",
    "            unit_forget_bias = True,\n",
    "            dropout=0.1,\n",
    "            recurrent_dropout = 0.1)))\n",
    "        #for i in range(hp['n_layers']):\n",
    "        model.add(LSTM(\n",
    "            units=64,\n",
    "            activation = 'tanh',\n",
    "            #recurrent_activation = 'tanh',\n",
    "            return_sequences=False, \n",
    "            dropout=0.1,\n",
    "            recurrent_dropout=0.1,\n",
    "            input_shape=(inputs.shape[1], inputs.shape[2])))\n",
    "        #model.add(Bidirectional(LSTM(inputs.shape[-1], activation='relu', return_sequences = False, dropout=0, input_shape=(inputs.shape[1], inputs.shape[2]))))\n",
    "        model.add(RepeatVector(inputs.shape[1]))   #TUNE THIS (LAYERS) WHEN ADDING SATELLITE AND MODELING DATA\n",
    "        model.add(LSTM(\n",
    "            units=83, \n",
    "            activation = 'relu',\n",
    "            #recurrent_activation='relu',\n",
    "            return_sequences=True,\n",
    "            dropout=0.1,\n",
    "            recurrent_dropout=0.1,\n",
    "            input_shape=(inputs.shape[1], inputs.shape[2])))\n",
    "        #model.add(Bidirectional(LSTM(inputs.shape[-1], activation='relu', return_sequences = True, dropout=0, input_shape=(inputs.shape[1], inputs.shape[2])))) \n",
    "        model.add(Bidirectional(LSTM(\n",
    "            input_shape=(inputs.shape[1], inputs.shape[2]),\n",
    "            return_sequences = True, \n",
    "            #kernel_initializer = tf.keras.initializers.RandomNormal(mean=0.0, stddev=0.00001),\n",
    "            #name = f\"2BiLSTM_layer_{i+1}\",\n",
    "            units = 64,\n",
    "            activation = 'relu',\n",
    "            #recurrent_activation = 'sigmoid',\n",
    "            use_bias = False,\n",
    "            unit_forget_bias = True,\n",
    "            dropout=0.1,\n",
    "            recurrent_dropout = 0.1)))\n",
    "        model.add(Conv1DTranspose(\n",
    "           filters=95, \n",
    "           kernel_size=6, \n",
    "           activation = 'swish',\n",
    "           padding='same', \n",
    "           input_shape=(inputs.shape[1], inputs.shape[2])))\n",
    "        #model.add(TimeDistributed(Dense(trainyscaltref.shape[1])))\n",
    "        #model.add(TimeDistributed(Dense(trainyscch4ref.shape[1])))\n",
    "        model.add(TimeDistributed(Dense(trainyscco2ref.shape[1])))\n",
    "        #model.add(Dense(trainXscaltref.shape[1]))\n",
    "        #model.add(Dense(trainXscch4ref.shape[1]))\n",
    "        model.add(Dense(trainXscco2ref.shape[1]))\n",
    "        #metrics=['mean_squared_error', 'mean_absolute_error', RSquare().build(input_shape = (trainyscaltref.shape[1],))]\n",
    "        #metrics=['mean_squared_error', 'mean_absolute_error', RSquare().build(input_shape = (trainyscch4ref.shape[1],))]\n",
    "        metrics=['mean_squared_error', 'mean_absolute_error', RSquare().build(input_shape = (trainyscco2ref.shape[1],))]\n",
    "        loss_function = 'mean_squared_error'\n",
    "        model.compile(optimizer = tf.keras.optimizers.legacy.RMSprop(learning_rate = 0.0001, **{\"clipvalue\" : 1000}),loss = loss_function, metrics = metrics)\n",
    "        return model\n",
    "    \n",
    "    def fit(self, hp, model, *args, **kwargs):\n",
    "        return model.fit(*args, batch_size = 64, **kwargs)"
   ]
  },
  {
   "cell_type": "code",
   "execution_count": null,
   "id": "309a19c5-92a2-4cf6-a6c3-a5ece037ae51",
   "metadata": {
    "tags": []
   },
   "outputs": [],
   "source": [
    "trainXscaltref.shape, trainyscaltref.shape\n",
    "#trainXscch4ref.shape, trainyscch4ref.shape\n",
    "#trainXscco2ref.shape, trainyscco2ref.shape"
   ]
  },
  {
   "cell_type": "code",
   "execution_count": null,
   "id": "dab7d90c-8035-4a37-a509-66755bc7e574",
   "metadata": {
    "tags": []
   },
   "outputs": [],
   "source": [
    "model2=geocryoai2.build(trainXscaltref, hp)\n",
    "#model3=geocryoai2.build(trainXscch4ref, hp)\n",
    "#model4=geocryoai2.build(trainXscco2ref, hp)\n",
    "#model3b=geocryoai2.build(trainXscch4ref, hp)"
   ]
  },
  {
   "cell_type": "code",
   "execution_count": null,
   "id": "1b5c8bf9-fa3e-474e-9fa8-c827b3520568",
   "metadata": {},
   "outputs": [],
   "source": [
    "model2.summary()"
   ]
  },
  {
   "cell_type": "code",
   "execution_count": null,
   "id": "15e5a023-1cd3-4349-8950-150cb9632a4a",
   "metadata": {
    "tags": []
   },
   "outputs": [],
   "source": [
    "model3.summary()"
   ]
  },
  {
   "cell_type": "code",
   "execution_count": null,
   "id": "c0c04925-829e-4214-9dab-609db12ac4cb",
   "metadata": {},
   "outputs": [],
   "source": [
    "model4.summary()"
   ]
  },
  {
   "cell_type": "code",
   "execution_count": null,
   "id": "fac0c5a1-ed66-426d-a01b-c739b0fc25c9",
   "metadata": {},
   "outputs": [],
   "source": [
    "model3b.summary()"
   ]
  },
  {
   "cell_type": "code",
   "execution_count": null,
   "id": "eb7d0732-0cfb-4ee0-99bb-7cce84652e11",
   "metadata": {},
   "outputs": [],
   "source": [
    "#geocryoai(X_train)\n",
    "#img_file = '/Users/bradleygay/Downloads/model_arch.jpeg'\n",
    "img_file = '/Users/bradleygay/Downloads/GeoCryoAI_Arch_071523_insituALT.png'\n",
    "tf.keras.utils.plot_model(model2, to_file=img_file, show_shapes=True, show_layer_names=True, dpi=1000);\n",
    "#img_file = '/Users/bradleygay/Downloads/GeoCryoAI_Arch_071423_insituCH4.png'\n",
    "#tf.keras.utils.plot_model(model3, to_file=img_file, show_shapes=True, show_layer_names=True, dpi=1000);\n",
    "#img_file = '/Users/bradleygay/Downloads/GeoCryoAI_Arch_071423_insituCO2.png'\n",
    "#tf.keras.utils.plot_model(model4, to_file=img_file, show_shapes=True, show_layer_names=True, dpi=1000);\n",
    "#img_file = '/Users/bradleygay/Downloads/GeoCryoAI_Arch_071423_insituCH4model3b.png'\n",
    "#tf.keras.utils.plot_model(model3b, to_file=img_file, show_shapes=True, show_layer_names=True, dpi=1000);"
   ]
  },
  {
   "cell_type": "code",
   "execution_count": null,
   "id": "4100f3a6-f3aa-4bc4-a35b-f902d1aa4e81",
   "metadata": {},
   "outputs": [],
   "source": [
    "# serialize model to JSON\n",
    "model_json = model.to_json()\n",
    "#with open(\"model_070923_insituALT.json\", \"w\") as json_file:\n",
    "with open(\"model_081023_tcfmCH4.json\", \"w\") as json_file:\n",
    "#with open(\"model_070923_insituCO2.json\", \"w\") as json_file:\n",
    "    json_file.write(model_json)\n",
    "# serialize weights to HDF5\n",
    "#model.save_weights(\"model_070923_insituALT_experimental.h5\")\n",
    "model.save_weights(\"model_081023_tcfmCH4.h5\")\n",
    "#model.save_weights(\"model_070923_insituCO2.h5\")\n",
    "print(\"Saved model to disk\")"
   ]
  },
  {
   "cell_type": "code",
   "execution_count": null,
   "id": "50bf2b37-ab09-4062-8ea1-8f8a15170813",
   "metadata": {},
   "outputs": [],
   "source": [
    "import os\n",
    "root_logdir = os.path.join(os.curdir, 'logs')\n",
    "\n",
    "def get_run_logdir():\n",
    "    import time\n",
    "    run_id = time.strftime('run_%Y_%m_%d-%H_%M_%S')\n",
    "    return os.path.join(root_logdir, run_id)\n",
    "\n",
    "run_logdir = get_run_logdir()\n",
    "\n",
    "log_dir = \"logs/fit/\" + datetime.now().strftime(\"%Y%m%d-%H%M%S\")\n",
    "tensorboard_callback = tf.keras.callbacks.TensorBoard(log_dir=log_dir, histogram_freq=1)"
   ]
  },
  {
   "cell_type": "code",
   "execution_count": null,
   "id": "58c3ba82-acbe-4207-94d3-cafc58026212",
   "metadata": {
    "jupyter": {
     "source_hidden": true
    }
   },
   "outputs": [],
   "source": [
    "#ALT\n",
    "# add early stopping criteria t/Volumes/op training if validation score does not improve - cuts down on computational load/speed.\n",
    "filepath=\"weights_geocryoai2.alt_071523.hdf5\"\n",
    "#filepath=\"weights_geocryoai2.best_ch4_071423.hdf5\"\n",
    "#filepath=\"weights_geocryoai2.best__co2_071423.hdf5\"\n",
    "#filepath=\"weights_geocryoai2.best_ch4_model3b_071423.hdf5\"\n",
    "tensorboard_cb = keras.callbacks.TensorBoard('/tmp/tb_logs')\n",
    "checkpoint = keras.callbacks.ModelCheckpoint(filepath, monitor='val_loss', verbose=1, save_best_only=True, mode='min')\n",
    "early_stopping = EarlyStopping(monitor='val_loss', verbose = 1, patience = 10, min_delta = 1e-4, restore_best_weights = True)\n",
    "# fit network\n",
    "start_time = time.time()\n",
    "history2b = model2.fit(trainXscaltref, #trainXscaltref #trainXscch4ref\n",
    "#history3 = model3.fit(trainXscch4ref, #trainXscaltref #trainXscco2ref\n",
    "#history4 = model4.fit(trainXscco2ref, #trainXscaltref #trainXscco2ref\n",
    "#history5 = model3b.fit(trainXscch4ref, #trainXscaltref #trainXscco2ref\n",
    "#                   trainyscch4ref, #trainyscaltref #trainXscco2ref\n",
    "                    trainyscaltref,  \n",
    "                    epochs=10, \n",
    "                    batch_size=256,#128,#512, \n",
    "                    validation_data=(validXscaltref,validyscaltref),\n",
    "                    #validation_data=(validXscch4ref,validyscch4ref), #(validXscaltref,validyscaltref) #(validXscco2ref,validyscco2ref)\n",
    "                    steps_per_epoch = None,\n",
    "                    shuffle=False, \n",
    "                    callbacks=[early_stopping, TerminateOnNaN(),  keras.callbacks.TensorBoard(\"/tmp/tb_logs\")],\n",
    "                    use_multiprocessing = True)\n",
    "\n",
    "elapsed_time = time.time() - start_time\n",
    "print(\"\\nThe first network took {} s to complete training.\".format(round(elapsed_time)))"
   ]
  },
  {
   "cell_type": "code",
   "execution_count": null,
   "id": "feb40980-5399-40e1-98a3-fbf3c3c8446e",
   "metadata": {
    "jupyter": {
     "source_hidden": true
    }
   },
   "outputs": [],
   "source": [
    "#CH4\n",
    "# add early stopping criteria t/Volumes/op training if validation score does not improve - cuts down on computational load/speed.\n",
    "#filepath=\"weights_geocryoai2.best_071123.hdf5\"\n",
    "filepath=\"weights_geocryoai2.best_071223_ch4.hdf5\"\n",
    "#filepath=\"weights_geocryoai2.best_071223_co2.hdf5\"\n",
    "tensorboard_cb = keras.callbacks.TensorBoard('/tmp/tb_logs')\n",
    "checkpoint = keras.callbacks.ModelCheckpoint(filepath, monitor='val_loss', verbose=1, save_best_only=True, mode='min')\n",
    "early_stopping = EarlyStopping(monitor='val_loss', verbose = 1, patience = 10, min_delta = 1e-4, restore_best_weights = True)\n",
    "# fit network\n",
    "start_time = time.time()\n",
    "#history2 = model2.fit(trainXscaltref, #trainXscaltref #trainXscch4ref\n",
    "history3 = model3.fit(trainXscch4ref, #trainXscaltref #trainXscco2ref\n",
    "                    trainyscch4ref, #trainyscaltref #trainXscco2ref\n",
    "                    epochs=10, \n",
    "                    batch_size=256,#512, \n",
    "                    validation_data=(validXscch4ref,validyscch4ref), #(validXscaltref,validyscaltref) #(validXscco2ref,validyscco2ref)\n",
    "                    steps_per_epoch = None,\n",
    "                    shuffle=False, \n",
    "                    callbacks=[early_stopping, TerminateOnNaN(),  keras.callbacks.TensorBoard(\"/tmp/tb_logs\")],\n",
    "                    use_multiprocessing = True)\n",
    "\n",
    "elapsed_time = time.time() - start_time\n",
    "print(\"\\nThe first network took {} s to complete training.\".format(round(elapsed_time)))"
   ]
  },
  {
   "cell_type": "code",
   "execution_count": null,
   "id": "2ede829e-ecd7-4245-90a5-62dfbcb35cd1",
   "metadata": {
    "jupyter": {
     "source_hidden": true
    }
   },
   "outputs": [],
   "source": [
    "#CO2\n",
    "# add early stopping criteria t/Volumes/op training if validation score does not improve - cuts down on computational load/speed.\n",
    "#filepath=\"weights_geocryoai2.best_071123.hdf5\"\n",
    "#filepath=\"weights_geocryoai2.best_071223_ch4.hdf5\"\n",
    "filepath=\"weights_geocryoai2.best_071223_co2.hdf5\"\n",
    "tensorboard_cb = keras.callbacks.TensorBoard('/tmp/tb_logs')\n",
    "checkpoint = keras.callbacks.ModelCheckpoint(filepath, monitor='val_loss', verbose=1, save_best_only=True, mode='min')\n",
    "early_stopping = EarlyStopping(monitor='val_loss', verbose = 1, patience = 10, min_delta = 1e-4, restore_best_weights = True)\n",
    "# fit network\n",
    "start_time = time.time()\n",
    "#history2 = model2.fit(trainXscaltref, #trainXscaltref #trainXscch4ref\n",
    "#history3 = model3.fit(trainXscch4ref, #trainXscaltref #trainXscco2ref\n",
    "history4 = model4.fit(trainXscco2ref, #trainXscaltref #trainXscco2ref\n",
    "                    trainyscco2ref, #trainyscaltref #trainXscco2ref\n",
    "                    epochs=10, \n",
    "                    batch_size=256,#512, \n",
    "                    validation_data=(validXscco2ref,validyscco2ref), #(validXscaltref,validyscaltref) #(validXscco2ref,validyscco2ref)\n",
    "                    steps_per_epoch = None,\n",
    "                    shuffle=False, \n",
    "                    callbacks=[early_stopping, TerminateOnNaN(),  keras.callbacks.TensorBoard(\"/tmp/tb_logs\")],\n",
    "                    use_multiprocessing = True)\n",
    "\n",
    "elapsed_time = time.time() - start_time\n",
    "print(\"\\nThe first network took {} s to complete training.\".format(round(elapsed_time)))"
   ]
  },
  {
   "cell_type": "code",
   "execution_count": null,
   "id": "7146adb2-6f3e-47de-a794-fe8027e5e7f9",
   "metadata": {},
   "outputs": [],
   "source": [
    "# serialize model to JSON\n",
    "model_json = model2b.to_json()\n",
    "#model_json = model3.to_json()\n",
    "#model_json = model4.to_json()\n",
    "#model_json = model3b.to_json()\n",
    "with open(\"model2_071623_insituALT.json\", \"w\") as json_file:\n",
    "#with open(\"model3_071523_insituCH4_2.json\", \"w\") as json_file:\n",
    "#with open(\"model4_071523_insituCO2.json\", \"w\") as json_file:\n",
    "#with open(\"model3_071523_insituCH4_model3b.json\", \"w\") as json_file:\n",
    "    json_file.write(model_json)\n",
    "# serialize weights to HDF5\n",
    "model2.save_weights(\"model2_071623_insituALT.h5\")\n",
    "#model3.save_weights(\"model3_071523_insituCH4.h5\")\n",
    "#model4.save_weights(\"model4_071523_insituCO2.h5\")\n",
    "#model3b.save_weights(\"model3_071523_insituCH4_model3b.h5\")\n",
    "print(\"Saved model to disk\")"
   ]
  },
  {
   "cell_type": "code",
   "execution_count": null,
   "id": "50a6c727-6834-4881-ba7d-6dfd93918056",
   "metadata": {
    "tags": []
   },
   "outputs": [],
   "source": [
    "# convert the history.history dict to a pandas DataFrame:     \n",
    "hist_df = pd.DataFrame(history2b.history)\n",
    "#hist_df = pd.DataFrame(history3.history)\n",
    "#hist_df = pd.DataFrame(history4.history)\n",
    "#hist_df = pd.DataFrame(history5.history)\n",
    "\n",
    "# save to json:  \n",
    "hist_json_file = 'historyALT-071623.json' \n",
    "#hist_json_file = 'historyCH4-071523.json' \n",
    "#hist_json_file = 'historyCO2-071523.json' \n",
    "#hist_json_file = 'historyCH4-071523_model3b.json' \n",
    "with open(hist_json_file, mode='w') as f:\n",
    "    hist_df.to_json(f)\n",
    "\n",
    "# or save to csv: \n",
    "hist_csv_file = 'historyALT-071623.csv'\n",
    "#hist_csv_file = 'historyCH4-071523.csv'\n",
    "#hist_csv_file = 'historyCO2-071523.csv'\n",
    "#hist_csv_file = 'historyCH4-071523_model3b.csv'\n",
    "with open(hist_csv_file, mode='w') as f:\n",
    "    hist_df.to_csv(f)"
   ]
  },
  {
   "cell_type": "code",
   "execution_count": null,
   "id": "ea0de696-032f-4da9-9f29-14847ee5a798",
   "metadata": {
    "tags": []
   },
   "outputs": [],
   "source": [
    "with open('trainHistoryALT-071623', 'wb') as file_pi:\n",
    "#with open('trainHistoryCH4-071523', 'wb') as file_pi:\n",
    "#with open('trainHistoryCO2-071523', 'wb') as file_pi:\n",
    "#with open('trainHistoryCH4-071523_model3b', 'wb') as file_pi:\n",
    "    pickle.dump(history2b.history, file_pi)\n",
    "    #pickle.dump(history3.history, file_pi)\n",
    "    #pickle.dump(history4.history, file_pi)\n",
    "    #pickle.dump(history5.history, file_pi)"
   ]
  },
  {
   "cell_type": "code",
   "execution_count": null,
   "id": "76d71528-26f4-41f6-9b6e-b4033a8f2fb2",
   "metadata": {},
   "outputs": [],
   "source": [
    "testXscaltref.shape\n",
    "#testXscch4ref.shape\n",
    "#testXscco2ref.shape"
   ]
  },
  {
   "cell_type": "code",
   "execution_count": null,
   "id": "6e6fb5c8-40e1-4e93-ae7a-80cb3991b18f",
   "metadata": {},
   "outputs": [],
   "source": [
    "#testXscaltrefres=testXscaltref.reshape(215136,1,456)\n",
    "#testXscch4refres=testXscch4ref.reshape(161749,1,456)\n",
    "#testXscco2refres=testXscco2ref.reshape(161749,1,456)"
   ]
  },
  {
   "cell_type": "code",
   "execution_count": null,
   "id": "c23657d5-78b1-4560-b4b5-75fdf7f41b86",
   "metadata": {
    "tags": []
   },
   "outputs": [],
   "source": [
    "score_2b = model2.evaluate(testXscaltref, testyscaltref, verbose = 1) \n",
    "#score_3 = model3.evaluate(testXscch4ref, testyscch4ref, verbose = 1)\n",
    "#score_4 = model4.evaluate(testXscco2ref, testyscco2ref, verbose = 1)\n",
    "#score_3b = model3b.evaluate(testXscch4ref, testyscch4ref, verbose = 1)"
   ]
  },
  {
   "cell_type": "code",
   "execution_count": null,
   "id": "d603512d-8b47-4ca2-86cc-b8be448e288f",
   "metadata": {
    "tags": []
   },
   "outputs": [],
   "source": [
    "\n",
    "\n",
    "print('Test MAE:', score_2[1])\n",
    "print('Test MSE:', score_2[2])\n",
    "print('Test RMSE:', np.sqrt(score_2[2]))"
   ]
  },
  {
   "cell_type": "code",
   "execution_count": null,
   "id": "42abfc2e-0b82-4dd3-94a9-5d43f03530e9",
   "metadata": {},
   "outputs": [],
   "source": [
    "print('Test MAE:', score_2b[1])\n",
    "print('Test MSE:', score_2b[2])\n",
    "print('Test RMSE:', np.sqrt(score_2b[2]))"
   ]
  },
  {
   "cell_type": "code",
   "execution_count": null,
   "id": "fa04f28f-9755-4cc5-9285-ae3875e902da",
   "metadata": {},
   "outputs": [],
   "source": [
    "print('Test MAE:', score_3[1])\n",
    "print('Test MSE:', score_3[2])\n",
    "print('Test RMSE:', np.sqrt(score_3[2]))"
   ]
  },
  {
   "cell_type": "code",
   "execution_count": null,
   "id": "8379113d-de87-4cd3-8b50-92943fece4af",
   "metadata": {},
   "outputs": [],
   "source": [
    "print('Test MAE:', score_4[1])\n",
    "print('Test MSE:', score_4[2])\n",
    "print('Test RMSE:', np.sqrt(score_4[2]))"
   ]
  },
  {
   "cell_type": "code",
   "execution_count": null,
   "id": "900fff40-0ef1-47c8-b2c6-ec89dff2df0a",
   "metadata": {},
   "outputs": [],
   "source": [
    "print('Test MAE:', score_3b[1])\n",
    "print('Test MSE:', score_3b[2])\n",
    "print('Test RMSE:', np.sqrt(score_3b[2]))"
   ]
  },
  {
   "cell_type": "code",
   "execution_count": null,
   "id": "d679263d-5362-41df-a04f-5c04b75ca357",
   "metadata": {},
   "outputs": [],
   "source": [
    "plt.plot(history2b.history['loss'])\n",
    "#plt.plot(history3.history['loss'])\n",
    "#plt.plot(history4.history['loss'])\n",
    "#plt.plot(history5.history['loss'])"
   ]
  },
  {
   "cell_type": "markdown",
   "id": "0357887b-f07f-40b0-a43d-8618dbc26302",
   "metadata": {},
   "source": [
    "#"
   ]
  },
  {
   "cell_type": "markdown",
   "id": "b602c97d-4701-42ce-ba69-f4221e9d8edd",
   "metadata": {},
   "source": [
    "# <>"
   ]
  },
  {
   "cell_type": "markdown",
   "id": "e69aac94-6c2d-427c-887d-08c7511a3203",
   "metadata": {
    "jp-MarkdownHeadingCollapsed": true
   },
   "source": [
    "# Load"
   ]
  },
  {
   "cell_type": "code",
   "execution_count": null,
   "id": "48f07473-1292-4332-91ca-f82b64d2741c",
   "metadata": {},
   "outputs": [],
   "source": [
    "#import json\n",
    "#althist_json_file = json.load(open('trainHistoryDictALT_experimental.json', 'r'))\n",
    "with open('/Volumes/TIR/17sep23/research/code/historyALT.json.json', 'rb') as file:\n",
    "    althistory=pickle.load(file)\n",
    "with open('/Volumes/TIR/17sep23/research/code/trainHistoryDictCH4_experimental', 'rb') as file2:\n",
    "    ch4history=pickle.load(file2)\n",
    "with open('/Volumes/TIR/17sep23/research/code/trainHistoryDictCO2_experimental', 'rb') as file3:\n",
    "    co2history=pickle.load(file3)"
   ]
  },
  {
   "cell_type": "code",
   "execution_count": null,
   "id": "e41105b1",
   "metadata": {},
   "outputs": [],
   "source": [
    "import os\n",
    "os.chdir('/Volumes/TIR/17sep23/research/code/')"
   ]
  },
  {
   "cell_type": "code",
   "execution_count": null,
   "id": "40966773-b6a0-4455-8e58-044d5132002f",
   "metadata": {},
   "outputs": [],
   "source": [
    "# Load Models\n",
    "from keras.models import model_from_json\n",
    "from keras.models import load_model\n",
    "#ALT\n",
    "# load json file and model\n",
    "alt_json_file = open('model2_070923_insituALT.json', 'r')\n",
    "alt_loaded_model_json = alt_json_file.read()\n",
    "alt_json_file.close()\n",
    "alt_loaded_model_json = model_from_json(alt_loaded_model_json)\n",
    "# load weights for new model\n",
    "alt_loaded_model_json.load_weights(\"model2_070923_insituALT.h5\")\n",
    "print(\"Loaded model from disk\")\n",
    "# save and reload\n",
    "alt_loaded_model_json.save('model2_070923_insituALT.hdf5')\n",
    "alt_loaded_model_json=load_model('model2_070923_insituALT.hdf5')\n",
    "\n",
    "#CH4\n",
    "# load json file and model\n",
    "ch4_json_file = open('model2_070923_insituCH4.json', 'r')\n",
    "ch4_loaded_model_json = ch4_json_file.read()\n",
    "ch4_json_file.close()\n",
    "ch4_loaded_model_json = model_from_json(ch4_loaded_model_json)\n",
    "# load weights for new model\n",
    "ch4_loaded_model_json.load_weights(\"model2_070923_insituCH4.h5\")\n",
    "print(\"Loaded model from disk\")\n",
    "# save and reload\n",
    "ch4_loaded_model_json.save('model2_070923_insituCH4.hdf5')\n",
    "ch4_loaded_model_json=load_model('model2_070923_insituCH4.hdf5')\n",
    "\n",
    "#CO2\n",
    "co2_json_file = open('model2_070923_insituCO2.json', 'r')\n",
    "co2_loaded_model_json = co2_json_file.read()\n",
    "co2_json_file.close()\n",
    "co2_loaded_model_json = model_from_json(co2_loaded_model_json)\n",
    "# load weights for new model\n",
    "co2_loaded_model_json.load_weights(\"model2_070923_insituCO2.h5\")\n",
    "print(\"Loaded model from disk\")\n",
    "# save and reload\n",
    "co2_loaded_model_json.save('model2_070923_insituCO2.hdf5')\n",
    "co2_loaded_model_json=load_model('model2_070923_insituCO2.hdf5')"
   ]
  },
  {
   "cell_type": "code",
   "execution_count": null,
   "id": "8a4b90db-1ca9-4991-b96f-a8a1b7d74b35",
   "metadata": {},
   "outputs": [],
   "source": [
    "#FROM OTHER FILE\n",
    "########################################################\n",
    "########################################################\n",
    "########################################################"
   ]
  },
  {
   "cell_type": "code",
   "execution_count": null,
   "id": "26a238df-e0b7-479c-baf7-778183f502fd",
   "metadata": {
    "jupyter": {
     "source_hidden": true
    }
   },
   "outputs": [],
   "source": [
    "fig,ax = plt.subplots(figsize=(6,4), dpi=100)\n",
    "# l1=ax.plot(history2.history['loss'], color='dodgerblue', linestyle='solid', label='ALT Training Loss (cm)')\n",
    "# l2=ax.plot(history3.history['loss'], color='magenta', linestyle='solid', label='CH4 Flux Training Loss (cm)')\n",
    "# l3=ax.plot(history4.history['loss'], color='springgreen', linestyle='solid', label='CO2 Flux Training Loss (nmolCH4m-2s-1)')\n",
    "#l1=ax.plot(history.history['mean_squared_error'], color='dodgerblue', linestyle='solid', label='ALT Training Loss (cm)')#CH4 Flux Training Loss (mgCH4m-2d-1)')\n",
    "l2=ax.plot(history.history['val_loss'], color='magenta', linestyle='solid', label='ALT Training Loss (cm)')#CH4 Flux Validation Loss (mgCH4m-2d-1)')\n",
    "#l3=ax.plot(history4.history['val_loss'], color='springgreen', linestyle='solid', label='CO2 Flux Validation Loss (µmolCO2m-2s-1)')\n",
    "#ax2=ax.twinx();\n",
    "#ln4=ax2.plot(validPredict, color='coral', linestyle='dotted')\n",
    "\n",
    "lines = l1 + l2#+ ln2 + ln3 #+ ln4 #+ ln5# ln4 + ln5 + ln6# + ln7 + ln8\n",
    "labs = [line.get_label() for line in lines];\n",
    "ax.legend(lines, labs, loc='best', fontsize=8)#'lower left', fontsize=8)\n",
    "\n",
    "ax.grid(linewidth=0.3);\n",
    "ax.set_xlabel('Epochs', labelpad=8, fontsize=8);\n",
    "ax.set_ylabel('Training Loss', labelpad=8, fontsize=8)\n",
    "#ax.set(xticklabels=[])  # remove the tick labels\n",
    "ax.tick_params(left=False)  # remove the ticks\n",
    "plt.ylabel('Active Layer Thickness (cm)')\n",
    "plt.title('GeoCryoAI In Situ Module | Bidirectional Conv1DLSTM Autoencoder Loss Functions \\n ALT Simulations (1969-2022)', pad=10)\n",
    "#plt.title('GeoCryoAI TCFM-Arctic Module | ConvLSTM2D Autoencoder Loss Function \\n CH4 Flux Simulations (2003-2015)', pad=10, fontsize=10)\n",
    "\n",
    "#plt.xlabel('Year')\n",
    "#plt.axis([0, 6, 0, 60])\n",
    "#plt.legend(loc='best')\n",
    "#plt.show()\n",
    "#plt.savefig('/Users/bradleygay/Downloads/bilstmae_insitu_CO2_loss.png',dpi=1000)"
   ]
  },
  {
   "cell_type": "code",
   "execution_count": null,
   "id": "154ef324-28f5-486f-8534-158edab98c4f",
   "metadata": {},
   "outputs": [],
   "source": [
    "#reframed_alt.iloc[:,-1]"
   ]
  },
  {
   "cell_type": "code",
   "execution_count": null,
   "id": "b7b2647d-d35a-4339-a0d8-5742bb0b522c",
   "metadata": {},
   "outputs": [],
   "source": [
    "fig,ax=plt.subplots(figsize=(10,6), dpi=1000);\n",
    "lns1=ax.plot(history2.history['mean_squared_error'], color='dodgerblue', linestyle='solid', label='Training, ALT (cm)');\n",
    "ax2=ax.twinx();\n",
    "lns2=ax2.plot(history2.history['val_mean_squared_error'], color='tomato', linestyle='solid', label='Validation, ALT (cm)');\n",
    "\n",
    "lns = lns1+lns2#+lns3+lns4;\n",
    "labs = [l.get_label() for l in lns];\n",
    "ax2.legend(lns, labs, loc='best', fontsize=12);\n",
    "\n",
    "ax.grid(linewidth=0.3);\n",
    "ax2.grid(linewidth=0.3);\n",
    "ax.set_xlabel('Full Iterations (epochs)', labelpad=12, fontsize=10);\n",
    "ax.set_ylabel('Training MSE, Scaled ALT (cm)', labelpad=12, fontsize=10);\n",
    "ax.tick_params(axis='y', labelcolor='dodgerblue')\n",
    "ax2.set_ylabel('Validation MSE, Scaled ALT (cm)', labelpad=12, fontsize=10)\n",
    "ax2.tick_params(axis='y', labelcolor='tomato')\n",
    "ax.tick_params(left=False)  # remove the ticks\n",
    "ax2.tick_params(right=False)  # remove the ticks\n",
    "plt.title('GeoCryoAI Modeling, Cost Function and Validation Loss of ALT | Alaska [1969-2022] \\n Number of Thaw Depth Samples/Replicates: 2.441M', pad=15, fontsize=14);\n",
    "ax.grid(linewidth=0.3);\n",
    "plt.tight_layout()\n",
    "plt.savefig('ALTstats_1969-2022_071323.png', dpi=1000)"
   ]
  },
  {
   "cell_type": "code",
   "execution_count": null,
   "id": "f0d60654-2756-4a52-b992-8cb508210321",
   "metadata": {
    "jupyter": {
     "source_hidden": true
    }
   },
   "outputs": [],
   "source": [
    "fig,ax=plt.subplots(figsize=(10,6), dpi=1000);\n",
    "lns1=ax.plot(history3.history['mean_squared_error'], color='magenta', linestyle='solid', label='Training, CH4 Flux (nmolCH4m-2s-1)');\n",
    "ax2=ax.twinx();\n",
    "lns2=ax2.plot(history3.history['val_mean_squared_error'], color='slateblue', linestyle='solid', label='Validation, CH4 Flux (nmolCH4m-2s-1)');\n",
    "\n",
    "lns = lns1+lns2#+lns3+lns4;\n",
    "labs = [l.get_label() for l in lns];\n",
    "ax2.legend(lns, labs, loc='best', fontsize=12);\n",
    "\n",
    "ax.grid(linewidth=0.3);\n",
    "ax2.grid(linewidth=0.3);\n",
    "ax.set_xlabel('Full Iterations (epochs)', labelpad=12, fontsize=10);\n",
    "ax.set_ylabel('Training MSE, Scaled Ch4 Flux (nmolCH4m-2s-1)', labelpad=12, fontsize=10);\n",
    "ax.tick_params(axis='y', labelcolor='magenta')\n",
    "ax2.set_ylabel('Validation MSE, Scaled CH4 Flux (nmolCH4m-2s-1)', labelpad=12, fontsize=10)\n",
    "ax2.tick_params(axis='y', labelcolor='slateblue')\n",
    "ax.tick_params(left=False)  # remove the ticks\n",
    "ax2.tick_params(right=False)  # remove the ticks\n",
    "plt.title('GeoCryoAI Modeling, Cost Function and Validation Loss of CH4 Flux | Alaska [2011-2021] \\n Number of CH4 Flux Samples/Replicates: 2.083M', pad=15, fontsize=14);\n",
    "ax.grid(linewidth=0.3);\n",
    "plt.tight_layout()\n",
    "#plt.savefig('ALTstats_CNNLSTMSAEmetrics_1969-2022_021323.png', dpi=1000)"
   ]
  },
  {
   "cell_type": "code",
   "execution_count": null,
   "id": "1f22ad8d-2a4b-4e37-bb62-42d059e48648",
   "metadata": {},
   "outputs": [],
   "source": [
    "fig,ax=plt.subplots(figsize=(10,6), dpi=1000);\n",
    "lns1=ax.plot(history5.history['mean_squared_error'], color='midnightblue', linestyle='solid', label='Training, CH4 Flux (nmolCH4m-2s-1)');\n",
    "ax2=ax.twinx();\n",
    "lns2=ax2.plot(history5.history['val_mean_squared_error'], color='magenta', linestyle='solid', label='Validation, CH4 Flux (nmolCH4m-2s-1)');\n",
    "\n",
    "lns = lns1+lns2#+lns3+lns4;\n",
    "labs = [l.get_label() for l in lns];\n",
    "ax2.legend(lns, labs, loc='best', fontsize=12);\n",
    "\n",
    "ax.grid(linewidth=0.3);\n",
    "ax2.grid(linewidth=0.3);\n",
    "ax.set_xlabel('Full Iterations (epochs)', labelpad=12, fontsize=10);\n",
    "ax.set_ylabel('Training MSE, Scaled Ch4 Flux (nmolCH4m-2s-1)', labelpad=12, fontsize=10);\n",
    "ax.tick_params(axis='y', labelcolor='midnightblue')\n",
    "ax2.set_ylabel('Validation MSE, Scaled CH4 Flux (nmolCH4m-2s-1)', labelpad=12, fontsize=10)\n",
    "ax2.tick_params(axis='y', labelcolor='magenta')\n",
    "ax.tick_params(left=False)  # remove the ticks\n",
    "ax2.tick_params(right=False)  # remove the ticks\n",
    "plt.title('GeoCryoAI Modeling, Cost Function and Validation Loss of CH4 Flux | Alaska [2011-2021] \\n Number of CH4 Flux Samples/Replicates: 2.083M', pad=15, fontsize=14);\n",
    "ax.grid(linewidth=0.3);\n",
    "plt.tight_layout()\n",
    "plt.savefig('CH4stats_1969-2022_071323.png', dpi=1000)"
   ]
  },
  {
   "cell_type": "code",
   "execution_count": null,
   "id": "40bda37d-8c21-47e6-9dae-03b168b29e71",
   "metadata": {},
   "outputs": [],
   "source": [
    "#plt.plot(reframed_co2.iloc[:,-1]['2006':'2019'].values)\n",
    "reframed_co2.iloc[:,-1]['2006':'2019']"
   ]
  },
  {
   "cell_type": "code",
   "execution_count": null,
   "id": "e31b5938-13ef-4739-bac6-57b4aa3fb55a",
   "metadata": {},
   "outputs": [],
   "source": [
    "fig,ax=plt.subplots(figsize=(10,6), dpi=1000);\n",
    "lns1=ax.plot(history4.history['mean_squared_error'], color='indigo', linestyle='solid', label='Training, CO2 Flux (µolCO2m-2s-1)');\n",
    "ax2=ax.twinx();\n",
    "lns2=ax2.plot(history4.history['val_mean_squared_error'], color='lime', linestyle='solid', label='Validation, CO2 Flux (µolCO2m-2s-1)');\n",
    "\n",
    "lns = lns1+lns2#+lns3+lns4;\n",
    "labs = [l.get_label() for l in lns];\n",
    "ax2.legend(lns, labs, loc='best', fontsize=12);\n",
    "\n",
    "ax.grid(linewidth=0.3);\n",
    "ax2.grid(linewidth=0.3);\n",
    "ax.set_xlabel('Full Iterations (epochs)', labelpad=12, fontsize=10);\n",
    "ax.set_ylabel('Training MSE, Scaled CO2 Flux (µolCO2m-2s-1)', labelpad=12, fontsize=10);\n",
    "ax.tick_params(axis='y', labelcolor='indigo')\n",
    "ax2.set_ylabel('Validation MSE, Scaled CO2 Flux (µolCO2m-2s-1)', labelpad=12, fontsize=10)\n",
    "ax2.tick_params(axis='y', labelcolor='lime')\n",
    "ax.tick_params(left=False)  # remove the ticks\n",
    "ax2.tick_params(right=False)  # remove the ticks\n",
    "plt.title('GeoCryoAI Modeling, Cost Function and Validation Loss of CO2 Flux | Alaska [2006-2019] \\n Number of CO2 Flux Samples/Replicates: 1.966M', pad=15, fontsize=14);\n",
    "ax.grid(linewidth=0.3);\n",
    "plt.tight_layout()\n",
    "plt.savefig('CO2stats_1969-2022_071323.png', dpi=1000)"
   ]
  },
  {
   "cell_type": "code",
   "execution_count": null,
   "id": "17a57909-a475-40fb-ad46-86392fc19c61",
   "metadata": {
    "jupyter": {
     "source_hidden": true
    }
   },
   "outputs": [],
   "source": [
    "# fig,ax=plt.subplots(figsize=(10,7));\n",
    "# #lns1=ax.plot(history2.history['loss'], color='dodgerblue', label='Loss, ALT (cm)');\n",
    "# lns2=ax.plot(history2.history['mean_squared_error'], color='dodgerblue', linestyle='solid', label='RMSE, ALT (cm)');\n",
    "# ax2=ax.twinx();\n",
    "# #lns3=ax2.plot(history2.history['val_loss'], color='gold', label='Validation Loss, ALT (cm)');\n",
    "# lns4=ax2.plot(history2.history['val_mean_squared_error'], color='gold', linestyle='solid', label='Validation RMSE, ALT (cm)');\n",
    "          \n",
    "# lns = lns2+lns4; #lns1+lns2+lns3+lns4;\n",
    "# labs = [l.get_label() for l in lns];\n",
    "# ax2.legend(lns, labs, loc='best', fontsize=8);\n",
    "\n",
    "# ax.grid(linewidth=0.3);\n",
    "# ax.set_xlabel('Full Iterations (epochs)', labelpad=12, fontsize=10);\n",
    "# ax.set_ylabel('Scaled Depth to Refusal (cm)', labelpad=12, fontsize=10);\n",
    "# #ax2.set_ylabel('Scaled Depth to Refusal (cm)', labelpad=6, fontsize=9)\n",
    "# plt.title('Number of Samples/Replicates: 95653', pad=15, fontsize=12, fontweight='ultralight');\n",
    "# plt.suptitle('Cost Function and Validation Loss from Thaw Depth Modeling, GeoCryoAI Framework in Alaska [1969-2022]', fontsize=14);\n",
    "# plt.grid(linewidth=0.3);\n",
    "# #plt.show()\n",
    "# #plt.savefig('ALTstats_CNNLSTMSAEmetrics_1969-2022_021323.png', dpi=1000)"
   ]
  },
  {
   "cell_type": "code",
   "execution_count": null,
   "id": "d19e52e1-773f-4ea0-9e93-7203f5aa7196",
   "metadata": {},
   "outputs": [],
   "source": [
    "score = model.evaluate(X_test_reframed, y_test_reframed, verbose = 1) "
   ]
  },
  {
   "cell_type": "code",
   "execution_count": null,
   "id": "b3c7b1cb-6325-4568-8e1d-4a4f89152ba9",
   "metadata": {},
   "outputs": [],
   "source": [
    "print('Test MAE:', score[1])\n",
    "print('Test MSE:', score[2])\n",
    "print('Test RMSE:', score[3])"
   ]
  },
  {
   "cell_type": "code",
   "execution_count": null,
   "id": "5c32d1bc-0e50-431c-bdd2-0c5e26608a0c",
   "metadata": {},
   "outputs": [],
   "source": [
    "predict = model.predict(X_test_reframed, verbose = 1)"
   ]
  },
  {
   "cell_type": "code",
   "execution_count": null,
   "id": "7aa17b59-ce18-4e18-8cc1-96a90c08dc6f",
   "metadata": {
    "jupyter": {
     "source_hidden": true
    }
   },
   "outputs": [],
   "source": [
    "# fig,ax = plt.subplots(figsize=(10,6), dpi=1000)\n",
    "# ln1=ax.plot(y_test_reframed.reshape(215137,1), color='magenta', linestyle='solid', label='Observation, Test Set')\n",
    "# ln2=ax.plot(predict.reshape(215137,1), color='dodgerblue', linestyle='solid', label='Prediction, Test Set')\n",
    "# #ln3=ax.plot(history.history['mean_absolute_error'], color='springgreen', linestyle='dotted', label='MAE')\n",
    "# #ln4=ax.plot(history.history['mean_squared_error'], color='springgreen', linestyle='dashed', label='Seward Peninsula')\n",
    "# #ln4=ax.plot(history.history['root_mean_squared_error'], color='springgreen', linestyle='dashed', label='RMSE')\n",
    "# #ln5=ax.plot(history.history['val_mean_absolute_error'], color='red', linestyle='dotted', label='Val MAE')\n",
    "# #ln7=ax.plot(history.history['val_mean_squared_error'], color='red', linestyle='dashed', label='Seward Peninsula')\n",
    "# #ln6=ax.plot(history.history['val_root_mean_squared_error'], color='red', linestyle='dashed', label='Val RMSE')\n",
    "# #ln2=ax.plot(sib.iloc[2:,7].replace(-9999,np.nan).dropna()color='springgreen', linestyle='dashed', label='Interior')\n",
    "# #ln3=ax.plot(sib.iloc[2:,16].replace(-9999,np.nan).dropna(), color='magenta', linestyle='dotted', label='Seward Peninsula')\n",
    "# #ln4=ax.plot(sib.iloc[2:,39].replace(-9999,np.nan).dropna(), color='dodgerblue', linestyle='dotted', label='Yukon-Kuskokwim Delta')\n",
    "# #ax2=ax.twinx();\n",
    "# #ln4=ax2.plot(validPredict, color='coral', linestyle='dotted')\n",
    "\n",
    "# lines = ln1 + ln2 #+ ln3 + ln4 + ln5 + ln6# + ln7 + ln8\n",
    "# labs = [line.get_label() for line in lines];\n",
    "# plt.legend(lines, labs, loc='lower left', fontsize=8)\n",
    "\n",
    "# ax.grid(linewidth=0.3);\n",
    "# ax.set_xlabel('Samples, 2003-2021', labelpad=10, fontsize=16);\n",
    "# ax.set_ylabel('Carbon Dioxide Flux (umolCm2s-1)', labelpad=10, fontsize=16)\n",
    "# #ax.set(xticklabels=[])  # remove the tick labels\n",
    "# ax.tick_params(left=False)  # remove the ticks\n",
    "# #plt.ylabel('Active Layer Thickness (cm)')\n",
    "# plt.title('GeoCryoAI Modeling, Cost Function and Validation Loss of ALT | Alaska [1969-2022]', pad=15, fontsize=14);\n",
    "# plt.suptitle('Number of Samples/Replicates, ALT: 2.441M', fontsize=12, fontweight='ultralight');\n",
    "# #plt.title('GeoCryoAI In Situ Module | Bidirectional LSTM Autoencoder Loss Function \\n In Situ Carbon Dioxide Flux Simulations (2003-2021)', pad=10)\n",
    "# #plt.xlabel('Year')\n",
    "# #plt.axis([0, 6, 0, 60])\n",
    "# #plt.legend(loc='best')\n",
    "# #plt.show()\n",
    "# plt.savefig('/Users/bradleygay/Downloads/bilstmae_insitu_CO2_loss_predictions_experimental.png',dpi=1000);"
   ]
  },
  {
   "cell_type": "code",
   "execution_count": null,
   "id": "b5107ab7-9781-4b8f-b839-fae3cbc24af7",
   "metadata": {},
   "outputs": [],
   "source": [
    "plt.plot(y_testco2_reframed.reshape(215137,1))\n",
    "plt.plot(predict.reshape(215137,1))\n",
    "#plt.axis([0, 130000, -2, 5])\n",
    "plt.show()"
   ]
  },
  {
   "cell_type": "code",
   "execution_count": null,
   "id": "16b74d58-b6ad-4daf-a987-dc8b690a0fc7",
   "metadata": {},
   "outputs": [],
   "source": [
    "#May need to inverse scale"
   ]
  },
  {
   "cell_type": "code",
   "execution_count": null,
   "id": "051b69b7-c6cd-4949-af03-3d01108c7006",
   "metadata": {},
   "outputs": [],
   "source": [
    "########################################################\n",
    "########################################################\n",
    "########################################################"
   ]
  },
  {
   "cell_type": "code",
   "execution_count": null,
   "id": "c97312b0-58b5-403c-ae4b-9b7926415f96",
   "metadata": {},
   "outputs": [],
   "source": [
    "# fig,ax = plt.subplots(figsize=(10,6), dpi=1000)\n",
    "# #l1=ax.plot(history2.history['loss'], color='dodgerblue', linestyle='solid', label='ALT Training Loss (cm)')\n",
    "# #l2=ax.plot(history3.history['loss'], color='magenta', linestyle='solid', label='CH4 Flux Training Loss (cm)')\n",
    "# #l3=ax.plot(history4.history['loss'], color='springgreen', linestyle='solid', label='CO2 Flux Training Loss (nmolCH4m-2s-1)')\n",
    "# l1=ax.plot(history2.history['val_loss'], color='dodgerblue', linestyle='solid', label='ALT Validation Loss (cm)')\n",
    "# ax2=ax.twinx();\n",
    "# l2=ax2.plot(history3.history['val_loss'], color='magenta', linestyle='solid', label='CH4 Flux Validation Loss (nmolCH4m-2s-1)')\n",
    "# l3=ax2.plot(history4.history['val_loss'], color='springgreen', linestyle='solid', label='CO2 Flux Validation Loss (µmolCO2m-2s-1)')\n",
    "# #l3=ax.plot(history4.history['loss'], color='springgreen', linestyle='solid', label='CO2 Flux Loss (µmolCO2m-2s-1)')\n",
    "# #l1=ax.plot(history2.history['val_mean_squared_error'], color='dodgerblue', linestyle='solid', label='ALT Loss (cm)')\n",
    "# #l2=ax.plot(history3.history['val_mean_squared_error'], color='magenta', linestyle='solid', label='CH4 Flux Loss (nmolCH4m-2s-1)')\n",
    "# #l3=ax.plot(history4.history['val_mean_squared_error'], color='springgreen', linestyle='solid', label='CO2 Flux Loss (µmolCO2m-2s-1)')\n",
    "# #ax2=ax.twinx();\n",
    "# #l2=ax2.plot(althistory['val_mean_squared_error'], color='dodgerblue', linestyle='solid', label='Validation Loss (MSE)')\n",
    "# #l2=ax2.plot(ch4history['val_mean_squared_error'], color='coral', linestyle='solid', label='Validation Loss (MSE)')\n",
    "# #l2=ax2.plot(althistory['val_mean_squared_error'], color='coral', linestyle='solid', label='Validation Loss (MSE)')\n",
    "\n",
    "# lns = l1+l2 +l3\n",
    "# labs = [l.get_label() for l in lns];\n",
    "# #ax2.legend(lns, labs, loc='best', fontsize=8);\n",
    "# ax.legend(lns, labs, loc='best', fontsize=12);\n",
    "\n",
    "\n",
    "# ax.set_xlabel('Full Iterations (epochs)', labelpad=15, fontsize=12);\n",
    "# #ax.set_ylabel('Training Loss (units)', labelpad=15, fontsize=12)\n",
    "# ax.set_ylabel('Validation Loss (units)', labelpad=15, fontsize=12)\n",
    "# ax2.set_ylabel('Validation Loss (units)', labelpad=15, fontsize=10)\n",
    "# #ax2.set_ylabel('Validation Loss, MSE (cm)', labelpad=15, fontsize=10)\n",
    "# #ax.set_ylabel('Training Loss (units)', labelpad=15, fontsize=12)\n",
    "# #ax2.set_ylabel('Validation Loss, MSE (nmolCH4m2s-1)', labelpad=15, fontsize=10)\n",
    "# #ax.set_ylabel('Loss, MSE (µmolCO2m2s-1)', labelpad=15, fontsize=10)\n",
    "# #ax2.set_ylabel('Validation Loss, MSE (µmolCO2m2s-1)', labelpad=15, fontsize=10)\n",
    "# #ax.set(xticklabels=[])  # remove the tick labels\n",
    "# ax.tick_params(left=False)  # remove the ticks\n",
    "# ax2.tick_params(left=False)  # remove the ticks\n",
    "# #plt.ylabel('Active Layer Thickness (cm)')\n",
    "# ax.grid(linewidth=0.3);\n",
    "# plt.title('GeoCryoAI Modeling, Cost Function and Validation Loss of ALT | Alaska [1969-2022] \\n Number of Samples/Replicates, ALT: 2.441M', pad=15, fontsize=14);\n",
    "# #plt.suptitle('Number of Samples/Replicates, ALT: 2.441M', fontsize=12, fontweight='ultralight');\n",
    "# #plt.title('GeoCryoAI Training and Validation Loss | In Situ Thaw Depth Simulations [1969-2022]', pad=15, fontsize=14)\n",
    "# #plt.title('GeoCryoAI Model Simulations | Cost Functions \\n ALT, CH4 Flux, and CO2 Flux [1969-2022]', pad=15, fontsize=14)\n",
    "# #plt.title('GeoCryoAI Training and Validation Loss | In Situ CO2 Flux Simulations [2006-2019]', pad=15, fontsize=14)\n",
    "# #plt.xlabel('Year')\n",
    "# #plt.axis([0, 6, 0, 60])\n",
    "# #plt.grid(linewidth=0.3);\n",
    "# #plt.show()\n",
    "# #plt.savefig('/Users/bradleygay/Downloads/bilstmae_insitu_ALT_loss.png',dpi=1000)"
   ]
  },
  {
   "cell_type": "code",
   "execution_count": null,
   "id": "522c39ab-eb43-4af1-a1ba-42902b201af2",
   "metadata": {},
   "outputs": [],
   "source": [
    "alt_model=alt_loaded_model_json\n",
    "ch4_model=ch4_loaded_model_json\n",
    "co2_model=co2_loaded_model_json"
   ]
  },
  {
   "cell_type": "code",
   "execution_count": null,
   "id": "f27142f5-6f07-448e-8269-15124c6af6da",
   "metadata": {},
   "outputs": [],
   "source": [
    "loss_function = 'mean_squared_error'\n",
    "alt_metrics=['mean_squared_error', 'mean_absolute_error', RSquare().build(input_shape = (trainyscaltref.shape[1],))]\n",
    "alt_model.compile(optimizer = tf.keras.optimizers.legacy.RMSprop(learning_rate = 0.0001, **{\"clipvalue\" : 1000}),\n",
    "                  loss = loss_function, metrics = alt_metrics)\n",
    "ch4_metrics=['mean_squared_error', 'mean_absolute_error', RSquare().build(input_shape = (trainyscch4ref.shape[1],))]\n",
    "ch4_model.compile(optimizer = tf.keras.optimizers.legacy.RMSprop(learning_rate = 0.001, **{\"clipvalue\" : 1000}),\n",
    "                  loss = loss_function, metrics = ch4_metrics)\n",
    "co2_metrics=['mean_squared_error', 'mean_absolute_error', RSquare().build(input_shape = (trainyscco2ref.shape[1],))]\n",
    "co2_model.compile(optimizer = tf.keras.optimizers.legacy.RMSprop(learning_rate = 0.0001, **{\"clipvalue\" : 1000}),\n",
    "                  loss = loss_function, metrics = co2_metrics)"
   ]
  },
  {
   "cell_type": "code",
   "execution_count": null,
   "id": "b76c28e3-605b-45ed-a359-7dbd954bcb82",
   "metadata": {},
   "outputs": [],
   "source": [
    "#score1=alt_model.evaluate(testXscaltref,testyscaltref,verbose=1)\n",
    "#score2=co2_model.evaluate(testXscco2ref,testyscco2ref,verbose=1)\n",
    "score3=ch4_model.evaluate(testXscch4ref,testyscch4ref,verbose=1)"
   ]
  },
  {
   "cell_type": "code",
   "execution_count": null,
   "id": "0f75a7b3-cbab-4246-a530-e26cd809534b",
   "metadata": {},
   "outputs": [],
   "source": [
    "score_2, score_3b, score_4#score_3"
   ]
  },
  {
   "cell_type": "code",
   "execution_count": null,
   "id": "d6e539a4-fae1-4c72-bce3-130d7e7afbf7",
   "metadata": {},
   "outputs": [],
   "source": [
    "#ALT\n",
    "print('Test MAE:', score1[1])\n",
    "print('Test MSE:', score1[2])\n",
    "print('Test RMSE:', np.sqrt(score1[2]))"
   ]
  },
  {
   "cell_type": "code",
   "execution_count": null,
   "id": "a79c4e8b-ccb9-494f-bdbb-a36a1c9c6387",
   "metadata": {},
   "outputs": [],
   "source": [
    "#CO2\n",
    "print('Test MAE:', score2[1])\n",
    "print('Test MSE:', score2[2])\n",
    "print('Test RMSE:', np.sqrt(score2[2]))"
   ]
  },
  {
   "cell_type": "code",
   "execution_count": null,
   "id": "4aab90c3-31e1-4989-a92b-5814aa59f2fb",
   "metadata": {},
   "outputs": [],
   "source": [
    "#CH4\n",
    "print('Test MAE:', score3[1])\n",
    "print('Test MSE:', score3[2])\n",
    "print('Test RMSE:', np.sqrt(score3[2]))"
   ]
  },
  {
   "cell_type": "code",
   "execution_count": null,
   "id": "fd0cb1b6-e63e-481d-bf33-6802471af092",
   "metadata": {},
   "outputs": [],
   "source": [
    "trainyscaltpred = alt_model.predict(trainXscaltref)\n",
    "validyscaltpred = alt_model.predict(validXscaltref)\n",
    "testyscaltpred = alt_model.predict(testXscaltref)"
   ]
  },
  {
   "cell_type": "code",
   "execution_count": null,
   "id": "56239fcb-44af-48a2-b503-a185f1b410d8",
   "metadata": {},
   "outputs": [],
   "source": [
    "with open('trainyscaltpred', 'wb') as file_theta:\n",
    "    pickle.dump(trainyscaltpred, file_theta)\n",
    "with open('validyscaltpred', 'wb') as file_alpha:\n",
    "    pickle.dump(validyscaltpred, file_alpha)\n",
    "with open('testyscaltpred', 'wb') as file_zeta:\n",
    "    pickle.dump(testyscaltpred, file_zeta)\n",
    "\n",
    "with open('/Users/bradleygay/code/trainyscaltpred', 'rb') as file_theta:\n",
    "    trainyscaltpred=pickle.load(file_theta)\n",
    "with open('/Users/bradleygay/code/validyscaltpred', 'rb') as file_alpha:\n",
    "    validyscaltpred=pickle.load(file_alpha)\n",
    "with open('/Users/bradleygay/code/testyscaltpred', 'rb') as file_zeta:\n",
    "    testyscaltpred=pickle.load(file_zeta)"
   ]
  },
  {
   "cell_type": "code",
   "execution_count": null,
   "id": "12f14a55-0ed0-4477-a819-a473b593b66a",
   "metadata": {},
   "outputs": [],
   "source": [
    "trainyscco2pred = co2_model.predict(trainXscco2ref)\n",
    "validyscco2pred = co2_model.predict(validXscco2ref)\n",
    "testyscco2pred = co2_model.predict(testXscco2ref)"
   ]
  },
  {
   "cell_type": "code",
   "execution_count": null,
   "id": "a6a88331-d4dc-4844-a7c1-beae0deed1fe",
   "metadata": {},
   "outputs": [],
   "source": [
    "with open('trainyscco2pred', 'wb') as file_a:\n",
    "    pickle.dump(trainyscco2pred, file_a)\n",
    "with open('validyscco2pred', 'wb') as file_b:\n",
    "    pickle.dump(validyscco2pred, file_b)\n",
    "with open('testyscco2pred', 'wb') as file_c:\n",
    "    pickle.dump(testyscco2pred, file_c)\n",
    "\n",
    "with open('/Users/bradleygay/code/trainyscco2pred', 'rb') as file_a:\n",
    "    trainyscco2pred=pickle.load(file_a)\n",
    "with open('/Users/bradleygay/code/validyscco2pred', 'rb') as file_b:\n",
    "    validyscco2pred=pickle.load(file_b)\n",
    "with open('/Users/bradleygay/code/testyscco2pred', 'rb') as file_c:\n",
    "    testyscco2pred=pickle.load(file_c)"
   ]
  },
  {
   "cell_type": "code",
   "execution_count": null,
   "id": "3e177d43-77a0-4188-871b-78b388e478a8",
   "metadata": {},
   "outputs": [],
   "source": [
    "trainyscch4pred = ch4_model.predict(trainXscch4ref)\n",
    "validyscch4pred = ch4_model.predict(validXscch4ref)\n",
    "testyscch4pred = ch4_model.predict(testXscch4ref)"
   ]
  },
  {
   "cell_type": "code",
   "execution_count": null,
   "id": "c40233df-e5fc-4636-9d8c-ff69634bc688",
   "metadata": {},
   "outputs": [],
   "source": [
    "with open('trainyscch4pred', 'wb') as file_i:\n",
    "    pickle.dump(trainyscch4pred, file_i)\n",
    "with open('validyscch4pred', 'wb') as file_ii:\n",
    "    pickle.dump(validyscch4pred, file_ii)\n",
    "with open('testyscch4pred', 'wb') as file_iii:\n",
    "    pickle.dump(testyscch4pred, file_iii)\n",
    "\n",
    "with open('/Users/bradleygay/code/trainyscch4pred', 'rb') as file_i:\n",
    "    trainyscch4pred=pickle.load(file_i)\n",
    "with open('/Users/bradleygay/code/validyscch4pred', 'rb') as file_ii:\n",
    "    validyscch4pred=pickle.load(file_ii)\n",
    "with open('/Users/bradleygay/code/testyscch4pred', 'rb') as file_iii:\n",
    "    testyscch4pred=pickle.load(file_iii)"
   ]
  },
  {
   "cell_type": "code",
   "execution_count": null,
   "id": "9308087f-d9bd-4b92-8dea-034d9a4933ad",
   "metadata": {},
   "outputs": [],
   "source": [
    "#model2 == ALT (history2)\n",
    "#model3b == CH4 (history5)\n",
    "#model4 == CO2 (history4)"
   ]
  },
  {
   "cell_type": "markdown",
   "id": "f50fbae2-0a3e-4038-b197-9a10223e7fa6",
   "metadata": {},
   "source": [
    "### Archive"
   ]
  },
  {
   "cell_type": "code",
   "execution_count": null,
   "id": "e94b5ce5-6ae4-41be-ba6f-0efb87c38cad",
   "metadata": {},
   "outputs": [],
   "source": [
    "#altlist=[]\n",
    "#altlist=np.append(altlist,p)\n",
    "#altlist=np.append(altlist,pp)\n",
    "altlist=np.append(altlist,ppp)"
   ]
  },
  {
   "cell_type": "code",
   "execution_count": null,
   "id": "887e61d9-d085-41f3-a6a6-44dd108e4af2",
   "metadata": {},
   "outputs": [],
   "source": [
    "plt.plot(yscaleralt.inverse_transform(altlist.reshape(-1,1)))"
   ]
  },
  {
   "cell_type": "code",
   "execution_count": null,
   "id": "e4cb3f0e-6251-4feb-800e-c31c32e8338f",
   "metadata": {},
   "outputs": [],
   "source": [
    "plt.plot(yscaleralt.inverse_transform(p.reshape(1432318,1)))"
   ]
  },
  {
   "cell_type": "code",
   "execution_count": null,
   "id": "4531e976-6dcc-4d22-88ae-56ab45e3bc6b",
   "metadata": {},
   "outputs": [],
   "source": [
    "data_val = X_scaler.fit_transform(df.tail(48))\n",
    "   val_rescaled = data_val.reshape(1, data_val.shape[0], data_val.shape[1])\n",
    " pred = lstm_model.predict(val_rescaled)\n",
    " pred_Inverse = Y_scaler.inverse_transform(pred)\n",
    " pred_Inverse "
   ]
  },
  {
   "cell_type": "code",
   "execution_count": null,
   "id": "f9494786-5e2c-4eb0-9793-1091c800c1dc",
   "metadata": {},
   "outputs": [],
   "source": [
    "type(p.reshape(1432318, 1))"
   ]
  },
  {
   "cell_type": "code",
   "execution_count": null,
   "id": "abaefa70-ffcb-433c-8461-bdfc238294b9",
   "metadata": {},
   "outputs": [],
   "source": [
    "type(testXscaltref.reshape((testXscaltref.shape[0], testXscaltref.shape[2])))"
   ]
  },
  {
   "cell_type": "code",
   "execution_count": null,
   "id": "fa95ccac-4537-4e0c-ae4d-67aadcecf434",
   "metadata": {},
   "outputs": [],
   "source": [
    "# make a prediction\n",
    "yhat = model2.predict(testXscalt)\n",
    "test_X = testXscalt.reshape((test_X.shape[0], test_X.shape[2]))\n",
    "# invert scaling for forecast\n",
    "inv_yhat = concatenate((yhat, test_X[:, 1:]), axis=1)\n",
    "inv_yhat = scaler.inverse_transform(inv_yhat)\n",
    "inv_yhat = inv_yhat[:,0]\n",
    "# invert scaling for actual\n",
    "test_y = test_y.reshape((len(test_y), 1))\n",
    "inv_y = concatenate((test_y, test_X[:, 1:]), axis=1)\n",
    "inv_y = scaler.inverse_transform(inv_y)\n",
    "inv_y = inv_y[:,0]\n",
    "# calculate RMSE\n",
    "rmse = sqrt(mean_squared_error(inv_y, inv_yhat))\n",
    "print('Test RMSE: %.3f' % rmse)"
   ]
  },
  {
   "cell_type": "code",
   "execution_count": null,
   "id": "d0aa5908-fb30-414b-b4f8-7ce5430253ca",
   "metadata": {},
   "outputs": [],
   "source": [
    "trainXaltdf=pd.DataFrame(trainXalt).to_numpy().reshape(1432318, 1, 273)"
   ]
  },
  {
   "cell_type": "code",
   "execution_count": null,
   "id": "cff0f3a1-6038-4129-bfa1-10ba3922d7ef",
   "metadata": {},
   "outputs": [],
   "source": [
    "#y_pred = model2.predict(trainXaltdfres)\n",
    "y_pred_scaled = model2.predict(testXscaltref)"
   ]
  },
  {
   "cell_type": "code",
   "execution_count": null,
   "id": "0af38ba6-86cb-4662-ae3b-86ade4aeaf98",
   "metadata": {},
   "outputs": [],
   "source": [
    "y_pred.shape"
   ]
  },
  {
   "cell_type": "code",
   "execution_count": null,
   "id": "d3af44ee-b6bc-4af3-b4ae-b9ed3f52c398",
   "metadata": {},
   "outputs": [],
   "source": [
    "y_pred_scaled.shape"
   ]
  },
  {
   "cell_type": "code",
   "execution_count": null,
   "id": "520e442b-89cc-4bd3-a1f5-89d5224fcda2",
   "metadata": {},
   "outputs": [],
   "source": [
    "testXalt.shape"
   ]
  },
  {
   "cell_type": "code",
   "execution_count": null,
   "id": "4d3987f2-fbcb-4787-a340-30eb65c7141f",
   "metadata": {},
   "outputs": [],
   "source": [
    "testyalt.iloc[:,0]"
   ]
  },
  {
   "cell_type": "code",
   "execution_count": null,
   "id": "b3a60c7c-b238-4490-bcf3-a4c7fa441a8e",
   "metadata": {},
   "outputs": [],
   "source": [
    "testyscaltpd=pd.DataFrame(testyscalt)\n",
    "testyscaltpd.index=testyalt.iloc[:,0].index\n",
    "testyscaltpd.index=pd.to_datetime(testyscaltpd.index, format='%Y')\n",
    "testyscaltpd.index.name = None"
   ]
  },
  {
   "cell_type": "code",
   "execution_count": null,
   "id": "70c7b662-f7e6-496e-9b58-c03e607037ee",
   "metadata": {},
   "outputs": [],
   "source": [
    "#testyscaltpd.to_numpy().reshape(215137,1,1)"
   ]
  },
  {
   "cell_type": "code",
   "execution_count": null,
   "id": "c37e200a-3f90-4dbf-857c-6944f833fa27",
   "metadata": {},
   "outputs": [],
   "source": [
    "testyscaltpd.columns=[testyalt.iloc[:,-1].name]"
   ]
  },
  {
   "cell_type": "code",
   "execution_count": null,
   "id": "f1e9744b-c3c4-467f-b5f4-9845f1b4d375",
   "metadata": {},
   "outputs": [],
   "source": [
    "testyscaltpd"
   ]
  },
  {
   "cell_type": "code",
   "execution_count": null,
   "id": "e99ded5f-9a84-4bad-8820-3361a6224485",
   "metadata": {},
   "outputs": [],
   "source": [
    "validyscaltpd=pd.DataFrame(validyscalt)\n",
    "validyscaltpd.index=validyalt.iloc[:,0].index\n",
    "validyscaltpd.index=pd.to_datetime(validyscaltpd.index, format='%Y')\n",
    "validyscaltpd.index.name = None"
   ]
  },
  {
   "cell_type": "code",
   "execution_count": null,
   "id": "bef09a22-9163-4764-968c-aedfddaf141a",
   "metadata": {},
   "outputs": [],
   "source": [
    "#validyscaltpd.to_numpy().reshape(793782,1,1)"
   ]
  },
  {
   "cell_type": "code",
   "execution_count": null,
   "id": "165aaaf1-fcfc-4492-b12d-f2f6c7103f8a",
   "metadata": {},
   "outputs": [],
   "source": [
    "validyscaltpd.columns=[validyalt.iloc[:,-1].name]"
   ]
  },
  {
   "cell_type": "code",
   "execution_count": null,
   "id": "b636341a-3d2d-47dd-a4f3-c48f847122e7",
   "metadata": {},
   "outputs": [],
   "source": [
    "validyscaltpd"
   ]
  },
  {
   "cell_type": "code",
   "execution_count": null,
   "id": "8e7c1178-9e35-41ba-8124-0e24ba3a8a32",
   "metadata": {},
   "outputs": [],
   "source": [
    "trainyscaltpd=pd.DataFrame(trainyscalt)\n",
    "trainyscaltpd.index=trainyalt.iloc[:,0].index\n",
    "trainyscaltpd.index=pd.to_datetime(trainyscaltpd.index, format='%Y')\n",
    "trainyscaltpd.index.name = None"
   ]
  },
  {
   "cell_type": "code",
   "execution_count": null,
   "id": "9a517a3f-d01a-4cbd-8365-c687eb320293",
   "metadata": {},
   "outputs": [],
   "source": [
    "trainyscaltpd.columns=[trainyalt.iloc[:,-1].name]"
   ]
  },
  {
   "cell_type": "code",
   "execution_count": null,
   "id": "5107c07d-1c90-479f-a36a-b4d7fa3d5b74",
   "metadata": {},
   "outputs": [],
   "source": [
    "trainyscaltpd"
   ]
  },
  {
   "cell_type": "code",
   "execution_count": null,
   "id": "842f0bc8-5bfa-4183-b0c7-2458d61c9f8c",
   "metadata": {},
   "outputs": [],
   "source": [
    "plt.plot(trainyscaltpd)\n",
    "plt.plot(validyscaltpd)\n",
    "plt.plot(testyscaltpd)"
   ]
  },
  {
   "cell_type": "code",
   "execution_count": null,
   "id": "42515728-34f8-49c6-82fb-54d585181a1f",
   "metadata": {},
   "outputs": [],
   "source": [
    "plt.plot(trainyalt)\n",
    "plt.plot(validyalt)\n",
    "plt.plot(testyalt)"
   ]
  },
  {
   "cell_type": "code",
   "execution_count": null,
   "id": "725a6f0c-462c-4f6f-83a3-5871257706ff",
   "metadata": {},
   "outputs": [],
   "source": [
    "#trainXalt"
   ]
  },
  {
   "cell_type": "code",
   "execution_count": null,
   "id": "c7b2d087-a4d7-4fc9-95f1-ea85dd6adbd9",
   "metadata": {},
   "outputs": [],
   "source": [
    "#testyscaltpd.to_numpy().reshape(215137,1,1)\n",
    "#testyscalt.reshape(215137,1,1)\n",
    "t=trainXalt.iloc[:,-1].resample('Y').mean()\n",
    "v=validXalt.iloc[:,-1].resample('Y').mean()\n",
    "r=testXalt.iloc[:,-1].resample('Y').mean()#.reshape(215137,1, 273)"
   ]
  },
  {
   "cell_type": "code",
   "execution_count": null,
   "id": "f92abc76-eef8-43c6-907a-2cca9c202612",
   "metadata": {},
   "outputs": [],
   "source": [
    "trainXalt.iloc[:,-183]"
   ]
  },
  {
   "cell_type": "code",
   "execution_count": null,
   "id": "a4a6c5c9-4290-4893-8e25-7c96579b80fd",
   "metadata": {},
   "outputs": [],
   "source": [
    "t2=trainXalt.iloc[:,-92].resample('Y').mean()\n",
    "v2=validXalt.iloc[:,-92].resample('Y').mean()\n",
    "r2=testXalt.iloc[:,-92].resample('Y').mean()#.reshape(215137,1, 273)"
   ]
  },
  {
   "cell_type": "code",
   "execution_count": null,
   "id": "bf2219b3-36a6-4f26-b5c2-5efb9232dae9",
   "metadata": {},
   "outputs": [],
   "source": [
    "t3=trainXalt.iloc[:,-183].resample('Y').mean()\n",
    "v3=validXalt.iloc[:,-183].resample('Y').mean()\n",
    "r3=testXalt.iloc[:,-183].resample('Y').mean()#.reshape(215137,1, 273)"
   ]
  },
  {
   "cell_type": "code",
   "execution_count": null,
   "id": "db2ac750-80ff-4ba9-8ffd-629c7a963c65",
   "metadata": {},
   "outputs": [],
   "source": [
    "yup=[]\n",
    "yup=np.append(yup,t.values)\n",
    "yup=np.append(yup,v.values)\n",
    "yup=np.append(yup,r.values)"
   ]
  },
  {
   "cell_type": "code",
   "execution_count": null,
   "id": "07a6c5d1-edea-4fde-a5c0-7d185f82f700",
   "metadata": {},
   "outputs": [],
   "source": [
    "yup2=[]\n",
    "yup2=np.append(yup2,t2.values)\n",
    "yup2=np.append(yup2,v2.values)\n",
    "yup2=np.append(yup2,r2.values)"
   ]
  },
  {
   "cell_type": "code",
   "execution_count": null,
   "id": "3954151a-11a0-4736-9acd-5bed01ce3ded",
   "metadata": {},
   "outputs": [],
   "source": [
    "yup3=[]\n",
    "yup3=np.append(yup3,t3.values)\n",
    "yup3=np.append(yup3,v3.values)\n",
    "yup3=np.append(yup3,r3.values)"
   ]
  },
  {
   "cell_type": "code",
   "execution_count": null,
   "id": "20c95c13-7144-4f46-9c2f-568ffe1ea0be",
   "metadata": {},
   "outputs": [],
   "source": [
    "plt.plot(reframed_alt.iloc[:,-1].resample('Y').mean().values)"
   ]
  },
  {
   "cell_type": "code",
   "execution_count": null,
   "id": "c2f4c015-55b5-4546-8846-c40fa9ebcd79",
   "metadata": {},
   "outputs": [],
   "source": [
    "plt.plot(df['ALT'].resample('Y').mean().values)\n",
    "#plt.plot(reframed_alt.iloc[:,-1].resample('Y').mean().values)\n",
    "plt.plot(yup, linestyle='dotted')\n",
    "plt.plot(yup2, linestyle='dotted')\n",
    "plt.plot(yup3, linestyle='dotted')\n",
    "plt.show()"
   ]
  },
  {
   "cell_type": "code",
   "execution_count": null,
   "id": "66a8aa64-c4b5-4557-a425-c16812ed6aa8",
   "metadata": {},
   "outputs": [],
   "source": [
    "plt.plot(df['ALT'].resample('Y').mean().values)"
   ]
  },
  {
   "cell_type": "code",
   "execution_count": null,
   "id": "bb2f5a5a-6456-4fe3-9ec1-cb8dff91226a",
   "metadata": {},
   "outputs": [],
   "source": [
    "plt.plot(yup, linestyle='dotted')\n",
    "plt.plot(yup2, linestyle='dotted')\n",
    "plt.plot(yup3, linestyle='dotted')"
   ]
  },
  {
   "cell_type": "code",
   "execution_count": null,
   "id": "03bc1c0f-a7b3-4b14-887a-c5e3b43b853c",
   "metadata": {},
   "outputs": [],
   "source": [
    "#trainXaltdfres=pd.DataFrame(trainXalt).to_numpy().reshape(1432318, 1, 273)"
   ]
  },
  {
   "cell_type": "markdown",
   "id": "553007dd-ccd9-4f19-a005-3560fd90dd2c",
   "metadata": {
    "jp-MarkdownHeadingCollapsed": true
   },
   "source": [
    "### ALT"
   ]
  },
  {
   "cell_type": "code",
   "execution_count": null,
   "id": "87915af3-02a5-483f-acca-1fc82baf6aef",
   "metadata": {},
   "outputs": [],
   "source": [
    "trainXscalt.shape"
   ]
  },
  {
   "cell_type": "code",
   "execution_count": null,
   "id": "9349f763-c6de-4855-933a-37c2c4f9aa13",
   "metadata": {},
   "outputs": [],
   "source": [
    "trainXscaltdfres=pd.DataFrame(trainXscalt).to_numpy().reshape(1432318, 1, 273)"
   ]
  },
  {
   "cell_type": "code",
   "execution_count": null,
   "id": "64e9f012-d9ce-4f1e-81ff-41a652ce3b5c",
   "metadata": {},
   "outputs": [],
   "source": [
    "trainXscaltdfres.shape"
   ]
  },
  {
   "cell_type": "code",
   "execution_count": null,
   "id": "920c5393-e25c-4153-8d10-78427d4e9ce8",
   "metadata": {},
   "outputs": [],
   "source": [
    "#p=model2.predict(trainXaltdfres)"
   ]
  },
  {
   "cell_type": "code",
   "execution_count": null,
   "id": "896c8f38-f0df-4976-8251-5e12bd3a73a8",
   "metadata": {},
   "outputs": [],
   "source": [
    "p=model2.predict(trainXscaltdfres)"
   ]
  },
  {
   "cell_type": "code",
   "execution_count": null,
   "id": "c2818c40-7a16-4004-94d9-6f38ab841627",
   "metadata": {},
   "outputs": [],
   "source": [
    "p.shape"
   ]
  },
  {
   "cell_type": "code",
   "execution_count": null,
   "id": "9653ea64-a4de-45a5-8753-4a9ebf2e04a3",
   "metadata": {
    "jupyter": {
     "source_hidden": true
    }
   },
   "outputs": [],
   "source": [
    "# plt.plot(trainXalt.to_numpy().reshape(1432318, 1, 273)[:,-1,-1])\n",
    "# plt.plot(validXalt.to_numpy().reshape(793782, 1, 273)[:,-1,-1])\n",
    "# plt.plot(testXalt.to_numpy().reshape(215137, 1, 273)[:,-1,-1])\n",
    "# plt.plot(trainXscalt.reshape(1432318, 1, 273)[:,-1,-1])\n",
    "# plt.plot(validXscalt.reshape(793782, 1, 273)[:,-1,-1])\n",
    "# plt.plot(testXscalt.reshape(215137, 1, 273)[:,-1,-1])"
   ]
  },
  {
   "cell_type": "code",
   "execution_count": null,
   "id": "480dadcd-b681-4ce0-a665-20b55c7108a3",
   "metadata": {},
   "outputs": [],
   "source": [
    "plt.plot(p.reshape(1432318,1))\n",
    "plt.show()"
   ]
  },
  {
   "cell_type": "code",
   "execution_count": null,
   "id": "d518a23b-a682-4af9-9119-9db61e583c8a",
   "metadata": {},
   "outputs": [],
   "source": [
    "validXscalt.shape"
   ]
  },
  {
   "cell_type": "code",
   "execution_count": null,
   "id": "4cacd84d-1227-4a88-aa3f-67b57e548072",
   "metadata": {},
   "outputs": [],
   "source": [
    "validXscaltdfres=pd.DataFrame(validXscalt).to_numpy().reshape(793782, 1, 273)"
   ]
  },
  {
   "cell_type": "code",
   "execution_count": null,
   "id": "81f48ee3-3de9-42de-adcc-2acd4492a7b8",
   "metadata": {},
   "outputs": [],
   "source": [
    "validXscaltdfres.shape"
   ]
  },
  {
   "cell_type": "code",
   "execution_count": null,
   "id": "bee7ddac-2875-4fc5-aee2-3d7fc7e28d5b",
   "metadata": {},
   "outputs": [],
   "source": [
    "pp=model2.predict(validXscaltdfres)"
   ]
  },
  {
   "cell_type": "code",
   "execution_count": null,
   "id": "1f07c832-e6b1-4256-b2d0-8e5b464e5311",
   "metadata": {},
   "outputs": [],
   "source": [
    "pp.shape"
   ]
  },
  {
   "cell_type": "code",
   "execution_count": null,
   "id": "8f7de1da-db8c-46cd-8697-d7357be6fe3b",
   "metadata": {
    "jupyter": {
     "source_hidden": true
    }
   },
   "outputs": [],
   "source": [
    "# plt.plot(trainXalt.to_numpy().reshape(1432318, 1, 273)[:,-1,-1])\n",
    "# plt.plot(validXalt.to_numpy().reshape(793782, 1, 273)[:,-1,-1])\n",
    "# plt.plot(testXalt.to_numpy().reshape(215137, 1, 273)[:,-1,-1])\n",
    "# plt.plot(trainXscalt.reshape(1432318, 1, 273)[:,-1,-1])\n",
    "# plt.plot(validXscalt.reshape(793782, 1, 273)[:,-1,-1])\n",
    "# plt.plot(testXscalt.reshape(215137, 1, 273)[:,-1,-1])"
   ]
  },
  {
   "cell_type": "code",
   "execution_count": null,
   "id": "69cebbce-cf10-4a74-a813-c6f75dae99ab",
   "metadata": {},
   "outputs": [],
   "source": [
    "plt.plot(pp.reshape(793782,1))\n",
    "plt.show()"
   ]
  },
  {
   "cell_type": "code",
   "execution_count": null,
   "id": "10799b53-d087-4d55-b267-ddcdbc223d78",
   "metadata": {},
   "outputs": [],
   "source": [
    "testXscalt.shape"
   ]
  },
  {
   "cell_type": "code",
   "execution_count": null,
   "id": "657c631f-3d5c-4e27-882a-37e6e8fe840f",
   "metadata": {},
   "outputs": [],
   "source": [
    "testXscaltdfres=pd.DataFrame(testXscalt).to_numpy().reshape(215137, 1, 273)"
   ]
  },
  {
   "cell_type": "code",
   "execution_count": null,
   "id": "78d5542a-7c5f-4b2d-8f3a-d5233fb2278c",
   "metadata": {},
   "outputs": [],
   "source": [
    "testXscaltdfres.shape"
   ]
  },
  {
   "cell_type": "code",
   "execution_count": null,
   "id": "07fe21b3-7e66-4717-8627-810d41a06916",
   "metadata": {},
   "outputs": [],
   "source": [
    "ppp=model2.predict(testXscaltdfres)"
   ]
  },
  {
   "cell_type": "code",
   "execution_count": null,
   "id": "4f895aba-d46b-4902-9aa1-56fd0730c29f",
   "metadata": {},
   "outputs": [],
   "source": [
    "ppp.shape"
   ]
  },
  {
   "cell_type": "code",
   "execution_count": null,
   "id": "eb3e928d-fdc0-4746-84c5-6cceb27a0d29",
   "metadata": {
    "jupyter": {
     "source_hidden": true
    }
   },
   "outputs": [],
   "source": [
    "# plt.plot(trainXalt.to_numpy().reshape(1432318, 1, 273)[:,-1,-1])\n",
    "# plt.plot(validXalt.to_numpy().reshape(793782, 1, 273)[:,-1,-1])\n",
    "# plt.plot(testXalt.to_numpy().reshape(215137, 1, 273)[:,-1,-1])\n",
    "# plt.plot(trainXscalt.reshape(1432318, 1, 273)[:,-1,-1])\n",
    "# plt.plot(validXscalt.reshape(793782, 1, 273)[:,-1,-1])\n",
    "# plt.plot(testXscalt.reshape(215137, 1, 273)[:,-1,-1])"
   ]
  },
  {
   "cell_type": "code",
   "execution_count": null,
   "id": "18c53413-e10e-4ee4-8e9f-39c127134e1d",
   "metadata": {},
   "outputs": [],
   "source": [
    "plt.plot(ppp.reshape(215137,1))\n",
    "plt.show()"
   ]
  },
  {
   "cell_type": "code",
   "execution_count": null,
   "id": "78aea168-6604-4765-b269-72577f839bcd",
   "metadata": {},
   "outputs": [],
   "source": [
    "arr=[]\n",
    "arr=np.append(arr,p.reshape(1432318,))\n",
    "arr=np.append(arr,pp.reshape(793782,))\n",
    "arr=np.append(arr,ppp.reshape(215137,))"
   ]
  },
  {
   "cell_type": "code",
   "execution_count": null,
   "id": "7493bc57-cbc2-4415-93b3-583e8eb4cfc3",
   "metadata": {},
   "outputs": [],
   "source": [
    "plt.plot(arr)"
   ]
  },
  {
   "cell_type": "code",
   "execution_count": null,
   "id": "bb727a17-b44c-4aea-9dd9-179947d324c7",
   "metadata": {},
   "outputs": [],
   "source": [
    "arr2=[]\n",
    "arr2=np.append(arr2,trainyalt.values.reshape(1432318,))\n",
    "arr2=np.append(arr2,validyalt.values.reshape(793782,))\n",
    "arr2=np.append(arr2,testyalt.values.reshape(215137,))"
   ]
  },
  {
   "cell_type": "code",
   "execution_count": null,
   "id": "47b50f65-b56a-4df6-8cbc-83d3f108f8ca",
   "metadata": {},
   "outputs": [],
   "source": [
    "plt.plot(arr2)"
   ]
  },
  {
   "cell_type": "code",
   "execution_count": null,
   "id": "7b660a0c-6aa0-4a10-8629-2b33d8d7a78f",
   "metadata": {},
   "outputs": [],
   "source": [
    "plt.plot(yscaleralt.inverse_transform(arr.reshape(2441237,1)))"
   ]
  },
  {
   "cell_type": "code",
   "execution_count": null,
   "id": "10e20ba2-fb11-406f-91b4-be413afe1635",
   "metadata": {},
   "outputs": [],
   "source": [
    "2441237-215137\n",
    "#testXscalt.shape"
   ]
  },
  {
   "cell_type": "code",
   "execution_count": null,
   "id": "e47e335e-035b-4970-957d-e754a808b7ad",
   "metadata": {},
   "outputs": [],
   "source": [
    "arr2.shape"
   ]
  },
  {
   "cell_type": "code",
   "execution_count": null,
   "id": "ade68ad9-3a81-4db0-9cc3-e56cb3ce2090",
   "metadata": {},
   "outputs": [],
   "source": [
    "fig,ax=plt.subplots(figsize=(10,6), dpi=1000);\n",
    "lns1=ax.plot(arr2.reshape(2441237,1), color='dodgerblue', linestyle='solid', label='Thaw Depth Observations, ALT (cm)');\n",
    "#ax2=ax.twinx();\n",
    "lns2=ax.plot(yscaleralt.inverse_transform(arr.reshape(2441237,1)), color='tomato', alpha=0.5, linestyle='solid', label='Thaw Depth Predictions, ALT (cm)');\n",
    "\n",
    "lns = lns1+lns2#+lns3+lns4;\n",
    "labs = [l.get_label() for l in lns];\n",
    "ax.legend(lns, labs, loc='best', fontsize=12);\n",
    "\n",
    "ax.grid(linewidth=0.3);\n",
    "#ax2.grid(linewidth=0.3);\n",
    "ax.set_xlabel('Full Iterations (epochs)', labelpad=12, fontsize=10);\n",
    "ax.set_ylabel('Active Layer Thickness (cm)', labelpad=12, fontsize=10);\n",
    "#ax.tick_params(axis='y', labelcolor='springgreen')\n",
    "#ax2.set_ylabel('Validation MSE, Scaled CO2 Flux (µolCO2m-2s-1)', labelpad=12, fontsize=10)\n",
    "#ax2.tick_params(axis='y', labelcolor='yellowgreen')\n",
    "ax.tick_params(left=False)  # remove the ticks\n",
    "#ax2.tick_params(right=False, labelright=False)  # remove the ticks\n",
    "plt.title('GeoCryoAI Modeling, ALT Observations v. Predictions | Alaska [1969-2022] \\n Number of ALT Samples/Replicates: 2.441M', pad=15, fontsize=14);\n",
    "ax.grid(linewidth=0.3);\n",
    "plt.axis([0, 2441237, 0, 300])\n",
    "#plt.axis([2226100, 2441237, 0, 200])\n",
    "plt.tight_layout()\n",
    "plt.savefig('ALT_ObsVPred_1969-2022_071323.svg', dpi=1000)\n",
    "plt.savefig('ALT_ObsVPred_1969-2022_071323.png', dpi=1000)"
   ]
  },
  {
   "cell_type": "markdown",
   "id": "ba22ecfd-03ac-41cb-988e-e13ad918319c",
   "metadata": {
    "jp-MarkdownHeadingCollapsed": true
   },
   "source": [
    "### CO2"
   ]
  },
  {
   "cell_type": "code",
   "execution_count": null,
   "id": "0f7f2084-06e1-4bab-8d97-1ba9c251dcfc",
   "metadata": {},
   "outputs": [],
   "source": [
    "trainXscco2.shape"
   ]
  },
  {
   "cell_type": "code",
   "execution_count": null,
   "id": "3cc96ccf-5b59-4a67-8e84-9b6f4681e540",
   "metadata": {},
   "outputs": [],
   "source": [
    "trainXscco2dfres=pd.DataFrame(trainXscco2).to_numpy().reshape(1432318, 1, 273)"
   ]
  },
  {
   "cell_type": "code",
   "execution_count": null,
   "id": "24f983eb-1eaa-4452-85ca-d3fc21bca035",
   "metadata": {},
   "outputs": [],
   "source": [
    "trainXscco2dfres.shape"
   ]
  },
  {
   "cell_type": "code",
   "execution_count": null,
   "id": "5cd59d06-0139-4915-b406-c4eea197e9e8",
   "metadata": {},
   "outputs": [],
   "source": [
    "#p=model2.predict(trainXaltdfres)"
   ]
  },
  {
   "cell_type": "code",
   "execution_count": null,
   "id": "548041aa-3bdc-4b1a-a494-3e55cf899722",
   "metadata": {},
   "outputs": [],
   "source": [
    "q=model4.predict(trainXscco2dfres)"
   ]
  },
  {
   "cell_type": "code",
   "execution_count": null,
   "id": "748026d4-abab-48a0-9c2a-45d8fa90b2c7",
   "metadata": {},
   "outputs": [],
   "source": [
    "q.shape"
   ]
  },
  {
   "cell_type": "code",
   "execution_count": null,
   "id": "599bd274-32b0-470d-b161-4fe83a81089c",
   "metadata": {
    "jupyter": {
     "source_hidden": true
    }
   },
   "outputs": [],
   "source": [
    "# plt.plot(trainXalt.to_numpy().reshape(1432318, 1, 273)[:,-1,-1])\n",
    "# plt.plot(validXalt.to_numpy().reshape(793782, 1, 273)[:,-1,-1])\n",
    "# plt.plot(testXalt.to_numpy().reshape(215137, 1, 273)[:,-1,-1])\n",
    "# plt.plot(trainXscalt.reshape(1432318, 1, 273)[:,-1,-1])\n",
    "# plt.plot(validXscalt.reshape(793782, 1, 273)[:,-1,-1])\n",
    "# plt.plot(testXscalt.reshape(215137, 1, 273)[:,-1,-1])"
   ]
  },
  {
   "cell_type": "code",
   "execution_count": null,
   "id": "47c7cedd-cac2-4abb-b0f6-ee555a34c141",
   "metadata": {},
   "outputs": [],
   "source": [
    "plt.plot(q.reshape(1432318,1))\n",
    "plt.show()"
   ]
  },
  {
   "cell_type": "code",
   "execution_count": null,
   "id": "6137c039-28eb-41ba-b329-107466a307bc",
   "metadata": {},
   "outputs": [],
   "source": [
    "validXscco2.shape"
   ]
  },
  {
   "cell_type": "code",
   "execution_count": null,
   "id": "d6be792c-ed10-44bf-8bd7-f28bab5be793",
   "metadata": {},
   "outputs": [],
   "source": [
    "validXscco2dfres=pd.DataFrame(validXscco2).to_numpy().reshape(793782, 1, 273)"
   ]
  },
  {
   "cell_type": "code",
   "execution_count": null,
   "id": "8d8b2481-0693-4d5f-a406-e246e03747c1",
   "metadata": {},
   "outputs": [],
   "source": [
    "validXscco2dfres.shape"
   ]
  },
  {
   "cell_type": "code",
   "execution_count": null,
   "id": "f42ec468-0f28-401e-9a63-714ec1803781",
   "metadata": {},
   "outputs": [],
   "source": [
    "qq=model4.predict(validXscco2dfres)"
   ]
  },
  {
   "cell_type": "code",
   "execution_count": null,
   "id": "a5520b5d-7690-40bf-99e1-1d9465c0112c",
   "metadata": {},
   "outputs": [],
   "source": [
    "qq.shape"
   ]
  },
  {
   "cell_type": "code",
   "execution_count": null,
   "id": "2d14ff63-a5fe-483b-8b0d-cb474364839e",
   "metadata": {
    "jupyter": {
     "source_hidden": true
    }
   },
   "outputs": [],
   "source": [
    "# plt.plot(trainXalt.to_numpy().reshape(1432318, 1, 273)[:,-1,-1])\n",
    "# plt.plot(validXalt.to_numpy().reshape(793782, 1, 273)[:,-1,-1])\n",
    "# plt.plot(testXalt.to_numpy().reshape(215137, 1, 273)[:,-1,-1])\n",
    "# plt.plot(trainXscalt.reshape(1432318, 1, 273)[:,-1,-1])\n",
    "# plt.plot(validXscalt.reshape(793782, 1, 273)[:,-1,-1])\n",
    "# plt.plot(testXscalt.reshape(215137, 1, 273)[:,-1,-1])"
   ]
  },
  {
   "cell_type": "code",
   "execution_count": null,
   "id": "f3890d64-3e6c-4940-84f2-8ea03bcbb651",
   "metadata": {},
   "outputs": [],
   "source": [
    "plt.plot(qq.reshape(793782,1))\n",
    "plt.show()"
   ]
  },
  {
   "cell_type": "code",
   "execution_count": null,
   "id": "89f73f28-8d17-46f6-b623-8c020ab05103",
   "metadata": {},
   "outputs": [],
   "source": [
    "testXscco2.shape"
   ]
  },
  {
   "cell_type": "code",
   "execution_count": null,
   "id": "c421f197-01de-45bf-8215-184a35a8003d",
   "metadata": {},
   "outputs": [],
   "source": [
    "testXscco2dfres=pd.DataFrame(testXscco2).to_numpy().reshape(215137, 1, 273)"
   ]
  },
  {
   "cell_type": "code",
   "execution_count": null,
   "id": "8992e795-c3e1-4644-b14e-9eee90ea7b14",
   "metadata": {},
   "outputs": [],
   "source": [
    "testXscco2dfres.shape"
   ]
  },
  {
   "cell_type": "code",
   "execution_count": null,
   "id": "6aa97212-df31-410b-ab65-2b0a88836404",
   "metadata": {},
   "outputs": [],
   "source": [
    "qqq=model4.predict(testXscco2dfres)"
   ]
  },
  {
   "cell_type": "code",
   "execution_count": null,
   "id": "032fcff4-fc28-4da5-b937-7c93ad036f38",
   "metadata": {},
   "outputs": [],
   "source": [
    "qqq.shape"
   ]
  },
  {
   "cell_type": "code",
   "execution_count": null,
   "id": "45f52a35-dc50-4904-9c58-babdbc3bb79c",
   "metadata": {
    "jupyter": {
     "source_hidden": true
    }
   },
   "outputs": [],
   "source": [
    "# plt.plot(trainXalt.to_numpy().reshape(1432318, 1, 273)[:,-1,-1])\n",
    "# plt.plot(validXalt.to_numpy().reshape(793782, 1, 273)[:,-1,-1])\n",
    "# plt.plot(testXalt.to_numpy().reshape(215137, 1, 273)[:,-1,-1])\n",
    "# plt.plot(trainXscalt.reshape(1432318, 1, 273)[:,-1,-1])\n",
    "# plt.plot(validXscalt.reshape(793782, 1, 273)[:,-1,-1])\n",
    "# plt.plot(testXscalt.reshape(215137, 1, 273)[:,-1,-1])"
   ]
  },
  {
   "cell_type": "code",
   "execution_count": null,
   "id": "cb157c1e-cc9a-47b4-87a1-6c12c08688c9",
   "metadata": {},
   "outputs": [],
   "source": [
    "plt.plot(qqq.reshape(215137,1))\n",
    "plt.show()"
   ]
  },
  {
   "cell_type": "code",
   "execution_count": null,
   "id": "0148591e-34c0-4528-8b30-7772124b53e0",
   "metadata": {},
   "outputs": [],
   "source": [
    "arr3=[]\n",
    "arr3=np.append(arr3,q.reshape(1432318,))\n",
    "arr3=np.append(arr3,qq.reshape(793782,))\n",
    "arr3=np.append(arr3,qqq.reshape(215137,))"
   ]
  },
  {
   "cell_type": "code",
   "execution_count": null,
   "id": "02303637-ba58-43b8-8958-15ffd50d1926",
   "metadata": {},
   "outputs": [],
   "source": [
    "plt.plot(arr3)"
   ]
  },
  {
   "cell_type": "code",
   "execution_count": null,
   "id": "da888cb1-d604-4c1f-9f21-a432dd686b2f",
   "metadata": {},
   "outputs": [],
   "source": [
    "arr4=[]\n",
    "arr4=np.append(arr4,trainyco2.values.reshape(1432318,))\n",
    "arr4=np.append(arr4,validyco2.values.reshape(793782,))\n",
    "arr4=np.append(arr4,testyco2.values.reshape(215137,))"
   ]
  },
  {
   "cell_type": "code",
   "execution_count": null,
   "id": "506f26a7-7d0c-4a25-9eb2-7ca1fa7c398f",
   "metadata": {},
   "outputs": [],
   "source": [
    "plt.plot(arr4)"
   ]
  },
  {
   "cell_type": "code",
   "execution_count": null,
   "id": "2653b8ee-f7df-47ec-94f2-ef9cedbd2af8",
   "metadata": {},
   "outputs": [],
   "source": [
    "plt.plot(yscalerco2.inverse_transform(arr3.reshape(2441237,1)))"
   ]
  },
  {
   "cell_type": "code",
   "execution_count": null,
   "id": "41a996b7-5894-40e2-9219-4ddee1735063",
   "metadata": {},
   "outputs": [],
   "source": [
    "#reframed_co2.iloc[:,-1].name\n",
    "#('CO2_1_2_1', 't')\n",
    "#reframed_co2.iloc[:,-1]['2006':'2019']\n",
    "#reframed_co2.shape\n",
    "#2441237-1965628\n",
    "#78115:2043743\n",
    "plt.plot(reframed_co2.iloc[78115:2043743,-1].values)#['2005':'2019']\n",
    "#reframed_co2.iloc[:,-1][:'2019']"
   ]
  },
  {
   "cell_type": "code",
   "execution_count": null,
   "id": "4ede592e-3d76-4442-b8ff-fb09fb02357c",
   "metadata": {},
   "outputs": [],
   "source": [
    "fig,ax=plt.subplots(figsize=(10,6), dpi=1000);\n",
    "lns1=ax.plot(arr4.reshape(2441237,1), color='indigo', linestyle='solid', label='Flux Observations, CO2 (µmolCO2m-2s-1)');\n",
    "ax2=ax.twinx();\n",
    "lns2=ax2.plot(yscalerco2.inverse_transform(arr3.reshape(2441237,1)), alpha=0.5, color='lime', linestyle='solid', label='Flux Predictions, CO2 (µmolCO2m-2s-1)');\n",
    "\n",
    "lns = lns1+lns2#+lns3+lns4;\n",
    "labs = [l.get_label() for l in lns];\n",
    "ax.legend(lns, labs, loc='upper right', fontsize=12);\n",
    "\n",
    "ax.grid(linewidth=0.3);\n",
    "#ax2.grid(linewidth=0.3);\n",
    "ax.set_xlabel('Full Iterations (epochs)', labelpad=12, fontsize=10);\n",
    "ax.set_ylabel('Carbon Dioxide Flux (µmolCO2m-2s-1)', labelpad=12, fontsize=10);\n",
    "#ax.tick_params(axis='y', labelcolor='springgreen')\n",
    "#ax2.set_ylabel('Validation MSE, Scaled CO2 Flux (µolCO2m-2s-1)', labelpad=12, fontsize=10)\n",
    "#ax2.tick_params(axis='y', labelcolor='yellowgreen')\n",
    "ax.tick_params(left=False, labelright=False)  # remove the ticks\n",
    "ax2.tick_params(right=False, labelright=False)  # remove the ticks\n",
    "plt.title('GeoCryoAI Modeling, CO2 Flux Observations v. Predictions | Alaska [2006-2019] \\n Number of CO2 Flux \\\n",
    "Samples/Replicates: 1.966M', pad=15, fontsize=14);\n",
    "ax.grid(linewidth=0.3);\n",
    "#plt.axis([78115, 2043743, 0, 800])\n",
    "#plt.axis([2226100, 2441237, 0, 200])\n",
    "plt.tight_layout()\n",
    "plt.savefig('CO2_ObsVPred_2006-2019_071323.svg', dpi=1000)\n",
    "plt.savefig('CO2_ObsVPred_2006-2019_071323.png', dpi=1000)"
   ]
  },
  {
   "cell_type": "markdown",
   "id": "c1909264-cbbd-4bb7-9b56-88c9e520fc71",
   "metadata": {
    "jp-MarkdownHeadingCollapsed": true
   },
   "source": [
    "### CH4"
   ]
  },
  {
   "cell_type": "code",
   "execution_count": null,
   "id": "ad14ec02-bcb3-44cd-bf14-b85c6781ae78",
   "metadata": {},
   "outputs": [],
   "source": [
    "trainXscch4.shape"
   ]
  },
  {
   "cell_type": "code",
   "execution_count": null,
   "id": "ad8d06ed-37fe-49d7-b7d0-3b6ff6116064",
   "metadata": {},
   "outputs": [],
   "source": [
    "trainXscch4dfres=pd.DataFrame(trainXscch4).to_numpy().reshape(1432318, 1, 273)"
   ]
  },
  {
   "cell_type": "code",
   "execution_count": null,
   "id": "4d9ee30b-0d34-4615-bb9d-8f8d765a6ac2",
   "metadata": {},
   "outputs": [],
   "source": [
    "trainXscch4dfres.shape"
   ]
  },
  {
   "cell_type": "code",
   "execution_count": null,
   "id": "0ebd8310-56f2-449c-bd04-dd6f77ee3c84",
   "metadata": {},
   "outputs": [],
   "source": [
    "#p=model2.predict(trainXaltdfres)"
   ]
  },
  {
   "cell_type": "code",
   "execution_count": null,
   "id": "e7950472-48e2-444f-b0f1-8606cffa190f",
   "metadata": {},
   "outputs": [],
   "source": [
    "o=model3b.predict(trainXscch4dfres)"
   ]
  },
  {
   "cell_type": "code",
   "execution_count": null,
   "id": "101ab04b-25f9-4756-9d65-813d41f07242",
   "metadata": {},
   "outputs": [],
   "source": [
    "o.shape"
   ]
  },
  {
   "cell_type": "code",
   "execution_count": null,
   "id": "de517461-da20-423f-be22-bb2b77302761",
   "metadata": {
    "jupyter": {
     "source_hidden": true
    }
   },
   "outputs": [],
   "source": [
    "# plt.plot(trainXalt.to_numpy().reshape(1432318, 1, 273)[:,-1,-1])\n",
    "# plt.plot(validXalt.to_numpy().reshape(793782, 1, 273)[:,-1,-1])\n",
    "# plt.plot(testXalt.to_numpy().reshape(215137, 1, 273)[:,-1,-1])\n",
    "# plt.plot(trainXscalt.reshape(1432318, 1, 273)[:,-1,-1])\n",
    "# plt.plot(validXscalt.reshape(793782, 1, 273)[:,-1,-1])\n",
    "# plt.plot(testXscalt.reshape(215137, 1, 273)[:,-1,-1])"
   ]
  },
  {
   "cell_type": "code",
   "execution_count": null,
   "id": "5a27e632-4846-432e-8b4c-fddadf0cf6cb",
   "metadata": {},
   "outputs": [],
   "source": [
    "plt.plot(o.reshape(1432318,1))\n",
    "plt.show()"
   ]
  },
  {
   "cell_type": "code",
   "execution_count": null,
   "id": "91236daa-2044-4322-a783-c62b027f2823",
   "metadata": {},
   "outputs": [],
   "source": [
    "validXscch4.shape"
   ]
  },
  {
   "cell_type": "code",
   "execution_count": null,
   "id": "6c9846fc-5b8f-45c1-a467-16abd658056a",
   "metadata": {},
   "outputs": [],
   "source": [
    "validXscch4dfres=pd.DataFrame(validXscch4).to_numpy().reshape(793782, 1, 273)"
   ]
  },
  {
   "cell_type": "code",
   "execution_count": null,
   "id": "7f09bb5f-39e0-4e95-bd22-0f5e3966785a",
   "metadata": {},
   "outputs": [],
   "source": [
    "validXscch4dfres.shape"
   ]
  },
  {
   "cell_type": "code",
   "execution_count": null,
   "id": "2c9e7146-3b72-4ce5-8635-98c639e9c362",
   "metadata": {},
   "outputs": [],
   "source": [
    "oo=model3b.predict(validXscch4dfres)"
   ]
  },
  {
   "cell_type": "code",
   "execution_count": null,
   "id": "b62bbfc6-450f-42f1-9359-1bf505113554",
   "metadata": {},
   "outputs": [],
   "source": [
    "oo.shape"
   ]
  },
  {
   "cell_type": "code",
   "execution_count": null,
   "id": "6ec81d8b-97a7-4776-9ca5-6b7adbc42423",
   "metadata": {
    "jupyter": {
     "source_hidden": true
    }
   },
   "outputs": [],
   "source": [
    "# plt.plot(trainXalt.to_numpy().reshape(1432318, 1, 273)[:,-1,-1])\n",
    "# plt.plot(validXalt.to_numpy().reshape(793782, 1, 273)[:,-1,-1])\n",
    "# plt.plot(testXalt.to_numpy().reshape(215137, 1, 273)[:,-1,-1])\n",
    "# plt.plot(trainXscalt.reshape(1432318, 1, 273)[:,-1,-1])\n",
    "# plt.plot(validXscalt.reshape(793782, 1, 273)[:,-1,-1])\n",
    "# plt.plot(testXscalt.reshape(215137, 1, 273)[:,-1,-1])"
   ]
  },
  {
   "cell_type": "code",
   "execution_count": null,
   "id": "0324c975-4c23-4a1d-ad67-b08e12c62e33",
   "metadata": {},
   "outputs": [],
   "source": [
    "plt.plot(oo.reshape(793782,1))\n",
    "plt.show()"
   ]
  },
  {
   "cell_type": "code",
   "execution_count": null,
   "id": "7273bc88-5a4b-474c-aa7b-449e94668097",
   "metadata": {},
   "outputs": [],
   "source": [
    "testXscch4.shape"
   ]
  },
  {
   "cell_type": "code",
   "execution_count": null,
   "id": "7aa0aa76-4649-4241-bf35-d3707e4f7426",
   "metadata": {},
   "outputs": [],
   "source": [
    "testXscch4dfres=pd.DataFrame(testXscch4).to_numpy().reshape(215137, 1, 273)"
   ]
  },
  {
   "cell_type": "code",
   "execution_count": null,
   "id": "66f6161b-223b-42e3-a418-8b5686462872",
   "metadata": {},
   "outputs": [],
   "source": [
    "testXscch4dfres.shape"
   ]
  },
  {
   "cell_type": "code",
   "execution_count": null,
   "id": "6ea4f88c-16de-45c1-b82b-fd2c022a1677",
   "metadata": {},
   "outputs": [],
   "source": [
    "ooo=model3b.predict(testXscch4dfres)"
   ]
  },
  {
   "cell_type": "code",
   "execution_count": null,
   "id": "efada9b9-18e1-46a1-94fc-deb2d7c2d153",
   "metadata": {},
   "outputs": [],
   "source": [
    "ooo.shape"
   ]
  },
  {
   "cell_type": "code",
   "execution_count": null,
   "id": "536ab736-9e57-4bd3-bce2-5a9f36e47f9d",
   "metadata": {
    "jupyter": {
     "source_hidden": true
    }
   },
   "outputs": [],
   "source": [
    "# plt.plot(trainXalt.to_numpy().reshape(1432318, 1, 273)[:,-1,-1])\n",
    "# plt.plot(validXalt.to_numpy().reshape(793782, 1, 273)[:,-1,-1])\n",
    "# plt.plot(testXalt.to_numpy().reshape(215137, 1, 273)[:,-1,-1])\n",
    "# plt.plot(trainXscalt.reshape(1432318, 1, 273)[:,-1,-1])\n",
    "# plt.plot(validXscalt.reshape(793782, 1, 273)[:,-1,-1])\n",
    "# plt.plot(testXscalt.reshape(215137, 1, 273)[:,-1,-1])"
   ]
  },
  {
   "cell_type": "code",
   "execution_count": null,
   "id": "26e6fa2b-5847-4279-82d3-234d643aa699",
   "metadata": {},
   "outputs": [],
   "source": [
    "plt.plot(ooo.reshape(215137,1))\n",
    "plt.show()"
   ]
  },
  {
   "cell_type": "code",
   "execution_count": null,
   "id": "c64a7454-b3d8-447f-8e2a-43694bfdc148",
   "metadata": {},
   "outputs": [],
   "source": [
    "arr5=[]\n",
    "arr5=np.append(arr5,o.reshape(1432318,))\n",
    "arr5=np.append(arr5,oo.reshape(793782,))\n",
    "arr5=np.append(arr5,ooo.reshape(215137,))"
   ]
  },
  {
   "cell_type": "code",
   "execution_count": null,
   "id": "6cb468e5-19df-4d78-ba70-27450dca87f2",
   "metadata": {},
   "outputs": [],
   "source": [
    "arr5.shape"
   ]
  },
  {
   "cell_type": "code",
   "execution_count": null,
   "id": "60914e9d-0b34-44a3-a15b-14827aeacd2b",
   "metadata": {},
   "outputs": [],
   "source": [
    "plt.plot(yscalerch4.inverse_transform(arr5.reshape(2441237,1)))"
   ]
  },
  {
   "cell_type": "code",
   "execution_count": null,
   "id": "1f0c9297-5e49-441f-92b1-2154a076af72",
   "metadata": {},
   "outputs": [],
   "source": [
    "arr6=[]\n",
    "arr6=np.append(arr6,trainych4.values.reshape(1432318,))\n",
    "arr6=np.append(arr6,validych4.values.reshape(793782,))\n",
    "arr6=np.append(arr6,testych4.values.reshape(215137,))"
   ]
  },
  {
   "cell_type": "code",
   "execution_count": null,
   "id": "982cf189-2980-4055-82eb-bc942039d222",
   "metadata": {},
   "outputs": [],
   "source": [
    "plt.plot(arr6)"
   ]
  },
  {
   "cell_type": "code",
   "execution_count": null,
   "id": "d6e08bed-6d07-4bea-8f8f-195e3a264fda",
   "metadata": {},
   "outputs": [],
   "source": [
    "plt.plot(yscalerch4.inverse_transform(arr5.reshape(2441237,1)))"
   ]
  },
  {
   "cell_type": "code",
   "execution_count": null,
   "id": "aeb46e0c-5a7f-43f8-8b71-22ed0c694a6b",
   "metadata": {},
   "outputs": [],
   "source": [
    "#reframed_ch4.iloc[:,-1].name\n",
    "#('CH4_1_1_2', 't')\n",
    "#reframed_ch4.iloc[:,-1]['2011':'2021']#2.083M\n",
    "#reframed_ch4.iloc[:,-1][:'2021']\n",
    "#reframed_ch4.iloc[:,-1][:'2021']\n",
    "#reframed_ch4.iloc[:304966,-1]\n",
    "reframed_ch4.iloc[304966:2387849,-1]"
   ]
  },
  {
   "cell_type": "code",
   "execution_count": null,
   "id": "ef9a4592-4809-49b6-9ca9-7fba9acc9b1c",
   "metadata": {},
   "outputs": [],
   "source": [
    "#arr6.reshape(2441237,1)"
   ]
  },
  {
   "cell_type": "code",
   "execution_count": null,
   "id": "1a2552a0-6900-443c-ab93-6e230b321f6e",
   "metadata": {},
   "outputs": [],
   "source": [
    "fig,ax=plt.subplots(figsize=(10,6), dpi=1000);\n",
    "lns1=ax.plot(arr6.reshape(2441237,1), color='midnightblue', linestyle='solid', label='Flux Observations, CH4 (nmolCO2m-2s-1)');\n",
    "ax2=ax.twinx();\n",
    "lns2=ax2.plot(yscalerch4.inverse_transform(arr5.reshape(2441237,1)), color='magenta', alpha=0.5, linestyle='solid', label='Flux Predictions, CH4 (nmolCO2m-2s-1)');\n",
    "\n",
    "lns = lns1+lns2#+lns3+lns4;\n",
    "labs = [l.get_label() for l in lns];\n",
    "ax2.legend(lns, labs, loc='best', fontsize=12);\n",
    "\n",
    "ax.grid(linewidth=0.3);\n",
    "#ax2.grid(linewidth=0.3);\n",
    "ax.set_xlabel('Full Iterations (epochs)', labelpad=12, fontsize=10);\n",
    "ax.set_ylabel('Methane Flux (nmolCO2m-2s-1)', labelpad=12, fontsize=10);\n",
    "#ax.tick_params(axis='y', labelcolor='springgreen')\n",
    "#ax2.set_ylabel('Validation MSE, Scaled CO2 Flux (µolCO2m-2s-1)', labelpad=12, fontsize=10)\n",
    "#ax2.tick_params(axis='y', labelcolor='yellowgreen')\n",
    "ax.tick_params(left=False)  # remove the ticks\n",
    "ax2.tick_params(right=False, labelright=False)  # remove the ticks\n",
    "plt.title('GeoCryoAI Modeling, CH4 Flux Observations v. Predictions | Alaska [2011-2021] \\n Number of CH4 Flux Samples/Replicates: 2.083M', pad=15, fontsize=14);\n",
    "ax.grid(linewidth=0.3);\n",
    "#plt.axis([304966, 2387849, 0, 2060])\n",
    "#plt.axis([0, 2441237, 0, 2060])\n",
    "plt.tight_layout()\n",
    "plt.savefig('CH4_ObsVPred_2006-2019_071323.svg', dpi=1000)\n",
    "plt.savefig('CH4_ObsVPred_2006-2019_071323.png', dpi=1000)"
   ]
  },
  {
   "cell_type": "code",
   "execution_count": null,
   "id": "d97f3384-872a-452a-b4fa-4db3e683a2d9",
   "metadata": {},
   "outputs": [],
   "source": []
  },
  {
   "cell_type": "code",
   "execution_count": null,
   "id": "a03f4622-20fa-40db-bed5-b392864434b2",
   "metadata": {},
   "outputs": [],
   "source": []
  },
  {
   "cell_type": "markdown",
   "id": "82efb4dc-9e2a-4c76-8429-499fabad29a2",
   "metadata": {
    "jp-MarkdownHeadingCollapsed": true
   },
   "source": [
    "### Archive"
   ]
  },
  {
   "cell_type": "code",
   "execution_count": null,
   "id": "402ef7f0-8aba-4523-9134-c5d2388136be",
   "metadata": {},
   "outputs": [],
   "source": [
    "validXaltdfres=pd.DataFrame(validXalt).to_numpy().reshape(793782, 1, 273)"
   ]
  },
  {
   "cell_type": "code",
   "execution_count": null,
   "id": "531e98ce-0077-43f6-b638-1c20ae3b8418",
   "metadata": {},
   "outputs": [],
   "source": [
    "pp=model2.predict(validXaltdfres)"
   ]
  },
  {
   "cell_type": "code",
   "execution_count": null,
   "id": "286ca868-c4b9-4dc7-ad4c-a13c748dda51",
   "metadata": {},
   "outputs": [],
   "source": [
    "plt.plot(pp.reshape(793782,1))\n",
    "plt.show()"
   ]
  },
  {
   "cell_type": "code",
   "execution_count": null,
   "id": "635cebf3-b8e8-4a47-bb5a-7b1e4d12c01f",
   "metadata": {},
   "outputs": [],
   "source": [
    "testXaltdfres=pd.DataFrame(testXalt).to_numpy().reshape(215137, 1, 273)"
   ]
  },
  {
   "cell_type": "code",
   "execution_count": null,
   "id": "6b05ca35-0540-4430-bfe3-9832a024ea72",
   "metadata": {},
   "outputs": [],
   "source": [
    "ppp=model2.predict(testXaltdfres)"
   ]
  },
  {
   "cell_type": "code",
   "execution_count": null,
   "id": "db723849-3adc-4745-91a9-8b5c8bbbed97",
   "metadata": {},
   "outputs": [],
   "source": [
    "plt.plot(ppp.reshape(215137,1))\n",
    "plt.show()"
   ]
  },
  {
   "cell_type": "code",
   "execution_count": null,
   "id": "e9bb74fd-f638-4912-ba1c-ddbf43259a5c",
   "metadata": {},
   "outputs": [],
   "source": [
    "plt.plot(yscaleralt.inverse_transform(p.reshape(1432318,1)))"
   ]
  },
  {
   "cell_type": "code",
   "execution_count": null,
   "id": "86829510-7be5-4ae2-ada9-a2872afe0f46",
   "metadata": {},
   "outputs": [],
   "source": [
    "plt.plot(yscaleralt.inverse_transform(pp.reshape(793782,1)))"
   ]
  },
  {
   "cell_type": "code",
   "execution_count": null,
   "id": "d535b23b-0185-4deb-afc1-f6a55c3c7e00",
   "metadata": {},
   "outputs": [],
   "source": [
    "plt.plot(yscaleralt.inverse_transform(ppp.reshape(215137,1)))"
   ]
  },
  {
   "cell_type": "code",
   "execution_count": null,
   "id": "34f309c3-f45e-4e90-8190-9dbf0de47d11",
   "metadata": {},
   "outputs": [],
   "source": []
  },
  {
   "cell_type": "code",
   "execution_count": null,
   "id": "4da93eb4-5210-435e-b857-dfb632edb80e",
   "metadata": {},
   "outputs": [],
   "source": [
    "#pd.DataFrame(yscaleralt.inverse_transform(p.reshape(1432318,1)))\n",
    "plt.plot(trainyalt.values)\n",
    "plt.plot(yscaleralt.inverse_transform(p.reshape(1432318,1)))"
   ]
  },
  {
   "cell_type": "code",
   "execution_count": null,
   "id": "ef3780dc-560d-4bc8-8edc-16e0f92acb55",
   "metadata": {},
   "outputs": [],
   "source": [
    "#pd.DataFrame(yscaleralt.inverse_transform(p.reshape(1432318,1)))\n",
    "plt.plot(validyalt.values)\n",
    "plt.plot(yscaleralt.inverse_transform(pp.reshape(793782,1)))"
   ]
  },
  {
   "cell_type": "code",
   "execution_count": null,
   "id": "c419c801-3704-4c5c-b0f7-3f02443f612f",
   "metadata": {},
   "outputs": [],
   "source": [
    "plt.plot(p.reshape(1432318,1))\n",
    "plt.plot(pp.reshape(793782,1))\n",
    "plt.plot(ppp.reshape(215137,1))\n",
    "plt.show()"
   ]
  },
  {
   "cell_type": "code",
   "execution_count": null,
   "id": "56c33e9b-cabe-46c6-a259-3f9613f00766",
   "metadata": {},
   "outputs": [],
   "source": [
    "newp=p.reshape(1432318,1)\n",
    "newpp=pp.reshape(793782,1)\n",
    "newppp=ppp.reshape(215137,1)"
   ]
  },
  {
   "cell_type": "code",
   "execution_count": null,
   "id": "bb7b51a3-8a38-481c-8736-8d23793beb50",
   "metadata": {},
   "outputs": [],
   "source": [
    "# invert predictions\n",
    "sc1=StandardScaler().fit(newp)\n",
    "newTrain=sc1.inverse_transform(newp)\n",
    "sc2=StandardScaler().fit(newpp)\n",
    "newValid = sc2.inverse_transform(newpp)\n",
    "sc3=StandardScaler().fit(newppp)\n",
    "newTest = sc3.inverse_transform(newppp)"
   ]
  },
  {
   "cell_type": "code",
   "execution_count": null,
   "id": "9968bd17-1a83-4a34-956a-81eb8522bac1",
   "metadata": {},
   "outputs": [],
   "source": [
    "newTrain.shape == newp.shape, newValid.shape == newpp.shape, newTest.shape == newppp.shape"
   ]
  },
  {
   "cell_type": "code",
   "execution_count": null,
   "id": "c0d9412f-2280-46d6-92f7-3d45c072609b",
   "metadata": {},
   "outputs": [],
   "source": [
    "trainXaltdfres.shape, newp.shape, newTrain.shape"
   ]
  },
  {
   "cell_type": "code",
   "execution_count": null,
   "id": "ba946f69-c62b-4940-98c9-217c0ef2112e",
   "metadata": {},
   "outputs": [],
   "source": [
    "testyalt.to_numpy().reshape(215137,)"
   ]
  },
  {
   "cell_type": "code",
   "execution_count": null,
   "id": "24351bd5-d069-4b1d-8653-bb6f39a247c8",
   "metadata": {},
   "outputs": [],
   "source": [
    "# calculate root mean squared error\n",
    "trainScore = np.sqrt(keras.losses.mean_squared_error(trainyalt.to_numpy().reshape(1432318,), newp[:,0]))\n",
    "print('Train Score: %.6f RMSE' % (trainScore))"
   ]
  },
  {
   "cell_type": "code",
   "execution_count": null,
   "id": "fe2d8af4-7796-410f-99e3-74fcaea5a375",
   "metadata": {},
   "outputs": [],
   "source": [
    "validScore = np.sqrt(keras.losses.mean_squared_error(validyalt.to_numpy().reshape(793782,), newpp[:,0]))\n",
    "print('Valid Score: %.6f RMSE' % (validScore))"
   ]
  },
  {
   "cell_type": "code",
   "execution_count": null,
   "id": "319a1c48-3e1a-43bf-a636-dcfaf36c6a26",
   "metadata": {},
   "outputs": [],
   "source": [
    "testScore = np.sqrt(keras.losses.mean_squared_error(testyalt.to_numpy().reshape(215137,), newppp[:,0]))\n",
    "print('Test Score: %.6f RMSE' % (testScore))"
   ]
  },
  {
   "cell_type": "code",
   "execution_count": null,
   "id": "8a1164d5-0b15-4005-bd7c-6ff1cc9a9773",
   "metadata": {},
   "outputs": [],
   "source": [
    "testScore2 = np.sqrt(keras.losses.mean_squared_error(newppp[0], newTest[:,0]))\n",
    "print('Test Score: %.6f RMSE' % (testScore2))"
   ]
  },
  {
   "cell_type": "code",
   "execution_count": null,
   "id": "76b83626-1959-41d0-a0e0-0939a9cce514",
   "metadata": {},
   "outputs": [],
   "source": [
    "fig, ax = plt.subplots(figsize=(10,5))\n",
    "ln1=ax.plot(y_train, color='royalblue', linestyle='solid', label='Observed ALT')\n",
    "ln2=ax.plot(y_test, color='springgreen', linestyle='dashed', label='Tested ALT')\n",
    "ln3=ax.plot(y_valid, color='magenta', linestyle='dotted', label='Validated ALT')\n",
    "ax2=ax.twinx();\n",
    "ln4=ax2.plot(testPredict, color='yellow', linestyle='dotted', label='Test_Predicted ALT')\n",
    "\n",
    "lines = ln1 + ln2 + ln3 + ln4\n",
    "labs = [line.get_label() for line in lines];\n",
    "ax2.legend(lines, labs, loc='best')\n",
    "\n",
    "ax.grid(linewidth=0.3);\n",
    "ax.set_xlabel('Epochs', labelpad=6, fontsize=9);\n",
    "ax.set_ylabel('Loss', labelpad=6, fontsize=9)\n",
    "ax2.set_ylabel('Forecasted ALT')\n",
    "plt.title('LSTM+CNN+VAE Model (GeoCryoAI): \\n Observed v. Forecasted Active Layer Thickness (cm)')\n",
    "plt.ylabel('Scaled Active Layer Thickness (cm)')\n",
    "plt.xlabel('Epoch')\n",
    "plt.axis([0, 12000, -0.1, 1])\n",
    "#plt.legend(loc='best')\n",
    "plt.show()\n",
    "\n",
    "\n",
    "\n",
    "# fig,ax=plt.subplots(figsize=(10,5));\n",
    "# lns1=ax.plot(history.history['loss'], color='dodgerblue', label='Loss, Active Layer Thickness (cm)');\n",
    "# lns2=ax.plot(history.history['root_mean_squared_error'], color='dodgerblue', linestyle='dotted', label='RMSE, Active Layer Thickness (cm)');\n",
    "# ax2=ax.twinx();\n",
    "# lns3=ax2.plot(history.history['val_loss'], color='gold', label='Validation Loss, Active Layer Thickness (cm)');\n",
    "# lns4=ax2.plot(history.history['val_root_mean_squared_error'], color='gold', linestyle='dotted', label='Validation RMSE, Active Layer Thickness (cm)');\n",
    "          \n",
    "# lns = lns1+lns2+lns3+lns4;\n",
    "# labs = [l.get_label() for l in lns];\n",
    "# ax2.legend(lns, labs, loc='best', fontsize=8);\n",
    "\n",
    "# ax.grid(linewidth=0.3);\n",
    "# ax.set_xlabel('Epochs', labelpad=6, fontsize=9);\n",
    "# #ax.set_ylabel('Loss', labelpad=6, fontsize=9)\n",
    "# #ax2.set_ylabel('Scaled Depth to Refusal (cm)', labelpad=6, fontsize=9)\n",
    "# plt.title('Number of Samples/Replicates: 95653', pad=12, fontsize=8, fontweight='ultralight');\n",
    "# plt.suptitle('Cost Function and Validation Loss from Thaw Depth Modeling in LSTM-AE Framework, Alaska [1969-2022]', fontsize=11);\n",
    "# plt.grid(linewidth=0.3);\n",
    "# #plt.show()\n",
    "# #plt.savefig('ALTstats_LSTM-AEmetrics_1969-2022.png', dpi=1000)\n"
   ]
  },
  {
   "cell_type": "code",
   "execution_count": null,
   "id": "273e9abf-77e9-4c6f-8236-ff32c01cae66",
   "metadata": {},
   "outputs": [],
   "source": [
    "# Get the predicted values\n",
    "yup_pred_scaled = model2.predict(testXscaltref)\n",
    "\n",
    "# Unscale the predicted values\n",
    "yup_pred = yscaleralt.inverse_transform(yup_pred_scaled.reshape(215137,1))\n",
    "yup_test_unscaled = yscaleralt.inverse_transform(testyscaltref.reshape(-1, 1))\n"
   ]
  },
  {
   "cell_type": "code",
   "execution_count": null,
   "id": "5156dc98-ffac-4621-8951-17a6d9499292",
   "metadata": {},
   "outputs": [],
   "source": [
    "plt.plot(yup_pred_scaled.reshape(215137,1))"
   ]
  },
  {
   "cell_type": "code",
   "execution_count": null,
   "id": "d470e8ab-f64b-4df0-951a-5d4f17d4e733",
   "metadata": {},
   "outputs": [],
   "source": [
    "plt.plot(yup_pred)"
   ]
  },
  {
   "cell_type": "code",
   "execution_count": null,
   "id": "ae63e995-3e92-489d-99ce-34300f846f65",
   "metadata": {},
   "outputs": [],
   "source": [
    "plt.plot(yup_test_unscaled)"
   ]
  },
  {
   "cell_type": "code",
   "execution_count": null,
   "id": "558aa94f-aadc-4f49-add2-0d3ddface3c4",
   "metadata": {},
   "outputs": [],
   "source": [
    "plt.plot(trainyalt.values)"
   ]
  },
  {
   "cell_type": "code",
   "execution_count": null,
   "id": "df776a9b-268d-43b5-beb1-c51778a4fd0e",
   "metadata": {},
   "outputs": [],
   "source": [
    "plt.plot(y_testco2_reframed.reshape(215137,1))\n",
    "plt.plot(predict.reshape(215137,1))\n",
    "#plt.axis([0, 130000, -2, 5])\n",
    "plt.show()"
   ]
  },
  {
   "cell_type": "code",
   "execution_count": null,
   "id": "25dd25bf-f877-425e-92ee-3be2adeee8d1",
   "metadata": {},
   "outputs": [],
   "source": []
  },
  {
   "cell_type": "code",
   "execution_count": null,
   "id": "9213f35d-f74d-4a27-a1ff-ecb38887ec8e",
   "metadata": {},
   "outputs": [],
   "source": [
    "train, test = X[0:-144], X[-144:]\n",
    "# walk-forward validation\n",
    "history = [x for x in train]"
   ]
  },
  {
   "cell_type": "code",
   "execution_count": null,
   "id": "56ff2b74-c92e-4312-83d8-98edf12b68c7",
   "metadata": {},
   "outputs": [],
   "source": [
    "from sklearn.metrics import accuracy_score\n",
    "print(\"Test accuracy for the unscaled ALT data\")\n",
    "print(f\"{accuracy_score(testyaltdfres, y_pred):.2%}\\n\")"
   ]
  },
  {
   "cell_type": "code",
   "execution_count": null,
   "id": "d3f6dd2d-bdaa-43ee-a53a-e540cab804aa",
   "metadata": {},
   "outputs": [],
   "source": [
    "testyaltdfres=pd.DataFrame(testyalt).to_numpy().reshape(215137, 1, 1)"
   ]
  },
  {
   "cell_type": "code",
   "execution_count": null,
   "id": "60c57d2d-f000-4176-a415-b6ae72a53ce5",
   "metadata": {},
   "outputs": [],
   "source": [
    "from sklearn.metrics import accuracy_score\n",
    "print(\"Test accuracy for the unscaled ALT data\")\n",
    "print(f\"{accuracy_score(testyaltdfres, y_pred):.2%}\\n\")\n",
    "print(\"Test accuracy for the standardized ALT data\")\n",
    "print(f\"{accuracy_score(testyscalt, y_pred_scaled):.2%}\\n\")"
   ]
  },
  {
   "cell_type": "code",
   "execution_count": null,
   "id": "94cb5979-5626-4645-bc7a-ec28168bb151",
   "metadata": {},
   "outputs": [],
   "source": []
  },
  {
   "cell_type": "code",
   "execution_count": null,
   "id": "ba65582e-1e96-4fca-ac78-d6a654720343",
   "metadata": {},
   "outputs": [],
   "source": [
    "trainXaltdfres=pd.DataFrame(trainXalt).to_numpy().reshape(1432318, 1, 273)"
   ]
  },
  {
   "cell_type": "code",
   "execution_count": null,
   "id": "169a2bcc-906a-4122-94f5-e5e16ea287da",
   "metadata": {},
   "outputs": [],
   "source": [
    "y_pred = model2.predict(trainXaltdfres)\n",
    "y_pred_scaled = model2.predict(testXscalt)"
   ]
  },
  {
   "cell_type": "code",
   "execution_count": null,
   "id": "9c5aa908-4ecd-4372-9c5e-d0baa7b8a520",
   "metadata": {},
   "outputs": [],
   "source": [
    "testyaltdfres=pd.DataFrame(testyalt).to_numpy().reshape(215137, 1, 1)"
   ]
  },
  {
   "cell_type": "code",
   "execution_count": null,
   "id": "be2e7f03-3218-4101-9fb5-1f4ccd91500c",
   "metadata": {},
   "outputs": [],
   "source": [
    "from sklearn.metrics import accuracy_score\n",
    "print(\"Test accuracy for the unscaled ALT data\")\n",
    "print(f\"{accuracy_score(testyaltdfres, y_pred):.2%}\\n\")\n",
    "print(\"Test accuracy for the standardized ALT data\")\n",
    "print(f\"{accuracy_score(testyscalt, y_pred_scaled):.2%}\\n\")"
   ]
  },
  {
   "cell_type": "code",
   "execution_count": null,
   "id": "ca1fae6d-2719-43d7-b2cd-8bdcbec86820",
   "metadata": {},
   "outputs": [],
   "source": []
  },
  {
   "cell_type": "code",
   "execution_count": null,
   "id": "04bb7d8b-46af-43cb-9cc1-30e1dde3b309",
   "metadata": {},
   "outputs": [],
   "source": [
    "Y_predicted_reframed = model2.predict(testXaltdfres, verbose = 1, use_multiprocessing = True)"
   ]
  },
  {
   "cell_type": "code",
   "execution_count": null,
   "id": "40390392-6659-4e44-ba94-54f6c08b0de7",
   "metadata": {},
   "outputs": [],
   "source": [
    "plt.plot(testyscalt)\n",
    "plt.plot(Y_predicted_reframed.reshape(215137,1))"
   ]
  },
  {
   "cell_type": "code",
   "execution_count": null,
   "id": "43d1b4a0-b78f-4c70-9bd1-57decaca1f5b",
   "metadata": {},
   "outputs": [],
   "source": [
    "Y_predicted_reframed = bayesian_best_model.predict(X_test_reframed,  batch_size = 384, verbose = 1, use_multiprocessing = True)\n",
    "\n",
    "Y_predicted_scaled = Y_predicted_reframed.reshape(Y_predicted_reframed.shape[0], Y_predicted_reframed.shape[1])\n",
    "\n",
    "Y_predicted = scaler_Y.inverse_transform(Y_predicted_scaled)"
   ]
  },
  {
   "cell_type": "code",
   "execution_count": null,
   "id": "02d0082f-0aa9-4915-9524-0be06240f184",
   "metadata": {},
   "outputs": [],
   "source": [
    "def plot_results(Y_test, Y_predicted, title = \"Test Data and Predictions\", index = None):\n",
    "    if index is None:\n",
    "        index = range(0, Y_test.shape[0])\n",
    "    df_index = pd.DataFrame(data = index, index = range(0, Y_test.shape[0]))\n",
    "    df_index.columns = [\"user_index\"]  \n",
    "\n",
    "    shift = Y_test.shape[0] - Y_predicted.shape[0]\n",
    "\n",
    "    fig, axes = plt.subplots(figsize = (9, 6), sharex = True, nrows = Y_test.shape[1], squeeze = False)\n",
    "    \n",
    "    for target, ax in enumerate(axes.flat):\n",
    "        ax.step(df_index.values, Y_test[:,target], where = \"post\", label = \"Testing Set\", color = \"blue\")\n",
    "        ax.step(df_index.loc[shift:, \"user_index\"].values, Y_predicted[:,target], where = \"post\", \n",
    "                label = \"Predictions\", color = \"red\")\n",
    "    \n",
    "    plt.suptitle(title)\n",
    "    plt.legend()"
   ]
  },
  {
   "cell_type": "code",
   "execution_count": null,
   "id": "fd687ab4-a9e1-46b8-85e7-007763a9988a",
   "metadata": {},
   "outputs": [],
   "source": [
    "plot_results(scaler_Y.inverse_transform(Y_test.values), Y_predicted, index = Y_test.index, \n",
    "             title = \"Active Layer Thickness /n Predictions v. Test Data \\n via 8-layer C1DLSTMSAE Network\")"
   ]
  },
  {
   "cell_type": "code",
   "execution_count": null,
   "id": "37798d15-ccdf-4cd5-b748-be2dbbb6de8c",
   "metadata": {},
   "outputs": [],
   "source": [
    "Y_predicted=Y_predicted.reshape(397492,)#;Y_test=Y_test.reshape(668168,)"
   ]
  },
  {
   "cell_type": "code",
   "execution_count": null,
   "id": "bd6ada55-b1c5-4989-b213-07eea091ba9c",
   "metadata": {},
   "outputs": [],
   "source": [
    "def qq_plot(Y_test, Y_predicted, title = \"Test Data and Predictions\", index = None):\n",
    "    if index is None:\n",
    "        index = range(0, Y_test.shape[0])\n",
    "    df_index = pd.DataFrame(data = index, index = range(0, Y_test.shape[0]))\n",
    "    df_index.columns = [\"user_index\"]  \n",
    "\n",
    "    shift = Y_test.shape[0] - Y_predicted.shape[0]\n",
    "\n",
    "    fig, axes = plt.subplots(figsize = (9, 6), sharex = True, nrows = Y_test.shape[1], squeeze = False)\n",
    "    \n",
    "    for target, ax in enumerate(axes.flat):\n",
    "        ax.scatter(Y_test[shift:,target], Y_predicted[:,target], label = \"Predictions\", color = \"red\", s = 5, \n",
    "                   alpha = 0.5)\n",
    "        ax.scatter(Y_test[:,target], Y_test[:,target], label = \"Testing Set\", color = \"blue\", s = 5)\n",
    "\n",
    "    plt.suptitle(title)\n",
    "    plt.legend()"
   ]
  },
  {
   "cell_type": "code",
   "execution_count": null,
   "id": "bdc79a97-a8b1-466f-a7a8-0409eae19795",
   "metadata": {},
   "outputs": [],
   "source": [
    "qq_plot(Y_test.values, Y_predicted_scaled, index = Y_test.index, \n",
    "        title = \"Active Layer Thickness /n Predictions v. Test Data via \\n 7-layer Sequential Time-Distributed C1DLSTMSAE Network\")"
   ]
  },
  {
   "cell_type": "code",
   "execution_count": null,
   "id": "65262414-caea-4379-8821-e3094fe6966e",
   "metadata": {},
   "outputs": [],
   "source": []
  },
  {
   "cell_type": "code",
   "execution_count": null,
   "id": "068405cf-e264-4a77-8a58-7d2e3ba8f770",
   "metadata": {},
   "outputs": [],
   "source": []
  },
  {
   "cell_type": "code",
   "execution_count": null,
   "id": "528aa361-0e17-4b81-ba51-206eccf9bfda",
   "metadata": {},
   "outputs": [],
   "source": [
    "Y_predicted_reframed = model.predict(X_test_reframed)\n",
    "Y_predicted = Y_predicted_reframed.reshape(Y_predicted_reframed.shape[0], Y_predicted_reframed.shape[1])"
   ]
  },
  {
   "cell_type": "code",
   "execution_count": null,
   "id": "8248b1e6-bb5d-4919-adc8-c07c0d6f9ea1",
   "metadata": {},
   "outputs": [],
   "source": [
    "import pandas as pd\n",
    "testim=pd.read_csv(r'/Users/bradleygay/test_store_ALT_2022.csv')"
   ]
  },
  {
   "cell_type": "code",
   "execution_count": null,
   "id": "730be922-54c8-466f-ba50-51986a372184",
   "metadata": {},
   "outputs": [],
   "source": [
    "testim.index=testim.iloc[:,0]"
   ]
  },
  {
   "cell_type": "code",
   "execution_count": null,
   "id": "48e203ba-4447-4746-8aa3-1a03a25d656b",
   "metadata": {},
   "outputs": [],
   "source": [
    "testim=testim.drop(testim.columns[0],axis=1)"
   ]
  },
  {
   "cell_type": "code",
   "execution_count": null,
   "id": "0bcce6f3-445b-4817-973f-bfefc047fd5e",
   "metadata": {},
   "outputs": [],
   "source": [
    "testim.index.name = None"
   ]
  },
  {
   "cell_type": "code",
   "execution_count": null,
   "id": "9fe94bcb-a33b-46dc-aafe-aa32231e4e22",
   "metadata": {},
   "outputs": [],
   "source": [
    "#testim.index=pd.to_datetime(testim.index, format='%Y')"
   ]
  },
  {
   "cell_type": "code",
   "execution_count": null,
   "id": "960825a8-c7bf-49dd-b30d-52797e576756",
   "metadata": {},
   "outputs": [],
   "source": [
    "testim=testim.sort_index()"
   ]
  },
  {
   "cell_type": "code",
   "execution_count": null,
   "id": "1dd0af5c-fc5f-4d0f-a8cf-f1d4e1788d06",
   "metadata": {},
   "outputs": [],
   "source": [
    "testim.index = pd.to_datetime(testim.index)"
   ]
  },
  {
   "cell_type": "code",
   "execution_count": null,
   "id": "82652914-5332-495b-a82f-813d6946f904",
   "metadata": {},
   "outputs": [],
   "source": [
    "testim"
   ]
  },
  {
   "cell_type": "code",
   "execution_count": null,
   "id": "ec80b350-c276-4950-b2b2-f9427dd5cf9d",
   "metadata": {},
   "outputs": [],
   "source": [
    "plt.plot(scaler_Y.inverse_transform(testim))"
   ]
  },
  {
   "cell_type": "code",
   "execution_count": null,
   "id": "ff699cd4-e264-4260-8782-670005cb513f",
   "metadata": {},
   "outputs": [],
   "source": [
    "plot_results(scaler_Y.inverse_transform(Y_test.values), scaler_Y.inverse_transform(Y_predicted),\n",
    "             index = Y_test.index, title = \"Active Layer Thickness - Predicteed v. Test Data\")"
   ]
  },
  {
   "cell_type": "code",
   "execution_count": null,
   "id": "37041884-8063-4f19-bcf4-1b18ef41a352",
   "metadata": {},
   "outputs": [],
   "source": [
    "test_scores = model.evaluate(X_test_reframed, Y_test[backward_steps:],\n",
    "                                           batch_size=hp[\"batch_size\"], use_multiprocessing=True,)"
   ]
  },
  {
   "cell_type": "code",
   "execution_count": null,
   "id": "da3491da-1e57-4cfb-a960-ed713c2fecd9",
   "metadata": {},
   "outputs": [],
   "source": [
    "def metrics_print(test_data,test_predict):\n",
    "    print('Test RMSE: ', round(np.sqrt(sklearn.metrics.mean_squared_error(test_data, test_predict)), 2))\n",
    "    print('Test R^2 : ', round((sklearn.metrics.r2_score(test_data, test_predict)*100), 2) ,\"%\")\n",
    "    print('Test MAPE: ', round(sklearn.metrics.mean_absolute_percentage_error(test_data, test_predict)*100,2), '%')"
   ]
  },
  {
   "cell_type": "code",
   "execution_count": null,
   "id": "38bacb58-683b-4c66-84d3-2526f85a83af",
   "metadata": {},
   "outputs": [],
   "source": [
    "print(\"##************** Linear Regression Results **************##\")\n",
    "metrics_print(prediction_df['Observed'], prediction_df['LR'])\n",
    "print(\" \")\n",
    "print(\" \")\n",
    "\n",
    "print(\"##************** Deep Learning Results **************##\")\n",
    "metrics_print(prediction_df['Observed'], prediction_df['DNN'])\n",
    "print(\" \")\n",
    "print(\" \")"
   ]
  },
  {
   "cell_type": "code",
   "execution_count": null,
   "id": "c757ea54-16b1-43bf-8512-f0c3c75bb1e0",
   "metadata": {},
   "outputs": [],
   "source": [
    "fa = plt.figure(figsize=(16,5))\n",
    "plt.subplot(1,2,1)\n",
    "plt.scatter(prediction_df['Observed'],prediction_df['LR'])\n",
    "plt.xlabel('True Values [snow_depth]', fontsize=15)\n",
    "plt.ylabel('Predictions [snow_depth]', fontsize=15)\n",
    "plt.title(\"Linear Regression\")\n",
    "\n",
    "\n",
    "plt.subplot(1,2,2)\n",
    "plt.scatter(prediction_df['Observed'],prediction_df['DNN'])\n",
    "plt.xlabel('True Values [snow_depth]', fontsize=15)\n",
    "plt.ylabel('Predictions [snow_depth]', fontsize=15)\n",
    "plt.title(\"Deep Neural Network\")"
   ]
  },
  {
   "cell_type": "code",
   "execution_count": null,
   "id": "b07ec522-6a4f-4e19-9c68-9fe455ccb933",
   "metadata": {},
   "outputs": [],
   "source": [
    "LR_error = prediction_df['Observed'] - prediction_df['LR']\n",
    "DNN_error = prediction_df['Observed'] - prediction_df['DNN']\n",
    "\n",
    "fa = plt.figure(figsize=(16,5))\n",
    "\n",
    "plt.subplot(1,2,1)\n",
    "LR_error.hist()\n",
    "plt.xlabel('Error', fontsize=15)\n",
    "plt.ylabel('Frequency', fontsize=15)\n",
    "plt.title(\"Linear Regression\")\n",
    "\n",
    "plt.subplot(1,2,2)\n",
    "DNN_error.hist()\n",
    "plt.xlabel('Error', fontsize=15)\n",
    "plt.ylabel('Frequency', fontsize=15)\n",
    "plt.title(\"Deep Neural Network\")"
   ]
  },
  {
   "cell_type": "code",
   "execution_count": null,
   "id": "697a50cd-a60c-48db-959e-63f996c13933",
   "metadata": {},
   "outputs": [],
   "source": []
  },
  {
   "cell_type": "code",
   "execution_count": null,
   "id": "51ec2ff0-eccd-4a84-95e3-8325c8cbfc6c",
   "metadata": {},
   "outputs": [],
   "source": [
    "trainXaltdfres=pd.DataFrame(trainXalt).to_numpy().reshape(1432318, 1, 273)"
   ]
  },
  {
   "cell_type": "code",
   "execution_count": null,
   "id": "b4f62468-46e6-425f-a119-f6ae4697d895",
   "metadata": {},
   "outputs": [],
   "source": [
    "y_pred = model2.predict(trainXaltdfres)\n",
    "y_pred_scaled = model2.predict(testXscalt)"
   ]
  },
  {
   "cell_type": "code",
   "execution_count": null,
   "id": "4c4c48e5-d27d-4b0a-ab36-74f331b2f191",
   "metadata": {},
   "outputs": [],
   "source": [
    "testyaltdfres=pd.DataFrame(testyalt).to_numpy().reshape(215137, 1, 1)"
   ]
  },
  {
   "cell_type": "code",
   "execution_count": null,
   "id": "c0af8a86-07c9-40ae-b658-af7cc39fb178",
   "metadata": {},
   "outputs": [],
   "source": [
    "from sklearn.metrics import accuracy_score\n",
    "print(\"Test accuracy for the unscaled ALT data\")\n",
    "print(f\"{accuracy_score(testyaltdfres, y_pred):.2%}\\n\")\n",
    "print(\"Test accuracy for the standardized ALT data\")\n",
    "print(f\"{accuracy_score(testyscalt, y_pred_scaled):.2%}\\n\")"
   ]
  },
  {
   "cell_type": "code",
   "execution_count": null,
   "id": "b435c19a-f56f-49b2-a580-a33447decfc9",
   "metadata": {},
   "outputs": [],
   "source": []
  },
  {
   "cell_type": "code",
   "execution_count": null,
   "id": "7ebbd010-f032-4ef8-8676-50b2588268e9",
   "metadata": {},
   "outputs": [],
   "source": [
    "#ALT\n",
    "plt.plot(yscaleralt.inverse_transform(testyscalt))"
   ]
  },
  {
   "cell_type": "code",
   "execution_count": null,
   "id": "84027832-e4a6-43dd-a33f-083489a0a6f6",
   "metadata": {},
   "outputs": [],
   "source": [
    "#CH4"
   ]
  },
  {
   "cell_type": "code",
   "execution_count": null,
   "id": "e96bec3b-a9ad-4de8-a561-838ba1245359",
   "metadata": {},
   "outputs": [],
   "source": [
    "#CO2"
   ]
  },
  {
   "cell_type": "code",
   "execution_count": null,
   "id": "14b9d028-a795-48c5-9d22-9cc42ad1599e",
   "metadata": {},
   "outputs": [],
   "source": []
  },
  {
   "cell_type": "code",
   "execution_count": null,
   "id": "1ebb07ab-e2f8-4c44-ac95-741eb171bf2b",
   "metadata": {},
   "outputs": [],
   "source": [
    "#alt_model.predict(testXscaltref, testyscaltref, verbose=1)"
   ]
  },
  {
   "cell_type": "code",
   "execution_count": null,
   "id": "2264e622-f84f-4ef0-9b05-192a4d1392c2",
   "metadata": {},
   "outputs": [],
   "source": [
    "one=np.concatenate((trainyalt.resample('Y').mean(), validyalt.resample('Y').mean()), axis=0)\n",
    "two=np.concatenate((one, testyalt.resample('Y').mean()), axis=0)"
   ]
  },
  {
   "cell_type": "code",
   "execution_count": null,
   "id": "54e22e2c-ae05-465d-96d4-a3a0df6266ef",
   "metadata": {},
   "outputs": [],
   "source": [
    "abc=pd.DataFrame(yscaler.inverse_transform(testyscaltpredres))\n",
    "#yscaler.inverse_transform(testyscaltpredres)"
   ]
  },
  {
   "cell_type": "code",
   "execution_count": null,
   "id": "a87bd64e-f01f-46d9-a02b-41c8a5e0ded5",
   "metadata": {},
   "outputs": [],
   "source": [
    "plt.plot(two)"
   ]
  },
  {
   "cell_type": "code",
   "execution_count": null,
   "id": "08acbbeb-9c41-43f0-ad14-1375770df5ac",
   "metadata": {},
   "outputs": [],
   "source": [
    "trainyalt.index"
   ]
  },
  {
   "cell_type": "code",
   "execution_count": null,
   "id": "b8df53f0-b5cc-4aba-8b40-2bd804ff2500",
   "metadata": {},
   "outputs": [],
   "source": [
    "three=pd.DataFrame(trainyscaltpredinv)\n",
    "#np.concatenate(trainyscaltpredinv, validyscaltpredinv)"
   ]
  },
  {
   "cell_type": "code",
   "execution_count": null,
   "id": "9ff672a0-e739-4819-9c4d-4362c47cfb6f",
   "metadata": {},
   "outputs": [],
   "source": [
    "three.index=trainyalt.index"
   ]
  },
  {
   "cell_type": "code",
   "execution_count": null,
   "id": "fbddfb25-9d0b-4d8b-ab0a-d285690ec604",
   "metadata": {},
   "outputs": [],
   "source": [
    "plt.plot(three)"
   ]
  },
  {
   "cell_type": "code",
   "execution_count": null,
   "id": "5c98ef50-a598-47d9-add1-364512927ab9",
   "metadata": {},
   "outputs": [],
   "source": [
    "two=np.concatenate(one, validyalt.resample('Y').mean()), axis=0)"
   ]
  },
  {
   "cell_type": "code",
   "execution_count": null,
   "id": "34801125",
   "metadata": {},
   "outputs": [],
   "source": [
    "one=np.concatenate((trainyalt.resample('Y').mean(), validyalt.resample('Y').mean()), axis=0)"
   ]
  },
  {
   "cell_type": "code",
   "execution_count": null,
   "id": "9c3fd497-e445-461e-8dc5-db5d1807aefc",
   "metadata": {},
   "outputs": [],
   "source": [
    "plt.plot(one)"
   ]
  },
  {
   "cell_type": "code",
   "execution_count": null,
   "id": "f9bc1f51-48b7-47c7-bbf5-3f068d96b792",
   "metadata": {},
   "outputs": [],
   "source": [
    "plt.plot(trainyalt.resample('Y').mean())\n",
    "plt.plot(validyalt.resample('Y').mean())\n",
    "plt.plot(testyalt.resample('Y').mean())"
   ]
  },
  {
   "cell_type": "code",
   "execution_count": null,
   "id": "f0666d04-be72-499a-bfc3-d76f91b03a76",
   "metadata": {},
   "outputs": [],
   "source": [
    "# make predictions\n",
    "trainPredict = model.predict(trainX)\n",
    "testPredict = model.predict(testX)\n",
    "# invert predictions\n",
    "trainPredict = scaler.inverse_transform(trainPredict)\n",
    "trainY = scaler.inverse_transform([trainY])\n",
    "testPredict = scaler.inverse_transform(testPredict)\n",
    "testY = scaler.inverse_transform([testY])\n",
    "# calculate root mean squared error\n",
    "trainScore = math.sqrt(mean_squared_error(trainY[0], trainPredict[:,0]))\n",
    "print('Train Score: %.2f RMSE' % (trainScore))\n",
    "testScore = math.sqrt(mean_squared_error(testY[0], testPredict[:,0]))\n",
    "print('Test Score: %.2f RMSE' % (testScore))\n",
    "#-----Visualize---------- \n",
    "# shift train predictions for plotting\n",
    "trainPredictPlot = numpy.empty_like(dataset)\n",
    "trainPredictPlot[:, :] = numpy.nan\n",
    "trainPredictPlot[look_back:len(trainPredict)+look_back, :] = trainPredict\n",
    "# shift test predictions for plotting\n",
    "testPredictPlot = numpy.empty_like(dataset)\n",
    "testPredictPlot[:, :] = numpy.nan\n",
    "testPredictPlot[len(trainPredict)+(look_back*2)+1:len(dataset)-1, :] = testPredict\n",
    "# plot baseline and predictions\n",
    "plt.plot(scaler.inverse_transform(dataset))\n",
    "plt.plot(trainPredictPlot)\n",
    "plt.plot(testPredictPlot)\n",
    "plt.show()"
   ]
  },
  {
   "cell_type": "code",
   "execution_count": null,
   "id": "f31274da-4d49-4e35-bb27-021bbdc3424e",
   "metadata": {},
   "outputs": [],
   "source": [
    "#df['ALT']['2021':].shape\n",
    "#1432321/2441240#0.5867186347921548\n",
    "#793782/2441240#0.325155248971834\n",
    "#215137/2441240#0.0881261162360112"
   ]
  },
  {
   "cell_type": "code",
   "execution_count": null,
   "id": "6d2d1c78-a359-4127-aa2c-bf91d35c6108",
   "metadata": {},
   "outputs": [],
   "source": [
    "# plt.plot(df.ALT['1970':'2017'][1:].to_numpy().reshape(1432317,1), trainyalt)\n",
    "# plt.plot(df.ALT['2018':'2020'].values, validyalt)\n",
    "# plt.plot(df.ALT['2021':][1:].to_numpy().reshape(215136,1), testyalt)\n",
    "# plt.show()"
   ]
  },
  {
   "cell_type": "code",
   "execution_count": null,
   "id": "9ae3bb12-6cbd-4baf-a176-16a7c9a55476",
   "metadata": {},
   "outputs": [],
   "source": [
    "# plt.figure(figsize=(10,6))\n",
    "# plt.plot(trainyscalt, label='train')\n",
    "# plt.plot(trainyscaltpredres, label='trainpred')\n",
    "# plt.plot(validyscalt, label='valid')\n",
    "# plt.plot(validyscaltpredres, label='validpred')\n",
    "# plt.plot(testyscalt, label='test')\n",
    "# plt.plot(testyscaltpredres, label='testpred')\n",
    "# plt.legend()\n",
    "# #plt.axis(xmin=0, xmax=250000)"
   ]
  },
  {
   "cell_type": "code",
   "execution_count": null,
   "id": "3a47ea40-5aad-4481-bdf0-5c1ee882670a",
   "metadata": {},
   "outputs": [],
   "source": [
    "testXscalt"
   ]
  },
  {
   "cell_type": "code",
   "execution_count": null,
   "id": "f4518559-6d49-4755-b696-7e092a586085",
   "metadata": {},
   "outputs": [],
   "source": [
    "from sklearn import metrics\n",
    "metrics.r2_score(testyscalt, testyscaltpred)"
   ]
  },
  {
   "cell_type": "code",
   "execution_count": null,
   "id": "8e410ef8-1c35-4b40-a398-90c625cbee1a",
   "metadata": {},
   "outputs": [],
   "source": [
    "#invyhat=np.concatenate((testyscaltpredres,testXscalt[:,-1:]),axis=1)"
   ]
  },
  {
   "cell_type": "code",
   "execution_count": null,
   "id": "e375d43a-5234-4978-a178-1f1668d64dd1",
   "metadata": {},
   "outputs": [],
   "source": [
    "#invyhat=yscaler.inverse_transform(invyhat)[:,0]"
   ]
  },
  {
   "cell_type": "code",
   "execution_count": null,
   "id": "f6512303-484a-4da4-87ca-9efb878e8876",
   "metadata": {},
   "outputs": [],
   "source": [
    "#invy=np.concatenate((testyscalt.reshape((len(testyscalt), 1)),testXscalt[:,1:]),axis=1)"
   ]
  },
  {
   "cell_type": "code",
   "execution_count": null,
   "id": "76d686a0-6e01-42ec-a64d-464e0165e0e4",
   "metadata": {},
   "outputs": [],
   "source": [
    "#invy=yscaler.inverse_transform(invy)[:,0]"
   ]
  },
  {
   "cell_type": "code",
   "execution_count": null,
   "id": "cbe6ac5a-b5a1-46f4-b958-595a274120d0",
   "metadata": {},
   "outputs": [],
   "source": [
    "#rmse = np.sqrt(mean_squared_error(invy, invyhat))\n",
    "#print('Test RMSE: %.3f' % rmse)"
   ]
  },
  {
   "cell_type": "code",
   "execution_count": null,
   "id": "03d5c209-7ecc-4fda-9200-c386b33cdf7f",
   "metadata": {},
   "outputs": [],
   "source": [
    "# yhat = model3.predict(test_X)\n",
    "# test_X = test_X.reshape((test_X.shape[0], test_X.shape[2]))\n",
    "# # invert scaling for forecast\n",
    "# inv_yhat = concatenate((yhat, test_X[:, 1:]), axis=1)\n",
    "# inv_yhat = scaler.inverse_transform(inv_yhat)\n",
    "# inv_yhat = inv_yhat[:,0]\n",
    "# # invert scaling for actual\n",
    "# test_y = test_y.reshape((len(test_y), 1))\n",
    "# inv_y = concatenate((test_y, test_X[:, 1:]), axis=1)\n",
    "# inv_y = scaler.inverse_transform(inv_y)\n",
    "# inv_y = inv_y[:,0]\n",
    "# # calculate RMSE\n",
    "# rmse = sqrt(mean_squared_error(inv_y, inv_yhat))\n",
    "# print('Test RMSE: %.3f' % rmse)"
   ]
  },
  {
   "cell_type": "code",
   "execution_count": null,
   "id": "1a08324b-16b7-47b0-abf5-e67f9a18c114",
   "metadata": {},
   "outputs": [],
   "source": [
    "trainXalt.shape, trainXscalt.shape, trainXscaltref.shape"
   ]
  },
  {
   "cell_type": "code",
   "execution_count": null,
   "id": "26017fc0-e6e9-4932-aa20-874f9e1fb705",
   "metadata": {},
   "outputs": [],
   "source": [
    "trainyscaltpredres=trainyscaltpred.reshape(1432317,1)\n",
    "validyscaltpredres=validyscaltpred.reshape(793782,1)\n",
    "testyscaltpredres=testyscaltpred.reshape(215136,1)"
   ]
  },
  {
   "cell_type": "code",
   "execution_count": null,
   "id": "8350a4cc-493b-4012-b3db-f5f3c0e7832d",
   "metadata": {},
   "outputs": [],
   "source": [
    "#print(list(trainXalt.columns))"
   ]
  },
  {
   "cell_type": "code",
   "execution_count": null,
   "id": "f63939eb-18eb-4ebe-948e-aaa1dc688faf",
   "metadata": {},
   "outputs": [],
   "source": [
    "#ind=testyalt.index.values\n",
    "#ind=trainyalt.index.values\n",
    "ind=validyalt.index.values"
   ]
  },
  {
   "cell_type": "code",
   "execution_count": null,
   "id": "98dbf7d3-46fd-46a3-b226-a4509b5f21d7",
   "metadata": {},
   "outputs": [],
   "source": [
    "plt.figure(figsize=(10,6))\n",
    "plt.plot(ind,yscaler.inverse_transform(trainyscalt))\n",
    "plt.plot(ind,yscaler.inverse_transform(trainyscaltpredres))\n",
    "plt.show()"
   ]
  },
  {
   "cell_type": "code",
   "execution_count": null,
   "id": "dd80967b-f805-4aa3-8779-14cf725b891d",
   "metadata": {},
   "outputs": [],
   "source": [
    "plt.figure(figsize=(10,6))\n",
    "plt.plot(ind,yscaler.inverse_transform(validyscalt))\n",
    "plt.plot(ind,yscaler.inverse_transform(validyscaltpredres))\n",
    "plt.show()"
   ]
  },
  {
   "cell_type": "code",
   "execution_count": null,
   "id": "2e88954e-c284-4e6e-b9eb-6ce0edee7a80",
   "metadata": {},
   "outputs": [],
   "source": [
    "plt.figure(figsize=(10,6))\n",
    "plt.plot(ind,yscaler.inverse_transform(testyscalt))\n",
    "plt.plot(ind,yscaler.inverse_transform(testyscaltpredres))\n",
    "plt.show()"
   ]
  },
  {
   "cell_type": "code",
   "execution_count": null,
   "id": "4229187b-384f-48f6-80c9-490d539205d9",
   "metadata": {},
   "outputs": [],
   "source": []
  },
  {
   "cell_type": "code",
   "execution_count": null,
   "id": "71f36674-f719-4f04-bb80-0ac3bb074d43",
   "metadata": {},
   "outputs": [],
   "source": [
    "trainyscaltpredinv=yscaler.inverse_transform(trainyscaltpredres)\n",
    "validyscaltpredinv=yscaler.inverse_transform(validyscaltpredres)"
   ]
  },
  {
   "cell_type": "code",
   "execution_count": null,
   "id": "fce6e31c-210d-4208-aff2-0a234f379ec3",
   "metadata": {},
   "outputs": [],
   "source": [
    "trainyscaltpredinv.shape, validyscaltpredinv.shape"
   ]
  },
  {
   "cell_type": "code",
   "execution_count": null,
   "id": "30e2e909-97a6-4807-bd6b-9ff09aff53a2",
   "metadata": {},
   "outputs": [],
   "source": [
    "from sklearn.metrics import mean_squared_error, r2_score\n",
    "print(mean_squared_error(trainyalt, trainyscaltpredinv))"
   ]
  },
  {
   "cell_type": "code",
   "execution_count": null,
   "id": "847e36ca-820f-4363-8699-ceb10989268b",
   "metadata": {},
   "outputs": [],
   "source": [
    "from sklearn.metrics import mean_squared_error, r2_score\n",
    "print(mean_squared_error(train, y_train_pred))"
   ]
  },
  {
   "cell_type": "markdown",
   "id": "fa7b5c05-26d8-4df5-a719-255c3bc76479",
   "metadata": {
    "jp-MarkdownHeadingCollapsed": true,
    "tags": []
   },
   "source": [
    "## Exploratory Plots (Active Layer Thickness, Carbon Dioxide, Methane)"
   ]
  },
  {
   "cell_type": "code",
   "execution_count": null,
   "id": "094a1a29-95af-4b8f-9cea-7222c0166a2b",
   "metadata": {},
   "outputs": [],
   "source": [
    "# fig,ax=plt.subplots(figsize=(10,7));\n",
    "# #lns1=ax.plot(history2.history['loss'], color='dodgerblue', label='Loss, ALT (cm)');\n",
    "# lns2=ax.plot(history2.history['mean_squared_error'], color='dodgerblue', linestyle='solid', label='RMSE, ALT (cm)');\n",
    "# ax2=ax.twinx();\n",
    "# #lns3=ax2.plot(history2.history['val_loss'], color='gold', label='Validation Loss, ALT (cm)');\n",
    "# lns4=ax2.plot(history2.history['val_mean_squared_error'], color='gold', linestyle='solid', label='Validation RMSE, ALT (cm)');\n",
    "          \n",
    "# lns = lns2+lns4; #lns1+lns2+lns3+lns4;\n",
    "# labs = [l.get_label() for l in lns];\n",
    "# ax2.legend(lns, labs, loc='best', fontsize=8);\n",
    "\n",
    "# ax.grid(linewidth=0.3);\n",
    "# ax.set_xlabel('Epochs', labelpad=12, fontsize=10);\n",
    "# ax.set_ylabel('Scaled Depth to Refusal (cm)', labelpad=12, fontsize=10);\n",
    "# #ax2.set_ylabel('Scaled Depth to Refusal (cm)', labelpad=6, fontsize=9)\n",
    "# plt.title('Number of Samples/Replicates: 95653', pad=15, fontsize=12, fontweight='ultralight');\n",
    "# plt.suptitle('Cost Function and Validation Loss from Thaw Depth Modeling, GeoCryoAI Framework in Alaska [1969-2022]', fontsize=14);\n",
    "# plt.grid(linewidth=0.3);\n",
    "# #plt.show()\n",
    "# #plt.savefig('ALTstats_CNNLSTMSAEmetrics_1969-2022_021323.png', dpi=1000)\n"
   ]
  },
  {
   "cell_type": "code",
   "execution_count": null,
   "id": "7f430685-332d-47ba-825e-f7eff7022c38",
   "metadata": {},
   "outputs": [],
   "source": [
    "# fig,ax=plt.subplots(figsize=(10,7));\n",
    "# lns1=ax.plot(history.history['loss'], color='dodgerblue', label='Loss, Carbon Dioxide Mole Fraction (µmolCO2mol-1ms-1)');\n",
    "# lns2=ax.plot(history.history['root_mean_squared_error'], color='dodgerblue', linestyle='dotted', label='RMSE, Carbon Dioxide Mole Fraction (µmolCO2mol-1m)');\n",
    "# ax2=ax.twinx();\n",
    "# lns3=ax2.plot(history.history['val_loss'], color='gold', label='Validation Loss, Active Layer Thickness (cm)');\n",
    "# lns4=ax2.plot(history.history['val_root_mean_squared_error'], color='gold', linestyle='dotted', label='Validation RMSE, Carbon Dioxide Mole Fraction (µmolCO2mol-1m)');\n",
    "          \n",
    "# lns = lns1+lns2+lns3+lns4;\n",
    "# labs = [l.get_label() for l in lns];\n",
    "# ax2.legend(lns, labs, loc='best', fontsize=8);\n",
    "\n",
    "# ax.grid(linewidth=0.3);\n",
    "# ax.set_xlabel('Epochs', labelpad=6, fontsize=9);\n",
    "# #ax.set_ylabel('Loss', labelpad=6, fon#tsize=9)\n",
    "# #ax2.set_ylabel('Scaled Depth to Refusal (cm)', labelpad=6, fontsize=9)\n",
    "# plt.title('Number of Samples/Replicates: 95653', pad=12, fontsize=8, fontweight='ultralight');\n",
    "# plt.suptitle('Cost Function and Validation Loss from Carbon Dioxide Mole Fraction Modeling in LSTM-AE Framework, Alaska [1969-2022]', fontsize=11);\n",
    "# plt.grid(linewidth=0.3);\n",
    "# #plt.show()\n",
    "# #plt.savefig('ALTstats_LSTM-AEmetrics_1969-2022-x2.png', dpi=1000)\n"
   ]
  },
  {
   "cell_type": "code",
   "execution_count": null,
   "id": "073efb31-448e-4e35-91d8-da93aa304ac9",
   "metadata": {},
   "outputs": [],
   "source": [
    "# fig,ax=plt.subplots(figsize=(10,5));\n",
    "# lns1=ax.plot(history.history['loss'], color='dodgerblue', label='Loss, Methane Flux (nmolCO2m-2s)');\n",
    "# lns2=ax.plot(history.history['root_mean_squared_error'], color='dodgerblue', linestyle='dotted', label='RMSE, Methane Flux (nmolCO2m-2s)');\n",
    "# ax2=ax.twinx();\n",
    "# lns3=ax2.plot(history.history['val_loss'], color='gold', label='Validation Loss, Active Layer Thickness (cm)');\n",
    "# lns4=ax2.plot(history.history['val_root_mean_squared_error'], color='gold', linestyle='dotted', label='Validation RMSE, Methane Flux (nmolCO2m-2s)');\n",
    "          \n",
    "# lns = lns1+lns2+lns3+lns4;\n",
    "# labs = [l.get_label() for l in lns];\n",
    "# ax2.legend(lns, labs, loc='best', fontsize=8);\n",
    "\n",
    "# ax.grid(linewidth=0.3);\n",
    "# ax.set_xlabel('Epochs', labelpad=6, fontsize=9);\n",
    "# #ax.set_ylabel('Loss', labelpad=6, fon#tsize=9)\n",
    "# #ax2.set_ylabel('Scaled Depth to Refusal (cm)', labelpad=6, fontsize=9)\n",
    "# plt.title('Number of Samples/Replicates: 120539', pad=12, fontsize=8, fontweight='ultralight');\n",
    "# plt.suptitle('Cost Function and Validation Loss from Methane Flux Modeling in LSTM-AE Framework, Alaska [2015-2018]', fontsize=11);\n",
    "# plt.grid(linewidth=0.3);\n",
    "# #plt.show()\n",
    "# #plt.savefig('ALTstats_LSTM-AEmetrics_1969-2022-x2.png', dpi=1000)\n"
   ]
  },
  {
   "cell_type": "code",
   "execution_count": null,
   "id": "3a700a29-707d-4928-a1e9-5c299710823d",
   "metadata": {},
   "outputs": [],
   "source": [
    "test=alt.loc[\"2022\"].replace(-9999,np.nan).dropna().values"
   ]
  },
  {
   "cell_type": "code",
   "execution_count": null,
   "id": "a9563821-e796-4426-9ba0-4e000682e2e5",
   "metadata": {},
   "outputs": [],
   "source": [
    "test=np.reshape(test, (test.shape[0], test.shape[1], 1))"
   ]
  },
  {
   "cell_type": "code",
   "execution_count": null,
   "id": "4b7c5e7a-546f-423c-9af3-44b0392cab1e",
   "metadata": {},
   "outputs": [],
   "source": [
    "testX=test"
   ]
  },
  {
   "cell_type": "code",
   "execution_count": null,
   "id": "77b2dc55-9d76-4b29-ae31-e1863452d854",
   "metadata": {},
   "outputs": [],
   "source": [
    "testy=np.reshape(test, (test.shape[0],))"
   ]
  },
  {
   "cell_type": "code",
   "execution_count": null,
   "id": "caf0c2b1-d66a-4ff8-ac35-215b78a103b4",
   "metadata": {},
   "outputs": [],
   "source": [
    "#X_test.shape, y_test.shape"
   ]
  },
  {
   "cell_type": "code",
   "execution_count": null,
   "id": "0bd7906c-4a77-4ba3-8852-e5fd91e97d44",
   "metadata": {},
   "outputs": [],
   "source": [
    "testX.shape, testy.shape"
   ]
  },
  {
   "cell_type": "code",
   "execution_count": null,
   "id": "8d8fab64-5c20-42b6-b7ec-57e0d7d9e42a",
   "metadata": {},
   "outputs": [],
   "source": [
    "model.evaluate(X_testsc,y_testsc)\n",
    "#Not an accurate depiction due to scaling; must invert prior to quantifying error"
   ]
  },
  {
   "cell_type": "code",
   "execution_count": null,
   "id": "07d14d11-4a59-4f1a-bb71-41b7b114dd7f",
   "metadata": {},
   "outputs": [],
   "source": [
    "# train_Xt=np.array(trainX).reshape(1772962,1)\n",
    "# train_yt=np.array(trainY).reshape(1772962,)\n",
    "# valid_Xt=np.array(validX).reshape(453143,1)\n",
    "# valid_yt=np.array(validY).reshape(453143,)\n",
    "# test_Xt=np.array(testX).reshape(215135,1)\n",
    "# test_yt=np.array(testY).reshape(215135,)"
   ]
  },
  {
   "cell_type": "code",
   "execution_count": null,
   "id": "3cf1948f-3be7-4cd2-a75f-7c14cb07aa7b",
   "metadata": {},
   "outputs": [],
   "source": [
    "# lin_reg = linear_model.LinearRegression()\n",
    "# # train model\n",
    "# lin_reg.fit(train_Xt,train_yt)\n",
    "# # predict\n",
    "# y_train_pred = lin_reg.predict(train_Xt)\n",
    "# y_valid_pred = lin_reg.predict(valid_Xt)\n",
    "# y_test_pred = lin_reg.predict(test_Xt)\n",
    "# # Plot predictions\n",
    "# fig=plt.figure()\n",
    "# plt.scatter(y_train_pred, train_yt, c = \"blue\", marker = \"s\", label = \"Training data\")\n",
    "# plt.scatter(y_valid_pred, valid_yt, c = \"magenta\", marker = \"s\", label = \"Validation data\")\n",
    "# plt.scatter(y_test_pred, test_yt, c = \"lightgreen\", marker = \"s\", label = \"Testing data\")\n",
    "# plt.legend()\n",
    "# plt.show()"
   ]
  },
  {
   "cell_type": "code",
   "execution_count": null,
   "id": "498a72bf-86ee-47b2-8838-399503b77452",
   "metadata": {},
   "outputs": [],
   "source": [
    "# from sklearn.metrics import mean_squared_error\n",
    "# error =np.sqrt(mean_squared_error(valid_yt, y_valid_pred))\n",
    "# print(error)"
   ]
  },
  {
   "cell_type": "code",
   "execution_count": null,
   "id": "de3b2cb7-cc3e-4fdb-a67f-5584bc5ed50d",
   "metadata": {},
   "outputs": [],
   "source": [
    "# prediction=lin_reg.predict(valid_Xt)"
   ]
  },
  {
   "cell_type": "code",
   "execution_count": null,
   "id": "e59dc8b3-834a-46cc-b60d-e5d26f51408b",
   "metadata": {},
   "outputs": [],
   "source": [
    "# plt.plot(valid_yt, linestyle='dotted');\n",
    "# plt.plot(prediction, linestyle='dotted');"
   ]
  },
  {
   "cell_type": "code",
   "execution_count": null,
   "id": "9e527500-2620-42ff-b246-8f99af33250b",
   "metadata": {},
   "outputs": [],
   "source": [
    "plt.figure()\n",
    "plt.ylabel('loss'); plt.xlabel('epoch')\n",
    "plt.semilogy(history.history['loss'])"
   ]
  },
  {
   "cell_type": "code",
   "execution_count": null,
   "id": "053b4297-3dfb-4847-bf85-f4cab0e96f98",
   "metadata": {},
   "outputs": [],
   "source": [
    "axes=plt.axes()\n",
    "#axes.plot(pd.DataFrame(history.history)['loss'], label='Loss')\n",
    "axes.plot(pd.DataFrame(history.history)['val_loss'], label='Validation Loss')\n",
    "axes.legend(loc=0)\n",
    "axes.set_title('Model fitting performance')"
   ]
  },
  {
   "cell_type": "code",
   "execution_count": null,
   "id": "cf1dd30e-bb48-4bc1-8c57-fb29bc08a0db",
   "metadata": {},
   "outputs": [],
   "source": [
    "#1,#3\n",
    "axes=plt.axes()\n",
    "axes.plot(pd.DataFrame(history.history)['loss'], label='Loss')\n",
    "axes.plot(pd.DataFrame(history.history)['val_loss'], label='Validation Loss')\n",
    "axes.legend(loc=0)\n",
    "axes.set_title('Model fitting performance')"
   ]
  },
  {
   "cell_type": "code",
   "execution_count": null,
   "id": "1f2e40cc-bd9a-4429-8dfb-73acd32efa24",
   "metadata": {},
   "outputs": [],
   "source": [
    "sc=StandardScaler()\n",
    "sc.fit_transform(alt)\n",
    "newtest=alt.loc[\"2020\":\"2022\":,:].values\n",
    "newtest=sc.transform(np.reshape(alt.loc[\"2020\":\"2022\":,:].values, (-1, 1)))\n",
    "newtest=np.reshape(newtest, (newtest.shape[0],newtest.shape[1],1))"
   ]
  },
  {
   "cell_type": "code",
   "execution_count": null,
   "id": "77bd4856-b213-4b9b-aeb7-851b9be279b1",
   "metadata": {},
   "outputs": [],
   "source": [
    "newtest.shape"
   ]
  },
  {
   "cell_type": "code",
   "execution_count": null,
   "id": "b67c048c-7d6d-4ed6-90d8-4b0e019866e4",
   "metadata": {},
   "outputs": [],
   "source": [
    "preds=model.predict(newtest)"
   ]
  },
  {
   "cell_type": "code",
   "execution_count": null,
   "id": "410b40e9-b6e6-4778-af5a-dac0fe099198",
   "metadata": {},
   "outputs": [],
   "source": [
    "preds=preds.reshape(11050,1)\n",
    "unspreds=sc.inverse_transform(preds)"
   ]
  },
  {
   "cell_type": "code",
   "execution_count": null,
   "id": "9ed4bfd1-134b-4f75-829b-2a26a548c91f",
   "metadata": {},
   "outputs": [],
   "source": [
    "plt.plot(unspreds, color = '#135485', linestyle='solid', label = \"Predictions\")\n",
    "plt.plot(alt.loc[\"2020\":\"2022\":,:].values, color = 'pink', linestyle='dotted', label = \"Real Data\")"
   ]
  },
  {
   "cell_type": "code",
   "execution_count": null,
   "id": "a8e01858-08c9-4436-82ea-78dfafc8d365",
   "metadata": {},
   "outputs": [],
   "source": [
    "newtest=alt.loc[\"2020\":\"2022\":,:].values\n",
    "testScore = np.sqrt(keras.losses.mean_squared_error(newtest[0], unspreds[:,0]))\n",
    "print('Test Score: %.6f RMSE' % (testScore))"
   ]
  },
  {
   "cell_type": "code",
   "execution_count": null,
   "id": "ce3c7d89-6095-4f64-94d6-dc867b21073f",
   "metadata": {},
   "outputs": [],
   "source": []
  },
  {
   "cell_type": "code",
   "execution_count": null,
   "id": "abf7f462-6e20-4dd2-9c77-c3e46dc037c2",
   "metadata": {},
   "outputs": [],
   "source": [
    "sc=StandardScaler()\n",
    "sc.fit_transform(alt)\n",
    "#make predictions\n",
    "trainPredict = model.predict(trainX)\n",
    "validPredict = model.predict(validX)\n",
    "#invert predictions\n",
    "trainPredict=trainPredict.reshape(68801,1)\n",
    "validPredict=validPredict.reshape(18902,1)\n",
    "trainy=trainy.reshape(68801,)\n",
    "validy=validy.reshape(18902,)\n",
    "trainPredict = sc.inverse_transform(trainPredict)\n",
    "trainy = sc.inverse_transform([trainy])\n",
    "validPredict = sc.inverse_transform(validPredict)\n",
    "validy = sc.inverse_transform([validy])"
   ]
  },
  {
   "cell_type": "code",
   "execution_count": null,
   "id": "73488833-9e8d-4c70-a46c-9e07fb4d470a",
   "metadata": {},
   "outputs": [],
   "source": [
    "# calculate root mean squared error\n",
    "trainScore = np.sqrt(keras.losses.mean_squared_error(trainy[0], trainPredict[:,0]))\n",
    "print('Train Score: %.6f RMSE' % (trainScore))\n",
    "validScore = np.sqrt(keras.losses.mean_squared_error(validy[0], validPredict[:,0]))\n",
    "print('Valid Score: %.6f RMSE' % (validScore))"
   ]
  },
  {
   "cell_type": "code",
   "execution_count": null,
   "id": "42ca2e95-494a-4d3a-a9d6-e53b5c6ce4ac",
   "metadata": {},
   "outputs": [],
   "source": [
    "test=altsc.loc[\"2020\":\"2022\"]"
   ]
  },
  {
   "cell_type": "code",
   "execution_count": null,
   "id": "f456c762-4bac-4675-9b29-96f04acb57c3",
   "metadata": {},
   "outputs": [],
   "source": [
    "test.values"
   ]
  },
  {
   "cell_type": "code",
   "execution_count": null,
   "id": "1f6b5297-4715-4221-854b-c63fa5a3d315",
   "metadata": {},
   "outputs": [],
   "source": [
    "testPredict=model.predict(test.values.reshape(3363,1,1))\n",
    "testPredict=testPredict.reshape(3363,1)\n",
    "testy=test.values.reshape(3363,)\n",
    "testPredict=sc.inverse_transform(testPredict)\n",
    "testy=sc.inverse_transform([testy])\n",
    "testScore = np.sqrt(keras.losses.mean_squared_error(testy[0], testPredict[:,0]))\n",
    "print('Test Score: %.6f RMSE' % (testScore))"
   ]
  },
  {
   "cell_type": "code",
   "execution_count": null,
   "id": "cd894c29-6da7-4e7b-bb91-fdaec19539e8",
   "metadata": {},
   "outputs": [],
   "source": [
    "trainPredict.shape, validPredict.shape, testPredict.shape"
   ]
  },
  {
   "cell_type": "code",
   "execution_count": null,
   "id": "9abdeaf3-7963-4067-9336-615cccb5c821",
   "metadata": {},
   "outputs": [],
   "source": [
    "#plt.plot(trainX.reshape(68801,1))\n",
    "#plt.plot(validX.reshape(18902,1))\n",
    "plt.plot(trainPredict.reshape(68801,1))\n",
    "plt.plot(validPredict.reshape(18902,1))\n",
    "plt.plot(testPredict.reshape(3363,1))"
   ]
  },
  {
   "cell_type": "code",
   "execution_count": null,
   "id": "75baaa10-8c0f-41aa-b453-c199fff3a25d",
   "metadata": {},
   "outputs": [],
   "source": [
    "testPredict=testPredict.reshape(11050,1)"
   ]
  },
  {
   "cell_type": "code",
   "execution_count": null,
   "id": "d7d6b3fa-71e9-413e-8262-2f5ccf16c6c5",
   "metadata": {},
   "outputs": [],
   "source": [
    "testScore = np.sqrt(keras.losses.mean_squared_error(testX[0], testPredict[:,0]))\n",
    "print('Test Score: %.6f RMSE' % (testScore))"
   ]
  },
  {
   "cell_type": "code",
   "execution_count": null,
   "id": "0054c22c-67ac-4b8f-8aa4-9a7b62cf7014",
   "metadata": {},
   "outputs": [],
   "source": [
    "# make predictions\n",
    "trainPredict = model.predict(trainX)\n",
    "validPredict = model.predict(validX)\n",
    "testPredict = model.predict(testX)"
   ]
  },
  {
   "cell_type": "code",
   "execution_count": null,
   "id": "1ff2d762-a7a3-47a3-871d-a3986e646eb7",
   "metadata": {},
   "outputs": [],
   "source": [
    "trainPredict.shape, validPredict.shape, testPredict.shape"
   ]
  },
  {
   "cell_type": "code",
   "execution_count": null,
   "id": "a017cb9c-1166-4385-95ee-baa3df25a145",
   "metadata": {},
   "outputs": [],
   "source": [
    "# # make predictions\n",
    "# #test_Xt=np.array(test_X)\n",
    "# #test_yt=np.array(test_y)\n",
    "# trainPredict.shape, testPredict.shape\n",
    "# trainPredict=trainPredict.reshape(68801,1)\n",
    "# validPredict=validPredict.reshape(18902,1)\n",
    "# testPredict=testPredict.reshape(11050,1)\n",
    "# trainPredict.shape, testPredict.shape, validPredict.shape"
   ]
  },
  {
   "cell_type": "code",
   "execution_count": null,
   "id": "8dc74d75-6727-43d5-a114-68b4c1eae484",
   "metadata": {},
   "outputs": [],
   "source": [
    "# # make predictions\n",
    "# #test_Xt=np.array(test_X)\n",
    "# #test_yt=np.array(test_y)\n",
    "# trainPredict.shape, testPredict.shape\n",
    "# trainPredict=trainPredict.reshape(298498,1)\n",
    "# validPredict=validPredict.reshape(144987,1)\n",
    "# testPredict=testPredict.reshape(103616,1)\n",
    "# trainPredict.shape, testPredict.shape, validPredict.shape"
   ]
  },
  {
   "cell_type": "code",
   "execution_count": null,
   "id": "ed0dcd03-85e2-4bae-a308-46932313faaa",
   "metadata": {},
   "outputs": [],
   "source": [
    "# make predictions\n",
    "#test_Xt=np.array(test_X)\n",
    "#test_yt=np.array(test_y)\n",
    "trainPredict=trainPredict.reshape(68801,1)\n",
    "validPredict=validPredict.reshape(18902,1)\n",
    "testPredict=testPredict.reshape(11050,1)\n",
    "trainPredict.shape, validPredict.shape, testPredict.shape"
   ]
  },
  {
   "cell_type": "code",
   "execution_count": null,
   "id": "f2b83ad7-9d4f-4df7-b170-7031b51791c1",
   "metadata": {},
   "outputs": [],
   "source": []
  },
  {
   "cell_type": "code",
   "execution_count": null,
   "id": "164b1b9f-b08e-4c77-81ea-eef06dfaaef1",
   "metadata": {},
   "outputs": [],
   "source": [
    "# invert prediction\n",
    "sc=StandardScaler()\n",
    "newTrain=sc.fit_transform(trainPredict)\n",
    "newTrain=sc.inverse_transform(trainPredict)\n",
    "sc=StandardScaler()\n",
    "newValid = sc.fit(validPredict)\n",
    "newValid = sc.inverse_transform(validPredict)\n",
    "#sc=StandardScaler().fit_transform(testPredict)\n",
    "newTest = testPredict"
   ]
  },
  {
   "cell_type": "code",
   "execution_count": null,
   "id": "c99153f0-5640-4c10-ae34-7229ee5b3b21",
   "metadata": {},
   "outputs": [],
   "source": [
    "newTrain.shape == trainPredict.shape, newValid.shape == validPredict.shape, newTest.shape == testPredict.shape"
   ]
  },
  {
   "cell_type": "code",
   "execution_count": null,
   "id": "7f43ea89-4772-4c23-bf5d-9de26ae8b5cf",
   "metadata": {},
   "outputs": [],
   "source": [
    "trainX.shape, trainPredict.shape, newTrain.shape"
   ]
  },
  {
   "cell_type": "code",
   "execution_count": null,
   "id": "c5ad69b1-84a8-40e7-aa25-249afd15d522",
   "metadata": {},
   "outputs": [],
   "source": [
    "#plt.plot(X_train)\n",
    "#plt.plot(trainPredict)\n",
    "#plt.plot(newTrain)"
   ]
  },
  {
   "cell_type": "code",
   "execution_count": null,
   "id": "490f33a0-96c7-4388-8bf6-0b07eac5d7e9",
   "metadata": {},
   "outputs": [],
   "source": [
    "print(\"Train\": 1772964*91)\n",
    "print(\"Valid\": 614894*91)\n",
    "print(\"Test\": 53388*91)"
   ]
  },
  {
   "cell_type": "code",
   "execution_count": null,
   "id": "a888cac2-d63f-4cfb-b143-44a1201fa960",
   "metadata": {},
   "outputs": [],
   "source": [
    "# calculate root mean squared error\n",
    "trainScore = np.sqrt(keras.losses.mean_squared_error(newTrain[0], trainPredict[:,0]))\n",
    "print('Train Score: %.6f RMSE' % (trainScore))\n",
    "validScore = np.sqrt(keras.losses.mean_squared_error(newValid[0], validPredict[:,0]))\n",
    "print('Valid Score: %.6f RMSE' % (validScore))\n",
    "testScore = np.sqrt(keras.losses.mean_squared_error(newTest[0], testPredict[:,0]))\n",
    "print('Test Score: %.6f RMSE' % (testScore))"
   ]
  },
  {
   "cell_type": "markdown",
   "id": "e48dfa0d-d2fa-4ec4-a952-cb142d24bf22",
   "metadata": {
    "jp-MarkdownHeadingCollapsed": true,
    "tags": []
   },
   "source": [
    "# Forecast"
   ]
  },
  {
   "cell_type": "code",
   "execution_count": null,
   "id": "907017c3-bf0a-4786-b4c5-42c7a9adf40f",
   "metadata": {
    "tags": []
   },
   "outputs": [],
   "source": [
    "#X_test_reframed_sup.shape\n",
    "#Xscaler.inverse_transform(X_test_reframed_sup)\n",
    "#X_test_reframed_sup.reshape(\n",
    "#215134*376#80890384\n",
    "#80890384/94#860536.0\n",
    "#Xscaler.inverse_transform(X_test_reframed_sup.reshape(860536,94))"
   ]
  },
  {
   "cell_type": "code",
   "execution_count": null,
   "id": "7ca28e5a-316e-467a-ab40-6f1192078a32",
   "metadata": {
    "tags": []
   },
   "outputs": [],
   "source": [
    "#X_train_reframed_sup.shape\n",
    "#1772957*376#666631832\n",
    "#666631832/94#7091828.0\n",
    "#Xscaler.inverse_transform(X_train_reframed_sup.reshape(7091828,94))"
   ]
  },
  {
   "cell_type": "code",
   "execution_count": null,
   "id": "8ffd467f-e842-4ea4-a3e2-d9ea68dcfff4",
   "metadata": {
    "tags": []
   },
   "outputs": [],
   "source": [
    "#X_valid_reframed_sup.shape\n",
    "#453141*376#170381016\n",
    "#170381016/94#1812564.0\n",
    "#Xscaler.inverse_transform(X_valid_reframed_sup.reshape(1812564,94))"
   ]
  },
  {
   "cell_type": "code",
   "execution_count": null,
   "id": "d8800f44-64d2-4d65-9d0f-4874940f0c25",
   "metadata": {},
   "outputs": [],
   "source": [
    "98102016/32/456"
   ]
  },
  {
   "cell_type": "code",
   "execution_count": null,
   "id": "2111f860-059f-48e8-96d4-fc431ba69f2b",
   "metadata": {},
   "outputs": [],
   "source": [
    "6723*32*456"
   ]
  },
  {
   "cell_type": "code",
   "execution_count": null,
   "id": "5eb2210d-01ef-4bab-9455-9e294d287e6b",
   "metadata": {},
   "outputs": [],
   "source": [
    "215136*455"
   ]
  },
  {
   "cell_type": "code",
   "execution_count": null,
   "id": "e163efb3-a138-4798-93d1-98922396f30e",
   "metadata": {},
   "outputs": [],
   "source": [
    "97886880-98102016"
   ]
  },
  {
   "cell_type": "code",
   "execution_count": null,
   "id": "de1fcbdb-c326-42e4-ac6e-91d8dc9bac55",
   "metadata": {},
   "outputs": [],
   "source": [
    "testXscch4ref.shape"
   ]
  },
  {
   "cell_type": "code",
   "execution_count": null,
   "id": "fe2d301e-3874-486f-a374-0c7c9b3ab22c",
   "metadata": {},
   "outputs": [],
   "source": [
    "#X_test_reframed.reshape(215136,1,456).shape\n",
    "testXscch4refres=testXscch4ref.reshape(161749,1,456)"
   ]
  },
  {
   "cell_type": "code",
   "execution_count": null,
   "id": "a47e8525-0bb9-48c4-ad69-9a8c0e4a0cc5",
   "metadata": {
    "tags": []
   },
   "outputs": [],
   "source": [
    "score = model2.evaluate(testXscch4ref, testyscch4ref, verbose = 1) "
   ]
  },
  {
   "cell_type": "code",
   "execution_count": null,
   "id": "eb6d9a0f-18e4-42ee-bf55-e28dde4dd303",
   "metadata": {},
   "outputs": [],
   "source": [
    "score"
   ]
  },
  {
   "cell_type": "code",
   "execution_count": null,
   "id": "14819564-0812-4bf4-b72c-54fbbaaafe6d",
   "metadata": {
    "tags": []
   },
   "outputs": [],
   "source": [
    "print('Test MAE:', score[1])\n",
    "print('Test MSE:', score[2])\n",
    "#print('Test RMSE:', score_experimental[3])"
   ]
  },
  {
   "cell_type": "code",
   "execution_count": null,
   "id": "22d28951-6eb9-4758-acd6-ee44d9d3560e",
   "metadata": {},
   "outputs": [],
   "source": []
  },
  {
   "cell_type": "code",
   "execution_count": null,
   "id": "d82bd144-ea7b-4631-9620-1cb5fc56c815",
   "metadata": {},
   "outputs": [],
   "source": [
    "X_test_reframed.shape"
   ]
  },
  {
   "cell_type": "code",
   "execution_count": null,
   "id": "f022d497-37f1-41bb-a05d-2769dce3284a",
   "metadata": {
    "tags": []
   },
   "outputs": [],
   "source": [
    "predict_experimental = model2.predict(X_test_reframed, verbose = 1)"
   ]
  },
  {
   "cell_type": "code",
   "execution_count": null,
   "id": "bdee0f86-8c5d-4452-8ee5-779394eb4f40",
   "metadata": {
    "tags": []
   },
   "outputs": [],
   "source": [
    "predict_experimental.shape, X_test_reframed.shape"
   ]
  },
  {
   "cell_type": "code",
   "execution_count": null,
   "id": "0400bee0-236f-44c4-a8c0-2d22dd54513b",
   "metadata": {
    "tags": []
   },
   "outputs": [],
   "source": [
    "predict_experimental=yscaler.inverse_transform(predict_experimental.reshape(215136,1))"
   ]
  },
  {
   "cell_type": "code",
   "execution_count": null,
   "id": "9c6756da-a974-47b8-ae3f-afd9ab6fd59e",
   "metadata": {
    "tags": []
   },
   "outputs": [],
   "source": [
    "X_t_experimental=Xscaler.inverse_transform(X_test_reframed.reshape(215136,286))"
   ]
  },
  {
   "cell_type": "code",
   "execution_count": null,
   "id": "7fe77a95-d48e-4965-95c0-3e8e39686237",
   "metadata": {
    "tags": []
   },
   "outputs": [],
   "source": [
    "yhat_experimental=np.concatenate((X_t_experimental,predict_experimental),axis=1)"
   ]
  },
  {
   "cell_type": "code",
   "execution_count": null,
   "id": "0b90af7f-98c6-46a3-8a0d-3050d6b49545",
   "metadata": {
    "tags": []
   },
   "outputs": [],
   "source": [
    "#np.concatenate(X_train_reframed.reshape(7574,299))\n",
    "plt.plot(yscaler.inverse_transform(y_test_reframed.reshape(215136,1)))\n",
    "plt.plot(predict_experimental)\n",
    "#plt.plot(yhat.reshape(423000,1))\n",
    "#plt.axis([0,1450,0,2])\n",
    "plt.show()"
   ]
  },
  {
   "cell_type": "code",
   "execution_count": null,
   "id": "5fc0446c-126f-4cb1-b6a4-e16159ce4143",
   "metadata": {
    "tags": []
   },
   "outputs": [],
   "source": [
    "#y_test_reframed.shape\n",
    "np.sqrt(mean_squared_error(y_test_reframed.reshape(215136,1),predict_experimental))"
   ]
  },
  {
   "cell_type": "code",
   "execution_count": null,
   "id": "ac5842b2-2b53-4989-86fa-365fcf176cef",
   "metadata": {
    "tags": []
   },
   "outputs": [],
   "source": [
    "mean_absolute_percentage_error(y_test_reframed.reshape(215136,1),predict_experimental)"
   ]
  },
  {
   "cell_type": "code",
   "execution_count": null,
   "id": "dae72834-b34d-4f68-9af8-b5ab40c6862e",
   "metadata": {
    "tags": []
   },
   "outputs": [],
   "source": [
    "r2_score(y_test_reframed.reshape(215136,1),predict_experimental)"
   ]
  },
  {
   "cell_type": "code",
   "execution_count": null,
   "id": "ba8937b3-8a94-4b12-b2de-b4349aee513c",
   "metadata": {},
   "outputs": [],
   "source": []
  },
  {
   "cell_type": "code",
   "execution_count": null,
   "id": "51844c32-1fd4-49fc-92d6-962ecc5bb3b8",
   "metadata": {
    "tags": []
   },
   "outputs": [],
   "source": [
    "plt.plot(y_test_reframed.reshape(215136,1))\n",
    "plt.plot(predict_experimental.reshape(215136,1))\n",
    "#plt.axis([0, 80000, -5, 5])\n",
    "plt.show()"
   ]
  },
  {
   "cell_type": "code",
   "execution_count": null,
   "id": "b0e7e60e-ccf5-4098-ae48-69b0105b482c",
   "metadata": {
    "tags": []
   },
   "outputs": [],
   "source": [
    "fig,ax = plt.subplots(figsize=(10,6), dpi=1000)\n",
    "ln1=ax.plot(history.history['loss'], color='magenta', linestyle='solid', label='Loss (MSE)')\n",
    "ln2=ax.plot(history.history['val_loss'], color='dodgerblue', linestyle='solid', label='Val Loss (MSE)')\n",
    "ln3=ax.plot(history.history['mean_absolute_error'], color='springgreen', linestyle='dotted', label='MAE')\n",
    "#ln4=ax.plot(history.history['mean_squared_error'], color='springgreen', linestyle='dashed', label='Seward Peninsula')\n",
    "ln4=ax.plot(history.history['root_mean_squared_error'], color='springgreen', linestyle='dashed', label='RMSE')\n",
    "ln5=ax.plot(history.history['val_mean_absolute_error'], color='red', linestyle='dotted', label='Val MAE')\n",
    "#ln7=ax.plot(history.history['val_mean_squared_error'], color='red', linestyle='dashed', label='Seward Peninsula')\n",
    "ln6=ax.plot(history.history['val_root_mean_squared_error'], color='red', linestyle='dashed', label='Val RMSE')\n",
    "#ln2=ax.plot(sib.iloc[2:,7].replace(-9999,np.nan).dropna()color='springgreen', linestyle='dashed', label='Interior')\n",
    "#ln3=ax.plot(sib.iloc[2:,16].replace(-9999,np.nan).dropna(), color='magenta', linestyle='dotted', label='Seward Peninsula')\n",
    "#ln4=ax.plot(sib.iloc[2:,39].replace(-9999,np.nan).dropna(), color='dodgerblue', linestyle='dotted', label='Yukon-Kuskokwim Delta')\n",
    "#ax2=ax.twinx();\n",
    "#ln4=ax2.plot(validPredict, color='coral', linestyle='dotted')\n",
    "\n",
    "lines = ln1 + ln2 + ln3 + ln4 + ln5 + ln6# + ln7 + ln8\n",
    "labs = [line.get_label() for line in lines];\n",
    "plt.legend(lines, labs, loc='lower left', fontsize=8)\n",
    "\n",
    "ax.grid(linewidth=0.3);\n",
    "ax.set_xlabel('Epochs', labelpad=10, fontsize=16);\n",
    "ax.set_ylabel('Loss (cm)', labelpad=10, fontsize=16)\n",
    "#ax.set(xticklabels=[])  # remove the tick labels\n",
    "ax.tick_params(left=False)  # remove the ticks\n",
    "#plt.ylabel('Active Layer Thickness (cm)')\n",
    "plt.title('GeoCryoAI In Situ Module | Bidirectional LSTM Autoencoder Loss Function \\n In Situ Thaw Depth Simulations (1969-2022)', pad=10)\n",
    "#plt.xlabel('Year')\n",
    "#plt.axis([0, 6, 0, 60])\n",
    "#plt.legend(loc='best')\n",
    "#plt.show()\n",
    "plt.savefig('/Users/bradleygay/Downloads/bilstmae_insitu_ALT_loss.png',dpi=1000)"
   ]
  },
  {
   "cell_type": "code",
   "execution_count": null,
   "id": "83fe55d0-1ee2-47ae-a570-8aa6489df0ac",
   "metadata": {
    "tags": []
   },
   "outputs": [],
   "source": [
    "X_test_reframed.shape\n",
    "Xscaler.fit_transform(X_test_reframed.reshape(215137,285))"
   ]
  },
  {
   "cell_type": "code",
   "execution_count": null,
   "id": "80f6e7d5-aef0-4942-aa3b-f04d32d66f06",
   "metadata": {
    "tags": []
   },
   "outputs": [],
   "source": [
    "y_test_inv = Xscaler.inverse_transform(y_test_reframed_sup.reshape(860536,1))\n",
    "y_train_inv = Xscaler.inverse_transform(y_train_reframed_sup.reshape(7091828,1))\n",
    "y_valid_inv = Xscaler.inverse_transform(y_valid_reframed_sup.reshape(1812564,1))"
   ]
  },
  {
   "cell_type": "code",
   "execution_count": null,
   "id": "e95040f4-062e-486d-8990-c52c6b492f55",
   "metadata": {
    "tags": []
   },
   "outputs": [],
   "source": [
    "y_test_reframed_sup.shape, y_test_inv.shape, y_valid_inv.shape, y_train_inv.shape"
   ]
  },
  {
   "cell_type": "code",
   "execution_count": null,
   "id": "a919bed8-360b-40f2-8d4d-aa8f79a02cac",
   "metadata": {
    "tags": []
   },
   "outputs": [],
   "source": [
    "plt.plot(y_train_reframed_sup.reshape(7091828,1))\n",
    "plt.plot(y_valid_reframed_sup.reshape(1812564,1))\n",
    "plt.plot(y_test_reframed_sup.reshape(860536,1))\n",
    "plt.show()"
   ]
  },
  {
   "cell_type": "code",
   "execution_count": null,
   "id": "647622b2-ed57-4ed1-9200-fda6ff075ffb",
   "metadata": {
    "tags": []
   },
   "outputs": [],
   "source": [
    "plt.plot(y_train_inv)\n",
    "plt.plot(y_valid_inv)\n",
    "plt.plot(y_test_inv)\n",
    "plt.show()\n",
    "#plt.plot(y_test_reframed_sup.reshape(860536,1))"
   ]
  },
  {
   "cell_type": "code",
   "execution_count": null,
   "id": "e64007cf-8a46-4423-b168-0c610141b53b",
   "metadata": {
    "tags": []
   },
   "outputs": [],
   "source": [
    "prediction = model.predict(X_test_reshaped)"
   ]
  },
  {
   "cell_type": "code",
   "execution_count": null,
   "id": "eee8b60f-2112-48e3-a0c0-e2039f142bbe",
   "metadata": {
    "tags": []
   },
   "outputs": [],
   "source": [
    "prediction.shape"
   ]
  },
  {
   "cell_type": "code",
   "execution_count": null,
   "id": "4fe4dbc5-be03-4812-b5e6-8ef9f00e14b5",
   "metadata": {
    "tags": []
   },
   "outputs": [],
   "source": [
    "#prediction.shape\n",
    "#prediction = Xscaler.inverse_transform(prediction.reshape(215134,1))"
   ]
  },
  {
   "cell_type": "code",
   "execution_count": null,
   "id": "70674ca2-d6c2-48b1-81f5-9257d5f88eed",
   "metadata": {
    "tags": []
   },
   "outputs": [],
   "source": [
    "y_test_reshaped.shape"
   ]
  },
  {
   "cell_type": "code",
   "execution_count": null,
   "id": "a5a74ee7-c708-4b77-99a7-612c3a479333",
   "metadata": {
    "tags": []
   },
   "outputs": [],
   "source": [
    "plt.plot(scaler.inverse_transform(prediction.reshape(215137,1)))\n",
    "#plt.plot(y_test_reshaped.reshape(215137,1))"
   ]
  },
  {
   "cell_type": "code",
   "execution_count": null,
   "id": "84b90693-df87-44bb-bcd5-2f9064709bd2",
   "metadata": {
    "tags": []
   },
   "outputs": [],
   "source": [
    "def plot_results(, Y_predicted, title = \"Test Data and Predictions\", index = None):\n",
    "    if index is None:\n",
    "        index = range(0, Y_test.shape[0])\n",
    "    df_index = pd.DataFrame(data = index, index = range(0, Y_test.shape[0]))\n",
    "    df_index.columns = [\"user_index\"]  \n",
    "\n",
    "    shift = Y_test.shape[0] - Y_predicted.shape[0]\n",
    "\n",
    "    fig, axes = plt.subplots(figsize = (9, 6), sharex = True, nrows = Y_test.shape[1], squeeze = False)\n",
    "    \n",
    "    for target, ax in enumerate(axes.flat):\n",
    "        ax.step(df_index.values, Y_test[:,target], where = \"post\", label = \"Testing Set\", color = \"blue\")\n",
    "        ax.step(df_index.loc[shift:, \"user_index\"].values, Y_predicted[:,target], where = \"post\", \n",
    "                label = \"Predictions\", color = \"red\")\n",
    "    \n",
    "    plt.suptitle(title)\n",
    "    plt.legend()"
   ]
  },
  {
   "cell_type": "code",
   "execution_count": null,
   "id": "d93d524c-7986-4f35-969d-f5c800468514",
   "metadata": {},
   "outputs": [],
   "source": [
    "y_predict_reframed_sup=model.predict(X_test_reframed_sup, verbose = 1, use_multiprocessing = True)\n",
    "#y_predict_reframed_sup"
   ]
  },
  {
   "cell_type": "code",
   "execution_count": null,
   "id": "2066fa63-3cae-46cb-9abd-f89c323077d7",
   "metadata": {
    "tags": []
   },
   "outputs": [],
   "source": [
    "y_predict_reframed_sup.shape"
   ]
  },
  {
   "cell_type": "code",
   "execution_count": null,
   "id": "662abcc4-5530-4072-b38f-bd94ad90a71b",
   "metadata": {
    "tags": []
   },
   "outputs": [],
   "source": [
    "y_predict_reframed_sup=y_predict_reframed_sup.reshape(215134,1)"
   ]
  },
  {
   "cell_type": "code",
   "execution_count": null,
   "id": "80f0cc68-7f6e-4f58-850a-184dacaeebe9",
   "metadata": {
    "tags": []
   },
   "outputs": [],
   "source": [
    "y_predict_reframed_sup = Xscaler.inverse_transform(y_predict_reframed_sup)"
   ]
  },
  {
   "cell_type": "code",
   "execution_count": null,
   "id": "619f7836-b468-4142-a5d0-35e5d6386fe6",
   "metadata": {
    "tags": []
   },
   "outputs": [],
   "source": [
    "#plt.plot(y_test.values.reshape(215137,))\n",
    "plt.plot(y_predict_reframed_sup)"
   ]
  },
  {
   "cell_type": "code",
   "execution_count": null,
   "id": "28f4dfac-102c-49c4-bd94-f22eeef9a710",
   "metadata": {},
   "outputs": [],
   "source": [
    "# model_scores = model.evaluate(X_test_reframed_sup, y_test_reframed_sup.iloc[backward_steps:], batch_size = None, verbose = 1, \n",
    "#                               use_multiprocessing = True)\n",
    "# model_scores"
   ]
  },
  {
   "cell_type": "code",
   "execution_count": null,
   "id": "a50cee70",
   "metadata": {},
   "outputs": [],
   "source": [
    "Y_predicted_reframed = bayesian_best_model.predict(X_test_reframed,  batch_size = 384, verbose = 1, use_multiprocessing = True)\n",
    "\n",
    "Y_predicted_scaled = Y_predicted_reframed.reshape(Y_predicted_reframed.shape[0], Y_predicted_reframed.shape[1])\n",
    "\n",
    "Y_predicted = scaler_Y.inverse_transform(Y_predicted_scaled)"
   ]
  },
  {
   "cell_type": "code",
   "execution_count": null,
   "id": "1f7e2e37",
   "metadata": {
    "tags": []
   },
   "outputs": [],
   "source": [
    "def plot_results(y_test_reframed_sup, y_predict_reframed_sup, title = \"Test Data and Predictions\", index = None):\n",
    "    if index is None:\n",
    "        index = range(0, y_test_reframed_sup.shape[0])\n",
    "    df_index = pd.DataFrame(data = index, index = range(0, y_test_reframed_sup.shape[0]))\n",
    "    df_index.columns = [\"user_index\"]  \n",
    "\n",
    "    shift = y_test_reframed_sup.shape[0] - y_predict_reframed_sup.shape[0]\n",
    "\n",
    "    fig, axes = plt.subplots(figsize = (9, 6), sharex = True, nrows = y_test_reframed_sup.shape[1], squeeze = False)\n",
    "    \n",
    "    for target, ax in enumerate(axes.flat):\n",
    "        ax.step(df_index.values, y_test_reframed_sup[:,target], where = \"post\", label = \"Testing Set\", color = \"blue\")\n",
    "        ax.step(df_index.loc[shift:, \"user_index\"].values, y_predict_reframed_sup[:,target], where = \"post\", \n",
    "                label = \"Predictions\", color = \"red\")\n",
    "    \n",
    "    plt.suptitle(title)\n",
    "    plt.legend()"
   ]
  },
  {
   "cell_type": "code",
   "execution_count": null,
   "id": "170cd105-9e74-479f-b274-a0438d3d9a4e",
   "metadata": {
    "tags": []
   },
   "outputs": [],
   "source": [
    "pd.DataFrame(y_test_reframed_sup.reshape(215134,4)).index"
   ]
  },
  {
   "cell_type": "code",
   "execution_count": null,
   "id": "065d06b9",
   "metadata": {
    "tags": []
   },
   "outputs": [],
   "source": [
    "plot_results(y_test_reframed_sup, y_predict_reframed_sup, \n",
    "             title = \"Active Layer Thickness /n Predictions v. Test Data \\n via 8-layer C1DLSTMSAE Network\")"
   ]
  },
  {
   "cell_type": "code",
   "execution_count": null,
   "id": "703fd3ee",
   "metadata": {},
   "outputs": [],
   "source": [
    "Y_predicted=Y_predicted.reshape(397492,)#;Y_test=Y_test.reshape(668168,)"
   ]
  },
  {
   "cell_type": "code",
   "execution_count": null,
   "id": "81d7b17e",
   "metadata": {},
   "outputs": [],
   "source": [
    "def qq_plot(Y_test, Y_predicted, title = \"Test Data and Predictions\", index = None):\n",
    "    if index is None:\n",
    "        index = range(0, Y_test.shape[0])\n",
    "    df_index = pd.DataFrame(data = index, index = range(0, Y_test.shape[0]))\n",
    "    df_index.columns = [\"user_index\"]  \n",
    "\n",
    "    shift = Y_test.shape[0] - Y_predicted.shape[0]\n",
    "\n",
    "    fig, axes = plt.subplots(figsize = (9, 6), sharex = True, nrows = Y_test.shape[1], squeeze = False)\n",
    "    \n",
    "    for target, ax in enumerate(axes.flat):\n",
    "        ax.scatter(Y_test[shift:,target], Y_predicted[:,target], label = \"Predictions\", color = \"red\", s = 5, \n",
    "                   alpha = 0.5)\n",
    "        ax.scatter(Y_test[:,target], Y_test[:,target], label = \"Testing Set\", color = \"blue\", s = 5)\n",
    "\n",
    "    plt.suptitle(title)\n",
    "    plt.legend()"
   ]
  },
  {
   "cell_type": "code",
   "execution_count": null,
   "id": "e0a6f9ac",
   "metadata": {},
   "outputs": [],
   "source": [
    "qq_plot(Y_test.values, Y_predicted_scaled, index = Y_test.index, \n",
    "        title = \"Active Layer Thickness /n Predictions v. Test Data via \\n 7-layer Sequential Time-Distributed C1DLSTMSAE Network\")"
   ]
  },
  {
   "cell_type": "code",
   "execution_count": null,
   "id": "d91d2612",
   "metadata": {},
   "outputs": [],
   "source": []
  },
  {
   "cell_type": "code",
   "execution_count": null,
   "id": "1a40b31e",
   "metadata": {},
   "outputs": [],
   "source": []
  },
  {
   "cell_type": "code",
   "execution_count": null,
   "id": "0c8c8276",
   "metadata": {},
   "outputs": [],
   "source": [
    "Y_predicted_reframed = model.predict(X_test_reframed)\n",
    "Y_predicted = Y_predicted_reframed.reshape(Y_predicted_reframed.shape[0], Y_predicted_reframed.shape[1])"
   ]
  },
  {
   "cell_type": "code",
   "execution_count": null,
   "id": "78bf58b9",
   "metadata": {},
   "outputs": [],
   "source": [
    "import pandas as pd\n",
    "testim=pd.read_csv(r'/Users/bradleygay/test_store_ALT_2022.csv')"
   ]
  },
  {
   "cell_type": "code",
   "execution_count": null,
   "id": "7cc1598a",
   "metadata": {},
   "outputs": [],
   "source": [
    "testim.index=testim.iloc[:,0]"
   ]
  },
  {
   "cell_type": "code",
   "execution_count": null,
   "id": "0e1c7aab",
   "metadata": {},
   "outputs": [],
   "source": [
    "testim=testim.drop(testim.columns[0],axis=1)"
   ]
  },
  {
   "cell_type": "code",
   "execution_count": null,
   "id": "c5521183",
   "metadata": {},
   "outputs": [],
   "source": [
    "testim.index.name = None"
   ]
  },
  {
   "cell_type": "code",
   "execution_count": null,
   "id": "efc83419",
   "metadata": {},
   "outputs": [],
   "source": [
    "#testim.index=pd.to_datetime(testim.index, format='%Y')"
   ]
  },
  {
   "cell_type": "code",
   "execution_count": null,
   "id": "0b3adc4a",
   "metadata": {},
   "outputs": [],
   "source": [
    "testim=testim.sort_index()"
   ]
  },
  {
   "cell_type": "code",
   "execution_count": null,
   "id": "597c8995",
   "metadata": {},
   "outputs": [],
   "source": [
    "testim.index = pd.to_datetime(testim.index)"
   ]
  },
  {
   "cell_type": "code",
   "execution_count": null,
   "id": "2f7c028a",
   "metadata": {},
   "outputs": [],
   "source": [
    "testim"
   ]
  },
  {
   "cell_type": "code",
   "execution_count": null,
   "id": "50469e4f",
   "metadata": {},
   "outputs": [],
   "source": [
    "plt.plot(scaler_Y.inverse_transform(testim))"
   ]
  },
  {
   "cell_type": "code",
   "execution_count": null,
   "id": "f09275f8",
   "metadata": {},
   "outputs": [],
   "source": [
    "plot_results(scaler_Y.inverse_transform(Y_test.values), scaler_Y.inverse_transform(Y_predicted),\n",
    "             index = Y_test.index, title = \"Active Layer Thickness - Predicteed v. Test Data\")"
   ]
  },
  {
   "cell_type": "code",
   "execution_count": null,
   "id": "5b940bc6",
   "metadata": {},
   "outputs": [],
   "source": [
    "test_scores = model.evaluate(X_test_reframed, Y_test[backward_steps:],\n",
    "                                           batch_size=hp[\"batch_size\"], use_multiprocessing=True,)"
   ]
  },
  {
   "cell_type": "code",
   "execution_count": null,
   "id": "37b7eef0",
   "metadata": {},
   "outputs": [],
   "source": [
    "def metrics_print(test_data,test_predict):\n",
    "    print('Test RMSE: ', round(np.sqrt(sklearn.metrics.mean_squared_error(test_data, test_predict)), 2))\n",
    "    print('Test R^2 : ', round((sklearn.metrics.r2_score(test_data, test_predict)*100), 2) ,\"%\")\n",
    "    print('Test MAPE: ', round(sklearn.metrics.mean_absolute_percentage_error(test_data, test_predict)*100,2), '%')"
   ]
  },
  {
   "cell_type": "code",
   "execution_count": null,
   "id": "ba662ea7",
   "metadata": {},
   "outputs": [],
   "source": [
    "print(\"##************** Linear Regression Results **************##\")\n",
    "metrics_print(prediction_df['Observed'], prediction_df['LR'])\n",
    "print(\" \")\n",
    "print(\" \")\n",
    "\n",
    "print(\"##************** Deep Learning Results **************##\")\n",
    "metrics_print(prediction_df['Observed'], prediction_df['DNN'])\n",
    "print(\" \")\n",
    "print(\" \")"
   ]
  },
  {
   "cell_type": "code",
   "execution_count": null,
   "id": "4059dca8",
   "metadata": {},
   "outputs": [],
   "source": [
    "fa = plt.figure(figsize=(16,5))\n",
    "plt.subplot(1,2,1)\n",
    "plt.scatter(prediction_df['Observed'],prediction_df['LR'])\n",
    "plt.xlabel('True Values [snow_depth]', fontsize=15)\n",
    "plt.ylabel('Predictions [snow_depth]', fontsize=15)\n",
    "plt.title(\"Linear Regression\")\n",
    "\n",
    "\n",
    "plt.subplot(1,2,2)\n",
    "plt.scatter(prediction_df['Observed'],prediction_df['DNN'])\n",
    "plt.xlabel('True Values [snow_depth]', fontsize=15)\n",
    "plt.ylabel('Predictions [snow_depth]', fontsize=15)\n",
    "plt.title(\"Deep Neural Network\")"
   ]
  },
  {
   "cell_type": "code",
   "execution_count": null,
   "id": "5a8af20b",
   "metadata": {},
   "outputs": [],
   "source": [
    "LR_error = prediction_df['Observed'] - prediction_df['LR']\n",
    "DNN_error = prediction_df['Observed'] - prediction_df['DNN']\n",
    "\n",
    "fa = plt.figure(figsize=(16,5))\n",
    "\n",
    "plt.subplot(1,2,1)\n",
    "LR_error.hist()\n",
    "plt.xlabel('Error', fontsize=15)\n",
    "plt.ylabel('Frequency', fontsize=15)\n",
    "plt.title(\"Linear Regression\")\n",
    "\n",
    "plt.subplot(1,2,2)\n",
    "DNN_error.hist()\n",
    "plt.xlabel('Error', fontsize=15)\n",
    "plt.ylabel('Frequency', fontsize=15)\n",
    "plt.title(\"Deep Neural Network\")"
   ]
  },
  {
   "cell_type": "code",
   "execution_count": null,
   "id": "18356969-63a4-43b6-ac86-9e32a05730ae",
   "metadata": {},
   "outputs": [],
   "source": [
    "network.save('DNN')\n",
    "\n",
    "## To load model, use;\n",
    "model = tf.keras.models.load_model('DNN')"
   ]
  },
  {
   "cell_type": "code",
   "execution_count": null,
   "id": "fa2e36fd-bc82-4ff9-8960-846818831621",
   "metadata": {},
   "outputs": [],
   "source": [
    "model.evaluate(X_test_reframed, Y_test.iloc[backward_steps:], batch_size = None, verbose = 1, use_multiprocessing = True)"
   ]
  },
  {
   "cell_type": "code",
   "execution_count": null,
   "id": "88ae0fd1-cb0b-4a4b-a46f-feebc4642886",
   "metadata": {},
   "outputs": [],
   "source": [
    "def estimate_hyperband_load(max_epochs, factor, hyperband_iterations = 1, sec_per_epoch = None):\n",
    "    total_epochs = round(hyperband_iterations * max_epochs * (math.log(max_epochs, factor) ** 2))\n",
    "    estimate_runtime = \"Unknown, provide sec_per_epoch to compute.\"\n",
    "    if not sec_per_epoch == None:\n",
    "        estimate_runtime = str(timedelta(seconds = round(sec_per_epoch * total_epochs)))\n",
    "    return total_epochs, estimate_runtime"
   ]
  },
  {
   "cell_type": "code",
   "execution_count": null,
   "id": "4817ed31-c40b-4d56-aeb0-9e8824b84042",
   "metadata": {},
   "outputs": [],
   "source": [
    "estimate_hyperband_load(300, 10, sec_per_epoch = elapsed_time/len(history.history[\"val_loss\"]))"
   ]
  },
  {
   "cell_type": "code",
   "execution_count": null,
   "id": "e0ef56d9-9994-4d19-b30d-053827d9e2b3",
   "metadata": {},
   "outputs": [],
   "source": [
    "hyperband_tuner = Hyperband(custom_HyperModel(),\n",
    "                    hyperparameters = hp,\n",
    "                    objective = \"val_loss\", \n",
    "                    project_name =\"time_hyperband_LSTM_tuning\",\n",
    "                    max_epochs = 300, #maximum number of epochs to train one model\n",
    "                    hyperband_iterations = 1,  #the number of times to iterate over the full Hyperband algorithm\n",
    "                    factor = 10, # changed from 3 to 10\n",
    "                    directory = main_dir,\n",
    "                    #distribution_strategy = tf.distribute.MirroredStrategy([\"/cpu:0\",\"/cpu:1\", \"/cpu:2\", \"/cpu:3\"]),\n",
    "                    tuner_id = \"Hyperband\",\n",
    "                    overwrite = True, \n",
    "                    )"
   ]
  },
  {
   "cell_type": "code",
   "execution_count": null,
   "id": "ed0fe1e2-6abd-492d-b17b-424660f6a87b",
   "metadata": {},
   "outputs": [],
   "source": [
    "# perform hyperparameters tuning\n",
    "hyperband_tuner.search(X_train_reframed, \n",
    "                         Y_train, \n",
    "                         steps_per_epoch = None, \n",
    "                         shuffle = False, \n",
    "                         validation_split = 0.20, \n",
    "                         verbose = 1, #\n",
    "                         callbacks = [early_stopping, \n",
    "                                      History(), \n",
    "                                    TerminateOnNaN()], \n",
    "                         use_multiprocessing = True, \n",
    "                        )"
   ]
  },
  {
   "cell_type": "code",
   "execution_count": null,
   "id": "5f777420-3c3a-4522-9d2c-96c78ea885eb",
   "metadata": {},
   "outputs": [],
   "source": [
    "hyperband_best_hps = hyperband_tuner.get_best_hyperparameters()[0]\n",
    "hyperband_best_model = hyperband_tuner.hypermodel.build(hyperband_best_hps)"
   ]
  },
  {
   "cell_type": "code",
   "execution_count": null,
   "id": "e396e9b3-28a8-4f8a-9adc-e40c42d04f69",
   "metadata": {},
   "outputs": [],
   "source": []
  },
  {
   "cell_type": "code",
   "execution_count": null,
   "id": "005ab012-a32c-4329-8cd6-e19a5354cb25",
   "metadata": {},
   "outputs": [],
   "source": [
    "hyperband_best_hps.values"
   ]
  },
  {
   "cell_type": "code",
   "execution_count": null,
   "id": "67cf954f-55c9-4601-b50e-639bd43822d3",
   "metadata": {},
   "outputs": [],
   "source": [
    "hyperband_best_model.fit(X_train_reframed, Y_train[1:], \n",
    "                           epochs = 300,     \n",
    "                           shuffle = False,\n",
    "                           steps_per_epoch = None,\n",
    "                           validation_split = 0,\n",
    "                           batch_size = hyperband_best_hps[\"batch_size\"],\n",
    "                           callbacks = [EarlyStopping(monitor='loss', verbose = 0, patience = 3, min_delta = 1e-3, restore_best_weights = True), \n",
    "                                          History(), TerminateOnNaN()],\n",
    "                           verbose = 1,\n",
    "                           use_multiprocessing = True\n",
    "                          )"
   ]
  },
  {
   "cell_type": "code",
   "execution_count": null,
   "id": "d12fd898-f240-4514-9c1d-2e1b52cc161e",
   "metadata": {},
   "outputs": [],
   "source": [
    "Y_predicted_reframed = hyperband_best_model.predict(X_test_reframed)\n",
    "\n",
    "Y_predicted = Y_predicted_reframed.reshape(Y_predicted_reframed.shape[0], Y_predicted_reframed.shape[1])"
   ]
  },
  {
   "cell_type": "code",
   "execution_count": null,
   "id": "33a4a2ea-cea4-4976-bab1-1c5450db2143",
   "metadata": {},
   "outputs": [],
   "source": [
    "plot_results(scaler_Y.inverse_transform(Y_test.values), scaler_Y.inverse_transform(Y_predicted),\n",
    "             index = Y_test.index, title = \"Pollution - predicted vs test data\")"
   ]
  },
  {
   "cell_type": "code",
   "execution_count": null,
   "id": "ec60be67-a06f-4dac-b573-a1347e761e67",
   "metadata": {},
   "outputs": [],
   "source": [
    "hyperband_test_scores = hyperband_best_model.evaluate(X_test_reframed, Y_test[backward_steps:], batch_size=hyperband_best_hps[\"batch_size\"], \n",
    "                                    use_multiprocessing=True,\n",
    "                                 )\n",
    "hyperband_test_scores"
   ]
  },
  {
   "cell_type": "code",
   "execution_count": null,
   "id": "31292a5f-a4ac-4e41-8bcb-d7bd488d5c5c",
   "metadata": {},
   "outputs": [],
   "source": [
    "from sklearn.metrics import r2_score\n",
    "r2_score(Y_test[backward_steps:], Y_predicted)"
   ]
  },
  {
   "cell_type": "code",
   "execution_count": null,
   "id": "e24cfa05-a780-4ccc-8700-4a9504495cf2",
   "metadata": {},
   "outputs": [],
   "source": [
    "hyperband_best_model.save(\"best_model_with_hyperband\")"
   ]
  },
  {
   "cell_type": "code",
   "execution_count": null,
   "id": "9347fe9b-543a-46b3-bd7a-5bfdfaddbf06",
   "metadata": {},
   "outputs": [],
   "source": [
    "tf.keras.models.load_model(\"best_model_with_hyperband\")"
   ]
  },
  {
   "cell_type": "code",
   "execution_count": null,
   "id": "f65ee8de-76f0-48f6-acf8-21b4e586f3a9",
   "metadata": {},
   "outputs": [],
   "source": []
  },
  {
   "cell_type": "code",
   "execution_count": null,
   "id": "847d076e-138c-466b-94b5-457e3edb54ac",
   "metadata": {
    "tags": []
   },
   "outputs": [],
   "source": [
    "################################################\n",
    "################################################"
   ]
  },
  {
   "cell_type": "code",
   "execution_count": null,
   "id": "e6a2fb9a-50da-46cd-9a4c-7d22dddb7116",
   "metadata": {
    "tags": []
   },
   "outputs": [],
   "source": [
    "from sklearn.model_selection import KFold\n",
    "scores=[]\n",
    "kFold=KFold(n_splits=5,shuffle=False)\n",
    "for train_index,test_index in kFold.split(X):\n",
    "    print(\"Train Index: \", train_index, \"\\n\")\n",
    "    print(\"Test Index: \", test_index)"
   ]
  },
  {
   "cell_type": "code",
   "execution_count": null,
   "id": "d77d5cf1-30f9-4d3f-8798-34dbc0e34a54",
   "metadata": {
    "tags": []
   },
   "outputs": [],
   "source": [
    "legacy"
   ]
  },
  {
   "cell_type": "code",
   "execution_count": null,
   "id": "6960c0cd-3a82-4523-beb3-98d0d75a6969",
   "metadata": {
    "tags": []
   },
   "outputs": [],
   "source": [
    "import plotly.express as px\n",
    "fig = px.parallel_coordinates(df, color=\"species_id\",\n",
    "                              dimensions=['sepal_width', 'sepal_length', 'petal_width',\n",
    "                                          'petal_length'],\n",
    "                              color_continuous_scale=px.colors.diverging.Tealrose,\n",
    "                              color_continuous_midpoint=2)\n",
    "fig.show()"
   ]
  },
  {
   "cell_type": "code",
   "execution_count": null,
   "id": "2e86daf3-36aa-43c3-aa67-3145849623f0",
   "metadata": {},
   "outputs": [],
   "source": [
    "print(list(divisorGenerator(132*8*8291)))"
   ]
  },
  {
   "cell_type": "code",
   "execution_count": null,
   "id": "01a9eb7d-2399-4841-b8de-33e5a7d44168",
   "metadata": {
    "tags": []
   },
   "outputs": [],
   "source": [
    "initinputs=Xtrainsc_sup.values.reshape(8291, 53, 94, 20, 1)#15,30,7129,154,1)"
   ]
  },
  {
   "cell_type": "code",
   "execution_count": null,
   "id": "f7efcea0-578c-4872-9c91-6102120ac43b",
   "metadata": {
    "tags": []
   },
   "outputs": [],
   "source": [
    "initinputs.shape"
   ]
  },
  {
   "cell_type": "code",
   "execution_count": null,
   "id": "7966e7ff-5a7e-440a-b9c8-aab7a5e68f7f",
   "metadata": {
    "tags": []
   },
   "outputs": [],
   "source": [
    "inputs = keras.Input(shape=(initinputs.shape[0], initinputs.shape[1],initinputs.shape[2], initinputs.shape[3], \n",
    "                            initinputs.shape[4]))"
   ]
  },
  {
   "cell_type": "code",
   "execution_count": null,
   "id": "32d066ad-9165-4c96-b35b-5c1a024ca4e2",
   "metadata": {
    "tags": []
   },
   "outputs": [],
   "source": [
    "#keras.Input(shape=(inputs.shape[0],inputs.shape[1], inputs.shape[2],inputs.shape[3], inputs.shape[4]))#, df2.shape[5]))\n",
    "inputs"
   ]
  },
  {
   "cell_type": "code",
   "execution_count": null,
   "id": "7da3befb-63cc-4e19-9a2c-b11f289612d9",
   "metadata": {
    "tags": []
   },
   "outputs": [],
   "source": [
    "# model.layers[0].input_shape"
   ]
  },
  {
   "cell_type": "code",
   "execution_count": null,
   "id": "f156cc9e-9352-4903-b8fa-807782e07586",
   "metadata": {
    "tags": []
   },
   "outputs": [],
   "source": [
    "#########If data_format='channels_first' 6D tensor with shape: (samples, time, channels, rows, cols, depth)\n",
    "#Input shape:\n",
    "#If data_format='channels_last' 5D tensor with shape: (samples <inputs takes care of batch_size for us with None>, \n",
    "#time, rows, cols, depth, channels)"
   ]
  },
  {
   "cell_type": "markdown",
   "id": "8faabc2e-b8b9-40a2-ba0d-c33ef3809200",
   "metadata": {},
   "source": [
    "None, 382, None, 552, 4, 6, 128 </br>\n",
    "timestep, width, height, number ofthe spectral band, kernel size and depth"
   ]
  },
  {
   "cell_type": "code",
   "execution_count": null,
   "id": "49b51ce7-723e-42d6-b74c-8468902a409b",
   "metadata": {
    "tags": []
   },
   "outputs": [],
   "source": [
    "from keras.layers import Masking\n",
    "model = tf.keras.Sequential()\n",
    "model.add(Masking(mask_value=-1, input_shape=(2, 1)))\n",
    "model.add(ConvLSTM3D(filters=30, \n",
    "                     kernel_size=(3, 3, 3), \n",
    "                     strides=(1,1,1),\n",
    "                     activation='relu', \n",
    "                     return_sequences=True,\n",
    "                     padding='same',\n",
    "                     data_format='channels_last',\n",
    "                     input_shape=(inputs.shape[1], inputs.shape[2], inputs.shape[3], inputs.shape[4], inputs.shape[5])))\n",
    "#model.add(MaxPooling3D(pool_size=(2, 2, 2)))\n",
    "model.add(layers.TimeDistributed(layers.MaxPooling3D(pool_size=(2,2,2))))\n",
    "model.add(BatchNormalization())\n",
    "model.add(Dropout(0.2))\n",
    "model.add(ConvLSTM3D(filters=16, \n",
    "                     kernel_size=(3, 3, 3), \n",
    "                     strides=(1,1,1),\n",
    "                     activation='relu', \n",
    "                     return_sequences=True,\n",
    "                     padding='same'))\n",
    "                     #data_format='channels_last'))\n",
    "                     #input_shape=(inputs.shape[0], inputs.shape[2], inputs.shape[3], inputs.shape[4], inputs.shape[5])))\n",
    "model.add(layers.TimeDistributed(layers.MaxPooling3D(pool_size=(2,2,2))))\n",
    "model.add(BatchNormalization())\n",
    "model.add(Dropout(0.2))\n",
    "model.add(ConvLSTM3D(filters=16, \n",
    "                     kernel_size=(3, 3, 3), \n",
    "                     strides=(1,1,1),\n",
    "                     activation='relu', \n",
    "                     return_sequences=True,\n",
    "                     padding='same'))\n",
    "                     #data_format='channels_last'))\n",
    "model.add(layers.TimeDistributed(layers.MaxPooling3D(pool_size=(2,2,2))))\n",
    "model.add(BatchNormalization())\n",
    "model.add(Dropout(0.2))\n",
    "model.add(ConvLSTM3D(filters=8, \n",
    "                     kernel_size=(1, 1, 128), \n",
    "                     strides=(1,1,1),\n",
    "                     activation='relu', \n",
    "                     return_sequences=True,\n",
    "                     padding='same'))\n",
    "                     #data_format='channels_last'))\n",
    "#model.add(MaxPooling3D(pool_size=(2, 2, 2)))\n",
    "model.add(layers.TimeDistributed(layers.MaxPooling3D(pool_size=(1,1,1))))\n",
    "model.add(BatchNormalization())\n",
    "model.add(Dropout(0.2))\n",
    "model.add(Reshape((45, 8291, 19, 8), input_shape=(8291, 6, 11, 2, 8)))\n",
    "model.add(Conv3DTranspose(8, (4, 4, 4), strides=(2,2,2), padding='same'))\n",
    "model.add(Conv3DTranspose(16, (4, 4, 4), strides=(2,2,2), padding='same'))\n",
    "model.add(Conv3DTranspose(16, (4, 4, 4), strides=(2,2,2), padding='same'))\n",
    "model.add(Conv3DTranspose(32, (4, 4, 4), strides=(2,2,2), padding='same'))\n",
    "model.add(TimeDistributed(Dense(1)))\n",
    "model.add(Flatten())\n",
    "# model.add(TimeDistributed(Dense(y_train[0])))\n",
    "# model.add(Dense(x_train.shape[1]))\n",
    "model.compile(loss='categorical_crossentropy',\n",
    "              optimizer=keras.optimizers.Adam(learning_rate=0.0001),\n",
    "              metrics=['accuracy'])\n",
    "model.summary()\n"
   ]
  },
  {
   "cell_type": "code",
   "execution_count": null,
   "id": "9ca2f219-910f-4558-b5fc-d440f7870a49",
   "metadata": {},
   "outputs": [],
   "source": [
    "print(model.summary)"
   ]
  },
  {
   "cell_type": "markdown",
   "id": "2f66f677-e32c-49ad-a2eb-3d571c66245b",
   "metadata": {},
   "source": [
    "## Look into"
   ]
  },
  {
   "cell_type": "code",
   "execution_count": null,
   "id": "a47a0836-b8fd-4c6c-87a7-fccd37d0e9f1",
   "metadata": {
    "tags": []
   },
   "outputs": [],
   "source": [
    "# model = tf.keras.Sequential()\n",
    "# model.add(ConvLSTM1D(filters=376, \n",
    "#                      kernel_size=3, \n",
    "#                      strides=1,\n",
    "#                      activation='relu', \n",
    "#                      return_sequences=True,\n",
    "#                      padding='valid',\n",
    "#                      data_format='channels_last',\n",
    "#                      input_shape=(inputs.shape[1], inputs.shape[2], inputs.shape[3])))\n",
    "# #model.add(MaxPool1D(pool_size=1))\n",
    "# #model.add(layers.TimeDistributed(layers.MaxPooling1D(pool_size=2)))\n",
    "# model.add(BatchNormalization())\n",
    "# model.add(Dropout(0.2))\n",
    "# model.add(ConvLSTM1D(filters=48, \n",
    "#                      kernel_size=3, \n",
    "#                      strides=1,\n",
    "#                      activation='relu', \n",
    "#                      return_sequences=True,\n",
    "#                      padding='valid'))\n",
    "#                      #data_format='channels_last'))\n",
    "#                      #input_shape=(inputs.shape[0], inputs.shape[2], inputs.shape[3], inputs.shape[4], inputs.shape[5])))\n",
    "# #model.add(layers.TimeDistributed(layers.MaxPooling3D(pool_size=2)))\n",
    "# model.add(BatchNormalization())\n",
    "# model.add(Dropout(0.2))\n",
    "# model.add(ConvLSTM1D(filters=16, \n",
    "#                      kernel_size=3, \n",
    "#                      strides=1,\n",
    "#                      activation='relu', \n",
    "#                      return_sequences=True,\n",
    "#                      padding='valid'))\n",
    "#                      #data_format='channels_last'))\n",
    "# #model.add(layers.TimeDistributed(layers.MaxPooling1D(pool_size=2)))\n",
    "# model.add(BatchNormalization())\n",
    "# model.add(Dropout(0.2))\n",
    "# model.add(ConvLSTM1D(filters=8, \n",
    "#                      kernel_size=1, \n",
    "#                      strides=1,\n",
    "#                      activation='relu', \n",
    "#                      return_sequences=True,\n",
    "#                      padding='valid'))\n",
    "#                      #data_format='channels_last'))\n",
    "# #model.add(MaxPooling3D(pool_size=(2, 2, 2)))\n",
    "# #model.add(layers.TimeDistributed(layers.MaxPooling1D(pool_size=1)))\n",
    "# model.add(BatchNormalization())\n",
    "# model.add(Dropout(0.2))\n",
    "# model.add(Reshape((14183608, 1), input_shape=(1772957, 1, 8)))\n",
    "# model.add(Conv1DTranspose(8, 4, strides=2, padding='valid'))\n",
    "# model.add(Conv1DTranspose(16, 4, strides=2, padding='valid'))\n",
    "# model.add(Conv1DTranspose(48, 4, strides=2, padding='valid'))\n",
    "# model.add(Conv1DTranspose(376, 4, strides=2, padding='valid'))\n",
    "# model.add(TimeDistributed(Dense(1)))\n",
    "# #model.add(Flatten())\n",
    "# # model.add(TimeDistributed(Dense(y_train[0])))\n",
    "# # model.add(Dense(x_train.shape[1]))\n",
    "# model.compile(loss='mse',#loss='categorical_crossentropy',\n",
    "#               optimizer=tf.keras.optimizers.legacy.Adam(learning_rate=0.0001),\n",
    "#               metrics=['MeanAbsoluteError','MeanSquaredError','RootMeanSquaredError'])#metrics=['accuracy'])\n",
    "# model.summary()"
   ]
  },
  {
   "cell_type": "code",
   "execution_count": null,
   "id": "65bcdd2b-1290-4edb-bcaf-0b1f42249621",
   "metadata": {
    "tags": []
   },
   "outputs": [],
   "source": [
    "# print(model.summary())"
   ]
  },
  {
   "cell_type": "code",
   "execution_count": null,
   "id": "5467a375-16dc-4f82-aa77-e3546d010e2c",
   "metadata": {
    "tags": []
   },
   "outputs": [],
   "source": [
    "#print(list(divisorGenerator(14183656)))"
   ]
  },
  {
   "cell_type": "code",
   "execution_count": null,
   "id": "84fd788e-6379-456b-a7b2-57433221b7fc",
   "metadata": {
    "tags": []
   },
   "outputs": [],
   "source": [
    "# Xtrainsc_sup_new=Xtrainsc_sup.reshape(1, 56, 31660, 450)\n",
    "# ytrainsc_sup_new=ytrainsc_sup.reshape(1, 56, 31660, 5)"
   ]
  },
  {
   "cell_type": "code",
   "execution_count": null,
   "id": "2419a5d8-a732-4aae-a142-7d18e6cba898",
   "metadata": {
    "tags": []
   },
   "outputs": [],
   "source": [
    "# # Fit data to model\n",
    "# history = model.fit(Xtrainsc_sup, ytrainsc_sup,\n",
    "#             batch_size=256,\n",
    "#             epochs=10,\n",
    "#             verbose=1,\n",
    "#                    validation_split=0.2)"
   ]
  },
  {
   "cell_type": "code",
   "execution_count": null,
   "id": "49b403f5-77e6-42d9-9cea-30dc3c34e52a",
   "metadata": {
    "tags": []
   },
   "outputs": [],
   "source": [
    "#Baseline model prior to training\n",
    "#model.evaluate(Xtrainsc_sup,ytrainsc_sup,verbose=1)\n",
    "#1: [0.9084790349006653, 0.9084790349006653, 0.9531416893005371]\n",
    "#2: [0.9072189331054688, 0.9072189331054688, 0.9524804353713989]\n",
    "#3: [0.9084791541099548, 0.9084791541099548, 0.9531500339508057]\n",
    "#4: [0.9240716099739075, 0.9240716099739075, 0.9612789154052734]\n",
    "#5: [0.8854997754096985, 0.8854997754096985, 0.9410284161567688]"
   ]
  },
  {
   "cell_type": "code",
   "execution_count": null,
   "id": "fd968399-ef95-4f78-8290-eb42d1bb2bd7",
   "metadata": {
    "tags": []
   },
   "outputs": [],
   "source": [
    "#pd.DataFrame(y_test_reframed_sup.reshape(215134,4))\n",
    "# #Naive Persistence Model\n",
    "# Y_p = pd.DataFrame(y_test_reframed_sup.reshape(215134,4)).iloc[:, -1]\n",
    "# np.mean(keras.losses.mean_squared_error(y_test_reframed_sup, Y_p))"
   ]
  },
  {
   "cell_type": "code",
   "execution_count": null,
   "id": "f0e546fa-e640-4775-8108-fcf14c3311bd",
   "metadata": {
    "tags": []
   },
   "outputs": [],
   "source": [
    "import tensorflow.keras.backend as K\n",
    "Xtr = K.constant(Xtrainsc_sup)\n",
    "ytr = K.constant(ytrainsc_sup)\n",
    "Xv = K.constant(Xvalidsc_sup)\n",
    "yv = K.constant(yvalidsc_sup)\n",
    "Xt = K.constant(Xtestsc_sup)\n",
    "yt = K.constant(ytestsc_sup)"
   ]
  },
  {
   "cell_type": "code",
   "execution_count": null,
   "id": "e52d44bb-3472-4206-b3a0-ee20dbdee1e0",
   "metadata": {
    "tags": []
   },
   "outputs": [],
   "source": [
    "history = model.fit(K.constant(df.loc['1969':'2018',:]), K.constant(df.loc['1969':'2018','ALT']), \n",
    "                    epochs=20, validation_data=(K.constant(df.loc['2019':'2021',:]), \n",
    "                                                K.constant(df.loc['2019':'2021','ALT'])))"
   ]
  },
  {
   "cell_type": "code",
   "execution_count": null,
   "id": "d51b6b15-de86-411c-83c6-a1868aa7be7b",
   "metadata": {
    "tags": []
   },
   "outputs": [],
   "source": [
    "insitumodule=model"
   ]
  },
  {
   "cell_type": "code",
   "execution_count": null,
   "id": "f756908c-cac6-4717-aebd-5b9e92be4375",
   "metadata": {
    "tags": []
   },
   "outputs": [],
   "source": [
    "inputs"
   ]
  },
  {
   "cell_type": "code",
   "execution_count": null,
   "id": "55dfae76-d7bb-4701-9b37-060d5c44760d",
   "metadata": {
    "tags": []
   },
   "outputs": [],
   "source": [
    "X_train_reframed.shape, y_train_reframed.shape"
   ]
  },
  {
   "cell_type": "code",
   "execution_count": null,
   "id": "3b3e6fa4-43c7-4a9b-b6c5-8e42c70a9c5a",
   "metadata": {
    "tags": []
   },
   "outputs": [],
   "source": [
    "#batch size\n",
    "#available GPU memory bytes / 4 / (size of tensors + trainable parameters)\n",
    "#16000 / 4 / (12 + 1)\n",
    "#~256"
   ]
  },
  {
   "cell_type": "code",
   "execution_count": null,
   "id": "bdbc9dbe-fc10-4507-b6a0-e1fb4bbaf64e",
   "metadata": {},
   "outputs": [],
   "source": [
    "#################"
   ]
  },
  {
   "cell_type": "code",
   "execution_count": null,
   "id": "5086529b-a132-47c9-97db-5a2e30fbf5dc",
   "metadata": {
    "tags": []
   },
   "outputs": [],
   "source": [
    "# from tensorflow.keras.models import Sequential, model_from_json\n",
    "# json_file = open('model_lstmsae_042323_insituALT.json', 'r')\n",
    "# loaded_model_json = json_file.read()\n",
    "# json_file.close()\n",
    "# loaded_model = model_from_json(loaded_model_json)\n",
    "# # load weights into new model\n",
    "# loaded_model.load_weights(\"model_lstmsae_042323_insituALT.h5\")\n",
    "# print(\"Loaded model from disk\")"
   ]
  },
  {
   "cell_type": "code",
   "execution_count": null,
   "id": "6493d4d7-2ccd-4307-9421-71db8dc31053",
   "metadata": {},
   "outputs": [],
   "source": [
    "###################"
   ]
  },
  {
   "cell_type": "code",
   "execution_count": null,
   "id": "8b186a72-efe3-474d-a202-60b90fed36e4",
   "metadata": {},
   "outputs": [],
   "source": [
    "# with open('trainHistoryDictALT', \"rb\") as file_pi:\n",
    "#     history = pickle.load(file_pi)"
   ]
  },
  {
   "cell_type": "code",
   "execution_count": null,
   "id": "a01b3194-c840-4f39-886e-019fdb3ec3ce",
   "metadata": {
    "tags": []
   },
   "outputs": [],
   "source": [
    "# # early stopping implementation\n",
    "# filepath=\"weights_bilstmsae_ALT.best_070723_experimental.hdf5\"\n",
    "# tensorboard_cb = keras.callbacks.TensorBoard(run_logdir)\n",
    "# checkpoint = keras.callbacks.ModelCheckpoint(filepath, monitor='val_loss', verbose=1, save_best_only=True, mode='min')\n",
    "# early_stop = keras.callbacks.EarlyStopping(monitor='val_loss', patience=10, mode='min') #patience=200, mode='min') \n",
    "# callbacks_list = [tensorboard_cb, checkpoint, early_stop]\n",
    "\n",
    "# history=insitumodule.fit(X_train_reframed, y_train_reframed, validation_data=(X_valid_reframed, y_valid_reframed), epochs=10, batch_size=256, verbose=1, \\\n",
    "#                          shuffle=False, callbacks=callbacks_list)"
   ]
  },
  {
   "cell_type": "code",
   "execution_count": null,
   "id": "ef66afa3-4992-44d2-967d-e281f0a05019",
   "metadata": {},
   "outputs": [],
   "source": []
  },
  {
   "cell_type": "code",
   "execution_count": null,
   "id": "8d434fa2-3717-4480-89b4-4dd5892b22e2",
   "metadata": {
    "jupyter": {
     "source_hidden": true
    }
   },
   "outputs": [],
   "source": [
    "# fig,ax = plt.subplots(figsize=(10,6), dpi=1000)\n",
    "# ln1=ax.plot(history.history['loss'], color='magenta', linestyle='solid', label='Loss (Training Loss)')\n",
    "# #ln2=ax.plot(history.history['val_loss'], color='dodgerblue', linestyle='solid', label='Val Loss (MSE)')\n",
    "# ln2=ax.plot(history.history['mean_absolute_error'], color='red', linestyle='dashed', label='Training MAE')\n",
    "# ln3=ax.plot(history.history['mean_squared_error'], color='green', linestyle='dashed', label='Training MSE')\n",
    "# ln4=ax.plot(history.history['root_mean_squared_error'], color='blue', linestyle='dashed', label='Training RMSE')\n",
    "# ln5=ax.plot(history.history['val_loss'], color='springgreen', linestyle='solid', label='Validation Loss')\n",
    "# ln6=ax.plot(history.history['val_mean_absolute_error'], color='red', linestyle='dotted', label='Validation MAE')\n",
    "# ln7=ax.plot(history.history['val_mean_squared_error'], color='green', linestyle='dotted', label='Validation MSE')\n",
    "# ln8=ax.plot(history.history['val_mean_squared_error'], color='blue', linestyle='dotted', label='Validation RMSE')\n",
    "# #ln2=ax.plot(sib.iloc[2:,7].replace(-9999,np.nan).dropna()color='springgreen', linestyle='dashed', label='Interior')\n",
    "# #ln3=ax.plot(sib.iloc[2:,16].replace(-9999,np.nan).dropna(), color='magenta', linestyle='dotted', label='Seward Peninsula')\n",
    "# #ln4=ax.plot(sib.iloc[2:,39].replace(-9999,np.nan).dropna(), color='dodgerblue', linestyle='dotted', label='Yukon-Kuskokwim Delta')\n",
    "# #ax2=ax.twinx();\n",
    "# #ln4=ax2.plot(validPredict, color='coral', linestyle='dotted')\n",
    "\n",
    "# lines = ln1 + ln2 +ln3 + ln4 + ln5 + ln6 + ln7 + ln8\n",
    "# labs = [line.get_label() for line in lines];\n",
    "# plt.legend(lines, labs, loc='best', fontsize=8)\n",
    "\n",
    "# ax.grid(linewidth=0.3);\n",
    "# ax.set_xlabel('Epochs', labelpad=10, fontsize=16);\n",
    "# ax.set_ylabel('Error (cm)', labelpad=10, fontsize=16)\n",
    "# #ax.set(xticklabels=[])  # remove the tick labels\n",
    "# ax.tick_params(left=False)  # remove the ticks\n",
    "# #plt.ylabel('Active Layer Thickness (cm)')\n",
    "# plt.title('GeoCryoAI In Situ Module | Bidirectional LSTM Autoencoder Loss Function \\n In Situ Thaw Depth Simulations (1969-2022)', pad=10)\n",
    "# #plt.xlabel('Year')\n",
    "# #plt.axis([0, 6, 0, 60])\n",
    "# #plt.legend(loc='best')\n",
    "# plt.show()\n",
    "# #plt.savefig('/Users/bradleygay/Downloads/bilstmae_insitu_ALT_loss.png',dpi=1000)"
   ]
  },
  {
   "cell_type": "code",
   "execution_count": null,
   "id": "a25901f0-8476-443e-b855-4a2aa7ed40b1",
   "metadata": {},
   "outputs": [],
   "source": [
    "X_test_reframed.shape"
   ]
  },
  {
   "cell_type": "code",
   "execution_count": null,
   "id": "8da634dc-f0b9-4112-854a-d09f98dc1d5f",
   "metadata": {},
   "outputs": [],
   "source": [
    "Xscaler.inverse_transform(X_test_reframed.reshape(215136,456))"
   ]
  },
  {
   "cell_type": "code",
   "execution_count": null,
   "id": "5b75357f-24b5-4547-8903-2f105190c6a1",
   "metadata": {},
   "outputs": [],
   "source": [
    "X_train_reframed.shape"
   ]
  },
  {
   "cell_type": "code",
   "execution_count": null,
   "id": "3659e963-32c8-4add-8156-ec34443d59cf",
   "metadata": {},
   "outputs": [],
   "source": [
    "#X_train_reframed_sup.shape\n",
    "#1772957*376#666631832\n",
    "#666631832/94#7091828.0\n",
    "Xscaler.inverse_transform(X_train_reframed.reshape(1432317,456))"
   ]
  },
  {
   "cell_type": "code",
   "execution_count": null,
   "id": "4e845ab2-9d34-4e97-8dc0-95fdaff8e489",
   "metadata": {},
   "outputs": [],
   "source": [
    "X_valid_reframed.shape"
   ]
  },
  {
   "cell_type": "code",
   "execution_count": null,
   "id": "39245119-0ccb-428d-a8fa-ef00d775bfbd",
   "metadata": {},
   "outputs": [],
   "source": [
    "#X_valid_reframed_sup.shape\n",
    "#453141*376#170381016\n",
    "#170381016/94#1812564.0\n",
    "Xscaler.inverse_transform(X_valid_reframed.reshape(453144,456))"
   ]
  },
  {
   "cell_type": "code",
   "execution_count": null,
   "id": "5f4f71b1-9d26-4384-94c3-66f99ee68cbc",
   "metadata": {},
   "outputs": [],
   "source": [
    "#y_test_reframed.shape\n",
    "215136/32\n",
    ".reshape(32,6723,1)"
   ]
  },
  {
   "cell_type": "code",
   "execution_count": null,
   "id": "e2042523-a274-43ac-a5b2-4282af388f9a",
   "metadata": {},
   "outputs": [],
   "source": [
    "yscaler.inverse_transform(y_test_reframed.reshape(215136,1))"
   ]
  },
  {
   "cell_type": "code",
   "execution_count": null,
   "id": "ad8cabf8-c2fd-43f7-a5e7-c3f709c0139d",
   "metadata": {},
   "outputs": [],
   "source": [
    "score_experimental = model2.evaluate(X_test_reframed, y_test_reframed, verbose = 1) "
   ]
  },
  {
   "cell_type": "code",
   "execution_count": null,
   "id": "4a0da6bf-fa82-496d-b068-72957d28c195",
   "metadata": {},
   "outputs": [],
   "source": [
    "y_predicted_reframed = model2.predict(X_test_reframed, verbose = 1, use_multiprocessing = True)"
   ]
  },
  {
   "cell_type": "code",
   "execution_count": null,
   "id": "90b119b0-a064-4de0-86b2-7c68a851a199",
   "metadata": {},
   "outputs": [],
   "source": []
  },
  {
   "cell_type": "code",
   "execution_count": null,
   "id": "f62196a3-2bc3-4484-932b-7b5539ebba03",
   "metadata": {},
   "outputs": [],
   "source": [
    "np.sqrt(mean_squared_error(y_test_reframed.reshape(215136,1), y_predicted_reframed.reshape(215136,1)))"
   ]
  },
  {
   "cell_type": "code",
   "execution_count": null,
   "id": "2e4f1464-1c73-4640-b5ef-861b52268330",
   "metadata": {},
   "outputs": [],
   "source": [
    "print(\"R^2: {}\".format(reg_all.score(X_test, y_test)))\n",
    "rmse = np.sqrt(mean_squared_error(y_test, y_pred))\n",
    "print(\"Root Mean Squared Error: {}\".format(rmse))"
   ]
  },
  {
   "cell_type": "code",
   "execution_count": null,
   "id": "ba44a230-7564-426e-842a-a265f3a5c3fb",
   "metadata": {},
   "outputs": [],
   "source": [
    "y_predicted_reframed=y_predicted_reframed.reshape(215136,1,1)"
   ]
  },
  {
   "cell_type": "code",
   "execution_count": null,
   "id": "354e7dc5-737e-4de6-ad30-fe177f0184cf",
   "metadata": {},
   "outputs": [],
   "source": [
    "y_predicted_scaled = y_predicted_reframed.reshape(y_predicted_reframed.shape[0], y_predicted_reframed.shape[1])"
   ]
  },
  {
   "cell_type": "code",
   "execution_count": null,
   "id": "7dd99df5-798e-43bb-9df5-c96777b1ffe9",
   "metadata": {},
   "outputs": [],
   "source": [
    "#y_predicted_reframed = yscaler.inverse_transform(y_predicted_reframed)"
   ]
  },
  {
   "cell_type": "code",
   "execution_count": null,
   "id": "22942ac4-d5d1-4bc5-b7ae-e3cb09fe95d8",
   "metadata": {},
   "outputs": [],
   "source": [
    "y_predicted = yscaler.inverse_transform(y_predicted_scaled)"
   ]
  },
  {
   "cell_type": "code",
   "execution_count": null,
   "id": "35af9ecf-58cb-4b35-86fc-1bf8f3a8ec79",
   "metadata": {},
   "outputs": [],
   "source": [
    "y_test_reframed.shape, testy.shape, testysc.shape"
   ]
  },
  {
   "cell_type": "code",
   "execution_count": null,
   "id": "b8e84ffe-1ace-44ff-a2bc-7e33fdfdd8c3",
   "metadata": {},
   "outputs": [],
   "source": [
    "MSE_testpred = sklearn.metrics.mean_squared_error(y_test_reframed, y_predicted_reframed)\n",
    "MSE_testpred"
   ]
  },
  {
   "cell_type": "code",
   "execution_count": null,
   "id": "95ae2364-cf41-49b3-b732-361ad3bdf790",
   "metadata": {},
   "outputs": [],
   "source": []
  },
  {
   "cell_type": "code",
   "execution_count": null,
   "id": "b2333407-4d8e-4d57-8d48-6ebc51a7f150",
   "metadata": {},
   "outputs": [],
   "source": [
    "from sklearn.metrics import confusion_matrix\n",
    "cm = confusion_matrix(y_test_reframed, y_predicted_reframed)\n",
    "cm"
   ]
  },
  {
   "cell_type": "code",
   "execution_count": null,
   "id": "79a6ef19-e03a-4433-b1c1-2ab5248e669b",
   "metadata": {},
   "outputs": [],
   "source": [
    "from sklearn.model_selection import cross_val_score\n",
    "accuracies = cross_val_score(estimator = model,X = X_train_reframed,y = y_train_reframed,cv = 10,n_jobs = -1)"
   ]
  },
  {
   "cell_type": "code",
   "execution_count": null,
   "id": "25e1cbde-bfc1-47ed-b066-0fd6cb2a48c3",
   "metadata": {},
   "outputs": [],
   "source": [
    "mean = accuracies.mean()\n",
    "mean"
   ]
  },
  {
   "cell_type": "code",
   "execution_count": null,
   "id": "4833c8ce-858c-4c97-8527-a3c4da024752",
   "metadata": {},
   "outputs": [],
   "source": [
    "variance = accuracies.var()\n",
    "variance"
   ]
  },
  {
   "cell_type": "code",
   "execution_count": null,
   "id": "5e16a7e1-9564-49a3-9024-55365d9c2eea",
   "metadata": {},
   "outputs": [],
   "source": [
    "y_test_reframed.shape, y_predicted_reframed.shape, y_predicted_scaled.shape"
   ]
  },
  {
   "cell_type": "code",
   "execution_count": null,
   "id": "2ff79be3-b8e7-4038-95ff-d6fd3f850978",
   "metadata": {},
   "outputs": [],
   "source": [
    "y_test_reframed_inv=yscaler.inverse_transform(y_test_reframed.reshape(215136,1))"
   ]
  },
  {
   "cell_type": "code",
   "execution_count": null,
   "id": "e307c343-d30a-4168-b68f-0ec3062cc8fe",
   "metadata": {},
   "outputs": [],
   "source": [
    "# def plot_results(Y_test, Y_predicted, title = \"Test Data and Predictions\", index = None):\n",
    "#     if index is None:\n",
    "#         index = range(0, Y_test.shape[0])\n",
    "#     df_index = pd.DataFrame(data = index, index = range(0, Y_test.shape[0]))\n",
    "#     df_index.columns = [\"user_index\"]  \n",
    "\n",
    "#     shift = Y_test.shape[0] - Y_predicted.shape[0]\n",
    "\n",
    "#     fig, axes = plt.subplots(figsize = (9, 6), sharex = True, nrows = Y_test.shape[1], squeeze = False)\n",
    "    \n",
    "#     for target, ax in enumerate(axes.flat):\n",
    "#         ax.step(df_index.values, Y_test[:,target], where = \"post\", label = \"Testing Set\", color = \"blue\")\n",
    "#         ax.step(df_index.loc[shift:, \"user_index\"].values, Y_predicted[:,target], where = \"post\", \n",
    "#                 label = \"Predictions\", color = \"red\")\n",
    "    \n",
    "#     plt.suptitle(title)\n",
    "#     plt.legend()"
   ]
  },
  {
   "cell_type": "code",
   "execution_count": null,
   "id": "ce74a56b-7afb-4656-9ecc-92e5b0b104e6",
   "metadata": {},
   "outputs": [],
   "source": [
    "# plot_results(y_test_reframed_inv, y_predicted_scaled, index = y_test_reframed_inv, \n",
    "#              title = \"GeoCryoAI Loss | Active Layer Thickness /n Predictions v. Test Data\")"
   ]
  },
  {
   "cell_type": "code",
   "execution_count": null,
   "id": "40db555c-36ab-4a17-93ae-5b1416648df5",
   "metadata": {},
   "outputs": [],
   "source": [
    "plt.plot(y_train_reframed.reshape(1432317,1))\n",
    "plt.plot(y_valid_reframed.reshape(453144,1))\n",
    "plt.plot(y_test_reframed_inv)"
   ]
  },
  {
   "cell_type": "code",
   "execution_count": null,
   "id": "471f1c18-eaf5-4440-975f-fcca3295255f",
   "metadata": {},
   "outputs": [],
   "source": [
    "################################################################\n",
    "#Model\n",
    "################################################################"
   ]
  },
  {
   "cell_type": "code",
   "execution_count": null,
   "id": "4cd5d741-012a-431c-b012-0b68799d0cd6",
   "metadata": {},
   "outputs": [],
   "source": [
    "#plt.plot(history2.history['mean_absolute_error'])\n",
    "#plt.plot(history2.history['mean_squared_error'])\n",
    "#plt.plot(history2.history['val_mean_absolute_error'])\n",
    "#plt.plot(history2.history['val_mean_squared_error'])"
   ]
  },
  {
   "cell_type": "code",
   "execution_count": null,
   "id": "2ac77316-3864-44ac-99e6-c9a90a656ae8",
   "metadata": {
    "tags": []
   },
   "outputs": [],
   "source": [
    "# fig,ax = plt.subplots(figsize=(10,6), dpi=1000)\n",
    "# ln1=ax.plot(history2.history['loss'], color='magenta', linestyle='solid', label='Loss (MSE)')\n",
    "# ln2=ax.plot(history2.history['val_loss'], color='dodgerblue', linestyle='solid', label='Val Loss (MSE)')\n",
    "# ln3=ax.plot(history2.history['mean_absolute_error'], color='springgreen', linestyle='dotted', label='MAE')\n",
    "# #ln4=ax.plot(history.history['mean_squared_error'], color='springgreen', linestyle='dashed', label='Seward Peninsula')\n",
    "# #ln4=ax.plot(history2.history['root_mean_squared_error'], color='springgreen', linestyle='dashed', label='RMSE')\n",
    "# ln4=ax.plot(history2.history['val_mean_absolute_error'], color='red', linestyle='dotted', label='Val MAE')\n",
    "# #ln7=ax.plot(history.history['val_mean_squared_error'], color='red', linestyle='dashed', label='Seward Peninsula')\n",
    "# #ln6=ax.plot(history2.history['val_root_mean_squared_error'], color='red', linestyle='dashed', label='Val RMSE')\n",
    "# #ln2=ax.plot(sib.iloc[2:,7].replace(-9999,np.nan).dropna()color='springgreen', linestyle='dashed', label='Interior')\n",
    "# #ln3=ax.plot(sib.iloc[2:,16].replace(-9999,np.nan).dropna(), color='magenta', linestyle='dotted', label='Seward Peninsula')\n",
    "# #ln4=ax.plot(sib.iloc[2:,39].replace(-9999,np.nan).dropna(), color='dodgerblue', linestyle='dotted', label='Yukon-Kuskokwim Delta')\n",
    "# #ax2=ax.twinx();\n",
    "# #ln4=ax2.plot(validPredict, color='coral', linestyle='dotted')\n",
    "\n",
    "# lines = ln1 + ln2 + ln3 + ln4 #+ ln5 #+ ln6# + ln7 + ln8\n",
    "# labs = [line.get_label() for line in lines];\n",
    "# plt.legend(lines, labs, loc='lower left', fontsize=8)\n",
    "\n",
    "# ax.grid(linewidth=0.3);\n",
    "# ax.set_xlabel('Epochs', labelpad=10, fontsize=16);\n",
    "# ax.set_ylabel('Loss (cm)', labelpad=10, fontsize=16)\n",
    "# #ax.set(xticklabels=[])  # remove the tick labels\n",
    "# ax.tick_params(left=False)  # remove the ticks\n",
    "# #plt.ylabel('Active Layer Thickness (cm)')\n",
    "# plt.title('GeoCryoAI In Situ Module | Bidirectional LSTM Autoencoder Loss Function \\n In Situ Thaw Depth Simulations (1969-2022)', pad=10)\n",
    "# #plt.xlabel('Year')\n",
    "# #plt.axis([0, 6, 0, 60])\n",
    "# #plt.legend(loc='best')\n",
    "# plt.show()\n",
    "# #plt.savefig('/Users/bradleygay/Downloads/bilstmae_insitu_ALT_loss.png',dpi=1000)"
   ]
  },
  {
   "cell_type": "code",
   "execution_count": null,
   "id": "1cbdda86-507d-48d3-9a25-8ff00ff19ac7",
   "metadata": {},
   "outputs": [],
   "source": [
    "fig,ax = plt.subplots(figsize=(10,6), dpi=1000)\n",
    "#ln1=ax.plot(history2.history['mean_absolute_error'], color='magenta', linestyle='solid', label='Loss (MAE)')\n",
    "#ln1=ax.plot(history2.history['mean_squared_error'], color='dodgerblue', linestyle='solid', label='Loss (MSE)')\n",
    "#ln1=ax.plot(history2.history['loss'], color='springgreen', linestyle='solid', label='Loss (MSE)')\n",
    "ln1=ax.plot(history2.history['val_mean_squared_error'], color='coral', linestyle='solid', label='Validation Loss (MSE)')\n",
    "plt.legend(loc='best', fontsize=8)\n",
    "ax.grid(linewidth=0.3);\n",
    "# ax.set_xlabel('Full Iterations (Epochs)', labelpad=15, fontsize=10);\n",
    "# ax.set_ylabel('Loss, MSE (cm)', labelpad=15, fontsize=10)\n",
    "# #ax.set_ylabel('Validation Loss, MSE (cm)', labelpad=15, fontsize=10)\n",
    "ax.set_xlabel('Full Iterations (Epochs)', labelpad=15, fontsize=10);\n",
    "#ax.set_ylabel('Loss, MSE (nmolCH4m2s-1)', labelpad=15, fontsize=10)\n",
    "ax.set_ylabel('Validation Loss, MSE (nmolCH4m2s-1)', labelpad=15, fontsize=10)\n",
    "#ax.set(xticklabels=[])  # remove the tick labels\n",
    "ax.tick_params(left=False)  # remove the ticks\n",
    "#plt.ylabel('Active Layer Thickness (cm)')\n",
    "# plt.title('GeoCryoAI Training Loss | In Situ Thaw Depth Simulations [1969-2022]', pad=15, fontsize=14)\n",
    "# #plt.title('GeoCryoAI Validation Loss | In Situ Thaw Depth Simulations [1969-2022]', pad=15, fontsize=14)\n",
    "#plt.title('GeoCryoAI Training Loss | In Situ CH4 Flux Simulations [2011-2019]', pad=15, fontsize=14)\n",
    "plt.title('GeoCryoAI Validation Loss | In Situ CH4 Flux Simulations [2011-2019]', pad=15, fontsize=14)\n",
    "#plt.xlabel('Year')\n",
    "#plt.axis([0, 6, 0, 60])\n",
    "#plt.legend(loc='best')\n",
    "plt.show()\n",
    "#plt.savefig('/Users/bradleygay/Downloads/bilstmae_insitu_ALT_loss.png',dpi=1000)"
   ]
  },
  {
   "cell_type": "code",
   "execution_count": null,
   "id": "c87ffcf8-b947-4246-88fc-e6d7f0f09cd5",
   "metadata": {},
   "outputs": [],
   "source": [
    "ex=history2"
   ]
  },
  {
   "cell_type": "code",
   "execution_count": null,
   "id": "12d11a84-724b-4a1e-9c83-b93bf96188e0",
   "metadata": {
    "tags": []
   },
   "outputs": [],
   "source": [
    "# convert the history.history dict to a pandas DataFrame:     \n",
    "hist_df = pd.DataFrame(history2.history) \n",
    "\n",
    "# save to json:  \n",
    "#hist_json_file = 'historyALT_experimental.json' \n",
    "hist_json_file = 'historyCH4_experimental.json' \n",
    "#hist_json_file = 'historyCO2_experimental.json' \n",
    "with open(hist_json_file, mode='w') as f:\n",
    "    hist_df.to_json(f)\n",
    "\n",
    "# or save to csv: \n",
    "#hist_csv_file = 'historyALT_experimental.csv'\n",
    "hist_csv_file = 'historyCH4_experimental.csv'\n",
    "#hist_csv_file = 'historyCO2_experimental.csv'\n",
    "with open(hist_csv_file, mode='w') as f:\n",
    "    hist_df.to_csv(f)"
   ]
  },
  {
   "cell_type": "code",
   "execution_count": null,
   "id": "2c40d28b-cca3-444e-87b4-aa09ea294f02",
   "metadata": {
    "tags": []
   },
   "outputs": [],
   "source": [
    "#with open('trainHistoryDictALT_experimental', 'wb') as file_pi:\n",
    "with open('trainHistoryDictCH4_experimental', 'wb') as file_pi:\n",
    "#with open('trainHistoryDictCO2_experimental', 'wb') as file_pi:\n",
    "    pickle.dump(history2.history, file_pi)"
   ]
  },
  {
   "cell_type": "code",
   "execution_count": null,
   "id": "0904b3a0-b50a-4866-8d0e-5278a62380e6",
   "metadata": {
    "tags": []
   },
   "outputs": [],
   "source": [
    "# from statsmodels.tsa.stattools import adfuller\n",
    "# adfuller(np.array(y_test_reframed_sup).reshape(860536,))"
   ]
  },
  {
   "cell_type": "code",
   "execution_count": null,
   "id": "88918a89-6a31-43d6-8ff4-0caa8325e44e",
   "metadata": {
    "tags": []
   },
   "outputs": [],
   "source": [
    "#Z=X_train_reshaped.reshape(1772957,285)"
   ]
  },
  {
   "cell_type": "code",
   "execution_count": null,
   "id": "9ce83acf-ca20-4d65-8a56-35eeb7515dfd",
   "metadata": {
    "tags": []
   },
   "outputs": [],
   "source": [
    "# #Spatial Autocorrelation\n",
    "\n",
    "# # Use your matrix here, instead of this random one\n",
    "# #Z = np.random.rand(200,150)\n",
    "\n",
    "# # Create the matrix of weigthts \n",
    "# w = lat2W(Z.shape[0], Z.shape[1])\n",
    "\n",
    "# # Create the pysal Moran object \n",
    "# mi = Moran(Z, w)\n",
    "\n",
    "# # Verify Moran's I results \n",
    "# print(mi.I) \n",
    "# print(mi.p_norm)"
   ]
  },
  {
   "cell_type": "markdown",
   "id": "5e907933-5230-49c5-8344-be3a08b33825",
   "metadata": {
    "jp-MarkdownHeadingCollapsed": true
   },
   "source": [
    "## Continue..."
   ]
  },
  {
   "cell_type": "code",
   "execution_count": null,
   "id": "b9eda9d3-7441-4d0d-ac0c-e72376a7363c",
   "metadata": {
    "tags": []
   },
   "outputs": [],
   "source": [
    "#geocryoai(X_train)\n",
    "#img_file = '/Users/bradleygay/Downloads/model_arch.jpeg'\n",
    "img_file = '/Users/bradleygay/Downloads/GeoCryoAI_Arch_042123.jpeg'\n",
    "tf.keras.utils.plot_model(model, to_file=img_file, show_shapes=True, show_layer_names=True, dpi=1000)"
   ]
  },
  {
   "cell_type": "code",
   "execution_count": null,
   "id": "48d79e8c-6204-4e62-beee-a886bf1e6f39",
   "metadata": {
    "tags": []
   },
   "outputs": [],
   "source": [
    "#like a sore thumb"
   ]
  },
  {
   "cell_type": "code",
   "execution_count": null,
   "id": "11a50e36-cc47-464b-89bb-5cd4d1e7112f",
   "metadata": {
    "tags": []
   },
   "outputs": [],
   "source": [
    "#realsc=realsc.reshape(239,37,425,1,744)"
   ]
  },
  {
   "cell_type": "code",
   "execution_count": null,
   "id": "fff435f7-ebfe-4dcc-86a3-b8de4b871fd3",
   "metadata": {
    "tags": []
   },
   "outputs": [],
   "source": [
    "model.layers[0].input_shape"
   ]
  },
  {
   "cell_type": "code",
   "execution_count": null,
   "id": "fd12fce5-8e54-45f9-800d-f37cd2cf7bc0",
   "metadata": {
    "tags": []
   },
   "outputs": [],
   "source": [
    "model.layers[0].output_shape"
   ]
  },
  {
   "cell_type": "code",
   "execution_count": null,
   "id": "a3450ca9-031e-45bf-9ac1-4ad870bf29f0",
   "metadata": {
    "tags": []
   },
   "outputs": [],
   "source": [
    "inputs.shape"
   ]
  },
  {
   "cell_type": "code",
   "execution_count": null,
   "id": "b07da212-004b-4202-80b6-071d6be9b713",
   "metadata": {
    "tags": []
   },
   "outputs": [],
   "source": []
  },
  {
   "cell_type": "code",
   "execution_count": null,
   "id": "7b1fc220-ec3b-4293-b82c-35e3a987958d",
   "metadata": {
    "tags": []
   },
   "outputs": [],
   "source": [
    "print(list(divisorGenerator(450)))"
   ]
  },
  {
   "cell_type": "code",
   "execution_count": null,
   "id": "8ec89a73-742e-4337-9917-35840c40e247",
   "metadata": {
    "tags": []
   },
   "outputs": [],
   "source": [
    "outinputs=initinputs.reshape(15,30,7129, 154,1)"
   ]
  },
  {
   "cell_type": "code",
   "execution_count": null,
   "id": "e5d0a5ab-101e-4262-b235-81f69d382ae2",
   "metadata": {
    "tags": []
   },
   "outputs": [],
   "source": [
    "#outinputs.flatten().reshape(10,45,7129,154,1)\n",
    "outinputs=outinputs.reshape(15, 30, 7129, 154, 1)"
   ]
  },
  {
   "cell_type": "code",
   "execution_count": null,
   "id": "bd8d7f2f-e81d-4db4-b380-eb74ced7f03c",
   "metadata": {
    "tags": []
   },
   "outputs": [],
   "source": [
    "from sklearn.model_selection import train_test_split\n",
    "\n",
    "# Separate the test data\n",
    "x, x_test, y, y_test = train_test_split(outinputs, list(range(outinputs.shape[0])), test_size=0.1, shuffle=False)\n",
    "\n",
    "# Split the remaining data to train and validation\n",
    "x_train, x_val, y_train, y_val = train_test_split(x, y, test_size=0.2, shuffle=False)"
   ]
  },
  {
   "cell_type": "code",
   "execution_count": null,
   "id": "81e847bb-c66c-4d29-86a6-eeb225f2d80d",
   "metadata": {
    "tags": []
   },
   "outputs": [],
   "source": [
    "X_train, X_test, y_train, y_test = train_test_split(x, y, test_size=0.3, shuffle=False)"
   ]
  },
  {
   "cell_type": "code",
   "execution_count": null,
   "id": "1ba86bb9-b89e-40f7-bb8b-4d69648509b7",
   "metadata": {
    "tags": []
   },
   "outputs": [],
   "source": [
    "X_train.shape, x_test.shape"
   ]
  },
  {
   "cell_type": "code",
   "execution_count": null,
   "id": "6b5cff87-0bc4-4226-8ab7-e747e2e0f7a7",
   "metadata": {
    "tags": []
   },
   "outputs": [],
   "source": []
  },
  {
   "cell_type": "code",
   "execution_count": null,
   "id": "556b3ef1-869c-494e-8e20-4821d87acc81",
   "metadata": {
    "tags": []
   },
   "outputs": [],
   "source": [
    "x_train=x_train.reshape(10, 10, 30,7129,154,1)\n",
    "x_val=x_val.reshape(3, 10, 30, 7129,154,1)\n",
    "x_test=x_test.reshape(2, 30,7129,154,1)"
   ]
  },
  {
   "cell_type": "code",
   "execution_count": null,
   "id": "017fdd71-4781-4645-bda7-f09a2daca5f5",
   "metadata": {},
   "outputs": [],
   "source": [
    "# x_train=x_train.reshape(1,324,7129,154,1,1)\n",
    "# x_val=x_val.reshape(27,3,7129,154,1,1)\n",
    "# x_test=x_test.reshape(15,3,7129,154,1,1)"
   ]
  },
  {
   "cell_type": "code",
   "execution_count": null,
   "id": "93dc6aac-3d6a-4874-b80c-02c0b8f3bc77",
   "metadata": {
    "tags": []
   },
   "outputs": [],
   "source": [
    "y_train=np.asarray(y_train).reshape(1,10)\n",
    "y_val=np.asarray(y_val).reshape(1,3)\n",
    "y_test=np.asarray(y_test).reshape(1,2)"
   ]
  },
  {
   "cell_type": "code",
   "execution_count": null,
   "id": "f280afc2-786a-4d59-ae51-d194b3a737fb",
   "metadata": {
    "tags": []
   },
   "outputs": [],
   "source": [
    "y_train.shape"
   ]
  },
  {
   "cell_type": "code",
   "execution_count": null,
   "id": "6008f82a-d117-4892-b49c-d587491ca149",
   "metadata": {
    "tags": []
   },
   "outputs": [],
   "source": [
    "model.layers[0].input_shape"
   ]
  },
  {
   "cell_type": "code",
   "execution_count": null,
   "id": "60184a17-af73-4f5c-be9e-5735f8004596",
   "metadata": {
    "tags": []
   },
   "outputs": [],
   "source": [
    "# inputs2 = keras.Input(shape=(x_train.shape[0], x_train.shape[1],x_train.shape[2], x_train.shape[3], x_train.shape[4]))\n",
    "# inputs3 = keras.Input(shape=(x_val.shape[0], x_val.shape[1],x_val.shape[2], x_val.shape[3], x_val.shape[4]))\n",
    "# inputs3y = keras.Input(shape=(yv[0],yv[1],yv[2]))\n",
    "# inputs4 = keras.Input(shape=(x_test.shape[0], x_test.shape[1],x_test.shape[2], x_test.shape[3], x_test.shape[4]))"
   ]
  },
  {
   "cell_type": "code",
   "execution_count": null,
   "id": "58529794-cea0-40a2-a505-bbdf6463b14c",
   "metadata": {
    "tags": []
   },
   "outputs": [],
   "source": [
    "x_traint=tf.convert_to_tensor(x_train)\n",
    "y_traint=tf.convert_to_tensor(y_train)\n",
    "x_valt=tf.convert_to_tensor(x_val)\n",
    "y_valt=tf.convert_to_tensor(y_val)\n",
    "x_testt=tf.convert_to_tensor(x_test)\n",
    "x_testt=tf.convert_to_tensor(x_test)"
   ]
  },
  {
   "cell_type": "code",
   "execution_count": null,
   "id": "cab7d3e2-b681-407a-b16c-bb002c392c21",
   "metadata": {
    "tags": []
   },
   "outputs": [],
   "source": [
    "x_traint.shape, y_traint.shape, x_valt.shape, x_testt.shape"
   ]
  },
  {
   "cell_type": "code",
   "execution_count": null,
   "id": "61a5f6ba-ba8a-4d05-9cb7-d546c02dc2e5",
   "metadata": {
    "tags": []
   },
   "outputs": [],
   "source": [
    "#model's first layer is looking for this shape: (None, 1, 450, 7129, 154, 1)\n",
    "# x_traint.shape"
   ]
  },
  {
   "cell_type": "code",
   "execution_count": null,
   "id": "66c460d1-5249-48a1-b8ab-70c04501bb5b",
   "metadata": {},
   "outputs": [],
   "source": [
    "# Fit data to model\n",
    "history = model.fit(x,y,\n",
    "            batch_size=256,\n",
    "            epochs=10,\n",
    "            verbose=1,\n",
    "            validation_data=(x_valt,y_valt))"
   ]
  },
  {
   "cell_type": "code",
   "execution_count": null,
   "id": "f97a71ac-ded8-4dd8-a0d4-f175bff1e314",
   "metadata": {},
   "outputs": [],
   "source": [
    "import rioxarray # for the extension to load\n",
    "import xarray\n",
    "\n",
    "%matplotlib inline"
   ]
  },
  {
   "cell_type": "code",
   "execution_count": null,
   "id": "700cb4b7-b418-4ff0-adb7-601642bc6786",
   "metadata": {},
   "outputs": [],
   "source": [
    "x=xarray.open_dataarray(rast)"
   ]
  },
  {
   "cell_type": "code",
   "execution_count": null,
   "id": "42d2f73e-6ef8-44a0-aa85-e118f8213cec",
   "metadata": {},
   "outputs": [],
   "source": [
    "#Scandinavian Bliss"
   ]
  },
  {
   "cell_type": "code",
   "execution_count": null,
   "id": "dbc79251-c5d3-4d85-9521-318e7f8029a6",
   "metadata": {
    "tags": []
   },
   "outputs": [],
   "source": [
    "unw_tns.plot()"
   ]
  },
  {
   "cell_type": "markdown",
   "id": "daa9bb8d-c25f-4cd8-9894-60d1325004a3",
   "metadata": {
    "jp-MarkdownHeadingCollapsed": true,
    "tags": []
   },
   "source": [
    "# Exploratory"
   ]
  },
  {
   "cell_type": "code",
   "execution_count": null,
   "id": "fa419cda-8acd-40fc-8c5d-b33d2eb72160",
   "metadata": {
    "tags": []
   },
   "outputs": [],
   "source": [
    "X=df.loc[:,df.columns!='ALT']; y=df.loc[:,df.columns=='ALT']"
   ]
  },
  {
   "cell_type": "code",
   "execution_count": null,
   "id": "5d7af9ed-1391-497b-878f-c40a55f01a40",
   "metadata": {
    "tags": []
   },
   "outputs": [],
   "source": [
    "import shap"
   ]
  },
  {
   "cell_type": "code",
   "execution_count": null,
   "id": "860bc0de-c8b8-4be2-a9c7-d156e1cadb27",
   "metadata": {
    "tags": []
   },
   "outputs": [],
   "source": [
    "def f(X):\n",
    "    return regression.predict([X[:,i] for i in range(X.shape[1])]).flatten()"
   ]
  },
  {
   "cell_type": "code",
   "execution_count": null,
   "id": "f5c5fa13-aae9-48ea-9234-b77a40c3c6f1",
   "metadata": {
    "tags": []
   },
   "outputs": [],
   "source": [
    "\n",
    "Xtrain, Xtest, ytrain, ytest = train_test_split(X, y, test_size=0.1, random_state=1)\n",
    "Xtrain, Xvalid, ytrain, yvalid = train_test_split(Xtrain, ytrain, test_size=0.05, random_state=1) # 0.25 x 0.8 = 0.2"
   ]
  },
  {
   "cell_type": "code",
   "execution_count": null,
   "id": "f0f8e378-0514-4e0c-abd7-2d90d7261a54",
   "metadata": {
    "tags": []
   },
   "outputs": [],
   "source": [
    "# #CO2 (defined based on CO2 temporal coverage (5-years lag, 3-years lead)\n",
    "# features=df.loc[:,df.columns != 'CO2_1_1_1']; target=df.loc[:,df.columns == 'CO2_1_1_1']\n",
    "# Xtrain=features.loc['2003':'2018']; ytrain=target.loc['2003':'2018'] #use for training\n",
    "# Xvalid=features.loc['2019':'2020']; yvalid=target.loc['2019':'2020'] #use for validation\n",
    "# Xtest=features.loc['2020':'2021']; ytest=target.loc['2020':'2021'] #use for testing"
   ]
  },
  {
   "cell_type": "code",
   "execution_count": null,
   "id": "25a15879-e993-44b1-906d-3360a62bbf42",
   "metadata": {
    "tags": []
   },
   "outputs": [],
   "source": [
    "# #CH4 (defined based on CH4 temporal coverage (5-years lag, 3-years lead)\n",
    "# features=df.loc[:,df.columns != 'CH4_1_1_1']; target=df.loc[:,df.columns == 'CH4_1_1_1'] \n",
    "# Xtrain=features.loc['2003':'2018']; ytrain=target.loc['2003':'2018'] #use for training\n",
    "# Xvalid=features.loc['2019':'2020']; yvalid=target.loc['2019':'2020'] #use for validation\n",
    "# Xtest=features.loc['2019':'2021']; ytest=target.loc['2019':'2021'] #use for testing"
   ]
  },
  {
   "cell_type": "code",
   "execution_count": null,
   "id": "8fcfe151-54a8-4c1d-b8ed-7412cd6b2ac2",
   "metadata": {
    "tags": []
   },
   "outputs": [],
   "source": [
    "#newXt=Xtrain.values.reshape(34764,51,90)"
   ]
  },
  {
   "cell_type": "code",
   "execution_count": null,
   "id": "0a7db7a0-43e0-4f6e-bcf2-8d646733a891",
   "metadata": {
    "tags": []
   },
   "outputs": [],
   "source": [
    "#Xtrain.loc[:,'CO2_1_1_1'].replace(-9999,np.nan).dropna() #2003-2018\n",
    "#Xtrain.loc[:,'CH4_1_1_1'].replace(-9999,np.nan).dropna() #2003-2018, 2019-2020, 2021\n",
    "#ytrain.loc['2003':'2021','ALT'].replace(-9999,np.nan).dropna() #2003-2021=62078\n",
    "\n",
    "#df.loc['2003':'2021','ALT'].replace(-9999,np.nan).dropna() #2003-2021=78861\n",
    "#78861*.8 #63089"
   ]
  },
  {
   "cell_type": "code",
   "execution_count": null,
   "id": "41116a46-f408-4eae-ba30-bee9309a0a99",
   "metadata": {
    "tags": []
   },
   "outputs": [],
   "source": [
    "#ytrain.replace(-9999,np.nan).dropna()"
   ]
  },
  {
   "cell_type": "code",
   "execution_count": null,
   "id": "c1d60c27-e793-4fd9-aea9-229f6386c9a7",
   "metadata": {},
   "outputs": [],
   "source": [
    "#X_train, X_test, y_train, y_test = train_test_split(features, y, test_size=0.3, shuffle=False)"
   ]
  },
  {
   "cell_type": "code",
   "execution_count": null,
   "id": "bff01d9c-27f7-4516-93c6-72845f92c5ff",
   "metadata": {
    "tags": []
   },
   "outputs": [],
   "source": [
    "df"
   ]
  },
  {
   "cell_type": "code",
   "execution_count": null,
   "id": "4cfca6ac-f15d-467c-9277-2c4a8cf7974b",
   "metadata": {
    "tags": []
   },
   "outputs": [],
   "source": [
    "Xtrain.shape, ytrain.shape, \\\n",
    "Xvalid.shape, yvalid.shape, \\\n",
    "Xtest.shape, ytest.shape"
   ]
  },
  {
   "cell_type": "code",
   "execution_count": null,
   "id": "15cdb2ae-2bdd-4afa-a8d6-ab95feedb3fc",
   "metadata": {
    "tags": []
   },
   "outputs": [],
   "source": [
    "Xscaler=StandardScaler()\n",
    "yscaler=StandardScaler()\n",
    "Xtrainsc=Xscaler.fit_transform(Xtrain)\n",
    "ytrainsc=yscaler.fit_transform(ytrain)\n",
    "Xvalidsc=Xscaler.transform(Xvalid)\n",
    "yvalidsc=yscaler.transform(yvalid)\n",
    "Xtestsc=Xscaler.transform(Xtest)\n",
    "ytestsc=yscaler.transform(ytest)"
   ]
  },
  {
   "cell_type": "code",
   "execution_count": null,
   "id": "e2bf78c0-5077-482e-b01c-10b9dfef5ef9",
   "metadata": {
    "tags": []
   },
   "outputs": [],
   "source": [
    "def series_to_supervised(data, lags = 1, forecasting_steps = 1, dropna=True):\n",
    "    n_vars = 1 if type(data) is list else data.shape[1]\n",
    "    df = pd.DataFrame(data)\n",
    "    cols, names = list(), list()\n",
    "    for i in range(lags, 0, -1):\n",
    "        cols.append(df.shift(i))\n",
    "        names += [(df.columns[j], str('t-%d') %  i) for j in range(n_vars)]\n",
    "    for a in range(0, forecasting_steps):\n",
    "        cols.append(df.shift(-a))\n",
    "        if a == 0:\n",
    "            names += [(df.columns[b], str('t')) for b in range(n_vars)]\n",
    "        else:\n",
    "            names += [(df.columns[b], str('t+%d') %  a) for b in range(n_vars)]\n",
    "    agg = pd.concat(cols, axis=1)\n",
    "    agg.columns = names\n",
    "    agg = agg.loc[:,~agg.columns.duplicated()]\n",
    "    if dropna:\n",
    "        agg.dropna(inplace=True)\n",
    "    return agg"
   ]
  },
  {
   "cell_type": "code",
   "execution_count": null,
   "id": "8d9301d3-7a8b-4dd3-ab47-9cfda9b860b1",
   "metadata": {
    "tags": []
   },
   "outputs": [],
   "source": [
    "Xtrainsc_sup=series_to_supervised(Xtrainsc,lags=3, forecasting_steps=2, dropna=True)"
   ]
  },
  {
   "cell_type": "code",
   "execution_count": null,
   "id": "0357037f-0f7a-40e3-b6b2-385201fe94f4",
   "metadata": {
    "tags": []
   },
   "outputs": [],
   "source": [
    "ytrainsc_sup=series_to_supervised(ytrainsc,lags=3, forecasting_steps=2,dropna=True)"
   ]
  },
  {
   "cell_type": "code",
   "execution_count": null,
   "id": "56113ca7-3457-401b-afdf-c00ba725aa8e",
   "metadata": {
    "tags": []
   },
   "outputs": [],
   "source": [
    "Xvalidsc_sup=series_to_supervised(Xvalidsc,lags=3, forecasting_steps=2,dropna=True)"
   ]
  },
  {
   "cell_type": "code",
   "execution_count": null,
   "id": "da767ccb-226d-40f9-b0fc-475c72b8b169",
   "metadata": {
    "tags": []
   },
   "outputs": [],
   "source": [
    "yvalidsc_sup=series_to_supervised(yvalidsc,lags=3, forecasting_steps=2,dropna=True)"
   ]
  },
  {
   "cell_type": "code",
   "execution_count": null,
   "id": "0fe9b2e2-0a4a-4101-a63b-a735f7e31e72",
   "metadata": {
    "tags": []
   },
   "outputs": [],
   "source": [
    "Xtestsc_sup=series_to_supervised(Xtestsc,lags=3, forecasting_steps=2,dropna=True)"
   ]
  },
  {
   "cell_type": "code",
   "execution_count": null,
   "id": "97625922-e5cb-4b03-b492-c737539b51c8",
   "metadata": {},
   "outputs": [],
   "source": [
    "ytestsc_sup=series_to_supervised(ytestsc,lags=3, forecasting_steps=2,dropna=True)"
   ]
  },
  {
   "cell_type": "code",
   "execution_count": null,
   "id": "5faf8c2f-b7bb-4bb1-b831-9133f4d0824d",
   "metadata": {
    "tags": []
   },
   "outputs": [],
   "source": [
    "Xtrainsc_sup.shape, ytrainsc_sup.shape, \\\n",
    "Xvalidsc_sup.shape, yvalidsc_sup.shape, \\\n",
    "Xtestsc_sup.shape, ytestsc_sup.shape"
   ]
  },
  {
   "cell_type": "code",
   "execution_count": null,
   "id": "e00f59d6-e42f-4a14-8012-2ff441c45cc7",
   "metadata": {
    "tags": []
   },
   "outputs": [],
   "source": [
    "print(list(divisorGenerator(8788460)))"
   ]
  },
  {
   "cell_type": "code",
   "execution_count": null,
   "id": "de579b5f-984f-4953-9c93-eb4e8f1aea8a",
   "metadata": {
    "tags": []
   },
   "outputs": [],
   "source": [
    "Xtrainsc_sup.values.reshape(33164,53,5,94);"
   ]
  },
  {
   "cell_type": "code",
   "execution_count": null,
   "id": "87b45967-1293-4bd7-9dfa-8f7ee1d545b2",
   "metadata": {
    "tags": []
   },
   "outputs": [],
   "source": [
    "Xtrainsc_sup=Xtrainsc_sup.values.reshape(56,31660,450);\n",
    "ytrainsc_sup=ytrainsc_sup.values.reshape(56,31660,5);\n",
    "Xvalidsc_sup=Xvalidsc_sup.values.reshape(13,34857,450);\n",
    "yvalidsc_sup=yvalidsc_sup.values.reshape(13,34857,5);\n",
    "Xtestsc_sup=Xtestsc_sup.values.reshape(3,71711,450);\n",
    "ytestsc_sup=ytestsc_sup.values.reshape(3,71711,5)"
   ]
  },
  {
   "cell_type": "code",
   "execution_count": null,
   "id": "f7986c94-745b-43d2-9ffc-8fc954895b29",
   "metadata": {
    "tags": []
   },
   "outputs": [],
   "source": [
    "Xtrainsc_sup.shape, ytrainsc_sup.shape, \\\n",
    "Xvalidsc_sup.shape, yvalidsc_sup.shape, \\\n",
    "Xtestsc_sup.shape, ytestsc_sup.shape"
   ]
  },
  {
   "cell_type": "code",
   "execution_count": null,
   "id": "09af9e44-e7f4-4e6e-acc2-9b45f106a19e",
   "metadata": {
    "tags": []
   },
   "outputs": [],
   "source": [
    "backend.clear_session()"
   ]
  },
  {
   "cell_type": "code",
   "execution_count": null,
   "id": "1b503648-eeb6-42c0-962f-ab3910f8a414",
   "metadata": {
    "tags": []
   },
   "outputs": [],
   "source": [
    "print(Xtrain.shape)\n",
    "print(Xtrainsc.shape)\n",
    "print(Xtrainsc_sup.shape)\n",
    "print('///')\n",
    "print(ytrain.shape)\n",
    "print(ytrainsc.shape)\n",
    "print(ytrainsc_sup.shape)\n",
    "print('///')\n",
    "print(Xvalid.shape)\n",
    "print(Xvalidsc.shape)\n",
    "print(Xvalidsc_sup.shape)\n",
    "print('///')\n",
    "print(yvalid.shape)\n",
    "print(yvalidsc.shape)\n",
    "print(yvalidsc_sup.shape)\n",
    "print('///')\n",
    "print(Xtest.shape)\n",
    "print(Xtestsc.shape)\n",
    "print(Xtestsc_sup.shape)\n",
    "print('///')\n",
    "print(ytest.shape)\n",
    "print(ytestsc.shape)\n",
    "print(ytestsc_sup.shape)\n",
    "#df_trainsc.shape, df_Xtrainsc.shape, df_ytrainsc.shape, df_Xtrainsc_s2s.shape"
   ]
  },
  {
   "cell_type": "code",
   "execution_count": null,
   "id": "94872433-1699-48bd-9ab2-edd2904ecd27",
   "metadata": {
    "tags": []
   },
   "outputs": [],
   "source": [
    "# filepatha = Path('/Users/bradleygay/Downloads/CH4_X_trainsc.pkl')\n",
    "# filepathb = Path('/Users/bradleygay/Downloads/CH4_y_trainsc.pkl')\n",
    "# filepathc = Path('/Users/bradleygay/Downloads/CH4_X_testsc.pkl')\n",
    "# filepathd = Path('/Users/bradleygay/Downloads/CH4_y_testsc.pkl')\n",
    "# with open(filepatha, 'wb') as f:\n",
    "#     pickle.dump(X_trainsc, f)\n",
    "# with open(filepathb, 'wb') as f:\n",
    "#     pickle.dump(y_trainsc, f)\n",
    "# with open(filepathc, 'wb') as f:\n",
    "#     pickle.dump(X_testsc, f)\n",
    "# with open(filepathd, 'wb') as f:\n",
    "#     pickle.dump(y_testsc, f)"
   ]
  },
  {
   "cell_type": "code",
   "execution_count": null,
   "id": "09381e6a-502e-4f6d-a398-e23865846967",
   "metadata": {
    "tags": []
   },
   "outputs": [],
   "source": [
    "# filepatha = Path('/Users/bradleygay/Downloads/CO2_X_trainsc.pkl')\n",
    "# filepathb = Path('/Users/bradleygay/Downloads/CO2_y_trainsc.pkl')\n",
    "# filepathc = Path('/Users/bradleygay/Downloads/CO2_X_testsc.pkl')\n",
    "# filepathd = Path('/Users/bradleygay/Downloads/CO2_y_testsc.pkl')\n",
    "# with open(filepatha, 'wb') as f:\n",
    "#     pickle.dump(X_trainsc, f)\n",
    "# with open(filepathb, 'wb') as f:\n",
    "#     pickle.dump(y_trainsc, f)\n",
    "# with open(filepathc, 'wb') as f:\n",
    "#     pickle.dump(X_testsc, f)\n",
    "# with open(filepathd, 'wb') as f:\n",
    "#     pickle.dump(y_testsc, f)"
   ]
  },
  {
   "cell_type": "code",
   "execution_count": null,
   "id": "10ac2262-a069-4935-97b0-4252b251f548",
   "metadata": {
    "tags": []
   },
   "outputs": [],
   "source": [
    "Xtrainsc_sup.shape, type(Xtrainsc_sup), ytrainsc_sup.shape, type(ytrainsc_sup), \\\n",
    "df.shape, type(df)"
   ]
  },
  {
   "cell_type": "code",
   "execution_count": null,
   "id": "b9e85600-4a85-4850-a86b-9f58cadbc560",
   "metadata": {},
   "outputs": [],
   "source": [
    "#TNS\n",
    "#68.6068, -149.2958\n",
    "#68.6058, -149.3110\n",
    "#INT\n",
    "#63.8784, -149.2536\n",
    "#63.8757, -149.2133\n",
    "#SEW\n",
    "#64.8618, -163.7002\n",
    "#YKD\n",
    "#61.2548, -163.2590\n",
    "#61.2723, -163.2228"
   ]
  },
  {
   "cell_type": "code",
   "execution_count": null,
   "id": "f55efc88-418a-4727-bb34-71a51d6cc084",
   "metadata": {
    "tags": []
   },
   "outputs": [],
   "source": [
    "#ALT\n",
    "Xtrainsc_sup.shape, ytrainsc_sup.shape, df.shape"
   ]
  },
  {
   "cell_type": "markdown",
   "id": "83c19829-6798-4785-a11b-d1671658473f",
   "metadata": {},
   "source": [
    "######"
   ]
  },
  {
   "cell_type": "markdown",
   "id": "26f83c54-8f84-45ce-a6b9-9bd1ac92cc34",
   "metadata": {},
   "source": [
    "#"
   ]
  },
  {
   "cell_type": "markdown",
   "id": "e592a28a-e61b-40a8-a0d5-9b4e46b16832",
   "metadata": {},
   "source": [
    "######"
   ]
  },
  {
   "cell_type": "markdown",
   "id": "ab324d8e-0dc6-4e8d-b434-ba62f2816d04",
   "metadata": {},
   "source": [
    "# <>"
   ]
  },
  {
   "cell_type": "markdown",
   "id": "c5e17a7a-fd26-4ca7-99a8-3546620ff20b",
   "metadata": {},
   "source": [
    "# END OF CODEBASE FOR MANUSCRIPT 1"
   ]
  },
  {
   "cell_type": "markdown",
   "id": "7dec15eb-b3be-4702-ab3a-704a658e0e5b",
   "metadata": {},
   "source": [
    "######"
   ]
  }
 ],
 "metadata": {
  "kernelspec": {
   "display_name": "Python 3 (ipykernel)",
   "language": "python",
   "name": "python3"
  },
  "language_info": {
   "codemirror_mode": {
    "name": "ipython",
    "version": 3
   },
   "file_extension": ".py",
   "mimetype": "text/x-python",
   "name": "python",
   "nbconvert_exporter": "python",
   "pygments_lexer": "ipython3",
   "version": "3.8.17"
  }
 },
 "nbformat": 4,
 "nbformat_minor": 5
}
