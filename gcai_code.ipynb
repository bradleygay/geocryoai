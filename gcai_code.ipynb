{
 "cells": [
  {
   "cell_type": "markdown",
   "id": "67fb4879-c302-4b34-b384-6db5fb1832a2",
   "metadata": {},
   "source": [
    "### Title: Dissertation Codebase | _GeoCryoAI Notebook_\n",
    "#### Author: Bradley A. Gay\n",
    "#### Date: 08/20/2022 (Updated: 04/22/2023)"
   ]
  },
  {
   "cell_type": "markdown",
   "id": "01efae6f-5c5c-4665-961a-7e83ad82ee83",
   "metadata": {
    "jp-MarkdownHeadingCollapsed": true
   },
   "source": [
    "# Libraries"
   ]
  },
  {
   "cell_type": "code",
   "execution_count": 2,
   "id": "a80b7a3b-7439-4b9b-a474-859a4cfed288",
   "metadata": {
    "tags": []
   },
   "outputs": [],
   "source": [
    "import os, sys\n",
    "import datetime\n",
    "import re\n",
    "import glob\n",
    "import requests\n",
    "import warnings\n",
    "#\n",
    "import bs4\n",
    "import eofs\n",
    "import pyts\n",
    "import pyarrow\n",
    "import numpy as np\n",
    "import pandas as pd\n",
    "import polars\n",
    "import polars as pl\n",
    "import pickle\n",
    "import math\n",
    "import time\n",
    "import cftime\n",
    "from osgeo import gdal\n",
    "#\n",
    "import sklearn\n",
    "import tensorflow as tf\n",
    "import tensorflow.keras.backend as K\n",
    "import keras.backend as K\n",
    "import keras.optimizers\n",
    "import keras_tuner\n",
    "import statsmodels\n",
    "import pyrsgis\n",
    "#\n",
    "import matplotlib as mpl\n",
    "import matplotlib.pyplot as plt\n",
    "import seaborn as sns\n",
    "import csv\n",
    "import io\n",
    "##\n",
    "from numpy import isnan, array, count_nonzero\n",
    "from pandas import read_csv, DataFrame, concat\n",
    "from itertools import groupby, islice\n",
    "from operator import itemgetter\n",
    "from pathlib import Path\n",
    "from datetime import datetime as dt\n",
    "from datetime import timedelta\n",
    "from pyrsgis import raster\n",
    "#\n",
    "from pywaffle import Waffle\n",
    "from eofs.standard import Eof\n",
    "from statsmodels.tsa.arima.model import ARIMA\n",
    "#\n",
    "from sklearn import linear_model\n",
    "from sklearn.preprocessing import MinMaxScaler, StandardScaler, RobustScaler, PowerTransformer, Normalizer\n",
    "from sklearn.model_selection import train_test_split\n",
    "from sklearn.metrics import mean_absolute_error, mean_absolute_percentage_error, accuracy_score, confusion_matrix, ConfusionMatrixDisplay, consensus_score, explained_variance_score,r2_score, roc_auc_score, roc_curve\n",
    "from sklearn.metrics import jaccard_score, mean_squared_error, nan_euclidean_distances, precision_score\n",
    "from tensorflow import keras\n",
    "from tensorflow.keras import layers\n",
    "from tensorflow.keras.callbacks import *\n",
    "from keras_tuner.engine.hyperparameters import HyperParameters\n",
    "from keras_tuner.tuners import RandomSearch, BayesianOptimization, Hyperband\n",
    "from keras_tuner import HyperModel\n",
    "#import tensorflow_addons\n",
    "#from tensorflow_addons.metrics.r_square import RSquare\n",
    "from keras_tuner.tuners import *\n",
    "from keras import backend as K\n",
    "from keras import optimizers \n",
    "from keras.preprocessing import *\n",
    "from keras.models import Sequential\n",
    "from keras.layers import Dense, InputLayer, Dropout, Flatten, BatchNormalization, Conv1D, Bidirectional\n",
    "from keras.layers import *\n",
    "from keras.activations import swish, elu, gelu, selu, sigmoid, relu, tanh, linear, softmax, swish\n",
    "from keras.layers import MaxPool1D\n",
    "from keras import *\n",
    "from keras.models import Model, Sequential\n",
    "import os\n",
    "\n",
    "import numpy as np\n",
    "import matplotlib.pyplot as plt\n",
    "import seaborn as sns\n",
    "import geopandas as gpd\n",
    "import rioxarray as rxr\n",
    "import spectral\n",
    "from spectral import *\n",
    "import earthpy as et\n",
    "import xarray as xr\n",
    "from libpysal.weights import lat2W\n",
    "from esda.moran import Moran\n",
    "\n",
    "from keras.layers import Reshape\n",
    "import pydot\n",
    "import pydotplus\n",
    "import graphviz\n",
    "from keras import layers\n",
    "from keras import models\n",
    "from keras.utils import plot_model\n",
    "import datetime\n",
    "from datetime import datetime\n",
    "\n",
    "# Prettier plotting with seaborn\n",
    "sns.set(font_scale=1.5, style=\"white\")\n",
    "# 1. Initialize the notebook using the necessary libraries\n",
    "import zipfile\n",
    "import getpass\n",
    "from osgeo import gdal \n",
    "import codecs # for text parsing code\n",
    "import netrc\n",
    "import rasterio as rio\n",
    "import glob\n",
    "import rioxarray\n",
    "from rasterio.plot import show # plotting raster data\n",
    "from rasterio.plot import show_hist #histograms of raster data\n",
    "\n",
    "%matplotlib inline\n",
    "import matplotlib as mpl\n",
    "mpl.rcParams['agg.path.chunksize'] = 10000\n",
    "\n",
    "# Function\n",
    "def divisorGenerator(n):\n",
    "    large_divisors = []\n",
    "    for i in range(1, int(math.sqrt(n) + 1)):\n",
    "        if n % i == 0:\n",
    "            yield i\n",
    "            if i*i != n:\n",
    "                large_divisors.append(n / i)\n",
    "    for divisor in reversed(large_divisors):\n",
    "        yield divisor"
   ]
  },
  {
   "cell_type": "markdown",
   "id": "c578d65b-fa00-4b2a-bdc1-7640c780f1cd",
   "metadata": {
    "tags": []
   },
   "source": [
    "# In Situ"
   ]
  },
  {
   "cell_type": "markdown",
   "id": "d0468ac6-73ff-4283-af91-b723d38e9e1a",
   "metadata": {
    "tags": []
   },
   "source": [
    "### Load"
   ]
  },
  {
   "cell_type": "code",
   "execution_count": 3,
   "id": "99358274-3738-4f27-b3e3-c30c62fbdc69",
   "metadata": {
    "tags": []
   },
   "outputs": [],
   "source": [
    "file = os.path.join('/Volumes/mambo5/insitu/df_ak.pkl')\n",
    "with open(file, 'rb') as f:\n",
    "    df = pickle.load(f)"
   ]
  },
  {
   "cell_type": "code",
   "execution_count": 4,
   "id": "52c20624-bc76-4602-a821-112080d4831a",
   "metadata": {
    "tags": []
   },
   "outputs": [
    {
     "data": {
      "text/plain": [
       "(2441246, 97)"
      ]
     },
     "execution_count": 4,
     "metadata": {},
     "output_type": "execute_result"
    }
   ],
   "source": [
    "#legacy=df\n",
    "df.shape"
   ]
  },
  {
   "cell_type": "code",
   "execution_count": 5,
   "id": "11ce01e8-3d23-4f25-8b6c-60db84eb3301",
   "metadata": {
    "tags": []
   },
   "outputs": [
    {
     "data": {
      "text/html": [
       "<div>\n",
       "<style scoped>\n",
       "    .dataframe tbody tr th:only-of-type {\n",
       "        vertical-align: middle;\n",
       "    }\n",
       "\n",
       "    .dataframe tbody tr th {\n",
       "        vertical-align: top;\n",
       "    }\n",
       "\n",
       "    .dataframe thead th {\n",
       "        text-align: right;\n",
       "    }\n",
       "</style>\n",
       "<table border=\"1\" class=\"dataframe\">\n",
       "  <thead>\n",
       "    <tr style=\"text-align: right;\">\n",
       "      <th></th>\n",
       "      <th>TIMESTAMP_START</th>\n",
       "      <th>TIMESTAMP_END</th>\n",
       "      <th>DATE</th>\n",
       "      <th>SITE</th>\n",
       "      <th>SUBDOMAIN</th>\n",
       "      <th>WS_MEAN</th>\n",
       "      <th>WS_STD</th>\n",
       "      <th>WD_MEAN</th>\n",
       "      <th>WD_STD</th>\n",
       "      <th>CO2_MEAN</th>\n",
       "      <th>...</th>\n",
       "      <th>WTD_3_1_1</th>\n",
       "      <th>TW_1_1_1</th>\n",
       "      <th>TW_2_1_1</th>\n",
       "      <th>D_SNOW</th>\n",
       "      <th>LAI</th>\n",
       "      <th>SOIL_PCAR</th>\n",
       "      <th>NEE</th>\n",
       "      <th>GPP</th>\n",
       "      <th>RECO</th>\n",
       "      <th>ALT</th>\n",
       "    </tr>\n",
       "  </thead>\n",
       "  <tbody>\n",
       "    <tr>\n",
       "      <th>0</th>\n",
       "      <td>201101000000.0</td>\n",
       "      <td>201101000000.0</td>\n",
       "      <td>2011</td>\n",
       "      <td>usbzf</td>\n",
       "      <td>int</td>\n",
       "      <td>-9999.000</td>\n",
       "      <td>NaN</td>\n",
       "      <td>-9999.0</td>\n",
       "      <td>NaN</td>\n",
       "      <td>NaN</td>\n",
       "      <td>...</td>\n",
       "      <td>NaN</td>\n",
       "      <td>NaN</td>\n",
       "      <td>NaN</td>\n",
       "      <td>-9999.0</td>\n",
       "      <td>NaN</td>\n",
       "      <td>NaN</td>\n",
       "      <td>NaN</td>\n",
       "      <td>NaN</td>\n",
       "      <td>NaN</td>\n",
       "      <td>NaN</td>\n",
       "    </tr>\n",
       "    <tr>\n",
       "      <th>1</th>\n",
       "      <td>201101000000.0</td>\n",
       "      <td>201101000000.0</td>\n",
       "      <td>2011</td>\n",
       "      <td>usbzf</td>\n",
       "      <td>int</td>\n",
       "      <td>-9999.000</td>\n",
       "      <td>NaN</td>\n",
       "      <td>-9999.0</td>\n",
       "      <td>NaN</td>\n",
       "      <td>NaN</td>\n",
       "      <td>...</td>\n",
       "      <td>NaN</td>\n",
       "      <td>NaN</td>\n",
       "      <td>NaN</td>\n",
       "      <td>-9999.0</td>\n",
       "      <td>NaN</td>\n",
       "      <td>NaN</td>\n",
       "      <td>NaN</td>\n",
       "      <td>NaN</td>\n",
       "      <td>NaN</td>\n",
       "      <td>NaN</td>\n",
       "    </tr>\n",
       "    <tr>\n",
       "      <th>2</th>\n",
       "      <td>201101000000.0</td>\n",
       "      <td>201101000000.0</td>\n",
       "      <td>2011</td>\n",
       "      <td>usbzf</td>\n",
       "      <td>int</td>\n",
       "      <td>-9999.000</td>\n",
       "      <td>NaN</td>\n",
       "      <td>-9999.0</td>\n",
       "      <td>NaN</td>\n",
       "      <td>NaN</td>\n",
       "      <td>...</td>\n",
       "      <td>NaN</td>\n",
       "      <td>NaN</td>\n",
       "      <td>NaN</td>\n",
       "      <td>-9999.0</td>\n",
       "      <td>NaN</td>\n",
       "      <td>NaN</td>\n",
       "      <td>NaN</td>\n",
       "      <td>NaN</td>\n",
       "      <td>NaN</td>\n",
       "      <td>NaN</td>\n",
       "    </tr>\n",
       "    <tr>\n",
       "      <th>3</th>\n",
       "      <td>201101000000.0</td>\n",
       "      <td>201101000000.0</td>\n",
       "      <td>2011</td>\n",
       "      <td>usbzf</td>\n",
       "      <td>int</td>\n",
       "      <td>-9999.000</td>\n",
       "      <td>NaN</td>\n",
       "      <td>-9999.0</td>\n",
       "      <td>NaN</td>\n",
       "      <td>NaN</td>\n",
       "      <td>...</td>\n",
       "      <td>NaN</td>\n",
       "      <td>NaN</td>\n",
       "      <td>NaN</td>\n",
       "      <td>-9999.0</td>\n",
       "      <td>NaN</td>\n",
       "      <td>NaN</td>\n",
       "      <td>NaN</td>\n",
       "      <td>NaN</td>\n",
       "      <td>NaN</td>\n",
       "      <td>NaN</td>\n",
       "    </tr>\n",
       "    <tr>\n",
       "      <th>4</th>\n",
       "      <td>201101000000.0</td>\n",
       "      <td>201101000000.0</td>\n",
       "      <td>2011</td>\n",
       "      <td>usbzf</td>\n",
       "      <td>int</td>\n",
       "      <td>-9999.000</td>\n",
       "      <td>NaN</td>\n",
       "      <td>-9999.0</td>\n",
       "      <td>NaN</td>\n",
       "      <td>NaN</td>\n",
       "      <td>...</td>\n",
       "      <td>NaN</td>\n",
       "      <td>NaN</td>\n",
       "      <td>NaN</td>\n",
       "      <td>-9999.0</td>\n",
       "      <td>NaN</td>\n",
       "      <td>NaN</td>\n",
       "      <td>NaN</td>\n",
       "      <td>NaN</td>\n",
       "      <td>NaN</td>\n",
       "      <td>NaN</td>\n",
       "    </tr>\n",
       "    <tr>\n",
       "      <th>...</th>\n",
       "      <td>...</td>\n",
       "      <td>...</td>\n",
       "      <td>...</td>\n",
       "      <td>...</td>\n",
       "      <td>...</td>\n",
       "      <td>...</td>\n",
       "      <td>...</td>\n",
       "      <td>...</td>\n",
       "      <td>...</td>\n",
       "      <td>...</td>\n",
       "      <td>...</td>\n",
       "      <td>...</td>\n",
       "      <td>...</td>\n",
       "      <td>...</td>\n",
       "      <td>...</td>\n",
       "      <td>...</td>\n",
       "      <td>...</td>\n",
       "      <td>...</td>\n",
       "      <td>...</td>\n",
       "      <td>...</td>\n",
       "      <td>...</td>\n",
       "    </tr>\n",
       "    <tr>\n",
       "      <th>2441241</th>\n",
       "      <td>202112000000.0</td>\n",
       "      <td>202112000000.0</td>\n",
       "      <td>2021</td>\n",
       "      <td>usich</td>\n",
       "      <td>tns</td>\n",
       "      <td>0.340</td>\n",
       "      <td>NaN</td>\n",
       "      <td>-9999.0</td>\n",
       "      <td>NaN</td>\n",
       "      <td>NaN</td>\n",
       "      <td>...</td>\n",
       "      <td>NaN</td>\n",
       "      <td>NaN</td>\n",
       "      <td>NaN</td>\n",
       "      <td>34.6</td>\n",
       "      <td>NaN</td>\n",
       "      <td>NaN</td>\n",
       "      <td>NaN</td>\n",
       "      <td>NaN</td>\n",
       "      <td>NaN</td>\n",
       "      <td>NaN</td>\n",
       "    </tr>\n",
       "    <tr>\n",
       "      <th>2441242</th>\n",
       "      <td>202112000000.0</td>\n",
       "      <td>202112000000.0</td>\n",
       "      <td>2021</td>\n",
       "      <td>usich</td>\n",
       "      <td>tns</td>\n",
       "      <td>0.133</td>\n",
       "      <td>NaN</td>\n",
       "      <td>-9999.0</td>\n",
       "      <td>NaN</td>\n",
       "      <td>NaN</td>\n",
       "      <td>...</td>\n",
       "      <td>NaN</td>\n",
       "      <td>NaN</td>\n",
       "      <td>NaN</td>\n",
       "      <td>34.6</td>\n",
       "      <td>NaN</td>\n",
       "      <td>NaN</td>\n",
       "      <td>NaN</td>\n",
       "      <td>NaN</td>\n",
       "      <td>NaN</td>\n",
       "      <td>NaN</td>\n",
       "    </tr>\n",
       "    <tr>\n",
       "      <th>2441243</th>\n",
       "      <td>202112000000.0</td>\n",
       "      <td>202112000000.0</td>\n",
       "      <td>2021</td>\n",
       "      <td>usich</td>\n",
       "      <td>tns</td>\n",
       "      <td>0.596</td>\n",
       "      <td>NaN</td>\n",
       "      <td>-9999.0</td>\n",
       "      <td>NaN</td>\n",
       "      <td>NaN</td>\n",
       "      <td>...</td>\n",
       "      <td>NaN</td>\n",
       "      <td>NaN</td>\n",
       "      <td>NaN</td>\n",
       "      <td>34.6</td>\n",
       "      <td>NaN</td>\n",
       "      <td>NaN</td>\n",
       "      <td>NaN</td>\n",
       "      <td>NaN</td>\n",
       "      <td>NaN</td>\n",
       "      <td>NaN</td>\n",
       "    </tr>\n",
       "    <tr>\n",
       "      <th>2441244</th>\n",
       "      <td>202112000000.0</td>\n",
       "      <td>202112000000.0</td>\n",
       "      <td>2021</td>\n",
       "      <td>usich</td>\n",
       "      <td>tns</td>\n",
       "      <td>0.392</td>\n",
       "      <td>NaN</td>\n",
       "      <td>-9999.0</td>\n",
       "      <td>NaN</td>\n",
       "      <td>NaN</td>\n",
       "      <td>...</td>\n",
       "      <td>NaN</td>\n",
       "      <td>NaN</td>\n",
       "      <td>NaN</td>\n",
       "      <td>34.6</td>\n",
       "      <td>NaN</td>\n",
       "      <td>NaN</td>\n",
       "      <td>NaN</td>\n",
       "      <td>NaN</td>\n",
       "      <td>NaN</td>\n",
       "      <td>NaN</td>\n",
       "    </tr>\n",
       "    <tr>\n",
       "      <th>2441245</th>\n",
       "      <td>202112000000.0</td>\n",
       "      <td>202112000000.0</td>\n",
       "      <td>2021</td>\n",
       "      <td>usich</td>\n",
       "      <td>tns</td>\n",
       "      <td>0.179</td>\n",
       "      <td>NaN</td>\n",
       "      <td>-9999.0</td>\n",
       "      <td>NaN</td>\n",
       "      <td>NaN</td>\n",
       "      <td>...</td>\n",
       "      <td>NaN</td>\n",
       "      <td>NaN</td>\n",
       "      <td>NaN</td>\n",
       "      <td>34.7</td>\n",
       "      <td>NaN</td>\n",
       "      <td>NaN</td>\n",
       "      <td>NaN</td>\n",
       "      <td>NaN</td>\n",
       "      <td>NaN</td>\n",
       "      <td>NaN</td>\n",
       "    </tr>\n",
       "  </tbody>\n",
       "</table>\n",
       "<p>2441246 rows × 97 columns</p>\n",
       "</div>"
      ],
      "text/plain": [
       "        TIMESTAMP_START   TIMESTAMP_END  DATE   SITE SUBDOMAIN   WS_MEAN  \\\n",
       "0        201101000000.0  201101000000.0  2011  usbzf       int -9999.000   \n",
       "1        201101000000.0  201101000000.0  2011  usbzf       int -9999.000   \n",
       "2        201101000000.0  201101000000.0  2011  usbzf       int -9999.000   \n",
       "3        201101000000.0  201101000000.0  2011  usbzf       int -9999.000   \n",
       "4        201101000000.0  201101000000.0  2011  usbzf       int -9999.000   \n",
       "...                 ...             ...   ...    ...       ...       ...   \n",
       "2441241  202112000000.0  202112000000.0  2021  usich       tns     0.340   \n",
       "2441242  202112000000.0  202112000000.0  2021  usich       tns     0.133   \n",
       "2441243  202112000000.0  202112000000.0  2021  usich       tns     0.596   \n",
       "2441244  202112000000.0  202112000000.0  2021  usich       tns     0.392   \n",
       "2441245  202112000000.0  202112000000.0  2021  usich       tns     0.179   \n",
       "\n",
       "         WS_STD  WD_MEAN  WD_STD  CO2_MEAN  ...  WTD_3_1_1  TW_1_1_1  \\\n",
       "0           NaN  -9999.0     NaN       NaN  ...        NaN       NaN   \n",
       "1           NaN  -9999.0     NaN       NaN  ...        NaN       NaN   \n",
       "2           NaN  -9999.0     NaN       NaN  ...        NaN       NaN   \n",
       "3           NaN  -9999.0     NaN       NaN  ...        NaN       NaN   \n",
       "4           NaN  -9999.0     NaN       NaN  ...        NaN       NaN   \n",
       "...         ...      ...     ...       ...  ...        ...       ...   \n",
       "2441241     NaN  -9999.0     NaN       NaN  ...        NaN       NaN   \n",
       "2441242     NaN  -9999.0     NaN       NaN  ...        NaN       NaN   \n",
       "2441243     NaN  -9999.0     NaN       NaN  ...        NaN       NaN   \n",
       "2441244     NaN  -9999.0     NaN       NaN  ...        NaN       NaN   \n",
       "2441245     NaN  -9999.0     NaN       NaN  ...        NaN       NaN   \n",
       "\n",
       "         TW_2_1_1  D_SNOW  LAI  SOIL_PCAR  NEE  GPP  RECO  ALT  \n",
       "0             NaN -9999.0  NaN        NaN  NaN  NaN   NaN  NaN  \n",
       "1             NaN -9999.0  NaN        NaN  NaN  NaN   NaN  NaN  \n",
       "2             NaN -9999.0  NaN        NaN  NaN  NaN   NaN  NaN  \n",
       "3             NaN -9999.0  NaN        NaN  NaN  NaN   NaN  NaN  \n",
       "4             NaN -9999.0  NaN        NaN  NaN  NaN   NaN  NaN  \n",
       "...           ...     ...  ...        ...  ...  ...   ...  ...  \n",
       "2441241       NaN    34.6  NaN        NaN  NaN  NaN   NaN  NaN  \n",
       "2441242       NaN    34.6  NaN        NaN  NaN  NaN   NaN  NaN  \n",
       "2441243       NaN    34.6  NaN        NaN  NaN  NaN   NaN  NaN  \n",
       "2441244       NaN    34.6  NaN        NaN  NaN  NaN   NaN  NaN  \n",
       "2441245       NaN    34.7  NaN        NaN  NaN  NaN   NaN  NaN  \n",
       "\n",
       "[2441246 rows x 97 columns]"
      ]
     },
     "execution_count": 5,
     "metadata": {},
     "output_type": "execute_result"
    }
   ],
   "source": [
    "df"
   ]
  },
  {
   "cell_type": "code",
   "execution_count": null,
   "id": "8d9a175a-95eb-403f-8065-a72e9fb5075c",
   "metadata": {
    "tags": []
   },
   "outputs": [],
   "source": [
    "#df=df.drop(df.columns[0:2],axis=1)\n",
    "#df=df.drop(df.columns[-5],axis=1)\n",
    "df.index=df.iloc[:,2]\n",
    "df.index=pd.to_datetime(df.index, format='%Y')\n",
    "df.index.name = None\n",
    "#df=df.drop(df.columns[0],axis=1)\n",
    "df=df.sort_index()\n",
    "df=df.drop(df.columns[0:2],axis=1) #Objects\n",
    "#df=df.drop(df.columns[44],axis=1) #Object\n",
    "df.rename(columns = {'CH4_MIXING_RATION_MEAN':'CH4_MR_MEAN'}, inplace = True)\n",
    "df.rename(columns = {'CH4_MIXING_RATION_STD':'CH4_MR_STD'}, inplace = True)\n",
    "df=df.replace(np.nan, -9999)"
   ]
  },
  {
   "cell_type": "code",
   "execution_count": null,
   "id": "793481f3-b7d8-4da9-b9d6-740b375ff8ac",
   "metadata": {
    "tags": []
   },
   "outputs": [],
   "source": [
    "print(df.columns.values.tolist())"
   ]
  },
  {
   "cell_type": "code",
   "execution_count": null,
   "id": "a5c0205d-409e-4e0c-a75b-a228c6ffaa58",
   "metadata": {
    "tags": []
   },
   "outputs": [],
   "source": [
    "df=df.drop(df.columns[4:6],axis=1)\n",
    "df=df.drop(df.columns[48],axis=1)\n",
    "df['MONTH']=df['MONTH'].astype('float32')\n",
    "df['MONTH']=df['MONTH'].astype('int64')"
   ]
  },
  {
   "cell_type": "code",
   "execution_count": null,
   "id": "df2b5d4c-97eb-4faa-b26e-34fff182de12",
   "metadata": {
    "tags": []
   },
   "outputs": [],
   "source": [
    "# df=df.loc[df.iloc[:,15] < 6.69e+19]\n",
    "# df=df.loc[df.iloc[:,15] < 7.29e+16]\n",
    "# df=df.loc[df.iloc[:,15] < 8817006896.0]\n",
    "# df=df.loc[df.iloc[:,15] > -20103115.48]\n",
    "# df=df.loc[df.iloc[:,15] > -19632788.15]\n",
    "df=df.loc[df.iloc[:,19] < 733410.482]\n",
    "df=df.loc[df.iloc[:,19] > -20103115.48]\n",
    "df=df.loc[df.iloc[:,19] > -19632788.15]\n",
    "df=df.replace(-9999,np.nan)"
   ]
  },
  {
   "cell_type": "code",
   "execution_count": null,
   "id": "1e572552-95e1-427f-a316-3735dd890ed1",
   "metadata": {
    "tags": []
   },
   "outputs": [],
   "source": [
    "df.shape"
   ]
  },
  {
   "cell_type": "code",
   "execution_count": null,
   "id": "d13a48b0-4e92-46e9-b315-b8746de47931",
   "metadata": {
    "tags": []
   },
   "outputs": [],
   "source": [
    "numeric_cols=df.columns.values\n",
    "for col in numeric_cols:\n",
    "    missing = df[col].isnull()\n",
    "    num_missing = np.sum(missing)\n",
    "    if num_missing > 0:  # only do the imputation for the columns that have missing values.\n",
    "#        print('imputing missing values for: {}'.format(col))\n",
    "        df['{}_ismissing'.format(col)] = missing\n",
    "        #med = df[col].median()\n",
    "        df[col] = df[col].fillna(method='ffill').fillna(method='bfill')"
   ]
  },
  {
   "cell_type": "code",
   "execution_count": null,
   "id": "48b1d0fe-515f-4bf8-a9f2-49780d375b1a",
   "metadata": {
    "tags": []
   },
   "outputs": [],
   "source": [
    "df.shape"
   ]
  },
  {
   "cell_type": "code",
   "execution_count": null,
   "id": "28250db0-31c8-4f96-82e9-8a9a357ca70f",
   "metadata": {
    "tags": []
   },
   "outputs": [],
   "source": [
    "#Imputer\n",
    "df=df.drop(df.iloc[:,-93:],axis=1)"
   ]
  },
  {
   "cell_type": "code",
   "execution_count": null,
   "id": "e76cd406-9f9e-4f1e-a410-e3dd7961ba25",
   "metadata": {
    "tags": []
   },
   "outputs": [],
   "source": [
    "#df.describe().transpose()"
   ]
  },
  {
   "cell_type": "code",
   "execution_count": null,
   "id": "90f14e8b-293c-4786-94cc-bb524ebe599a",
   "metadata": {
    "tags": []
   },
   "outputs": [],
   "source": [
    "# file = os.path.join('/Users/bradleygay/Downloads/df_pre-clean.pkl')\n",
    "# with open(file, 'wb') as f:\n",
    "#     pickle.dump(df,f)\n",
    "file = os.path.join('/Users/bradleygay/Downloads/df_clean.pkl')\n",
    "with open(file, 'wb') as f:\n",
    "    pickle.dump(df,f)"
   ]
  },
  {
   "cell_type": "markdown",
   "id": "ff00d5ac-41ef-4070-ad59-fcf20051eb08",
   "metadata": {
    "jp-MarkdownHeadingCollapsed": true,
    "tags": []
   },
   "source": [
    "### Load Clean"
   ]
  },
  {
   "cell_type": "code",
   "execution_count": null,
   "id": "153b981c-0449-4e82-beb8-576fa691c3c3",
   "metadata": {
    "tags": []
   },
   "outputs": [],
   "source": [
    "file = os.path.join('/Users/bradleygay/Downloads/df_clean.pkl')\n",
    "with open(file, 'rb') as f:\n",
    "    df=pickle.load(f)"
   ]
  },
  {
   "cell_type": "code",
   "execution_count": null,
   "id": "ef7391fe-605e-4395-8117-2a730f77fc90",
   "metadata": {
    "tags": []
   },
   "outputs": [],
   "source": [
    "# alt=pd.DataFrame(df['ALT'].replace(-9999,np.nan).dropna())"
   ]
  },
  {
   "cell_type": "code",
   "execution_count": null,
   "id": "a54dcd36-50a0-465d-ade3-9a9d5d81088d",
   "metadata": {
    "tags": []
   },
   "outputs": [],
   "source": [
    "# #ALT (defined based on ALT temporal coverage (5-years lag, 3-years lead)\n",
    "# #features=alt.loc[:,alt.columns!='ALT']; target=df.loc[:,df.columns=='ALT']\n",
    "# Xtrain=alt.loc['1969':'2016']; ytrain=alt.loc['1969':'2016'] #use for training\n",
    "# Xvalid=alt.loc['2017':'2019']; yvalid=alt.loc['2017':'2019'] #use for validation\n",
    "# Xtest=alt.loc['2020':'2022']; ytest=alt.loc['2020':'2022'] #use for testing"
   ]
  },
  {
   "cell_type": "code",
   "execution_count": null,
   "id": "9409a2ea-6ce3-426f-b3dc-7bbe15a43bce",
   "metadata": {
    "tags": []
   },
   "outputs": [],
   "source": [
    "insitu=df"
   ]
  },
  {
   "cell_type": "code",
   "execution_count": null,
   "id": "7f4700da-e74a-4c99-80ad-90a91bb2d706",
   "metadata": {
    "tags": []
   },
   "outputs": [],
   "source": [
    "# scaler = StandardScaler()\n",
    "# scaled = scaler.fit_transform(df)"
   ]
  },
  {
   "cell_type": "code",
   "execution_count": null,
   "id": "8098a096-2838-4f45-9e4d-193c8e1fb6e3",
   "metadata": {
    "tags": []
   },
   "outputs": [],
   "source": [
    "# scaled=pd.DataFrame(scaled)"
   ]
  },
  {
   "cell_type": "code",
   "execution_count": null,
   "id": "f110c0f7-b15d-4c5c-bdee-4b0bfe7c084e",
   "metadata": {
    "tags": []
   },
   "outputs": [],
   "source": [
    "# scaled.index=df.index"
   ]
  },
  {
   "cell_type": "code",
   "execution_count": null,
   "id": "8012f063-765e-45b6-a1e0-bb1a2edc13b9",
   "metadata": {
    "tags": []
   },
   "outputs": [],
   "source": [
    "# scaled.columns=df.columns"
   ]
  },
  {
   "cell_type": "code",
   "execution_count": null,
   "id": "3efbfc77-16a1-4b6b-acdf-3f1080886fbe",
   "metadata": {
    "tags": []
   },
   "outputs": [],
   "source": [
    "#SUPERVISION\n",
    "def series_to_supervised(data, lags = 1, forecasting_steps = 1, dropna=True):\n",
    "    n_vars = 1 if type(data) is list else data.shape[1]\n",
    "    df = pd.DataFrame(data)\n",
    "    cols, names = list(), list()\n",
    "    for i in range(lags, 0, -1):\n",
    "        cols.append(df.shift(i))\n",
    "        names += [(df.columns[j], str('t-%d') %  i) for j in range(n_vars)]\n",
    "    for a in range(0, forecasting_steps):\n",
    "        cols.append(df.shift(-a))\n",
    "        if a == 0:\n",
    "            names += [(df.columns[b], str('t')) for b in range(n_vars)]\n",
    "        else:\n",
    "            names += [(df.columns[b], str('t+%d') %  a) for b in range(n_vars)]\n",
    "    agg = pd.concat(cols, axis=1)\n",
    "    agg.columns = names\n",
    "    agg = agg.loc[:,~agg.columns.duplicated()]\n",
    "    if dropna:\n",
    "        agg.dropna(inplace=True)\n",
    "    return agg"
   ]
  },
  {
   "cell_type": "code",
   "execution_count": null,
   "id": "8460f091-d84d-4f86-a3fa-64077941cc28",
   "metadata": {
    "tags": []
   },
   "outputs": [],
   "source": [
    "reframed_alt=series_to_supervised(df,3,1)"
   ]
  },
  {
   "cell_type": "code",
   "execution_count": null,
   "id": "f34a31e6-a8a8-4257-95f5-8c561f9a4404",
   "metadata": {
    "tags": []
   },
   "outputs": [],
   "source": [
    "reframed_alt.drop(reframed_alt.iloc[:,-95:-1],axis=1, inplace=True)"
   ]
  },
  {
   "cell_type": "code",
   "execution_count": null,
   "id": "d02599cf-1179-473f-bfc2-0c4b728d8aeb",
   "metadata": {},
   "outputs": [],
   "source": [
    "# #ALT\n",
    "# Xalt=reframed_alt.iloc[:,:-1] #features\n",
    "# yalt=pd.DataFrame(reframed_alt.iloc[:,-1]) #target"
   ]
  },
  {
   "cell_type": "code",
   "execution_count": null,
   "id": "372b939e-53fe-4fae-bfa7-04e338475092",
   "metadata": {
    "tags": []
   },
   "outputs": [],
   "source": [
    "reframed_ch4=series_to_supervised(df,3,1)"
   ]
  },
  {
   "cell_type": "code",
   "execution_count": null,
   "id": "c77b67a6-e14c-419b-8d11-5e1b0ea49a0d",
   "metadata": {
    "tags": []
   },
   "outputs": [],
   "source": [
    "reframed_ch4.drop(reframed_ch4.iloc[:,-95:-76],axis=1, inplace=True)\n",
    "reframed_ch4.drop(reframed_ch4.iloc[:,-75:],axis=1, inplace=True)"
   ]
  },
  {
   "cell_type": "code",
   "execution_count": null,
   "id": "a749e8c2-3075-48c2-a730-298f7545abdd",
   "metadata": {
    "tags": []
   },
   "outputs": [],
   "source": [
    "#CH4\n",
    "Xch4=reframed_ch4.iloc[:,:-1]\n",
    "ych4=pd.DataFrame(reframed_ch4.iloc[:,-1])"
   ]
  },
  {
   "cell_type": "code",
   "execution_count": null,
   "id": "5fd161d5-962a-4ada-b668-1fec07c72096",
   "metadata": {
    "tags": []
   },
   "outputs": [],
   "source": [
    "reframed_co2=series_to_supervised(df,3,1)"
   ]
  },
  {
   "cell_type": "code",
   "execution_count": null,
   "id": "411ad700-2340-4eb4-a089-aba24a45c034",
   "metadata": {
    "tags": []
   },
   "outputs": [],
   "source": [
    "reframed_co2.drop(reframed_co2.iloc[:,-95:-85],axis=1,inplace=True)\n",
    "reframed_co2.drop(reframed_co2.iloc[:,-84:],axis=1,inplace=True)"
   ]
  },
  {
   "cell_type": "code",
   "execution_count": null,
   "id": "0059c7aa-ab09-4784-92c4-83bb2939aa4e",
   "metadata": {
    "tags": []
   },
   "outputs": [],
   "source": [
    "#CO2\n",
    "Xco2=reframed_co2.iloc[:,:-1] #features\n",
    "yco2=pd.DataFrame(reframed_co2.iloc[:,-1]) #target"
   ]
  },
  {
   "cell_type": "code",
   "execution_count": null,
   "id": "916e769e-bf1e-4832-bcca-5742f36fdb4d",
   "metadata": {
    "tags": []
   },
   "outputs": [],
   "source": [
    "#CH4\n",
    "# df1=dfnew.iloc[:,:17];\n",
    "# df2=dfnew.iloc[:,29:];\n",
    "# df1=df.iloc[:,:15];\n",
    "# df2=df.iloc[:,16:];\n",
    "df1=reframed.iloc[:,:19];\n",
    "df2=reframed.iloc[:,20:];\n",
    "df3=pd.concat([df1,df2],axis=1);\n",
    "\n",
    "Xch4=df3 #features\n",
    "ych4=pd.DataFrame(reframed.loc[:,'CH4_1_1_1'])  #target"
   ]
  },
  {
   "cell_type": "code",
   "execution_count": null,
   "id": "b174b1d1-0f48-4353-916d-d4c8929c9d71",
   "metadata": {
    "tags": []
   },
   "outputs": [],
   "source": [
    "df1=df.iloc[:,:10];\n",
    "df2=df.iloc[:,11:];\n",
    "df3=pd.concat([df1,df2],axis=1);\n",
    "\n",
    "Xco2=df3 #features\n",
    "yco2=pd.DataFrame(df.loc[:,'CO2_1_1_1'])  #target"
   ]
  },
  {
   "cell_type": "markdown",
   "id": "e284dda3-37db-4197-bffb-effc613ce1b8",
   "metadata": {
    "jp-MarkdownHeadingCollapsed": true,
    "tags": []
   },
   "source": [
    "##### Save"
   ]
  },
  {
   "cell_type": "code",
   "execution_count": null,
   "id": "eecbe20b-40cb-4567-b86d-0ab5a7169777",
   "metadata": {
    "tags": []
   },
   "outputs": [],
   "source": [
    "file = os.path.join('/Users/bradleygay/Downloads/Xalt.pkl')\n",
    "with open(file, 'wb') as f:\n",
    "    pickle.dump(Xalt,f)"
   ]
  },
  {
   "cell_type": "code",
   "execution_count": null,
   "id": "d9211b2e-f230-4c5a-924f-937f525c351e",
   "metadata": {
    "tags": []
   },
   "outputs": [],
   "source": [
    "file = os.path.join('/Users/bradleygay/Downloads/yalt.pkl')\n",
    "with open(file, 'wb') as f:\n",
    "    pickle.dump(yalt,f)"
   ]
  },
  {
   "cell_type": "code",
   "execution_count": null,
   "id": "dc68704f-ad20-49e3-bd99-272f5ccb02c0",
   "metadata": {
    "tags": []
   },
   "outputs": [],
   "source": [
    "file = os.path.join('/Users/bradleygay/Downloads/Xch4.pkl')\n",
    "with open(file, 'wb') as f:\n",
    "    pickle.dump(Xch4,f)"
   ]
  },
  {
   "cell_type": "code",
   "execution_count": null,
   "id": "1db9a2a8-54ad-436a-9f3c-e250907e3101",
   "metadata": {
    "tags": []
   },
   "outputs": [],
   "source": [
    "file = os.path.join('/Users/bradleygay/Downloads/ych4.pkl')\n",
    "with open(file, 'wb') as f:\n",
    "    pickle.dump(ych4,f)"
   ]
  },
  {
   "cell_type": "code",
   "execution_count": null,
   "id": "f4a45693-f34e-4c2b-b03a-a46f37945471",
   "metadata": {
    "tags": []
   },
   "outputs": [],
   "source": [
    "file = os.path.join('/Users/bradleygay/Downloads/Xco2.pkl')\n",
    "with open(file, 'wb') as f:\n",
    "    pickle.dump(Xco2,f)"
   ]
  },
  {
   "cell_type": "code",
   "execution_count": null,
   "id": "5b1ddfa6-c2d4-4d79-82f6-b8a7a44d9018",
   "metadata": {
    "tags": []
   },
   "outputs": [],
   "source": [
    "file = os.path.join('/Users/bradleygay/Downloads/yco2.pkl')\n",
    "with open(file, 'wb') as f:\n",
    "    pickle.dump(yco2,f)"
   ]
  },
  {
   "cell_type": "markdown",
   "id": "96cf86c8-80c6-490e-a326-2b599fd6df5c",
   "metadata": {
    "jp-MarkdownHeadingCollapsed": true,
    "tags": []
   },
   "source": [
    "##### Continue"
   ]
  },
  {
   "cell_type": "code",
   "execution_count": null,
   "id": "61d99e3b-ff16-4f8a-b695-5086321111e8",
   "metadata": {
    "tags": []
   },
   "outputs": [],
   "source": [
    "# X=X.replace(-9999,np.nan).fillna(method='bfill').fillna(method='ffill')\n",
    "# y=y.replace(-9999,np.nan).fillna(method='bfill').fillna(method='ffill')"
   ]
  },
  {
   "cell_type": "code",
   "execution_count": null,
   "id": "84d8b6fc-68a3-48a2-8098-51c924c5c322",
   "metadata": {},
   "outputs": [],
   "source": [
    "#1969-2018:1772964/2441246#0.7262537245324724\n",
    "#1969-2019:2043752/2441246#0.8371757700780667\n",
    "#1969-2020:2226109/2441246#0.9118741003569488\n",
    "\n",
    "# from sklearn.model_selection import train_test_split\n",
    "# X_train, X_test, y_train, y_test = train_test_split(X, y, shuffle=False,\n",
    "#                                    test_size=0.20, random_state=40)\n",
    "# X_train=X.loc[:'2019',:]; y_train=y.loc[:'2019'];\n",
    "# X_test=X.loc['2020':,:]; y_test=y.loc['2020':];"
   ]
  },
  {
   "cell_type": "code",
   "execution_count": null,
   "id": "b671dcd9-9aa5-4cb8-8a4d-69209a626ec3",
   "metadata": {},
   "outputs": [],
   "source": [
    "# X_train=X.loc[:'2018',:]; y_train=y.loc[:'2018'];\n",
    "# X_valid=X.loc['2019':'2020',:]; y_valid=y.loc['2019':'2020'];\n",
    "# X_test=X.loc['2021':,:]; y_test=y.loc['2021':];"
   ]
  },
  {
   "cell_type": "code",
   "execution_count": null,
   "id": "889300ef-8f9d-4f5c-a762-006d10ce4dbf",
   "metadata": {
    "tags": []
   },
   "outputs": [],
   "source": [
    "Xalt.shape, Xch4.shape, Xco2.shape"
   ]
  },
  {
   "cell_type": "code",
   "execution_count": null,
   "id": "7bf709bb-ca88-498e-9300-b1cf2aeadb91",
   "metadata": {
    "tags": []
   },
   "outputs": [],
   "source": [
    "yalt.shape, ych4.shape, yco2.shape"
   ]
  },
  {
   "cell_type": "code",
   "execution_count": null,
   "id": "6068af49-c81e-45c9-a891-c22107183d22",
   "metadata": {
    "tags": []
   },
   "outputs": [],
   "source": [
    "ych4.min()"
   ]
  },
  {
   "cell_type": "code",
   "execution_count": null,
   "id": "acf54174-011c-40e5-a6ee-a3e613d4ce5a",
   "metadata": {},
   "outputs": [],
   "source": []
  },
  {
   "cell_type": "code",
   "execution_count": null,
   "id": "cc926b90-6524-44c4-a5c3-4602fd3a2349",
   "metadata": {},
   "outputs": [],
   "source": []
  },
  {
   "cell_type": "code",
   "execution_count": null,
   "id": "a03af2de-c78a-4cd2-8601-425cdad22c5d",
   "metadata": {},
   "outputs": [],
   "source": []
  },
  {
   "cell_type": "code",
   "execution_count": null,
   "id": "79809c18-eb00-40cf-b667-51793edc390d",
   "metadata": {
    "tags": []
   },
   "outputs": [],
   "source": [
    "#df"
   ]
  },
  {
   "cell_type": "code",
   "execution_count": null,
   "id": "7193175c-1e22-4ab0-9e6d-0b3586f327be",
   "metadata": {
    "tags": []
   },
   "outputs": [],
   "source": [
    "X, y = Xalt, yalt"
   ]
  },
  {
   "cell_type": "markdown",
   "id": "4fc4b953-00d0-4f91-8329-b1ddf076c266",
   "metadata": {
    "jp-MarkdownHeadingCollapsed": true,
    "tags": []
   },
   "source": [
    "### Train/Test"
   ]
  },
  {
   "cell_type": "code",
   "execution_count": null,
   "id": "32fc9b3e-a8fb-4c80-af71-1cbf9296c251",
   "metadata": {
    "tags": []
   },
   "outputs": [],
   "source": [
    "reframed_alt"
   ]
  },
  {
   "cell_type": "code",
   "execution_count": null,
   "id": "849cc7a2-8629-455a-99c7-585285829787",
   "metadata": {
    "tags": []
   },
   "outputs": [],
   "source": [
    "train, valid, test = reframed_alt.loc['1969':'2018',:],reframed_alt.loc['2019':'2020', :], reframed_alt.loc['2021':, :]"
   ]
  },
  {
   "cell_type": "code",
   "execution_count": null,
   "id": "29d35d0e-2bc0-422a-b7ee-3322c4ef2dac",
   "metadata": {
    "tags": []
   },
   "outputs": [],
   "source": [
    "# X_train, y_train, X_valid, y_valid, X_test, y_test = reframed_alt.loc['1969':'2018',:], reframed_alt.loc['1969':'2018',:], \\\n",
    "# reframed_alt.loc['2019':'2020', :], reframed_alt.loc['2019':'2020',:], reframed_altalt.loc['2021':'2022', :], reframed_alt.loc['2021':'2022',:]\n",
    "# #never outputs last mentioned key \n",
    "# # X_train, X_test, y_train, y_test = train_test_split(X, y, test_size=0.1)#, random_state=1)\n",
    "# # X_train, X_valid, y_train, y_valid = train_test_split(X_train, y_train, test_size=0.22)#, random_state=1) # 0.25 x 0.8 = 0.2"
   ]
  },
  {
   "cell_type": "code",
   "execution_count": null,
   "id": "d605bc42-b440-4083-8f66-b6c9951b3a07",
   "metadata": {
    "tags": []
   },
   "outputs": [],
   "source": [
    "X_trainch4, y_trainch4, X_validch4, y_validch4, X_testch4, y_testch4 = Xch4.loc['2003':'2018',:], ych4.loc['2003':'2018',:], Xch4.loc['2019':'2020',:], \\\n",
    "ych4.loc['2019':'2020',:], Xch4.loc['2021':,:], ych4.loc['2021':,:]\n",
    "# X_trainch4, X_testch4, y_trainch4, y_testch4 = train_test_split(Xch4, ych4, test_size=0.1)#, random_state=1)\n",
    "# X_trainch4, X_validch4, y_trainch4, y_validch4 = train_test_split(X_trainch4, y_trainch4, test_size=0.22)#, random_state=1) # 0.25 x 0.8 = 0.2"
   ]
  },
  {
   "cell_type": "code",
   "execution_count": null,
   "id": "0503c61e-3b6c-4e2a-bae2-2901afd295bf",
   "metadata": {
    "tags": []
   },
   "outputs": [],
   "source": [
    "X_trainco2, y_trainco2, X_validco2, y_validco2, X_testco2, y_testco2 = Xco2.loc['2003':'2018',:], yco2.loc['2003':'2018',:], \\\n",
    "Xco2.loc['2019':'2020',:], yco2.loc['2019':'2020',:], Xco2.loc['2021':,:], yco2.loc['2021':,:]\n",
    "# X_trainco2, X_testco2, y_trainco2, y_testco2 = train_test_split(Xco2, yco2, test_size=0.1)#, random_state=1)\n",
    "# X_trainco2, X_validco2, y_trainco2, y_validco2 = train_test_split(X_trainco2, y_trainco2, test_size=0.22)#, random_state=1) # 0.25 x 0.8 = 0.2"
   ]
  },
  {
   "cell_type": "code",
   "execution_count": null,
   "id": "c1eccb75-639c-4665-b388-d89920fbe934",
   "metadata": {
    "tags": []
   },
   "outputs": [],
   "source": [
    "# # split the data\n",
    "# from fast_ml.model_development import train_valid_test_split\n",
    "# X_train, y_train, X_valid, y_valid, X_test, y_test = train_valid_test_split(df, target = 'ALT', train_size=0.7, valid_size=0.2, test_size=0.1)\n",
    "# #X_train, y_train, X_valid, y_valid, X_test, y_test = train_valid_test_split(df, target = 'CH4_1_1_1', train_size=0.7, valid_size=0.2, test_size=0.1)\n",
    "# #X_train, y_train, X_valid, y_valid, X_test, y_test = train_valid_test_split(df, target = 'CO2_1_1_1', train_size=0.7, valid_size=0.2, test_size=0.1)"
   ]
  },
  {
   "cell_type": "code",
   "execution_count": null,
   "id": "2fba8a85-cf97-468a-91b1-6416f373e447",
   "metadata": {
    "tags": []
   },
   "outputs": [],
   "source": [
    "train.shape, valid.shape, test.shape"
   ]
  },
  {
   "cell_type": "code",
   "execution_count": null,
   "id": "2cc197bc-59f3-4740-b226-c2ed5dee04b8",
   "metadata": {
    "tags": []
   },
   "outputs": [],
   "source": [
    "X_train.shape, X_valid.shape, X_test.shape"
   ]
  },
  {
   "cell_type": "code",
   "execution_count": null,
   "id": "fe14606b-58c2-44bd-a776-97d7b24335e2",
   "metadata": {
    "tags": []
   },
   "outputs": [],
   "source": [
    "X_trainch4.shape, X_validch4.shape, X_testch4.shape"
   ]
  },
  {
   "cell_type": "code",
   "execution_count": null,
   "id": "585922a8-397d-4d02-94c6-2d2b49563d97",
   "metadata": {
    "tags": []
   },
   "outputs": [],
   "source": [
    "X_trainco2.shape, X_validco2.shape, X_testco2.shape"
   ]
  },
  {
   "cell_type": "markdown",
   "id": "0e7b1d51-24ef-4fd1-bc78-99cde99bfc65",
   "metadata": {
    "jp-MarkdownHeadingCollapsed": true,
    "tags": []
   },
   "source": [
    "##### SAVE"
   ]
  },
  {
   "cell_type": "code",
   "execution_count": null,
   "id": "9c76761f-58bc-4ed2-be11-4116249232c1",
   "metadata": {
    "tags": []
   },
   "outputs": [],
   "source": [
    "file = os.path.join('/Users/bradleygay/Downloads/X_testalt.pkl')\n",
    "with open(file, 'wb') as f:\n",
    "    pickle.dump(X_test,f)"
   ]
  },
  {
   "cell_type": "code",
   "execution_count": null,
   "id": "2d9651af-8213-41c1-a13e-6976387f68af",
   "metadata": {
    "tags": []
   },
   "outputs": [],
   "source": [
    "file = os.path.join('/Users/bradleygay/Downloads/y_testalt.pkl')\n",
    "with open(file, 'wb') as f:\n",
    "    pickle.dump(y_test,f)"
   ]
  },
  {
   "cell_type": "code",
   "execution_count": null,
   "id": "cf5786c4-26a1-406c-944d-aa846e33941e",
   "metadata": {
    "tags": []
   },
   "outputs": [],
   "source": [
    "file = os.path.join('/Users/bradleygay/Downloads/X_testch4.pkl')\n",
    "with open(file, 'wb') as f:\n",
    "    pickle.dump(X_testch4,f)"
   ]
  },
  {
   "cell_type": "code",
   "execution_count": null,
   "id": "d35f18ee-8df5-4ad2-9e2d-e9d429a2fe8d",
   "metadata": {
    "tags": []
   },
   "outputs": [],
   "source": [
    "file = os.path.join('/Users/bradleygay/Downloads/y_testch4.pkl')\n",
    "with open(file, 'wb') as f:\n",
    "    pickle.dump(y_testch4,f)"
   ]
  },
  {
   "cell_type": "code",
   "execution_count": null,
   "id": "83910818-9c26-487e-ba55-83831875e077",
   "metadata": {
    "tags": []
   },
   "outputs": [],
   "source": [
    "file = os.path.join('/Users/bradleygay/Downloads/X_testco2.pkl')\n",
    "with open(file, 'wb') as f:\n",
    "    pickle.dump(X_testco2,f)"
   ]
  },
  {
   "cell_type": "code",
   "execution_count": null,
   "id": "dfd13eca-ded0-4656-bbed-33dfdea4dafb",
   "metadata": {
    "tags": []
   },
   "outputs": [],
   "source": [
    "file = os.path.join('/Users/bradleygay/Downloads/y_testco2.pkl')\n",
    "with open(file, 'wb') as f:\n",
    "    pickle.dump(y_testco2,f)"
   ]
  },
  {
   "cell_type": "markdown",
   "id": "e961c857-9e6b-44f2-bbd8-48bc34943391",
   "metadata": {
    "jp-MarkdownHeadingCollapsed": true,
    "tags": []
   },
   "source": [
    "### Playground"
   ]
  },
  {
   "cell_type": "code",
   "execution_count": null,
   "id": "55c7a066-5e0b-47c3-bb84-d2a0e451994b",
   "metadata": {
    "tags": []
   },
   "outputs": [],
   "source": [
    "# # split the data\n",
    "# from fast_ml.model_development import train_valid_test_split\n",
    "# X_train, y_train, X_valid, y_valid, X_test, y_test = train_valid_test_split(df, target = 'ALT', train_size=0.7, valid_size=0.2, test_size=0.1)\n",
    "# #X_train, y_train, X_valid, y_valid, X_test, y_test = train_valid_test_split(df, target = 'CH4_1_1_1', train_size=0.7, valid_size=0.2, test_size=0.1)\n",
    "# #X_train, y_train, X_valid, y_valid, X_test, y_test = train_valid_test_split(df, target = 'CO2_1_1_1', train_size=0.7, valid_size=0.2, test_size=0.1)"
   ]
  },
  {
   "cell_type": "code",
   "execution_count": null,
   "id": "2e6bb801-c803-4afe-b68a-5fba3d7a5e9e",
   "metadata": {
    "tags": []
   },
   "outputs": [],
   "source": [
    "#X=X_train.sort_index(); y=y_train.sort_index()"
   ]
  },
  {
   "cell_type": "code",
   "execution_count": null,
   "id": "2a6122ec-ff9a-48e0-afab-ae62c62a3f71",
   "metadata": {
    "tags": []
   },
   "outputs": [],
   "source": [
    "plt.plot(y_train.replace(-9999,np.nan).dropna().values)\n",
    "plt.plot(y_valid.replace(-9999,np.nan).dropna().values)\n",
    "plt.plot(y_test.replace(-9999,np.nan).dropna().values)\n",
    "plt.grid()\n",
    "plt.show()"
   ]
  },
  {
   "cell_type": "code",
   "execution_count": null,
   "id": "1428090d-39fc-419c-acf6-57b6d8d889fb",
   "metadata": {
    "tags": []
   },
   "outputs": [],
   "source": [
    "plt.plot(y_train.sort_index().replace(-9999,np.nan).dropna().values)#1713754\n",
    "plt.plot(y_valid.sort_index().replace(-9999,np.nan).dropna().values)#483367\n",
    "plt.plot(y_test.sort_index().replace(-9999,np.nan).dropna().values)#244125\n",
    "plt.grid()\n",
    "plt.show()"
   ]
  },
  {
   "cell_type": "code",
   "execution_count": null,
   "id": "6a0f4660-2386-44df-ba8c-ca218acbd73a",
   "metadata": {
    "tags": []
   },
   "outputs": [],
   "source": [
    "#df.loc['2021':'2022']\n",
    "#1772964/2441246#0.7262537245324724\n",
    "#614894/2441246#0.25187711521083905\n",
    "#453145/2441246#0.18562037582447652\n",
    "#215137/2441246#0.08812589964305113"
   ]
  },
  {
   "cell_type": "code",
   "execution_count": null,
   "id": "59a4085e-5d4a-48ee-a11c-9373ec54ede4",
   "metadata": {
    "tags": []
   },
   "outputs": [],
   "source": [
    "#df.loc['2021':'2021','CH4_1_1_1']\n",
    "#1413747/2369279#0.5966992490120412\n",
    "#1754385/2369279#0.7404721014283249\n",
    "#453145/2369279#0.1912586065212244\n",
    "#270788/2369279\n",
    "#161749/2369279"
   ]
  },
  {
   "cell_type": "code",
   "execution_count": null,
   "id": "51c5192d-4c8d-471f-90b1-649d2f0de82c",
   "metadata": {
    "tags": []
   },
   "outputs": [],
   "source": [
    "#df.loc['2021':'2021','CO2_1_1_1']\n",
    "#1413747/2369279#0.5966992490120412\n",
    "#1754385/2369279#0.7404721014283249\n",
    "#453145/2369279#0.1912586065212244\n",
    "#270788/2369279\n",
    "#161749/2369279"
   ]
  },
  {
   "cell_type": "code",
   "execution_count": null,
   "id": "e3626e0a-d7ee-4ead-bb55-b427106ce3ec",
   "metadata": {
    "tags": []
   },
   "outputs": [],
   "source": [
    "X_train=df.iloc[:,-1].replace(-9999,np.nan);\n",
    "X_trainch4=X_trainch4.replace(-9999,np.nan);\n",
    "X_trainco2=X_trainco2.replace(-9999,np.nan);"
   ]
  },
  {
   "cell_type": "code",
   "execution_count": null,
   "id": "f5eff6ce-8390-4ba5-9ffd-c3f9d688a508",
   "metadata": {
    "tags": []
   },
   "outputs": [],
   "source": [
    "from pandas import read_csv\n",
    "from matplotlib import pyplot\n",
    "from statsmodels.graphics.tsaplots import plot_acf, plot_pacf\n"
   ]
  },
  {
   "cell_type": "code",
   "execution_count": null,
   "id": "f52c2b57-bea7-4612-ac81-172fe0019f26",
   "metadata": {
    "tags": []
   },
   "outputs": [],
   "source": [
    "plt.figure(figsize=(9,6),dpi=1000)\n",
    "plot_acf(df.loc[:,'CO2_1_1_1'].replace(-9999,np.nan).dropna())\n",
    "plt.grid()\n",
    "plt.show()"
   ]
  },
  {
   "cell_type": "code",
   "execution_count": null,
   "id": "d771d9c6-0307-454a-b6d9-3c60203ebbac",
   "metadata": {
    "tags": []
   },
   "outputs": [],
   "source": [
    "# plt.plot(X_trainch4.replace(-9999,np.nan).dropna().values)\n",
    "# plt.show()"
   ]
  },
  {
   "cell_type": "code",
   "execution_count": null,
   "id": "871f41a5-c547-413c-b1be-fc151d93bf6b",
   "metadata": {
    "tags": []
   },
   "outputs": [],
   "source": [
    "plt.figure(figsize=(9,6),dpi=1000)\n",
    "plot_pacf(df.loc[:,'CO2_1_1_1'].replace(-9999,np.nan).dropna(), lags=50)\n",
    "plt.grid()\n",
    "plt.show()"
   ]
  },
  {
   "cell_type": "code",
   "execution_count": null,
   "id": "06dbf214-43f2-451b-a3d3-780d39f2a728",
   "metadata": {},
   "outputs": [],
   "source": [
    "# #Walk forward validation\n",
    "# series = read_csv('sunspots.csv', header=0, index_col=0)\n",
    "# X = series.values\n",
    "# n_train = 500\n",
    "# n_records = len(X)\n",
    "# for i in range(n_train, n_records):\n",
    "#  train, test = X[0:i], X[i:i+1]\n",
    "#  print('train=%d, test=%d' % (len(train), len(test)))"
   ]
  },
  {
   "cell_type": "code",
   "execution_count": null,
   "id": "e0ee9b4f-2d48-490e-99c8-66ff9a896bdd",
   "metadata": {
    "tags": []
   },
   "outputs": [],
   "source": [
    "plt.figure(figsize=(9,6),dpi=1000)\n",
    "rolling_mean = df.loc[:,'ALT'].replace(-9999,np.nan).dropna().rolling(window = 12).mean().values\n",
    "rolling_std = df.loc[:,'ALT'].replace(-9999,np.nan).dropna().rolling(window = 12).std().values\n",
    "plt.plot(df.loc[:,'ALT'].replace(-9999,np.nan).dropna().values, color = 'blue', label = 'Original')\n",
    "plt.plot(rolling_mean, color = 'red', label = 'Rolling Mean')#.replace(-9999,np.nan).dropna()\n",
    "plt.plot(rolling_std, color = 'black', label = 'Rolling Std')\n",
    "plt.legend(loc = 'best')\n",
    "plt.title('Rolling Mean & Rolling Standard Deviation')\n",
    "plt.grid()\n",
    "plt.show()"
   ]
  },
  {
   "cell_type": "code",
   "execution_count": null,
   "id": "b86b4d62-9409-410d-984f-83fa66d2b164",
   "metadata": {
    "tags": []
   },
   "outputs": [],
   "source": [
    "plt.plot(dfnew.loc[:,'ALT'].replace(-9999,np.nan).dropna())"
   ]
  },
  {
   "cell_type": "code",
   "execution_count": null,
   "id": "b8ee27e4-e94b-4554-a355-2ac4a4ec6c9f",
   "metadata": {
    "tags": []
   },
   "outputs": [],
   "source": [
    "from statsmodels.tsa.stattools import adfuller\n",
    "# Dickey–Fuller test:\n",
    "result = adfuller(df.loc[:,'CO2_1_1_1'].replace(-9999,np.nan).dropna())\n",
    "print('ADF Statistic: {}'.format(result[0]))\n",
    "print('p-value: {}'.format(result[1]))\n",
    "print('Critical Values:')\n",
    "for key, value in result[4].items():\n",
    "    print('\\t{}: {}'.format(key, value))"
   ]
  },
  {
   "cell_type": "code",
   "execution_count": null,
   "id": "cab885e8-c54d-4965-9530-28e1b2a62b74",
   "metadata": {
    "tags": []
   },
   "outputs": [],
   "source": [
    "get_stationarity()"
   ]
  },
  {
   "cell_type": "code",
   "execution_count": null,
   "id": "92c60f8c-a30b-431e-a882-739c15c39cbd",
   "metadata": {
    "tags": []
   },
   "outputs": [],
   "source": [
    "dfnew[iloc-:,1]"
   ]
  },
  {
   "cell_type": "code",
   "execution_count": null,
   "id": "bf934b21-f709-4c88-b423-1b6e47f3c7f7",
   "metadata": {
    "tags": []
   },
   "outputs": [],
   "source": [
    "#X_train"
   ]
  },
  {
   "cell_type": "code",
   "execution_count": null,
   "id": "62a11bfd-bb7a-4d20-8c1c-71b6f342a703",
   "metadata": {
    "tags": []
   },
   "outputs": [],
   "source": [
    "X_train=X_train.drop(X_train.columns[-92:],axis=1)"
   ]
  },
  {
   "cell_type": "code",
   "execution_count": null,
   "id": "86a338a3-4d68-43f1-9c49-2f0fa7766cec",
   "metadata": {
    "tags": []
   },
   "outputs": [],
   "source": [
    "#X=X_train;\n",
    "X_train.shape, y_train.shape"
   ]
  },
  {
   "cell_type": "code",
   "execution_count": null,
   "id": "bc9ec55b-54d1-4841-8d01-a2b00d5be44b",
   "metadata": {
    "tags": []
   },
   "outputs": [],
   "source": [
    "nans(X_trainch4)"
   ]
  },
  {
   "cell_type": "code",
   "execution_count": null,
   "id": "166a02de-6860-40b8-8edd-61dc4c1580f8",
   "metadata": {
    "tags": []
   },
   "outputs": [],
   "source": [
    "X_trainch4=X_trainch4.drop(X_trainch4.columns[-92:],axis=1)"
   ]
  },
  {
   "cell_type": "code",
   "execution_count": null,
   "id": "8063081a-65e7-4dc1-8837-5a68e7a0138a",
   "metadata": {
    "tags": []
   },
   "outputs": [],
   "source": [
    "#X_trainch4\n",
    "X_trainch4.shape, y_trainch4.shape"
   ]
  },
  {
   "cell_type": "code",
   "execution_count": null,
   "id": "452290f9-ce2e-452e-828b-8d6090d66b1f",
   "metadata": {
    "tags": []
   },
   "outputs": [],
   "source": [
    "nans(X_trainco2)"
   ]
  },
  {
   "cell_type": "code",
   "execution_count": null,
   "id": "35861939-ecde-4041-b197-63082b67552b",
   "metadata": {
    "tags": []
   },
   "outputs": [],
   "source": [
    "X_trainco2=X_trainco2.drop(X_trainco2.columns[-92:],axis=1)"
   ]
  },
  {
   "cell_type": "code",
   "execution_count": null,
   "id": "b8d7dd6f-ea68-4858-a7d7-70e5f85aa508",
   "metadata": {
    "tags": []
   },
   "outputs": [],
   "source": [
    "#X_trainco2\n",
    "X_trainco2.shape, y_trainco2.shape"
   ]
  },
  {
   "cell_type": "markdown",
   "id": "a90a73c8-fd5e-4e31-b139-cd06580823f8",
   "metadata": {
    "jp-MarkdownHeadingCollapsed": true,
    "tags": []
   },
   "source": [
    "### Scale and Supervision"
   ]
  },
  {
   "cell_type": "code",
   "execution_count": null,
   "id": "4e820e67-706b-4dde-b348-d74174bb00bc",
   "metadata": {},
   "outputs": [],
   "source": [
    "########################################################\n",
    "########################################################"
   ]
  },
  {
   "cell_type": "code",
   "execution_count": null,
   "id": "4dfea8ab-3ecd-414c-a764-058ce7682acd",
   "metadata": {
    "tags": []
   },
   "outputs": [],
   "source": [
    "scaler=StandardScaler()\n",
    "scaled_train=scaler.fit_transform(train)\n",
    "scaled_valid=scaler.transform(valid)\n",
    "scaled_test=scaler.transform(test)"
   ]
  },
  {
   "cell_type": "code",
   "execution_count": null,
   "id": "2446dd36-6f19-49a0-b779-d049e93720e8",
   "metadata": {
    "tags": []
   },
   "outputs": [],
   "source": [
    "scaled_train=pd.DataFrame(scaled_train)\n",
    "scaled_valid=pd.DataFrame(scaled_valid)\n",
    "scaled_test=pd.DataFrame(scaled_test)"
   ]
  },
  {
   "cell_type": "code",
   "execution_count": null,
   "id": "b9038602-c079-4727-aebc-742ba5bc5084",
   "metadata": {
    "tags": []
   },
   "outputs": [],
   "source": [
    "scaled_train.index=train.index\n",
    "scaled_valid.index=valid.index\n",
    "scaled_test.index=test.index"
   ]
  },
  {
   "cell_type": "code",
   "execution_count": null,
   "id": "d95b8290-9190-4503-b255-b41ce812ff0b",
   "metadata": {
    "tags": []
   },
   "outputs": [],
   "source": [
    "train.loc[:,('ALT', 't'):]"
   ]
  },
  {
   "cell_type": "code",
   "execution_count": null,
   "id": "9c3461d0-ced0-4622-8ba6-f46b73109cb0",
   "metadata": {
    "tags": []
   },
   "outputs": [],
   "source": [
    "trainX, trainy=train.loc[:'2017',:('ALT', 't')],train.loc[:'2017',('ALT', 't'):]\n",
    "validX, validy=valid.loc['2019':'2020',:('ALT', 't')],valid.loc['2019':'2020',('ALT', 't'):]\n",
    "testX, testy=test.loc['2021':,:('ALT', 't')],test.loc['2021':,('ALT', 't'):]"
   ]
  },
  {
   "cell_type": "code",
   "execution_count": null,
   "id": "0c4a63ea-497d-4013-b0b8-95f44ae1f898",
   "metadata": {
    "tags": []
   },
   "outputs": [],
   "source": [
    "trainX.shape, trainy.shape\n",
    "#1432319*286"
   ]
  },
  {
   "cell_type": "code",
   "execution_count": null,
   "id": "e2a071bc-cb97-49e2-bc4d-6ec406d64a53",
   "metadata": {
    "tags": []
   },
   "outputs": [],
   "source": [
    "# Need to scale the features for neural networks, otherwise the training doesn't converge.\n",
    "Xscaler = StandardScaler()\n",
    "trainX = Xscaler.fit_transform(trainX)\n",
    "validX = Xscaler.transform(validX)\n",
    "testX = Xscaler.transform(testX)"
   ]
  },
  {
   "cell_type": "code",
   "execution_count": null,
   "id": "7fce9cb8-84f0-415e-b6e8-d054ca955d2c",
   "metadata": {
    "tags": []
   },
   "outputs": [],
   "source": [
    "yscaler = StandardScaler()\n",
    "trainy = yscaler.fit_transform(trainy.values.reshape(1432319,1))\n",
    "validy = yscaler.transform(validy.values.reshape(453144,1))\n",
    "testy = yscaler.transform(testy.values.reshape(215137,1))"
   ]
  },
  {
   "cell_type": "code",
   "execution_count": null,
   "id": "c419d1e3-5882-414d-8c60-1bc93c4a9dd5",
   "metadata": {},
   "outputs": [],
   "source": [
    "Xscalerch4 = StandardScaler()\n",
    "X_trainch4_scaled = Xscalerch4.fit_transform(X_trainch4)\n",
    "X_validch4_scaled = Xscalerch4.transform(X_validch4)\n",
    "X_testch4_scaled = Xscalerch4.transform(X_testch4)\n",
    "yscalerch4 = StandardScaler()\n",
    "y_trainch4_scaled = yscalerch4.fit_transform(y_trainch4.values.reshape(1754381,1))\n",
    "y_validch4_scaled = yscalerch4.transform(y_validch4.values.reshape(453144,1))\n",
    "y_testch4_scaled = yscalerch4.transform(y_testch4.values.reshape(215137,1))"
   ]
  },
  {
   "cell_type": "code",
   "execution_count": null,
   "id": "99d79254-84f5-4491-ae93-19fc3f87f9bc",
   "metadata": {},
   "outputs": [],
   "source": [
    "Xscalerco2 = StandardScaler()\n",
    "X_trainco2_scaled = Xscalerco2.fit_transform(X_trainco2)\n",
    "X_validco2_scaled = Xscalerco2.transform(X_validco2)\n",
    "X_testco2_scaled = Xscalerco2.transform(X_testco2)\n",
    "yscalerco2 = StandardScaler()\n",
    "y_trainco2_scaled = yscalerco2.fit_transform(y_trainco2.values.reshape(1754381,1))\n",
    "y_validco2_scaled = yscalerco2.transform(y_validco2.values.reshape(453144,1))\n",
    "y_testco2_scaled = yscalerco2.transform(y_testco2.values.reshape(215137,1))"
   ]
  },
  {
   "cell_type": "code",
   "execution_count": null,
   "id": "076d9f99-f63c-45f4-88d7-3cf6202072c6",
   "metadata": {
    "tags": []
   },
   "outputs": [],
   "source": [
    "#X_train_scaled"
   ]
  },
  {
   "cell_type": "code",
   "execution_count": null,
   "id": "6675b7e6-b648-42b1-8299-d4ee9724b2c8",
   "metadata": {
    "tags": []
   },
   "outputs": [],
   "source": [
    "#sns.heatmap(pd.DataFrame(X_train_scaled).corr())"
   ]
  },
  {
   "cell_type": "code",
   "execution_count": null,
   "id": "3e3e5b26-e65b-49bd-bbb5-c8215e427ae2",
   "metadata": {
    "tags": []
   },
   "outputs": [],
   "source": [
    "# # Need to scale the features for neural networks, otherwise the training doesn't converge.\n",
    "# Xscalerch4 = StandardScaler()\n",
    "# Xscalerch4.fit(X_trainch4)\n",
    "# X_train_scaledch4 = Xscalerch4.transform(X_trainch4)\n",
    "# X_valid_scaledch4 = Xscalerch4.transform(X_validch4)\n",
    "# X_test_scaledch4 = Xscalerch4.transform(X_testch4)\n",
    "\n",
    "# yscalerch4 = StandardScaler()\n",
    "# yscalerch4.fit(y_trainch4)\n",
    "# y_train_scaledch4 = yscalerch4.transform(y_trainch4)\n",
    "# y_valid_scaledch4 = yscalerch4.transform(y_validch4)\n",
    "# y_test_scaledch4 = yscalerch4.transform(y_testch4)"
   ]
  },
  {
   "cell_type": "code",
   "execution_count": null,
   "id": "3bec8b91-afa2-4733-8550-b2b274886d17",
   "metadata": {
    "tags": []
   },
   "outputs": [],
   "source": [
    "# # Need to scale the features for neural networks, otherwise the training doesn't converge.\n",
    "# Xscalerco2 = StandardScaler()\n",
    "# Xscalerco2.fit(X_trainco2)\n",
    "# X_train_scaledco2 = Xscalerco2.transform(X_trainco2)\n",
    "# X_valid_scaledco2 = Xscalerco2.transform(X_validco2)\n",
    "# X_test_scaledco2 = Xscalerco2.transform(X_testco2)\n",
    "\n",
    "# yscalerco2 = StandardScaler()\n",
    "# yscalerco2.fit(y_trainco2)\n",
    "# y_train_scaledco2 = yscalerco2.transform(y_trainco2)\n",
    "# y_valid_scaledco2 = yscalerco2.transform(y_validco2)\n",
    "# y_test_scaledco2 = yscalerco2.transform(y_testco2)"
   ]
  },
  {
   "cell_type": "code",
   "execution_count": null,
   "id": "c3f42942-d864-486a-bc81-1b5a44eab758",
   "metadata": {
    "tags": []
   },
   "outputs": [],
   "source": [
    "#SUPERVISION\n",
    "def series_to_supervised(data, lags = 1, forecasting_steps = 1, dropna=True):\n",
    "    n_vars = 1 if type(data) is list else data.shape[1]\n",
    "    df = pd.DataFrame(data)\n",
    "    cols, names = list(), list()\n",
    "    for i in range(lags, 0, -1):\n",
    "        cols.append(df.shift(i))\n",
    "        names += [(df.columns[j], str('t-%d') %  i) for j in range(n_vars)]\n",
    "    for a in range(0, forecasting_steps):\n",
    "        cols.append(df.shift(-a))\n",
    "        if a == 0:\n",
    "            names += [(df.columns[b], str('t')) for b in range(n_vars)]\n",
    "        else:\n",
    "            names += [(df.columns[b], str('t+%d') %  a) for b in range(n_vars)]\n",
    "    agg = pd.concat(cols, axis=1)\n",
    "    agg.columns = names\n",
    "    agg = agg.loc[:,~agg.columns.duplicated()]\n",
    "    if dropna:\n",
    "        agg.dropna(inplace=True)\n",
    "    return agg"
   ]
  },
  {
   "cell_type": "code",
   "execution_count": null,
   "id": "1f516018-084d-4a95-8c12-b8e9c649b901",
   "metadata": {
    "tags": []
   },
   "outputs": [],
   "source": [
    "#SUPERVISION\n",
    "trainXsup=series_to_supervised(trainX, lags=3, forecasting_steps=1, dropna=True)\n",
    "# X_valid_scaled_sup=series_to_supervised(X_valid_scaled, lags=3, forecasting_steps=1, dropna=True)\n",
    "# X_test_scaled_sup=series_to_supervised(X_test_scaled, lags=3, forecasting_steps=1, dropna=True)\n",
    "# X_train_scaled_sup.shape, X_valid_scaled_sup.shape, X_test_scaled_sup.shape\n",
    "validXsup=series_to_supervised(validX, lags=3, forecasting_steps=1, dropna=True)\n",
    "testXsup=series_to_supervised(testX, lags=3, forecasting_steps=1, dropna=True)\n",
    "trainXsup.shape, validXsup.shape, testXsup.shape"
   ]
  },
  {
   "cell_type": "code",
   "execution_count": null,
   "id": "26606674-5627-4d5c-ba1a-126c7dd67e0e",
   "metadata": {
    "tags": []
   },
   "outputs": [],
   "source": [
    "#SUPERVISION\n",
    "X_trainch4_scaled_sup=series_to_supervised(X_trainch4_scaled, lags=3, forecasting_steps=1, dropna=True)\n",
    "# X_validch4_scaled_sup=series_to_supervised(X_validch4_scaled, lags=3, forecasting_steps=1, dropna=True)\n",
    "# X_testch4_scaled_sup=series_to_supervised(X_testch4_scaled, lags=3, forecasting_steps=1, dropna=True)\n",
    "# X_trainch4_scaled_sup.shape, X_validch4_scaled_sup.shape, X_testch4_scaled_sup.shape\n",
    "X_validch4_sup=series_to_supervised(X_validch4, lags=3, forecasting_steps=1, dropna=True)\n",
    "X_testch4_sup=series_to_supervised(X_testch4, lags=3, forecasting_steps=1, dropna=True)\n",
    "X_trainch4_scaled_sup.shape, X_validch4_sup.shape, X_testch4_sup.shape"
   ]
  },
  {
   "cell_type": "code",
   "execution_count": null,
   "id": "2c7602a8-556a-4fa2-a7bb-2045a482990c",
   "metadata": {
    "tags": []
   },
   "outputs": [],
   "source": [
    "#SUPERVISION\n",
    "X_trainco2_scaled_sup=series_to_supervised(X_trainco2_scaled, lags=3, forecasting_steps=1, dropna=True)\n",
    "# X_validco2_scaled_sup=series_to_supervised(X_validco2_scaled, lags=3, forecasting_steps=1, dropna=True)\n",
    "# X_testco2_scaled_sup=series_to_supervised(X_testco2_scaled, lags=3, forecasting_steps=1, dropna=True)\n",
    "# X_trainco2_scaled_sup.shape, X_validco2_scaled_sup.shape, X_testco2_scaled_sup.shape\n",
    "X_validco2_sup=series_to_supervised(X_validco2, lags=3, forecasting_steps=1, dropna=True)\n",
    "X_testco2_sup=series_to_supervised(X_testco2, lags=3, forecasting_steps=1, dropna=True)\n",
    "X_trainco2_scaled_sup.shape, X_validco2_sup.shape, X_testco2_sup.shape"
   ]
  },
  {
   "cell_type": "code",
   "execution_count": null,
   "id": "9c83665d-142a-4b87-83fc-56ad1a174e44",
   "metadata": {
    "tags": []
   },
   "outputs": [],
   "source": [
    "train.shape, trainX.shape, valid.shape, validX.shape, test.shape, testX.shape"
   ]
  },
  {
   "cell_type": "code",
   "execution_count": null,
   "id": "441dead6-ebee-4700-b9bd-7d54deb3820c",
   "metadata": {
    "tags": []
   },
   "outputs": [],
   "source": [
    "Xch4.shape, X_trainch4.shape, X_trainch4_scaled.shape, X_trainch4_scaled.shape, \\\n",
    "X_validch4.shape, X_validch4_sup.shape, \\\n",
    "X_testch4.shape, X_testch4_sup.shape"
   ]
  },
  {
   "cell_type": "code",
   "execution_count": null,
   "id": "ab4034e0-d162-4d9e-b327-2ad2fcf1db13",
   "metadata": {
    "tags": []
   },
   "outputs": [],
   "source": [
    "Xco2.shape, X_trainco2.shape, X_trainco2_scaled.shape, X_trainco2_scaled_sup.shape, \\\n",
    "X_validco2.shape, X_validco2_sup.shape, \\\n",
    "X_testco2.shape, X_testco2_sup.shape"
   ]
  },
  {
   "cell_type": "code",
   "execution_count": null,
   "id": "ead53f8c-e8e9-4b0e-9921-c65b53dcd631",
   "metadata": {},
   "outputs": [],
   "source": []
  },
  {
   "cell_type": "code",
   "execution_count": null,
   "id": "c74098ef-106e-41be-b2f8-9d32ff61afbb",
   "metadata": {
    "tags": []
   },
   "outputs": [],
   "source": [
    "#LSTM\n",
    "# Reshaped for LSTM later on...renamed to reframed to allow rescaled venture through regression\n",
    "X_train_reframed=trainX.reshape(1432319, 1, 286);\n",
    "X_valid_reframed=validX.reshape(453144, 1, 286);\n",
    "X_test_reframed=testX.reshape(215137, 1, 286);"
   ]
  },
  {
   "cell_type": "code",
   "execution_count": null,
   "id": "6366badd-20bb-4ec8-8c43-e9e73b4098b2",
   "metadata": {
    "tags": []
   },
   "outputs": [],
   "source": [
    "#LSTM\n",
    "# Reshaped for LSTM later on...renamed to reframed to allow rescaled venture through regression\n",
    "X_trainch4_reframed=X_trainch4_scaled.reshape(1754381, 1, 285);\n",
    "X_validch4_reframed=X_validch4_scaled.reshape(453144, 1, 285);\n",
    "X_testch4_reframed=X_testch4_scaled.reshape(215137, 1, 285);"
   ]
  },
  {
   "cell_type": "code",
   "execution_count": null,
   "id": "a5f1e87b-6030-4091-a283-d93f3002bf7a",
   "metadata": {
    "tags": []
   },
   "outputs": [],
   "source": [
    "#LSTM\n",
    "# Reshaped for LSTM later on...renamed to reframed to allow rescaled venture through regression\n",
    "X_trainco2_reframed=X_trainco2_scaled.reshape(1754381, 1, 285);\n",
    "X_validco2_reframed=X_validco2_scaled.reshape(453144, 1, 285);\n",
    "X_testco2_reframed=X_testco2_scaled.reshape(215137, 1, 285);"
   ]
  },
  {
   "cell_type": "code",
   "execution_count": null,
   "id": "b21e76ea-32bc-4ead-a505-b6492eb6f34e",
   "metadata": {
    "tags": []
   },
   "outputs": [],
   "source": [
    "train.shape, trainy.shape, valid.shape, validy.shape, test.shape, testy.shape"
   ]
  },
  {
   "cell_type": "code",
   "execution_count": null,
   "id": "485c9472-ff8d-40a2-9f93-a626a3dff54f",
   "metadata": {
    "tags": []
   },
   "outputs": [],
   "source": [
    "#trainy=trainy.values.reshape(1432319,1); validy=validy.values.reshape(453144,1); testy=testy.values.reshape(215137,1)"
   ]
  },
  {
   "cell_type": "code",
   "execution_count": null,
   "id": "32f4d34a-3142-48fb-acfb-e03bc9994c51",
   "metadata": {
    "tags": []
   },
   "outputs": [],
   "source": [
    "#SUPERVISION\n",
    "trainysup=series_to_supervised(trainy, lags=3, forecasting_steps=1, dropna=True)\n",
    "validysup=series_to_supervised(validy, lags=3, forecasting_steps=1, dropna=True)\n",
    "testysup=series_to_supervised(testy, lags=3, forecasting_steps=1, dropna=True)\n",
    "trainysup.shape, validysup.shape, testysup.shape"
   ]
  },
  {
   "cell_type": "code",
   "execution_count": null,
   "id": "563eb74a-9abe-4994-8679-f6386629eacf",
   "metadata": {
    "tags": []
   },
   "outputs": [],
   "source": [
    "#SUPERVISION\n",
    "y_trainch4_scaled_sup=series_to_supervised(y_trainch4_scaled, lags=3, forecasting_steps=1, dropna=True)\n",
    "y_validch4_scaled_sup=series_to_supervised(y_validch4_scaled, lags=3, forecasting_steps=1, dropna=True)\n",
    "y_testch4_scaled_sup=series_to_supervised(y_testch4_scaled, lags=3, forecasting_steps=1, dropna=True)\n",
    "y_trainch4_scaled_sup.shape, y_validch4_scaled_sup.shape, y_testch4_scaled_sup.shape"
   ]
  },
  {
   "cell_type": "code",
   "execution_count": null,
   "id": "0aba5c38-5f24-4f22-9cce-cc77f46f2686",
   "metadata": {
    "tags": []
   },
   "outputs": [],
   "source": [
    "#SUPERVISION\n",
    "y_trainco2_scaled_sup=series_to_supervised(y_trainco2_scaled, lags=3, forecasting_steps=1, dropna=True)\n",
    "y_validco2_scaled_sup=series_to_supervised(y_validco2_scaled, lags=3, forecasting_steps=1, dropna=True)\n",
    "y_testco2_scaled_sup=series_to_supervised(y_testco2_scaled, lags=3, forecasting_steps=1, dropna=True)\n",
    "y_trainco2_scaled_sup.shape, y_validco2_scaled_sup.shape, y_testco2_scaled_sup.shape"
   ]
  },
  {
   "cell_type": "code",
   "execution_count": null,
   "id": "b9be1cc9-fe55-4f99-be3d-6bd379790c33",
   "metadata": {
    "tags": []
   },
   "outputs": [],
   "source": [
    "trainy.shape, trainysup.shape,validy.shape, validysup.shape,testy.shape, testysup.shape"
   ]
  },
  {
   "cell_type": "code",
   "execution_count": null,
   "id": "9d3bc77a-ff9c-4965-9050-1b2002c88122",
   "metadata": {
    "tags": []
   },
   "outputs": [],
   "source": [
    "ych4.shape, y_trainch4.shape, y_trainch4_scaled.shape, y_trainch4_scaled_sup.shape, \\\n",
    "y_validch4.shape, y_validch4_scaled.shape, y_validch4_scaled_sup.shape, \\\n",
    "y_testch4.shape, y_testch4_scaled.shape, y_testch4_scaled_sup.shape"
   ]
  },
  {
   "cell_type": "code",
   "execution_count": null,
   "id": "decd4fcc-c041-4c75-95d0-c595a8c10f9a",
   "metadata": {
    "tags": []
   },
   "outputs": [],
   "source": [
    "yco2.shape, y_trainco2.shape, y_trainco2_scaled.shape, y_trainco2_scaled_sup.shape, \\\n",
    "y_validco2.shape, y_validco2_scaled.shape, y_validco2_scaled_sup.shape, \\\n",
    "y_testco2.shape, y_testco2_scaled.shape, y_testco2_scaled_sup.shape"
   ]
  },
  {
   "cell_type": "code",
   "execution_count": null,
   "id": "63165155-015f-4936-8228-ac505654f913",
   "metadata": {
    "tags": []
   },
   "outputs": [],
   "source": [
    "#LSTM\n",
    "# Reshaped for LSTM later on...renamed to reframed to allow rescaled venture through regression\n",
    "y_train_reframed=trainy.reshape(1432319, 1, 1);\n",
    "y_valid_reframed=validy.reshape(453144, 1, 1);\n",
    "y_test_reframed=testy.reshape(215137, 1, 1);"
   ]
  },
  {
   "cell_type": "code",
   "execution_count": null,
   "id": "f1c8a2cf-4058-4dcc-9e24-983b6a76f45a",
   "metadata": {
    "tags": []
   },
   "outputs": [],
   "source": [
    "#LSTM\n",
    "# Reshaped for LSTM later on...renamed to reframed to allow rescaled venture through regression\n",
    "y_trainch4_reframed=y_trainch4_scaled.reshape(1754381, 1, 1);\n",
    "y_validch4_reframed=y_validch4_scaled.reshape(453144, 1, 1);\n",
    "y_testch4_reframed=y_testch4_scaled.reshape(215137, 1, 1);"
   ]
  },
  {
   "cell_type": "code",
   "execution_count": null,
   "id": "eb3bd2f3-22ae-4af5-a82b-34bc77f717a0",
   "metadata": {
    "tags": []
   },
   "outputs": [],
   "source": [
    "#LSTM\n",
    "# Reshaped for LSTM later on...renamed to reframed to allow rescaled venture through regression\n",
    "y_trainco2_reframed=y_trainco2_scaled.reshape(1754381, 1, 1);\n",
    "y_validco2_reframed=y_validco2_scaled.reshape(453144, 1, 1);\n",
    "y_testco2_reframed=y_testco2_scaled.reshape(215137, 1, 1);"
   ]
  },
  {
   "cell_type": "markdown",
   "id": "0beeb4b6-e3a1-4c2b-a3a4-5281541c2712",
   "metadata": {
    "jp-MarkdownHeadingCollapsed": true,
    "tags": []
   },
   "source": [
    "# SIBBORK"
   ]
  },
  {
   "cell_type": "code",
   "execution_count": null,
   "id": "dec4bae3-e198-4581-8180-b4f09030b6af",
   "metadata": {
    "tags": []
   },
   "outputs": [],
   "source": [
    "file = os.path.join('/Volumes/mambo5/modeling/sibbork/sibbork.pkl')\n",
    "with open(file, 'rb') as f:\n",
    "    sib = pickle.load(f)"
   ]
  },
  {
   "cell_type": "code",
   "execution_count": null,
   "id": "e6f56c6c-f61d-4b52-8d98-a851092a2aab",
   "metadata": {
    "tags": []
   },
   "outputs": [],
   "source": [
    "sib.shape"
   ]
  },
  {
   "cell_type": "code",
   "execution_count": null,
   "id": "1cd748ad-5378-4baf-b9a9-a0a29f56f21b",
   "metadata": {
    "tags": []
   },
   "outputs": [],
   "source": [
    "sib_dates=sib.iloc[2:,:]"
   ]
  },
  {
   "cell_type": "code",
   "execution_count": null,
   "id": "9cc98fab-4a69-4975-be82-b153fa8572f2",
   "metadata": {
    "tags": []
   },
   "outputs": [],
   "source": [
    "sib_dates.index=pd.to_datetime(sib_dates.index, format='%Y')\n",
    "sib_dates.index.name = None\n",
    "sib_dates=sib_dates.sort_index()"
   ]
  },
  {
   "cell_type": "code",
   "execution_count": null,
   "id": "40eb08ac-c466-4645-978c-2b928697b4b6",
   "metadata": {
    "tags": []
   },
   "outputs": [],
   "source": [
    "sibbork=sib_dates"
   ]
  },
  {
   "cell_type": "code",
   "execution_count": null,
   "id": "123a70ed-a273-404e-816d-44a1e435f132",
   "metadata": {},
   "outputs": [],
   "source": []
  },
  {
   "cell_type": "markdown",
   "id": "4c47f628-f920-4948-88cc-70f51bd1bad7",
   "metadata": {
    "tags": []
   },
   "source": [
    "#### Playground"
   ]
  },
  {
   "cell_type": "code",
   "execution_count": null,
   "id": "4325c658-01bb-4a7d-8061-0bbfac66c51e",
   "metadata": {
    "tags": []
   },
   "outputs": [],
   "source": [
    "fig,ax = plt.subplots(figsize=(9,6), dpi=1000)\n",
    "ln1=ax.plot(sib.iloc[2:,:].replace(-9999,np.nan), linestyle='solid')\n",
    "#ln2=ax.plot(sib.iloc[2:,7].replace(-9999,np.nan).dropna(), color='springgreen', linestyle='dashed', label='Interior')\n",
    "#ln3=ax.plot(sib.iloc[2:,16].replace(-9999,np.nan).dropna(), color='magenta', linestyle='dotted', label='Seward Peninsula')\n",
    "#ln4=ax.plot(sib.iloc[2:,39].replace(-9999,np.nan).dropna(), color='dodgerblue', linestyle='dotted', label='Yukon-Kuskokwim Delta')\n",
    "#ax2=ax.twinx();\n",
    "#ln4=ax2.plot(validPredict, color='coral', linestyle='dotted')\n",
    "\n",
    "lines = ln1 #+ ln2 + ln3 + ln4\n",
    "labs = [line.get_label() for line in lines];\n",
    "#ax.legend(lines, labs, loc='best')\n",
    "\n",
    "ax.grid(linewidth=0.3);\n",
    "#ax.set_xlabel('Year', labelpad=6, fontsize=9);\n",
    "ax.set(xticklabels=[])  # remove the tick labels\n",
    "ax.tick_params(left=False)  # remove the ticks\n",
    "ax.set_ylabel('Thaw Depth (cm)', labelpad=6, fontsize=9)\n",
    "plt.title('SIBBORK-TTE Thaw Depth Simulations (1800-2100)')\n",
    "plt.ylabel('Active Layer Thickness (cm)')\n",
    "#plt.xlabel('Year')\n",
    "#plt.axis([0, 6, 0, 60])\n",
    "#plt.legend(loc='best')\n",
    "plt.show()\n",
    "#plt.savefig('/Users/bradleygay/Downloads/sibout.png',dpi=1000)"
   ]
  },
  {
   "cell_type": "code",
   "execution_count": null,
   "id": "66533832-180e-4001-9026-5a20f21562d9",
   "metadata": {
    "tags": []
   },
   "outputs": [],
   "source": [
    "import h5py\n",
    "#filename=os.path.join('/Users/bradleygay/Downloads (original)/HCU/mf10/arcticDEM_HCU_10m_mf10_LCunmasked_585.h5')\n",
    "#filename=os.path.join('/Users/bradleygay/Downloads (original)/HCU/mf10/arcticDEM_HCU_10m_mf10_LCunmasked_370.h5')\n",
    "#filename=os.path.join('/Users/bradleygay/Downloads (original)/HCU/mf10/arcticDEM_HCU_10m_mf10_LCunmasked_245.h5')\n",
    "filename=os.path.join('/Users/bradleygay/Downloads (original)/HCU/mf10/arcticDEM_HCU_10m_mf10_LCunmasked_126.h5')\n",
    "#filename=os.path.join('/Users/bradleygay/Downloads (original)/\n",
    "\n",
    "with h5py.File(filename, \"r\") as f:\n",
    "    # Print all root level object names (aka keys) \n",
    "    # these can be group or dataset names \n",
    "    print(\"Keys: %s\" % f.keys())\n",
    "    # get first object name/key; may or may NOT be a group\n",
    "    a_group_key = list(f.keys())[0]\n",
    "\n",
    "    # get the object type for a_group_key: usually group or dataset\n",
    "    print(type(f[a_group_key])) \n",
    "\n",
    "    # If a_group_key is a group name, \n",
    "    # this gets the object names in the group and returns as a list\n",
    "    data = list(f[a_group_key])\n",
    "\n",
    "    # If a_group_key is a dataset name, \n",
    "    # this gets the dataset values and returns as a list\n",
    "    data = list(f[a_group_key])\n",
    "    # preferred methods to get dataset values:\n",
    "    ds_obj = f[a_group_key]      # returns as a h5py dataset object\n",
    "    ds_arr = f[a_group_key] # returns as a numpy array"
   ]
  },
  {
   "cell_type": "code",
   "execution_count": null,
   "id": "4ba79321-3078-4156-a505-390dc9062198",
   "metadata": {
    "tags": []
   },
   "outputs": [],
   "source": [
    "f=h5py.File(filename, \"r\")"
   ]
  },
  {
   "cell_type": "code",
   "execution_count": null,
   "id": "c5f2daa3-9511-472c-b500-d92bc7e9a711",
   "metadata": {
    "tags": []
   },
   "outputs": [],
   "source": [
    "file=h5py.File(filename,'r')"
   ]
  },
  {
   "cell_type": "code",
   "execution_count": null,
   "id": "dd5305fa-70c9-45d0-9b45-e46370cb411d",
   "metadata": {
    "tags": []
   },
   "outputs": [],
   "source": [
    "ls=np.array([])\n",
    "for i in range(300):\n",
    "    date=str(1800+i)\n",
    "    ls=np.append(ls,np.array(f['FreezeMeltDepth'].get(date)))"
   ]
  },
  {
   "cell_type": "code",
   "execution_count": null,
   "id": "217349e8-5ce9-482a-98d4-aff7e00a27ec",
   "metadata": {
    "tags": []
   },
   "outputs": [],
   "source": [
    "f.close()"
   ]
  },
  {
   "cell_type": "code",
   "execution_count": null,
   "id": "5ebc7c58-f348-4514-970c-6d1f39f4b28e",
   "metadata": {
    "tags": []
   },
   "outputs": [],
   "source": [
    "hcu=ls.reshape(300,10,10,12,2)"
   ]
  },
  {
   "cell_type": "code",
   "execution_count": null,
   "id": "b0d83671-6633-4e2e-84a4-483cce1fab5c",
   "metadata": {
    "tags": []
   },
   "outputs": [],
   "source": [
    "hcu2=ls.reshape(300,10,10,12,2)"
   ]
  },
  {
   "cell_type": "code",
   "execution_count": null,
   "id": "908724fc-5d29-4fc7-8a9e-341eee8138f2",
   "metadata": {
    "tags": []
   },
   "outputs": [],
   "source": [
    "hcu3=ls.reshape(300,10,10,12,2)"
   ]
  },
  {
   "cell_type": "code",
   "execution_count": null,
   "id": "48970fd5-ff2f-46bc-b077-850f4d1ac7ba",
   "metadata": {
    "tags": []
   },
   "outputs": [],
   "source": [
    "hcu4=ls.reshape(300,10,10,12,2)"
   ]
  },
  {
   "cell_type": "code",
   "execution_count": null,
   "id": "e26990a0-709f-45f3-8f08-27469b08e7d2",
   "metadata": {
    "tags": []
   },
   "outputs": [],
   "source": [
    "file = os.path.join('/Users/bradleygay/Downloads/hcu_245.pkl')\n",
    "with open(file, 'wb') as f:\n",
    "    pickle.dump(hcu,f)"
   ]
  },
  {
   "cell_type": "code",
   "execution_count": null,
   "id": "08759b63-2bce-43cf-a26b-eb28a5283d35",
   "metadata": {
    "tags": []
   },
   "outputs": [],
   "source": [
    "# dates=[]\n",
    "# for i in range(300):\n",
    "#     date=int(1800+i)\n",
    "#     dates=np.append(dates,date)"
   ]
  },
  {
   "cell_type": "code",
   "execution_count": null,
   "id": "2b4bb2e0-c036-4ed1-8e2a-20d992129005",
   "metadata": {
    "tags": []
   },
   "outputs": [],
   "source": [
    "#f['FreezeMeltDepth']['2020'][:,:,7,1]"
   ]
  },
  {
   "cell_type": "code",
   "execution_count": null,
   "id": "bdb5964a-cbcc-4a1d-bb3d-07957e4c18ac",
   "metadata": {
    "tags": []
   },
   "outputs": [],
   "source": [
    "#fig, ((ax1, ax2), (ax3, ax4)) = plt.subplots(2, 2)\n",
    "#fig, ((ax1, ax2), (ax3, ax4)) = plt.subplots(2,2,figsize=(9,6),dpi=1000)\n",
    "fig, ((ax1, ax2, ax3)) = plt.subplots(1,3,figsize=(24,6),dpi=1000)\n",
    "fig.suptitle('SIBBORK-TTE Thaw Depth Simulations, 10m (1800-2100)', size=24, y=1)\n",
    "l0=ax1.contourf(hcu[0,:,:,7,1], cmap='Spectral_r')\n",
    "fig.colorbar(l0,ax=ax1)\n",
    "ax1.set_title('1800')\n",
    "#plt.colorbar()\n",
    "l1=ax2.contourf(hcu[180,:,:,7,1], cmap='Spectral_r')\n",
    "fig.colorbar(l1,ax=ax2)\n",
    "ax2.set_title('1980')\n",
    "#ax2.contourf(ls2[219,:,:,7,1])\n",
    "#ax2.set_title('2019')\n",
    "l2=ax3.contourf(hcu[-1,:,:,7,1], cmap='Spectral_r')\n",
    "fig.colorbar(l2,ax=ax3)\n",
    "ax3.set_title('2100')\n",
    "\n",
    "for ax in fig.get_axes():\n",
    "    ax.label_outer()\n",
    "    \n",
    "# fig.colorbar(l0, ax=list(ax[1,0:2]),orientation='horizontal', pad=0.2)\n",
    "# fig.colorbar(l2, ax=ax[1,2],orientation='horizontal', aspect=10, pad=0.2)"
   ]
  },
  {
   "cell_type": "code",
   "execution_count": null,
   "id": "d63c038c-871c-4de7-8a53-850f22b9a0cf",
   "metadata": {
    "tags": []
   },
   "outputs": [],
   "source": [
    "#fig, ((ax1, ax2), (ax3, ax4)) = plt.subplots(2, 2)\n",
    "fig, ((ax1, ax2), (ax3, ax4)) = plt.subplots(2,2,figsize=(24,18),dpi=1000)\n",
    "#fig, ((ax1, ax2, ax3)) = plt.subplots(1,3,figsize=(24,6),dpi=1000)\n",
    "fig.suptitle('SIBBORK-TTE Thaw Depth Simulations, 10m (Warming-Induced Climate Forcing)', size=24, y=0.925)\n",
    "l0=ax1.contourf(hcu[-1,:,:,7,1], cmap='Spectral_r')\n",
    "fig.colorbar(l0,ax=ax1)\n",
    "ax1.set_title('2100, SSP585')\n",
    "l1=ax2.contourf(hcu2[-1,:,:,7,1], cmap='Spectral_r')\n",
    "fig.colorbar(l1,ax=ax2)\n",
    "ax2.set_title('2100, SSP370')\n",
    "l2=ax3.contourf(hcu3[-1,:,:,7,1], cmap='Spectral_r')\n",
    "fig.colorbar(l2,ax=ax3)\n",
    "ax3.set_title('2100, SSP245')\n",
    "l3=ax4.contourf(hcu4[-1,:,:,7,1], cmap='Spectral_r')\n",
    "fig.colorbar(l3,ax=ax4)\n",
    "ax4.set_title('2100, SSP126')\n",
    "\n",
    "for ax in fig.get_axes():\n",
    "    ax.label_outer()\n",
    "    \n",
    "# fig.colorbar(l0, ax=list(ax[1,0:2]),orientation='horizontal', pad=0.2)\n",
    "# fig.colorbar(l2, ax=ax[1,2],orientation='horizontal', aspect=10, pad=0.2)"
   ]
  },
  {
   "cell_type": "code",
   "execution_count": null,
   "id": "6f3fec49-4ad8-423d-b0e6-d31a759ae1b6",
   "metadata": {
    "tags": []
   },
   "outputs": [],
   "source": [
    "arr=[]\n",
    "for i in range(300):\n",
    "    arr=np.append(arr,hcu[i,:,:,7,1].max())"
   ]
  },
  {
   "cell_type": "code",
   "execution_count": null,
   "id": "b3e295a1-f7d9-46d4-b90c-4fe654d7e82a",
   "metadata": {
    "tags": []
   },
   "outputs": [],
   "source": [
    "plt.plot(arr)"
   ]
  },
  {
   "cell_type": "code",
   "execution_count": null,
   "id": "24d8948e-1311-454c-94f2-7df104c8d790",
   "metadata": {
    "tags": []
   },
   "outputs": [],
   "source": [
    "#f['FreezeMeltDepth'][1800][:,:,8,1]\n",
    "#plt.contourf(f['FreezeMeltDepth']['1979'][:,:,8,1])\n",
    "#plt.contourf(f['FreezeMeltDepth']['2020'][:,:,8,1])\n",
    "# plt.contourf(f['FreezeMeltDepth']['2100'][:,:,8,1])\n",
    "# plt.colorbar()\n",
    "# plt.show()"
   ]
  },
  {
   "cell_type": "code",
   "execution_count": null,
   "id": "ced2bf92-b7db-4b1f-834e-cd7ee0113b00",
   "metadata": {},
   "outputs": [],
   "source": []
  },
  {
   "cell_type": "markdown",
   "id": "a5811bfa-e528-4767-babe-1f36335b915a",
   "metadata": {
    "jp-MarkdownHeadingCollapsed": true,
    "tags": []
   },
   "source": [
    "# TCFM-Arctic"
   ]
  },
  {
   "cell_type": "code",
   "execution_count": null,
   "id": "8edc2f39-1dd0-4950-81b1-87c416d4a2c6",
   "metadata": {
    "tags": []
   },
   "outputs": [],
   "source": [
    "import rasterio\n",
    "from rasterio.enums import Resampling\n",
    "\n",
    "#upscale_factor = 2 #upsample (LR2HR)\n",
    "upscale_factor = 1/2 #downsample (HR2LR)\n",
    "\n",
    "with rasterio.open('/Volumes/mambo5/modeling/ABoVE_CO2_CH4_Flux_Estimates/methane_2003.tif') as dataset:\n",
    "\n",
    "    # resample data to target shape\n",
    "    data = dataset.read(\n",
    "        out_shape=(\n",
    "            dataset.count,\n",
    "            int(dataset.height * upscale_factor),\n",
    "            int(dataset.width * upscale_factor)\n",
    "        ),\n",
    "        resampling=Resampling.bilinear\n",
    "    )\n",
    "\n",
    "    # scale image transform\n",
    "    transform = dataset.transform * dataset.transform.scale(\n",
    "        (dataset.width / data.shape[-1]),\n",
    "        (dataset.height / data.shape[-2])\n",
    "    )"
   ]
  },
  {
   "cell_type": "code",
   "execution_count": null,
   "id": "d9af9f6d-4e93-477a-9c2d-0d79fcbc0d63",
   "metadata": {
    "tags": []
   },
   "outputs": [],
   "source": [
    "dataset"
   ]
  },
  {
   "cell_type": "code",
   "execution_count": null,
   "id": "51914e2c-7ce3-4637-adf8-6be4307a1b05",
   "metadata": {},
   "outputs": [],
   "source": []
  },
  {
   "cell_type": "code",
   "execution_count": null,
   "id": "0e2be75a-1571-4027-9d97-14528446bbc7",
   "metadata": {},
   "outputs": [],
   "source": []
  },
  {
   "cell_type": "code",
   "execution_count": null,
   "id": "58b76658-1705-409c-ab68-983837ca7f84",
   "metadata": {
    "tags": []
   },
   "outputs": [],
   "source": [
    "# from osgeo import gdal, gdalconst\n",
    "\n",
    "# inputfile = '/Volumes/mambo5/modeling/ABoVE_CO2_CH4_Flux_Estimates/methane_2003.tif'\n",
    "# input = gdal.Open(inputfile, gdalconst.GA_ReadOnly)\n",
    "# inputProj = input.GetProjection()\n",
    "# inputTrans = input.GetGeoTransform()\n",
    "\n",
    "# referencefile = '/Volumes/mambo5/uavsar/tns/toolik_05300_17097-011_18050-008_0345d_s01_L090_01_int_grd/toolik_05300_17097-011_18050-008_0345d_s01_L090VV_01.unw.grd.tiff'\n",
    "# reference = gdal.Open(referencefile)#, gdalconst.GAReadOnly)\n",
    "# referenceProj = reference.GetProjection()\n",
    "# referenceTrans = reference.GetGeoTransform()\n",
    "# bandreference = reference.GetRasterBand(1)    \n",
    "# x = reference.RasterXSize \n",
    "# y = reference.RasterYSize\n",
    "\n",
    "\n",
    "# outputfile = '/Volumes/mambo5 2/tcfm_1.tif'\n",
    "# driver= gdal.GetDriverByName('GTiff')\n",
    "# output = driver.Create(outputfile,x,y,1,bandreference.DataType)\n",
    "# output.SetGeoTransform(referenceTrans)\n",
    "# output.SetProjection(referenceProj)\n",
    "\n",
    "# gdal.ReprojectImage(input,output,inputProj,referenceProj,gdalconst.GRA_Bilinear)\n",
    "\n",
    "# del output"
   ]
  },
  {
   "cell_type": "code",
   "execution_count": null,
   "id": "8a2e06ff-d86e-4e7f-82f4-3c476d9fe067",
   "metadata": {
    "tags": []
   },
   "outputs": [],
   "source": [
    "# scale image transform\n",
    "transform = rast1.transform * rast1.transform.scale(\n",
    "    (rast1.width / data.shape[-1]),\n",
    "    (rast1.height / data.shape[-2])\n",
    ")"
   ]
  },
  {
   "cell_type": "code",
   "execution_count": null,
   "id": "436f30be-6e46-4073-9fae-2692869b1ced",
   "metadata": {
    "tags": []
   },
   "outputs": [],
   "source": [
    "import pickle\n",
    "filepath = Path('/Users/bradleygay/Downloads/tcfm_2003_HR.pkl')\n",
    "with open(filepath, 'wb') as f:\n",
    "    pickle.dump(data2, f)"
   ]
  },
  {
   "cell_type": "code",
   "execution_count": null,
   "id": "1564fcbc-1112-42b4-bd94-10fdf053071c",
   "metadata": {},
   "outputs": [],
   "source": [
    "#(365, 3398, 5810)"
   ]
  },
  {
   "cell_type": "code",
   "execution_count": null,
   "id": "2990cdba-f2eb-4489-93c9-b6f1bd672494",
   "metadata": {
    "tags": []
   },
   "outputs": [],
   "source": [
    "# plt.imshow(data[180,:,:], cmap='pink')\n",
    "# plt.show()"
   ]
  },
  {
   "cell_type": "code",
   "execution_count": null,
   "id": "8c063984-f02d-4cc7-993b-3d0c96d08d29",
   "metadata": {},
   "outputs": [],
   "source": [
    "# gdalwarp -s_srs EPSG:3410 -t_srs EPSG:3411 -r bilinear -of GTiff \"/Volumes/mambo5 2/modeling/ABoVE_CO2_CH4_Flux_Estimates/methane_2003.tif\" \\\n",
    "# /private/var/folders/v6/ztdc5s752_55x8zzxtfg9qjr0000gn/T/processing_QyNsQk/1bff928a16234fde97f77c85b29c0112/OUTPUT.tif"
   ]
  },
  {
   "cell_type": "code",
   "execution_count": null,
   "id": "7caff379-afc6-4484-a249-a969908a77a6",
   "metadata": {
    "tags": []
   },
   "outputs": [],
   "source": [
    "#rast1=rio.open('/Volumes/mambo5/modeling/ABoVE_CO2_CH4_Flux_Estimates/methane_2003.tif')"
   ]
  },
  {
   "cell_type": "code",
   "execution_count": null,
   "id": "8e92e0a1-8b1e-4f2d-8241-a9c69633006d",
   "metadata": {
    "tags": []
   },
   "outputs": [],
   "source": [
    "#rast=raster.read('/Volumes/mambo5/modeling/ABoVE_CO2_CH4_Flux_Estimates/methane_2003.tif')"
   ]
  },
  {
   "cell_type": "code",
   "execution_count": null,
   "id": "74bfd4f0-747f-4dd4-b256-acaa53ed6413",
   "metadata": {
    "tags": []
   },
   "outputs": [],
   "source": [
    "rast1=rio.open('/Volumes/mambo5/modeling/ABoVE_CO2_CH4_Flux_Estimates/methane_2003.tif')"
   ]
  },
  {
   "cell_type": "code",
   "execution_count": null,
   "id": "1fbdc095-e96c-4ddb-8eea-b75ebb707d15",
   "metadata": {
    "tags": []
   },
   "outputs": [],
   "source": [
    "rast2=rio.open('/Volumes/mambo5 2/modeling/ABoVE_CO2_CH4_Flux_Estimates/methane_2004.tif')"
   ]
  },
  {
   "cell_type": "code",
   "execution_count": null,
   "id": "3bf8931f-a9c8-437d-a7f1-40bbb2081315",
   "metadata": {
    "tags": []
   },
   "outputs": [],
   "source": [
    "rast3=rio.open('/Volumes/mambo5/modeling/ABoVE_CO2_CH4_Flux_Estimates/methane_2005.tif')"
   ]
  },
  {
   "cell_type": "code",
   "execution_count": null,
   "id": "6c386ede-76c5-443d-81a4-fe8e7805644a",
   "metadata": {
    "tags": []
   },
   "outputs": [],
   "source": [
    "rast4=rio.open('/Volumes/mambo5/modeling/ABoVE_CO2_CH4_Flux_Estimates/methane_2006.tif')"
   ]
  },
  {
   "cell_type": "code",
   "execution_count": null,
   "id": "60d65746-4351-41b5-83de-84c9022dce23",
   "metadata": {
    "tags": []
   },
   "outputs": [],
   "source": [
    "rast5=rio.open('/Volumes/mambo5/modeling/ABoVE_CO2_CH4_Flux_Estimates/methane_2007.tif')"
   ]
  },
  {
   "cell_type": "code",
   "execution_count": null,
   "id": "ed4e27b4-ac2e-44fb-973f-55313e3121c3",
   "metadata": {
    "tags": []
   },
   "outputs": [],
   "source": [
    "rast6=rio.open('/Volumes/mambo5/modeling/ABoVE_CO2_CH4_Flux_Estimates/methane_2008.tif')"
   ]
  },
  {
   "cell_type": "code",
   "execution_count": null,
   "id": "36bbdff7-b75c-45f6-9921-823200716747",
   "metadata": {
    "tags": []
   },
   "outputs": [],
   "source": [
    "rast7=rio.open('/Volumes/mambo5/modeling/ABoVE_CO2_CH4_Flux_Estimates/methane_2009.tif')"
   ]
  },
  {
   "cell_type": "code",
   "execution_count": null,
   "id": "08496b76-7eb9-4817-a0bd-93760b0c730d",
   "metadata": {
    "tags": []
   },
   "outputs": [],
   "source": [
    "rast8=rio.open('/Volumes/mambo5/modeling/ABoVE_CO2_CH4_Flux_Estimates/methane_2010.tif')"
   ]
  },
  {
   "cell_type": "code",
   "execution_count": null,
   "id": "d62bbdd4-5507-44b2-88c1-5adfa7d79a1b",
   "metadata": {
    "tags": []
   },
   "outputs": [],
   "source": [
    "rast9=rio.open('/Volumes/mambo5/modeling/ABoVE_CO2_CH4_Flux_Estimates/methane_2011.tif')"
   ]
  },
  {
   "cell_type": "code",
   "execution_count": null,
   "id": "df8fae7f-1c3b-4204-8b68-bcdd284722d3",
   "metadata": {
    "tags": []
   },
   "outputs": [],
   "source": [
    "rast10=rio.open('/Volumes/mambo5/modeling/ABoVE_CO2_CH4_Flux_Estimates/methane_2012.tif')"
   ]
  },
  {
   "cell_type": "code",
   "execution_count": null,
   "id": "bfd9fe8f-b094-42b8-a34e-8feb61f02d58",
   "metadata": {
    "tags": []
   },
   "outputs": [],
   "source": [
    "rast11=rio.open('/Volumes/mambo5/modeling/ABoVE_CO2_CH4_Flux_Estimates/methane_2013.tif')"
   ]
  },
  {
   "cell_type": "code",
   "execution_count": null,
   "id": "f3e605d7-d9a4-41a1-998e-4e4faffc1b97",
   "metadata": {
    "tags": []
   },
   "outputs": [],
   "source": [
    "rast12=rio.open('/Volumes/mambo5/modeling/ABoVE_CO2_CH4_Flux_Estimates/methane_2014.tif')"
   ]
  },
  {
   "cell_type": "code",
   "execution_count": null,
   "id": "d540ee02-7b51-4fd6-8784-4078fd7615e6",
   "metadata": {
    "tags": []
   },
   "outputs": [],
   "source": [
    "rast13=rio.open('/Volumes/mambo5/modeling/ABoVE_CO2_CH4_Flux_Estimates/methane_2015.tif')"
   ]
  },
  {
   "cell_type": "code",
   "execution_count": null,
   "id": "be6b4095-efd6-490c-99ec-44b1a81672fd",
   "metadata": {
    "tags": []
   },
   "outputs": [],
   "source": [
    "rast1.shape, type(rast1)"
   ]
  },
  {
   "cell_type": "code",
   "execution_count": null,
   "id": "ef07b113-3ad7-4f97-b8dd-3b69838e0972",
   "metadata": {
    "tags": []
   },
   "outputs": [],
   "source": [
    "#rast=rast1"
   ]
  },
  {
   "cell_type": "code",
   "execution_count": null,
   "id": "91ae33fe-2229-4424-ba4e-1e240b4913e2",
   "metadata": {},
   "outputs": [],
   "source": [
    "#365*1699*2905"
   ]
  },
  {
   "cell_type": "code",
   "execution_count": null,
   "id": "7b42ff66-141c-493c-af60-6b079794b02e",
   "metadata": {
    "tags": []
   },
   "outputs": [],
   "source": [
    "rast1.profile"
   ]
  },
  {
   "cell_type": "code",
   "execution_count": null,
   "id": "7c8dffac-709c-4b9e-b934-538185fd3ed7",
   "metadata": {
    "tags": []
   },
   "outputs": [],
   "source": [
    "import rasterio\n",
    "from rasterio.enums import Resampling\n",
    "\n",
    "upscale_factor = 16 #upsampling (lr2hr)\n",
    "#upscale_factor = 1/2 #downsampling (hr2lr)\n",
    "\n",
    "data =  rast1.read(\n",
    "        out_shape=(\n",
    "            rast1.count,\n",
    "            int(rast1.height * upscale_factor),\n",
    "            int(rast1.width * upscale_factor)\n",
    "        ),\n",
    "        resampling=Resampling.bilinear\n",
    "        )"
   ]
  },
  {
   "cell_type": "code",
   "execution_count": null,
   "id": "2f9757d9-36d7-483b-b2d4-425d4668bdc1",
   "metadata": {
    "tags": []
   },
   "outputs": [],
   "source": []
  },
  {
   "cell_type": "code",
   "execution_count": null,
   "id": "f224c1f5-780c-4216-8082-cfeee051b9f2",
   "metadata": {
    "tags": []
   },
   "outputs": [],
   "source": [
    "#12341/301/41\n",
    "with rast1 as ds:\n",
    "    arr = ds.read()  # read all raster values"
   ]
  },
  {
   "cell_type": "code",
   "execution_count": null,
   "id": "56ab3192-48de-4109-9f36-42844365324a",
   "metadata": {
    "tags": []
   },
   "outputs": [],
   "source": [
    "rast1.shape, arr.shape"
   ]
  },
  {
   "cell_type": "code",
   "execution_count": null,
   "id": "d899863e-78aa-47df-a5e0-9395eb41302a",
   "metadata": {
    "tags": []
   },
   "outputs": [],
   "source": [
    "file = os.path.join('/Volumes/mambo5/files/tcfmrast1_arr.pkl')\n",
    "with open(file, 'rb') as f:\n",
    "    arr2=pickle.load(f)"
   ]
  },
  {
   "cell_type": "code",
   "execution_count": null,
   "id": "9395257c-6789-4625-9e64-dfabeb84b8fe",
   "metadata": {
    "tags": []
   },
   "outputs": [],
   "source": [
    "from rasterio.enums import Resampling"
   ]
  },
  {
   "cell_type": "code",
   "execution_count": null,
   "id": "9c6e33f5-cad6-491b-ae9d-2545a6e0854e",
   "metadata": {},
   "outputs": [],
   "source": [
    "rioxarray.open_rasterio(rast1).plot()"
   ]
  },
  {
   "cell_type": "code",
   "execution_count": null,
   "id": "a398e917-5188-49da-82b8-bcf043c280b1",
   "metadata": {
    "tags": []
   },
   "outputs": [],
   "source": [
    "arr2.shape"
   ]
  },
  {
   "cell_type": "code",
   "execution_count": null,
   "id": "4e1a1186-3079-4dda-ae8e-818222392507",
   "metadata": {
    "tags": []
   },
   "outputs": [],
   "source": [
    "#1699, 2905 @1000km => goal is to get to 10m => upscale=2 \n",
    "#3398, 5810 @500m => upscale=2\n"
   ]
  },
  {
   "cell_type": "code",
   "execution_count": null,
   "id": "d0d8cf74-ce9b-482a-b8a9-3e2bff443ce2",
   "metadata": {},
   "outputs": [],
   "source": []
  },
  {
   "cell_type": "code",
   "execution_count": null,
   "id": "1c310183-146c-45b1-aeda-62df29a6da51",
   "metadata": {},
   "outputs": [],
   "source": []
  },
  {
   "cell_type": "code",
   "execution_count": null,
   "id": "3f5dab20-6299-412d-9f10-92d7b81b1400",
   "metadata": {
    "tags": []
   },
   "outputs": [],
   "source": [
    "#CO2\n",
    "import netCDF4 as nc\n",
    "import xarray as xr\n",
    "fn1 = \"/Volumes/mambo5/modeling/ABoVE_CO2_CH4_Flux_Estimates/CO2_AK/2003_CO2_AK.nc\"\n",
    "fn2 = \"/Volumes/mambo5/modeling/ABoVE_CO2_CH4_Flux_Estimates/CO2_AK/2004_CO2_AK.nc\"\n",
    "fn3 = \"/Volumes/mambo5/modeling/ABoVE_CO2_CH4_Flux_Estimates/CO2_AK/2005_CO2_AK.nc\"\n",
    "fn4 = \"/Volumes/mambo5/modeling/ABoVE_CO2_CH4_Flux_Estimates/CO2_AK/2006_CO2_AK.nc\"\n",
    "fn5 = \"/Volumes/mambo5/modeling/ABoVE_CO2_CH4_Flux_Estimates/CO2_AK/2007_CO2_AK.nc\"\n",
    "fn6 = \"/Volumes/mambo5/modeling/ABoVE_CO2_CH4_Flux_Estimates/CO2_AK/2008_CO2_AK.nc\"\n",
    "fn7 = \"/Volumes/mambo5/modeling/ABoVE_CO2_CH4_Flux_Estimates/CO2_AK/2009_CO2_AK.nc\"\n",
    "fn8 = \"/Volumes/mambo5/modeling/ABoVE_CO2_CH4_Flux_Estimates/CO2_AK/2010_CO2_AK.nc\"\n",
    "fn9 = \"/Volumes/mambo5/modeling/ABoVE_CO2_CH4_Flux_Estimates/CO2_AK/2011_CO2_AK.nc\"\n",
    "fn10 = \"/Volumes/mambo5/modeling/ABoVE_CO2_CH4_Flux_Estimates/CO2_AK/2012_CO2_AK.nc\"\n",
    "fn11 = \"/Volumes/mambo5/modeling/ABoVE_CO2_CH4_Flux_Estimates/CO2_AK/2013_CO2_AK.nc\"\n",
    "fn12 = \"/Volumes/mambo5/modeling/ABoVE_CO2_CH4_Flux_Estimates/CO2_AK/2014_CO2_AK.nc\"\n",
    "fn13 = \"/Volumes/mambo5/modeling/ABoVE_CO2_CH4_Flux_Estimates/CO2_AK/2015_CO2_AK.nc\""
   ]
  },
  {
   "cell_type": "code",
   "execution_count": null,
   "id": "527d482e-d797-4104-9350-f98fb86ae4c6",
   "metadata": {
    "tags": []
   },
   "outputs": [],
   "source": [
    "ds1 = xr.open_dataset(fn1)\n",
    "ds2 = xr.open_dataset(fn2)\n",
    "ds3 = xr.open_dataset(fn3)\n",
    "ds4 = xr.open_dataset(fn4)\n",
    "ds5 = xr.open_dataset(fn5)\n",
    "ds6 = xr.open_dataset(fn6)\n",
    "ds7 = xr.open_dataset(fn7)\n",
    "ds8 = xr.open_dataset(fn8)\n",
    "ds9 = xr.open_dataset(fn9)\n",
    "ds10 = xr.open_dataset(fn10)\n",
    "ds11 = xr.open_dataset(fn11)\n",
    "ds12 = xr.open_dataset(fn12)\n",
    "ds13 = xr.open_dataset(fn13)"
   ]
  },
  {
   "cell_type": "code",
   "execution_count": null,
   "id": "e5279646-f268-4320-9653-418485bb611b",
   "metadata": {
    "tags": []
   },
   "outputs": [],
   "source": [
    "data=[ds1, ds2, ds3, ds4, ds5, ds6, ds7, ds8, ds9, ds10, ds11, ds12, ds13]"
   ]
  },
  {
   "cell_type": "code",
   "execution_count": null,
   "id": "016628c6-353d-4aa6-8b98-28b3b873e43d",
   "metadata": {
    "tags": []
   },
   "outputs": [],
   "source": [
    "for i in range(len(data)):\n",
    "    data[i]['x']=data[i]['x']/100000\n",
    "    data[i]['y']=data[i]['y']/100000"
   ]
  },
  {
   "cell_type": "code",
   "execution_count": null,
   "id": "de65bca5-01e3-4d83-9378-71a590641b15",
   "metadata": {
    "tags": []
   },
   "outputs": [],
   "source": [
    "lst=[2003,2004,2005,2006,2007,2008,2009,2010,2011,2012,2013,2014,2015]\n",
    "for i in range(len(data)):\n",
    "    data[i].NEE.rio.to_raster(\"/Volumes/mambo5/modeling/ABoVE_CO2_CH4_Flux_Estimates/CO2_\"+str(lst[i])+\".tif\")"
   ]
  },
  {
   "cell_type": "code",
   "execution_count": null,
   "id": "da2e7acb-6995-48a9-b791-5292de0c647a",
   "metadata": {},
   "outputs": [],
   "source": []
  },
  {
   "cell_type": "code",
   "execution_count": null,
   "id": "8b5031aa-014c-4a29-a3f6-2152f6fb820a",
   "metadata": {},
   "outputs": [],
   "source": []
  },
  {
   "cell_type": "code",
   "execution_count": null,
   "id": "594b1060-24cb-4dd2-8b0b-156b19b6b579",
   "metadata": {
    "tags": []
   },
   "outputs": [],
   "source": [
    "tns=rioxarray.open_rasterio(tns17i)"
   ]
  },
  {
   "cell_type": "code",
   "execution_count": null,
   "id": "e465d64b-bbbe-42b0-b9e1-e591e77e1d83",
   "metadata": {
    "tags": []
   },
   "outputs": [],
   "source": [
    "#plt.imshow(tns[398,3925:4050:,230:350])"
   ]
  },
  {
   "cell_type": "code",
   "execution_count": null,
   "id": "7532b4c3-1773-406a-b775-2b7e0047777b",
   "metadata": {
    "tags": []
   },
   "outputs": [],
   "source": [
    "ds=rioxarray.open_rasterio('/Volumes/mambo5/aviris/tns/ang20170708t205457_rdn_v2p9/ang20170708t205457_rdn_v2p9_img')"
   ]
  },
  {
   "cell_type": "code",
   "execution_count": null,
   "id": "a5ee01b5-df7f-4fb2-bfbe-8b80320fb33a",
   "metadata": {
    "tags": []
   },
   "outputs": [],
   "source": [
    "#pd.DataFrame(ds)"
   ]
  },
  {
   "cell_type": "code",
   "execution_count": null,
   "id": "7b221b65-cddb-433f-bc19-a3b2db33bee7",
   "metadata": {
    "tags": []
   },
   "outputs": [],
   "source": [
    "from osgeo import gdal\n",
    "\n",
    "# in_path = '/Volumes/mambo5/aviris/tns/ang20170708t205457_rdn_v2p9/'\n",
    "# input_filename = 'ang20170708t205457_rdn_v2p9_img'\n",
    "in_path2 = '/Volumes/mambo5/aviris/tns/ang20170708t205457_rdn_v2p9/'\n",
    "input_filename2 = 'ang20170708t205457_rdn_v2p9_img'\n",
    "\n",
    "out_path = '/Users/bradleygay/Downloads/tns17tiles/'\n",
    "output_filename = 'tile_'\n",
    "\n",
    "tile_size_x = 256\n",
    "tile_size_y = 256\n",
    "\n",
    "#ds = gdal.Open(in_path + input_filename)\n",
    "band = ds.ReadAsArray()\n",
    "xsize = band.XSize\n",
    "ysize = band.YSize\n",
    "\n",
    "for i in range(0, xsize, tile_size_x):\n",
    "    for j in range(0, ysize, tile_size_y):\n",
    "        com_string = \"gdal_translate -of GTIFF -srcwin \" + str(i)+ \", \" + str(j) + \", \" + str(tile_size_x) + \", \" + str(tile_size_y) + \" \" + str(in_path) + str(input_filename) + \" \" + str(out_path) + str(output_filename) + str(i) + \"_\" + str(j) + \".tif\"\n",
    "        os.system(com_string)"
   ]
  },
  {
   "cell_type": "code",
   "execution_count": null,
   "id": "e3093332-5b36-4140-af38-deb595a020d3",
   "metadata": {},
   "outputs": [],
   "source": [
    "ds=gdal.Open('/Users/bradleygay/Downloads/tns17tiles/tile_0_1792.tif')\n",
    "band=ds.GetRasterBand(1)"
   ]
  },
  {
   "cell_type": "markdown",
   "id": "6ce5d5d9-848a-4e73-be78-71f2109d6a11",
   "metadata": {
    "jp-MarkdownHeadingCollapsed": true,
    "tags": []
   },
   "source": [
    "# AVIRIS-NG"
   ]
  },
  {
   "cell_type": "code",
   "execution_count": null,
   "id": "8efb4710-75d4-4ee9-ad2f-607880c2ca43",
   "metadata": {},
   "outputs": [],
   "source": [
    "# #W/PCA\n",
    "# file1 = os.path.join('/Volumes/mambo5/aviris/tns_aviris_df.pkl')\n",
    "# with open(file1, 'rb') as f1:\n",
    "#     tnsAvp1 = pickle.load(f1)\n",
    "\n",
    "# tnsAvp1=pd.DataFrame(tnsAvp1.loc[:,'070817tns_ch4'])"
   ]
  },
  {
   "cell_type": "code",
   "execution_count": null,
   "id": "ef386ffe-8efb-4dc1-9ccf-0e2635be8039",
   "metadata": {},
   "outputs": [],
   "source": [
    "# #NOPCA\n",
    "# file='/Users/bradleygay/Downloads/img_vals_tns_07082017.pkl'\n",
    "# with open(file,'rb') as f:\n",
    "#     img=pickle.load(f)\n",
    "    \n",
    "# img.reshape(5622623,248)\n",
    "# xs=StandardScaler();\n",
    "# imgresc=xs.fit_transform(img)\n",
    "# imgresc=imgresc.reshape(5622623,1,248)\n",
    "\n",
    "# #A lot of rough edges, very few common multiples to reshape and enrich file(decomposed a bit too far beyond resurrection?))"
   ]
  },
  {
   "cell_type": "code",
   "execution_count": null,
   "id": "fc776ea2-a27c-4519-805c-c7960a3fcf8d",
   "metadata": {},
   "outputs": [],
   "source": [
    "file1 = os.path.join('/Volumes/mambo5/aviris/tns/ang20170708t205457_rdn_v2p9/ang20170708t205457_rdn_v2p9_img')\n",
    "file2 = os.path.join('/Volumes/mambo5/aviris/tns/ang20170709t010449_rdn_v2p9/ang20170709t010449_rdn_v2p9_img')\n",
    "file3 = os.path.join('/Volumes/mambo5/aviris/tns/ang20170713t202702_rdn_v2p9/ang20170713t202702_rdn_v2p9_img')\n",
    "file4 = os.path.join('/Volumes/mambo5/aviris/tns/ang20190713t030616_rdn_v2v2/ang20190713t030616_rdn_v2v2_img')\n",
    "\n",
    "file5 = os.path.join('/Volumes/mambo5/aviris/int/ang20170706t183519_rdn_v2p9/ang20170706t183519_rdn_v2p9_img')\n",
    "file6 = os.path.join('/Volumes/mambo5/aviris/int/ang20180722t182956_rdn_v2r2/ang20180722t182956_rdn_v2r2_img')\n",
    "file7 = os.path.join('/Volumes/mambo5/aviris/int/ang20190705t203320_rdn_v2v2/ang20190705t203320_rdn_v2v2_img')\n",
    "\n",
    "file8 = os.path.join('/Volumes/mambo5/aviris/sew/ang20180814t192458_rdn_v2r2/ang20180814t192458_rdn_v2r2_img')\n",
    "file9 = os.path.join('/Volumes/mambo5/aviris/sew/ang20180814t193310_rdn_v2r2/ang20180814t193310_rdn_v2r2_img')\n",
    "file10 = os.path.join('/Volumes/mambo5/aviris/sew/ang20180814t195236_rdn_v2r2/ang20180814t195236_rdn_v2r2_img')\n",
    "file11 = os.path.join('/Volumes/mambo5/aviris/sew/ang20180815t015701_rdn_v2r2/ang20180815t015701_rdn_v2r2_img')\n",
    "file12 = os.path.join('/Volumes/mambo5/aviris/sew/ang20180815t210120_rdn_v2r2/ang20180815t210120_rdn_v2r2_img')\n",
    "file13 = os.path.join('/Volumes/mambo5/aviris/sew/ang20190707t195230_rdn_v2v2/ang20190707t195230_rdn_v2v2_img')\n",
    "file14 = os.path.join('/Volumes/mambo5/aviris/sew/ang20190707t200027_rdn_v2v2/ang20190707t200027_rdn_v2v2_img')\n",
    "file15 = os.path.join('/Volumes/mambo5/aviris/sew/ang20190707t201743_rdn_v2v2/ang20190707t201743_rdn_v2v2_img')\n",
    "file16 = os.path.join('/Volumes/mambo5/aviris/sew/ang20190709t193940_rdn_v2v2/ang20190709t193940_rdn_v2v2_img')\n",
    "file17 = os.path.join('/Volumes/mambo5/aviris/sew/ang20190709t195734_rdn_v2v2/ang20190709t195734_rdn_v2v2_img')\n",
    "file18 = os.path.join('/Volumes/mambo5/aviris/sew/ang20190709t201645_rdn_v2v2/ang20190709t201645_rdn_v2v2_img')\n",
    "file19 = os.path.join('/Volumes/mambo5/aviris/sew/ang20190710t003915_rdn_v2v2/ang20190710t003915_rdn_v2v2_img')\n",
    "file20 = os.path.join('/Volumes/mambo5/aviris/sew/ang20190710t004802_rdn_v2v2/ang20190710t004802_rdn_v2v2_img')\n",
    "file21 = os.path.join('/Volumes/mambo5/aviris/sew/ang20190710t010938_rdn_v2v2/ang20190710t010938_rdn_v2v2_img')\n",
    "\n",
    "file22 = os.path.join('/Volumes/mambo5/aviris/ykd/ang20170707t203340_rdn_v2p9/ang20170707t203340_rdn_v2p9_img')\n",
    "file23 = os.path.join('/Volumes/mambo5/aviris/ykd/ang20170720t225802_rdn_v2p9/ang20170720t225802_rdn_v2p9_img')\n",
    "file24 = os.path.join('/Volumes/mambo5/aviris/ykd/ang20180815t222106_rdn_v2r2/ang20180815t222106_rdn_v2r2_img')\n",
    "file25 = os.path.join('/Volumes/mambo5/aviris/ykd/ang20180815t232013_rdn_v2r2/ang20180815t232013_rdn_v2r2_img')\n",
    "file26 = os.path.join('/Volumes/mambo5/aviris/ykd/ang20180818t194758_rdn_v2r2/ang20180818t194758_rdn_v2r2_img')"
   ]
  },
  {
   "cell_type": "code",
   "execution_count": null,
   "id": "fe6d6477-9b35-484c-9e30-600a30db8844",
   "metadata": {
    "tags": []
   },
   "outputs": [],
   "source": [
    "# # Define the wavelengths and bad bands list\n",
    "# wavelengths = [377.071821 , 382.081821 , 387.091821 , 392.10182100000003 , 397.10182100000003 , 402.11182099999996 , 407.121821 , 412.131821 , 417.14182100000005 , 422.151821 , 427.161821 , 432.171821 , 437.171821 , 442.18182099999996 , 447.191821 , 452.201821 , 457.21182100000004 , 462.221821 , 467.23182099999997 , 472.23182099999997 , 477.241821 , 482.251821 , 487.261821 , 492.271821 , 497.28182100000004 , 502.291821 , 507.30182099999996 , 512.301821 , 517.3118209999999 , 522.321821 , 527.331821 , 532.3418210000001 , 537.351821 , 542.361821 , 547.361821 , 552.3718210000001 , 557.381821 , 562.3918209999999 , 567.401821 , 572.411821 , 577.4218209999999 , 582.431821 , 587.431821 , 592.441821 , 597.451821 , 602.461821 , 607.471821 , 612.4818210000001 , 617.491821 , 622.491821 , 627.501821 , 632.511821 , 637.521821 , 642.5318209999999 , 647.541821 , 652.551821 , 657.561821 , 662.561821 , 667.571821 , 672.581821 , 677.591821 , 682.601821 , 687.611821 , 692.6218210000001 , 697.6218210000001 , 702.631821 , 707.6418209999999 , 712.651821 , 717.661821 , 722.671821 , 727.681821 , 732.691821 , 737.691821 , 742.701821 , 747.711821 , 752.721821 , 757.7318210000001 , 762.741821 , 767.751821 , 772.751821 , 777.761821 , 782.7718209999999 , 787.781821 , 792.791821 , 797.801821 , 802.811821 , 807.821821 , 812.821821 , 817.831821 , 822.841821 , 827.851821 , 832.861821 , 837.8718210000001 , 842.881821 , 847.881821 , 852.891821 , 857.901821 , 862.9118209999999 , 867.921821 , 872.931821 , 877.941821 , 882.951821 , 887.951821 , 892.961821 , 897.971821 , 902.981821 , 907.991821 , 913.0018210000001 , 918.011821 , 923.0218209999999 , 928.0218209999999 , 933.031821 , 938.041821 , 943.0518209999999 , 948.061821 , 953.071821 , 958.081821 , 963.081821 , 968.091821 , 973.101821 , 978.1118210000001 , 983.121821 , 988.131821 , 993.141821 , 998.151821 , 1003.1518210000002 , 1008.161821 , 1013.171821 , 1018.181821 , 1023.1918209999999 , 1028.2018209999999 , 1033.211821 , 1038.2118209999999 , 1043.2218209999999 , 1048.2318209999999 , 1053.241821 , 1058.251821 , 1063.261821 , 1068.271821 , 1073.2818209999998 , 1078.281821 , 1083.291821 , 1088.301821 , 1093.311821 , 1098.321821 , 1103.331821 , 1108.341821 , 1113.341821 , 1118.351821 , 1123.361821 , 1128.371821 , 1133.381821 , 1138.391821 , 1143.4018210000002 , 1148.4118210000001 , 1153.411821 , 1158.421821 , 1163.4318210000001 , 1168.4418210000001 , 1173.451821 , 1178.4618209999999 , 1183.4718209999999 , 1188.471821 , 1193.481821 , 1198.4918209999998 , 1203.5018209999998 , 1208.511821 , 1213.521821 , 1218.531821 , 1223.541821 , 1228.541821 , 1233.551821 , 1238.561821 , 1243.571821 , 1248.581821 , 1253.5918210000002 , 1258.601821 , 1263.601821 , 1268.611821 , 1273.6218210000002 , 1278.631821 , 1283.641821 , 1288.651821 , 1293.661821 , 1298.671821 , 1303.671821 , 1308.681821 , 1313.691821 , 1318.701821 , 1323.711821 , 1328.721821 , 1333.731821 , 1338.731821 , 1343.741821 , 1348.751821 , 1353.761821 , 1358.771821 , 1363.7818209999998 , 1368.791821 , 1373.801821 , 1378.801821 , 1383.811821 , 1388.821821 , 1393.831821 , 1398.841821 , 1403.851821 , 1408.861821 , 1413.861821 , 1418.871821 , 1423.881821 , 1428.891821 , 1433.9018210000002 , 1438.9118210000001 , 1443.921821 , 1448.931821 , 1453.9318210000001 , 1458.9418210000001 , 1463.9518209999999 , 1468.9618209999999 , 1473.9718209999999 , 1478.981821 , 1483.991821 , 1488.9918209999998 , 1494.0018209999998 , 1499.011821 , 1504.021821 , 1509.031821 , 1514.041821 , 1519.051821 , 1524.061821 , 1529.061821 , 1534.071821 , 1539.081821 , 1544.091821 , 1549.101821 , 1554.111821 , 1559.121821 , 1564.1218210000002 , 1569.131821 , 1574.141821 , 1579.151821 , 1584.161821 , 1589.1718210000001 , 1594.1818210000001 , 1599.1918210000001 , 1604.191821 , 1609.201821 , 1614.211821 , 1619.221821 , 1624.2318209999999 , 1629.2418209999998 , 1634.251821 , 1639.251821 , 1644.261821 , 1649.2718209999998 , 1654.281821 , 1659.291821 , 1664.301821 , 1669.311821 , 1674.321821 , 1679.321821 , 1684.331821 , 1689.341821 , 1694.351821 , 1699.3618210000002 , 1704.371821 , 1709.381821 , 1714.381821 , 1719.3918210000002 , 1724.4018210000002 , 1729.411821 , 1734.421821 , 1739.431821 , 1744.441821 , 1749.451821 , 1754.4518209999999 , 1759.4618209999999 , 1764.471821 , 1769.481821 , 1774.491821 , 1779.501821 , 1784.511821 , 1789.511821 , 1794.521821 , 1799.531821 , 1804.541821 , 1809.5518209999998 , 1814.561821 , 1819.571821 , 1824.581821 , 1829.5818210000002 , 1834.591821 , 1839.601821 , 1844.611821 , 1849.621821 , 1854.631821 , 1859.6418210000002 , 1864.6518210000002 , 1869.651821 , 1874.661821 , 1879.6718210000001 , 1884.6818210000001 , 1889.691821 , 1894.7018209999999 , 1899.7118209999999 , 1904.711821 , 1909.721821 , 1914.7318209999999 , 1919.7418209999998 , 1924.751821 , 1929.761821 , 1934.771821 , 1939.781821 , 1944.781821 , 1949.791821 , 1954.801821 , 1959.811821 , 1964.821821 , 1969.831821 , 1974.841821 , 1979.841821 , 1984.851821 , 1989.8618210000002 , 1994.871821 , 1999.881821 , 2004.8918210000002 , 2009.9018210000002 , 2014.9118210000001 , 2019.911821 , 2024.921821 , 2029.931821 , 2034.941821 , 2039.9518209999999 , 2044.9618209999999 , 2049.971821 , 2054.971821 , 2059.981821 , 2064.991821 , 2070.001821 , 2075.011821 , 2080.021821 , 2085.031821 , 2090.041821 , 2095.0418210000003 , 2100.051821 , 2105.0618210000002 , 2110.071821 , 2115.0818209999998 , 2120.091821 , 2125.1018209999997 , 2130.1018209999997 , 2135.111821 , 2140.121821 , 2145.131821 , 2150.141821 , 2155.151821 , 2160.161821 , 2165.171821 , 2170.171821 , 2175.1818209999997 , 2180.1918210000003 , 2185.201821 , 2190.2118210000003 , 2195.221821 , 2200.231821 , 2205.231821 , 2210.241821 , 2215.251821 , 2220.2618209999996 , 2225.2718210000003 , 2230.281821 , 2235.2918210000003 , 2240.301821 , 2245.301821 , 2250.311821 , 2255.321821 , 2260.3318209999998 , 2265.341821 , 2270.351821 , 2275.361821 , 2280.361821 , 2285.371821 , 2290.381821 , 2295.391821 , 2300.401821 , 2305.4118209999997 , 2310.421821 , 2315.4318209999997 , 2320.431821 , 2325.441821 , 2330.451821 , 2335.461821 , 2340.471821 , 2345.481821 , 2350.491821 , 2355.491821 , 2360.5018210000003 , 2365.511821 , 2370.5218210000003 , 2375.531821 , 2380.541821 , 2385.551821 , 2390.561821 , 2395.561821 , 2400.571821 , 2405.581821 , 2410.591821 , 2415.601821 , 2420.611821 , 2425.621821 , 2430.6218209999997 , 2435.631821 , 2440.6418209999997 , 2445.651821 , 2450.661821 , 2455.6718210000004 , 2460.681821 , 2465.691821 , 2470.691821 , 2475.701821 , 2480.711821 , 2485.7218209999996 , 2490.731821 , 2495.741821 , 2500.7518210000003]\n",
    "# bblist = np.ones((425,))\n",
    "# bblist[0:14] = 0\n",
    "# bblist[189:225] = 0\n",
    "# bblist[281:336] = 0\n",
    "# bblist[405:] = 0\n",
    "\n",
    "# #From ENVI\n",
    "# bblist[98:128] = 0 #Artifacts (1260-1560nm)\n",
    "# bblist[148:170] = 0 #Artifacts (1760-1960nm)"
   ]
  },
  {
   "cell_type": "code",
   "execution_count": null,
   "id": "c9bb2b7d-ef25-4f39-b52f-811dc44e0258",
   "metadata": {},
   "outputs": [],
   "source": [
    "bblist_arr=list()\n",
    "for i in range(0,425):\n",
    "    bblist_arr.append(i)"
   ]
  },
  {
   "cell_type": "code",
   "execution_count": null,
   "id": "5cbb91fd-ee8c-440c-b183-4a8fbd30a2b4",
   "metadata": {
    "tags": []
   },
   "outputs": [],
   "source": [
    "bblist_arr2=list()\n",
    "bblist_arr2.append(bblist_arr[15:98])\n",
    "#bblist_arr2=bblist_arr2.append(bblist_arr[98:128])"
   ]
  },
  {
   "cell_type": "code",
   "execution_count": null,
   "id": "0198346e-8476-4183-926d-d7f214acd31b",
   "metadata": {
    "tags": []
   },
   "outputs": [],
   "source": [
    "bblist_arr2=np.array(bblist_arr2).flatten()"
   ]
  },
  {
   "cell_type": "code",
   "execution_count": null,
   "id": "f989596d-adb4-4147-afe1-2118a693b60d",
   "metadata": {
    "tags": []
   },
   "outputs": [],
   "source": [
    "bblist_arr2=np.append(bblist_arr2,bblist_arr[128:148])"
   ]
  },
  {
   "cell_type": "code",
   "execution_count": null,
   "id": "4944bffb-57f2-4c6f-bae5-223d65b7d344",
   "metadata": {
    "tags": []
   },
   "outputs": [],
   "source": [
    "bblist_arr2=np.append(bblist_arr2,bblist_arr[170:189])"
   ]
  },
  {
   "cell_type": "code",
   "execution_count": null,
   "id": "440e887b-b5ca-4686-b2aa-8a6ea83f26d8",
   "metadata": {
    "tags": []
   },
   "outputs": [],
   "source": [
    "bblist_arr2=np.append(bblist_arr2,bblist_arr[225:281])"
   ]
  },
  {
   "cell_type": "code",
   "execution_count": null,
   "id": "f9ef1af1-f3f7-4300-9bc6-6b3087e47e85",
   "metadata": {
    "tags": []
   },
   "outputs": [],
   "source": [
    "bblist_arr2=np.append(bblist_arr2,bblist_arr[336:405])"
   ]
  },
  {
   "cell_type": "code",
   "execution_count": null,
   "id": "fb74bb66-294e-49ba-b7e0-96f01be6502d",
   "metadata": {
    "tags": []
   },
   "outputs": [],
   "source": [
    "goodbandlist=bblist_arr2"
   ]
  },
  {
   "cell_type": "code",
   "execution_count": null,
   "id": "b360de09-85bc-4a34-81df-2140aeccb732",
   "metadata": {
    "tags": []
   },
   "outputs": [],
   "source": [
    "goodbandlist"
   ]
  },
  {
   "cell_type": "code",
   "execution_count": null,
   "id": "c947c351-f65e-4944-9983-629311eec809",
   "metadata": {
    "tags": []
   },
   "outputs": [],
   "source": [
    "#tnsAv1[goodbandlist, :, :]"
   ]
  },
  {
   "cell_type": "code",
   "execution_count": null,
   "id": "6d8f8867-960e-47cc-aa06-41b08e245f26",
   "metadata": {
    "tags": []
   },
   "outputs": [],
   "source": [
    "tnsAv1_arr=rioxarray.open_rasterio(file1)#[goodbandlist, :, :]\n",
    "tnsAv2_arr=rioxarray.open_rasterio(file2)#[goodbandlist, :, :]\n",
    "tnsAv3_arr=rioxarray.open_rasterio(file3)#[goodbandlist, :, :]\n",
    "tnsAv4_arr=rioxarray.open_rasterio(file4)#[goodbandlist, :, :]"
   ]
  },
  {
   "cell_type": "code",
   "execution_count": null,
   "id": "2db63823-cfe8-4c14-9513-eaaf7f0b5eed",
   "metadata": {
    "tags": []
   },
   "outputs": [],
   "source": [
    "intAv1_arr=rioxarray.open_rasterio(file5)#[goodbandlist, :, :]\n",
    "intAv2_arr=rioxarray.open_rasterio(file6)#[goodbandlist, :, :]\n",
    "intAv3_arr=rioxarray.open_rasterio(file7)#[goodbandlist, :, :]"
   ]
  },
  {
   "cell_type": "code",
   "execution_count": null,
   "id": "248a76d0-f8e8-4290-bd2d-3b3c6a2db55f",
   "metadata": {
    "tags": []
   },
   "outputs": [],
   "source": [
    "sewAv1_arr=rioxarray.open_rasterio(file8)#[goodbandlist, :, :]\n",
    "sewAv2_arr=rioxarray.open_rasterio(file9)#[goodbandlist, :, :]\n",
    "sewAv3_arr=rioxarray.open_rasterio(file10)#[goodbandlist, :, :]\n",
    "sewAv4_arr=rioxarray.open_rasterio(file11)#[goodbandlist, :, :]\n",
    "sewAv5_arr=rioxarray.open_rasterio(file12)#[goodbandlist, :, :]\n",
    "sewAv6_arr=rioxarray.open_rasterio(file13)#[goodbandlist, :, :]\n",
    "sewAv7_arr=rioxarray.open_rasterio(file14)#[goodbandlist, :, :]\n",
    "sewAv8_arr=rioxarray.open_rasterio(file15)#[goodbandlist, :, :]\n",
    "sewAv9_arr=rioxarray.open_rasterio(file16)#[goodbandlist, :, :]\n",
    "sewAv10_arr=rioxarray.open_rasterio(file17)#[goodbandlist, :, :]\n",
    "sewAv11_arr=rioxarray.open_rasterio(file18)#[goodbandlist, :, :]\n",
    "sewAv12_arr=rioxarray.open_rasterio(file19)#[goodbandlist, :, :]\n",
    "sewAv13_arr=rioxarray.open_rasterio(file20)#[goodbandlist, :, :]\n",
    "sewAv14_arr=rioxarray.open_rasterio(file21)#[goodbandlist, :, :]"
   ]
  },
  {
   "cell_type": "code",
   "execution_count": null,
   "id": "efe5fbb4-eb11-43f9-b25a-0fc33655fd65",
   "metadata": {
    "tags": []
   },
   "outputs": [],
   "source": [
    "ykdAv1_arr=rioxarray.open_rasterio(file22)#[goodbandlist, :, :]\n",
    "ykdAv2_arr=rioxarray.open_rasterio(file23)#[goodbandlist, :, :]\n",
    "ykdAv3_arr=rioxarray.open_rasterio(file24)#[goodbandlist, :, :]\n",
    "ykdAv4_arr=rioxarray.open_rasterio(file25)#[goodbandlist, :, :]\n",
    "ykdAv5_arr=rioxarray.open_rasterio(file26)#[goodbandlist, :, :]"
   ]
  },
  {
   "cell_type": "code",
   "execution_count": null,
   "id": "25cfdb6d-c773-4f9d-b58b-f5222aa7e2b4",
   "metadata": {
    "tags": []
   },
   "outputs": [],
   "source": [
    "#tnsAv1.plot()\n",
    "tnsAv1_arr.shape, tnsAv2_arr.shape, tnsAv3_arr.shape, tnsAv4_arr.shape"
   ]
  },
  {
   "cell_type": "code",
   "execution_count": null,
   "id": "3dd5851a-774f-466c-95d3-16da5ef72b7a",
   "metadata": {
    "tags": []
   },
   "outputs": [],
   "source": [
    "intAv1_arr.shape, intAv2_arr.shape, intAv3_arr.shape"
   ]
  },
  {
   "cell_type": "code",
   "execution_count": null,
   "id": "1c67245e-694e-4b79-9ccc-52f170647a62",
   "metadata": {
    "tags": []
   },
   "outputs": [],
   "source": [
    "sewAv1_arr.shape, sewAv2_arr.shape, sewAv3_arr.shape, sewAv4_arr.shape, sewAv5_arr.shape, sewAv6_arr.shape, sewAv7_arr.shape, \\\n",
    "sewAv8_arr.shape, sewAv9_arr.shape, sewAv10_arr.shape, sewAv11_arr.shape, sewAv12_arr.shape, sewAv13_arr.shape, sewAv14_arr.shape"
   ]
  },
  {
   "cell_type": "code",
   "execution_count": null,
   "id": "0f0572ac-7496-482b-84c4-f4862738d1b5",
   "metadata": {
    "tags": []
   },
   "outputs": [],
   "source": [
    "ykdAv1_arr.shape, ykdAv2_arr.shape, ykdAv3_arr.shape, ykdAv4_arr.shape, ykdAv5_arr.shape"
   ]
  },
  {
   "cell_type": "code",
   "execution_count": null,
   "id": "0d681d7e-0ca5-4825-9a09-ccf9ba94ded9",
   "metadata": {
    "tags": []
   },
   "outputs": [],
   "source": [
    "tnsAv1=rio.open(file1)#[goodbandlist, :, :]\n",
    "tnsAv2=rio.open(file2)#[goodbandlist, :, :]\n",
    "tnsAv3=rio.open(file3)#[goodbandlist, :, :]\n",
    "tnsAv4=rio.open(file4)#[goodbandlist, :, :]\n",
    "intAv1=rio.open(file5)#[goodbandlist, :, :]\n",
    "intAv2=rio.open(file6)#[goodbandlist, :, :]\n",
    "intAv3=rio.open(file7)#[goodbandlist, :, :]\n",
    "sewAv1=rio.open(file8)#[goodbandlist, :, :]\n",
    "sewAv2=rio.open(file9)#[goodbandlist, :, :]\n",
    "sewAv3=rio.open(file10)#[goodbandlist, :, :]\n",
    "sewAv4=rio.open(file11)#[goodbandlist, :, :]\n",
    "sewAv5=rio.open(file12)#[goodbandlist, :, :]\n",
    "sewAv6=rio.open(file13)#[goodbandlist, :, :]\n",
    "sewAv7=rio.open(file14)#[goodbandlist, :, :]\n",
    "sewAv8=rio.open(file15)#[goodbandlist, :, :]\n",
    "sewAv9=rio.open(file16)#[goodbandlist, :, :]\n",
    "sewAv10=rio.open(file17)#[goodbandlist, :, :]\n",
    "sewAv11=rio.open(file18)#[goodbandlist, :, :]\n",
    "sewAv12=rio.open(file19)#[goodbandlist, :, :]\n",
    "sewAv13=rio.open(file20)#[goodbandlist, :, :]\n",
    "sewAv14=rio.open(file21)#[goodbandlist, :, :]\n",
    "ykdAv1=rio.open(file22)#[goodbandlist, :, :]\n",
    "ykdAv2=rio.open(file23)#[goodbandlist, :, :]\n",
    "ykdAv3=rio.open(file24)#[goodbandlist, :, :]\n",
    "ykdAv4=rio.open(file25)#[goodbandlist, :, :]\n",
    "ykdAv5=rio.open(file26)#[goodbandlist, :, :]"
   ]
  },
  {
   "cell_type": "code",
   "execution_count": null,
   "id": "7fe7f1f7-5aaa-4995-b230-7cfb1ce0bab6",
   "metadata": {
    "tags": []
   },
   "outputs": [],
   "source": [
    "aviris_raster_list=[tnsAv1, tnsAv2, tnsAv3, tnsAv4, intAv1, intAv2, intAv3, sewAv1, sewAv2, sewAv3, sewAv4, sewAv5, sewAv6, sewAv7, sewAv8, sewAv9, sewAv10,\n",
    "sewAv11, sewAv12, sewAv13, sewAv14, ykdAv1, ykdAv2, ykdAv3, ykdAv4, ykdAv5]"
   ]
  },
  {
   "cell_type": "code",
   "execution_count": null,
   "id": "ffb3a956-87b0-4a86-9ba9-953cd866c44b",
   "metadata": {
    "tags": []
   },
   "outputs": [],
   "source": [
    "aviris_arr_list=[tnsAv1_arr, tnsAv2_arr, tnsAv3_arr, tnsAv4_arr, intAv1_arr, intAv2_arr, intAv3_arr, sewAv1_arr, sewAv2_arr, sewAv3_arr, sewAv4_arr, \n",
    "                 sewAv5_arr, sewAv6_arr, sewAv7_arr, sewAv8_arr, sewAv9_arr, sewAv10_arr, sewAv11_arr, sewAv12_arr, sewAv13_arr, sewAv14_arr, ykdAv1_arr, \n",
    "                 ykdAv2_arr, ykdAv3_arr, ykdAv4_arr, ykdAv5_arr]"
   ]
  },
  {
   "cell_type": "code",
   "execution_count": null,
   "id": "a3a362fd-e8e3-4dd5-a454-7595a1875f77",
   "metadata": {},
   "outputs": [],
   "source": [
    "#aviris_raster_list[0].profile\n",
    "#{'driver': 'ENVI', 'dtype': 'float32', 'nodata': -9999.0, 'width': 744, 'height': 8843, 'count': 425, 'crs': CRS.from_epsg(32606), \\\n",
    "#'transform': Affine(2.5274765848576344, -3.4787730758122737, 419053.583995, -3.4787730758122737, -2.5274765848576344, 7623779.11088), \\\n",
    "#'blockysize': 1, 'tiled': False, 'interleave': 'line'}\n",
    "aviris_raster_list[0].res"
   ]
  },
  {
   "cell_type": "code",
   "execution_count": null,
   "id": "9d7bced7-9e10-42aa-aa24-193c5edda7c9",
   "metadata": {
    "tags": []
   },
   "outputs": [],
   "source": [
    "import rasterio\n",
    "from rasterio.enums import Resampling\n",
    "\n",
    "def scale(raster, scale_factor):\n",
    "    #scale_factor = 2 #upsampling (lr2hr)\n",
    "    #scale_factor = 1/2 #downsampling (hr2lr)\n",
    "    data =  raster.read(\n",
    "            out_shape=(\n",
    "                raster.count,\n",
    "                int(raster.height * scale_factor),\n",
    "                int(raster.width * scale_factor)\n",
    "            ),\n",
    "            resampling=Resampling.bilinear\n",
    "            )\n",
    "    return(data)"
   ]
  },
  {
   "cell_type": "code",
   "execution_count": null,
   "id": "ba584a8b-3f56-4a34-90f9-130d49bc52b5",
   "metadata": {
    "tags": []
   },
   "outputs": [],
   "source": [
    "scale(tnsAv1,scale_factor=2)"
   ]
  },
  {
   "cell_type": "code",
   "execution_count": null,
   "id": "c6cd58b6-ca76-490e-9e11-ef3418f26273",
   "metadata": {},
   "outputs": [],
   "source": [
    "raster_list_scaled=[]\n",
    "for i in range(len(raster_list)):\n",
    "    raster_list_scaled.append(scale(raster_list[i], scale_factor=2))"
   ]
  },
  {
   "cell_type": "code",
   "execution_count": null,
   "id": "35367808-504f-44e5-86e4-2f62e9403444",
   "metadata": {},
   "outputs": [],
   "source": []
  },
  {
   "cell_type": "code",
   "execution_count": null,
   "id": "a596f12d-196d-495d-b710-aca3219f73e6",
   "metadata": {},
   "outputs": [],
   "source": []
  },
  {
   "cell_type": "code",
   "execution_count": null,
   "id": "36f27b3d-cad8-4704-9263-d8c9b22808f4",
   "metadata": {},
   "outputs": [],
   "source": [
    "def resample_raster(raster, scale=2):\n",
    "    t = raster.transform\n",
    "\n",
    "    # rescale the metadata\n",
    "    transform = Affine(t.a / scale, t.b, t.c, t.d, t.e / scale, t.f)\n",
    "    height = raster.height * scale\n",
    "    width = raster.width * scale\n",
    "\n",
    "    profile = src.profile\n",
    "    profile.update(transform=transform, driver='GTiff', height=height, width=width, crs=src.crs)\n",
    "\n",
    "    data = raster.read( # Note changed order of indexes, arrays are band, row, col order not row, col, band\n",
    "            out_shape=(int(raster.count), int(height), int(width)),\n",
    "            resampling=Resampling.cubic)\n",
    "\n",
    "    with rasterio.open('image-15cm.tif','w', **profile) as dst:\n",
    "        dst.write(data)\n",
    "        yield data\n",
    "\n",
    "    with rasterio.open(dat) as src:\n",
    "        with resample_raster(src, 3.5) as resampled:\n",
    "            print('Orig dims: {}, New dims: {}'.format(src.shape, resampled.shape))\n",
    "            print(repr(resampled))"
   ]
  },
  {
   "cell_type": "code",
   "execution_count": null,
   "id": "a7632b89-0c27-49e9-ad6c-78f5edb67226",
   "metadata": {
    "tags": []
   },
   "outputs": [],
   "source": [
    "resample_raster(tnsAv1,scale=2)"
   ]
  },
  {
   "cell_type": "code",
   "execution_count": null,
   "id": "9708acdf-3d2f-4fc4-8395-c2848aa81273",
   "metadata": {},
   "outputs": [],
   "source": []
  },
  {
   "cell_type": "code",
   "execution_count": null,
   "id": "d7581509-76d8-4bcc-9388-49ce798f7bba",
   "metadata": {
    "tags": []
   },
   "outputs": [],
   "source": [
    "inputs = keras.Input(shape=(tnsAv1.shape[1], tnsAv1.shape[2], 1, tnsAv1.shape[0]))\n",
    "model=keras.Sequential()\n",
    "model.add(layers.Conv3DTranspose(filters=64,kernel_size=(8,8,8), strides=(8,8,8), padding='same', input_shape=(8843,744,1,425)))"
   ]
  },
  {
   "cell_type": "code",
   "execution_count": null,
   "id": "f2572635-f377-4f56-97d4-2836ba5cbd76",
   "metadata": {
    "tags": []
   },
   "outputs": [],
   "source": [
    "model.summary()"
   ]
  },
  {
   "cell_type": "code",
   "execution_count": null,
   "id": "e9f175ef-08a1-4cf2-ab03-650eb1bd1896",
   "metadata": {
    "tags": []
   },
   "outputs": [],
   "source": [
    "initial_learning_rate=0.1;\n",
    "lr_schedule=tf.keras.optimizers.schedules.ExponentialDecay(initial_learning_rate, decay_steps=100000, decay_rate=0.96, staircase=True)"
   ]
  },
  {
   "cell_type": "code",
   "execution_count": null,
   "id": "78a58764-7854-4716-8b11-71747674e812",
   "metadata": {
    "tags": []
   },
   "outputs": [],
   "source": [
    "model.compile(optimizer=tf.keras.optimizers.legacy.Adam(learning_rate=initial_learning_rate, epsilon=1), loss='mean_squared_error', \n",
    "              metrics=[tf.keras.losses.MeanSquaredError()])"
   ]
  },
  {
   "cell_type": "code",
   "execution_count": null,
   "id": "6065b642-027e-44f3-982d-d52b3b121921",
   "metadata": {
    "tags": []
   },
   "outputs": [],
   "source": [
    "print(model.summary())"
   ]
  },
  {
   "cell_type": "code",
   "execution_count": null,
   "id": "7168dd06-dd48-42d0-a47e-9ae2d8db0a15",
   "metadata": {
    "tags": []
   },
   "outputs": [],
   "source": [
    "from tensorflow.keras.utils import plot_model\n",
    "plot_model(model, to_file='model.png', show_shapes=True, show_dtype=False, show_layer_names=True, dpi=1000)"
   ]
  },
  {
   "cell_type": "code",
   "execution_count": null,
   "id": "6b575fe0-ce73-4cc9-a23f-89c52ed54978",
   "metadata": {},
   "outputs": [],
   "source": [
    "stop=EarlyStopping(monitor='val_loss', patience=5, restore_best_weights=True, mode='min', verbose=1)\n",
    "best=ModelCheckpoint(filepath='best_model_weights.h5', save_best_only=True, save_weights_only=False, monitor='val_loss', mode='min', verbose=1)"
   ]
  },
  {
   "cell_type": "code",
   "execution_count": null,
   "id": "aabe022a-3d47-424e-9e8b-87ade3e1ad47",
   "metadata": {},
   "outputs": [],
   "source": []
  },
  {
   "cell_type": "code",
   "execution_count": null,
   "id": "075a8324-05ec-41d2-8e18-fb91c5c6a130",
   "metadata": {
    "tags": []
   },
   "outputs": [],
   "source": [
    "#70744/5952/128/4/425#5.462202522137888e-05\n",
    "#8843/744/425#0.027966476913345986"
   ]
  },
  {
   "cell_type": "code",
   "execution_count": null,
   "id": "2a767c87-235c-43bd-9724-9d7dab905fae",
   "metadata": {
    "tags": []
   },
   "outputs": [],
   "source": [
    "filters=30, \n",
    "                     kernel_size=(3, 3, 3), \n",
    "                     strides=(1,1,1),\n",
    "                     activation='relu', \n",
    "                     return_sequences=True,\n",
    "                     padding='same',\n",
    "                     data_format='channels_last',\n",
    "                     input_shape=(inputs.shape[1], in"
   ]
  },
  {
   "cell_type": "code",
   "execution_count": null,
   "id": "fe2ca63a-0923-4e09-bf2f-b40e1e0604d9",
   "metadata": {
    "tags": []
   },
   "outputs": [],
   "source": [
    "file=os.path.join('/Volumes/mambo5/files/pcasc.pkl')\n",
    "with open(file, 'rb') as f:\n",
    "    pcasc=pickle.load(f)"
   ]
  },
  {
   "cell_type": "code",
   "execution_count": null,
   "id": "dbee40cc-3e35-4e32-a6d4-784afe5d9322",
   "metadata": {
    "tags": []
   },
   "outputs": [],
   "source": [
    "file=os.path.join('/Volumes/mambo5/files/nopcasc.pkl')\n",
    "with open(file, 'rb') as f:\n",
    "    nopcasc=pickle.load(f)"
   ]
  },
  {
   "cell_type": "code",
   "execution_count": null,
   "id": "6e116c62-59ee-47fa-b9e1-114e95f87c94",
   "metadata": {
    "tags": []
   },
   "outputs": [],
   "source": [
    "file=os.path.join('/Volumes/mambo5/files/realsc.pkl')\n",
    "with open(file, 'rb') as f:\n",
    "    realsc=pickle.load(f)"
   ]
  },
  {
   "cell_type": "code",
   "execution_count": null,
   "id": "ba88bf52-6dcc-4827-bbf6-dc2356d1ff3c",
   "metadata": {
    "tags": []
   },
   "outputs": [],
   "source": [
    "pcasc.shape, nopcasc.shape, realsc.shape"
   ]
  },
  {
   "cell_type": "code",
   "execution_count": null,
   "id": "c60ea703-2732-4f3d-b51c-8fdf5a9020ad",
   "metadata": {
    "tags": []
   },
   "outputs": [],
   "source": [
    "real=realsc.reshape(8843, 744, 425,1)"
   ]
  },
  {
   "cell_type": "code",
   "execution_count": null,
   "id": "908f36a4-069e-4950-9297-2cf8b1824d7c",
   "metadata": {
    "tags": []
   },
   "outputs": [],
   "source": [
    "# file=file1"
   ]
  },
  {
   "cell_type": "code",
   "execution_count": null,
   "id": "358127a7-d043-4f69-b34c-3c5919ec6555",
   "metadata": {
    "tags": []
   },
   "outputs": [],
   "source": [
    "# with rio.open(file) as f:\n",
    "#     f.read((1))"
   ]
  },
  {
   "cell_type": "code",
   "execution_count": null,
   "id": "c5ca4464-a813-4091-9315-9a52df188fb4",
   "metadata": {
    "tags": []
   },
   "outputs": [],
   "source": [
    "# example=tnsAv1"
   ]
  },
  {
   "cell_type": "code",
   "execution_count": null,
   "id": "39004889-ac08-4931-9640-f44c9ca3293d",
   "metadata": {
    "tags": []
   },
   "outputs": [],
   "source": [
    "# import rasterio\n",
    "# from rasterio.enums import Resampling\n",
    "\n",
    "# upscale_factor = 2\n",
    "\n",
    "# with rasterio.open(\"/Volumes/mambo5/aviris/tns/ang20190713t030616_rdn_v2v2/ang20190713t030616_rdn_v2v2_img\") as example:\n",
    "#     # resample data to target shape\n",
    "#     data = example.read(\n",
    "#         out_shape=(\n",
    "#             example.count,\n",
    "#             int(example.height * upscale_factor),\n",
    "#             int(example.width * upscale_factor)\n",
    "#         ),\n",
    "#         resampling=Resampling.bilinear\n",
    "#     )\n",
    "#     print(\"G2G\")\n",
    "#     #scale image transform\n",
    "#     transform = example.transform * example.transform.scale(\n",
    "#        (example.width / data.shape[-1]),\n",
    "#        (example.height / data.shape[-2]))"
   ]
  },
  {
   "cell_type": "code",
   "execution_count": null,
   "id": "d7e3ccb1-e0a1-4a9c-9a27-12991694d081",
   "metadata": {
    "tags": []
   },
   "outputs": [],
   "source": [
    "# filepath=Path('/Users/bradleygay/Downloads/tns07132019AvUp2x.pkl')\n",
    "# with open(filepath, 'wb') as f:\n",
    "#     pickle.dump(data,f)"
   ]
  },
  {
   "cell_type": "code",
   "execution_count": null,
   "id": "915bd585-c989-4b20-b439-50eb8f26e556",
   "metadata": {
    "tags": []
   },
   "outputs": [],
   "source": [
    "from osgeo import gdal\n",
    "\n",
    "# in_path = '/Volumes/mambo5/aviris/tns/ang20170708t205457_rdn_v2p9/'\n",
    "# input_filename = 'ang20170708t205457_rdn_v2p9_img'\n",
    "\n",
    "out_path = '/Users/bradleygay/Downloads/tns20170708tiles/'\n",
    "output_filename = 'tile_'\n",
    "\n",
    "tile_size_x = 256\n",
    "tile_size_y = 256\n",
    "\n",
    "# ds = gdal.Open(in_path + input_filename)\n",
    "ds = gdal.Open(file1)\n",
    "band = ds.ReadAsArray()\n",
    "xsize = band.XSize\n",
    "ysize = band.YSize\n",
    "\n",
    "for i in range(0, xsize, tile_size_x):\n",
    "    for j in range(0, ysize, tile_size_y):\n",
    "        com_string = \"gdal_translate -of GTIFF -srcwin \" + str(i)+ \", \" + str(j) + \", \" + str(tile_size_x) + \", \" + str(tile_size_y) + \" \" + str(file1) + \" \" + str(out_path) + str(output_filename) + str(i) + \"_\" + str(j) + \".tif\"\n",
    "        #com_string = \"gdal_translate -of GTIFF -srcwin \" + str(i)+ \", \" + str(j) + \", \" + str(tile_size_x) + \", \" + str(tile_size_y) + \" \" + str(in_path) + str(input_filename) + \" \" + str(out_path) + str(output_filename) + str(i) + \"_\" + str(j) + \".tif\"\n",
    "        os.system(com_string)"
   ]
  },
  {
   "cell_type": "code",
   "execution_count": null,
   "id": "0e5b7dda-8b5b-476a-b2d8-1727f2d3229f",
   "metadata": {
    "tags": []
   },
   "outputs": [],
   "source": [
    "gdal.Open('/Volumes/mambo5/aviris/tns/ang20170708t205457_rdn_v2p9/ang20170708t205457_rdn_v2p9_img')"
   ]
  },
  {
   "cell_type": "code",
   "execution_count": null,
   "id": "a0c0a7a8-914d-409a-8fc3-52798490c1ec",
   "metadata": {
    "tags": []
   },
   "outputs": [],
   "source": [
    "# import os\n",
    "# from itertools import product\n",
    "# import rasterio as rio\n",
    "# from rasterio import windows\n",
    "\n",
    "# in_path = '/path/to/indata/'\n",
    "# input_filename = 'dtm_5.tif'\n",
    "\n",
    "# out_path = '/path/to/output_folder/'\n",
    "# output_filename = 'tile_{}-{}.tif'\n",
    "\n",
    "# def get_tiles(ds, width=256, height=256):\n",
    "#     nols, nrows = ds.meta['width'], ds.meta['height']\n",
    "#     offsets = product(range(0, nols, width), range(0, nrows, height))\n",
    "#     big_window = windows.Window(col_off=0, row_off=0, width=nols, height=nrows)\n",
    "#     for col_off, row_off in  offsets:\n",
    "#         window =windows.Window(col_off=col_off, row_off=row_off, width=width, height=height).intersection(big_window)\n",
    "#         transform = windows.transform(window, ds.transform)\n",
    "#         yield window, transform\n",
    "\n",
    "\n",
    "# with rio.open(os.path.join(in_path, input_filename)) as inds:\n",
    "#     tile_width, tile_height = 256, 256\n",
    "\n",
    "#     meta = inds.meta.copy()\n",
    "\n",
    "#     for window, transform in get_tiles(inds):\n",
    "#         print(window)\n",
    "#         meta['transform'] = transform\n",
    "#         meta['width'], meta['height'] = window.width, window.height\n",
    "#         outpath = os.path.join(out_path,output_filename.format(int(window.col_off), int(window.row_off)))\n",
    "#         with rio.open(outpath, 'w', **meta) as outds:\n",
    "#             outds.write(inds.read(window=window))"
   ]
  },
  {
   "cell_type": "markdown",
   "id": "f5164a36-cb30-4d53-af81-7aec5d650dda",
   "metadata": {
    "jp-MarkdownHeadingCollapsed": true,
    "tags": []
   },
   "source": [
    "# UAVSAR"
   ]
  },
  {
   "cell_type": "markdown",
   "id": "c2f3a8f0-767b-460e-bde5-d41e34e591d0",
   "metadata": {
    "tags": []
   },
   "source": [
    "### Workflow"
   ]
  },
  {
   "cell_type": "code",
   "execution_count": null,
   "id": "d662e7e2-7787-4f78-a5cf-d4d9bafd75a0",
   "metadata": {
    "tags": []
   },
   "outputs": [],
   "source": [
    "file = os.path.join('/Volumes/mambo5/files/img_vals_tns_07082017.pkl')\n",
    "with open(file, 'rb') as f:\n",
    "    unw_tns=pickle.load(f)"
   ]
  },
  {
   "cell_type": "code",
   "execution_count": null,
   "id": "3f87e022-15e9-4b55-a726-0ffde4c04546",
   "metadata": {
    "tags": []
   },
   "outputs": [],
   "source": [
    "file = os.path.join('/Volumes/mambo5/files/unw_tns2.pkl')\n",
    "with open(file, 'rb') as f:\n",
    "    unw_tns2=pickle.load(f)"
   ]
  },
  {
   "cell_type": "code",
   "execution_count": null,
   "id": "689639e0-71a6-449a-8fa7-3ae788a5e5c1",
   "metadata": {
    "tags": []
   },
   "outputs": [],
   "source": [
    "unw_tns.shape, unw_tns2.shape"
   ]
  },
  {
   "cell_type": "code",
   "execution_count": null,
   "id": "60fcb381-5995-4e93-b0ca-7fd8f4d083ae",
   "metadata": {
    "tags": []
   },
   "outputs": [],
   "source": [
    "#!pip install georaster"
   ]
  },
  {
   "cell_type": "code",
   "execution_count": null,
   "id": "28ad1e01-bc66-47f5-a7fd-1df9a779b708",
   "metadata": {
    "tags": []
   },
   "outputs": [],
   "source": [
    "#file = os.path.join('/Volumes/mambo5 1/uavsar/tns/toolik_05300_17067-009_17097-011_0088d_s01_L090_01_int_grd/toolik_05300_17067-009_17097-011_0088d_s01_L090HH_01.cor.grd.tiff')\n",
    "#file = os.path.join('/Users/bradleygay/Downloads/log-ratio_layer.tif')\n",
    "#file = os.path.join('/Volumes/mambo5 1/uavsar/tns/toolik_05300_17097_011_170915_L090_CX_01_hgt.tif')\n",
    "#file = os.path.join('/Volumes/mambo5/uavsar/tns/toolik_05300_17097-011_18050-008_0345d_s01_L090_01_int_grd/toolik_05300_17097-011_18050-008_0345d_s01_L090HH_01.unw.grd.tiff')\n",
    "file = os.path.join('/Volumes/mambo5/uavsar/tns/toolik_05300_17067-009_17097-011_0088d_s01_L090_01_int_grd/toolik_05300_17067-009_17097-011_0088d_s01_L090HH_01.cor.grd.tiff')\n",
    "import georaster\n",
    "import matplotlib.pyplot as plt\n",
    "# Use SingleBandRaster() if image has only one band\n",
    "img = georaster.SingleBandRaster(file)\n",
    "# img.r gives the raster in [height, width, band] format \n",
    "# band no. starts from 0\n",
    "plt.figure(figsize=(9,6),dpi=100)\n",
    "plt.imshow(img.r[:,:])\n",
    "plt.colorbar()\n",
    "plt.show()"
   ]
  },
  {
   "cell_type": "code",
   "execution_count": null,
   "id": "55c18887-1a6e-4cc9-a3db-8ea11d2c6253",
   "metadata": {
    "tags": []
   },
   "outputs": [],
   "source": [
    "#file = os.path.join('/Volumes/mambo5 1/uavsar/tns/toolik_05300_17067-009_17097-011_0088d_s01_L090_01_int_grd/toolik_05300_17067-009_17097-011_0088d_s01_L090HH_01.cor.grd.tiff')\n",
    "#file = os.path.join('/Users/bradleygay/Downloads/log-ratio_layer.tif')\n",
    "#file = os.path.join('/Volumes/mambo5 1/uavsar/tns/toolik_05300_17097_011_170915_L090_CX_01_hgt.tif')\n",
    "file27 = os.path.join('/Volumes/mambo5/uavsar/tns/toolik_05300_17097-011_18050-008_0345d_s01_L090_01_int_grd/toolik_05300_17097-011_18050-008_0345d_s01_L090HH_01.unw.grd.tiff')\n",
    "file28 = os.path.join('/Volumes/mambo5/uavsar/tns/toolik_05300_17067-009_17097-011_0088d_s01_L090_01_int_grd/toolik_05300_17067-009_17097-011_0088d_s01_L090HV_01.unw.grd.tiff')\n",
    "file29 = os.path.join('/Volumes/mambo5/uavsar/tns/toolik_05300_17067-009_17097-011_0088d_s01_L090_01_int_grd/toolik_05300_17067-009_17097-011_0088d_s01_L090VH_01.unw.grd.tiff')\n",
    "file30 = os.path.join('/Volumes/mambo5/uavsar/tns/toolik_05300_17067-009_17097-011_0088d_s01_L090_01_int_grd/toolik_05300_17067-009_17097-011_0088d_s01_L090VV_01.unw.grd.tiff')\n",
    "#\n",
    "file31 = os.path.join('/Volumes/mambo5/uavsar/tns/toolik_05300_17097-011_18050-008_0345d_s01_L090_01_int_grd/toolik_05300_17097-011_18050-008_0345d_s01_L090HH_01.unw.grd.tiff')\n",
    "file32 = os.path.join('/Volumes/mambo5/uavsar/tns/toolik_05300_17097-011_18050-008_0345d_s01_L090_01_int_grd/toolik_05300_17097-011_18050-008_0345d_s01_L090HV_01.unw.grd.tiff')\n",
    "file33 = os.path.join('/Volumes/mambo5/uavsar/tns/toolik_05300_17097-011_18050-008_0345d_s01_L090_01_int_grd/toolik_05300_17097-011_18050-008_0345d_s01_L090VH_01.unw.grd.tiff')\n",
    "file34 = os.path.join('/Volumes/mambo5/uavsar/tns/toolik_05300_17097-011_18050-008_0345d_s01_L090_01_int_grd/toolik_05300_17097-011_18050-008_0345d_s01_L090VV_01.unw.grd.tiff')\n",
    "####\n",
    "file35 = os.path.join('/Volumes/mambo5/uavsar/int/denalN_09115_17066-008_17100-003_0094d_s01_L090_01_int_grd/denalN_09115_17066-008_17100-003_0094d_s01_L090HH_01.unw.grd.tiff')\n",
    "file36 = os.path.join('/Volumes/mambo5/uavsar/int/denalN_09115_17066-008_17100-003_0094d_s01_L090_01_int_grd/denalN_09115_17066-008_17100-003_0094d_s01_L090HV_01.unw.grd.tiff')\n",
    "file37 = os.path.join('/Volumes/mambo5/uavsar/int/denalN_09115_17066-008_17100-003_0094d_s01_L090_01_int_grd/denalN_09115_17066-008_17100-003_0094d_s01_L090VH_01.unw.grd.tiff')\n",
    "file38 = os.path.join('/Volumes/mambo5/uavsar/int/denalN_09115_17066-008_17100-003_0094d_s01_L090_01_int_grd/denalN_09115_17066-008_17100-003_0094d_s01_L090VV_01.unw.grd.tiff')\n",
    "####\n",
    "file39 = os.path.join('/Volumes/mambo5/uavsar/sew/counci_32519_17067-002_17097-003_0088d_s01_L090_01_int_grd/counci_32519_17067-002_17097-003_0088d_s01_L090HH_01.unw.grd.tiff')\n",
    "#\n",
    "file40 = os.path.join('/Volumes/mambo5/uavsar/sew/counci_32519_17067-002_17097-003_0088d_s01_L090_02_int_grd/counci_32519_17067-002_17097-003_0088d_s01_L090HH_02.unw.grd.tiff')\n",
    "file41 = os.path.join('/Volumes/mambo5/uavsar/sew/counci_32519_17067-002_17097-003_0088d_s01_L090_02_int_grd/counci_32519_17067-002_17097-003_0088d_s01_L090HV_02.unw.grd.tiff')\n",
    "file42 = os.path.join('/Volumes/mambo5/uavsar/sew/counci_32519_17067-002_17097-003_0088d_s01_L090_02_int_grd/counci_32519_17067-002_17097-003_0088d_s01_L090VH_02.unw.grd.tiff')\n",
    "file43 = os.path.join('/Volumes/mambo5/uavsar/sew/counci_32519_17067-002_17097-003_0088d_s01_L090_02_int_grd/counci_32519_17067-002_17097-003_0088d_s01_L090VV_02.unw.grd.tiff')                  \n",
    "####\n",
    "file44 = os.path.join('/Volumes/mambo5/uavsar/ykd/ykdelA_26905_17066-002_17099-006_0092d_s01_L090_01_int_grd/ykdelA_26905_17066-002_17099-006_0092d_s01_L090HH_01.unw.grd.tiff')\n",
    "#\n",
    "file45 = os.path.join('/Volumes/mambo5/uavsar/ykd/ykdelA_26905_17066-002_17099-006_0092d_s01_L090_02_int_grd/ykdelA_26905_17066-002_17099-006_0092d_s01_L090HH_02.unw.grd.tiff')\n",
    "file46 = os.path.join('/Volumes/mambo5/uavsar/ykd/ykdelA_26905_17066-002_17099-006_0092d_s01_L090_02_int_grd/ykdelA_26905_17066-002_17099-006_0092d_s01_L090HV_02.unw.grd.tiff')\n",
    "file47 = os.path.join('/Volumes/mambo5/uavsar/ykd/ykdelA_26905_17066-002_17099-006_0092d_s01_L090_02_int_grd/ykdelA_26905_17066-002_17099-006_0092d_s01_L090VH_02.unw.grd.tiff')\n",
    "file48 = os.path.join('/Volumes/mambo5/uavsar/ykd/ykdelA_26905_17066-002_17099-006_0092d_s01_L090_02_int_grd/ykdelA_26905_17066-002_17099-006_0092d_s01_L090VV_02.unw.grd.tiff')"
   ]
  },
  {
   "cell_type": "code",
   "execution_count": null,
   "id": "5f77ebdc-b59f-4fea-a787-8317715281a8",
   "metadata": {
    "tags": []
   },
   "outputs": [],
   "source": [
    "ex1=rioxarray.open_rasterio(file27)\n",
    "ex2=rioxarray.open_rasterio(file28)\n",
    "ex3=rioxarray.open_rasterio(file29)\n",
    "ex4=rioxarray.open_rasterio(file30)\n",
    "#\n",
    "ex5=rioxarray.open_rasterio(file31)\n",
    "ex6=rioxarray.open_rasterio(file32)\n",
    "ex7=rioxarray.open_rasterio(file33)\n",
    "ex8=rioxarray.open_rasterio(file34)\n",
    "####\n",
    "ex9=rioxarray.open_rasterio(file35)\n",
    "ex10=rioxarray.open_rasterio(file36)\n",
    "ex11=rioxarray.open_rasterio(file37)\n",
    "ex12=rioxarray.open_rasterio(file38)\n",
    "####\n",
    "ex13=rioxarray.open_rasterio(file39)\n",
    "#\n",
    "ex14=rioxarray.open_rasterio(file40)\n",
    "ex15=rioxarray.open_rasterio(file41)\n",
    "ex16=rioxarray.open_rasterio(file42)\n",
    "ex17=rioxarray.open_rasterio(file43)\n",
    "####\n",
    "ex18=rioxarray.open_rasterio(file44)\n",
    "#\n",
    "ex19=rioxarray.open_rasterio(file45)\n",
    "ex20=rioxarray.open_rasterio(file46)\n",
    "ex21=rioxarray.open_rasterio(file47)\n",
    "ex22=rioxarray.open_rasterio(file48)"
   ]
  },
  {
   "cell_type": "code",
   "execution_count": null,
   "id": "14aaf0e9-2667-4c70-87dd-d72051751e08",
   "metadata": {
    "tags": []
   },
   "outputs": [],
   "source": [
    "uavsar_arr_list=[ex1, ex2, ex3, ex4, \\\n",
    "                 ex5, ex6, ex7, ex8, \\\n",
    "                 ex9, ex10, ex11, ex12, \\\n",
    "                 ex13, \\\n",
    "                 ex14, ex15, ex16, ex17, \\\n",
    "                 ex18, \\\n",
    "                 ex19, ex20, ex21, ex22]"
   ]
  },
  {
   "cell_type": "code",
   "execution_count": null,
   "id": "cf67f627-c411-4816-9e76-1e258e1a4939",
   "metadata": {
    "tags": []
   },
   "outputs": [],
   "source": [
    "#ex1[0].to_netcdf('tns1_HH.nc')"
   ]
  },
  {
   "cell_type": "markdown",
   "id": "498644ee-46f9-4065-a0cb-6ee9f03a5cae",
   "metadata": {
    "jp-MarkdownHeadingCollapsed": true,
    "tags": []
   },
   "source": [
    "#### Continue"
   ]
  },
  {
   "cell_type": "code",
   "execution_count": null,
   "id": "5907e687-008a-4cb7-ae3b-55e91373c698",
   "metadata": {
    "tags": []
   },
   "outputs": [],
   "source": [
    "#HH, HV, VH, VV"
   ]
  },
  {
   "cell_type": "code",
   "execution_count": null,
   "id": "86d01d4a-5aae-4cfb-be95-258a2d1ddf31",
   "metadata": {
    "tags": []
   },
   "outputs": [],
   "source": [
    "tnsUAV1=xr.concat([ex1,ex2,ex3,ex4],dim='band')"
   ]
  },
  {
   "cell_type": "code",
   "execution_count": null,
   "id": "8e75c258-806c-43de-a9bd-a4cbfe3d5389",
   "metadata": {
    "tags": []
   },
   "outputs": [],
   "source": [
    "tnsUAV2=xr.concat([ex5,ex6,ex7,ex8], dim=\"band\")"
   ]
  },
  {
   "cell_type": "code",
   "execution_count": null,
   "id": "5dd1b2a9-2057-4cdf-b083-ae6dd2400772",
   "metadata": {
    "tags": []
   },
   "outputs": [],
   "source": [
    "intUAV1=xr.concat([ex9,ex10,ex11,ex12], dim=\"band\")"
   ]
  },
  {
   "cell_type": "code",
   "execution_count": null,
   "id": "e42a5d4e-8a4f-4f9f-9784-08be8234d8a1",
   "metadata": {
    "tags": []
   },
   "outputs": [],
   "source": [
    "sewUAV1=xr.concat([ex13],dim=\"band\")"
   ]
  },
  {
   "cell_type": "code",
   "execution_count": null,
   "id": "77f6646a-e79f-4abd-b5e5-0b84f41aa3ad",
   "metadata": {
    "tags": []
   },
   "outputs": [],
   "source": [
    "sewUAV2=xr.concat([ex14,ex15,ex16,ex17],dim=\"band\")"
   ]
  },
  {
   "cell_type": "code",
   "execution_count": null,
   "id": "51c364de-7818-4530-9ed5-770d474317ca",
   "metadata": {
    "tags": []
   },
   "outputs": [],
   "source": [
    "ykdUAV1=xr.concat([ex18],dim=\"band\")"
   ]
  },
  {
   "cell_type": "code",
   "execution_count": null,
   "id": "5fb84e83-3413-465e-94dc-1e37659625fe",
   "metadata": {
    "tags": []
   },
   "outputs": [],
   "source": [
    "ykdUAV2=xr.concat([ex19,ex20,ex21,ex22],dim=\"band\")"
   ]
  },
  {
   "cell_type": "code",
   "execution_count": null,
   "id": "a3bce8d9-8fed-4cee-ad2f-05b3c84f1d47",
   "metadata": {
    "tags": []
   },
   "outputs": [],
   "source": [
    "#plt.contourf(ex1[0,:,:].data)\n",
    "#ex1"
   ]
  },
  {
   "cell_type": "code",
   "execution_count": null,
   "id": "4d552302-f032-40ea-ab8d-970caa6ddf93",
   "metadata": {
    "tags": []
   },
   "outputs": [],
   "source": [
    "#plt.contourf(tnsUAV1.stack(allv=('polarization', 'band')).reset_index('allv').drop(['polarization', 'band'])[:,:,0])"
   ]
  },
  {
   "cell_type": "code",
   "execution_count": null,
   "id": "1d7200d1-02a3-4785-8dc4-c197169a91e8",
   "metadata": {
    "tags": []
   },
   "outputs": [],
   "source": [
    "#tnsUAV1=tnsUAV1.stack(allv=('polarization', 'band')).reset_index('allv').drop(['polarization', 'band'])\n",
    "filea = os.path.join('/Users/bradleygay/Downloads/tnsUAV1unw.pkl')\n",
    "with open(filea, 'wb') as f:\n",
    "    pickle.dump(tnsUAV1,f)"
   ]
  },
  {
   "cell_type": "code",
   "execution_count": null,
   "id": "dd10d39c-be9f-41ab-bbb8-e6205baf8a67",
   "metadata": {
    "tags": []
   },
   "outputs": [],
   "source": [
    "del tnsUAV1"
   ]
  },
  {
   "cell_type": "code",
   "execution_count": null,
   "id": "d1c921c3-1dac-4ef3-92f7-5c409d6e745b",
   "metadata": {
    "tags": []
   },
   "outputs": [],
   "source": [
    "#tnsUAV2=tnsUAV2.stack(allv=('polarization', 'band', 'x', 'y')).reset_index('allv').drop(['polarization', 'band', 'x', 'y'])\n",
    "fileb = os.path.join('/Users/bradleygay/Downloads/tnsUAV2unw.pkl')\n",
    "with open(fileb, 'wb') as f:\n",
    "    pickle.dump(tnsUAV2,f)"
   ]
  },
  {
   "cell_type": "code",
   "execution_count": null,
   "id": "1454a6de-75f7-4434-8466-824ee2f826eb",
   "metadata": {
    "tags": []
   },
   "outputs": [],
   "source": [
    "del tnsUAV2"
   ]
  },
  {
   "cell_type": "code",
   "execution_count": null,
   "id": "ed588d92-7a9d-4876-942e-23f3bab6196e",
   "metadata": {
    "tags": []
   },
   "outputs": [],
   "source": [
    "#intUAV1=intUAV1.stack(allv=('polarization', 'band', 'x', 'y')).reset_index('allv').drop(['polarization', 'band', 'x', 'y'])\n",
    "filec = os.path.join('/Users/bradleygay/Downloads/intUAV1unw.pkl')\n",
    "with open(filec, 'wb') as f:\n",
    "    pickle.dump(intUAV1,f)"
   ]
  },
  {
   "cell_type": "code",
   "execution_count": null,
   "id": "f78f73e7-57c8-4e74-86a5-fa61a0140842",
   "metadata": {
    "tags": []
   },
   "outputs": [],
   "source": [
    "del intUAV1"
   ]
  },
  {
   "cell_type": "code",
   "execution_count": null,
   "id": "0c2af579-a7a1-4825-b5ee-072a7802a7f4",
   "metadata": {
    "tags": []
   },
   "outputs": [],
   "source": [
    "#sewUAV1=sewUAV1.stack(allv=('polarization', 'band', 'x', 'y')).reset_index('allv').drop(['polarization', 'band', 'x', 'y'])\n",
    "filed = os.path.join('/Users/bradleygay/Downloads/sewUAV1unw.pkl')\n",
    "with open(filed, 'wb') as f:\n",
    "    pickle.dump(sewUAV1,f)"
   ]
  },
  {
   "cell_type": "code",
   "execution_count": null,
   "id": "e5431720-78b8-44eb-9369-65df0f55eec5",
   "metadata": {
    "tags": []
   },
   "outputs": [],
   "source": [
    "del sewUAV1"
   ]
  },
  {
   "cell_type": "code",
   "execution_count": null,
   "id": "9dc98b16-b776-4dd8-8563-59082c5bfdbf",
   "metadata": {
    "tags": []
   },
   "outputs": [],
   "source": [
    "#sewUAV2=sewUAV2.stack(allv=('polarization', 'band', 'x', 'y')).reset_index('allv').drop(['polarization', 'band', 'x', 'y'])\n",
    "filee = os.path.join('/Users/bradleygay/Downloads/sewUAV2unw.pkl')\n",
    "with open(filee, 'wb') as f:\n",
    "    pickle.dump(sewUAV2,f)"
   ]
  },
  {
   "cell_type": "code",
   "execution_count": null,
   "id": "699e2eda-d961-489e-a99d-f8748b981c2b",
   "metadata": {
    "tags": []
   },
   "outputs": [],
   "source": [
    "del sewUAV2"
   ]
  },
  {
   "cell_type": "code",
   "execution_count": null,
   "id": "7643b377-a030-4aa1-b98a-5c629bae8e2e",
   "metadata": {
    "tags": []
   },
   "outputs": [],
   "source": [
    "#ykdUAV1=ykdUAV1.stack(allv=('polarization', 'band', 'x', 'y')).reset_index('allv').drop(['polarization', 'band', 'x', 'y'])\n",
    "filef = os.path.join('/Users/bradleygay/Downloads/ykdUAV1unw.pkl')\n",
    "with open(filef, 'wb') as f:\n",
    "    pickle.dump(ykdUAV1,f)"
   ]
  },
  {
   "cell_type": "code",
   "execution_count": null,
   "id": "7bd0862e-3593-4051-945a-a184869e9284",
   "metadata": {
    "tags": []
   },
   "outputs": [],
   "source": [
    "del ykdUAV1"
   ]
  },
  {
   "cell_type": "code",
   "execution_count": null,
   "id": "d9b7fd28-65b8-416c-9ff6-1d2065ea27d0",
   "metadata": {
    "tags": []
   },
   "outputs": [],
   "source": [
    "#ykdUAV2=ykdUAV2.stack(allv=('polarization', 'band', 'x', 'y')).reset_index('allv').drop(['polarization', 'band', 'x', 'y'])\n",
    "fileg = os.path.join('/Users/bradleygay/Downloads/ykdUAV2unw.pkl')\n",
    "with open(fileg, 'wb') as f:\n",
    "    pickle.dump(ykdUAV2,f)"
   ]
  },
  {
   "cell_type": "code",
   "execution_count": null,
   "id": "c6b769d1-5200-47a4-b80e-859f5110f7b5",
   "metadata": {
    "tags": []
   },
   "outputs": [],
   "source": [
    "del ykdUAV2"
   ]
  },
  {
   "cell_type": "code",
   "execution_count": null,
   "id": "0f6dd690-4708-4c7f-abd1-96450235492e",
   "metadata": {
    "tags": []
   },
   "outputs": [],
   "source": [
    "#plt.plot(rand)"
   ]
  },
  {
   "cell_type": "markdown",
   "id": "eec60468-570c-44ba-92bf-1cf545211e41",
   "metadata": {
    "jp-MarkdownHeadingCollapsed": true,
    "tags": []
   },
   "source": [
    "#### Load"
   ]
  },
  {
   "cell_type": "code",
   "execution_count": null,
   "id": "ae57687d-c01d-4946-bb56-cac3e3f30326",
   "metadata": {
    "tags": []
   },
   "outputs": [],
   "source": [
    "filea = os.path.join('/Users/bradleygay/Downloads/tnsUAV1unw.pkl')\n",
    "with open(filea, 'rb') as f:\n",
    "    tns1=pickle.load(f)"
   ]
  },
  {
   "cell_type": "code",
   "execution_count": null,
   "id": "8ee0b81c-aced-4c04-bd8e-7fe237a453b7",
   "metadata": {
    "tags": []
   },
   "outputs": [],
   "source": [
    "#ex1.shape, ex2.shape, ex3.shape, ex4.shape\n",
    "#((1, 11027, 16175), (1, 11025, 16171), (1, 11025, 16171), (1, 11025, 16171))"
   ]
  },
  {
   "cell_type": "code",
   "execution_count": null,
   "id": "89af1cd0-2830-4fbd-b114-d9cafe226b1a",
   "metadata": {
    "tags": []
   },
   "outputs": [],
   "source": [
    "#plt.plot(tns1)"
   ]
  },
  {
   "cell_type": "code",
   "execution_count": null,
   "id": "fbc05a26-f46c-4392-925d-368101c43324",
   "metadata": {
    "tags": []
   },
   "outputs": [],
   "source": [
    "fileb = os.path.join('/Users/bradleygay/Downloads/tnsUAV2unw.pkl')\n",
    "with open(fileb, 'rb') as f:\n",
    "    tns2=pickle.load(f)"
   ]
  },
  {
   "cell_type": "code",
   "execution_count": null,
   "id": "976d7a37-f9dc-4cf1-a589-a5eed08614ba",
   "metadata": {
    "tags": []
   },
   "outputs": [],
   "source": [
    "#ex5.shape, ex6.shape, ex7.shape, ex8.shape\n",
    "#((1, 11027, 16175), (1, 11027, 16175), (1, 11027, 16175), (1, 11027, 16175))"
   ]
  },
  {
   "cell_type": "code",
   "execution_count": null,
   "id": "53ac5baa-5255-4b6a-bfdb-a349228fbbf3",
   "metadata": {
    "tags": []
   },
   "outputs": [],
   "source": [
    "#plt.plot(tns2)"
   ]
  },
  {
   "cell_type": "code",
   "execution_count": null,
   "id": "ec4dd0f5-1c3c-4a06-a8e4-4922a8d0bc03",
   "metadata": {
    "tags": []
   },
   "outputs": [],
   "source": [
    "filec = os.path.join('/Users/bradleygay/Downloads/intUAV1unw.pkl')\n",
    "with open(filec, 'rb') as f:\n",
    "    int1=pickle.load(f)"
   ]
  },
  {
   "cell_type": "code",
   "execution_count": null,
   "id": "f37c65b1-29e8-4877-948a-49a8d136d580",
   "metadata": {
    "tags": []
   },
   "outputs": [],
   "source": [
    "#ex9.shape, ex10.shape, ex11.shape, ex12.shape\n",
    "#((1, 4811, 29396), (1, 4811, 29396), (1, 4811, 29396), (1, 4811, 29396))"
   ]
  },
  {
   "cell_type": "code",
   "execution_count": null,
   "id": "4c98f32c-658b-4e4f-9ced-52c2fc653a19",
   "metadata": {
    "tags": []
   },
   "outputs": [],
   "source": [
    "#plt.plot(int1)"
   ]
  },
  {
   "cell_type": "code",
   "execution_count": null,
   "id": "14e24a69-a06a-4414-b54b-624bb5944246",
   "metadata": {
    "tags": []
   },
   "outputs": [],
   "source": [
    "filed = os.path.join('/Users/bradleygay/Downloads/sewUAV1unw.pkl')\n",
    "with open(filed, 'rb') as f:\n",
    "    sew1=pickle.load(f)"
   ]
  },
  {
   "cell_type": "code",
   "execution_count": null,
   "id": "becf65b9-bb54-4e2b-bf7c-9c5272f0e548",
   "metadata": {
    "tags": []
   },
   "outputs": [],
   "source": [
    "#ex13.shape\n",
    "#(1, 23670, 20520)"
   ]
  },
  {
   "cell_type": "code",
   "execution_count": null,
   "id": "fbc823c2-c0fe-4790-b93c-21de9df2af03",
   "metadata": {
    "tags": []
   },
   "outputs": [],
   "source": [
    "#plt.plot(sew1)"
   ]
  },
  {
   "cell_type": "code",
   "execution_count": null,
   "id": "4a28d258-ef26-4946-88e5-5f2706d9d914",
   "metadata": {
    "tags": []
   },
   "outputs": [],
   "source": [
    "filee = os.path.join('/Users/bradleygay/Downloads/sewUAV2unw.pkl')\n",
    "with open(filee, 'rb') as f:\n",
    "    sew2=pickle.load(f)"
   ]
  },
  {
   "cell_type": "code",
   "execution_count": null,
   "id": "905da9af-241f-4a13-bda6-9ec710b96e38",
   "metadata": {
    "tags": []
   },
   "outputs": [],
   "source": [
    "#ex14.shape, ex15.shape, ex16.shape, ex17.shape\n",
    "#((1, 23669, 20518), (1, 23669, 20518), (1, 23669, 20518), (1, 23669, 20518))"
   ]
  },
  {
   "cell_type": "code",
   "execution_count": null,
   "id": "012782b4-bbcc-4b90-8191-5a203b9a40b6",
   "metadata": {
    "tags": []
   },
   "outputs": [],
   "source": [
    "#plt.plot(sew2)"
   ]
  },
  {
   "cell_type": "code",
   "execution_count": null,
   "id": "7d6fccb2-a586-4348-b9a8-1db1f7d9fa8f",
   "metadata": {
    "tags": []
   },
   "outputs": [],
   "source": [
    "filef = os.path.join('/Users/bradleygay/Downloads/ykdUAV1unw.pkl')\n",
    "with open(filef, 'rb') as f:\n",
    "    ykd1=pickle.load(f)"
   ]
  },
  {
   "cell_type": "code",
   "execution_count": null,
   "id": "53cbcd8c-bea6-4dc9-9b0c-78a8d33c2176",
   "metadata": {
    "tags": []
   },
   "outputs": [],
   "source": [
    "#ex18.shape\n",
    "#(1, 4788, 21523)"
   ]
  },
  {
   "cell_type": "code",
   "execution_count": null,
   "id": "51bb4c05-debd-40a0-8e35-87afcefb31d3",
   "metadata": {
    "tags": []
   },
   "outputs": [],
   "source": [
    "#plt.plot(ykd1)"
   ]
  },
  {
   "cell_type": "code",
   "execution_count": null,
   "id": "9862cc36-3b9c-4ddc-b5bb-8f19da70ce14",
   "metadata": {
    "tags": []
   },
   "outputs": [],
   "source": [
    "fileg = os.path.join('/Users/bradleygay/Downloads/ykdUAV2unw.pkl')\n",
    "with open(fileg, 'rb') as f:\n",
    "    ykd2=pickle.load(f)"
   ]
  },
  {
   "cell_type": "code",
   "execution_count": null,
   "id": "caae72da-43ba-492c-9a32-6b06f03c1440",
   "metadata": {
    "tags": []
   },
   "outputs": [],
   "source": [
    "#ex19.shape, ex20.shape, ex21.shape, ex22.shape\n",
    "#((1, 4781, 21523), (1, 4781, 21523), (1, 4781, 21523), (1, 4781, 21523))"
   ]
  },
  {
   "cell_type": "code",
   "execution_count": null,
   "id": "44f58246-bf07-4f2a-aa31-816d6bfc01c0",
   "metadata": {
    "tags": []
   },
   "outputs": [],
   "source": [
    "#plt.plot(ykd2)"
   ]
  },
  {
   "cell_type": "markdown",
   "id": "f7439cf4-1c06-45db-bde1-117cd7664b12",
   "metadata": {
    "jp-MarkdownHeadingCollapsed": true,
    "tags": []
   },
   "source": [
    "#### Plots"
   ]
  },
  {
   "cell_type": "code",
   "execution_count": null,
   "id": "7807dbf1-6622-4aa7-8e09-1ba292617f77",
   "metadata": {
    "tags": []
   },
   "outputs": [],
   "source": [
    "plt.imshow(ex1[0])"
   ]
  },
  {
   "cell_type": "code",
   "execution_count": null,
   "id": "b1d7c383-7f47-4313-aa1e-49495a3197d8",
   "metadata": {
    "tags": []
   },
   "outputs": [],
   "source": [
    "plt.imshow(ex2[0])"
   ]
  },
  {
   "cell_type": "code",
   "execution_count": null,
   "id": "96fd29a1-fa4c-4115-a79f-435d120d16e5",
   "metadata": {
    "tags": []
   },
   "outputs": [],
   "source": [
    "plt.imshow(ex3[0])"
   ]
  },
  {
   "cell_type": "code",
   "execution_count": null,
   "id": "da72ba32-7880-443f-851e-d77955a51ebd",
   "metadata": {
    "tags": []
   },
   "outputs": [],
   "source": [
    "plt.imshow(ex4[0])"
   ]
  },
  {
   "cell_type": "code",
   "execution_count": null,
   "id": "3804996c-b5bb-4613-a883-07d6940f0485",
   "metadata": {
    "tags": []
   },
   "outputs": [],
   "source": [
    "import georaster\n",
    "import matplotlib.pyplot as plt\n",
    "# Use SingleBandRaster() if image has only one band\n",
    "img = georaster.SingleBandRaster(file27)\n",
    "# img.r gives the raster in [height, width, band] format \n",
    "# band no. starts from 0\n",
    "plt.figure(figsize=(9,6))#,dpi=1000)\n",
    "plt.imshow(img.r[:,:], vmax=arr.max(), vmin=arr.min(), cmap='magma')\n",
    "plt.colorbar()\n",
    "plt.show()"
   ]
  },
  {
   "cell_type": "code",
   "execution_count": null,
   "id": "d04ada8d-e38c-45c1-b687-f8f03a90bbcb",
   "metadata": {
    "tags": []
   },
   "outputs": [],
   "source": [
    "#img.coordinates()[0].shape\n",
    "#(11025, 16171)\n",
    "#img.get_extent_latlon()\n",
    "#(-150.20305351, -149.30459274999998, 68.40536088, 69.01790988)\n",
    "#img.xres, img.yres\n",
    "#(5.556e-05, -5.556e-05)\n",
    "#img.trans\n",
    "#(-150.20305351, 5.556e-05, 0.0, 69.01790988, 0.0, -5.556e-05)\n",
    "#img.dtype\n",
    "#Float32"
   ]
  },
  {
   "cell_type": "code",
   "execution_count": null,
   "id": "20c94649-37da-41c6-a531-f6745a298570",
   "metadata": {
    "tags": []
   },
   "outputs": [],
   "source": [
    "dataset = gdal.Open(file27, gdal.GA_ReadOnly) \n",
    "# Note GetRasterBand() takes band no. starting from 1 not 0\n",
    "band = dataset.GetRasterBand(1)\n",
    "arr = band.ReadAsArray()\n",
    "plt.figure(figsize=(9,6))#,dpi=1000)\n",
    "plt.imshow(arr, vmax=arr.max(), vmin=arr.min(), cmap='magma')\n",
    "plt.colorbar()\n",
    "plt.show()"
   ]
  },
  {
   "cell_type": "code",
   "execution_count": null,
   "id": "078d0764-26a1-46a1-a4f4-5d879d5e12a7",
   "metadata": {
    "tags": []
   },
   "outputs": [],
   "source": [
    "import rasterio as rio\n",
    "import spectral\n",
    "import spectral.io.aviris as aviris\n",
    "from osgeo import gdal"
   ]
  },
  {
   "cell_type": "code",
   "execution_count": null,
   "id": "6bee137f-74f2-4846-9648-0db4ae68fa3c",
   "metadata": {
    "tags": []
   },
   "outputs": [],
   "source": [
    "from colorsys import hls_to_rgb\n",
    "def colorize(z):\n",
    "    n,m = z.shape\n",
    "    c = np.zeros((n,m,3))\n",
    "    c[np.isinf(z)] = (1.0, 1.0, 1.0)\n",
    "    c[np.isnan(z)] = (0.5, 0.5, 0.5)\n",
    "\n",
    "    idx = ~(np.isinf(z) + np.isnan(z))\n",
    "    A = (np.angle(z[idx]) + np.pi) / (2*np.pi)\n",
    "    A = (A + 0.5) % 1.0\n",
    "    B = 1.0 - 1.0/(1.0+abs(z[idx])**0.3)\n",
    "    c[idx] = [hls_to_rgb(a, b, 0.8) for a,b in zip(A,B)]\n",
    "    return c"
   ]
  },
  {
   "cell_type": "code",
   "execution_count": null,
   "id": "2f86ecfa-0497-42ce-a53c-c9894f4d6972",
   "metadata": {
    "tags": []
   },
   "outputs": [],
   "source": [
    "#colorize(arr)"
   ]
  },
  {
   "cell_type": "code",
   "execution_count": null,
   "id": "3dc1dc17-e8b2-4078-998e-91f8ae285293",
   "metadata": {},
   "outputs": [],
   "source": []
  },
  {
   "cell_type": "code",
   "execution_count": null,
   "id": "397de273-7d4b-496c-9927-7a83f8650e85",
   "metadata": {
    "tags": []
   },
   "outputs": [],
   "source": [
    "#no. of bands and resolution\n",
    "dataset.RasterCount, dataset.RasterXSize, dataset.RasterYSize\n",
    "#(1, 16171, 11025)"
   ]
  },
  {
   "cell_type": "code",
   "execution_count": null,
   "id": "ab2ccb84-e8eb-45d5-a1fc-cb9a20c371e7",
   "metadata": {
    "tags": []
   },
   "outputs": [],
   "source": [
    "# stats about image\n",
    "#min, max, mean, stdev\n",
    "band.GetStatistics( True, True )\n",
    "#[0.0, 0.9965390563011169, 0.1913547177001481, 0.2973577545684973]"
   ]
  },
  {
   "cell_type": "code",
   "execution_count": null,
   "id": "073be8e2-ea90-453d-a2cc-b16a7460e38e",
   "metadata": {
    "tags": []
   },
   "outputs": [],
   "source": [
    "# file = os.path.join('/Users/bradleygay/Downloads/17097uavHH.pkl')\n",
    "# with open(file, 'wb') as f:\n",
    "#     pickle.dump(arr,f)"
   ]
  },
  {
   "cell_type": "code",
   "execution_count": null,
   "id": "3d0fa64f-1195-4e21-b53f-c054e335c012",
   "metadata": {},
   "outputs": [],
   "source": []
  },
  {
   "cell_type": "code",
   "execution_count": null,
   "id": "846b3bac-8cdf-4c50-98dc-17131b9efe4a",
   "metadata": {
    "tags": []
   },
   "outputs": [],
   "source": [
    "#in situ\n",
    "Xtrainsc_sup.shape, ytrainsc_sup.shape, df.shape"
   ]
  },
  {
   "cell_type": "code",
   "execution_count": null,
   "id": "b9416731-9718-402b-af61-7d5a96629bf7",
   "metadata": {
    "tags": []
   },
   "outputs": [],
   "source": [
    "#remote sensing\n",
    "unw_tns.shape, unw_tns2.shape"
   ]
  },
  {
   "cell_type": "code",
   "execution_count": null,
   "id": "b6811690-0a40-40ea-ada2-aee0ed6a21af",
   "metadata": {
    "tags": []
   },
   "outputs": [],
   "source": [
    "#sibbork\n",
    "sib.shape"
   ]
  },
  {
   "cell_type": "code",
   "execution_count": null,
   "id": "5db2cf4a-c996-4256-a9ff-b90d4c9166ce",
   "metadata": {
    "tags": []
   },
   "outputs": [],
   "source": [
    "1097866*450, 1097866*5, 2441246*91"
   ]
  },
  {
   "cell_type": "code",
   "execution_count": null,
   "id": "a7c37e34-dd92-4d0a-bbb1-17280ffbf0b9",
   "metadata": {
    "tags": []
   },
   "outputs": [],
   "source": [
    "print(list(divisorGenerator(494039700)))"
   ]
  },
  {
   "cell_type": "code",
   "execution_count": null,
   "id": "f37d2237-cfdc-42a0-833c-636b8c3c8be9",
   "metadata": {
    "tags": []
   },
   "outputs": [],
   "source": [
    "print(list(divisorGenerator(5489330)))"
   ]
  },
  {
   "cell_type": "code",
   "execution_count": null,
   "id": "802b6104-76cb-4e8a-a3da-90453a3f22d1",
   "metadata": {
    "tags": []
   },
   "outputs": [],
   "source": [
    "print(list(divisorGenerator(222153386)))"
   ]
  },
  {
   "cell_type": "code",
   "execution_count": null,
   "id": "d7084b34-c92e-4d7b-9cc3-c747f247da1c",
   "metadata": {
    "tags": []
   },
   "outputs": [],
   "source": [
    "realsc=realsc.reshape(239,37, 744, 1, 425)"
   ]
  },
  {
   "cell_type": "code",
   "execution_count": null,
   "id": "70a66da0-7a39-4c89-8039-edad0063f686",
   "metadata": {
    "tags": []
   },
   "outputs": [],
   "source": []
  },
  {
   "cell_type": "code",
   "execution_count": null,
   "id": "a0a8a2d7-3243-4dec-a7b2-8e54f050763d",
   "metadata": {},
   "outputs": [],
   "source": []
  },
  {
   "cell_type": "code",
   "execution_count": null,
   "id": "68454d6f-7b57-4555-b004-5a358223a650",
   "metadata": {
    "tags": []
   },
   "outputs": [],
   "source": [
    "#geocryoai(X_train)\n",
    "#img_file = '/Users/bradleygay/Downloads/model_arch.jpeg'\n",
    "img_file = '/Users/bradleygay/Downloads/GeoCryoAI_Arch_032723_CL3UTC.jpeg'\n",
    "tf.keras.utils.plot_model(model, to_file=img_file, show_shapes=True, show_layer_names=True, dpi=1000)"
   ]
  },
  {
   "cell_type": "markdown",
   "id": "c08bfc66-ab07-4701-8694-d85b58563bab",
   "metadata": {
    "jp-MarkdownHeadingCollapsed": true,
    "tags": []
   },
   "source": [
    "# Tuning"
   ]
  },
  {
   "cell_type": "markdown",
   "id": "6730793b-095d-480b-884a-d0f85a9cf7ea",
   "metadata": {
    "tags": []
   },
   "source": [
    "### Arrays"
   ]
  },
  {
   "cell_type": "code",
   "execution_count": null,
   "id": "0c98f07d-d46c-485e-a067-eda0630d0070",
   "metadata": {
    "tags": []
   },
   "outputs": [],
   "source": [
    "#IN SITU\n",
    "insitu.shape, type(insitu)#, insitu.dtype()"
   ]
  },
  {
   "cell_type": "code",
   "execution_count": null,
   "id": "71f75139-a513-416c-b5d4-d4af14488e05",
   "metadata": {
    "tags": []
   },
   "outputs": [],
   "source": [
    "#SIBBORK\n",
    "sibbork.shape, type(sibbork)#, sibbork.dtype"
   ]
  },
  {
   "cell_type": "code",
   "execution_count": null,
   "id": "2f5631e6-1438-4077-8b76-753513c69737",
   "metadata": {},
   "outputs": [],
   "source": [
    "#TCFM\n"
   ]
  },
  {
   "cell_type": "code",
   "execution_count": null,
   "id": "89431e22-dc65-463d-a1a1-2bdaac6e4d0a",
   "metadata": {
    "tags": []
   },
   "outputs": [],
   "source": [
    "#AVIRISNG\n",
    "aviris_arr_list\n",
    "aviris_arr_list[0].shape, type(aviris_arr_list[0])\n",
    "#aviris_arr_list[0].shape, type(aviris_arr_list[0])\n",
    "#aviris_arr_list[1].shape, type(aviris_arr_list[0])\n",
    "#aviris_arr_list[2].shape, type(aviris_arr_list[0])\n",
    "#aviris_arr_list[3].shape, type(aviris_arr_list[0])\n",
    "#aviris_raster_list[0].shape, aviris_arr_list[0].shape #filtered by goodbandlist"
   ]
  },
  {
   "cell_type": "code",
   "execution_count": null,
   "id": "df01539b-8a5f-4b0b-9add-de4bab6bdbdc",
   "metadata": {
    "tags": []
   },
   "outputs": [],
   "source": [
    "#UAVSAR\n",
    "#plt.imshow(uavsar_arr_list[0][0])\n",
    "uavsar_arr_list\n",
    "uavsar_arr_list[0].shape, type(uavsar_arr_list[0])"
   ]
  },
  {
   "cell_type": "code",
   "execution_count": null,
   "id": "4305a6ac-4a9a-4184-93ab-90d6b0d1a8a8",
   "metadata": {},
   "outputs": [],
   "source": []
  },
  {
   "cell_type": "markdown",
   "id": "9dc600d0-bed0-4c1c-88a1-b77a6725e5e6",
   "metadata": {},
   "source": [
    "### THAW"
   ]
  },
  {
   "cell_type": "code",
   "execution_count": null,
   "id": "744ac5ce-3c9d-47b7-aad2-6e4da9962e32",
   "metadata": {
    "tags": []
   },
   "outputs": [],
   "source": [
    "#df"
   ]
  },
  {
   "cell_type": "code",
   "execution_count": null,
   "id": "263f05b5-48b0-4522-ae29-5948a39e788e",
   "metadata": {
    "tags": []
   },
   "outputs": [],
   "source": [
    "#X_train.shape, X_valid.shape, X_test.shape, y_train.shape, y_valid.shape, y_test.shape"
   ]
  },
  {
   "cell_type": "code",
   "execution_count": null,
   "id": "de985826-112e-4226-8200-a498dd1fc1f6",
   "metadata": {
    "tags": []
   },
   "outputs": [],
   "source": [
    "# X_train_reframed=X_train_scaled.reshape(1772960,1,94);\n",
    "# X_valid_reframed=X_valid.values.reshape(453144,1,94);\n",
    "# X_test_reframed=X_test.values.reshape(215137,1,94)\n",
    "# #X_train_reframed.shape, X_valid_reframed.shape, X_test_reframed.shape"
   ]
  },
  {
   "cell_type": "code",
   "execution_count": null,
   "id": "0d4b44ec-dd4c-40cc-93db-a9b1ce389efb",
   "metadata": {
    "tags": []
   },
   "outputs": [],
   "source": [
    "# y_train_reframed=y_train.values.reshape(1772960,1,1);\n",
    "# y_valid_reframed=y_valid.values.reshape(453144,1,1);\n",
    "# y_test_reframed=y_test.values.reshape(215137,1,1)"
   ]
  },
  {
   "cell_type": "code",
   "execution_count": null,
   "id": "fe137b05-da96-4b62-ac27-fd623762eb44",
   "metadata": {
    "tags": []
   },
   "outputs": [],
   "source": [
    "# X_train_reframed_sup=X_train_reframed_sup.reshape(1772957,1,376);\n",
    "# X_valid_reframed_sup=X_valid_reframed_sup.reshape(453141,1,376);\n",
    "# X_test_reframed_sup=X_test_reframed_sup.reshape(215134,1,376)\n",
    "# #X_train_reframed.shape, X_valid_reframed.shape, X_test_reframed.shape"
   ]
  },
  {
   "cell_type": "code",
   "execution_count": null,
   "id": "6cee89ab-ff0b-4b20-8c3c-0f02a82402eb",
   "metadata": {
    "tags": []
   },
   "outputs": [],
   "source": [
    "# y_train_reframed_sup=y_train_reframed_sup.reshape(7091828,1,1);\n",
    "# y_valid_reframed_sup=y_valid_reframed_sup.reshape(1812564,1,1);\n",
    "# y_test_reframed_sup=y_test_reframed_sup.reshape(860536,1,1)\n",
    "# #y_train_reframed.shape, y_valid_reframed.shape, y_test_reframed.shape"
   ]
  },
  {
   "cell_type": "code",
   "execution_count": null,
   "id": "4fc439b8-cf9f-4685-807a-c247e3baa217",
   "metadata": {
    "tags": []
   },
   "outputs": [],
   "source": [
    "# X_train_reframed_sup_tensor=tf.convert_to_tensor(X_train_reframed_sup)#.reshape(1772957, 1, 376))\n",
    "# y_train_reframed_sup_tensor=tf.convert_to_tensor(y_train_reframed_sup)#.reshape(1772957, 1, 4))\n",
    "# X_valid_reframed_sup_tensor=tf.convert_to_tensor(X_valid_reframed_sup)#.reshape(453141, 1, 376))\n",
    "# y_valid_reframed_sup_tensor=tf.convert_to_tensor(y_valid_reframed_sup)#.reshape(453141, 1, 4))\n",
    "# X_test_reframed_sup_tensor=tf.convert_to_tensor(X_test_reframed_sup)#.reshape(215134, 1, 376))\n",
    "# y_test_reframed_sup_tensor=tf.convert_to_tensor(y_test_reframed_sup)#.reshape(215134, 1, 4))"
   ]
  },
  {
   "cell_type": "code",
   "execution_count": null,
   "id": "c8799f7d-6785-4570-9339-092628a8fcd4",
   "metadata": {
    "tags": []
   },
   "outputs": [],
   "source": [
    "#inputs = keras.Input(shape=(X_train_reframed_sup.shape[1],X_train_reframed_sup.shape[2]))#, X_train_reframed_sup.shape[2]))#, X_train_reframed_sup.shape[3]))\n",
    "inputs = keras.Input(shape=(X_train_reframed.shape[1],X_train_reframed.shape[2]))#, X_train_reframed_sup.shape[2]))#, X_train_reframed_sup.shape[3]))\n",
    "inputs.shape"
   ]
  },
  {
   "cell_type": "code",
   "execution_count": null,
   "id": "45bca9f3-2f2e-4449-a407-e3cff66826b2",
   "metadata": {
    "tags": []
   },
   "outputs": [],
   "source": [
    "X_train_reframed.shape"
   ]
  },
  {
   "cell_type": "code",
   "execution_count": null,
   "id": "74ef7e01-b995-4de6-a604-6eff4210f321",
   "metadata": {
    "tags": []
   },
   "outputs": [],
   "source": [
    "model = keras.Sequential()\n",
    "model.add(Bidirectional(LSTM(128, activation='swish', return_sequences=True), input_shape=(inputs.shape[1], inputs.shape[2])))\n",
    "model.add(Bidirectional(LSTM(64, activation='swish', return_sequences=True)))\n",
    "model.add(Bidirectional(LSTM(32, activation='swish', return_sequences=True)))\n",
    "model.add(Bidirectional(LSTM(16, activation='swish', return_sequences=True)))\n",
    "model.add(Bidirectional(LSTM(8, activation='swish', return_sequences=False)))\n",
    "model.add(RepeatVector(inputs.shape[1]))\n",
    "model.add(Bidirectional(LSTM(8, activation='swish', return_sequences=True)))\n",
    "model.add(Bidirectional(LSTM(16, activation='swish', return_sequences=True)))\n",
    "model.add(Bidirectional(LSTM(32, activation='swish', return_sequences=True)))\n",
    "model.add(Bidirectional(LSTM(64, activation='swish', return_sequences=True)))\n",
    "model.add(Bidirectional(LSTM(128, activation='swish', return_sequences=True)))\n",
    "model.add(TimeDistributed(Dense(inputs.shape[1])))\n",
    "model.compile(optimizer=tf.keras.optimizers.legacy.Adam(learning_rate=0.001), loss='mse', metrics=['MeanAbsoluteError','MeanSquaredError','RootMeanSquaredError'])\n",
    "model.summary()"
   ]
  },
  {
   "cell_type": "code",
   "execution_count": null,
   "id": "8170dbb1-6ba1-4d0c-a687-40ca7085afc8",
   "metadata": {
    "tags": []
   },
   "outputs": [],
   "source": [
    "# model = tf.keras.Sequential()\n",
    "# model.add(ConvLSTM1D(filters=376, \n",
    "#                      kernel_size=3, \n",
    "#                      strides=1,\n",
    "#                      activation='relu', \n",
    "#                      return_sequences=True,\n",
    "#                      padding='valid',\n",
    "#                      data_format='channels_last',\n",
    "#                      input_shape=(inputs.shape[1], inputs.shape[2], inputs.shape[3])))\n",
    "# #model.add(MaxPool1D(pool_size=1))\n",
    "# #model.add(layers.TimeDistributed(layers.MaxPooling1D(pool_size=2)))\n",
    "# model.add(BatchNormalization())\n",
    "# model.add(Dropout(0.2))\n",
    "# model.add(ConvLSTM1D(filters=48, \n",
    "#                      kernel_size=3, \n",
    "#                      strides=1,\n",
    "#                      activation='relu', \n",
    "#                      return_sequences=True,\n",
    "#                      padding='valid'))\n",
    "#                      #data_format='channels_last'))\n",
    "#                      #input_shape=(inputs.shape[0], inputs.shape[2], inputs.shape[3], inputs.shape[4], inputs.shape[5])))\n",
    "# #model.add(layers.TimeDistributed(layers.MaxPooling3D(pool_size=2)))\n",
    "# model.add(BatchNormalization())\n",
    "# model.add(Dropout(0.2))\n",
    "# model.add(ConvLSTM1D(filters=16, \n",
    "#                      kernel_size=3, \n",
    "#                      strides=1,\n",
    "#                      activation='relu', \n",
    "#                      return_sequences=True,\n",
    "#                      padding='valid'))\n",
    "#                      #data_format='channels_last'))\n",
    "# #model.add(layers.TimeDistributed(layers.MaxPooling1D(pool_size=2)))\n",
    "# model.add(BatchNormalization())\n",
    "# model.add(Dropout(0.2))\n",
    "# model.add(ConvLSTM1D(filters=8, \n",
    "#                      kernel_size=1, \n",
    "#                      strides=1,\n",
    "#                      activation='relu', \n",
    "#                      return_sequences=True,\n",
    "#                      padding='valid'))\n",
    "#                      #data_format='channels_last'))\n",
    "# #model.add(MaxPooling3D(pool_size=(2, 2, 2)))\n",
    "# #model.add(layers.TimeDistributed(layers.MaxPooling1D(pool_size=1)))\n",
    "# model.add(BatchNormalization())\n",
    "# model.add(Dropout(0.2))\n",
    "# model.add(Reshape((14183608, 1), input_shape=(1772957, 1, 8)))\n",
    "# model.add(Conv1DTranspose(8, 4, strides=2, padding='valid'))\n",
    "# model.add(Conv1DTranspose(16, 4, strides=2, padding='valid'))\n",
    "# model.add(Conv1DTranspose(48, 4, strides=2, padding='valid'))\n",
    "# model.add(Conv1DTranspose(376, 4, strides=2, padding='valid'))\n",
    "# model.add(TimeDistributed(Dense(1)))\n",
    "# #model.add(Flatten())\n",
    "# # model.add(TimeDistributed(Dense(y_train[0])))\n",
    "# # model.add(Dense(x_train.shape[1]))\n",
    "# model.compile(loss='mse',#loss='categorical_crossentropy',\n",
    "#               optimizer=tf.keras.optimizers.legacy.Adam(learning_rate=0.0001),\n",
    "#               metrics=['MeanAbsoluteError','MeanSquaredError','RootMeanSquaredError'])#metrics=['accuracy'])\n",
    "# model.summary()\n"
   ]
  },
  {
   "cell_type": "code",
   "execution_count": null,
   "id": "516aaff7-2733-470b-9787-be95ce63584f",
   "metadata": {
    "tags": []
   },
   "outputs": [],
   "source": [
    "print(model.summary())"
   ]
  },
  {
   "cell_type": "code",
   "execution_count": null,
   "id": "a8534581-5c33-495f-b481-854494abc4d8",
   "metadata": {
    "tags": []
   },
   "outputs": [],
   "source": [
    "#print(list(divisorGenerator(14183656)))"
   ]
  },
  {
   "cell_type": "code",
   "execution_count": null,
   "id": "0601b29c-a534-473e-afc7-faebbb0bb29d",
   "metadata": {
    "tags": []
   },
   "outputs": [],
   "source": [
    "# Xtrainsc_sup_new=Xtrainsc_sup.reshape(1, 56, 31660, 450)\n",
    "# ytrainsc_sup_new=ytrainsc_sup.reshape(1, 56, 31660, 5)"
   ]
  },
  {
   "cell_type": "code",
   "execution_count": null,
   "id": "32bd734e-6386-4cee-b3a4-62b3665d4895",
   "metadata": {
    "tags": []
   },
   "outputs": [],
   "source": [
    "# # Fit data to model\n",
    "# history = model.fit(Xtrainsc_sup, ytrainsc_sup,\n",
    "#             batch_size=256,\n",
    "#             epochs=10,\n",
    "#             verbose=1,\n",
    "#                    validation_split=0.2)"
   ]
  },
  {
   "cell_type": "code",
   "execution_count": null,
   "id": "d6cd1081-a564-4e49-923d-7c32189a16a9",
   "metadata": {
    "tags": []
   },
   "outputs": [],
   "source": [
    "#Baseline model prior to training\n",
    "#model.evaluate(Xtrainsc_sup,ytrainsc_sup,verbose=1)\n",
    "#1: [0.9084790349006653, 0.9084790349006653, 0.9531416893005371]\n",
    "#2: [0.9072189331054688, 0.9072189331054688, 0.9524804353713989]\n",
    "#3: [0.9084791541099548, 0.9084791541099548, 0.9531500339508057]\n",
    "#4: [0.9240716099739075, 0.9240716099739075, 0.9612789154052734]\n",
    "#5: [0.8854997754096985, 0.8854997754096985, 0.9410284161567688]"
   ]
  },
  {
   "cell_type": "code",
   "execution_count": null,
   "id": "cff97829-a3a3-4101-ae9d-f286e2857642",
   "metadata": {
    "tags": []
   },
   "outputs": [],
   "source": [
    "import os\n",
    "root_logdir = os.path.join(os.curdir, 'logs')\n",
    "\n",
    "def get_run_logdir():\n",
    "    import time\n",
    "    run_id = time.strftime('run_%Y_%m_%d-%H_%M_%S')\n",
    "    return os.path.join(root_logdir, run_id)\n",
    "\n",
    "run_logdir = get_run_logdir()"
   ]
  },
  {
   "cell_type": "code",
   "execution_count": null,
   "id": "ceb83725-bf6a-49c1-9bab-52e065560ec1",
   "metadata": {
    "tags": []
   },
   "outputs": [],
   "source": [
    "log_dir = \"logs/fit/\" + datetime.now().strftime(\"%Y%m%d-%H%M%S\")\n",
    "tensorboard_callback = tf.keras.callbacks.TensorBoard(log_dir=log_dir, histogram_freq=1)"
   ]
  },
  {
   "cell_type": "code",
   "execution_count": null,
   "id": "699fc646-a41d-4fd4-8ab6-9ec19ea437be",
   "metadata": {
    "tags": []
   },
   "outputs": [],
   "source": [
    "#pd.DataFrame(y_test_reframed_sup.reshape(215134,4))\n",
    "# #Naive Persistence Model\n",
    "# Y_p = pd.DataFrame(y_test_reframed_sup.reshape(215134,4)).iloc[:, -1]\n",
    "# np.mean(keras.losses.mean_squared_error(y_test_reframed_sup, Y_p))"
   ]
  },
  {
   "cell_type": "code",
   "execution_count": null,
   "id": "9b4c752b-3979-4d4d-9c8c-8fafbe43f76c",
   "metadata": {
    "tags": []
   },
   "outputs": [],
   "source": [
    "import tensorflow.keras.backend as K\n",
    "Xtr = K.constant(Xtrainsc_sup)\n",
    "ytr = K.constant(ytrainsc_sup)\n",
    "Xv = K.constant(Xvalidsc_sup)\n",
    "yv = K.constant(yvalidsc_sup)\n",
    "Xt = K.constant(Xtestsc_sup)\n",
    "yt = K.constant(ytestsc_sup)"
   ]
  },
  {
   "cell_type": "code",
   "execution_count": null,
   "id": "db760d45-c354-4d27-ac8e-db55f4777de5",
   "metadata": {
    "tags": []
   },
   "outputs": [],
   "source": [
    "history = model.fit(K.constant(df.loc['1969':'2018',:]), K.constant(df.loc['1969':'2018','ALT']), \n",
    "                    epochs=20, validation_data=(K.constant(df.loc['2019':'2021',:]), \n",
    "                                                K.constant(df.loc['2019':'2021','ALT'])))"
   ]
  },
  {
   "cell_type": "code",
   "execution_count": null,
   "id": "399ad25f-738a-4a6d-b62b-c825bf86697d",
   "metadata": {
    "tags": []
   },
   "outputs": [],
   "source": [
    "#geocryoai(X_train)\n",
    "#img_file = '/Users/bradleygay/Downloads/model_arch.jpeg'\n",
    "img_file = '/Users/bradleygay/Downloads/GeoCryoAI_Arch_042423_insituALT_experimental.jpeg'\n",
    "tf.keras.utils.plot_model(model, to_file=img_file, show_shapes=True, show_layer_names=True, dpi=1000);"
   ]
  },
  {
   "cell_type": "code",
   "execution_count": null,
   "id": "eb833f83-16b7-4f54-b591-b102f9a1f280",
   "metadata": {
    "tags": []
   },
   "outputs": [],
   "source": [
    "insitumodule=model"
   ]
  },
  {
   "cell_type": "code",
   "execution_count": null,
   "id": "4edfcb80-4072-4d7e-b55c-96a81eaa3f85",
   "metadata": {
    "tags": []
   },
   "outputs": [],
   "source": [
    "inputs"
   ]
  },
  {
   "cell_type": "code",
   "execution_count": null,
   "id": "81d645b4-cc33-4ed9-ac8b-0e162e9dc5d1",
   "metadata": {
    "tags": []
   },
   "outputs": [],
   "source": [
    "X_train_reframed.shape, y_train_reframed.shape"
   ]
  },
  {
   "cell_type": "code",
   "execution_count": null,
   "id": "4a26a00f-8a74-4701-8e64-7c5d75ef31c4",
   "metadata": {
    "tags": []
   },
   "outputs": [],
   "source": [
    "#batch size\n",
    "#available GPU memory bytes / 4 / (size of tensors + trainable parameters)\n",
    "#16000 / 4 / (12 + 1)\n",
    "#~256"
   ]
  },
  {
   "cell_type": "code",
   "execution_count": null,
   "id": "6e168a26-2ee6-461d-ae11-bdfaaccc6d7a",
   "metadata": {
    "tags": []
   },
   "outputs": [],
   "source": [
    "# from tensorflow.keras.models import Sequential, model_from_json\n",
    "# json_file = open('model_lstmsae_042323_insituALT.json', 'r')\n",
    "# loaded_model_json = json_file.read()\n",
    "# json_file.close()\n",
    "# loaded_model = model_from_json(loaded_model_json)\n",
    "# # load weights into new model\n",
    "# loaded_model.load_weights(\"model_lstmsae_042323_insituALT.h5\")\n",
    "# print(\"Loaded model from disk\")"
   ]
  },
  {
   "cell_type": "code",
   "execution_count": null,
   "id": "076a2038-8158-4ae9-96f4-71b871498c6d",
   "metadata": {},
   "outputs": [],
   "source": [
    "# with open('trainHistoryDictALT', \"rb\") as file_pi:\n",
    "#     history = pickle.load(file_pi)"
   ]
  },
  {
   "cell_type": "code",
   "execution_count": null,
   "id": "0a50f54b-0179-487a-9254-7daeb8046936",
   "metadata": {
    "tags": []
   },
   "outputs": [],
   "source": [
    "# early stopping implementation\n",
    "filepath=\"weights_bilstmsae_ALT.best_042423_experimental.hdf5\"\n",
    "tensorboard_cb = keras.callbacks.TensorBoard(run_logdir)\n",
    "checkpoint = keras.callbacks.ModelCheckpoint(filepath, monitor='val_loss', verbose=1, save_best_only=True, mode='min')\n",
    "early_stop = keras.callbacks.EarlyStopping(monitor='val_loss', patience=10, mode='min') #patience=200, mode='min') \n",
    "callbacks_list = [tensorboard_cb, checkpoint, early_stop]\n",
    "\n",
    "history=insitumodule.fit(X_train_reframed, y_train_reframed, validation_data=(X_valid_reframed, y_valid_reframed), epochs=10, batch_size=256, verbose=1, \\\n",
    "                         shuffle=False, callbacks=callbacks_list)"
   ]
  },
  {
   "cell_type": "code",
   "execution_count": null,
   "id": "386eee6d-fabb-455b-b257-e7beb4821e31",
   "metadata": {
    "tags": []
   },
   "outputs": [],
   "source": [
    "# serialize model to JSON\n",
    "model_json = insitumodule.to_json()\n",
    "with open(\"model_bilstmsae_042423_insituALT_experimental.json\", \"w\") as json_file:\n",
    "    json_file.write(model_json)\n",
    "# serialize weights to HDF5\n",
    "model.save_weights(\"model_bilstmsae_042423_insituALT_experimental.h5\")\n",
    "print(\"Saved model to disk\")"
   ]
  },
  {
   "cell_type": "code",
   "execution_count": null,
   "id": "736108a4-431f-4922-b20d-f66c95f60ae1",
   "metadata": {
    "tags": []
   },
   "outputs": [],
   "source": [
    "fig,ax = plt.subplots(figsize=(10,6), dpi=1000)\n",
    "ln1=ax.plot(history.history['loss'], color='magenta', linestyle='solid', label='Loss (MSE)')\n",
    "ln2=ax.plot(history.history['val_loss'], color='dodgerblue', linestyle='solid', label='Val Loss (MSE)')\n",
    "ln3=ax.plot(history.history['mean_absolute_error'], color='springgreen', linestyle='dotted', label='MAE')\n",
    "#ln4=ax.plot(history.history['mean_squared_error'], color='springgreen', linestyle='dashed', label='Seward Peninsula')\n",
    "ln4=ax.plot(history.history['root_mean_squared_error'], color='springgreen', linestyle='dashed', label='RMSE')\n",
    "ln5=ax.plot(history.history['val_mean_absolute_error'], color='red', linestyle='dotted', label='Val MAE')\n",
    "#ln7=ax.plot(history.history['val_mean_squared_error'], color='red', linestyle='dashed', label='Seward Peninsula')\n",
    "ln6=ax.plot(history.history['val_root_mean_squared_error'], color='red', linestyle='dashed', label='Val RMSE')\n",
    "#ln2=ax.plot(sib.iloc[2:,7].replace(-9999,np.nan).dropna()color='springgreen', linestyle='dashed', label='Interior')\n",
    "#ln3=ax.plot(sib.iloc[2:,16].replace(-9999,np.nan).dropna(), color='magenta', linestyle='dotted', label='Seward Peninsula')\n",
    "#ln4=ax.plot(sib.iloc[2:,39].replace(-9999,np.nan).dropna(), color='dodgerblue', linestyle='dotted', label='Yukon-Kuskokwim Delta')\n",
    "#ax2=ax.twinx();\n",
    "#ln4=ax2.plot(validPredict, color='coral', linestyle='dotted')\n",
    "\n",
    "lines = ln1 + ln2 + ln3 + ln4 + ln5 + ln6# + ln7 + ln8\n",
    "labs = [line.get_label() for line in lines];\n",
    "plt.legend(lines, labs, loc='lower left', fontsize=8)\n",
    "\n",
    "ax.grid(linewidth=0.3);\n",
    "ax.set_xlabel('Epochs', labelpad=10, fontsize=16);\n",
    "ax.set_ylabel('Loss (cm)', labelpad=10, fontsize=16)\n",
    "#ax.set(xticklabels=[])  # remove the tick labels\n",
    "ax.tick_params(left=False)  # remove the ticks\n",
    "#plt.ylabel('Active Layer Thickness (cm)')\n",
    "plt.title('GeoCryoAI In Situ Module | Bidirectional LSTM Autoencoder Loss Function \\n In Situ Thaw Depth Simulations (1969-2022)', pad=10)\n",
    "#plt.xlabel('Year')\n",
    "#plt.axis([0, 6, 0, 60])\n",
    "#plt.legend(loc='best')\n",
    "plt.show()\n",
    "#plt.savefig('/Users/bradleygay/Downloads/bilstmae_insitu_ALT_loss.png',dpi=1000)"
   ]
  },
  {
   "cell_type": "code",
   "execution_count": null,
   "id": "9706d513-5891-4aa4-9439-e74182906533",
   "metadata": {
    "tags": []
   },
   "outputs": [],
   "source": [
    "# convert the history.history dict to a pandas DataFrame:     \n",
    "hist_df = pd.DataFrame(history.history) \n",
    "\n",
    "# save to json:  \n",
    "hist_json_file = 'historyALT_experimental.json' \n",
    "with open(hist_json_file, mode='w') as f:\n",
    "    hist_df.to_json(f)\n",
    "\n",
    "# or save to csv: \n",
    "hist_csv_file = 'historyALT_experimental.csv'\n",
    "with open(hist_csv_file, mode='w') as f:\n",
    "    hist_df.to_csv(f)"
   ]
  },
  {
   "cell_type": "code",
   "execution_count": null,
   "id": "3fea5ad5-e976-494f-849b-b1bf02219ee7",
   "metadata": {
    "tags": []
   },
   "outputs": [],
   "source": [
    "with open('trainHistoryDictALT_experimental', 'wb') as file_pi:\n",
    "    pickle.dump(history.history, file_pi)"
   ]
  },
  {
   "cell_type": "code",
   "execution_count": null,
   "id": "c0adc172-1db0-4774-a185-41a8d0d73b70",
   "metadata": {
    "tags": []
   },
   "outputs": [],
   "source": [
    "# from statsmodels.tsa.stattools import adfuller\n",
    "# adfuller(np.array(y_test_reframed_sup).reshape(860536,))"
   ]
  },
  {
   "cell_type": "code",
   "execution_count": null,
   "id": "3934bb89-4280-4f2e-8758-8593f4e3a138",
   "metadata": {
    "tags": []
   },
   "outputs": [],
   "source": [
    "#Z=X_train_reshaped.reshape(1772957,285)"
   ]
  },
  {
   "cell_type": "code",
   "execution_count": null,
   "id": "bc836c2f-961c-412e-9d95-8540a3025dbc",
   "metadata": {
    "tags": []
   },
   "outputs": [],
   "source": [
    "# #Spatial Autocorrelation\n",
    "\n",
    "# # Use your matrix here, instead of this random one\n",
    "# #Z = np.random.rand(200,150)\n",
    "\n",
    "# # Create the matrix of weigthts \n",
    "# w = lat2W(Z.shape[0], Z.shape[1])\n",
    "\n",
    "# # Create the pysal Moran object \n",
    "# mi = Moran(Z, w)\n",
    "\n",
    "# # Verify Moran's I results \n",
    "# print(mi.I) \n",
    "# print(mi.p_norm)"
   ]
  },
  {
   "cell_type": "code",
   "execution_count": null,
   "id": "05e307df-ebb5-422a-ad9f-cc8a04dbdf9a",
   "metadata": {
    "tags": []
   },
   "outputs": [],
   "source": [
    "%load_ext tensorboard\n",
    "%tensorboard --logdir /tmp/tb_logs"
   ]
  },
  {
   "cell_type": "code",
   "execution_count": null,
   "id": "b4433275-1ddf-451e-bed7-546f5c779f9d",
   "metadata": {},
   "outputs": [],
   "source": []
  },
  {
   "cell_type": "markdown",
   "id": "e48dfa0d-d2fa-4ec4-a952-cb142d24bf22",
   "metadata": {
    "jp-MarkdownHeadingCollapsed": true,
    "tags": []
   },
   "source": [
    "# Forecast"
   ]
  },
  {
   "cell_type": "code",
   "execution_count": null,
   "id": "907017c3-bf0a-4786-b4c5-42c7a9adf40f",
   "metadata": {
    "tags": []
   },
   "outputs": [],
   "source": [
    "#X_test_reframed_sup.shape\n",
    "#Xscaler.inverse_transform(X_test_reframed_sup)\n",
    "#X_test_reframed_sup.reshape(\n",
    "#215134*376#80890384\n",
    "#80890384/94#860536.0\n",
    "#Xscaler.inverse_transform(X_test_reframed_sup.reshape(860536,94))"
   ]
  },
  {
   "cell_type": "code",
   "execution_count": null,
   "id": "7ca28e5a-316e-467a-ab40-6f1192078a32",
   "metadata": {
    "tags": []
   },
   "outputs": [],
   "source": [
    "#X_train_reframed_sup.shape\n",
    "#1772957*376#666631832\n",
    "#666631832/94#7091828.0\n",
    "#Xscaler.inverse_transform(X_train_reframed_sup.reshape(7091828,94))"
   ]
  },
  {
   "cell_type": "code",
   "execution_count": null,
   "id": "8ffd467f-e842-4ea4-a3e2-d9ea68dcfff4",
   "metadata": {
    "tags": []
   },
   "outputs": [],
   "source": [
    "#X_valid_reframed_sup.shape\n",
    "#453141*376#170381016\n",
    "#170381016/94#1812564.0\n",
    "#Xscaler.inverse_transform(X_valid_reframed_sup.reshape(1812564,94))"
   ]
  },
  {
   "cell_type": "code",
   "execution_count": null,
   "id": "a47e8525-0bb9-48c4-ad69-9a8c0e4a0cc5",
   "metadata": {
    "tags": []
   },
   "outputs": [],
   "source": [
    "score_experimental = model.evaluate(X_test_reframed, y_test_reframed, verbose = 1) "
   ]
  },
  {
   "cell_type": "code",
   "execution_count": null,
   "id": "14819564-0812-4bf4-b72c-54fbbaaafe6d",
   "metadata": {
    "tags": []
   },
   "outputs": [],
   "source": [
    "print('Test MAE:', score_experimental[1])\n",
    "print('Test MSE:', score_experimental[2])\n",
    "print('Test RMSE:', score_experimental[3])"
   ]
  },
  {
   "cell_type": "code",
   "execution_count": null,
   "id": "f022d497-37f1-41bb-a05d-2769dce3284a",
   "metadata": {
    "tags": []
   },
   "outputs": [],
   "source": [
    "predict_experimental = model.predict(X_test_reframed, verbose = 1)"
   ]
  },
  {
   "cell_type": "code",
   "execution_count": null,
   "id": "bdee0f86-8c5d-4452-8ee5-779394eb4f40",
   "metadata": {
    "tags": []
   },
   "outputs": [],
   "source": [
    "predict_experimental.shape, X_test_reframed.shape"
   ]
  },
  {
   "cell_type": "code",
   "execution_count": null,
   "id": "0400bee0-236f-44c4-a8c0-2d22dd54513b",
   "metadata": {
    "tags": []
   },
   "outputs": [],
   "source": [
    "predict_experimental=yscaler.inverse_transform(predict_experimental.reshape(215137,1))"
   ]
  },
  {
   "cell_type": "code",
   "execution_count": null,
   "id": "9c6756da-a974-47b8-ae3f-afd9ab6fd59e",
   "metadata": {
    "tags": []
   },
   "outputs": [],
   "source": [
    "X_t_experimental=Xscaler.inverse_transform(X_test_reframed.reshape(215137,286))"
   ]
  },
  {
   "cell_type": "code",
   "execution_count": null,
   "id": "7fe77a95-d48e-4965-95c0-3e8e39686237",
   "metadata": {
    "tags": []
   },
   "outputs": [],
   "source": [
    "yhat_experimental=np.concatenate((X_t_experimental,predict_experimental),axis=1)"
   ]
  },
  {
   "cell_type": "code",
   "execution_count": null,
   "id": "0b90af7f-98c6-46a3-8a0d-3050d6b49545",
   "metadata": {
    "tags": []
   },
   "outputs": [],
   "source": [
    "#np.concatenate(X_train_reframed.reshape(7574,299))\n",
    "plt.plot(yscaler.inverse_transform(y_test_reframed.reshape(215137,1)))\n",
    "plt.plot(predict_experimental)\n",
    "#plt.plot(yhat.reshape(423000,1))\n",
    "#plt.axis([0,1450,0,2])\n",
    "plt.show()"
   ]
  },
  {
   "cell_type": "code",
   "execution_count": null,
   "id": "5fc0446c-126f-4cb1-b6a4-e16159ce4143",
   "metadata": {
    "tags": []
   },
   "outputs": [],
   "source": [
    "#y_test_reframed.shape\n",
    "np.sqrt(mean_squared_error(y_test_reframed.reshape(215137,1),predict_experimental))"
   ]
  },
  {
   "cell_type": "code",
   "execution_count": null,
   "id": "ac5842b2-2b53-4989-86fa-365fcf176cef",
   "metadata": {
    "tags": []
   },
   "outputs": [],
   "source": [
    "mean_absolute_percentage_error(y_test_reframed.reshape(215137,1),predict_experimental)"
   ]
  },
  {
   "cell_type": "code",
   "execution_count": null,
   "id": "dae72834-b34d-4f68-9af8-b5ab40c6862e",
   "metadata": {
    "tags": []
   },
   "outputs": [],
   "source": [
    "r2_score(y_test_reframed.reshape(215137,1),predict_experimental)"
   ]
  },
  {
   "cell_type": "code",
   "execution_count": null,
   "id": "ba8937b3-8a94-4b12-b2de-b4349aee513c",
   "metadata": {},
   "outputs": [],
   "source": []
  },
  {
   "cell_type": "code",
   "execution_count": null,
   "id": "51844c32-1fd4-49fc-92d6-962ecc5bb3b8",
   "metadata": {
    "tags": []
   },
   "outputs": [],
   "source": [
    "plt.plot(y_test_reframed.reshape(215137,1))\n",
    "plt.plot(predict_experimental.reshape(215137,1))\n",
    "#plt.axis([0, 80000, -5, 5])\n",
    "plt.show()"
   ]
  },
  {
   "cell_type": "code",
   "execution_count": null,
   "id": "b0e7e60e-ccf5-4098-ae48-69b0105b482c",
   "metadata": {
    "tags": []
   },
   "outputs": [],
   "source": [
    "fig,ax = plt.subplots(figsize=(10,6), dpi=1000)\n",
    "ln1=ax.plot(history.history['loss'], color='magenta', linestyle='solid', label='Loss (MSE)')\n",
    "ln2=ax.plot(history.history['val_loss'], color='dodgerblue', linestyle='solid', label='Val Loss (MSE)')\n",
    "ln3=ax.plot(history.history['mean_absolute_error'], color='springgreen', linestyle='dotted', label='MAE')\n",
    "#ln4=ax.plot(history.history['mean_squared_error'], color='springgreen', linestyle='dashed', label='Seward Peninsula')\n",
    "ln4=ax.plot(history.history['root_mean_squared_error'], color='springgreen', linestyle='dashed', label='RMSE')\n",
    "ln5=ax.plot(history.history['val_mean_absolute_error'], color='red', linestyle='dotted', label='Val MAE')\n",
    "#ln7=ax.plot(history.history['val_mean_squared_error'], color='red', linestyle='dashed', label='Seward Peninsula')\n",
    "ln6=ax.plot(history.history['val_root_mean_squared_error'], color='red', linestyle='dashed', label='Val RMSE')\n",
    "#ln2=ax.plot(sib.iloc[2:,7].replace(-9999,np.nan).dropna()color='springgreen', linestyle='dashed', label='Interior')\n",
    "#ln3=ax.plot(sib.iloc[2:,16].replace(-9999,np.nan).dropna(), color='magenta', linestyle='dotted', label='Seward Peninsula')\n",
    "#ln4=ax.plot(sib.iloc[2:,39].replace(-9999,np.nan).dropna(), color='dodgerblue', linestyle='dotted', label='Yukon-Kuskokwim Delta')\n",
    "#ax2=ax.twinx();\n",
    "#ln4=ax2.plot(validPredict, color='coral', linestyle='dotted')\n",
    "\n",
    "lines = ln1 + ln2 + ln3 + ln4 + ln5 + ln6# + ln7 + ln8\n",
    "labs = [line.get_label() for line in lines];\n",
    "plt.legend(lines, labs, loc='lower left', fontsize=8)\n",
    "\n",
    "ax.grid(linewidth=0.3);\n",
    "ax.set_xlabel('Epochs', labelpad=10, fontsize=16);\n",
    "ax.set_ylabel('Loss (cm)', labelpad=10, fontsize=16)\n",
    "#ax.set(xticklabels=[])  # remove the tick labels\n",
    "ax.tick_params(left=False)  # remove the ticks\n",
    "#plt.ylabel('Active Layer Thickness (cm)')\n",
    "plt.title('GeoCryoAI In Situ Module | Bidirectional LSTM Autoencoder Loss Function \\n In Situ Thaw Depth Simulations (1969-2022)', pad=10)\n",
    "#plt.xlabel('Year')\n",
    "#plt.axis([0, 6, 0, 60])\n",
    "#plt.legend(loc='best')\n",
    "#plt.show()\n",
    "plt.savefig('/Users/bradleygay/Downloads/bilstmae_insitu_ALT_loss.png',dpi=1000)"
   ]
  },
  {
   "cell_type": "code",
   "execution_count": null,
   "id": "83fe55d0-1ee2-47ae-a570-8aa6489df0ac",
   "metadata": {
    "tags": []
   },
   "outputs": [],
   "source": [
    "X_test_reframed.shape\n",
    "Xscaler.fit_transform(X_test_reframed.reshape(215137,285))"
   ]
  },
  {
   "cell_type": "code",
   "execution_count": null,
   "id": "80f6e7d5-aef0-4942-aa3b-f04d32d66f06",
   "metadata": {
    "tags": []
   },
   "outputs": [],
   "source": [
    "y_test_inv = Xscaler.inverse_transform(y_test_reframed_sup.reshape(860536,1))\n",
    "y_train_inv = Xscaler.inverse_transform(y_train_reframed_sup.reshape(7091828,1))\n",
    "y_valid_inv = Xscaler.inverse_transform(y_valid_reframed_sup.reshape(1812564,1))"
   ]
  },
  {
   "cell_type": "code",
   "execution_count": null,
   "id": "e95040f4-062e-486d-8990-c52c6b492f55",
   "metadata": {
    "tags": []
   },
   "outputs": [],
   "source": [
    "y_test_reframed_sup.shape, y_test_inv.shape, y_valid_inv.shape, y_train_inv.shape"
   ]
  },
  {
   "cell_type": "code",
   "execution_count": null,
   "id": "a919bed8-360b-40f2-8d4d-aa8f79a02cac",
   "metadata": {
    "tags": []
   },
   "outputs": [],
   "source": [
    "plt.plot(y_train_reframed_sup.reshape(7091828,1))\n",
    "plt.plot(y_valid_reframed_sup.reshape(1812564,1))\n",
    "plt.plot(y_test_reframed_sup.reshape(860536,1))\n",
    "plt.show()"
   ]
  },
  {
   "cell_type": "code",
   "execution_count": null,
   "id": "647622b2-ed57-4ed1-9200-fda6ff075ffb",
   "metadata": {
    "tags": []
   },
   "outputs": [],
   "source": [
    "plt.plot(y_train_inv)\n",
    "plt.plot(y_valid_inv)\n",
    "plt.plot(y_test_inv)\n",
    "plt.show()\n",
    "#plt.plot(y_test_reframed_sup.reshape(860536,1))"
   ]
  },
  {
   "cell_type": "code",
   "execution_count": null,
   "id": "e64007cf-8a46-4423-b168-0c610141b53b",
   "metadata": {
    "tags": []
   },
   "outputs": [],
   "source": [
    "prediction = model.predict(X_test_reshaped)"
   ]
  },
  {
   "cell_type": "code",
   "execution_count": null,
   "id": "eee8b60f-2112-48e3-a0c0-e2039f142bbe",
   "metadata": {
    "tags": []
   },
   "outputs": [],
   "source": [
    "prediction.shape"
   ]
  },
  {
   "cell_type": "code",
   "execution_count": null,
   "id": "4fe4dbc5-be03-4812-b5e6-8ef9f00e14b5",
   "metadata": {
    "tags": []
   },
   "outputs": [],
   "source": [
    "#prediction.shape\n",
    "#prediction = Xscaler.inverse_transform(prediction.reshape(215134,1))"
   ]
  },
  {
   "cell_type": "code",
   "execution_count": null,
   "id": "70674ca2-d6c2-48b1-81f5-9257d5f88eed",
   "metadata": {
    "tags": []
   },
   "outputs": [],
   "source": [
    "y_test_reshaped.shape"
   ]
  },
  {
   "cell_type": "code",
   "execution_count": null,
   "id": "a5a74ee7-c708-4b77-99a7-612c3a479333",
   "metadata": {
    "tags": []
   },
   "outputs": [],
   "source": [
    "plt.plot(scaler.inverse_transform(prediction.reshape(215137,1)))\n",
    "#plt.plot(y_test_reshaped.reshape(215137,1))"
   ]
  },
  {
   "cell_type": "code",
   "execution_count": null,
   "id": "84b90693-df87-44bb-bcd5-2f9064709bd2",
   "metadata": {
    "tags": []
   },
   "outputs": [],
   "source": [
    "def plot_results(, Y_predicted, title = \"Test Data and Predictions\", index = None):\n",
    "    if index is None:\n",
    "        index = range(0, Y_test.shape[0])\n",
    "    df_index = pd.DataFrame(data = index, index = range(0, Y_test.shape[0]))\n",
    "    df_index.columns = [\"user_index\"]  \n",
    "\n",
    "    shift = Y_test.shape[0] - Y_predicted.shape[0]\n",
    "\n",
    "    fig, axes = plt.subplots(figsize = (9, 6), sharex = True, nrows = Y_test.shape[1], squeeze = False)\n",
    "    \n",
    "    for target, ax in enumerate(axes.flat):\n",
    "        ax.step(df_index.values, Y_test[:,target], where = \"post\", label = \"Testing Set\", color = \"blue\")\n",
    "        ax.step(df_index.loc[shift:, \"user_index\"].values, Y_predicted[:,target], where = \"post\", \n",
    "                label = \"Predictions\", color = \"red\")\n",
    "    \n",
    "    plt.suptitle(title)\n",
    "    plt.legend()"
   ]
  },
  {
   "cell_type": "code",
   "execution_count": null,
   "id": "d93d524c-7986-4f35-969d-f5c800468514",
   "metadata": {},
   "outputs": [],
   "source": [
    "y_predict_reframed_sup=model.predict(X_test_reframed_sup, verbose = 1, use_multiprocessing = True)\n",
    "#y_predict_reframed_sup"
   ]
  },
  {
   "cell_type": "code",
   "execution_count": null,
   "id": "2066fa63-3cae-46cb-9abd-f89c323077d7",
   "metadata": {
    "tags": []
   },
   "outputs": [],
   "source": [
    "y_predict_reframed_sup.shape"
   ]
  },
  {
   "cell_type": "code",
   "execution_count": null,
   "id": "662abcc4-5530-4072-b38f-bd94ad90a71b",
   "metadata": {
    "tags": []
   },
   "outputs": [],
   "source": [
    "y_predict_reframed_sup=y_predict_reframed_sup.reshape(215134,1)"
   ]
  },
  {
   "cell_type": "code",
   "execution_count": null,
   "id": "80f0cc68-7f6e-4f58-850a-184dacaeebe9",
   "metadata": {
    "tags": []
   },
   "outputs": [],
   "source": [
    "y_predict_reframed_sup = Xscaler.inverse_transform(y_predict_reframed_sup)"
   ]
  },
  {
   "cell_type": "code",
   "execution_count": null,
   "id": "619f7836-b468-4142-a5d0-35e5d6386fe6",
   "metadata": {
    "tags": []
   },
   "outputs": [],
   "source": [
    "#plt.plot(y_test.values.reshape(215137,))\n",
    "plt.plot(y_predict_reframed_sup)"
   ]
  },
  {
   "cell_type": "code",
   "execution_count": null,
   "id": "28f4dfac-102c-49c4-bd94-f22eeef9a710",
   "metadata": {},
   "outputs": [],
   "source": [
    "# model_scores = model.evaluate(X_test_reframed_sup, y_test_reframed_sup.iloc[backward_steps:], batch_size = None, verbose = 1, \n",
    "#                               use_multiprocessing = True)\n",
    "# model_scores"
   ]
  },
  {
   "cell_type": "code",
   "execution_count": null,
   "id": "43d1b4a0-b78f-4c70-9bd1-57decaca1f5b",
   "metadata": {},
   "outputs": [],
   "source": [
    "Y_predicted_reframed = bayesian_best_model.predict(X_test_reframed,  batch_size = 384, verbose = 1, use_multiprocessing = True)\n",
    "\n",
    "Y_predicted_scaled = Y_predicted_reframed.reshape(Y_predicted_reframed.shape[0], Y_predicted_reframed.shape[1])\n",
    "\n",
    "Y_predicted = scaler_Y.inverse_transform(Y_predicted_scaled)"
   ]
  },
  {
   "cell_type": "code",
   "execution_count": null,
   "id": "02d0082f-0aa9-4915-9524-0be06240f184",
   "metadata": {
    "tags": []
   },
   "outputs": [],
   "source": [
    "def plot_results(y_test_reframed_sup, y_predict_reframed_sup, title = \"Test Data and Predictions\", index = None):\n",
    "    if index is None:\n",
    "        index = range(0, y_test_reframed_sup.shape[0])\n",
    "    df_index = pd.DataFrame(data = index, index = range(0, y_test_reframed_sup.shape[0]))\n",
    "    df_index.columns = [\"user_index\"]  \n",
    "\n",
    "    shift = y_test_reframed_sup.shape[0] - y_predict_reframed_sup.shape[0]\n",
    "\n",
    "    fig, axes = plt.subplots(figsize = (9, 6), sharex = True, nrows = y_test_reframed_sup.shape[1], squeeze = False)\n",
    "    \n",
    "    for target, ax in enumerate(axes.flat):\n",
    "        ax.step(df_index.values, y_test_reframed_sup[:,target], where = \"post\", label = \"Testing Set\", color = \"blue\")\n",
    "        ax.step(df_index.loc[shift:, \"user_index\"].values, y_predict_reframed_sup[:,target], where = \"post\", \n",
    "                label = \"Predictions\", color = \"red\")\n",
    "    \n",
    "    plt.suptitle(title)\n",
    "    plt.legend()"
   ]
  },
  {
   "cell_type": "code",
   "execution_count": null,
   "id": "170cd105-9e74-479f-b274-a0438d3d9a4e",
   "metadata": {
    "tags": []
   },
   "outputs": [],
   "source": [
    "pd.DataFrame(y_test_reframed_sup.reshape(215134,4)).index"
   ]
  },
  {
   "cell_type": "code",
   "execution_count": null,
   "id": "fd687ab4-a9e1-46b8-85e7-007763a9988a",
   "metadata": {
    "tags": []
   },
   "outputs": [],
   "source": [
    "plot_results(y_test_reframed_sup, y_predict_reframed_sup, \n",
    "             title = \"Active Layer Thickness /n Predictions v. Test Data \\n via 8-layer C1DLSTMSAE Network\")"
   ]
  },
  {
   "cell_type": "code",
   "execution_count": null,
   "id": "37798d15-ccdf-4cd5-b748-be2dbbb6de8c",
   "metadata": {},
   "outputs": [],
   "source": [
    "Y_predicted=Y_predicted.reshape(397492,)#;Y_test=Y_test.reshape(668168,)"
   ]
  },
  {
   "cell_type": "code",
   "execution_count": null,
   "id": "bd6ada55-b1c5-4989-b213-07eea091ba9c",
   "metadata": {},
   "outputs": [],
   "source": [
    "def qq_plot(Y_test, Y_predicted, title = \"Test Data and Predictions\", index = None):\n",
    "    if index is None:\n",
    "        index = range(0, Y_test.shape[0])\n",
    "    df_index = pd.DataFrame(data = index, index = range(0, Y_test.shape[0]))\n",
    "    df_index.columns = [\"user_index\"]  \n",
    "\n",
    "    shift = Y_test.shape[0] - Y_predicted.shape[0]\n",
    "\n",
    "    fig, axes = plt.subplots(figsize = (9, 6), sharex = True, nrows = Y_test.shape[1], squeeze = False)\n",
    "    \n",
    "    for target, ax in enumerate(axes.flat):\n",
    "        ax.scatter(Y_test[shift:,target], Y_predicted[:,target], label = \"Predictions\", color = \"red\", s = 5, \n",
    "                   alpha = 0.5)\n",
    "        ax.scatter(Y_test[:,target], Y_test[:,target], label = \"Testing Set\", color = \"blue\", s = 5)\n",
    "\n",
    "    plt.suptitle(title)\n",
    "    plt.legend()"
   ]
  },
  {
   "cell_type": "code",
   "execution_count": null,
   "id": "bdc79a97-a8b1-466f-a7a8-0409eae19795",
   "metadata": {},
   "outputs": [],
   "source": [
    "qq_plot(Y_test.values, Y_predicted_scaled, index = Y_test.index, \n",
    "        title = \"Active Layer Thickness /n Predictions v. Test Data via \\n 7-layer Sequential Time-Distributed C1DLSTMSAE Network\")"
   ]
  },
  {
   "cell_type": "code",
   "execution_count": null,
   "id": "65262414-caea-4379-8821-e3094fe6966e",
   "metadata": {},
   "outputs": [],
   "source": []
  },
  {
   "cell_type": "code",
   "execution_count": null,
   "id": "068405cf-e264-4a77-8a58-7d2e3ba8f770",
   "metadata": {},
   "outputs": [],
   "source": []
  },
  {
   "cell_type": "code",
   "execution_count": null,
   "id": "528aa361-0e17-4b81-ba51-206eccf9bfda",
   "metadata": {},
   "outputs": [],
   "source": [
    "Y_predicted_reframed = model.predict(X_test_reframed)\n",
    "Y_predicted = Y_predicted_reframed.reshape(Y_predicted_reframed.shape[0], Y_predicted_reframed.shape[1])"
   ]
  },
  {
   "cell_type": "code",
   "execution_count": null,
   "id": "8248b1e6-bb5d-4919-adc8-c07c0d6f9ea1",
   "metadata": {},
   "outputs": [],
   "source": [
    "import pandas as pd\n",
    "testim=pd.read_csv(r'/Users/bradleygay/test_store_ALT_2022.csv')"
   ]
  },
  {
   "cell_type": "code",
   "execution_count": null,
   "id": "730be922-54c8-466f-ba50-51986a372184",
   "metadata": {},
   "outputs": [],
   "source": [
    "testim.index=testim.iloc[:,0]"
   ]
  },
  {
   "cell_type": "code",
   "execution_count": null,
   "id": "48e203ba-4447-4746-8aa3-1a03a25d656b",
   "metadata": {},
   "outputs": [],
   "source": [
    "testim=testim.drop(testim.columns[0],axis=1)"
   ]
  },
  {
   "cell_type": "code",
   "execution_count": null,
   "id": "0bcce6f3-445b-4817-973f-bfefc047fd5e",
   "metadata": {},
   "outputs": [],
   "source": [
    "testim.index.name = None"
   ]
  },
  {
   "cell_type": "code",
   "execution_count": null,
   "id": "9fe94bcb-a33b-46dc-aafe-aa32231e4e22",
   "metadata": {},
   "outputs": [],
   "source": [
    "#testim.index=pd.to_datetime(testim.index, format='%Y')"
   ]
  },
  {
   "cell_type": "code",
   "execution_count": null,
   "id": "960825a8-c7bf-49dd-b30d-52797e576756",
   "metadata": {},
   "outputs": [],
   "source": [
    "testim=testim.sort_index()"
   ]
  },
  {
   "cell_type": "code",
   "execution_count": null,
   "id": "1dd0af5c-fc5f-4d0f-a8cf-f1d4e1788d06",
   "metadata": {},
   "outputs": [],
   "source": [
    "testim.index = pd.to_datetime(testim.index)"
   ]
  },
  {
   "cell_type": "code",
   "execution_count": null,
   "id": "82652914-5332-495b-a82f-813d6946f904",
   "metadata": {},
   "outputs": [],
   "source": [
    "testim"
   ]
  },
  {
   "cell_type": "code",
   "execution_count": null,
   "id": "ec80b350-c276-4950-b2b2-f9427dd5cf9d",
   "metadata": {},
   "outputs": [],
   "source": [
    "plt.plot(scaler_Y.inverse_transform(testim))"
   ]
  },
  {
   "cell_type": "code",
   "execution_count": null,
   "id": "ff699cd4-e264-4260-8782-670005cb513f",
   "metadata": {},
   "outputs": [],
   "source": [
    "plot_results(scaler_Y.inverse_transform(Y_test.values), scaler_Y.inverse_transform(Y_predicted),\n",
    "             index = Y_test.index, title = \"Active Layer Thickness - Predicteed v. Test Data\")"
   ]
  },
  {
   "cell_type": "code",
   "execution_count": null,
   "id": "37041884-8063-4f19-bcf4-1b18ef41a352",
   "metadata": {},
   "outputs": [],
   "source": [
    "test_scores = model.evaluate(X_test_reframed, Y_test[backward_steps:],\n",
    "                                           batch_size=hp[\"batch_size\"], use_multiprocessing=True,)"
   ]
  },
  {
   "cell_type": "code",
   "execution_count": null,
   "id": "da3491da-1e57-4cfb-a960-ed713c2fecd9",
   "metadata": {},
   "outputs": [],
   "source": [
    "def metrics_print(test_data,test_predict):\n",
    "    print('Test RMSE: ', round(np.sqrt(sklearn.metrics.mean_squared_error(test_data, test_predict)), 2))\n",
    "    print('Test R^2 : ', round((sklearn.metrics.r2_score(test_data, test_predict)*100), 2) ,\"%\")\n",
    "    print('Test MAPE: ', round(sklearn.metrics.mean_absolute_percentage_error(test_data, test_predict)*100,2), '%')"
   ]
  },
  {
   "cell_type": "code",
   "execution_count": null,
   "id": "38bacb58-683b-4c66-84d3-2526f85a83af",
   "metadata": {},
   "outputs": [],
   "source": [
    "print(\"##************** Linear Regression Results **************##\")\n",
    "metrics_print(prediction_df['Observed'], prediction_df['LR'])\n",
    "print(\" \")\n",
    "print(\" \")\n",
    "\n",
    "print(\"##************** Deep Learning Results **************##\")\n",
    "metrics_print(prediction_df['Observed'], prediction_df['DNN'])\n",
    "print(\" \")\n",
    "print(\" \")"
   ]
  },
  {
   "cell_type": "code",
   "execution_count": null,
   "id": "c757ea54-16b1-43bf-8512-f0c3c75bb1e0",
   "metadata": {},
   "outputs": [],
   "source": [
    "fa = plt.figure(figsize=(16,5))\n",
    "plt.subplot(1,2,1)\n",
    "plt.scatter(prediction_df['Observed'],prediction_df['LR'])\n",
    "plt.xlabel('True Values [snow_depth]', fontsize=15)\n",
    "plt.ylabel('Predictions [snow_depth]', fontsize=15)\n",
    "plt.title(\"Linear Regression\")\n",
    "\n",
    "\n",
    "plt.subplot(1,2,2)\n",
    "plt.scatter(prediction_df['Observed'],prediction_df['DNN'])\n",
    "plt.xlabel('True Values [snow_depth]', fontsize=15)\n",
    "plt.ylabel('Predictions [snow_depth]', fontsize=15)\n",
    "plt.title(\"Deep Neural Network\")"
   ]
  },
  {
   "cell_type": "code",
   "execution_count": null,
   "id": "b07ec522-6a4f-4e19-9c68-9fe455ccb933",
   "metadata": {},
   "outputs": [],
   "source": [
    "LR_error = prediction_df['Observed'] - prediction_df['LR']\n",
    "DNN_error = prediction_df['Observed'] - prediction_df['DNN']\n",
    "\n",
    "fa = plt.figure(figsize=(16,5))\n",
    "\n",
    "plt.subplot(1,2,1)\n",
    "LR_error.hist()\n",
    "plt.xlabel('Error', fontsize=15)\n",
    "plt.ylabel('Frequency', fontsize=15)\n",
    "plt.title(\"Linear Regression\")\n",
    "\n",
    "plt.subplot(1,2,2)\n",
    "DNN_error.hist()\n",
    "plt.xlabel('Error', fontsize=15)\n",
    "plt.ylabel('Frequency', fontsize=15)\n",
    "plt.title(\"Deep Neural Network\")"
   ]
  },
  {
   "cell_type": "code",
   "execution_count": null,
   "id": "18356969-63a4-43b6-ac86-9e32a05730ae",
   "metadata": {},
   "outputs": [],
   "source": [
    "network.save('DNN')\n",
    "\n",
    "## To load model, use;\n",
    "model = tf.keras.models.load_model('DNN')"
   ]
  },
  {
   "cell_type": "code",
   "execution_count": null,
   "id": "fa2e36fd-bc82-4ff9-8960-846818831621",
   "metadata": {},
   "outputs": [],
   "source": [
    "model.evaluate(X_test_reframed, Y_test.iloc[backward_steps:], batch_size = None, verbose = 1, use_multiprocessing = True)"
   ]
  },
  {
   "cell_type": "code",
   "execution_count": null,
   "id": "88ae0fd1-cb0b-4a4b-a46f-feebc4642886",
   "metadata": {},
   "outputs": [],
   "source": [
    "def estimate_hyperband_load(max_epochs, factor, hyperband_iterations = 1, sec_per_epoch = None):\n",
    "    total_epochs = round(hyperband_iterations * max_epochs * (math.log(max_epochs, factor) ** 2))\n",
    "    estimate_runtime = \"Unknown, provide sec_per_epoch to compute.\"\n",
    "    if not sec_per_epoch == None:\n",
    "        estimate_runtime = str(timedelta(seconds = round(sec_per_epoch * total_epochs)))\n",
    "    return total_epochs, estimate_runtime"
   ]
  },
  {
   "cell_type": "code",
   "execution_count": null,
   "id": "4817ed31-c40b-4d56-aeb0-9e8824b84042",
   "metadata": {},
   "outputs": [],
   "source": [
    "estimate_hyperband_load(300, 10, sec_per_epoch = elapsed_time/len(history.history[\"val_loss\"]))"
   ]
  },
  {
   "cell_type": "code",
   "execution_count": null,
   "id": "e0ef56d9-9994-4d19-b30d-053827d9e2b3",
   "metadata": {},
   "outputs": [],
   "source": [
    "hyperband_tuner = Hyperband(custom_HyperModel(),\n",
    "                    hyperparameters = hp,\n",
    "                    objective = \"val_loss\", \n",
    "                    project_name =\"time_hyperband_LSTM_tuning\",\n",
    "                    max_epochs = 300, #maximum number of epochs to train one model\n",
    "                    hyperband_iterations = 1,  #the number of times to iterate over the full Hyperband algorithm\n",
    "                    factor = 10, # changed from 3 to 10\n",
    "                    directory = main_dir,\n",
    "                    #distribution_strategy = tf.distribute.MirroredStrategy([\"/cpu:0\",\"/cpu:1\", \"/cpu:2\", \"/cpu:3\"]),\n",
    "                    tuner_id = \"Hyperband\",\n",
    "                    overwrite = True, \n",
    "                    )"
   ]
  },
  {
   "cell_type": "code",
   "execution_count": null,
   "id": "ed0fe1e2-6abd-492d-b17b-424660f6a87b",
   "metadata": {},
   "outputs": [],
   "source": [
    "# perform hyperparameters tuning\n",
    "hyperband_tuner.search(X_train_reframed, \n",
    "                         Y_train, \n",
    "                         steps_per_epoch = None, \n",
    "                         shuffle = False, \n",
    "                         validation_split = 0.20, \n",
    "                         verbose = 1, #\n",
    "                         callbacks = [early_stopping, \n",
    "                                      History(), \n",
    "                                    TerminateOnNaN()], \n",
    "                         use_multiprocessing = True, \n",
    "                        )"
   ]
  },
  {
   "cell_type": "code",
   "execution_count": null,
   "id": "5f777420-3c3a-4522-9d2c-96c78ea885eb",
   "metadata": {},
   "outputs": [],
   "source": [
    "hyperband_best_hps = hyperband_tuner.get_best_hyperparameters()[0]\n",
    "hyperband_best_model = hyperband_tuner.hypermodel.build(hyperband_best_hps)"
   ]
  },
  {
   "cell_type": "code",
   "execution_count": null,
   "id": "e396e9b3-28a8-4f8a-9adc-e40c42d04f69",
   "metadata": {},
   "outputs": [],
   "source": []
  },
  {
   "cell_type": "code",
   "execution_count": null,
   "id": "005ab012-a32c-4329-8cd6-e19a5354cb25",
   "metadata": {},
   "outputs": [],
   "source": [
    "hyperband_best_hps.values"
   ]
  },
  {
   "cell_type": "code",
   "execution_count": null,
   "id": "67cf954f-55c9-4601-b50e-639bd43822d3",
   "metadata": {},
   "outputs": [],
   "source": [
    "hyperband_best_model.fit(X_train_reframed, Y_train[1:], \n",
    "                           epochs = 300,     \n",
    "                           shuffle = False,\n",
    "                           steps_per_epoch = None,\n",
    "                           validation_split = 0,\n",
    "                           batch_size = hyperband_best_hps[\"batch_size\"],\n",
    "                           callbacks = [EarlyStopping(monitor='loss', verbose = 0, patience = 3, min_delta = 1e-3, restore_best_weights = True), \n",
    "                                          History(), TerminateOnNaN()],\n",
    "                           verbose = 1,\n",
    "                           use_multiprocessing = True\n",
    "                          )"
   ]
  },
  {
   "cell_type": "code",
   "execution_count": null,
   "id": "d12fd898-f240-4514-9c1d-2e1b52cc161e",
   "metadata": {},
   "outputs": [],
   "source": [
    "Y_predicted_reframed = hyperband_best_model.predict(X_test_reframed)\n",
    "\n",
    "Y_predicted = Y_predicted_reframed.reshape(Y_predicted_reframed.shape[0], Y_predicted_reframed.shape[1])"
   ]
  },
  {
   "cell_type": "code",
   "execution_count": null,
   "id": "33a4a2ea-cea4-4976-bab1-1c5450db2143",
   "metadata": {},
   "outputs": [],
   "source": [
    "plot_results(scaler_Y.inverse_transform(Y_test.values), scaler_Y.inverse_transform(Y_predicted),\n",
    "             index = Y_test.index, title = \"Pollution - predicted vs test data\")"
   ]
  },
  {
   "cell_type": "code",
   "execution_count": null,
   "id": "ec60be67-a06f-4dac-b573-a1347e761e67",
   "metadata": {},
   "outputs": [],
   "source": [
    "hyperband_test_scores = hyperband_best_model.evaluate(X_test_reframed, Y_test[backward_steps:], batch_size=hyperband_best_hps[\"batch_size\"], \n",
    "                                    use_multiprocessing=True,\n",
    "                                 )\n",
    "hyperband_test_scores"
   ]
  },
  {
   "cell_type": "code",
   "execution_count": null,
   "id": "31292a5f-a4ac-4e41-8bcb-d7bd488d5c5c",
   "metadata": {},
   "outputs": [],
   "source": [
    "from sklearn.metrics import r2_score\n",
    "r2_score(Y_test[backward_steps:], Y_predicted)"
   ]
  },
  {
   "cell_type": "code",
   "execution_count": null,
   "id": "e24cfa05-a780-4ccc-8700-4a9504495cf2",
   "metadata": {},
   "outputs": [],
   "source": [
    "hyperband_best_model.save(\"best_model_with_hyperband\")"
   ]
  },
  {
   "cell_type": "code",
   "execution_count": null,
   "id": "9347fe9b-543a-46b3-bd7a-5bfdfaddbf06",
   "metadata": {},
   "outputs": [],
   "source": [
    "tf.keras.models.load_model(\"best_model_with_hyperband\")"
   ]
  },
  {
   "cell_type": "code",
   "execution_count": null,
   "id": "f65ee8de-76f0-48f6-acf8-21b4e586f3a9",
   "metadata": {},
   "outputs": [],
   "source": []
  },
  {
   "cell_type": "code",
   "execution_count": null,
   "id": "847d076e-138c-466b-94b5-457e3edb54ac",
   "metadata": {
    "tags": []
   },
   "outputs": [],
   "source": [
    "################################################\n",
    "################################################"
   ]
  },
  {
   "cell_type": "code",
   "execution_count": null,
   "id": "e6a2fb9a-50da-46cd-9a4c-7d22dddb7116",
   "metadata": {
    "tags": []
   },
   "outputs": [],
   "source": [
    "from sklearn.model_selection import KFold\n",
    "scores=[]\n",
    "kFold=KFold(n_splits=5,shuffle=False)\n",
    "for train_index,test_index in kFold.split(X):\n",
    "    print(\"Train Index: \", train_index, \"\\n\")\n",
    "    print(\"Test Index: \", test_index)"
   ]
  },
  {
   "cell_type": "code",
   "execution_count": null,
   "id": "d77d5cf1-30f9-4d3f-8798-34dbc0e34a54",
   "metadata": {
    "tags": []
   },
   "outputs": [],
   "source": [
    "legacy"
   ]
  },
  {
   "cell_type": "code",
   "execution_count": null,
   "id": "6960c0cd-3a82-4523-beb3-98d0d75a6969",
   "metadata": {
    "tags": []
   },
   "outputs": [],
   "source": [
    "import plotly.express as px\n",
    "fig = px.parallel_coordinates(df, color=\"species_id\",\n",
    "                              dimensions=['sepal_width', 'sepal_length', 'petal_width',\n",
    "                                          'petal_length'],\n",
    "                              color_continuous_scale=px.colors.diverging.Tealrose,\n",
    "                              color_continuous_midpoint=2)\n",
    "fig.show()"
   ]
  },
  {
   "cell_type": "code",
   "execution_count": null,
   "id": "2e86daf3-36aa-43c3-aa67-3145849623f0",
   "metadata": {},
   "outputs": [],
   "source": [
    "print(list(divisorGenerator(132*8*8291)))"
   ]
  },
  {
   "cell_type": "code",
   "execution_count": null,
   "id": "01a9eb7d-2399-4841-b8de-33e5a7d44168",
   "metadata": {
    "tags": []
   },
   "outputs": [],
   "source": [
    "initinputs=Xtrainsc_sup.values.reshape(8291, 53, 94, 20, 1)#15,30,7129,154,1)"
   ]
  },
  {
   "cell_type": "code",
   "execution_count": null,
   "id": "f7efcea0-578c-4872-9c91-6102120ac43b",
   "metadata": {
    "tags": []
   },
   "outputs": [],
   "source": [
    "initinputs.shape"
   ]
  },
  {
   "cell_type": "code",
   "execution_count": null,
   "id": "7966e7ff-5a7e-440a-b9c8-aab7a5e68f7f",
   "metadata": {
    "tags": []
   },
   "outputs": [],
   "source": [
    "inputs = keras.Input(shape=(initinputs.shape[0], initinputs.shape[1],initinputs.shape[2], initinputs.shape[3], \n",
    "                            initinputs.shape[4]))"
   ]
  },
  {
   "cell_type": "code",
   "execution_count": null,
   "id": "32d066ad-9165-4c96-b35b-5c1a024ca4e2",
   "metadata": {
    "tags": []
   },
   "outputs": [],
   "source": [
    "#keras.Input(shape=(inputs.shape[0],inputs.shape[1], inputs.shape[2],inputs.shape[3], inputs.shape[4]))#, df2.shape[5]))\n",
    "inputs"
   ]
  },
  {
   "cell_type": "code",
   "execution_count": null,
   "id": "7da3befb-63cc-4e19-9a2c-b11f289612d9",
   "metadata": {
    "tags": []
   },
   "outputs": [],
   "source": [
    "# model.layers[0].input_shape"
   ]
  },
  {
   "cell_type": "code",
   "execution_count": null,
   "id": "f156cc9e-9352-4903-b8fa-807782e07586",
   "metadata": {
    "tags": []
   },
   "outputs": [],
   "source": [
    "#########If data_format='channels_first' 6D tensor with shape: (samples, time, channels, rows, cols, depth)\n",
    "#Input shape:\n",
    "#If data_format='channels_last' 5D tensor with shape: (samples <inputs takes care of batch_size for us with None>, \n",
    "#time, rows, cols, depth, channels)"
   ]
  },
  {
   "cell_type": "markdown",
   "id": "8faabc2e-b8b9-40a2-ba0d-c33ef3809200",
   "metadata": {},
   "source": [
    "None, 382, None, 552, 4, 6, 128 </br>\n",
    "timestep, width, height, number ofthe spectral band, kernel size and depth"
   ]
  },
  {
   "cell_type": "code",
   "execution_count": null,
   "id": "49b51ce7-723e-42d6-b74c-8468902a409b",
   "metadata": {
    "tags": []
   },
   "outputs": [],
   "source": [
    "model = tf.keras.Sequential()\n",
    "model.add(ConvLSTM3D(filters=30, \n",
    "                     kernel_size=(3, 3, 3), \n",
    "                     strides=(1,1,1),\n",
    "                     activation='relu', \n",
    "                     return_sequences=True,\n",
    "                     padding='same',\n",
    "                     data_format='channels_last',\n",
    "                     input_shape=(inputs.shape[1], inputs.shape[2], inputs.shape[3], inputs.shape[4], inputs.shape[5])))\n",
    "#model.add(MaxPooling3D(pool_size=(2, 2, 2)))\n",
    "model.add(layers.TimeDistributed(layers.MaxPooling3D(pool_size=(2,2,2))))\n",
    "model.add(BatchNormalization())\n",
    "model.add(Dropout(0.2))\n",
    "model.add(ConvLSTM3D(filters=16, \n",
    "                     kernel_size=(3, 3, 3), \n",
    "                     strides=(1,1,1),\n",
    "                     activation='relu', \n",
    "                     return_sequences=True,\n",
    "                     padding='same'))\n",
    "                     #data_format='channels_last'))\n",
    "                     #input_shape=(inputs.shape[0], inputs.shape[2], inputs.shape[3], inputs.shape[4], inputs.shape[5])))\n",
    "model.add(layers.TimeDistributed(layers.MaxPooling3D(pool_size=(2,2,2))))\n",
    "model.add(BatchNormalization())\n",
    "model.add(Dropout(0.2))\n",
    "model.add(ConvLSTM3D(filters=16, \n",
    "                     kernel_size=(3, 3, 3), \n",
    "                     strides=(1,1,1),\n",
    "                     activation='relu', \n",
    "                     return_sequences=True,\n",
    "                     padding='same'))\n",
    "                     #data_format='channels_last'))\n",
    "model.add(layers.TimeDistributed(layers.MaxPooling3D(pool_size=(2,2,2))))\n",
    "model.add(BatchNormalization())\n",
    "model.add(Dropout(0.2))\n",
    "model.add(ConvLSTM3D(filters=8, \n",
    "                     kernel_size=(1, 1, 128), \n",
    "                     strides=(1,1,1),\n",
    "                     activation='relu', \n",
    "                     return_sequences=True,\n",
    "                     padding='same'))\n",
    "                     #data_format='channels_last'))\n",
    "#model.add(MaxPooling3D(pool_size=(2, 2, 2)))\n",
    "model.add(layers.TimeDistributed(layers.MaxPooling3D(pool_size=(1,1,1))))\n",
    "model.add(BatchNormalization())\n",
    "model.add(Dropout(0.2))\n",
    "model.add(Reshape((45, 8291, 19, 8), input_shape=(8291, 6, 11, 2, 8)))\n",
    "model.add(Conv3DTranspose(8, (4, 4, 4), strides=(2,2,2), padding='same'))\n",
    "model.add(Conv3DTranspose(16, (4, 4, 4), strides=(2,2,2), padding='same'))\n",
    "model.add(Conv3DTranspose(16, (4, 4, 4), strides=(2,2,2), padding='same'))\n",
    "model.add(Conv3DTranspose(32, (4, 4, 4), strides=(2,2,2), padding='same'))\n",
    "model.add(TimeDistributed(Dense(1)))\n",
    "model.add(Flatten())\n",
    "# model.add(TimeDistributed(Dense(y_train[0])))\n",
    "# model.add(Dense(x_train.shape[1]))\n",
    "model.compile(loss='categorical_crossentropy',\n",
    "              optimizer=keras.optimizers.Adam(learning_rate=0.0001),\n",
    "              metrics=['accuracy'])\n",
    "model.summary()\n"
   ]
  },
  {
   "cell_type": "code",
   "execution_count": null,
   "id": "a47a0836-b8fd-4c6c-87a7-fccd37d0e9f1",
   "metadata": {
    "tags": []
   },
   "outputs": [],
   "source": []
  },
  {
   "cell_type": "code",
   "execution_count": null,
   "id": "b9eda9d3-7441-4d0d-ac0c-e72376a7363c",
   "metadata": {
    "tags": []
   },
   "outputs": [],
   "source": [
    "#geocryoai(X_train)\n",
    "#img_file = '/Users/bradleygay/Downloads/model_arch.jpeg'\n",
    "img_file = '/Users/bradleygay/Downloads/GeoCryoAI_Arch_042123.jpeg'\n",
    "tf.keras.utils.plot_model(model, to_file=img_file, show_shapes=True, show_layer_names=True, dpi=1000)"
   ]
  },
  {
   "cell_type": "code",
   "execution_count": null,
   "id": "48d79e8c-6204-4e62-beee-a886bf1e6f39",
   "metadata": {
    "tags": []
   },
   "outputs": [],
   "source": [
    "#like a sore thumb"
   ]
  },
  {
   "cell_type": "code",
   "execution_count": null,
   "id": "11a50e36-cc47-464b-89bb-5cd4d1e7112f",
   "metadata": {
    "tags": []
   },
   "outputs": [],
   "source": [
    "#realsc=realsc.reshape(239,37,425,1,744)"
   ]
  },
  {
   "cell_type": "code",
   "execution_count": null,
   "id": "fff435f7-ebfe-4dcc-86a3-b8de4b871fd3",
   "metadata": {
    "tags": []
   },
   "outputs": [],
   "source": [
    "model.layers[0].input_shape"
   ]
  },
  {
   "cell_type": "code",
   "execution_count": null,
   "id": "fd12fce5-8e54-45f9-800d-f37cd2cf7bc0",
   "metadata": {
    "tags": []
   },
   "outputs": [],
   "source": [
    "model.layers[0].output_shape"
   ]
  },
  {
   "cell_type": "code",
   "execution_count": null,
   "id": "a3450ca9-031e-45bf-9ac1-4ad870bf29f0",
   "metadata": {
    "tags": []
   },
   "outputs": [],
   "source": [
    "inputs.shape"
   ]
  },
  {
   "cell_type": "code",
   "execution_count": null,
   "id": "b07da212-004b-4202-80b6-071d6be9b713",
   "metadata": {
    "tags": []
   },
   "outputs": [],
   "source": []
  },
  {
   "cell_type": "code",
   "execution_count": null,
   "id": "7b1fc220-ec3b-4293-b82c-35e3a987958d",
   "metadata": {
    "tags": []
   },
   "outputs": [],
   "source": [
    "print(list(divisorGenerator(450)))"
   ]
  },
  {
   "cell_type": "code",
   "execution_count": null,
   "id": "8ec89a73-742e-4337-9917-35840c40e247",
   "metadata": {
    "tags": []
   },
   "outputs": [],
   "source": [
    "outinputs=initinputs.reshape(15,30,7129, 154,1)"
   ]
  },
  {
   "cell_type": "code",
   "execution_count": null,
   "id": "e5d0a5ab-101e-4262-b235-81f69d382ae2",
   "metadata": {
    "tags": []
   },
   "outputs": [],
   "source": [
    "#outinputs.flatten().reshape(10,45,7129,154,1)\n",
    "outinputs=outinputs.reshape(15, 30, 7129, 154, 1)"
   ]
  },
  {
   "cell_type": "code",
   "execution_count": null,
   "id": "bd8d7f2f-e81d-4db4-b380-eb74ced7f03c",
   "metadata": {
    "tags": []
   },
   "outputs": [],
   "source": [
    "from sklearn.model_selection import train_test_split\n",
    "\n",
    "# Separate the test data\n",
    "x, x_test, y, y_test = train_test_split(outinputs, list(range(outinputs.shape[0])), test_size=0.1, shuffle=False)\n",
    "\n",
    "# Split the remaining data to train and validation\n",
    "x_train, x_val, y_train, y_val = train_test_split(x, y, test_size=0.2, shuffle=False)"
   ]
  },
  {
   "cell_type": "code",
   "execution_count": null,
   "id": "81e847bb-c66c-4d29-86a6-eeb225f2d80d",
   "metadata": {
    "tags": []
   },
   "outputs": [],
   "source": [
    "X_train, X_test, y_train, y_test = train_test_split(x, y, test_size=0.3, shuffle=False)"
   ]
  },
  {
   "cell_type": "code",
   "execution_count": null,
   "id": "1ba86bb9-b89e-40f7-bb8b-4d69648509b7",
   "metadata": {
    "tags": []
   },
   "outputs": [],
   "source": [
    "X_train.shape, x_test.shape"
   ]
  },
  {
   "cell_type": "code",
   "execution_count": null,
   "id": "6b5cff87-0bc4-4226-8ab7-e747e2e0f7a7",
   "metadata": {
    "tags": []
   },
   "outputs": [],
   "source": []
  },
  {
   "cell_type": "code",
   "execution_count": null,
   "id": "556b3ef1-869c-494e-8e20-4821d87acc81",
   "metadata": {
    "tags": []
   },
   "outputs": [],
   "source": [
    "x_train=x_train.reshape(10, 10, 30,7129,154,1)\n",
    "x_val=x_val.reshape(3, 10, 30, 7129,154,1)\n",
    "x_test=x_test.reshape(2, 30,7129,154,1)"
   ]
  },
  {
   "cell_type": "code",
   "execution_count": null,
   "id": "017fdd71-4781-4645-bda7-f09a2daca5f5",
   "metadata": {},
   "outputs": [],
   "source": [
    "# x_train=x_train.reshape(1,324,7129,154,1,1)\n",
    "# x_val=x_val.reshape(27,3,7129,154,1,1)\n",
    "# x_test=x_test.reshape(15,3,7129,154,1,1)"
   ]
  },
  {
   "cell_type": "code",
   "execution_count": null,
   "id": "93dc6aac-3d6a-4874-b80c-02c0b8f3bc77",
   "metadata": {
    "tags": []
   },
   "outputs": [],
   "source": [
    "y_train=np.asarray(y_train).reshape(1,10)\n",
    "y_val=np.asarray(y_val).reshape(1,3)\n",
    "y_test=np.asarray(y_test).reshape(1,2)"
   ]
  },
  {
   "cell_type": "code",
   "execution_count": null,
   "id": "f280afc2-786a-4d59-ae51-d194b3a737fb",
   "metadata": {
    "tags": []
   },
   "outputs": [],
   "source": [
    "y_train.shape"
   ]
  },
  {
   "cell_type": "code",
   "execution_count": null,
   "id": "6008f82a-d117-4892-b49c-d587491ca149",
   "metadata": {
    "tags": []
   },
   "outputs": [],
   "source": [
    "model.layers[0].input_shape"
   ]
  },
  {
   "cell_type": "code",
   "execution_count": null,
   "id": "60184a17-af73-4f5c-be9e-5735f8004596",
   "metadata": {
    "tags": []
   },
   "outputs": [],
   "source": [
    "# inputs2 = keras.Input(shape=(x_train.shape[0], x_train.shape[1],x_train.shape[2], x_train.shape[3], x_train.shape[4]))\n",
    "# inputs3 = keras.Input(shape=(x_val.shape[0], x_val.shape[1],x_val.shape[2], x_val.shape[3], x_val.shape[4]))\n",
    "# inputs3y = keras.Input(shape=(yv[0],yv[1],yv[2]))\n",
    "# inputs4 = keras.Input(shape=(x_test.shape[0], x_test.shape[1],x_test.shape[2], x_test.shape[3], x_test.shape[4]))"
   ]
  },
  {
   "cell_type": "code",
   "execution_count": null,
   "id": "58529794-cea0-40a2-a505-bbdf6463b14c",
   "metadata": {
    "tags": []
   },
   "outputs": [],
   "source": [
    "x_traint=tf.convert_to_tensor(x_train)\n",
    "y_traint=tf.convert_to_tensor(y_train)\n",
    "x_valt=tf.convert_to_tensor(x_val)\n",
    "y_valt=tf.convert_to_tensor(y_val)\n",
    "x_testt=tf.convert_to_tensor(x_test)\n",
    "x_testt=tf.convert_to_tensor(x_test)"
   ]
  },
  {
   "cell_type": "code",
   "execution_count": null,
   "id": "cab7d3e2-b681-407a-b16c-bb002c392c21",
   "metadata": {
    "tags": []
   },
   "outputs": [],
   "source": [
    "x_traint.shape, y_traint.shape, x_valt.shape, x_testt.shape"
   ]
  },
  {
   "cell_type": "code",
   "execution_count": null,
   "id": "61a5f6ba-ba8a-4d05-9cb7-d546c02dc2e5",
   "metadata": {
    "tags": []
   },
   "outputs": [],
   "source": [
    "#model's first layer is looking for this shape: (None, 1, 450, 7129, 154, 1)\n",
    "# x_traint.shape"
   ]
  },
  {
   "cell_type": "code",
   "execution_count": null,
   "id": "66c460d1-5249-48a1-b8ab-70c04501bb5b",
   "metadata": {},
   "outputs": [],
   "source": [
    "# Fit data to model\n",
    "history = model.fit(x,y,\n",
    "            batch_size=256,\n",
    "            epochs=10,\n",
    "            verbose=1,\n",
    "            validation_data=(x_valt,y_valt))"
   ]
  },
  {
   "cell_type": "code",
   "execution_count": null,
   "id": "f97a71ac-ded8-4dd8-a0d4-f175bff1e314",
   "metadata": {},
   "outputs": [],
   "source": [
    "import rioxarray # for the extension to load\n",
    "import xarray\n",
    "\n",
    "%matplotlib inline"
   ]
  },
  {
   "cell_type": "code",
   "execution_count": null,
   "id": "700cb4b7-b418-4ff0-adb7-601642bc6786",
   "metadata": {},
   "outputs": [],
   "source": [
    "x=xarray.open_dataarray(rast)"
   ]
  },
  {
   "cell_type": "code",
   "execution_count": null,
   "id": "42d2f73e-6ef8-44a0-aa85-e118f8213cec",
   "metadata": {},
   "outputs": [],
   "source": [
    "#Scandinavian Bliss"
   ]
  },
  {
   "cell_type": "code",
   "execution_count": null,
   "id": "dbc79251-c5d3-4d85-9521-318e7f8029a6",
   "metadata": {
    "tags": []
   },
   "outputs": [],
   "source": [
    "unw_tns.plot()"
   ]
  },
  {
   "cell_type": "code",
   "execution_count": null,
   "id": "2c06ec41-c85c-4e83-98ec-fc40ccbf264e",
   "metadata": {},
   "outputs": [],
   "source": []
  },
  {
   "cell_type": "markdown",
   "id": "daa9bb8d-c25f-4cd8-9894-60d1325004a3",
   "metadata": {
    "jp-MarkdownHeadingCollapsed": true,
    "tags": []
   },
   "source": [
    "# Exploratory"
   ]
  },
  {
   "cell_type": "code",
   "execution_count": null,
   "id": "fa419cda-8acd-40fc-8c5d-b33d2eb72160",
   "metadata": {
    "tags": []
   },
   "outputs": [],
   "source": [
    "X=df.loc[:,df.columns!='ALT']; y=df.loc[:,df.columns=='ALT']"
   ]
  },
  {
   "cell_type": "code",
   "execution_count": null,
   "id": "5d7af9ed-1391-497b-878f-c40a55f01a40",
   "metadata": {
    "tags": []
   },
   "outputs": [],
   "source": [
    "import shap"
   ]
  },
  {
   "cell_type": "code",
   "execution_count": null,
   "id": "860bc0de-c8b8-4be2-a9c7-d156e1cadb27",
   "metadata": {
    "tags": []
   },
   "outputs": [],
   "source": [
    "def f(X):\n",
    "    return regression.predict([X[:,i] for i in range(X.shape[1])]).flatten()"
   ]
  },
  {
   "cell_type": "code",
   "execution_count": null,
   "id": "f5c5fa13-aae9-48ea-9234-b77a40c3c6f1",
   "metadata": {
    "tags": []
   },
   "outputs": [],
   "source": [
    "Xtrain, Xtest, ytrain, ytest = train_test_split(X, y, test_size=0.1, random_state=1)\n",
    "Xtrain, Xvalid, ytrain, yvalid = train_test_split(Xtrain, ytrain, test_size=0.05, random_state=1) # 0.25 x 0.8 = 0.2"
   ]
  },
  {
   "cell_type": "code",
   "execution_count": null,
   "id": "f0f8e378-0514-4e0c-abd7-2d90d7261a54",
   "metadata": {
    "tags": []
   },
   "outputs": [],
   "source": [
    "# #CO2 (defined based on CO2 temporal coverage (5-years lag, 3-years lead)\n",
    "# features=df.loc[:,df.columns != 'CO2_1_1_1']; target=df.loc[:,df.columns == 'CO2_1_1_1']\n",
    "# Xtrain=features.loc['2003':'2018']; ytrain=target.loc['2003':'2018'] #use for training\n",
    "# Xvalid=features.loc['2019':'2020']; yvalid=target.loc['2019':'2020'] #use for validation\n",
    "# Xtest=features.loc['2020':'2021']; ytest=target.loc['2020':'2021'] #use for testing"
   ]
  },
  {
   "cell_type": "code",
   "execution_count": null,
   "id": "25a15879-e993-44b1-906d-3360a62bbf42",
   "metadata": {
    "tags": []
   },
   "outputs": [],
   "source": [
    "# #CH4 (defined based on CH4 temporal coverage (5-years lag, 3-years lead)\n",
    "# features=df.loc[:,df.columns != 'CH4_1_1_1']; target=df.loc[:,df.columns == 'CH4_1_1_1'] \n",
    "# Xtrain=features.loc['2003':'2018']; ytrain=target.loc['2003':'2018'] #use for training\n",
    "# Xvalid=features.loc['2019':'2020']; yvalid=target.loc['2019':'2020'] #use for validation\n",
    "# Xtest=features.loc['2019':'2021']; ytest=target.loc['2019':'2021'] #use for testing"
   ]
  },
  {
   "cell_type": "code",
   "execution_count": null,
   "id": "8fcfe151-54a8-4c1d-b8ed-7412cd6b2ac2",
   "metadata": {
    "tags": []
   },
   "outputs": [],
   "source": [
    "#newXt=Xtrain.values.reshape(34764,51,90)"
   ]
  },
  {
   "cell_type": "code",
   "execution_count": null,
   "id": "0a7db7a0-43e0-4f6e-bcf2-8d646733a891",
   "metadata": {
    "tags": []
   },
   "outputs": [],
   "source": [
    "#Xtrain.loc[:,'CO2_1_1_1'].replace(-9999,np.nan).dropna() #2003-2018\n",
    "#Xtrain.loc[:,'CH4_1_1_1'].replace(-9999,np.nan).dropna() #2003-2018, 2019-2020, 2021\n",
    "#ytrain.loc['2003':'2021','ALT'].replace(-9999,np.nan).dropna() #2003-2021=62078\n",
    "\n",
    "#df.loc['2003':'2021','ALT'].replace(-9999,np.nan).dropna() #2003-2021=78861\n",
    "#78861*.8 #63089"
   ]
  },
  {
   "cell_type": "code",
   "execution_count": null,
   "id": "41116a46-f408-4eae-ba30-bee9309a0a99",
   "metadata": {
    "tags": []
   },
   "outputs": [],
   "source": [
    "#ytrain.replace(-9999,np.nan).dropna()"
   ]
  },
  {
   "cell_type": "code",
   "execution_count": null,
   "id": "c1d60c27-e793-4fd9-aea9-229f6386c9a7",
   "metadata": {},
   "outputs": [],
   "source": [
    "#X_train, X_test, y_train, y_test = train_test_split(features, y, test_size=0.3, shuffle=False)"
   ]
  },
  {
   "cell_type": "code",
   "execution_count": null,
   "id": "bff01d9c-27f7-4516-93c6-72845f92c5ff",
   "metadata": {
    "tags": []
   },
   "outputs": [],
   "source": [
    "df"
   ]
  },
  {
   "cell_type": "code",
   "execution_count": null,
   "id": "4cfca6ac-f15d-467c-9277-2c4a8cf7974b",
   "metadata": {
    "tags": []
   },
   "outputs": [],
   "source": [
    "Xtrain.shape, ytrain.shape, \\\n",
    "Xvalid.shape, yvalid.shape, \\\n",
    "Xtest.shape, ytest.shape"
   ]
  },
  {
   "cell_type": "code",
   "execution_count": null,
   "id": "15cdb2ae-2bdd-4afa-a8d6-ab95feedb3fc",
   "metadata": {
    "tags": []
   },
   "outputs": [],
   "source": [
    "Xscaler=StandardScaler()\n",
    "yscaler=StandardScaler()\n",
    "Xtrainsc=Xscaler.fit_transform(Xtrain)\n",
    "ytrainsc=yscaler.fit_transform(ytrain)\n",
    "Xvalidsc=Xscaler.transform(Xvalid)\n",
    "yvalidsc=yscaler.transform(yvalid)\n",
    "Xtestsc=Xscaler.transform(Xtest)\n",
    "ytestsc=yscaler.transform(ytest)"
   ]
  },
  {
   "cell_type": "code",
   "execution_count": null,
   "id": "e2bf78c0-5077-482e-b01c-10b9dfef5ef9",
   "metadata": {
    "tags": []
   },
   "outputs": [],
   "source": [
    "def series_to_supervised(data, lags = 1, forecasting_steps = 1, dropna=True):\n",
    "    n_vars = 1 if type(data) is list else data.shape[1]\n",
    "    df = pd.DataFrame(data)\n",
    "    cols, names = list(), list()\n",
    "    for i in range(lags, 0, -1):\n",
    "        cols.append(df.shift(i))\n",
    "        names += [(df.columns[j], str('t-%d') %  i) for j in range(n_vars)]\n",
    "    for a in range(0, forecasting_steps):\n",
    "        cols.append(df.shift(-a))\n",
    "        if a == 0:\n",
    "            names += [(df.columns[b], str('t')) for b in range(n_vars)]\n",
    "        else:\n",
    "            names += [(df.columns[b], str('t+%d') %  a) for b in range(n_vars)]\n",
    "    agg = pd.concat(cols, axis=1)\n",
    "    agg.columns = names\n",
    "    agg = agg.loc[:,~agg.columns.duplicated()]\n",
    "    if dropna:\n",
    "        agg.dropna(inplace=True)\n",
    "    return agg"
   ]
  },
  {
   "cell_type": "code",
   "execution_count": null,
   "id": "8d9301d3-7a8b-4dd3-ab47-9cfda9b860b1",
   "metadata": {
    "tags": []
   },
   "outputs": [],
   "source": [
    "Xtrainsc_sup=series_to_supervised(Xtrainsc,lags=3, forecasting_steps=2, dropna=True)"
   ]
  },
  {
   "cell_type": "code",
   "execution_count": null,
   "id": "0357037f-0f7a-40e3-b6b2-385201fe94f4",
   "metadata": {
    "tags": []
   },
   "outputs": [],
   "source": [
    "ytrainsc_sup=series_to_supervised(ytrainsc,lags=3, forecasting_steps=2,dropna=True)"
   ]
  },
  {
   "cell_type": "code",
   "execution_count": null,
   "id": "56113ca7-3457-401b-afdf-c00ba725aa8e",
   "metadata": {
    "tags": []
   },
   "outputs": [],
   "source": [
    "Xvalidsc_sup=series_to_supervised(Xvalidsc,lags=3, forecasting_steps=2,dropna=True)"
   ]
  },
  {
   "cell_type": "code",
   "execution_count": null,
   "id": "da767ccb-226d-40f9-b0fc-475c72b8b169",
   "metadata": {
    "tags": []
   },
   "outputs": [],
   "source": [
    "yvalidsc_sup=series_to_supervised(yvalidsc,lags=3, forecasting_steps=2,dropna=True)"
   ]
  },
  {
   "cell_type": "code",
   "execution_count": null,
   "id": "0fe9b2e2-0a4a-4101-a63b-a735f7e31e72",
   "metadata": {
    "tags": []
   },
   "outputs": [],
   "source": [
    "Xtestsc_sup=series_to_supervised(Xtestsc,lags=3, forecasting_steps=2,dropna=True)"
   ]
  },
  {
   "cell_type": "code",
   "execution_count": null,
   "id": "97625922-e5cb-4b03-b492-c737539b51c8",
   "metadata": {},
   "outputs": [],
   "source": [
    "ytestsc_sup=series_to_supervised(ytestsc,lags=3, forecasting_steps=2,dropna=True)"
   ]
  },
  {
   "cell_type": "code",
   "execution_count": null,
   "id": "5faf8c2f-b7bb-4bb1-b831-9133f4d0824d",
   "metadata": {
    "tags": []
   },
   "outputs": [],
   "source": [
    "Xtrainsc_sup.shape, ytrainsc_sup.shape, \\\n",
    "Xvalidsc_sup.shape, yvalidsc_sup.shape, \\\n",
    "Xtestsc_sup.shape, ytestsc_sup.shape"
   ]
  },
  {
   "cell_type": "code",
   "execution_count": null,
   "id": "e00f59d6-e42f-4a14-8012-2ff441c45cc7",
   "metadata": {
    "tags": []
   },
   "outputs": [],
   "source": [
    "print(list(divisorGenerator(8788460)))"
   ]
  },
  {
   "cell_type": "code",
   "execution_count": null,
   "id": "de579b5f-984f-4953-9c93-eb4e8f1aea8a",
   "metadata": {
    "tags": []
   },
   "outputs": [],
   "source": [
    "Xtrainsc_sup.values.reshape(33164,53,5,94);"
   ]
  },
  {
   "cell_type": "code",
   "execution_count": null,
   "id": "87b45967-1293-4bd7-9dfa-8f7ee1d545b2",
   "metadata": {
    "tags": []
   },
   "outputs": [],
   "source": [
    "Xtrainsc_sup=Xtrainsc_sup.values.reshape(56,31660,450);\n",
    "ytrainsc_sup=ytrainsc_sup.values.reshape(56,31660,5);\n",
    "Xvalidsc_sup=Xvalidsc_sup.values.reshape(13,34857,450);\n",
    "yvalidsc_sup=yvalidsc_sup.values.reshape(13,34857,5);\n",
    "Xtestsc_sup=Xtestsc_sup.values.reshape(3,71711,450);\n",
    "ytestsc_sup=ytestsc_sup.values.reshape(3,71711,5)"
   ]
  },
  {
   "cell_type": "code",
   "execution_count": null,
   "id": "f7986c94-745b-43d2-9ffc-8fc954895b29",
   "metadata": {
    "tags": []
   },
   "outputs": [],
   "source": [
    "Xtrainsc_sup.shape, ytrainsc_sup.shape, \\\n",
    "Xvalidsc_sup.shape, yvalidsc_sup.shape, \\\n",
    "Xtestsc_sup.shape, ytestsc_sup.shape"
   ]
  },
  {
   "cell_type": "code",
   "execution_count": null,
   "id": "09af9e44-e7f4-4e6e-acc2-9b45f106a19e",
   "metadata": {
    "tags": []
   },
   "outputs": [],
   "source": [
    "backend.clear_session()"
   ]
  },
  {
   "cell_type": "code",
   "execution_count": null,
   "id": "1b503648-eeb6-42c0-962f-ab3910f8a414",
   "metadata": {
    "tags": []
   },
   "outputs": [],
   "source": [
    "print(Xtrain.shape)\n",
    "print(Xtrainsc.shape)\n",
    "print(Xtrainsc_sup.shape)\n",
    "print('///')\n",
    "print(ytrain.shape)\n",
    "print(ytrainsc.shape)\n",
    "print(ytrainsc_sup.shape)\n",
    "print('///')\n",
    "print(Xvalid.shape)\n",
    "print(Xvalidsc.shape)\n",
    "print(Xvalidsc_sup.shape)\n",
    "print('///')\n",
    "print(yvalid.shape)\n",
    "print(yvalidsc.shape)\n",
    "print(yvalidsc_sup.shape)\n",
    "print('///')\n",
    "print(Xtest.shape)\n",
    "print(Xtestsc.shape)\n",
    "print(Xtestsc_sup.shape)\n",
    "print('///')\n",
    "print(ytest.shape)\n",
    "print(ytestsc.shape)\n",
    "print(ytestsc_sup.shape)\n",
    "#df_trainsc.shape, df_Xtrainsc.shape, df_ytrainsc.shape, df_Xtrainsc_s2s.shape"
   ]
  },
  {
   "cell_type": "code",
   "execution_count": null,
   "id": "94872433-1699-48bd-9ab2-edd2904ecd27",
   "metadata": {
    "tags": []
   },
   "outputs": [],
   "source": [
    "# filepatha = Path('/Users/bradleygay/Downloads/CH4_X_trainsc.pkl')\n",
    "# filepathb = Path('/Users/bradleygay/Downloads/CH4_y_trainsc.pkl')\n",
    "# filepathc = Path('/Users/bradleygay/Downloads/CH4_X_testsc.pkl')\n",
    "# filepathd = Path('/Users/bradleygay/Downloads/CH4_y_testsc.pkl')\n",
    "# with open(filepatha, 'wb') as f:\n",
    "#     pickle.dump(X_trainsc, f)\n",
    "# with open(filepathb, 'wb') as f:\n",
    "#     pickle.dump(y_trainsc, f)\n",
    "# with open(filepathc, 'wb') as f:\n",
    "#     pickle.dump(X_testsc, f)\n",
    "# with open(filepathd, 'wb') as f:\n",
    "#     pickle.dump(y_testsc, f)"
   ]
  },
  {
   "cell_type": "code",
   "execution_count": null,
   "id": "09381e6a-502e-4f6d-a398-e23865846967",
   "metadata": {
    "tags": []
   },
   "outputs": [],
   "source": [
    "# filepatha = Path('/Users/bradleygay/Downloads/CO2_X_trainsc.pkl')\n",
    "# filepathb = Path('/Users/bradleygay/Downloads/CO2_y_trainsc.pkl')\n",
    "# filepathc = Path('/Users/bradleygay/Downloads/CO2_X_testsc.pkl')\n",
    "# filepathd = Path('/Users/bradleygay/Downloads/CO2_y_testsc.pkl')\n",
    "# with open(filepatha, 'wb') as f:\n",
    "#     pickle.dump(X_trainsc, f)\n",
    "# with open(filepathb, 'wb') as f:\n",
    "#     pickle.dump(y_trainsc, f)\n",
    "# with open(filepathc, 'wb') as f:\n",
    "#     pickle.dump(X_testsc, f)\n",
    "# with open(filepathd, 'wb') as f:\n",
    "#     pickle.dump(y_testsc, f)"
   ]
  },
  {
   "cell_type": "code",
   "execution_count": null,
   "id": "10ac2262-a069-4935-97b0-4252b251f548",
   "metadata": {
    "tags": []
   },
   "outputs": [],
   "source": [
    "Xtrainsc_sup.shape, type(Xtrainsc_sup), ytrainsc_sup.shape, type(ytrainsc_sup), \\\n",
    "df.shape, type(df)"
   ]
  },
  {
   "cell_type": "code",
   "execution_count": null,
   "id": "b9e85600-4a85-4850-a86b-9f58cadbc560",
   "metadata": {},
   "outputs": [],
   "source": [
    "#TNS\n",
    "#68.6068, -149.2958\n",
    "#68.6058, -149.3110\n",
    "#INT\n",
    "#63.8784, -149.2536\n",
    "#63.8757, -149.2133\n",
    "#SEW\n",
    "#64.8618, -163.7002\n",
    "#YKD\n",
    "#61.2548, -163.2590\n",
    "#61.2723, -163.2228"
   ]
  },
  {
   "cell_type": "code",
   "execution_count": null,
   "id": "f55efc88-418a-4727-bb34-71a51d6cc084",
   "metadata": {
    "tags": []
   },
   "outputs": [],
   "source": [
    "#ALT\n",
    "Xtrainsc_sup.shape, ytrainsc_sup.shape, df.shape"
   ]
  }
 ],
 "metadata": {
  "kernelspec": {
   "display_name": "Python 3 (ipykernel)",
   "language": "python",
   "name": "python3"
  },
  "language_info": {
   "codemirror_mode": {
    "name": "ipython",
    "version": 3
   },
   "file_extension": ".py",
   "mimetype": "text/x-python",
   "name": "python",
   "nbconvert_exporter": "python",
   "pygments_lexer": "ipython3",
   "version": "3.10.8"
  }
 },
 "nbformat": 4,
 "nbformat_minor": 5
}
